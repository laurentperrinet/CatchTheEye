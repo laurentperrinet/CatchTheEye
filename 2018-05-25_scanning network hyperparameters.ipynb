{
 "cells": [
  {
   "cell_type": "code",
   "execution_count": 1,
   "metadata": {
    "ExecuteTime": {
     "end_time": "2018-07-18T06:16:30.418779Z",
     "start_time": "2018-07-18T06:16:30.393629Z"
    }
   },
   "outputs": [],
   "source": [
    "%load_ext autoreload\n",
    "%autoreload 2"
   ]
  },
  {
   "cell_type": "raw",
   "metadata": {},
   "source": [
    " import time\n",
    "time.sleep(8*3600)"
   ]
  },
  {
   "cell_type": "markdown",
   "metadata": {},
   "source": [
    "## scanning parameters"
   ]
  },
  {
   "cell_type": "code",
   "execution_count": 2,
   "metadata": {
    "ExecuteTime": {
     "end_time": "2018-07-19T17:48:57.809079Z",
     "start_time": "2018-07-18T06:16:30.421644Z"
    },
    "scrolled": false
   },
   "outputs": [
    {
     "name": "stdout",
     "output_type": "stream",
     "text": [
      "scanning over conv1_kernel_sizes [3, 5, 5, 7, 9, 11, 15, 19, 27]\n"
     ]
    },
    {
     "name": "stderr",
     "output_type": "stream",
     "text": [
      "/usr/local/lib/python3.6/site-packages/torch/nn/functional.py:52: UserWarning: size_average and reduce args will be deprecated, please use reduction='sum' instead.\n",
      "  warnings.warn(warning.format(ret))\n"
     ]
    },
    {
     "name": "stdout",
     "output_type": "stream",
     "text": [
      "For conv1_kernel_size= 3 , Accuracy= 0.950  in  573.177 seconds\n",
      "For conv1_kernel_size= 5 , Accuracy= 0.943  in  1262.814 seconds\n",
      "For conv1_kernel_size= 5 , Accuracy= 0.943  in  1282.002 seconds\n",
      "For conv1_kernel_size= 7 , Accuracy= 0.962  in  2070.655 seconds\n",
      "For conv1_kernel_size= 9 , Accuracy= 0.969  in  3184.316 seconds\n",
      "For conv1_kernel_size= 11 , Accuracy= 0.950  in  4444.580 seconds\n",
      "For conv1_kernel_size= 15 , Accuracy= 0.962  in  7875.822 seconds\n",
      "For conv1_kernel_size= 19 , Accuracy= 0.943  in  11876.156 seconds\n",
      "For conv1_kernel_size= 27 , Accuracy= 0.975  in  17258.277 seconds\n",
      "scanning over conv1_kernel_sizes [3, 5, 5, 7, 9, 11, 15, 19, 27]\n",
      "For conv2_kernel_size= 3 , Accuracy= 0.950  in  1482.947 seconds\n",
      "For conv2_kernel_size= 3 , Accuracy= 0.950  in  1525.267 seconds\n",
      "For conv2_kernel_size= 5 , Accuracy= 0.962  in  1687.765 seconds\n",
      "For conv2_kernel_size= 5 , Accuracy= 0.962  in  1692.667 seconds\n",
      "For conv2_kernel_size= 7 , Accuracy= 0.969  in  1686.716 seconds\n",
      "For conv2_kernel_size= 7 , Accuracy= 0.969  in  1686.127 seconds\n",
      "For conv2_kernel_size= 11 , Accuracy= 0.956  in  1818.159 seconds\n",
      "For conv2_kernel_size= 13 , Accuracy= 0.969  in  2113.515 seconds\n",
      "For conv2_kernel_size= 19 , Accuracy= 0.969  in  2494.355 seconds\n",
      "scanning over dimensions [6, 8, 12, 17, 25, 35, 50, 70, 100]\n",
      "For dimension= 6 , Accuracy= 0.333  in  1563.515 seconds\n",
      "For dimension= 8 , Accuracy= 0.962  in  1551.845 seconds\n",
      "For dimension= 12 , Accuracy= 0.956  in  1592.093 seconds\n",
      "For dimension= 17 , Accuracy= 0.975  in  1624.394 seconds\n",
      "For dimension= 25 , Accuracy= 0.962  in  1602.173 seconds\n",
      "For dimension= 35 , Accuracy= 0.962  in  1602.320 seconds\n",
      "For dimension= 50 , Accuracy= 0.962  in  1609.380 seconds\n",
      "For dimension= 70 , Accuracy= 0.943  in  1611.910 seconds\n",
      "For dimension= 100 , Accuracy= 0.962  in  1611.676 seconds\n",
      "scanning over conv1_dims [1, 1, 2, 2, 4, 5, 8, 11, 16]\n",
      "For conv1_dim= 1 , Accuracy= 0.925  in  1395.692 seconds\n",
      "For conv1_dim= 1 , Accuracy= 0.925  in  1406.248 seconds\n",
      "For conv1_dim= 2 , Accuracy= 0.950  in  1543.019 seconds\n",
      "For conv1_dim= 2 , Accuracy= 0.950  in  1561.772 seconds\n",
      "For conv1_dim= 4 , Accuracy= 0.962  in  1637.185 seconds\n",
      "For conv1_dim= 5 , Accuracy= 0.962  in  1691.197 seconds\n",
      "For conv1_dim= 8 , Accuracy= 0.969  in  1762.349 seconds\n",
      "For conv1_dim= 11 , Accuracy= 0.931  in  1884.523 seconds\n",
      "For conv1_dim= 16 , Accuracy= 0.937  in  2114.307 seconds\n",
      "scanning over conv2_dims [3, 4, 6, 9, 13, 18, 26, 36, 52]\n",
      "For conv2_dim= 3 , Accuracy= 0.912  in  1562.325 seconds\n",
      "For conv2_dim= 4 , Accuracy= 0.931  in  1549.858 seconds\n",
      "For conv2_dim= 6 , Accuracy= 0.962  in  1543.314 seconds\n",
      "For conv2_dim= 9 , Accuracy= 0.956  in  1548.650 seconds\n",
      "For conv2_dim= 13 , Accuracy= 0.962  in  1598.882 seconds\n",
      "For conv2_dim= 18 , Accuracy= 0.969  in  1650.171 seconds\n",
      "For conv2_dim= 26 , Accuracy= 0.956  in  1678.623 seconds\n",
      "For conv2_dim= 36 , Accuracy= 0.962  in  1703.170 seconds\n",
      "For conv2_dim= 52 , Accuracy= 0.956  in  1748.954 seconds\n",
      "scanning over stride1s [1, 2, 4, 8]\n",
      "For stride1= 1 , Accuracy= 0.931  in  3690.927 seconds\n",
      "For stride1= 2 , Accuracy= 0.912  in  2182.591 seconds\n",
      "For stride1= 4 , Accuracy= 0.962  in  1975.025 seconds\n",
      "For stride1= 8 , Accuracy= 0.956  in  1890.176 seconds\n",
      "scanning over conv1_kernel_sizes [1, 2, 4, 8]\n",
      "For stride2= 1 , Accuracy= 0.950  in  2052.940 seconds\n",
      "For stride2= 2 , Accuracy= 0.956  in  2005.164 seconds\n",
      "For stride2= 4 , Accuracy= 0.962  in  2095.069 seconds\n",
      "For stride2= 8 , Accuracy= 0.956  in  2089.702 seconds\n"
     ]
    }
   ],
   "source": [
    "import numpy as np \n",
    "base = 4\n",
    "N_scan = 9\n",
    "default = dict(verbose=0, log_interval=0)\n",
    "\n",
    "\n",
    "from Regard import init, ML\n",
    "import time\n",
    "\n",
    "\n",
    "conv1_kernel_sizes =  [2*int(k)+3 for k in (init().conv1_kernel_size//2) * np.logspace(-1, 1, N_scan, base=base)]\n",
    "print('scanning over conv1_kernel_sizes', conv1_kernel_sizes)\n",
    "\n",
    "for conv1_kernel_size in conv1_kernel_sizes:\n",
    "    args = init(conv1_kernel_size=conv1_kernel_size, **default)\n",
    "    t0 = time.time()\n",
    "    ml = ML(args)\n",
    "    Accuracy = ml.protocol()\n",
    "    print ('For conv1_kernel_size=', conv1_kernel_size, ', Accuracy=', '%.3f' % Accuracy, ' in ', '%.3f' % (time.time() - t0), 'seconds')\n",
    "\n",
    "\n",
    "conv2_kernel_sizes =  [2*int(k)+3 for k in (init().conv2_kernel_size//2) * np.logspace(-1, 1, N_scan, base=base)]\n",
    "print('scanning over conv1_kernel_sizes', conv1_kernel_sizes)\n",
    "\n",
    "for conv2_kernel_size in conv2_kernel_sizes:\n",
    "    args = init(conv2_kernel_size=conv2_kernel_size, **default)\n",
    "    t0 = time.time()\n",
    "    ml = ML(args)\n",
    "    Accuracy = ml.protocol()\n",
    "    print ('For conv2_kernel_size=', conv2_kernel_size, ', Accuracy=', '%.3f' % Accuracy, ' in ', '%.3f' % (time.time() - t0), 'seconds')\n",
    "\n",
    "dimensions =  [int(k) for k in init().dimension * np.logspace(-1, 1, N_scan, base=base)]\n",
    "print('scanning over dimensions', dimensions)\n",
    "\n",
    "for dimension in dimensions:\n",
    "    args = init(dimension=dimension,  **default)\n",
    "    t0 = time.time()\n",
    "    ml = ML(args)\n",
    "    Accuracy = ml.protocol()\n",
    "    print ('For dimension=', dimension, ', Accuracy=', '%.3f' % Accuracy, ' in ', '%.3f' % (time.time() - t0), 'seconds')\n",
    "\n",
    "conv1_dims =  [int(k) for k in init().conv1_dim * np.logspace(-1, 1, N_scan, base=base)]\n",
    "print('scanning over conv1_dims', conv1_dims)\n",
    "\n",
    "for conv1_dim in conv1_dims:\n",
    "    args = init(conv1_dim=conv1_dim, **default)\n",
    "    t0 = time.time()\n",
    "    ml = ML(args)\n",
    "    Accuracy = ml.protocol()\n",
    "    print ('For conv1_dim=', conv1_dim, ', Accuracy=', '%.3f' % Accuracy, ' in ', '%.3f' % (time.time() - t0), 'seconds')\n",
    "\n",
    "\n",
    "conv2_dims =  [int(k) for k in init().conv2_dim * np.logspace(-1, 1, N_scan, base=base)]\n",
    "print('scanning over conv2_dims', conv2_dims)\n",
    "\n",
    "for conv2_dim in conv2_dims:\n",
    "    args = init(conv2_dim=conv2_dim, **default)\n",
    "    t0 = time.time()\n",
    "    ml = ML(args)\n",
    "    Accuracy = ml.protocol()\n",
    "    print ('For conv2_dim=', conv2_dim, ', Accuracy=', '%.3f' % Accuracy, ' in ', '%.3f' % (time.time() - t0), 'seconds')\n",
    "\n",
    "\n",
    "\n",
    "stride1s =  [1, 2, 4, 8]\n",
    "print('scanning over stride1s', stride1s)\n",
    "\n",
    "for stride1 in stride1s:\n",
    "    args = init(stride1=stride1, **default)\n",
    "    t0 = time.time()\n",
    "    ml = ML(args)\n",
    "    Accuracy = ml.protocol()\n",
    "    print ('For stride1=', stride1, ', Accuracy=', '%.3f' % Accuracy, ' in ', '%.3f' % (time.time() - t0), 'seconds')\n",
    "\n",
    "    \n",
    "stride2s = [1, 2, 4, 8]\n",
    "print('scanning over conv1_kernel_sizes', stride2s)\n",
    "\n",
    "for stride2 in stride2s:\n",
    "    args = init(stride2=stride2, **default)\n",
    "    t0 = time.time()\n",
    "    ml = ML(args)\n",
    "    Accuracy = ml.protocol()\n",
    "    print ('For stride2=', stride2, ', Accuracy=', '%.3f' % Accuracy, ' in ', '%.3f' % (time.time() - t0), 'seconds')\n",
    "\n",
    "\n",
    "\n"
   ]
  }
 ],
 "metadata": {
  "kernel_info": {
   "name": "python3"
  },
  "kernelspec": {
   "display_name": "Python 3",
   "language": "python",
   "name": "python3"
  },
  "language_info": {
   "codemirror_mode": {
    "name": "ipython",
    "version": 3
   },
   "file_extension": ".py",
   "mimetype": "text/x-python",
   "name": "python",
   "nbconvert_exporter": "python",
   "pygments_lexer": "ipython3",
   "version": "3.6.5"
  },
  "nteract": {
   "version": "0.8.4"
  },
  "toc": {
   "base_numbering": 1,
   "nav_menu": {},
   "number_sections": true,
   "sideBar": true,
   "skip_h1_title": false,
   "title_cell": "Table of Contents",
   "title_sidebar": "Contents",
   "toc_cell": false,
   "toc_position": {},
   "toc_section_display": "block",
   "toc_window_display": false
  }
 },
 "nbformat": 4,
 "nbformat_minor": 2
}
