{
  "cells": [
    {
      "cell_type": "code",
      "source": [
        "%load_ext autoreload\n",
        "%autoreload 2"
      ],
      "outputs": [],
      "execution_count": 1,
      "metadata": {
        "ExecuteTime": {
          "end_time": "2018-05-25T15:14:25.226027Z",
          "start_time": "2018-05-25T15:14:25.210528Z"
        }
      }
    },
    {
      "cell_type": "markdown",
      "source": [
        "## scanning parameters"
      ],
      "metadata": {}
    },
    {
      "cell_type": "code",
      "source": [
        "import numpy as np \n",
        "base = 4\n",
        "N_scan = 9\n",
        "default = dict(verbose=0, log_interval=0, epochs=30)\n",
        "\n\n",
        "from Regard import init, ML\n",
        "\n",
        "dimensions =  [int(k) for k in init().dimension * np.logspace(-1, 1, N_scan, base=base)]\n",
        "print('scanning over dimensions', dimensions)\n",
        "\n",
        "for dimension in dimensions:\n",
        "    args = init(dimension=dimension,  **default)\n",
        "    ml = ML(args)\n",
        "    Accuracy = ml.protocol()\n",
        "    print ('For dimension=', dimension, ', Accuracy=', Accuracy)\n",
        "\n",
        "conv1_dims =  [int(k) for k in init().conv1_dim * np.logspace(-1, 1, N_scan, base=base)]\n",
        "print('scanning over conv1_dims', conv1_dims)\n",
        "\n\n",
        "for conv1_dim in conv1_dims:\n",
        "    args = init(conv1_dim=conv1_dim, **default)\n",
        "    ml = ML(args)\n",
        "    Accuracy = ml.protocol()\n",
        "    print ('For conv1_dim=', conv1_dim, ', Accuracy=', Accuracy)\n",
        "\n\n",
        "conv2_dims =  [int(k) for k in init().conv2_dim * np.logspace(-1, 1, N_scan, base=base)]\n",
        "print('scanning over conv2_dims', conv2_dims)\n",
        "\n",
        "for conv2_dim in conv2_dims:\n",
        "    args = init(conv2_dim=conv2_dim, **default)\n",
        "    ml = ML(args)\n",
        "    Accuracy = ml.protocol()\n",
        "    print ('For conv2_dim=', conv2_dim, ', Accuracy=', Accuracy)\n",
        "\n\n",
        "for conv1_kernel_size in conv1_kernel_sizes:\n",
        "    args = init(conv1_kernel_size=conv1_kernel_size, **default)\n",
        "    ml = ML(args)\n",
        "    Accuracy = ml.protocol()\n",
        "    print ('For conv1_kernel_size=', conv1_kernel_size, ', Accuracy=', Accuracy)\n",
        "\n\n",
        "conv2_kernel_sizes =  [int(k) for k in init().conv2_kernel_size * np.logspace(-1, 1, N_scan, base=base)]\n",
        "print('scanning over conv1_kernel_sizes', conv1_kernel_sizes)\n",
        "\n",
        "for conv2_kernel_size in conv2_kernel_sizes:\n",
        "    args = init(conv2_kernel_size=conv2_kernel_size, **default)\n",
        "    ml = ML(args)\n",
        "    Accuracy = ml.protocol()\n",
        "    print ('For conv2_kernel_size=', conv2_kernel_size, ', Accuracy=', Accuracy)\n",
        "\n\n",
        "conv1_dims =  [int(k) for k in init().conv1_dim * np.logspace(-1, 1, N_scan, base=base)]\n",
        "print('scanning over conv1_dims', conv1_dims)\n",
        "    "
      ],
      "outputs": [
        {
          "output_type": "stream",
          "name": "stdout",
          "text": [
            "scanning over dimensions [12, 17, 25, 35, 50, 70, 100, 141, 200]\n",
            "For dimension= 12 , Accuracy= 0.42483660130718953\n",
            "For dimension= 17 , Accuracy= 0.8344226579520697\n",
            "For dimension= 25 , Accuracy= 0.9084967320261438\n",
            "For dimension= 35 , Accuracy= 0.8997821350762527\n",
            "For dimension= 50 , Accuracy= 0.8823529411764706\n",
            "For dimension= 70 , Accuracy= 0.9150326797385621\n",
            "For dimension= 100 , Accuracy= 0.9084967320261438\n",
            "For dimension= 141 , Accuracy= 0.8976034858387799\n",
            "For dimension= 200 , Accuracy= 0.9825708061002179\n",
            "scanning over conv1_kernel_sizes [1, 1, 2, 3, 5, 7, 10, 14, 20]\n"
          ]
        },
        {
          "output_type": "error",
          "ename": "NameError",
          "evalue": "name 'conv1_dims' is not defined",
          "traceback": [
            "\u001b[0;31m---------------------------------------------------------------------------\u001b[0m",
            "\u001b[0;31mNameError\u001b[0m                                 Traceback (most recent call last)",
            "\u001b[0;32m<ipython-input-2-a4bf046a9cc6>\u001b[0m in \u001b[0;36m<module>\u001b[0;34m()\u001b[0m\n\u001b[1;32m     20\u001b[0m \u001b[0;34m\u001b[0m\u001b[0m\n\u001b[1;32m     21\u001b[0m \u001b[0;34m\u001b[0m\u001b[0m\n\u001b[0;32m---> 22\u001b[0;31m \u001b[0;32mfor\u001b[0m \u001b[0mconv1_dim\u001b[0m \u001b[0;32min\u001b[0m \u001b[0mconv1_dims\u001b[0m\u001b[0;34m:\u001b[0m\u001b[0;34m\u001b[0m\u001b[0m\n\u001b[0m\u001b[1;32m     23\u001b[0m     \u001b[0margs\u001b[0m \u001b[0;34m=\u001b[0m \u001b[0minit\u001b[0m\u001b[0;34m(\u001b[0m\u001b[0mconv1_dim\u001b[0m\u001b[0;34m=\u001b[0m\u001b[0mconv1_dim\u001b[0m\u001b[0;34m,\u001b[0m \u001b[0;34m**\u001b[0m\u001b[0mdefault\u001b[0m\u001b[0;34m)\u001b[0m\u001b[0;34m\u001b[0m\u001b[0m\n\u001b[1;32m     24\u001b[0m     \u001b[0mml\u001b[0m \u001b[0;34m=\u001b[0m \u001b[0mML\u001b[0m\u001b[0;34m(\u001b[0m\u001b[0margs\u001b[0m\u001b[0;34m)\u001b[0m\u001b[0;34m\u001b[0m\u001b[0m\n",
            "\u001b[0;31mNameError\u001b[0m: name 'conv1_dims' is not defined"
          ]
        }
      ],
      "execution_count": 2,
      "metadata": {
        "ExecuteTime": {
          "end_time": "2018-05-25T15:46:58.912544Z",
          "start_time": "2018-05-25T15:14:25.228263Z"
        }
      }
    },
    {
      "cell_type": "code",
      "source": [],
      "outputs": [],
      "execution_count": 3,
      "metadata": {}
    }
  ],
  "metadata": {
    "kernelspec": {
      "name": "python3",
      "language": "python",
      "display_name": "Python 3"
    },
    "language_info": {
      "name": "python",
      "version": "3.6.5",
      "mimetype": "text/x-python",
      "codemirror_mode": {
        "name": "ipython",
        "version": 3
      },
      "pygments_lexer": "ipython3",
      "nbconvert_exporter": "python",
      "file_extension": ".py"
    },
    "toc": {
      "toc_position": {},
      "skip_h1_title": false,
      "number_sections": true,
      "title_cell": "Table of Contents",
      "toc_window_display": false,
      "base_numbering": 1,
      "toc_section_display": "block",
      "title_sidebar": "Contents",
      "toc_cell": false,
      "nav_menu": {},
      "sideBar": true
    },
    "kernel_info": {
      "name": "python3"
    },
    "nteract": {
      "version": "0.8.4"
    }
  },
  "nbformat": 4,
  "nbformat_minor": 2
}