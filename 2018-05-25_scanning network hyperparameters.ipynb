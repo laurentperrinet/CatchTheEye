{
 "cells": [
  {
   "cell_type": "code",
   "execution_count": 1,
   "metadata": {
    "ExecuteTime": {
     "end_time": "2018-05-28T11:52:47.117564Z",
     "start_time": "2018-05-28T11:52:47.101542Z"
    }
   },
   "outputs": [],
   "source": [
    "%load_ext autoreload\n",
    "%autoreload 2"
   ]
  },
  {
   "cell_type": "markdown",
   "metadata": {},
   "source": [
    "## scanning parameters"
   ]
  },
  {
   "cell_type": "code",
   "execution_count": null,
   "metadata": {
    "ExecuteTime": {
     "start_time": "2018-05-28T11:52:47.089Z"
    }
   },
   "outputs": [
    {
     "name": "stdout",
     "output_type": "stream",
     "text": [
      "scanning over dimensions [12, 17, 25, 35, 50, 70, 100, 141, 200]\n"
     ]
    }
   ],
   "source": [
    "import numpy as np \n",
    "base = 4\n",
    "N_scan = 9\n",
    "default = dict(verbose=0, log_interval=0, epochs=30)\n",
    "\n",
    "\n",
    "from Regard import init, ML\n",
    "\n",
    "dimensions =  [int(k) for k in init().dimension * np.logspace(-1, 1, N_scan, base=base)]\n",
    "print('scanning over dimensions', dimensions)\n",
    "\n",
    "for dimension in dimensions:\n",
    "    args = init(dimension=dimension,  **default)\n",
    "    ml = ML(args)\n",
    "    Accuracy = ml.protocol()\n",
    "    print ('For dimension=', dimension, ', Accuracy=', Accuracy)\n",
    "\n",
    "conv1_dims =  [int(k) for k in init().conv1_dim * np.logspace(-1, 1, N_scan, base=base)]\n",
    "print('scanning over conv1_dims', conv1_dims)\n",
    "\n",
    "for conv1_dim in conv1_dims:\n",
    "    args = init(conv1_dim=conv1_dim, **default)\n",
    "    ml = ML(args)\n",
    "    Accuracy = ml.protocol()\n",
    "    print ('For conv1_dim=', conv1_dim, ', Accuracy=', Accuracy)\n",
    "\n",
    "\n",
    "conv2_dims =  [int(k) for k in init().conv2_dim * np.logspace(-1, 1, N_scan, base=base)]\n",
    "print('scanning over conv2_dims', conv2_dims)\n",
    "\n",
    "for conv2_dim in conv2_dims:\n",
    "    args = init(conv2_dim=conv2_dim, **default)\n",
    "    ml = ML(args)\n",
    "    Accuracy = ml.protocol()\n",
    "    print ('For conv2_dim=', conv2_dim, ', Accuracy=', Accuracy)\n",
    "\n",
    "conv1_kernel_sizes =  [int(k) for k in init().conv1_kernel_size * np.logspace(-1, 1, N_scan, base=base)]\n",
    "print('scanning over conv1_kernel_sizes', conv1_kernel_sizes)\n",
    "\n",
    "for conv1_kernel_size in conv1_kernel_sizes:\n",
    "    args = init(conv1_kernel_size=conv1_kernel_size, **default)\n",
    "    ml = ML(args)\n",
    "    Accuracy = ml.protocol()\n",
    "    print ('For conv1_kernel_size=', conv1_kernel_size, ', Accuracy=', Accuracy)\n",
    "\n",
    "\n",
    "conv2_kernel_sizes =  [int(k) for k in init().conv2_kernel_size * np.logspace(-1, 1, N_scan, base=base)]\n",
    "print('scanning over conv1_kernel_sizes', conv1_kernel_sizes)\n",
    "\n",
    "for conv2_kernel_size in conv2_kernel_sizes:\n",
    "    args = init(conv2_kernel_size=conv2_kernel_size, **default)\n",
    "    ml = ML(args)\n",
    "    Accuracy = ml.protocol()\n",
    "    print ('For conv2_kernel_size=', conv2_kernel_size, ', Accuracy=', Accuracy)\n",
    "\n",
    "\n",
    "    "
   ]
  },
  {
   "cell_type": "code",
   "execution_count": null,
   "metadata": {},
   "outputs": [],
   "source": []
  }
 ],
 "metadata": {
  "kernel_info": {
   "name": "python3"
  },
  "kernelspec": {
   "display_name": "Python 3",
   "language": "python",
   "name": "python3"
  },
  "language_info": {
   "codemirror_mode": {
    "name": "ipython",
    "version": 3
   },
   "file_extension": ".py",
   "mimetype": "text/x-python",
   "name": "python",
   "nbconvert_exporter": "python",
   "pygments_lexer": "ipython3",
   "version": "3.6.5"
  },
  "nteract": {
   "version": "0.8.4"
  },
  "toc": {
   "base_numbering": 1,
   "nav_menu": {},
   "number_sections": true,
   "sideBar": true,
   "skip_h1_title": false,
   "title_cell": "Table of Contents",
   "title_sidebar": "Contents",
   "toc_cell": false,
   "toc_position": {},
   "toc_section_display": "block",
   "toc_window_display": false
  }
 },
 "nbformat": 4,
 "nbformat_minor": 2
}
