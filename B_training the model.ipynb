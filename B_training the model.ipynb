{
 "cells": [
  {
   "cell_type": "code",
   "execution_count": 1,
   "metadata": {
    "ExecuteTime": {
     "end_time": "2018-10-03T17:25:18.139198Z",
     "start_time": "2018-10-03T17:25:18.106067Z"
    }
   },
   "outputs": [],
   "source": [
    "%load_ext autoreload\n",
    "%autoreload 2"
   ]
  },
  {
   "cell_type": "code",
   "execution_count": 2,
   "metadata": {
    "ExecuteTime": {
     "end_time": "2018-10-03T17:25:18.661042Z",
     "start_time": "2018-10-03T17:25:18.143480Z"
    }
   },
   "outputs": [],
   "source": [
    "import numpy as np\n",
    "%matplotlib inline\n",
    "import matplotlib.pyplot as plt"
   ]
  },
  {
   "cell_type": "raw",
   "metadata": {},
   "source": [
    "import time\n",
    "time.sleep(8*3600)"
   ]
  },
  {
   "cell_type": "markdown",
   "metadata": {},
   "source": [
    "## detecting and cropping faces"
   ]
  },
  {
   "cell_type": "code",
   "execution_count": 3,
   "metadata": {
    "ExecuteTime": {
     "end_time": "2018-10-03T17:25:19.098790Z",
     "start_time": "2018-10-03T17:25:18.665917Z"
    }
   },
   "outputs": [
    {
     "name": "stdout",
     "output_type": "stream",
     "text": [
      "Found 1114 sample images;  892  to train 222 to test\n"
     ]
    }
   ],
   "source": [
    "done = False\n",
    "done = True\n",
    "\n",
    "from gaze import init, Data\n",
    "args = init(batch_size=8, no_cuda=True, verbose=1)\n",
    "d = Data(args)"
   ]
  },
  {
   "cell_type": "code",
   "execution_count": 4,
   "metadata": {
    "ExecuteTime": {
     "end_time": "2018-10-03T17:25:19.160300Z",
     "start_time": "2018-10-03T17:25:19.101027Z"
    }
   },
   "outputs": [
    {
     "name": "stdout",
     "output_type": "stream",
     "text": [
      "dataset/blink/2018-09-12_Laurent_035.png\n",
      "dataset/blink/2018-09-12_Laurent_223.png\n",
      "dataset/blink/2018-09-12_Laurent_237.png\n",
      "dataset/blink/2018-09-12_Laurent_222.png\n",
      "dataset/blink/2018-09-14_Laurent_121.png\n",
      "dataset/blink/2018-09-04_Laurent_180.png\n",
      "dataset/blink/2018-10-03_Laurent_116.png\n",
      "dataset/blink/2018-09-12_Laurent_020.png\n",
      "dataset/blink/2018-09-05_Laurent_085.png\n",
      "dataset/blink/2018-09-14_Laurent_069.png\n",
      "dataset/center/2018-09-12_Laurent_140.png\n",
      "dataset/center/2018-09-14_Laurent_243.png\n",
      "dataset/center/2018-09-12_Laurent_168.png\n",
      "dataset/center/2018-09-12_Laurent_183.png\n",
      "dataset/center/2018-09-04_Laurent_221.png\n",
      "dataset/center/2018-09-04_Laurent_235.png\n",
      "dataset/center/2018-10-03_Laurent_248.png\n",
      "dataset/center/2018-10-03_Laurent_089.png\n",
      "dataset/center/2018-10-03_Laurent_076.png\n",
      "dataset/center/2018-09-14_Laurent_096.png\n",
      "dataset/left/2018-09-12_Laurent_236.png\n",
      "dataset/left/2018-09-05_Laurent_091.png\n",
      "dataset/left/2018-09-12_Laurent_008.png\n",
      "dataset/left/2018-09-05_Laurent_052.png\n",
      "dataset/left/2018-09-12_Laurent_154.png\n",
      "dataset/left/2018-09-04_Laurent_209.png\n",
      "dataset/left/2018-09-05_Laurent_126.png\n",
      "dataset/left/2018-09-05_Laurent_132.png\n",
      "dataset/left/2018-09-14_Laurent_041.png\n",
      "dataset/left/2018-10-03_Laurent_062.png\n",
      "dataset/right/2018-10-03_Laurent_102.png\n",
      "dataset/right/2018-09-05_Laurent_250.png\n",
      "dataset/right/2018-09-04_Laurent_143.png\n",
      "dataset/right/2018-09-12_Laurent_034.png\n",
      "dataset/right/2018-09-05_Laurent_046.png\n",
      "dataset/right/2018-09-12_Laurent_197.png\n",
      "dataset/right/2018-09-05_Laurent_126.png\n",
      "dataset/right/2018-09-05_Laurent_132.png\n",
      "dataset/right/2018-09-14_Laurent_055.png\n",
      "dataset/right/2018-09-14_Laurent_082.png\n"
     ]
    }
   ],
   "source": [
    "import os\n",
    "import glob\n",
    "datapath_faces = 'dataset_faces'\n",
    "datapath = 'dataset'\n",
    "\n",
    "if True:\n",
    "    n_show = 10\n",
    "    for target in d.classes:\n",
    "        for filename in glob.glob(os.path.join(datapath, target) + '/*.png')[-n_show:]:\n",
    "            print(filename)"
   ]
  },
  {
   "cell_type": "code",
   "execution_count": 5,
   "metadata": {
    "ExecuteTime": {
     "end_time": "2018-10-03T17:27:55.580609Z",
     "start_time": "2018-10-03T17:25:19.162916Z"
    }
   },
   "outputs": [
    {
     "ename": "FileNotFoundError",
     "evalue": "No such file: '/Users/laurentperrinet/research/CatchTheEye/dataset/center/2018-10-03_Laurent_248.png'",
     "output_type": "error",
     "traceback": [
      "\u001b[0;31m---------------------------------------------------------------------------\u001b[0m",
      "\u001b[0;31mFileNotFoundError\u001b[0m                         Traceback (most recent call last)",
      "\u001b[0;32m<ipython-input-5-34872cfe6217>\u001b[0m in \u001b[0;36m<module>\u001b[0;34m\u001b[0m\n\u001b[1;32m      7\u001b[0m     \u001b[0;32mfor\u001b[0m \u001b[0mtarget\u001b[0m \u001b[0;32min\u001b[0m \u001b[0md\u001b[0m\u001b[0;34m.\u001b[0m\u001b[0mclasses\u001b[0m\u001b[0;34m:\u001b[0m\u001b[0;34m\u001b[0m\u001b[0m\n\u001b[1;32m      8\u001b[0m         \u001b[0;32mfor\u001b[0m \u001b[0mfilename\u001b[0m \u001b[0;32min\u001b[0m \u001b[0mglob\u001b[0m\u001b[0;34m.\u001b[0m\u001b[0mglob\u001b[0m\u001b[0;34m(\u001b[0m\u001b[0mos\u001b[0m\u001b[0;34m.\u001b[0m\u001b[0mpath\u001b[0m\u001b[0;34m.\u001b[0m\u001b[0mjoin\u001b[0m\u001b[0;34m(\u001b[0m\u001b[0mdatapath\u001b[0m\u001b[0;34m,\u001b[0m \u001b[0mtarget\u001b[0m\u001b[0;34m)\u001b[0m \u001b[0;34m+\u001b[0m \u001b[0;34m'/*.png'\u001b[0m\u001b[0;34m)\u001b[0m\u001b[0;34m:\u001b[0m\u001b[0;34m\u001b[0m\u001b[0m\n\u001b[0;32m----> 9\u001b[0;31m             \u001b[0mframe\u001b[0m \u001b[0;34m=\u001b[0m \u001b[0mimageio\u001b[0m\u001b[0;34m.\u001b[0m\u001b[0mimread\u001b[0m\u001b[0;34m(\u001b[0m\u001b[0mfilename\u001b[0m\u001b[0;34m)\u001b[0m\u001b[0;34m\u001b[0m\u001b[0m\n\u001b[0m\u001b[1;32m     10\u001b[0m             \u001b[0mt0\u001b[0m \u001b[0;34m=\u001b[0m \u001b[0mtime\u001b[0m\u001b[0;34m.\u001b[0m\u001b[0mtime\u001b[0m\u001b[0;34m(\u001b[0m\u001b[0;34m)\u001b[0m\u001b[0;34m\u001b[0m\u001b[0m\n\u001b[1;32m     11\u001b[0m             \u001b[0mface\u001b[0m \u001b[0;34m=\u001b[0m \u001b[0mFE\u001b[0m\u001b[0;34m.\u001b[0m\u001b[0mface_extractor\u001b[0m\u001b[0;34m(\u001b[0m\u001b[0mframe\u001b[0m\u001b[0;34m)\u001b[0m\u001b[0;34m\u001b[0m\u001b[0m\n",
      "\u001b[0;32m/usr/local/lib/python3.6/site-packages/imageio/core/functions.py\u001b[0m in \u001b[0;36mimread\u001b[0;34m(uri, format, **kwargs)\u001b[0m\n\u001b[1;32m    219\u001b[0m \u001b[0;34m\u001b[0m\u001b[0m\n\u001b[1;32m    220\u001b[0m     \u001b[0;31m# Get reader and read first\u001b[0m\u001b[0;34m\u001b[0m\u001b[0;34m\u001b[0m\u001b[0m\n\u001b[0;32m--> 221\u001b[0;31m     \u001b[0mreader\u001b[0m \u001b[0;34m=\u001b[0m \u001b[0mread\u001b[0m\u001b[0;34m(\u001b[0m\u001b[0muri\u001b[0m\u001b[0;34m,\u001b[0m \u001b[0mformat\u001b[0m\u001b[0;34m,\u001b[0m \u001b[0;34m\"i\"\u001b[0m\u001b[0;34m,\u001b[0m \u001b[0;34m**\u001b[0m\u001b[0mkwargs\u001b[0m\u001b[0;34m)\u001b[0m\u001b[0;34m\u001b[0m\u001b[0m\n\u001b[0m\u001b[1;32m    222\u001b[0m     \u001b[0;32mwith\u001b[0m \u001b[0mreader\u001b[0m\u001b[0;34m:\u001b[0m\u001b[0;34m\u001b[0m\u001b[0m\n\u001b[1;32m    223\u001b[0m         \u001b[0;32mreturn\u001b[0m \u001b[0mreader\u001b[0m\u001b[0;34m.\u001b[0m\u001b[0mget_data\u001b[0m\u001b[0;34m(\u001b[0m\u001b[0;36m0\u001b[0m\u001b[0;34m)\u001b[0m\u001b[0;34m\u001b[0m\u001b[0m\n",
      "\u001b[0;32m/usr/local/lib/python3.6/site-packages/imageio/core/functions.py\u001b[0m in \u001b[0;36mget_reader\u001b[0;34m(uri, format, mode, **kwargs)\u001b[0m\n\u001b[1;32m    128\u001b[0m \u001b[0;34m\u001b[0m\u001b[0m\n\u001b[1;32m    129\u001b[0m     \u001b[0;31m# Create request object\u001b[0m\u001b[0;34m\u001b[0m\u001b[0;34m\u001b[0m\u001b[0m\n\u001b[0;32m--> 130\u001b[0;31m     \u001b[0mrequest\u001b[0m \u001b[0;34m=\u001b[0m \u001b[0mRequest\u001b[0m\u001b[0;34m(\u001b[0m\u001b[0muri\u001b[0m\u001b[0;34m,\u001b[0m \u001b[0;34m\"r\"\u001b[0m \u001b[0;34m+\u001b[0m \u001b[0mmode\u001b[0m\u001b[0;34m,\u001b[0m \u001b[0;34m**\u001b[0m\u001b[0mkwargs\u001b[0m\u001b[0;34m)\u001b[0m\u001b[0;34m\u001b[0m\u001b[0m\n\u001b[0m\u001b[1;32m    131\u001b[0m \u001b[0;34m\u001b[0m\u001b[0m\n\u001b[1;32m    132\u001b[0m     \u001b[0;31m# Get format\u001b[0m\u001b[0;34m\u001b[0m\u001b[0;34m\u001b[0m\u001b[0m\n",
      "\u001b[0;32m/usr/local/lib/python3.6/site-packages/imageio/core/request.py\u001b[0m in \u001b[0;36m__init__\u001b[0;34m(self, uri, mode, **kwargs)\u001b[0m\n\u001b[1;32m    123\u001b[0m \u001b[0;34m\u001b[0m\u001b[0m\n\u001b[1;32m    124\u001b[0m         \u001b[0;31m# Parse what was given\u001b[0m\u001b[0;34m\u001b[0m\u001b[0;34m\u001b[0m\u001b[0m\n\u001b[0;32m--> 125\u001b[0;31m         \u001b[0mself\u001b[0m\u001b[0;34m.\u001b[0m\u001b[0m_parse_uri\u001b[0m\u001b[0;34m(\u001b[0m\u001b[0muri\u001b[0m\u001b[0;34m)\u001b[0m\u001b[0;34m\u001b[0m\u001b[0m\n\u001b[0m\u001b[1;32m    126\u001b[0m \u001b[0;34m\u001b[0m\u001b[0m\n\u001b[1;32m    127\u001b[0m         \u001b[0;31m# Set extension\u001b[0m\u001b[0;34m\u001b[0m\u001b[0;34m\u001b[0m\u001b[0m\n",
      "\u001b[0;32m/usr/local/lib/python3.6/site-packages/imageio/core/request.py\u001b[0m in \u001b[0;36m_parse_uri\u001b[0;34m(self, uri)\u001b[0m\n\u001b[1;32m    271\u001b[0m                 \u001b[0;31m# Reading: check that the file exists (but is allowed a dir)\u001b[0m\u001b[0;34m\u001b[0m\u001b[0;34m\u001b[0m\u001b[0m\n\u001b[1;32m    272\u001b[0m                 \u001b[0;32mif\u001b[0m \u001b[0;32mnot\u001b[0m \u001b[0mos\u001b[0m\u001b[0;34m.\u001b[0m\u001b[0mpath\u001b[0m\u001b[0;34m.\u001b[0m\u001b[0mexists\u001b[0m\u001b[0;34m(\u001b[0m\u001b[0mfn\u001b[0m\u001b[0;34m)\u001b[0m\u001b[0;34m:\u001b[0m\u001b[0;34m\u001b[0m\u001b[0m\n\u001b[0;32m--> 273\u001b[0;31m                     \u001b[0;32mraise\u001b[0m \u001b[0mFileNotFoundError\u001b[0m\u001b[0;34m(\u001b[0m\u001b[0;34m\"No such file: '%s'\"\u001b[0m \u001b[0;34m%\u001b[0m \u001b[0mfn\u001b[0m\u001b[0;34m)\u001b[0m\u001b[0;34m\u001b[0m\u001b[0m\n\u001b[0m\u001b[1;32m    274\u001b[0m             \u001b[0;32melse\u001b[0m\u001b[0;34m:\u001b[0m\u001b[0;34m\u001b[0m\u001b[0m\n\u001b[1;32m    275\u001b[0m                 \u001b[0;31m# Writing: check that the directory to write to does exist\u001b[0m\u001b[0;34m\u001b[0m\u001b[0;34m\u001b[0m\u001b[0m\n",
      "\u001b[0;31mFileNotFoundError\u001b[0m: No such file: '/Users/laurentperrinet/research/CatchTheEye/dataset/center/2018-10-03_Laurent_248.png'"
     ]
    }
   ],
   "source": [
    "import imageio\n",
    "if not done:\n",
    "    import time\n",
    "    from gaze import FaceExtractor\n",
    "    FE = FaceExtractor()\n",
    "    timings = []\n",
    "    for target in d.classes:\n",
    "        for filename in glob.glob(os.path.join(datapath, target) + '/*.png'):\n",
    "            frame = imageio.imread(filename)\n",
    "            t0 = time.time()\n",
    "            face = FE.face_extractor(frame)\n",
    "            t1 = time.time()\n",
    "            timings.append(t1-t0)\n",
    "            if False:\n",
    "                print(\"Number of faces detected: {}\".format(len(dets)))\n",
    "                for i, d in enumerate(dets):\n",
    "                    print(\"Detection {}: Left: {} Top: {} Right: {} Bottom: {}\".format(\n",
    "                        i, d.left(), d.top(), d.right(), d.bottom()))\n",
    "\n",
    "            if False:\n",
    "                # Create figure and axes\n",
    "                fig, ax = plt.subplots(figsize=(15, 8))\n",
    "\n",
    "                # Display the image\n",
    "                ax.imshow(frame)\n",
    "\n",
    "                # Create a Rectangle patch\n",
    "                rect = patches.Rectangle((d.bottom(), d.left()), d.right()-d.left(), d.top()-d.bottom(), linewidth=1, edgecolor='r', facecolor='none')\n",
    "\n",
    "                # Add the patch to the Axes\n",
    "                ax.add_patch(rect)\n",
    "                plt.show()    \n",
    "            if False:\n",
    "                # Create figure and axes\n",
    "                fig, ax = plt.subplots(figsize=(15, 8))\n",
    "\n",
    "                # Display the cropped image\n",
    "                ax.imshow(face)\n",
    "\n",
    "                plt.show()                \n",
    "\n",
    "            filename_face = filename.replace(datapath, datapath_faces)\n",
    "            imageio.imwrite(filename_face, face) \n"
   ]
  },
  {
   "cell_type": "code",
   "execution_count": null,
   "metadata": {
    "ExecuteTime": {
     "end_time": "2018-10-03T17:27:55.583423Z",
     "start_time": "2018-10-03T17:25:18.104Z"
    }
   },
   "outputs": [],
   "source": [
    "if not done:\n",
    "    timings = np.array(timings) * 1000\n",
    "    print('timings in ms =', timings.mean(), '+/-', timings.std()) "
   ]
  },
  {
   "cell_type": "code",
   "execution_count": null,
   "metadata": {
    "ExecuteTime": {
     "end_time": "2018-10-03T17:27:55.585231Z",
     "start_time": "2018-10-03T17:25:18.107Z"
    }
   },
   "outputs": [],
   "source": [
    "if not done:\n",
    "    fig, ax = plt.subplots(figsize=((8, 5)))\n",
    "    n, bins, patches = ax.hist(timings, bins=np.linspace(100, 200, 100), alpha=.4)\n",
    "    ax.vlines(np.median(timings), 0, n.max(), 'g', linestyles='dashed', label='median = %.3f ms' % np.median(timings))\n",
    "    #ax.vlines(25, 0, n.max(), 'r', linestyles='dashed', label='chance level')\n",
    "    #ax.vlines(100, 0, n.max(), 'k', label='max')\n",
    "    ax.set_xlabel('Timings (ms)')\n",
    "    ax.set_ylabel('Smarts')\n",
    "    ax.legend(loc='best')\n",
    "    if False:\n",
    "        plt.show() \n",
    "    else:\n",
    "        plt.savefig('dlib_timings.png')"
   ]
  },
  {
   "cell_type": "markdown",
   "metadata": {},
   "source": [
    "## training the model on the cropped faces"
   ]
  },
  {
   "cell_type": "code",
   "execution_count": null,
   "metadata": {
    "ExecuteTime": {
     "end_time": "2018-10-03T17:27:55.586811Z",
     "start_time": "2018-10-03T17:25:18.109Z"
    }
   },
   "outputs": [],
   "source": [
    "from gaze import init\n",
    "epochs = 40\n",
    "#args = init(verbose=0, epochs=epochs)\n",
    "args = init(verbose=1)\n",
    "print('Parameters=', args)\n",
    "\n",
    "path = '_Regard.pt'"
   ]
  },
  {
   "cell_type": "code",
   "execution_count": null,
   "metadata": {
    "ExecuteTime": {
     "end_time": "2018-10-03T17:27:55.588218Z",
     "start_time": "2018-10-03T17:25:18.112Z"
    }
   },
   "outputs": [],
   "source": [
    "!ls -l {path}\n",
    "#!rm {path}"
   ]
  },
  {
   "cell_type": "code",
   "execution_count": null,
   "metadata": {
    "ExecuteTime": {
     "end_time": "2018-10-03T17:27:55.593895Z",
     "start_time": "2018-10-03T17:25:18.116Z"
    },
    "scrolled": false
   },
   "outputs": [],
   "source": [
    "from gaze import ML\n",
    "ml = ML(args)\n",
    "ml.train(path=path)"
   ]
  },
  {
   "cell_type": "markdown",
   "metadata": {},
   "source": [
    "## testing the model"
   ]
  },
  {
   "cell_type": "code",
   "execution_count": null,
   "metadata": {
    "ExecuteTime": {
     "end_time": "2018-10-03T17:27:55.596182Z",
     "start_time": "2018-10-03T17:25:18.120Z"
    }
   },
   "outputs": [],
   "source": [
    "Accuracy = ml.test()\n",
    "print('Accuracy={:.1f}%'.format(Accuracy*100))"
   ]
  },
  {
   "cell_type": "markdown",
   "metadata": {},
   "source": [
    "Showing the one which are wrong:"
   ]
  },
  {
   "cell_type": "code",
   "execution_count": null,
   "metadata": {
    "ExecuteTime": {
     "end_time": "2018-10-03T17:27:55.597316Z",
     "start_time": "2018-10-03T17:25:18.126Z"
    }
   },
   "outputs": [],
   "source": [
    "max(ml.dataset.test_loader.dataset.indices)"
   ]
  },
  {
   "cell_type": "code",
   "execution_count": null,
   "metadata": {
    "ExecuteTime": {
     "end_time": "2018-10-03T17:27:55.598617Z",
     "start_time": "2018-10-03T17:25:18.129Z"
    }
   },
   "outputs": [],
   "source": [
    "ml.dataset.dataset.imgs[0]"
   ]
  },
  {
   "cell_type": "code",
   "execution_count": null,
   "metadata": {
    "ExecuteTime": {
     "end_time": "2018-10-03T17:27:55.600024Z",
     "start_time": "2018-10-03T17:25:18.132Z"
    },
    "scrolled": false
   },
   "outputs": [],
   "source": [
    "for idx, (data, target) in enumerate(ml.dataset.test_loader):\n",
    "    print(target, ml.dataset.dataset.imgs[ml.dataset.test_loader.dataset.indices[idx]])"
   ]
  },
  {
   "cell_type": "code",
   "execution_count": null,
   "metadata": {
    "ExecuteTime": {
     "end_time": "2018-10-03T17:27:55.603600Z",
     "start_time": "2018-10-03T17:27:13.873Z"
    },
    "scrolled": false
   },
   "outputs": [],
   "source": [
    "for idx, (data, target) in enumerate(ml.dataset.dataset):\n",
    "    print(target, ml.dataset.dataset.imgs[ml.dataset.dataset.indices[idx]])"
   ]
  },
  {
   "cell_type": "code",
   "execution_count": null,
   "metadata": {
    "ExecuteTime": {
     "end_time": "2018-10-03T17:27:55.601188Z",
     "start_time": "2018-10-03T17:25:18.135Z"
    },
    "scrolled": false
   },
   "outputs": [],
   "source": [
    "for data, labels in ml.dataset.test_loader:\n",
    "    fig, ax = ml.show(only_wrong=True)\n",
    "    plt.show() \n"
   ]
  },
  {
   "cell_type": "code",
   "execution_count": null,
   "metadata": {},
   "outputs": [],
   "source": []
  }
 ],
 "metadata": {
  "kernel_info": {
   "name": "python3"
  },
  "kernelspec": {
   "display_name": "Python 3",
   "language": "python",
   "name": "python3"
  },
  "language_info": {
   "codemirror_mode": {
    "name": "ipython",
    "version": 3
   },
   "file_extension": ".py",
   "mimetype": "text/x-python",
   "name": "python",
   "nbconvert_exporter": "python",
   "pygments_lexer": "ipython3",
   "version": "3.6.5"
  },
  "nteract": {
   "version": "0.11.7"
  },
  "toc": {
   "base_numbering": 1,
   "nav_menu": {},
   "number_sections": true,
   "sideBar": true,
   "skip_h1_title": false,
   "title_cell": "Table of Contents",
   "title_sidebar": "Contents",
   "toc_cell": false,
   "toc_position": {},
   "toc_section_display": "block",
   "toc_window_display": false
  }
 },
 "nbformat": 4,
 "nbformat_minor": 2
}
