{
 "cells": [
  {
   "cell_type": "code",
   "execution_count": 1,
   "metadata": {
    "ExecuteTime": {
     "end_time": "2018-09-13T05:19:21.596005Z",
     "start_time": "2018-09-13T05:19:21.574808Z"
    }
   },
   "outputs": [],
   "source": [
    "%load_ext autoreload\n",
    "%autoreload 2"
   ]
  },
  {
   "cell_type": "raw",
   "metadata": {},
   "source": [
    "import time\n",
    "time.sleep(8*3600)"
   ]
  },
  {
   "cell_type": "markdown",
   "metadata": {},
   "source": [
    "## detecting and cropping faces"
   ]
  },
  {
   "cell_type": "code",
   "execution_count": 2,
   "metadata": {
    "ExecuteTime": {
     "end_time": "2018-09-13T05:19:21.909947Z",
     "start_time": "2018-09-13T05:19:21.598175Z"
    }
   },
   "outputs": [
    {
     "name": "stdout",
     "output_type": "stream",
     "text": [
      "Trying to load cuda, but it is not available\n",
      "no cuda? True\n",
      "Found 890 sample images;  712  to train 178 to test\n"
     ]
    }
   ],
   "source": [
    "done = True\n",
    "from gaze import init, Data\n",
    "args = init(batch_size=8, verbose=1)\n",
    "d = Data(args)"
   ]
  },
  {
   "cell_type": "code",
   "execution_count": 3,
   "metadata": {
    "ExecuteTime": {
     "end_time": "2018-09-13T05:19:21.943218Z",
     "start_time": "2018-09-13T05:19:21.912068Z"
    }
   },
   "outputs": [
    {
     "name": "stdout",
     "output_type": "stream",
     "text": [
      "dataset/blink/2018-09-12_Laurent_223.png\n",
      "dataset/blink/2018-09-12_Laurent_224.png\n",
      "dataset/blink/2018-09-12_Laurent_228.png\n",
      "dataset/blink/2018-09-12_Laurent_231.png\n",
      "dataset/blink/2018-09-12_Laurent_234.png\n",
      "dataset/blink/2018-09-12_Laurent_235.png\n",
      "dataset/blink/2018-09-12_Laurent_237.png\n",
      "dataset/blink/2018-09-12_Laurent_240.png\n",
      "dataset/blink/2018-09-12_Laurent_243.png\n",
      "dataset/blink/2018-09-12_Laurent_246.png\n",
      "dataset/center/2018-09-12_Laurent_226.png\n",
      "dataset/center/2018-09-12_Laurent_229.png\n",
      "dataset/center/2018-09-12_Laurent_233.png\n",
      "dataset/center/2018-09-12_Laurent_238.png\n",
      "dataset/center/2018-09-12_Laurent_239.png\n",
      "dataset/center/2018-09-12_Laurent_245.png\n",
      "dataset/center/2018-09-12_Laurent_250.png\n",
      "dataset/center/2018-09-12_Laurent_251.png\n",
      "dataset/center/2018-09-12_Laurent_253.png\n",
      "dataset/center/2018-09-12_Laurent_254.png\n",
      "dataset/left/2018-09-12_Laurent_201.png\n",
      "dataset/left/2018-09-12_Laurent_203.png\n",
      "dataset/left/2018-09-12_Laurent_205.png\n",
      "dataset/left/2018-09-12_Laurent_220.png\n",
      "dataset/left/2018-09-12_Laurent_227.png\n",
      "dataset/left/2018-09-12_Laurent_232.png\n",
      "dataset/left/2018-09-12_Laurent_236.png\n",
      "dataset/left/2018-09-12_Laurent_242.png\n",
      "dataset/left/2018-09-12_Laurent_244.png\n",
      "dataset/left/2018-09-12_Laurent_248.png\n",
      "dataset/right/2018-09-12_Laurent_204.png\n",
      "dataset/right/2018-09-12_Laurent_214.png\n",
      "dataset/right/2018-09-12_Laurent_215.png\n",
      "dataset/right/2018-09-12_Laurent_221.png\n",
      "dataset/right/2018-09-12_Laurent_230.png\n",
      "dataset/right/2018-09-12_Laurent_241.png\n",
      "dataset/right/2018-09-12_Laurent_247.png\n",
      "dataset/right/2018-09-12_Laurent_249.png\n",
      "dataset/right/2018-09-12_Laurent_252.png\n",
      "dataset/right/2018-09-12_Laurent_255.png\n"
     ]
    }
   ],
   "source": [
    "import os\n",
    "import glob\n",
    "datapath_faces = 'dataset_faces'\n",
    "datapath = 'dataset'\n",
    "\n",
    "if True:\n",
    "    n_show = 10\n",
    "    for target in d.classes:\n",
    "        for filename in glob.glob(os.path.join(datapath, target) + '/*.png')[-n_show:]:\n",
    "            print(filename)"
   ]
  },
  {
   "cell_type": "code",
   "execution_count": 4,
   "metadata": {
    "ExecuteTime": {
     "end_time": "2018-09-13T05:19:22.215025Z",
     "start_time": "2018-09-13T05:19:21.946013Z"
    }
   },
   "outputs": [],
   "source": [
    "import imageio\n",
    "try:\n",
    "    os.mkdir(datapath_faces)\n",
    "except:\n",
    "    pass\n",
    "\n",
    "for target in d.classes:\n",
    "    try:\n",
    "        os.mkdir(os.path.join(datapath_faces, target))\n",
    "        print('Creating folder ', os.path.join(datapath_faces, target))\n",
    "    except:\n",
    "        pass\n"
   ]
  },
  {
   "cell_type": "code",
   "execution_count": 5,
   "metadata": {
    "ExecuteTime": {
     "end_time": "2018-09-13T05:19:22.243619Z",
     "start_time": "2018-09-13T05:19:22.217182Z"
    }
   },
   "outputs": [],
   "source": [
    "if not done:\n",
    "    import dlib\n",
    "    detector = dlib.get_frontal_face_detector()\n",
    "\n",
    "    for target in d.classes:\n",
    "        for filename in glob.glob(os.path.join(datapath, target) + '/*.png'):\n",
    "            frame = imageio.imread(filename)\n",
    "            N_X, N_Y, three = frame.shape\n",
    "            dets = detector(frame, 1)\n",
    "            if False:\n",
    "                print(\"Number of faces detected: {}\".format(len(dets)))\n",
    "                for i, d in enumerate(dets):\n",
    "                    print(\"Detection {}: Left: {} Top: {} Right: {} Bottom: {}\".format(\n",
    "                        i, d.left(), d.top(), d.right(), d.bottom()))\n",
    "\n",
    "            d = dets[0]\n",
    "            if False:\n",
    "                # Create figure and axes\n",
    "                fig, ax = plt.subplots(figsize=(15, 8))\n",
    "\n",
    "                # Display the image\n",
    "                ax.imshow(frame)\n",
    "\n",
    "                # Create a Rectangle patch\n",
    "                rect = patches.Rectangle((d.bottom(), d.left()), d.right()-d.left(), d.top()-d.bottom(), linewidth=1, edgecolor='r', facecolor='none')\n",
    "\n",
    "                # Add the patch to the Axes\n",
    "                ax.add_patch(rect)\n",
    "                plt.show()    \n",
    "            if False:\n",
    "                # Create figure and axes\n",
    "                fig, ax = plt.subplots(figsize=(15, 8))\n",
    "\n",
    "                # Display the cropped image\n",
    "                ax.imshow(frame[(d.top()):(d.bottom()), (d.left()):(d.right()), :])\n",
    "\n",
    "                plt.show()                \n",
    "\n",
    "            filename_face = filename.replace(datapath, datapath_faces)\n",
    "            imageio.imwrite(filename_face, frame[(d.top()):(d.bottom()), (d.left()):(d.right()), :]) \n"
   ]
  },
  {
   "cell_type": "markdown",
   "metadata": {},
   "source": [
    "## running the model on the cropped faces"
   ]
  },
  {
   "cell_type": "code",
   "execution_count": 6,
   "metadata": {
    "ExecuteTime": {
     "end_time": "2018-09-13T05:19:22.269997Z",
     "start_time": "2018-09-13T05:19:22.245989Z"
    }
   },
   "outputs": [
    {
     "name": "stdout",
     "output_type": "stream",
     "text": [
      "Parameters= {'dataset_folder': 'dataset_faces', 'batch_size': 8, 'test_batch_size': 1, 'valid_size': 0.2, 'epochs': 40, 'do_adam': False, 'lr': 0.035, 'momentum': 0.05, 'no_cuda': False, 'num_processes': 1, 'seed': 42, 'log_interval': 0, 'fullsize': 64, 'crop': 64, 'size': 64, 'mean': 0.36, 'std': 0.3, 'conv1_dim': 9, 'conv1_kernel_size': 11, 'conv2_dim': 18, 'conv2_kernel_size': 7, 'stride1': 2, 'stride2': 4, 'N_cv': 20, 'dimension': 30, 'verbose': 0}\n"
     ]
    }
   ],
   "source": [
    "from gaze import init\n",
    "epochs = 40\n",
    "args = init(verbose=0, epochs=epochs)\n",
    "print('Parameters=', args)\n",
    "\n",
    "path = '_Regard.pt'"
   ]
  },
  {
   "cell_type": "code",
   "execution_count": 7,
   "metadata": {
    "ExecuteTime": {
     "end_time": "2018-09-13T05:19:22.414099Z",
     "start_time": "2018-09-13T05:19:22.271973Z"
    }
   },
   "outputs": [
    {
     "name": "stdout",
     "output_type": "stream",
     "text": [
      "-rw-r--r--  1 lolo  staff  100741 Sep 13 07:13 _Regard.pt\r\n"
     ]
    }
   ],
   "source": [
    "!ls -l {path}\n",
    "#!rm {path}"
   ]
  },
  {
   "cell_type": "code",
   "execution_count": 8,
   "metadata": {
    "ExecuteTime": {
     "end_time": "2018-09-13T05:19:22.455037Z",
     "start_time": "2018-09-13T05:19:22.416673Z"
    },
    "scrolled": false
   },
   "outputs": [
    {
     "name": "stdout",
     "output_type": "stream",
     "text": [
      "Loading file _Regard.pt\n"
     ]
    }
   ],
   "source": [
    "from gaze import ML\n",
    "ml = ML(args)\n",
    "\n",
    "import os\n",
    "import torch\n",
    "if os.path.isfile(path):\n",
    "    ml.model.load_state_dict(torch.load(path))\n",
    "    print('Loading file', path)\n",
    "else:\n",
    "    print('Training model...')\n",
    "    ml.train()\n",
    "    torch.save(ml.model.state_dict(), path) #save the neural network state\n",
    "    print('Model saved at', path)"
   ]
  },
  {
   "cell_type": "markdown",
   "metadata": {},
   "source": [
    "## testing the model"
   ]
  },
  {
   "cell_type": "code",
   "execution_count": 9,
   "metadata": {
    "ExecuteTime": {
     "end_time": "2018-09-13T05:19:23.254031Z",
     "start_time": "2018-09-13T05:19:22.457215Z"
    }
   },
   "outputs": [
    {
     "name": "stdout",
     "output_type": "stream",
     "text": [
      "Accuracy=99.4%\n"
     ]
    }
   ],
   "source": [
    "Accuracy = ml.test()\n",
    "print('Accuracy={:.1f}%'.format(Accuracy*100))"
   ]
  },
  {
   "cell_type": "markdown",
   "metadata": {},
   "source": [
    "Showing the one which are wrong:"
   ]
  },
  {
   "cell_type": "code",
   "execution_count": 13,
   "metadata": {
    "ExecuteTime": {
     "end_time": "2018-09-13T05:51:54.741999Z",
     "start_time": "2018-09-13T05:51:40.574416Z"
    },
    "scrolled": false
   },
   "outputs": [
    {
     "name": "stdout",
     "output_type": "stream",
     "text": [
      "target:blink\n",
      "pred  :center\n"
     ]
    },
    {
     "data": {
      "image/png": "[encoded data removed]",
      "text/plain": [
       "<Figure size 936x360 with 1 Axes>"
      ]
     },
     "metadata": {},
     "output_type": "display_data"
    },
    {
     "name": "stdout",
     "output_type": "stream",
     "text": [
      "target:blink\n",
      "pred  :center\n"
     ]
    },
    {
     "data": {
      "image/png": "[encoded data removed]",
      "text/plain": [
       "<Figure size 936x360 with 1 Axes>"
      ]
     },
     "metadata": {},
     "output_type": "display_data"
    }
   ],
   "source": [
    "%matplotlib inline\n",
    "import matplotlib.pyplot as plt\n",
    "\n",
    "for data, labels in ml.dataset.test_loader:\n",
    "    fig, ax = ml.show(only_wrong=True)\n",
    "    plt.show() \n"
   ]
  },
  {
   "cell_type": "markdown",
   "metadata": {},
   "source": [
    "## cross-validation"
   ]
  },
  {
   "cell_type": "code",
   "execution_count": 11,
   "metadata": {
    "ExecuteTime": {
     "end_time": "2018-09-13T05:38:16.105453Z",
     "start_time": "2018-09-13T05:19:31.102635Z"
    }
   },
   "outputs": [
    {
     "name": "stdout",
     "output_type": "stream",
     "text": [
      "Accuracy 0.9418539325842696 +/- 0.009612325074308259\n"
     ]
    }
   ],
   "source": [
    "args = init(verbose=0, log_interval=0, epochs=20)\n",
    "from gaze import MetaML\n",
    "mml = MetaML(args)\n",
    "Accuracy = mml.protocol(args, 42)\n",
    "print('Accuracy', Accuracy[:-1].mean(), '+/-', Accuracy[:-1].std())"
   ]
  },
  {
   "cell_type": "code",
   "execution_count": 32,
   "metadata": {
    "ExecuteTime": {
     "end_time": "2018-09-13T06:09:52.568945Z",
     "start_time": "2018-09-13T06:09:52.171264Z"
    }
   },
   "outputs": [
    {
     "data": {
      "image/png": "[encoded data removed]",
      "text/plain": [
       "<Figure size 576x360 with 1 Axes>"
      ]
     },
     "metadata": {
      "needs_background": "light"
     },
     "output_type": "display_data"
    }
   ],
   "source": [
    "import numpy as np\n",
    "fig, ax = plt.subplots(figsize=((8, 5)))\n",
    "n, bins, patches = ax.hist(Accuracy[:-1]*100, bins=np.linspace(0, 100, 100), alpha=.4)\n",
    "ax.vlines(np.median(Accuracy[:-1])*100, 0, n.max(), 'g', linestyles='dashed', label='median')\n",
    "ax.vlines(25, 0, n.max(), 'r', linestyles='dashed', label='chance level')\n",
    "ax.vlines(100, 0, n.max(), 'k', label='max')\n",
    "ax.set_xlabel('Accuracy (%)')\n",
    "ax.set_ylabel('Smarts')\n",
    "ax.legend(loc='best')\n",
    "plt.show() "
   ]
  },
  {
   "cell_type": "code",
   "execution_count": null,
   "metadata": {},
   "outputs": [],
   "source": []
  }
 ],
 "metadata": {
  "kernel_info": {
   "name": "python3"
  },
  "kernelspec": {
   "display_name": "Python 3",
   "language": "python",
   "name": "python3"
  },
  "language_info": {
   "codemirror_mode": {
    "name": "ipython",
    "version": 3
   },
   "file_extension": ".py",
   "mimetype": "text/x-python",
   "name": "python",
   "nbconvert_exporter": "python",
   "pygments_lexer": "ipython3",
   "version": "3.6.5"
  },
  "nteract": {
   "version": "0.11.7"
  },
  "toc": {
   "base_numbering": 1,
   "nav_menu": {},
   "number_sections": true,
   "sideBar": true,
   "skip_h1_title": false,
   "title_cell": "Table of Contents",
   "title_sidebar": "Contents",
   "toc_cell": false,
   "toc_position": {},
   "toc_section_display": "block",
   "toc_window_display": false
  }
 },
 "nbformat": 4,
 "nbformat_minor": 2
}
