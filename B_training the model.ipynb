{
 "cells": [
  {
   "cell_type": "code",
   "execution_count": 1,
   "metadata": {
    "ExecuteTime": {
     "end_time": "2018-10-18T17:45:22.549710Z",
     "start_time": "2018-10-18T17:45:22.524589Z"
    }
   },
   "outputs": [],
   "source": [
    "%load_ext autoreload\n",
    "%autoreload 2"
   ]
  },
  {
   "cell_type": "code",
   "execution_count": 2,
   "metadata": {
    "ExecuteTime": {
     "end_time": "2018-10-18T17:45:23.206202Z",
     "start_time": "2018-10-18T17:45:22.551949Z"
    }
   },
   "outputs": [],
   "source": [
    "import numpy as np\n",
    "%matplotlib inline\n",
    "import matplotlib.pyplot as plt"
   ]
  },
  {
   "cell_type": "code",
   "execution_count": 3,
   "metadata": {
    "ExecuteTime": {
     "end_time": "2018-10-18T17:45:24.269103Z",
     "start_time": "2018-10-18T17:45:23.212684Z"
    }
   },
   "outputs": [
    {
     "data": {
      "application/json": {
       "Software versions": [
        {
         "module": "Python",
         "version": "3.6.5 64bit [GCC 4.2.1 Compatible Apple LLVM 9.1.0 (clang-902.0.39.2)]"
        },
        {
         "module": "IPython",
         "version": "7.0.1"
        },
        {
         "module": "OS",
         "version": "Darwin 18.0.0 x86_64 i386 64bit"
        },
        {
         "module": "numpy",
         "version": "1.15.2"
        },
        {
         "module": "dlib",
         "version": "19.16.0"
        },
        {
         "module": "matplotlib",
         "version": "3.0.0"
        },
        {
         "module": "imageio",
         "version": "2.4.1"
        },
        {
         "module": "gaze",
         "version": "The 'gaze' distribution was not found and is required by the application"
        },
        {
         "module": "torch",
         "version": "0.4.1"
        },
        {
         "module": "torchvision",
         "version": "0.2.1"
        }
       ]
      },
      "text/html": [
       "<table><tr><th>Software</th><th>Version</th></tr><tr><td>Python</td><td>3.6.5 64bit [GCC 4.2.1 Compatible Apple LLVM 9.1.0 (clang-902.0.39.2)]</td></tr><tr><td>IPython</td><td>7.0.1</td></tr><tr><td>OS</td><td>Darwin 18.0.0 x86_64 i386 64bit</td></tr><tr><td>numpy</td><td>1.15.2</td></tr><tr><td>dlib</td><td>19.16.0</td></tr><tr><td>matplotlib</td><td>3.0.0</td></tr><tr><td>imageio</td><td>2.4.1</td></tr><tr><td>gaze</td><td>The 'gaze' distribution was not found and is required by the application</td></tr><tr><td>torch</td><td>0.4.1</td></tr><tr><td>torchvision</td><td>0.2.1</td></tr><tr><td colspan='2'>Thu Oct 18 19:45:24 2018 CEST</td></tr></table>"
      ],
      "text/latex": [
       "\\begin{tabular}{|l|l|}\\hline\n",
       "{\\bf Software} & {\\bf Version} \\\\ \\hline\\hline\n",
       "Python & 3.6.5 64bit [GCC 4.2.1 Compatible Apple LLVM 9.1.0 (clang-902.0.39.2)] \\\\ \\hline\n",
       "IPython & 7.0.1 \\\\ \\hline\n",
       "OS & Darwin 18.0.0 x86\\_64 i386 64bit \\\\ \\hline\n",
       "numpy & 1.15.2 \\\\ \\hline\n",
       "dlib & 19.16.0 \\\\ \\hline\n",
       "matplotlib & 3.0.0 \\\\ \\hline\n",
       "imageio & 2.4.1 \\\\ \\hline\n",
       "gaze & The 'gaze' distribution was not found and is required by the application \\\\ \\hline\n",
       "torch & 0.4.1 \\\\ \\hline\n",
       "torchvision & 0.2.1 \\\\ \\hline\n",
       "\\hline \\multicolumn{2}{|l|}{Thu Oct 18 19:45:24 2018 CEST} \\\\ \\hline\n",
       "\\end{tabular}\n"
      ],
      "text/plain": [
       "Software versions\n",
       "Python 3.6.5 64bit [GCC 4.2.1 Compatible Apple LLVM 9.1.0 (clang-902.0.39.2)]\n",
       "IPython 7.0.1\n",
       "OS Darwin 18.0.0 x86_64 i386 64bit\n",
       "numpy 1.15.2\n",
       "dlib 19.16.0\n",
       "matplotlib 3.0.0\n",
       "imageio 2.4.1\n",
       "gaze The 'gaze' distribution was not found and is required by the application\n",
       "torch 0.4.1\n",
       "torchvision 0.2.1\n",
       "Thu Oct 18 19:45:24 2018 CEST"
      ]
     },
     "execution_count": 3,
     "metadata": {},
     "output_type": "execute_result"
    }
   ],
   "source": [
    "%load_ext version_information\n",
    "%version_information numpy, dlib, matplotlib, imageio, gaze, torch, torchvision"
   ]
  },
  {
   "cell_type": "raw",
   "metadata": {},
   "source": [
    "import time\n",
    "time.sleep(8*3600)"
   ]
  },
  {
   "cell_type": "markdown",
   "metadata": {},
   "source": [
    "# training the model on the cropped faces"
   ]
  },
  {
   "cell_type": "code",
   "execution_count": 4,
   "metadata": {
    "ExecuteTime": {
     "end_time": "2018-10-18T17:45:24.297652Z",
     "start_time": "2018-10-18T17:45:24.273379Z"
    }
   },
   "outputs": [],
   "source": [
    "from gaze import init"
   ]
  },
  {
   "cell_type": "code",
   "execution_count": 5,
   "metadata": {
    "ExecuteTime": {
     "end_time": "2018-10-18T17:45:24.320742Z",
     "start_time": "2018-10-18T17:45:24.299393Z"
    },
    "scrolled": true
   },
   "outputs": [],
   "source": [
    "args = init(verbose=1)\n",
    "path = '_Regard.pt'"
   ]
  },
  {
   "cell_type": "code",
   "execution_count": 6,
   "metadata": {
    "ExecuteTime": {
     "end_time": "2018-10-18T17:45:24.342832Z",
     "start_time": "2018-10-18T17:45:24.322405Z"
    },
    "scrolled": true
   },
   "outputs": [],
   "source": [
    "epochs = 400\n",
    "args = init(verbose=1, epochs=epochs)\n",
    "\n",
    "path = '_Regard_400.pt'"
   ]
  },
  {
   "cell_type": "code",
   "execution_count": 7,
   "metadata": {
    "ExecuteTime": {
     "end_time": "2018-10-18T17:45:24.489215Z",
     "start_time": "2018-10-18T17:45:24.344616Z"
    }
   },
   "outputs": [
    {
     "name": "stdout",
     "output_type": "stream",
     "text": [
      "Parameters= {'dataset_folder': 'dataset', 'dataset_faces_folder': 'dataset_faces', 'batch_size': 8, 'test_batch_size': 1, 'size_test_set': 0.2, 'epochs': 400, 'do_adam': False, 'lr': 0.025, 'momentum': 0.05, 'no_cuda': False, 'num_processes': 1, 'seed': 42, 'log_interval': 0, 'fullsize': 75, 'crop': 64, 'size': 64, 'mean': 0.4, 'std': 0.3, 'conv1_dim': 9, 'conv1_kernel_size': 18, 'conv2_dim': 36, 'conv2_kernel_size': 14, 'conv1_bn_momentum': 0.9, 'conv2_bn_momentum': 0.9, 'dense_bn_momentum': 0.9, 'stride1': 2, 'stride2': 4, 'N_cv': 4, 'dimension': 30, 'verbose': 1}\n",
      "-rw-r--r--  1 laurentperrinet  staff  311403 Oct 18 10:51 _Regard_400.pt\r\n"
     ]
    }
   ],
   "source": [
    "print('Parameters=', args)\n",
    "!ls -l {path}"
   ]
  },
  {
   "cell_type": "raw",
   "metadata": {},
   "source": [
    "!rm {path}"
   ]
  },
  {
   "cell_type": "code",
   "execution_count": 8,
   "metadata": {
    "ExecuteTime": {
     "end_time": "2018-10-18T17:45:24.541455Z",
     "start_time": "2018-10-18T17:45:24.491944Z"
    },
    "scrolled": false
   },
   "outputs": [
    {
     "name": "stdout",
     "output_type": "stream",
     "text": [
      "Found 2224 sample images;  1780  to train 444 to test\n",
      "Loading file _Regard_400.pt\n"
     ]
    }
   ],
   "source": [
    "from gaze import ML\n",
    "ml = ML(args)\n",
    "ml.train(path=path)"
   ]
  },
  {
   "cell_type": "markdown",
   "metadata": {},
   "source": [
    "## testing the model"
   ]
  },
  {
   "cell_type": "code",
   "execution_count": 9,
   "metadata": {
    "ExecuteTime": {
     "end_time": "2018-10-18T17:45:29.445686Z",
     "start_time": "2018-10-18T17:45:24.543672Z"
    },
    "scrolled": false
   },
   "outputs": [
    {
     "name": "stdout",
     "output_type": "stream",
     "text": [
      "Accuracy=95.0%\n"
     ]
    }
   ],
   "source": [
    "Accuracy = ml.test()\n",
    "print('Accuracy={:.1f}%'.format(Accuracy*100))"
   ]
  },
  {
   "cell_type": "markdown",
   "metadata": {},
   "source": [
    "Showing the one which are wrong:"
   ]
  },
  {
   "cell_type": "raw",
   "metadata": {},
   "source": [
    "max(ml.dataset.test_loader.dataset.indices)"
   ]
  },
  {
   "cell_type": "raw",
   "metadata": {},
   "source": [
    "ml.dataset.dataset.imgs[0]"
   ]
  },
  {
   "cell_type": "raw",
   "metadata": {},
   "source": [
    "ml.dataset.dataset.imgs[0][0]"
   ]
  },
  {
   "cell_type": "raw",
   "metadata": {},
   "source": [
    "for idx, (data, target) in enumerate(ml.dataset.test_loader):\n",
    "    print(target, ml.dataset.dataset.imgs[ml.dataset.test_loader.dataset.indices[idx]])"
   ]
  },
  {
   "cell_type": "raw",
   "metadata": {
    "scrolled": false
   },
   "source": [
    "for idx, (data, target) in enumerate(ml.dataset.dataset):\n",
    "    print(target, ml.dataset.dataset.imgs[ml.dataset.dataset.indices[idx]])"
   ]
  },
  {
   "cell_type": "raw",
   "metadata": {
    "scrolled": false
   },
   "source": [
    "for data, labels in ml.dataset.test_loader:\n",
    "    fig, ax = ml.show(only_wrong=False)\n",
    "    plt.show() \n"
   ]
  },
  {
   "cell_type": "raw",
   "metadata": {
    "scrolled": false
   },
   "source": [
    "for data, labels in ml.dataset.dataset:\n",
    "    fig, ax = ml.show(only_wrong=True)\n",
    "    plt.show() \n"
   ]
  },
  {
   "cell_type": "markdown",
   "metadata": {},
   "source": [
    "## showing the images which are wrongly classified"
   ]
  },
  {
   "cell_type": "code",
   "execution_count": 10,
   "metadata": {
    "ExecuteTime": {
     "end_time": "2018-10-18T17:45:58.723685Z",
     "start_time": "2018-10-18T17:45:29.451961Z"
    },
    "scrolled": false
   },
   "outputs": [
    {
     "name": "stdout",
     "output_type": "stream",
     "text": [
      "For  dataset/center/2018-09-05_Laurent_076.png , Pred = right True = center , P= ['0.000', '0.155', '0.013', '0.832']\n",
      "For  dataset/center/2018-10-12_Laurent_121.png , Pred = right True = center , P= ['0.000', '0.000', '0.000', '1.000']\n",
      "For  dataset/center/2018-10-18_Laurent_105.png , Pred = blink True = center , P= ['0.875', '0.125', '0.000', '0.000']\n",
      "For  dataset/center/2018-09-14_Laurent_067.png , Pred = left True = center , P= ['0.000', '0.478', '0.519', '0.003']\n",
      "For  dataset/center/2018-10-12_Laurent_057.png , Pred = right True = center , P= ['0.000', '0.000', '0.000', '1.000']\n",
      "For  dataset/center/2018-10-18_Laurent_059.png , Pred = left True = center , P= ['0.172', '0.000', '0.828', '0.000']\n",
      "For  dataset/center/2018-10-15_Laurent_132.png , Pred = left True = center , P= ['0.000', '0.087', '0.899', '0.014']\n",
      "For  dataset/center/2018-10-18_Laurent_048.png , Pred = blink True = center , P= ['0.999', '0.000', '0.001', '0.000']\n",
      "For  dataset/center/2018-09-05_Laurent_110.png , Pred = right True = center , P= ['0.000', '0.000', '0.000', '1.000']\n",
      "For  dataset/center/2018-10-18_Laurent_088.png , Pred = blink True = center , P= ['1.000', '0.000', '0.000', '0.000']\n",
      "For  dataset/center/2018-10-18_Laurent_077.png , Pred = blink True = center , P= ['1.000', '0.000', '0.000', '0.000']\n",
      "For  dataset/center/2018-10-18_Laurent_165.png , Pred = blink True = center , P= ['1.000', '0.000', '0.000', '0.000']\n",
      "For  dataset/center/2018-10-12_Laurent_022.png , Pred = right True = center , P= ['0.000', '0.151', '0.000', '0.849']\n",
      "For  dataset/center/2018-10-14_Laurent_241.png , Pred = right True = center , P= ['0.003', '0.482', '0.000', '0.515']\n",
      "For  dataset/center/2018-10-18_Laurent_172.png , Pred = blink True = center , P= ['1.000', '0.000', '0.000', '0.000']\n",
      "For  dataset/center/2018-10-12_Laurent_140.png , Pred = left True = center , P= ['0.000', '0.001', '0.998', '0.001']\n",
      "For  dataset/center/2018-09-14_Laurent_158.png , Pred = left True = center , P= ['0.000', '0.136', '0.852', '0.012']\n",
      "For  dataset/center/2018-10-18_Laurent_188.png , Pred = blink True = center , P= ['1.000', '0.000', '0.000', '0.000']\n",
      "For  dataset/center/2018-10-18_Laurent_177.png , Pred = blink True = center , P= ['1.000', '0.000', '0.000', '0.000']\n",
      "For  dataset/center/2018-10-15_Laurent_182.png , Pred = left True = center , P= ['0.000', '0.027', '0.966', '0.007']\n",
      "For  dataset/center/2018-10-18_Laurent_215.png , Pred = blink True = center , P= ['1.000', '0.000', '0.000', '0.000']\n",
      "For  dataset/center/2018-10-18_Laurent_229.png , Pred = blink True = center , P= ['0.818', '0.180', '0.000', '0.002']\n",
      "For  dataset/center/2018-10-18_Laurent_017.png , Pred = left True = center , P= ['0.000', '0.000', '1.000', '0.000']\n",
      "For  dataset/center/2018-10-18_Laurent_176.png , Pred = blink True = center , P= ['1.000', '0.000', '0.000', '0.000']\n",
      "For  dataset/center/2018-10-18_Laurent_216.png , Pred = blink True = center , P= ['1.000', '0.000', '0.000', '0.000']\n",
      "For  dataset/center/2018-10-18_Laurent_217.png , Pred = blink True = center , P= ['1.000', '0.000', '0.000', '0.000']\n",
      "For  dataset/center/2018-09-05_Laurent_170.png , Pred = blink True = center , P= ['0.993', '0.007', '0.000', '0.000']\n",
      "For  dataset/center/2018-10-18_Laurent_232.png , Pred = blink True = center , P= ['1.000', '0.000', '0.000', '0.000']\n",
      "For  dataset/center/2018-10-18_Laurent_145.png , Pred = blink True = center , P= ['1.000', '0.000', '0.000', '0.000']\n",
      "For  dataset/center/2018-09-14_Laurent_237.png , Pred = right True = center , P= ['0.097', '0.002', '0.383', '0.517']\n",
      "For  dataset/center/2018-10-18_Laurent_157.png , Pred = blink True = center , P= ['1.000', '0.000', '0.000', '0.000']\n",
      "For  dataset/center/2018-10-18_Laurent_237.png , Pred = right True = center , P= ['0.000', '0.044', '0.000', '0.956']\n",
      "For  dataset/center/2018-10-18_Laurent_035.png , Pred = blink True = center , P= ['0.997', '0.000', '0.003', '0.000']\n",
      "For  dataset/center/2018-10-18_Laurent_034.png , Pred = left True = center , P= ['0.397', '0.038', '0.558', '0.008']\n",
      "For  dataset/center/2018-10-18_Laurent_154.png , Pred = blink True = center , P= ['1.000', '0.000', '0.000', '0.000']\n",
      "For  dataset/center/2018-10-18_Laurent_091.png , Pred = blink True = center , P= ['1.000', '0.000', '0.000', '0.000']\n",
      "For  dataset/center/2018-10-18_Laurent_118.png , Pred = blink True = center , P= ['1.000', '0.000', '0.000', '0.000']\n",
      "For  dataset/center/2018-10-18_Laurent_079.png , Pred = blink True = center , P= ['0.989', '0.011', '0.000', '0.000']\n",
      "For  dataset/center/2018-09-05_Laurent_097.png , Pred = left True = center , P= ['0.000', '0.094', '0.906', '0.000']\n",
      "For  dataset/center/2018-10-18_Laurent_119.png , Pred = blink True = center , P= ['0.987', '0.013', '0.000', '0.000']\n",
      "For  dataset/center/2018-10-18_Laurent_121.png , Pred = blink True = center , P= ['0.986', '0.000', '0.000', '0.014']\n",
      "For  dataset/center/2018-10-18_Laurent_069.png , Pred = blink True = center , P= ['0.998', '0.002', '0.000', '0.000']\n",
      "For  dataset/center/2018-10-18_Laurent_068.png , Pred = blink True = center , P= ['0.997', '0.000', '0.003', '0.000']\n",
      "For  dataset/center/2018-10-18_Laurent_054.png , Pred = blink True = center , P= ['1.000', '0.000', '0.000', '0.000']\n",
      "For  dataset/center/2018-10-18_Laurent_083.png , Pred = blink True = center , P= ['1.000', '0.000', '0.000', '0.000']\n",
      "For  dataset/center/2018-10-03_Laurent_129.png , Pred = right True = center , P= ['0.000', '0.000', '0.000', '1.000']\n",
      "For  dataset/center/2018-10-18_Laurent_057.png , Pred = blink True = center , P= ['0.997', '0.000', '0.000', '0.003']\n",
      "For  dataset/center/2018-10-18_Laurent_094.png , Pred = blink True = center , P= ['1.000', '0.000', '0.000', '0.000']\n",
      "For  dataset/center/2018-10-18_Laurent_080.png , Pred = blink True = center , P= ['0.998', '0.002', '0.000', '0.000']\n",
      "For  dataset/center/2018-09-05_Laurent_091.png , Pred = right True = center , P= ['0.000', '0.034', '0.003', '0.963']\n",
      "For  dataset/center/2018-09-14_Laurent_243.png , Pred = right True = center , P= ['0.000', '0.001', '0.098', '0.901']\n",
      "For  dataset/left/2018-10-18_Laurent_112.png , Pred = blink True = left , P= ['0.989', '0.000', '0.011', '0.000']\n",
      "For  dataset/left/2018-10-18_Laurent_139.png , Pred = blink True = left , P= ['1.000', '0.000', '0.000', '0.000']\n",
      "For  dataset/left/2018-10-18_Laurent_129.png , Pred = blink True = left , P= ['1.000', '0.000', '0.000', '0.000']\n",
      "For  dataset/left/2018-10-18_Laurent_101.png , Pred = blink True = left , P= ['0.997', '0.000', '0.003', '0.000']\n",
      "For  dataset/left/2018-10-18_Laurent_062.png , Pred = right True = left , P= ['0.000', '0.008', '0.000', '0.992']\n",
      "For  dataset/left/2018-10-15_Laurent_054.png , Pred = center True = left , P= ['0.000', '0.908', '0.092', '0.000']\n",
      "For  dataset/left/2018-10-18_Laurent_171.png , Pred = blink True = left , P= ['1.000', '0.000', '0.000', '0.000']\n",
      "For  dataset/left/2018-10-18_Laurent_213.png , Pred = blink True = left , P= ['1.000', '0.000', '0.000', '0.000']\n",
      "For  dataset/left/2018-09-05_Laurent_001.png , Pred = center True = left , P= ['0.000', '0.991', '0.009', '0.000']\n",
      "For  dataset/left/2018-10-18_Laurent_205.png , Pred = blink True = left , P= ['1.000', '0.000', '0.000', '0.000']\n",
      "For  dataset/left/2018-09-14_Laurent_207.png , Pred = center True = left , P= ['0.000', '0.941', '0.059', '0.000']\n",
      "For  dataset/left/2018-10-18_Laurent_163.png , Pred = blink True = left , P= ['0.902', '0.000', '0.098', '0.000']\n",
      "For  dataset/left/2018-10-12_Laurent_232.png , Pred = center True = left , P= ['0.000', '0.571', '0.429', '0.000']\n",
      "For  dataset/left/2018-10-18_Laurent_189.png , Pred = blink True = left , P= ['1.000', '0.000', '0.000', '0.000']\n",
      "For  dataset/left/2018-10-12_Laurent_219.png , Pred = right True = left , P= ['0.000', '0.000', '0.000', '1.000']\n",
      "For  dataset/left/2018-10-18_Laurent_149.png , Pred = blink True = left , P= ['1.000', '0.000', '0.000', '0.000']\n",
      "For  dataset/left/2018-10-18_Laurent_175.png , Pred = blink True = left , P= ['1.000', '0.000', '0.000', '0.000']\n",
      "For  dataset/left/2018-10-18_Laurent_233.png , Pred = blink True = left , P= ['1.000', '0.000', '0.000', '0.000']\n",
      "For  dataset/left/2018-10-18_Laurent_151.png , Pred = blink True = left , P= ['1.000', '0.000', '0.000', '0.000']\n",
      "For  dataset/left/2018-10-18_Laurent_218.png , Pred = blink True = left , P= ['1.000', '0.000', '0.000', '0.000']\n",
      "For  dataset/left/2018-10-18_Laurent_185.png , Pred = blink True = left , P= ['1.000', '0.000', '0.000', '0.000']\n",
      "For  dataset/left/2018-10-18_Laurent_195.png , Pred = blink True = left , P= ['1.000', '0.000', '0.000', '0.000']\n",
      "For  dataset/left/2018-10-18_Laurent_142.png , Pred = blink True = left , P= ['1.000', '0.000', '0.000', '0.000']\n"
     ]
    },
    {
     "name": "stdout",
     "output_type": "stream",
     "text": [
      "For  dataset/left/2018-10-18_Laurent_208.png , Pred = blink True = left , P= ['1.000', '0.000', '0.000', '0.000']\n",
      "For  dataset/left/2018-10-12_Laurent_206.png , Pred = center True = left , P= ['0.103', '0.870', '0.027', '0.000']\n",
      "For  dataset/left/2018-10-18_Laurent_221.png , Pred = right True = left , P= ['0.012', '0.000', '0.000', '0.987']\n",
      "For  dataset/left/2018-10-18_Laurent_194.png , Pred = blink True = left , P= ['1.000', '0.000', '0.000', '0.000']\n",
      "For  dataset/left/2018-10-18_Laurent_180.png , Pred = blink True = left , P= ['1.000', '0.000', '0.000', '0.000']\n",
      "For  dataset/left/2018-10-18_Laurent_196.png , Pred = blink True = left , P= ['1.000', '0.000', '0.000', '0.000']\n",
      "For  dataset/left/2018-10-18_Laurent_126.png , Pred = blink True = left , P= ['0.995', '0.005', '0.000', '0.000']\n",
      "For  dataset/left/2018-10-18_Laurent_124.png , Pred = blink True = left , P= ['0.991', '0.009', '0.000', '0.000']\n",
      "For  dataset/left/2018-10-18_Laurent_087.png , Pred = blink True = left , P= ['0.994', '0.000', '0.006', '0.000']\n",
      "For  dataset/left/2018-10-18_Laurent_051.png , Pred = blink True = left , P= ['0.695', '0.000', '0.305', '0.000']\n",
      "For  dataset/left/2018-10-18_Laurent_253.png , Pred = center True = left , P= ['0.077', '0.922', '0.001', '0.000']\n",
      "For  dataset/left/2018-10-18_Laurent_243.png , Pred = center True = left , P= ['0.000', '0.993', '0.007', '0.000']\n",
      "For  dataset/left/2018-10-18_Laurent_108.png , Pred = blink True = left , P= ['0.965', '0.000', '0.035', '0.000']\n",
      "For  dataset/left/2018-10-18_Laurent_122.png , Pred = blink True = left , P= ['0.998', '0.002', '0.000', '0.000']\n",
      "For  dataset/left/2018-10-18_Laurent_240.png , Pred = center True = left , P= ['0.000', '1.000', '0.000', '0.000']\n",
      "For  dataset/right/2018-10-18_Laurent_067.png , Pred = blink True = right , P= ['0.533', '0.006', '0.000', '0.460']\n",
      "For  dataset/right/2018-10-18_Laurent_098.png , Pred = blink True = right , P= ['1.000', '0.000', '0.000', '0.000']\n",
      "For  dataset/right/2018-10-18_Laurent_107.png , Pred = blink True = right , P= ['1.000', '0.000', '0.000', '0.000']\n",
      "For  dataset/right/2018-10-18_Laurent_065.png , Pred = blink True = right , P= ['0.730', '0.067', '0.000', '0.203']\n",
      "For  dataset/right/2018-10-18_Laurent_064.png , Pred = blink True = right , P= ['1.000', '0.000', '0.000', '0.000']\n",
      "For  dataset/right/2018-10-18_Laurent_058.png , Pred = blink True = right , P= ['0.988', '0.000', '0.000', '0.011']\n",
      "For  dataset/right/2018-10-18_Laurent_110.png , Pred = blink True = right , P= ['0.975', '0.000', '0.000', '0.025']\n",
      "For  dataset/right/2018-10-18_Laurent_104.png , Pred = blink True = right , P= ['1.000', '0.000', '0.000', '0.000']\n",
      "For  dataset/right/2018-10-18_Laurent_138.png , Pred = blink True = right , P= ['0.999', '0.000', '0.000', '0.001']\n",
      "For  dataset/right/2018-10-18_Laurent_100.png , Pred = blink True = right , P= ['1.000', '0.000', '0.000', '0.000']\n",
      "For  dataset/right/2018-10-18_Laurent_115.png , Pred = blink True = right , P= ['0.995', '0.005', '0.000', '0.000']\n",
      "For  dataset/right/2018-10-18_Laurent_116.png , Pred = blink True = right , P= ['1.000', '0.000', '0.000', '0.000']\n",
      "For  dataset/right/2018-10-18_Laurent_010.png , Pred = left True = right , P= ['0.004', '0.000', '0.996', '0.000']\n",
      "For  dataset/right/2018-10-18_Laurent_038.png , Pred = blink True = right , P= ['1.000', '0.000', '0.000', '0.000']\n",
      "For  dataset/right/2018-10-18_Laurent_212.png , Pred = blink True = right , P= ['1.000', '0.000', '0.000', '0.000']\n",
      "For  dataset/right/2018-10-18_Laurent_206.png , Pred = blink True = right , P= ['1.000', '0.000', '0.000', '0.000']\n",
      "For  dataset/right/2018-10-18_Laurent_210.png , Pred = blink True = right , P= ['1.000', '0.000', '0.000', '0.000']\n",
      "For  dataset/right/2018-10-18_Laurent_204.png , Pred = blink True = right , P= ['0.999', '0.000', '0.000', '0.001']\n",
      "For  dataset/right/2018-10-12_Laurent_141.png , Pred = center True = right , P= ['0.000', '0.986', '0.000', '0.014']\n",
      "For  dataset/right/2018-10-18_Laurent_201.png , Pred = blink True = right , P= ['0.877', '0.000', '0.000', '0.123']\n",
      "For  dataset/right/2018-10-18_Laurent_003.png , Pred = left True = right , P= ['0.000', '0.000', '1.000', '0.000']\n",
      "For  dataset/right/2018-10-18_Laurent_002.png , Pred = left True = right , P= ['0.000', '0.000', '1.000', '0.000']\n",
      "For  dataset/right/2018-10-18_Laurent_214.png , Pred = blink True = right , P= ['1.000', '0.000', '0.000', '0.000']\n",
      "For  dataset/right/2018-10-18_Laurent_174.png , Pred = blink True = right , P= ['1.000', '0.000', '0.000', '0.000']\n",
      "For  dataset/right/2018-10-18_Laurent_148.png , Pred = blink True = right , P= ['0.995', '0.000', '0.000', '0.005']\n",
      "For  dataset/right/2018-09-05_Laurent_011.png , Pred = left True = right , P= ['0.000', '0.000', '1.000', '0.000']\n",
      "For  dataset/right/2018-10-18_Laurent_202.png , Pred = blink True = right , P= ['0.996', '0.000', '0.000', '0.004']\n",
      "For  dataset/right/2018-10-18_Laurent_000.png , Pred = left True = right , P= ['0.000', '0.003', '0.997', '0.000']\n",
      "For  dataset/right/2018-09-14_Laurent_177.png , Pred = center True = right , P= ['0.000', '0.948', '0.000', '0.052']\n",
      "For  dataset/right/2018-10-18_Laurent_203.png , Pred = blink True = right , P= ['1.000', '0.000', '0.000', '0.000']\n",
      "For  dataset/right/2018-10-18_Laurent_018.png , Pred = left True = right , P= ['0.000', '0.000', '1.000', '0.000']\n",
      "For  dataset/right/2018-10-18_Laurent_025.png , Pred = blink True = right , P= ['0.503', '0.004', '0.000', '0.493']\n",
      "For  dataset/right/2018-10-18_Laurent_227.png , Pred = blink True = right , P= ['0.991', '0.000', '0.000', '0.009']\n",
      "For  dataset/right/2018-10-18_Laurent_186.png , Pred = blink True = right , P= ['1.000', '0.000', '0.000', '0.000']\n",
      "For  dataset/right/2018-10-18_Laurent_184.png , Pred = blink True = right , P= ['1.000', '0.000', '0.000', '0.000']\n",
      "For  dataset/right/2018-10-18_Laurent_190.png , Pred = blink True = right , P= ['1.000', '0.000', '0.000', '0.000']\n",
      "For  dataset/right/2018-10-12_Laurent_149.png , Pred = center True = right , P= ['0.040', '0.606', '0.000', '0.354']\n",
      "For  dataset/right/2018-09-14_Laurent_179.png , Pred = center True = right , P= ['0.000', '0.936', '0.000', '0.064']\n",
      "For  dataset/right/2018-10-18_Laurent_155.png , Pred = blink True = right , P= ['0.995', '0.000', '0.000', '0.005']\n",
      "For  dataset/right/2018-10-18_Laurent_141.png , Pred = blink True = right , P= ['0.996', '0.000', '0.000', '0.004']\n",
      "For  dataset/right/2018-10-18_Laurent_009.png , Pred = left True = right , P= ['0.000', '0.046', '0.953', '0.001']\n",
      "For  dataset/right/2018-10-18_Laurent_236.png , Pred = blink True = right , P= ['0.684', '0.000', '0.000', '0.316']\n",
      "For  dataset/right/2018-10-18_Laurent_197.png , Pred = blink True = right , P= ['1.000', '0.000', '0.000', '0.000']\n",
      "For  dataset/right/2018-10-18_Laurent_053.png , Pred = blink True = right , P= ['0.584', '0.000', '0.000', '0.416']\n",
      "For  dataset/right/2018-10-18_Laurent_132.png , Pred = blink True = right , P= ['0.990', '0.000', '0.000', '0.010']\n",
      "For  dataset/right/2018-10-18_Laurent_130.png , Pred = blink True = right , P= ['0.980', '0.000', '0.000', '0.020']\n",
      "For  dataset/right/2018-10-18_Laurent_131.png , Pred = blink True = right , P= ['0.983', '0.000', '0.000', '0.017']\n",
      "For  dataset/right/2018-10-18_Laurent_082.png , Pred = blink True = right , P= ['0.980', '0.000', '0.000', '0.019']\n",
      "For  dataset/right/2018-10-18_Laurent_097.png , Pred = blink True = right , P= ['1.000', '0.000', '0.000', '0.000']\n",
      "For  dataset/right/2018-10-18_Laurent_134.png , Pred = blink True = right , P= ['0.991', '0.000', '0.000', '0.009']\n",
      "For  dataset/right/2018-10-18_Laurent_081.png , Pred = blink True = right , P= ['0.949', '0.001', '0.000', '0.050']\n",
      "For  dataset/right/2018-10-18_Laurent_095.png , Pred = blink True = right , P= ['1.000', '0.000', '0.000', '0.000']\n"
     ]
    }
   ],
   "source": [
    "import time\n",
    "import os\n",
    "import glob\n",
    "import imageio\n",
    "from gaze import FaceExtractor\n",
    "FE = FaceExtractor()\n",
    "timings = []\n",
    "wrongs = []\n",
    "for target in ml.dataset.classes:\n",
    "    for filename in glob.glob(os.path.join(args.dataset_folder, target, '*.png')):\n",
    "        if False:\n",
    "            frame = imageio.imread(filename)\n",
    "            img_face = FE.face_extractor(frame)\n",
    "        else:\n",
    "            filename_face = filename.replace(args.dataset_folder, args.dataset_faces_folder)\n",
    "            img_face = imageio.imread(filename_face)\n",
    "\n",
    "        pred = ml.classify(img_face, ml.dataset.test_transform)\n",
    "        pred_label = ml.dataset.dataset.classes[pred.argmax()]\n",
    "        if not pred_label == target:\n",
    "            wrong = dict(filename=filename, pred_label=pred_label, target=target)\n",
    "            wrongs.append(wrong)\n",
    "            print('For ', filename, ', Pred =', pred_label, 'True =', target, ', P=', ['%.3f' % p for p in pred])\n",
    "            #plt.imshow(img_face)\n",
    "            #plt.show()"
   ]
  },
  {
   "cell_type": "markdown",
   "metadata": {},
   "source": [
    "## skim through images which were wrongly classified\n",
    "\n",
    "Some images were obviously misclassified at the supervision level, let's try to fix that."
   ]
  },
  {
   "cell_type": "code",
   "execution_count": 11,
   "metadata": {
    "ExecuteTime": {
     "end_time": "2018-10-18T17:45:59.298594Z",
     "start_time": "2018-10-18T17:45:58.725810Z"
    }
   },
   "outputs": [
    {
     "data": {
      "application/vnd.jupyter.widget-view+json": {
       "model_id": "7ce1a89732834ce7ae48b301999cf9c0",
       "version_major": 2,
       "version_minor": 0
      },
      "text/plain": [
       "interactive(children=(IntSlider(value=0, description='i', max=140), ToggleButtons(description='action', option…"
      ]
     },
     "metadata": {},
     "output_type": "display_data"
    }
   ],
   "source": [
    "def view_image(wrong):\n",
    "    filename = wrong['filename']\n",
    "    filename_face = filename.replace(args.dataset_folder, args.dataset_faces_folder)\n",
    "    img_face = imageio.imread(filename_face)\n",
    "    fig, ax = plt.subplots(1, 1, figsize=(15, 8))\n",
    "    ax.imshow(img_face)\n",
    "    ax.set_title('Pred: %s / True: %s ' % (wrong['pred_label'], wrong['target']))\n",
    "    #plt.show()\n",
    "\n",
    "\n",
    "import ipywidgets as widgets\n",
    "from IPython.display import display\n",
    "from ipywidgets import interactive\n",
    "def f(i, action):\n",
    "    wrong = wrongs[i]\n",
    "    view_image(wrong)\n",
    "    filename = wrong['filename']\n",
    "    filename_face = filename.replace(args.dataset_folder, args.dataset_faces_folder)\n",
    "\n",
    "    if action == 'Remove':\n",
    "        print('removing...', filename)\n",
    "        os.remove(filename_face)\n",
    "        os.remove(filename)\n",
    "    elif action == 'Change':\n",
    "        print('Changing...', filename, ' to ', filename.replace(wrongs[i]['target'], wrongs[i]['pred_label']))\n",
    "        import shutil\n",
    "        shutil.move(filename, filename.replace(wrongs[i]['target'], wrongs[i]['pred_label']))\n",
    "        shutil.move(filename_face, filename_face.replace(wrongs[i]['target'], wrongs[i]['pred_label']))\n",
    "        wrongs[i]['filename'] = filename.replace(wrongs[i]['target'], wrongs[i]['pred_label'])\n",
    "        wrongs[i]['target'] = wrongs[i]['pred_label']\n",
    "        \n",
    "    #display(b)\n",
    "    return action\n",
    "\n",
    "w = interactive(f, i=widgets.IntSlider(min=0, max=len(wrongs)-1, step=1, value=0, readout=True), action=widgets.ToggleButtons(options=['Keep', 'Remove', 'Change']))\n",
    "display(w)"
   ]
  },
  {
   "cell_type": "markdown",
   "metadata": {},
   "source": [
    "## showing the trained weights\n",
    "\n",
    "https://github.com/utkuozbulak/pytorch-cnn-visualizations/blob/master/README.md\n"
   ]
  },
  {
   "cell_type": "code",
   "execution_count": 12,
   "metadata": {
    "ExecuteTime": {
     "end_time": "2018-10-18T17:45:59.325820Z",
     "start_time": "2018-10-18T17:45:59.300454Z"
    }
   },
   "outputs": [
    {
     "data": {
      "text/plain": [
       "torch.Size([9])"
      ]
     },
     "execution_count": 12,
     "metadata": {},
     "output_type": "execute_result"
    }
   ],
   "source": [
    "child = ml.model.children()\n",
    "\n",
    "convolayer = [i for i in ml.model.children()][1]\n",
    "convolayer\n",
    "\n",
    "weights = convolayer.weight.data.clone()\n",
    "weights.shape"
   ]
  },
  {
   "cell_type": "code",
   "execution_count": 13,
   "metadata": {
    "ExecuteTime": {
     "end_time": "2018-10-18T17:45:59.619648Z",
     "start_time": "2018-10-18T17:45:59.327795Z"
    }
   },
   "outputs": [
    {
     "data": {
      "image/png": "[encoded data removed]",
      "text/plain": [
       "<Figure size 216x288 with 1 Axes>"
      ]
     },
     "metadata": {},
     "output_type": "display_data"
    },
    {
     "data": {
      "image/png": "[encoded data removed]",
      "text/plain": [
       "<Figure size 216x936 with 1 Axes>"
      ]
     },
     "metadata": {},
     "output_type": "display_data"
    }
   ],
   "source": [
    "import matplotlib.pyplot as plt\n",
    "%matplotlib inline\n",
    "import numpy as np\n",
    "from torchvision import utils\n",
    "\n",
    "def plotkernel(tensor, figname, ch=0, allkernels=False, nrow=3, padding=1):\n",
    "    n, c, w, h = tensor.shape\n",
    "    if allkernels: tensor = tensor.view(n*c,-1,w,h )\n",
    "    elif c != 3: tensor = tensor[:,ch,:,:].unsqueeze(dim=1)\n",
    "        \n",
    "    rows = np.min( (tensor.shape[0]//nrow + 1, 64 )  )    \n",
    "    grid = utils.make_grid(tensor, nrow=nrow, normalize=True, padding=padding)\n",
    "    fig, ax = plt.subplots( figsize=(nrow,rows))\n",
    "    ax.imshow(grid.numpy().transpose((1, 2, 0)))\n",
    "    plt.setp(ax, xticks=[], yticks=[])\n",
    "\n",
    "    plt.savefig(figname)\n",
    "\n",
    "for i, weights in enumerate([ml.model.conv1.weight.data.clone(), ml.model.conv2.weight.data.clone()]):\n",
    "    plotkernel(weights, figname = 'figures/kernel_layer' + str(i) + '.png')\n",
    "\n",
    "    "
   ]
  }
 ],
 "metadata": {
  "kernel_info": {
   "name": "python3"
  },
  "kernelspec": {
   "display_name": "Python 3",
   "language": "python",
   "name": "python3"
  },
  "language_info": {
   "codemirror_mode": {
    "name": "ipython",
    "version": 3
   },
   "file_extension": ".py",
   "mimetype": "text/x-python",
   "name": "python",
   "nbconvert_exporter": "python",
   "pygments_lexer": "ipython3",
   "version": "3.6.5"
  },
  "nteract": {
   "version": "0.11.7"
  },
  "toc": {
   "base_numbering": 1,
   "nav_menu": {},
   "number_sections": true,
   "sideBar": true,
   "skip_h1_title": false,
   "title_cell": "Table of Contents",
   "title_sidebar": "Contents",
   "toc_cell": false,
   "toc_position": {},
   "toc_section_display": "block",
   "toc_window_display": false
  }
 },
 "nbformat": 4,
 "nbformat_minor": 2
}
