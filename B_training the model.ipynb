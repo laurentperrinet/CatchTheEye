{
 "cells": [
  {
   "cell_type": "code",
   "execution_count": 1,
   "metadata": {
    "ExecuteTime": {
     "end_time": "2018-10-25T09:07:23.037713Z",
     "start_time": "2018-10-25T09:07:22.997336Z"
    }
   },
   "outputs": [],
   "source": [
    "%load_ext autoreload\n",
    "%autoreload 2"
   ]
  },
  {
   "cell_type": "code",
   "execution_count": 2,
   "metadata": {
    "ExecuteTime": {
     "end_time": "2018-10-25T09:07:23.838315Z",
     "start_time": "2018-10-25T09:07:23.044900Z"
    }
   },
   "outputs": [],
   "source": [
    "import numpy as np\n",
    "%matplotlib inline\n",
    "import matplotlib.pyplot as plt"
   ]
  },
  {
   "cell_type": "code",
   "execution_count": 3,
   "metadata": {
    "ExecuteTime": {
     "end_time": "2018-10-25T09:07:27.188010Z",
     "start_time": "2018-10-25T09:07:23.843300Z"
    }
   },
   "outputs": [
    {
     "data": {
      "application/json": {
       "Software versions": [
        {
         "module": "Python",
         "version": "3.6.8 64bit [GCC 8.3.0]"
        },
        {
         "module": "IPython",
         "version": "7.8.0"
        },
        {
         "module": "OS",
         "version": "Linux 4.15.0 66 generic x86_64 with Ubuntu 18.04 bionic"
        },
        {
         "module": "numpy",
         "version": "1.17.2"
        },
        {
         "module": "dlib",
         "version": "19.18.0"
        },
        {
         "module": "matplotlib",
         "version": "3.1.1"
        },
        {
         "module": "imageio",
         "version": "2.6.1"
        },
        {
         "module": "gaze",
         "version": "The 'gaze' distribution was not found and is required by the application"
        },
        {
         "module": "torch",
         "version": "1.2.0"
        },
        {
         "module": "torchvision",
         "version": "0.4.0"
        }
       ]
      },
      "text/html": [
       "<table><tr><th>Software</th><th>Version</th></tr><tr><td>Python</td><td>3.6.8 64bit [GCC 8.3.0]</td></tr><tr><td>IPython</td><td>7.8.0</td></tr><tr><td>OS</td><td>Linux 4.15.0 66 generic x86_64 with Ubuntu 18.04 bionic</td></tr><tr><td>numpy</td><td>1.17.2</td></tr><tr><td>dlib</td><td>19.18.0</td></tr><tr><td>matplotlib</td><td>3.1.1</td></tr><tr><td>imageio</td><td>2.6.1</td></tr><tr><td>gaze</td><td>The 'gaze' distribution was not found and is required by the application</td></tr><tr><td>torch</td><td>1.2.0</td></tr><tr><td>torchvision</td><td>0.4.0</td></tr><tr><td colspan='2'>Tue Nov 12 15:33:51 2019 UTC</td></tr></table>"
      ],
      "text/latex": [
       "\\begin{tabular}{|l|l|}\\hline\n",
       "{\\bf Software} & {\\bf Version} \\\\ \\hline\\hline\n",
       "Python & 3.6.8 64bit [GCC 8.3.0] \\\\ \\hline\n",
       "IPython & 7.8.0 \\\\ \\hline\n",
       "OS & Linux 4.15.0 66 generic x86\\_64 with Ubuntu 18.04 bionic \\\\ \\hline\n",
       "numpy & 1.17.2 \\\\ \\hline\n",
       "dlib & 19.18.0 \\\\ \\hline\n",
       "matplotlib & 3.1.1 \\\\ \\hline\n",
       "imageio & 2.6.1 \\\\ \\hline\n",
       "gaze & The 'gaze' distribution was not found and is required by the application \\\\ \\hline\n",
       "torch & 1.2.0 \\\\ \\hline\n",
       "torchvision & 0.4.0 \\\\ \\hline\n",
       "\\hline \\multicolumn{2}{|l|}{Tue Nov 12 15:33:51 2019 UTC} \\\\ \\hline\n",
       "\\end{tabular}\n"
      ],
      "text/plain": [
       "Software versions\n",
       "Python 3.6.8 64bit [GCC 8.3.0]\n",
       "IPython 7.8.0\n",
       "OS Linux 4.15.0 66 generic x86_64 with Ubuntu 18.04 bionic\n",
       "numpy 1.17.2\n",
       "dlib 19.18.0\n",
       "matplotlib 3.1.1\n",
       "imageio 2.6.1\n",
       "gaze The 'gaze' distribution was not found and is required by the application\n",
       "torch 1.2.0\n",
       "torchvision 0.4.0\n",
       "Tue Nov 12 15:33:51 2019 UTC"
      ]
     },
     "execution_count": 3,
     "metadata": {},
     "output_type": "execute_result"
    }
   ],
   "source": [
    "%load_ext version_information\n",
    "%version_information numpy, dlib, matplotlib, imageio, gaze, torch, torchvision"
   ]
  },
  {
   "cell_type": "raw",
   "metadata": {},
   "source": [
    "import time\n",
    "time.sleep(8*3600)"
   ]
  },
  {
   "cell_type": "markdown",
   "metadata": {},
   "source": [
    "# training the model on the cropped faces"
   ]
  },
  {
   "cell_type": "code",
   "execution_count": 4,
   "metadata": {
    "ExecuteTime": {
     "end_time": "2018-10-25T09:07:27.232411Z",
     "start_time": "2018-10-25T09:07:27.192713Z"
    }
   },
   "outputs": [],
   "source": [
    "from gaze import init"
   ]
  },
  {
   "cell_type": "code",
   "execution_count": 5,
   "metadata": {
    "ExecuteTime": {
     "end_time": "2018-10-25T09:07:27.305882Z",
     "start_time": "2018-10-25T09:07:27.239162Z"
    },
    "scrolled": true
   },
   "outputs": [],
   "source": [
    "epochs = 4000\n",
    "args = init(verbose=1, epochs=epochs)\n",
    "\n",
    "path = '_Regard_4000.pt'"
   ]
  },
  {
   "cell_type": "code",
   "execution_count": 6,
   "metadata": {
    "ExecuteTime": {
     "end_time": "2018-10-25T09:07:27.376874Z",
     "start_time": "2018-10-25T09:07:27.328822Z"
    },
    "scrolled": true
   },
   "outputs": [],
   "source": [
    "args = init(verbose=1)\n",
    "path = '_Regard.pt'"
   ]
  },
  {
   "cell_type": "code",
   "execution_count": 7,
   "metadata": {
    "ExecuteTime": {
     "end_time": "2018-10-25T09:07:27.418356Z",
     "start_time": "2018-10-25T09:07:27.380715Z"
    },
    "scrolled": true
   },
   "outputs": [],
   "source": [
    "epochs = 400\n",
    "args = init(verbose=1, epochs=epochs)\n",
    "\n",
    "path = '_Regard_400.pt'"
   ]
  },
  {
   "cell_type": "code",
   "execution_count": 8,
   "metadata": {
    "ExecuteTime": {
     "end_time": "2018-10-25T09:07:27.678755Z",
     "start_time": "2018-10-25T09:07:27.423597Z"
    },
    "scrolled": false
   },
   "outputs": [
    {
     "name": "stdout",
     "output_type": "stream",
     "text": [
      "Parameters= {'dataset_folder': 'dataset', 'dataset_faces_folder': 'dataset_faces', 'batch_size': 16, 'test_batch_size': 16, 'size_test_set': 0.2, 'epochs': 400, 'do_adam': False, 'lr': 0.01, 'momentum': 0.05, 'no_cuda': False, 'num_processes': 1, 'seed': 42, 'log_interval': 0, 'fullsize': 75, 'crop': 75, 'size': 40, 'mean': 0.4, 'std': 0.3, 'conv1_dim': 9, 'conv1_kernel_size': 8, 'conv2_dim': 36, 'conv2_kernel_size': 12, 'conv1_bn_momentum': 0.5, 'conv2_bn_momentum': 0.5, 'dense_bn_momentum': 0.5, 'stride1': 2, 'stride2': 4, 'N_cv': 20, 'dimension': 30, 'verbose': 1}\n",
      "-rw-rw-r-- 1 chloe chloe 267833 Nov 12 10:24 _Regard_400.pt\r\n"
     ]
    }
   ],
   "source": [
    "print('Parameters=', args)\n",
    "!ls -l {path}"
   ]
  },
  {
   "cell_type": "raw",
   "metadata": {},
   "source": [
    "!rm {path}"
   ]
  },
  {
   "cell_type": "code",
   "execution_count": 9,
   "metadata": {
    "ExecuteTime": {
     "end_time": "2018-10-25T09:07:27.827934Z",
     "start_time": "2018-10-25T09:07:27.687716Z"
    },
    "scrolled": false
   },
   "outputs": [
    {
     "name": "stdout",
     "output_type": "stream",
     "text": [
      "Found 2683 sample images;  2147  to train 536 to test\n",
      "Loading file _Regard_400.pt\n"
     ]
    }
   ],
   "source": [
    "from gaze import ML\n",
    "ml = ML(args)\n",
    "ml.train(path=path)"
   ]
  },
  {
   "cell_type": "markdown",
   "metadata": {},
   "source": [
    "## testing the model"
   ]
  },
  {
   "cell_type": "code",
   "execution_count": 10,
   "metadata": {
    "ExecuteTime": {
     "end_time": "2018-10-25T09:07:32.572149Z",
     "start_time": "2018-10-25T09:07:27.832633Z"
    },
    "scrolled": false
   },
   "outputs": [
    {
     "name": "stdout",
     "output_type": "stream",
     "text": [
      "Accuracy=96.8%\n"
     ]
    }
   ],
   "source": [
    "Accuracy = ml.test()\n",
    "print('Accuracy={:.1f}%'.format(Accuracy*100))"
   ]
  },
  {
   "cell_type": "markdown",
   "metadata": {},
   "source": [
    "## showing the images which are wrongly classified"
   ]
  },
  {
   "cell_type": "code",
   "execution_count": 11,
   "metadata": {
    "ExecuteTime": {
     "end_time": "2018-10-25T09:07:58.817712Z",
     "start_time": "2018-10-25T09:07:32.578376Z"
    },
    "scrolled": true
   },
   "outputs": [
    {
     "name": "stdout",
     "output_type": "stream",
     "text": [
      "For  dataset/blink/2019-05-16_Laurent_161.png , Pred = center True = blink , P= ['0.000', '1.000', '0.000', '0.000']\n",
      "For  dataset/blink/2018-09-05_Laurent_096.png , Pred = right True = blink , P= ['0.004', '0.000', '0.000', '0.996']\n",
      "For  dataset/blink/2018-09-14_Laurent_173.png , Pred = right True = blink , P= ['0.444', '0.000', '0.000', '0.556']\n",
      "For  dataset/blink/2018-10-03_Laurent_245.png , Pred = left True = blink , P= ['0.294', '0.000', '0.706', '0.000']\n",
      "For  dataset/blink/2018-09-14_Laurent_001.png , Pred = left True = blink , P= ['0.000', '0.000', '1.000', '0.000']\n",
      "For  dataset/blink/2018-09-14_Laurent_052.png , Pred = center True = blink , P= ['0.436', '0.564', '0.000', '0.000']\n",
      "For  dataset/blink/2018-09-14_Laurent_044.png , Pred = right True = blink , P= ['0.000', '0.000', '0.000', '1.000']\n",
      "For  dataset/blink/2019-05-16_Laurent_006.png , Pred = right True = blink , P= ['0.000', '0.000', '0.000', '1.000']\n",
      "For  dataset/center/2018-10-03_Laurent_129.png , Pred = left True = center , P= ['0.000', '0.243', '0.757', '0.000']\n",
      "For  dataset/center/2018-09-04_Laurent_58.png , Pred = right True = center , P= ['0.000', '0.455', '0.000', '0.545']\n",
      "For  dataset/center/2019-05-16_Laurent_172.png , Pred = blink True = center , P= ['1.000', '0.000', '0.000', '0.000']\n",
      "For  dataset/center/2018-09-04_Laurent_216.png , Pred = left True = center , P= ['0.000', '0.154', '0.846', '0.000']\n",
      "For  dataset/center/2019-05-16_Laurent_021.png , Pred = left True = center , P= ['0.000', '0.000', '1.000', '0.000']\n",
      "For  dataset/center/2018-10-12_Laurent_140.png , Pred = left True = center , P= ['0.000', '0.007', '0.993', '0.000']\n",
      "For  dataset/center/2019-05-16_Laurent_024.png , Pred = right True = center , P= ['0.000', '0.000', '0.221', '0.779']\n",
      "For  dataset/center/2018-09-04_Laurent_174.png , Pred = left True = center , P= ['0.000', '0.050', '0.950', '0.000']\n",
      "For  dataset/center/2018-09-12_Laurent_076.png , Pred = left True = center , P= ['0.000', '0.307', '0.693', '0.000']\n",
      "For  dataset/center/2018-10-24_Laurent_189.png , Pred = left True = center , P= ['0.000', '0.288', '0.712', '0.000']\n",
      "For  dataset/center/2018-10-24_Laurent_028.png , Pred = left True = center , P= ['0.277', '0.004', '0.719', '0.000']\n",
      "For  dataset/center/2018-09-05_Laurent_235.png , Pred = right True = center , P= ['0.000', '0.059', '0.000', '0.941']\n",
      "For  dataset/center/2018-10-14_Laurent_067.png , Pred = left True = center , P= ['0.000', '0.004', '0.996', '0.000']\n",
      "For  dataset/center/2019-05-16_Laurent_062.png , Pred = right True = center , P= ['0.000', '0.007', '0.000', '0.993']\n",
      "For  dataset/center/2018-09-14_Laurent_131.png , Pred = right True = center , P= ['0.000', '0.018', '0.000', '0.982']\n",
      "For  dataset/left/2018-10-15_Laurent_061.png , Pred = center True = left , P= ['0.000', '0.991', '0.009', '0.000']\n",
      "For  dataset/left/2018-10-24_Laurent_083.png , Pred = blink True = left , P= ['1.000', '0.000', '0.000', '0.000']\n",
      "For  dataset/left/2018-10-24_Laurent_020.png , Pred = center True = left , P= ['0.000', '0.685', '0.315', '0.000']\n",
      "For  dataset/left/2018-10-18_Laurent_221.png , Pred = center True = left , P= ['0.000', '0.959', '0.000', '0.041']\n",
      "For  dataset/left/2018-09-14_Laurent_086.png , Pred = right True = left , P= ['0.000', '0.028', '0.006', '0.966']\n",
      "For  dataset/left/2018-10-12_Laurent_063.png , Pred = center True = left , P= ['0.000', '0.999', '0.001', '0.000']\n",
      "For  dataset/right/2018-09-14_Laurent_071.png , Pred = center True = right , P= ['0.000', '0.667', '0.000', '0.333']\n",
      "For  dataset/right/2018-09-05_Laurent_108.png , Pred = blink True = right , P= ['0.976', '0.000', '0.000', '0.024']\n",
      "For  dataset/right/2018-09-14_Laurent_076.png , Pred = center True = right , P= ['0.000', '0.691', '0.000', '0.308']\n",
      "For  dataset/right/2018-09-14_Laurent_212.png , Pred = center True = right , P= ['0.000', '0.806', '0.000', '0.194']\n"
     ]
    }
   ],
   "source": [
    "import time\n",
    "import os\n",
    "import glob\n",
    "import imageio\n",
    "from LeCheapEyeTracker.EyeTrackerServer import FaceExtractor\n",
    "#from gaze import FaceExtractor #/!\\ ImportError\n",
    "FE = FaceExtractor()\n",
    "timings = []\n",
    "wrongs = []\n",
    "for target in ml.dataset.classes:\n",
    "    for filename in glob.glob(os.path.join(args.dataset_folder, target, '*.png')):\n",
    "        if False:\n",
    "            frame = imageio.imread(filename)\n",
    "            img_face = FE.face_extractor(frame)\n",
    "        else:\n",
    "            filename_face = filename.replace(args.dataset_folder, args.dataset_faces_folder)\n",
    "            img_face = imageio.imread(filename_face)\n",
    "\n",
    "        pred = ml.classify(img_face, ml.dataset.test_transform)\n",
    "        pred_label = ml.dataset.dataset.classes[pred.argmax()]\n",
    "        if not pred_label == target:\n",
    "            wrong = dict(filename=filename, pred_label=pred_label, target=target)\n",
    "            wrongs.append(wrong)\n",
    "            print('For ', filename, ', Pred =', pred_label, 'True =', target, ', P=', ['%.3f' % p for p in pred])\n",
    "            #plt.imshow(img_face)\n",
    "            #plt.show()"
   ]
  },
  {
   "cell_type": "code",
   "execution_count": 12,
   "metadata": {
    "scrolled": true
   },
   "outputs": [
    {
     "data": {
      "text/plain": [
       "[{'filename': 'dataset/blink/2019-05-16_Laurent_161.png',\n",
       "  'pred_label': 'center',\n",
       "  'target': 'blink'},\n",
       " {'filename': 'dataset/blink/2018-09-05_Laurent_096.png',\n",
       "  'pred_label': 'right',\n",
       "  'target': 'blink'},\n",
       " {'filename': 'dataset/blink/2018-09-14_Laurent_173.png',\n",
       "  'pred_label': 'right',\n",
       "  'target': 'blink'},\n",
       " {'filename': 'dataset/blink/2018-10-03_Laurent_245.png',\n",
       "  'pred_label': 'left',\n",
       "  'target': 'blink'},\n",
       " {'filename': 'dataset/blink/2018-09-14_Laurent_001.png',\n",
       "  'pred_label': 'left',\n",
       "  'target': 'blink'},\n",
       " {'filename': 'dataset/blink/2018-09-14_Laurent_052.png',\n",
       "  'pred_label': 'center',\n",
       "  'target': 'blink'},\n",
       " {'filename': 'dataset/blink/2018-09-14_Laurent_044.png',\n",
       "  'pred_label': 'right',\n",
       "  'target': 'blink'},\n",
       " {'filename': 'dataset/blink/2019-05-16_Laurent_006.png',\n",
       "  'pred_label': 'right',\n",
       "  'target': 'blink'},\n",
       " {'filename': 'dataset/center/2018-10-03_Laurent_129.png',\n",
       "  'pred_label': 'left',\n",
       "  'target': 'center'},\n",
       " {'filename': 'dataset/center/2018-09-04_Laurent_58.png',\n",
       "  'pred_label': 'right',\n",
       "  'target': 'center'},\n",
       " {'filename': 'dataset/center/2019-05-16_Laurent_172.png',\n",
       "  'pred_label': 'blink',\n",
       "  'target': 'center'},\n",
       " {'filename': 'dataset/center/2018-09-04_Laurent_216.png',\n",
       "  'pred_label': 'left',\n",
       "  'target': 'center'},\n",
       " {'filename': 'dataset/center/2019-05-16_Laurent_021.png',\n",
       "  'pred_label': 'left',\n",
       "  'target': 'center'},\n",
       " {'filename': 'dataset/center/2018-10-12_Laurent_140.png',\n",
       "  'pred_label': 'left',\n",
       "  'target': 'center'},\n",
       " {'filename': 'dataset/center/2019-05-16_Laurent_024.png',\n",
       "  'pred_label': 'right',\n",
       "  'target': 'center'},\n",
       " {'filename': 'dataset/center/2018-09-04_Laurent_174.png',\n",
       "  'pred_label': 'left',\n",
       "  'target': 'center'},\n",
       " {'filename': 'dataset/center/2018-09-12_Laurent_076.png',\n",
       "  'pred_label': 'left',\n",
       "  'target': 'center'},\n",
       " {'filename': 'dataset/center/2018-10-24_Laurent_189.png',\n",
       "  'pred_label': 'left',\n",
       "  'target': 'center'},\n",
       " {'filename': 'dataset/center/2018-10-24_Laurent_028.png',\n",
       "  'pred_label': 'left',\n",
       "  'target': 'center'},\n",
       " {'filename': 'dataset/center/2018-09-05_Laurent_235.png',\n",
       "  'pred_label': 'right',\n",
       "  'target': 'center'},\n",
       " {'filename': 'dataset/center/2018-10-14_Laurent_067.png',\n",
       "  'pred_label': 'left',\n",
       "  'target': 'center'},\n",
       " {'filename': 'dataset/center/2019-05-16_Laurent_062.png',\n",
       "  'pred_label': 'right',\n",
       "  'target': 'center'},\n",
       " {'filename': 'dataset/center/2018-09-14_Laurent_131.png',\n",
       "  'pred_label': 'right',\n",
       "  'target': 'center'},\n",
       " {'filename': 'dataset/left/2018-10-15_Laurent_061.png',\n",
       "  'pred_label': 'center',\n",
       "  'target': 'left'},\n",
       " {'filename': 'dataset/left/2018-10-24_Laurent_083.png',\n",
       "  'pred_label': 'blink',\n",
       "  'target': 'left'},\n",
       " {'filename': 'dataset/left/2018-10-24_Laurent_020.png',\n",
       "  'pred_label': 'center',\n",
       "  'target': 'left'},\n",
       " {'filename': 'dataset/left/2018-10-18_Laurent_221.png',\n",
       "  'pred_label': 'center',\n",
       "  'target': 'left'},\n",
       " {'filename': 'dataset/left/2018-09-14_Laurent_086.png',\n",
       "  'pred_label': 'right',\n",
       "  'target': 'left'},\n",
       " {'filename': 'dataset/left/2018-10-12_Laurent_063.png',\n",
       "  'pred_label': 'center',\n",
       "  'target': 'left'},\n",
       " {'filename': 'dataset/right/2018-09-14_Laurent_071.png',\n",
       "  'pred_label': 'center',\n",
       "  'target': 'right'},\n",
       " {'filename': 'dataset/right/2018-09-05_Laurent_108.png',\n",
       "  'pred_label': 'blink',\n",
       "  'target': 'right'},\n",
       " {'filename': 'dataset/right/2018-09-14_Laurent_076.png',\n",
       "  'pred_label': 'center',\n",
       "  'target': 'right'},\n",
       " {'filename': 'dataset/right/2018-09-14_Laurent_212.png',\n",
       "  'pred_label': 'center',\n",
       "  'target': 'right'}]"
      ]
     },
     "execution_count": 12,
     "metadata": {},
     "output_type": "execute_result"
    }
   ],
   "source": [
    "wrongs"
   ]
  },
  {
   "cell_type": "raw",
   "metadata": {},
   "source": [
    "modifification gaze.py ligne 311-312"
   ]
  },
  {
   "cell_type": "markdown",
   "metadata": {},
   "source": [
    "## skim through images which were wrongly classified\n",
    "\n",
    "Some images were obviously misclassified at the supervision level, let's try to fix that."
   ]
  },
  {
   "cell_type": "code",
   "execution_count": 13,
   "metadata": {
    "ExecuteTime": {
     "end_time": "2018-10-25T09:07:59.801715Z",
     "start_time": "2018-10-25T09:07:58.820072Z"
    }
   },
   "outputs": [
    {
     "data": {
      "application/vnd.jupyter.widget-view+json": {
       "model_id": "30a655e23b854fdeae22d453534cdffa",
       "version_major": 2,
       "version_minor": 0
      },
      "text/plain": [
       "interactive(children=(IntSlider(value=0, description='i', max=32), ToggleButtons(description='action', options…"
      ]
     },
     "metadata": {},
     "output_type": "display_data"
    }
   ],
   "source": [
    "def view_image(wrong):\n",
    "    filename = wrong['filename']\n",
    "    filename_face = filename.replace(args.dataset_folder, args.dataset_faces_folder)\n",
    "    img_face = imageio.imread(filename_face)\n",
    "    fig, ax = plt.subplots(1, 1, figsize=(15, 8))\n",
    "    ax.imshow(img_face)\n",
    "    ax.set_title('Pred: %s / True: %s ' % (wrong['pred_label'], wrong['target']))\n",
    "    #plt.show()\n",
    "\n",
    "\n",
    "import ipywidgets as widgets\n",
    "from IPython.display import display\n",
    "from ipywidgets import interactive\n",
    "def f(i, action):\n",
    "    wrong = wrongs[i]\n",
    "    view_image(wrong)\n",
    "    filename = wrong['filename']\n",
    "    filename_face = filename.replace(args.dataset_folder, args.dataset_faces_folder)\n",
    "\n",
    "    if action == 'Remove':\n",
    "        print('removing...', filename)\n",
    "        os.remove(filename_face)\n",
    "        os.remove(filename)\n",
    "    elif action == 'Change':\n",
    "        print('Changing...', filename, ' to ', filename.replace(wrongs[i]['target'], wrongs[i]['pred_label']))\n",
    "        import shutil\n",
    "        shutil.move(filename, filename.replace(wrongs[i]['target'], wrongs[i]['pred_label']))\n",
    "        shutil.move(filename_face, filename_face.replace(wrongs[i]['target'], wrongs[i]['pred_label']))\n",
    "        wrongs[i]['filename'] = filename.replace(wrongs[i]['target'], wrongs[i]['pred_label'])\n",
    "        wrongs[i]['target'] = wrongs[i]['pred_label']\n",
    "        \n",
    "    #display(b)\n",
    "    return action\n",
    "\n",
    "w = interactive(f, i=widgets.IntSlider(min=0, max=len(wrongs)-1, step=1, value=0, readout=True), action=widgets.ToggleButtons(options=['Keep', 'Remove', 'Change']))\n",
    "display(w)"
   ]
  },
  {
   "cell_type": "markdown",
   "metadata": {},
   "source": [
    "## showing the trained weights\n",
    "\n",
    "https://github.com/utkuozbulak/pytorch-cnn-visualizations/blob/master/README.md\n"
   ]
  },
  {
   "cell_type": "code",
   "execution_count": 14,
   "metadata": {
    "ExecuteTime": {
     "end_time": "2018-10-25T09:07:59.846750Z",
     "start_time": "2018-10-25T09:07:59.805574Z"
    }
   },
   "outputs": [
    {
     "data": {
      "text/plain": [
       "torch.Size([9])"
      ]
     },
     "execution_count": 14,
     "metadata": {},
     "output_type": "execute_result"
    }
   ],
   "source": [
    "child = ml.model.children()\n",
    "\n",
    "convolayer = [i for i in ml.model.children()][1]\n",
    "convolayer\n",
    "\n",
    "weights = convolayer.weight.data.clone()\n",
    "weights.shape"
   ]
  },
  {
   "cell_type": "code",
   "execution_count": 15,
   "metadata": {
    "ExecuteTime": {
     "end_time": "2018-10-25T09:08:00.254573Z",
     "start_time": "2018-10-25T09:07:59.851420Z"
    }
   },
   "outputs": [
    {
     "data": {
      "image/png": "[encoded data removed]",
      "text/plain": [
       "<Figure size 216x288 with 1 Axes>"
      ]
     },
     "metadata": {},
     "output_type": "display_data"
    },
    {
     "data": {
      "image/png": "[encoded data removed]",
      "text/plain": [
       "<Figure size 216x936 with 1 Axes>"
      ]
     },
     "metadata": {},
     "output_type": "display_data"
    }
   ],
   "source": [
    "import matplotlib.pyplot as plt\n",
    "%matplotlib inline\n",
    "import numpy as np\n",
    "from torchvision import utils\n",
    "\n",
    "def plotkernel(tensor, figname, ch=0, allkernels=False, nrow=3, padding=1):\n",
    "    n, c, w, h = tensor.shape\n",
    "    if allkernels: tensor = tensor.view(n*c,-1,w,h )\n",
    "    elif c != 3: tensor = tensor[:,ch,:,:].unsqueeze(dim=1)\n",
    "        \n",
    "    rows = np.min( (tensor.shape[0]//nrow + 1, 64 )  )    \n",
    "    grid = utils.make_grid(tensor, nrow=nrow, normalize=True, padding=padding)\n",
    "    fig, ax = plt.subplots( figsize=(nrow,rows))\n",
    "    ax.imshow(grid.cpu().numpy().transpose((1, 2, 0)))\n",
    "    plt.setp(ax, xticks=[], yticks=[])\n",
    "\n",
    "    plt.savefig(figname)\n",
    "\n",
    "for i, weights in enumerate([ml.model.conv1.weight.data.clone(), ml.model.conv2.weight.data.clone()]):\n",
    "    plotkernel(weights, figname = 'figures/kernel_layer' + str(i) + '.png')\n",
    "\n",
    "    "
   ]
  },
  {
   "cell_type": "code",
   "execution_count": null,
   "metadata": {},
   "outputs": [],
   "source": []
  }
 ],
 "metadata": {
  "kernel_info": {
   "name": "python3"
  },
  "kernelspec": {
   "display_name": "Python 3",
   "language": "python",
   "name": "python3"
  },
  "language_info": {
   "codemirror_mode": {
    "name": "ipython",
    "version": 3
   },
   "file_extension": ".py",
   "mimetype": "text/x-python",
   "name": "python",
   "nbconvert_exporter": "python",
   "pygments_lexer": "ipython3",
   "version": "3.6.8"
  },
  "nteract": {
   "version": "0.11.7"
  },
  "toc": {
   "base_numbering": 1,
   "nav_menu": {},
   "number_sections": true,
   "sideBar": true,
   "skip_h1_title": false,
   "title_cell": "Table of Contents",
   "title_sidebar": "Contents",
   "toc_cell": false,
   "toc_position": {},
   "toc_section_display": "block",
   "toc_window_display": false
  }
 },
 "nbformat": 4,
 "nbformat_minor": 2
}
