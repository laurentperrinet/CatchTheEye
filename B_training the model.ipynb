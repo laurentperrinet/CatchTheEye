{
 "cells": [
  {
   "cell_type": "code",
   "execution_count": 1,
   "metadata": {
    "ExecuteTime": {
     "end_time": "2018-10-04T00:01:24.625527Z",
     "start_time": "2018-10-04T00:01:24.596378Z"
    }
   },
   "outputs": [],
   "source": [
    "%load_ext autoreload\n",
    "%autoreload 2"
   ]
  },
  {
   "cell_type": "code",
   "execution_count": 2,
   "metadata": {
    "ExecuteTime": {
     "end_time": "2018-10-04T00:01:25.134821Z",
     "start_time": "2018-10-04T00:01:24.629831Z"
    }
   },
   "outputs": [],
   "source": [
    "import numpy as np\n",
    "%matplotlib inline\n",
    "import matplotlib.pyplot as plt"
   ]
  },
  {
   "cell_type": "raw",
   "metadata": {},
   "source": [
    "import time\n",
    "time.sleep(8*3600)"
   ]
  },
  {
   "cell_type": "markdown",
   "metadata": {},
   "source": [
    "## detecting and cropping faces"
   ]
  },
  {
   "cell_type": "code",
   "execution_count": 3,
   "metadata": {
    "ExecuteTime": {
     "end_time": "2018-10-04T00:01:25.539868Z",
     "start_time": "2018-10-04T00:01:25.139119Z"
    }
   },
   "outputs": [
    {
     "name": "stdout",
     "output_type": "stream",
     "text": [
      "Found 1358 sample images;  1087  to train 271 to test\n"
     ]
    }
   ],
   "source": [
    "done = False\n",
    "done = True\n",
    "\n",
    "from gaze import init, Data\n",
    "args = init(batch_size=8, no_cuda=True, verbose=1)\n",
    "d = Data(args)"
   ]
  },
  {
   "cell_type": "code",
   "execution_count": 4,
   "metadata": {
    "ExecuteTime": {
     "end_time": "2018-10-04T00:01:25.580886Z",
     "start_time": "2018-10-04T00:01:25.541862Z"
    }
   },
   "outputs": [
    {
     "name": "stdout",
     "output_type": "stream",
     "text": [
      "dataset/blink/2018-09-12_Laurent_035.png\n",
      "dataset/blink/2018-09-12_Laurent_223.png\n",
      "dataset/blink/2018-09-12_Laurent_237.png\n",
      "dataset/blink/2018-09-12_Laurent_222.png\n",
      "dataset/blink/2018-09-14_Laurent_121.png\n",
      "dataset/blink/2018-09-04_Laurent_180.png\n",
      "dataset/blink/2018-10-03_Laurent_116.png\n",
      "dataset/blink/2018-09-12_Laurent_020.png\n",
      "dataset/blink/2018-09-05_Laurent_085.png\n",
      "dataset/blink/2018-09-14_Laurent_069.png\n",
      "dataset/center/2018-09-04_Laurent_16.png\n",
      "dataset/center/2018-09-12_Laurent_140.png\n",
      "dataset/center/2018-09-14_Laurent_243.png\n",
      "dataset/center/2018-09-12_Laurent_168.png\n",
      "dataset/center/2018-09-12_Laurent_183.png\n",
      "dataset/center/2018-09-04_Laurent_221.png\n",
      "dataset/center/2018-09-04_Laurent_235.png\n",
      "dataset/center/2018-10-03_Laurent_089.png\n",
      "dataset/center/2018-10-03_Laurent_076.png\n",
      "dataset/center/2018-09-14_Laurent_096.png\n",
      "dataset/left/2018-09-12_Laurent_236.png\n",
      "dataset/left/2018-09-05_Laurent_091.png\n",
      "dataset/left/2018-09-12_Laurent_008.png\n",
      "dataset/left/2018-09-05_Laurent_052.png\n",
      "dataset/left/2018-09-12_Laurent_154.png\n",
      "dataset/left/2018-09-04_Laurent_209.png\n",
      "dataset/left/2018-09-05_Laurent_126.png\n",
      "dataset/left/2018-09-05_Laurent_132.png\n",
      "dataset/left/2018-09-14_Laurent_041.png\n",
      "dataset/left/2018-10-03_Laurent_062.png\n",
      "dataset/right/2018-10-03_Laurent_102.png\n",
      "dataset/right/2018-09-05_Laurent_250.png\n",
      "dataset/right/2018-09-04_Laurent_143.png\n",
      "dataset/right/2018-09-12_Laurent_034.png\n",
      "dataset/right/2018-09-05_Laurent_046.png\n",
      "dataset/right/2018-09-12_Laurent_197.png\n",
      "dataset/right/2018-09-05_Laurent_126.png\n",
      "dataset/right/2018-09-05_Laurent_132.png\n",
      "dataset/right/2018-09-14_Laurent_055.png\n",
      "dataset/right/2018-09-14_Laurent_082.png\n"
     ]
    }
   ],
   "source": [
    "import os\n",
    "import glob\n",
    "datapath_faces = 'dataset_faces'\n",
    "datapath = 'dataset'\n",
    "\n",
    "if True:\n",
    "    n_show = 10\n",
    "    for target in d.classes:\n",
    "        for filename in glob.glob(os.path.join(datapath, target) + '/*.png')[-n_show:]:\n",
    "            print(filename)"
   ]
  },
  {
   "cell_type": "code",
   "execution_count": 5,
   "metadata": {
    "ExecuteTime": {
     "end_time": "2018-10-04T00:01:25.855565Z",
     "start_time": "2018-10-04T00:01:25.588206Z"
    }
   },
   "outputs": [],
   "source": [
    "import imageio\n",
    "if not done:\n",
    "    import time\n",
    "    from gaze import FaceExtractor\n",
    "    FE = FaceExtractor()\n",
    "    timings = []\n",
    "    for target in d.classes:\n",
    "        for filename in glob.glob(os.path.join(datapath, target) + '/*.png'):\n",
    "            frame = imageio.imread(filename)\n",
    "            t0 = time.time()\n",
    "            face = FE.face_extractor(frame)\n",
    "            t1 = time.time()\n",
    "            timings.append(t1-t0)\n",
    "            if False:\n",
    "                print(\"Number of faces detected: {}\".format(len(dets)))\n",
    "                for i, d in enumerate(dets):\n",
    "                    print(\"Detection {}: Left: {} Top: {} Right: {} Bottom: {}\".format(\n",
    "                        i, d.left(), d.top(), d.right(), d.bottom()))\n",
    "\n",
    "            if False:\n",
    "                # Create figure and axes\n",
    "                fig, ax = plt.subplots(figsize=(15, 8))\n",
    "\n",
    "                # Display the image\n",
    "                ax.imshow(frame)\n",
    "\n",
    "                # Create a Rectangle patch\n",
    "                rect = patches.Rectangle((d.bottom(), d.left()), d.right()-d.left(), d.top()-d.bottom(), linewidth=1, edgecolor='r', facecolor='none')\n",
    "\n",
    "                # Add the patch to the Axes\n",
    "                ax.add_patch(rect)\n",
    "                plt.show()    \n",
    "            if False:\n",
    "                # Create figure and axes\n",
    "                fig, ax = plt.subplots(figsize=(15, 8))\n",
    "\n",
    "                # Display the cropped image\n",
    "                ax.imshow(face)\n",
    "\n",
    "                plt.show()                \n",
    "\n",
    "            filename_face = filename.replace(datapath, datapath_faces)\n",
    "            imageio.imwrite(filename_face, face) \n"
   ]
  },
  {
   "cell_type": "code",
   "execution_count": 6,
   "metadata": {
    "ExecuteTime": {
     "end_time": "2018-10-04T00:01:25.880317Z",
     "start_time": "2018-10-04T00:01:25.857672Z"
    }
   },
   "outputs": [],
   "source": [
    "if not done:\n",
    "    timings = np.array(timings) * 1000\n",
    "    print('timings in ms =', timings.mean(), '+/-', timings.std()) "
   ]
  },
  {
   "cell_type": "code",
   "execution_count": 7,
   "metadata": {
    "ExecuteTime": {
     "end_time": "2018-10-04T00:01:25.912409Z",
     "start_time": "2018-10-04T00:01:25.886340Z"
    }
   },
   "outputs": [],
   "source": [
    "if not done:\n",
    "    fig, ax = plt.subplots(figsize=((8, 5)))\n",
    "    n, bins, patches = ax.hist(timings, bins=np.linspace(100, 200, 100), alpha=.4)\n",
    "    ax.vlines(np.median(timings), 0, n.max(), 'g', linestyles='dashed', label='median = %.3f ms' % np.median(timings))\n",
    "    #ax.vlines(25, 0, n.max(), 'r', linestyles='dashed', label='chance level')\n",
    "    #ax.vlines(100, 0, n.max(), 'k', label='max')\n",
    "    ax.set_xlabel('Timings (ms)')\n",
    "    ax.set_ylabel('Smarts')\n",
    "    ax.legend(loc='best')\n",
    "    if False:\n",
    "        plt.show() \n",
    "    else:\n",
    "        plt.savefig('dlib_timings.png')"
   ]
  },
  {
   "cell_type": "markdown",
   "metadata": {},
   "source": [
    "## training the model on the cropped faces"
   ]
  },
  {
   "cell_type": "code",
   "execution_count": 8,
   "metadata": {
    "ExecuteTime": {
     "end_time": "2018-10-04T00:01:25.940459Z",
     "start_time": "2018-10-04T00:01:25.914564Z"
    }
   },
   "outputs": [
    {
     "name": "stdout",
     "output_type": "stream",
     "text": [
      "Parameters= {'dataset_folder': 'dataset', 'dataset_faces_folder': 'dataset_faces', 'batch_size': 8, 'test_batch_size': 1, 'size_test_set': 0.2, 'epochs': 20, 'do_adam': False, 'lr': 0.025, 'momentum': 0.05, 'no_cuda': False, 'num_processes': 1, 'seed': 42, 'log_interval': 1, 'fullsize': 64, 'crop': 64, 'size': 64, 'mean': 0.6, 'std': 0.3, 'conv1_dim': 9, 'conv1_kernel_size': 18, 'conv2_dim': 36, 'conv2_kernel_size': 14, 'stride1': 2, 'stride2': 4, 'N_cv': 20, 'dimension': 30, 'verbose': 1}\n"
     ]
    }
   ],
   "source": [
    "from gaze import init\n",
    "#epochs = 400\n",
    "#args = init(verbose=0, epochs=epochs)\n",
    "args = init(verbose=1)\n",
    "print('Parameters=', args)\n",
    "\n",
    "path = '_Regard.pt'"
   ]
  },
  {
   "cell_type": "code",
   "execution_count": 16,
   "metadata": {
    "ExecuteTime": {
     "end_time": "2018-10-04T10:08:39.383449Z",
     "start_time": "2018-10-04T10:08:39.301391Z"
    }
   },
   "outputs": [],
   "source": [
    "from gaze import init\n",
    "epochs = 400\n",
    "args = init(verbose=0, epochs=epochs)\n",
    "path = '_Regard_400.pt'"
   ]
  },
  {
   "cell_type": "code",
   "execution_count": 17,
   "metadata": {
    "ExecuteTime": {
     "end_time": "2018-10-04T10:08:41.075737Z",
     "start_time": "2018-10-04T10:08:40.923890Z"
    }
   },
   "outputs": [
    {
     "name": "stdout",
     "output_type": "stream",
     "text": [
      "ls: _Regard_400.pt: No such file or directory\r\n"
     ]
    }
   ],
   "source": [
    "!ls -l {path}\n",
    "#!rm {path}"
   ]
  },
  {
   "cell_type": "code",
   "execution_count": 18,
   "metadata": {
    "ExecuteTime": {
     "end_time": "2018-10-04T10:56:56.235135Z",
     "start_time": "2018-10-04T10:09:56.035008Z"
    },
    "scrolled": false
   },
   "outputs": [
    {
     "name": "stdout",
     "output_type": "stream",
     "text": [
      "Training model...\n",
      "Model saved at _Regard_400.pt\n"
     ]
    }
   ],
   "source": [
    "from gaze import ML\n",
    "ml = ML(args)\n",
    "ml.train(path=path)"
   ]
  },
  {
   "cell_type": "markdown",
   "metadata": {},
   "source": [
    "## testing the model"
   ]
  },
  {
   "cell_type": "code",
   "execution_count": 19,
   "metadata": {
    "ExecuteTime": {
     "end_time": "2018-10-04T13:29:17.703364Z",
     "start_time": "2018-10-04T13:29:16.076212Z"
    }
   },
   "outputs": [
    {
     "name": "stdout",
     "output_type": "stream",
     "text": [
      "\n",
      "Test set: Average loss: 0.1979, Accuracy: 261/271 (96%)\n",
      "\n",
      "Accuracy=96.3%\n"
     ]
    }
   ],
   "source": [
    "Accuracy = ml.test()\n",
    "print('Accuracy={:.1f}%'.format(Accuracy*100))"
   ]
  },
  {
   "cell_type": "markdown",
   "metadata": {},
   "source": [
    "Showing the one which are wrong:"
   ]
  },
  {
   "cell_type": "code",
   "execution_count": 20,
   "metadata": {
    "ExecuteTime": {
     "end_time": "2018-10-04T13:29:25.865621Z",
     "start_time": "2018-10-04T13:29:25.835026Z"
    }
   },
   "outputs": [
    {
     "data": {
      "text/plain": [
       "tensor(1348)"
      ]
     },
     "execution_count": 20,
     "metadata": {},
     "output_type": "execute_result"
    }
   ],
   "source": [
    "max(ml.dataset.test_loader.dataset.indices)"
   ]
  },
  {
   "cell_type": "code",
   "execution_count": 21,
   "metadata": {
    "ExecuteTime": {
     "end_time": "2018-10-04T13:29:26.430773Z",
     "start_time": "2018-10-04T13:29:26.406400Z"
    }
   },
   "outputs": [
    {
     "data": {
      "text/plain": [
       "('dataset_faces/blink/2018-09-04_Laurent_100.png', 0)"
      ]
     },
     "execution_count": 21,
     "metadata": {},
     "output_type": "execute_result"
    }
   ],
   "source": [
    "ml.dataset.dataset.imgs[0]"
   ]
  },
  {
   "cell_type": "code",
   "execution_count": 22,
   "metadata": {
    "ExecuteTime": {
     "end_time": "2018-10-04T13:29:28.719825Z",
     "start_time": "2018-10-04T13:29:27.479378Z"
    },
    "scrolled": false
   },
   "outputs": [
    {
     "name": "stdout",
     "output_type": "stream",
     "text": [
      "tensor([1]) ('dataset_faces/center/2018-09-04_Laurent_99.png', 1)\n",
      "tensor([1]) ('dataset_faces/center/2018-09-05_Laurent_014.png', 1)\n",
      "tensor([1]) ('dataset_faces/center/2018-09-05_Laurent_007.png', 1)\n",
      "tensor([0]) ('dataset_faces/blink/2018-09-04_Laurent_172.png', 0)\n",
      "tensor([2]) ('dataset_faces/left/2018-09-05_Laurent_223.png', 2)\n",
      "tensor([3]) ('dataset_faces/right/2018-10-03_Laurent_207.png', 3)\n",
      "tensor([0]) ('dataset_faces/blink/2018-09-05_Laurent_160.png', 0)\n",
      "tensor([1]) ('dataset_faces/center/2018-09-04_Laurent_208.png', 1)\n",
      "tensor([1]) ('dataset_faces/center/2018-09-12_Laurent_109.png', 1)\n",
      "tensor([1]) ('dataset_faces/center/2018-09-05_Laurent_138.png', 1)\n",
      "tensor([0]) ('dataset_faces/blink/2018-09-05_Laurent_173.png', 0)\n",
      "tensor([2]) ('dataset_faces/left/2018-10-03_Laurent_056.png', 2)\n",
      "tensor([1]) ('dataset_faces/center/2018-09-12_Laurent_171.png', 1)\n",
      "tensor([2]) ('dataset_faces/left/2018-09-12_Laurent_058.png', 2)\n",
      "tensor([3]) ('dataset_faces/right/2018-09-05_Laurent_128.png', 3)\n",
      "tensor([3]) ('dataset_faces/right/2018-09-05_Laurent_032.png', 3)\n",
      "tensor([3]) ('dataset_faces/right/2018-09-05_Laurent_145.png', 3)\n",
      "tensor([2]) ('dataset_faces/left/2018-09-04_Laurent_119.png', 2)\n",
      "tensor([3]) ('dataset_faces/right/2018-10-03_Laurent_209.png', 3)\n",
      "tensor([1]) ('dataset_faces/center/2018-09-12_Laurent_052.png', 1)\n",
      "tensor([0]) ('dataset_faces/blink/2018-09-14_Laurent_232.png', 0)\n",
      "tensor([0]) ('dataset_faces/blink/2018-09-04_Laurent_2.png', 0)\n",
      "tensor([1]) ('dataset_faces/center/2018-09-14_Laurent_176.png', 1)\n",
      "tensor([1]) ('dataset_faces/center/2018-09-05_Laurent_002.png', 1)\n",
      "tensor([3]) ('dataset_faces/right/2018-09-05_Laurent_028.png', 3)\n",
      "tensor([3]) ('dataset_faces/right/2018-10-03_Laurent_173.png', 3)\n",
      "tensor([3]) ('dataset_faces/right/2018-09-14_Laurent_216.png', 3)\n",
      "tensor([0]) ('dataset_faces/blink/2018-09-12_Laurent_162.png', 0)\n",
      "tensor([0]) ('dataset_faces/blink/2018-09-14_Laurent_242.png', 0)\n",
      "tensor([3]) ('dataset_faces/right/2018-09-04_Laurent_14.png', 3)\n",
      "tensor([3]) ('dataset_faces/right/2018-09-04_Laurent_126.png', 3)\n",
      "tensor([3]) ('dataset_faces/right/2018-10-03_Laurent_085.png', 3)\n",
      "tensor([2]) ('dataset_faces/left/2018-09-14_Laurent_032.png', 2)\n",
      "tensor([1]) ('dataset_faces/center/2018-09-12_Laurent_106.png', 1)\n",
      "tensor([1]) ('dataset_faces/center/2018-09-05_Laurent_070.png', 1)\n",
      "tensor([2]) ('dataset_faces/left/2018-09-05_Laurent_028.png', 2)\n",
      "tensor([3]) ('dataset_faces/right/2018-09-04_Laurent_154.png', 3)\n",
      "tensor([3]) ('dataset_faces/right/2018-09-12_Laurent_195.png', 3)\n",
      "tensor([2]) ('dataset_faces/left/2018-09-05_Laurent_115.png', 2)\n",
      "tensor([1]) ('dataset_faces/center/2018-09-14_Laurent_205.png', 1)\n",
      "tensor([3]) ('dataset_faces/right/2018-09-14_Laurent_239.png', 3)\n",
      "tensor([3]) ('dataset_faces/right/2018-09-14_Laurent_146.png', 3)\n",
      "tensor([1]) ('dataset_faces/center/2018-09-12_Laurent_238.png', 1)\n",
      "tensor([1]) ('dataset_faces/center/2018-10-03_Laurent_200.png', 1)\n",
      "tensor([3]) ('dataset_faces/right/2018-09-04_Laurent_233.png', 3)\n",
      "tensor([3]) ('dataset_faces/right/2018-09-14_Laurent_238.png', 3)\n",
      "tensor([3]) ('dataset_faces/right/2018-10-03_Laurent_133.png', 3)\n",
      "tensor([2]) ('dataset_faces/left/2018-09-12_Laurent_116.png', 2)\n",
      "tensor([0]) ('dataset_faces/blink/2018-09-05_Laurent_219.png', 0)\n",
      "tensor([1]) ('dataset_faces/center/2018-09-12_Laurent_160.png', 1)\n",
      "tensor([3]) ('dataset_faces/right/2018-09-04_Laurent_131.png', 3)\n",
      "tensor([0]) ('dataset_faces/blink/2018-09-12_Laurent_025.png', 0)\n",
      "tensor([0]) ('dataset_faces/blink/2018-09-04_Laurent_55.png', 0)\n",
      "tensor([1]) ('dataset_faces/center/2018-09-05_Laurent_195.png', 1)\n",
      "tensor([1]) ('dataset_faces/center/2018-09-14_Laurent_068.png', 1)\n",
      "tensor([1]) ('dataset_faces/center/2018-09-04_Laurent_145.png', 1)\n",
      "tensor([0]) ('dataset_faces/blink/2018-09-04_Laurent_20.png', 0)\n",
      "tensor([0]) ('dataset_faces/blink/2018-09-14_Laurent_075.png', 0)\n",
      "tensor([1]) ('dataset_faces/center/2018-10-03_Laurent_022.png', 1)\n",
      "tensor([0]) ('dataset_faces/blink/2018-10-03_Laurent_099.png', 0)\n",
      "tensor([3]) ('dataset_faces/right/2018-09-04_Laurent_195.png', 3)\n",
      "tensor([1]) ('dataset_faces/center/2018-09-05_Laurent_074.png', 1)\n",
      "tensor([0]) ('dataset_faces/blink/2018-09-14_Laurent_006.png', 0)\n",
      "tensor([1]) ('dataset_faces/center/2018-10-03_Laurent_028.png', 1)\n",
      "tensor([1]) ('dataset_faces/center/2018-09-05_Laurent_075.png', 1)\n",
      "tensor([2]) ('dataset_faces/left/2018-09-05_Laurent_140.png', 2)\n",
      "tensor([1]) ('dataset_faces/center/2018-09-14_Laurent_000.png', 1)\n",
      "tensor([0]) ('dataset_faces/blink/2018-10-03_Laurent_145.png', 0)\n",
      "tensor([3]) ('dataset_faces/right/2018-09-14_Laurent_024.png', 3)\n",
      "tensor([3]) ('dataset_faces/right/2018-09-05_Laurent_149.png', 3)\n",
      "tensor([3]) ('dataset_faces/right/2018-09-14_Laurent_161.png', 3)\n",
      "tensor([1]) ('dataset_faces/center/2018-09-14_Laurent_213.png', 1)\n",
      "tensor([2]) ('dataset_faces/left/2018-09-04_Laurent_253.png', 2)\n",
      "tensor([0]) ('dataset_faces/blink/2018-09-14_Laurent_254.png', 0)\n",
      "tensor([1]) ('dataset_faces/center/2018-09-05_Laurent_167.png', 1)\n",
      "tensor([0]) ('dataset_faces/blink/2018-10-03_Laurent_070.png', 0)\n",
      "tensor([3]) ('dataset_faces/right/2018-09-04_Laurent_69.png', 3)\n",
      "tensor([2]) ('dataset_faces/left/2018-09-12_Laurent_005.png', 2)\n",
      "tensor([0]) ('dataset_faces/blink/2018-09-14_Laurent_031.png', 0)\n",
      "tensor([3]) ('dataset_faces/right/2018-09-05_Laurent_183.png', 3)\n",
      "tensor([1]) ('dataset_faces/center/2018-09-05_Laurent_206.png', 1)\n",
      "tensor([2]) ('dataset_faces/left/2018-09-04_Laurent_114.png', 2)\n",
      "tensor([2]) ('dataset_faces/left/2018-09-04_Laurent_148.png', 2)\n",
      "tensor([3]) ('dataset_faces/right/2018-10-03_Laurent_048.png', 3)\n",
      "tensor([0]) ('dataset_faces/blink/2018-09-05_Laurent_129.png', 0)\n",
      "tensor([1]) ('dataset_faces/center/2018-09-14_Laurent_151.png', 1)\n",
      "tensor([3]) ('dataset_faces/right/2018-10-03_Laurent_042.png', 3)\n",
      "tensor([0]) ('dataset_faces/blink/2018-09-05_Laurent_205.png', 0)\n",
      "tensor([3]) ('dataset_faces/right/2018-09-04_Laurent_62.png', 3)\n",
      "tensor([3]) ('dataset_faces/right/2018-09-04_Laurent_135.png', 3)\n",
      "tensor([3]) ('dataset_faces/right/2018-09-05_Laurent_179.png', 3)\n",
      "tensor([0]) ('dataset_faces/blink/2018-09-05_Laurent_232.png', 0)\n",
      "tensor([0]) ('dataset_faces/blink/2018-09-05_Laurent_125.png', 0)\n",
      "tensor([3]) ('dataset_faces/right/2018-09-04_Laurent_37.png', 3)\n",
      "tensor([2]) ('dataset_faces/left/2018-09-12_Laurent_040.png', 2)\n",
      "tensor([2]) ('dataset_faces/left/2018-10-03_Laurent_061.png', 2)\n",
      "tensor([2]) ('dataset_faces/left/2018-09-12_Laurent_188.png', 2)\n",
      "tensor([0]) ('dataset_faces/blink/2018-09-14_Laurent_043.png', 0)\n",
      "tensor([3]) ('dataset_faces/right/2018-09-12_Laurent_192.png', 3)\n",
      "tensor([1]) ('dataset_faces/center/2018-09-12_Laurent_251.png', 1)\n",
      "tensor([0]) ('dataset_faces/blink/2018-10-03_Laurent_154.png', 0)\n",
      "tensor([1]) ('dataset_faces/center/2018-09-12_Laurent_245.png', 1)\n",
      "tensor([3]) ('dataset_faces/right/2018-09-14_Laurent_010.png', 3)\n",
      "tensor([0]) ('dataset_faces/blink/2018-09-05_Laurent_174.png', 0)\n",
      "tensor([3]) ('dataset_faces/right/2018-09-05_Laurent_021.png', 3)\n",
      "tensor([2]) ('dataset_faces/left/2018-10-03_Laurent_065.png', 2)\n",
      "tensor([1]) ('dataset_faces/center/2018-09-04_Laurent_59.png', 1)\n",
      "tensor([3]) ('dataset_faces/right/2018-09-04_Laurent_241.png', 3)\n",
      "tensor([1]) ('dataset_faces/center/2018-09-04_Laurent_70.png', 1)\n",
      "tensor([1]) ('dataset_faces/center/2018-09-05_Laurent_006.png', 1)\n",
      "tensor([1]) ('dataset_faces/center/2018-09-14_Laurent_009.png', 1)\n",
      "tensor([0]) ('dataset_faces/blink/2018-09-14_Laurent_163.png', 0)\n",
      "tensor([2]) ('dataset_faces/left/2018-09-12_Laurent_227.png', 2)\n",
      "tensor([2]) ('dataset_faces/left/2018-09-14_Laurent_078.png', 2)\n",
      "tensor([0]) ('dataset_faces/blink/2018-09-14_Laurent_057.png', 0)\n",
      "tensor([3]) ('dataset_faces/right/2018-09-05_Laurent_108.png', 3)\n",
      "tensor([0]) ('dataset_faces/blink/2018-09-12_Laurent_234.png', 0)\n",
      "tensor([1]) ('dataset_faces/center/2018-09-05_Laurent_079.png', 1)\n",
      "tensor([3]) ('dataset_faces/right/2018-09-12_Laurent_029.png', 3)\n",
      "tensor([2]) ('dataset_faces/left/2018-09-12_Laurent_154.png', 2)\n",
      "tensor([1]) ('dataset_faces/center/2018-10-03_Laurent_005.png', 1)\n",
      "tensor([2]) ('dataset_faces/left/2018-10-03_Laurent_172.png', 2)\n",
      "tensor([0]) ('dataset_faces/blink/2018-09-12_Laurent_178.png', 0)\n",
      "tensor([1]) ('dataset_faces/center/2018-09-05_Laurent_012.png', 1)\n",
      "tensor([1]) ('dataset_faces/center/2018-09-12_Laurent_186.png', 1)\n",
      "tensor([1]) ('dataset_faces/center/2018-09-05_Laurent_073.png', 1)\n",
      "tensor([3]) ('dataset_faces/right/2018-09-14_Laurent_026.png', 3)\n",
      "tensor([2]) ('dataset_faces/left/2018-09-04_Laurent_40.png', 2)\n",
      "tensor([0]) ('dataset_faces/blink/2018-10-03_Laurent_176.png', 0)\n",
      "tensor([3]) ('dataset_faces/right/2018-09-05_Laurent_182.png', 3)\n",
      "tensor([2]) ('dataset_faces/left/2018-09-05_Laurent_198.png', 2)\n",
      "tensor([0]) ('dataset_faces/blink/2018-09-04_Laurent_22.png', 0)\n",
      "tensor([2]) ('dataset_faces/left/2018-09-12_Laurent_144.png', 2)\n",
      "tensor([3]) ('dataset_faces/right/2018-10-03_Laurent_180.png', 3)\n",
      "tensor([2]) ('dataset_faces/left/2018-09-12_Laurent_142.png', 2)\n",
      "tensor([0]) ('dataset_faces/blink/2018-09-12_Laurent_041.png', 0)\n",
      "tensor([1]) ('dataset_faces/center/2018-09-05_Laurent_231.png', 1)\n",
      "tensor([2]) ('dataset_faces/left/2018-10-03_Laurent_231.png', 2)\n",
      "tensor([2]) ('dataset_faces/left/2018-09-12_Laurent_108.png', 2)\n",
      "tensor([1]) ('dataset_faces/center/2018-09-14_Laurent_198.png', 1)\n",
      "tensor([1]) ('dataset_faces/center/2018-09-12_Laurent_004.png', 1)\n",
      "tensor([0]) ('dataset_faces/blink/2018-10-03_Laurent_194.png', 0)\n",
      "tensor([0]) ('dataset_faces/blink/2018-09-14_Laurent_091.png', 0)\n",
      "tensor([3]) ('dataset_faces/right/2018-09-14_Laurent_185.png', 3)\n",
      "tensor([3]) ('dataset_faces/right/2018-09-04_Laurent_24.png', 3)\n",
      "tensor([3]) ('dataset_faces/right/2018-09-05_Laurent_006.png', 3)\n",
      "tensor([2]) ('dataset_faces/left/2018-09-04_Laurent_34.png', 2)\n",
      "tensor([3]) ('dataset_faces/right/2018-09-05_Laurent_169.png', 3)\n",
      "tensor([0]) ('dataset_faces/blink/2018-09-04_Laurent_93.png', 0)\n",
      "tensor([2]) ('dataset_faces/left/2018-09-04_Laurent_158.png', 2)\n"
     ]
    },
    {
     "name": "stdout",
     "output_type": "stream",
     "text": [
      "tensor([3]) ('dataset_faces/right/2018-10-03_Laurent_004.png', 3)\n",
      "tensor([2]) ('dataset_faces/left/2018-09-05_Laurent_083.png', 2)\n",
      "tensor([0]) ('dataset_faces/blink/2018-09-12_Laurent_132.png', 0)\n",
      "tensor([0]) ('dataset_faces/blink/2018-09-04_Laurent_44.png', 0)\n",
      "tensor([2]) ('dataset_faces/left/2018-09-04_Laurent_19.png', 2)\n",
      "tensor([2]) ('dataset_faces/left/2018-09-14_Laurent_065.png', 2)\n",
      "tensor([1]) ('dataset_faces/center/2018-09-12_Laurent_003.png', 1)\n",
      "tensor([1]) ('dataset_faces/center/2018-09-05_Laurent_084.png', 1)\n",
      "tensor([2]) ('dataset_faces/left/2018-09-05_Laurent_180.png', 2)\n",
      "tensor([0]) ('dataset_faces/blink/2018-10-03_Laurent_013.png', 0)\n",
      "tensor([3]) ('dataset_faces/right/2018-09-05_Laurent_077.png', 3)\n",
      "tensor([0]) ('dataset_faces/blink/2018-10-03_Laurent_040.png', 0)\n",
      "tensor([1]) ('dataset_faces/center/2018-09-04_Laurent_84.png', 1)\n",
      "tensor([1]) ('dataset_faces/center/2018-09-12_Laurent_226.png', 1)\n",
      "tensor([3]) ('dataset_faces/right/2018-09-12_Laurent_127.png', 3)\n",
      "tensor([2]) ('dataset_faces/left/2018-09-14_Laurent_217.png', 2)\n",
      "tensor([2]) ('dataset_faces/left/2018-09-12_Laurent_105.png', 2)\n",
      "tensor([3]) ('dataset_faces/right/2018-09-04_Laurent_3.png', 3)\n",
      "tensor([2]) ('dataset_faces/left/2018-09-14_Laurent_116.png', 2)\n",
      "tensor([0]) ('dataset_faces/blink/2018-10-03_Laurent_205.png', 0)\n",
      "tensor([3]) ('dataset_faces/right/2018-10-03_Laurent_115.png', 3)\n",
      "tensor([3]) ('dataset_faces/right/2018-09-14_Laurent_219.png', 3)\n",
      "tensor([1]) ('dataset_faces/center/2018-10-03_Laurent_240.png', 1)\n",
      "tensor([1]) ('dataset_faces/center/2018-09-05_Laurent_042.png', 1)\n",
      "tensor([0]) ('dataset_faces/blink/2018-09-12_Laurent_231.png', 0)\n",
      "tensor([3]) ('dataset_faces/right/2018-09-05_Laurent_060.png', 3)\n",
      "tensor([0]) ('dataset_faces/blink/2018-09-05_Laurent_098.png', 0)\n",
      "tensor([0]) ('dataset_faces/blink/2018-09-12_Laurent_016.png', 0)\n",
      "tensor([0]) ('dataset_faces/blink/2018-09-04_Laurent_176.png', 0)\n",
      "tensor([0]) ('dataset_faces/blink/2018-09-05_Laurent_225.png', 0)\n",
      "tensor([3]) ('dataset_faces/right/2018-09-05_Laurent_185.png', 3)\n",
      "tensor([1]) ('dataset_faces/center/2018-09-05_Laurent_071.png', 1)\n",
      "tensor([3]) ('dataset_faces/right/2018-09-05_Laurent_139.png', 3)\n",
      "tensor([3]) ('dataset_faces/right/2018-09-04_Laurent_98.png', 3)\n",
      "tensor([0]) ('dataset_faces/blink/2018-09-05_Laurent_186.png', 0)\n",
      "tensor([3]) ('dataset_faces/right/2018-09-05_Laurent_042.png', 3)\n",
      "tensor([1]) ('dataset_faces/center/2018-09-05_Laurent_003.png', 1)\n",
      "tensor([1]) ('dataset_faces/center/2018-10-03_Laurent_243.png', 1)\n",
      "tensor([3]) ('dataset_faces/right/2018-09-04_Laurent_80.png', 3)\n",
      "tensor([3]) ('dataset_faces/right/2018-10-03_Laurent_167.png', 3)\n",
      "tensor([1]) ('dataset_faces/center/2018-09-14_Laurent_240.png', 1)\n",
      "tensor([2]) ('dataset_faces/left/2018-09-05_Laurent_032.png', 2)\n",
      "tensor([1]) ('dataset_faces/center/2018-09-05_Laurent_203.png', 1)\n",
      "tensor([0]) ('dataset_faces/blink/2018-10-03_Laurent_224.png', 0)\n",
      "tensor([3]) ('dataset_faces/right/2018-10-03_Laurent_188.png', 3)\n",
      "tensor([1]) ('dataset_faces/center/2018-09-05_Laurent_144.png', 1)\n",
      "tensor([2]) ('dataset_faces/left/2018-09-04_Laurent_21.png', 2)\n",
      "tensor([0]) ('dataset_faces/blink/2018-10-03_Laurent_116.png', 0)\n",
      "tensor([2]) ('dataset_faces/left/2018-09-14_Laurent_225.png', 2)\n",
      "tensor([0]) ('dataset_faces/blink/2018-09-14_Laurent_170.png', 0)\n",
      "tensor([1]) ('dataset_faces/center/2018-09-05_Laurent_116.png', 1)\n",
      "tensor([3]) ('dataset_faces/right/2018-10-03_Laurent_053.png', 3)\n",
      "tensor([1]) ('dataset_faces/center/2018-09-04_Laurent_146.png', 1)\n",
      "tensor([0]) ('dataset_faces/blink/2018-09-05_Laurent_168.png', 0)\n",
      "tensor([2]) ('dataset_faces/left/2018-09-04_Laurent_129.png', 2)\n",
      "tensor([3]) ('dataset_faces/right/2018-09-05_Laurent_116.png', 3)\n",
      "tensor([3]) ('dataset_faces/right/2018-09-05_Laurent_010.png', 3)\n",
      "tensor([0]) ('dataset_faces/blink/2018-09-14_Laurent_044.png', 0)\n",
      "tensor([3]) ('dataset_faces/right/2018-09-12_Laurent_069.png', 3)\n",
      "tensor([3]) ('dataset_faces/right/2018-09-14_Laurent_117.png', 3)\n",
      "tensor([0]) ('dataset_faces/blink/2018-10-03_Laurent_247.png', 0)\n",
      "tensor([0]) ('dataset_faces/blink/2018-09-04_Laurent_63.png', 0)\n",
      "tensor([2]) ('dataset_faces/left/2018-10-03_Laurent_020.png', 2)\n",
      "tensor([3]) ('dataset_faces/right/2018-09-14_Laurent_055.png', 3)\n",
      "tensor([1]) ('dataset_faces/center/2018-09-14_Laurent_115.png', 1)\n",
      "tensor([2]) ('dataset_faces/left/2018-09-14_Laurent_019.png', 2)\n",
      "tensor([2]) ('dataset_faces/left/2018-09-04_Laurent_255.png', 2)\n",
      "tensor([2]) ('dataset_faces/left/2018-09-05_Laurent_091.png', 2)\n",
      "tensor([1]) ('dataset_faces/center/2018-09-05_Laurent_202.png', 1)\n",
      "tensor([1]) ('dataset_faces/center/2018-10-03_Laurent_198.png', 1)\n",
      "tensor([2]) ('dataset_faces/left/2018-09-05_Laurent_063.png', 2)\n",
      "tensor([1]) ('dataset_faces/center/2018-09-14_Laurent_143.png', 1)\n",
      "tensor([0]) ('dataset_faces/blink/2018-10-03_Laurent_078.png', 0)\n",
      "tensor([0]) ('dataset_faces/blink/2018-10-03_Laurent_024.png', 0)\n",
      "tensor([1]) ('dataset_faces/center/2018-09-05_Laurent_072.png', 1)\n",
      "tensor([0]) ('dataset_faces/blink/2018-09-05_Laurent_071.png', 0)\n",
      "tensor([2]) ('dataset_faces/left/2018-10-03_Laurent_118.png', 2)\n",
      "tensor([2]) ('dataset_faces/left/2018-09-14_Laurent_150.png', 2)\n",
      "tensor([0]) ('dataset_faces/blink/2018-09-12_Laurent_047.png', 0)\n",
      "tensor([2]) ('dataset_faces/left/2018-09-12_Laurent_236.png', 2)\n",
      "tensor([2]) ('dataset_faces/left/2018-09-12_Laurent_110.png', 2)\n",
      "tensor([1]) ('dataset_faces/center/2018-09-12_Laurent_068.png', 1)\n",
      "tensor([3]) ('dataset_faces/right/2018-09-05_Laurent_150.png', 3)\n",
      "tensor([2]) ('dataset_faces/left/2018-09-05_Laurent_078.png', 2)\n",
      "tensor([1]) ('dataset_faces/center/2018-10-03_Laurent_063.png', 1)\n",
      "tensor([2]) ('dataset_faces/left/2018-09-12_Laurent_077.png', 2)\n",
      "tensor([0]) ('dataset_faces/blink/2018-09-14_Laurent_035.png', 0)\n",
      "tensor([2]) ('dataset_faces/left/2018-10-03_Laurent_158.png', 2)\n",
      "tensor([1]) ('dataset_faces/center/2018-09-05_Laurent_211.png', 1)\n",
      "tensor([1]) ('dataset_faces/center/2018-09-04_Laurent_127.png', 1)\n",
      "tensor([2]) ('dataset_faces/left/2018-10-03_Laurent_008.png', 2)\n",
      "tensor([3]) ('dataset_faces/right/2018-10-03_Laurent_080.png', 3)\n",
      "tensor([1]) ('dataset_faces/center/2018-10-03_Laurent_119.png', 1)\n",
      "tensor([2]) ('dataset_faces/left/2018-09-12_Laurent_203.png', 2)\n",
      "tensor([1]) ('dataset_faces/center/2018-09-14_Laurent_249.png', 1)\n",
      "tensor([0]) ('dataset_faces/blink/2018-09-05_Laurent_140.png', 0)\n",
      "tensor([0]) ('dataset_faces/blink/2018-09-14_Laurent_181.png', 0)\n",
      "tensor([3]) ('dataset_faces/right/2018-09-14_Laurent_063.png', 3)\n",
      "tensor([1]) ('dataset_faces/center/2018-09-05_Laurent_089.png', 1)\n",
      "tensor([1]) ('dataset_faces/center/2018-09-05_Laurent_080.png', 1)\n",
      "tensor([0]) ('dataset_faces/blink/2018-09-12_Laurent_066.png', 0)\n",
      "tensor([1]) ('dataset_faces/center/2018-09-05_Laurent_055.png', 1)\n",
      "tensor([2]) ('dataset_faces/left/2018-09-04_Laurent_28.png', 2)\n",
      "tensor([2]) ('dataset_faces/left/2018-09-12_Laurent_131.png', 2)\n",
      "tensor([2]) ('dataset_faces/left/2018-09-04_Laurent_192.png', 2)\n",
      "tensor([2]) ('dataset_faces/left/2018-09-05_Laurent_052.png', 2)\n",
      "tensor([0]) ('dataset_faces/blink/2018-09-12_Laurent_125.png', 0)\n",
      "tensor([0]) ('dataset_faces/blink/2018-10-03_Laurent_059.png', 0)\n",
      "tensor([2]) ('dataset_faces/left/2018-09-12_Laurent_099.png', 2)\n",
      "tensor([0]) ('dataset_faces/blink/2018-09-05_Laurent_056.png', 0)\n",
      "tensor([0]) ('dataset_faces/blink/2018-09-05_Laurent_019.png', 0)\n",
      "tensor([0]) ('dataset_faces/blink/2018-09-05_Laurent_159.png', 0)\n",
      "tensor([2]) ('dataset_faces/left/2018-09-05_Laurent_124.png', 2)\n",
      "tensor([3]) ('dataset_faces/right/2018-09-05_Laurent_202.png', 3)\n",
      "tensor([2]) ('dataset_faces/left/2018-09-14_Laurent_227.png', 2)\n",
      "tensor([2]) ('dataset_faces/left/2018-09-05_Laurent_027.png', 2)\n",
      "tensor([2]) ('dataset_faces/left/2018-09-12_Laurent_146.png', 2)\n",
      "tensor([0]) ('dataset_faces/blink/2018-09-14_Laurent_133.png', 0)\n",
      "tensor([3]) ('dataset_faces/right/2018-10-03_Laurent_150.png', 3)\n",
      "tensor([2]) ('dataset_faces/left/2018-09-14_Laurent_172.png', 2)\n",
      "tensor([0]) ('dataset_faces/blink/2018-09-05_Laurent_085.png', 0)\n"
     ]
    }
   ],
   "source": [
    "for idx, (data, target) in enumerate(ml.dataset.test_loader):\n",
    "    print(target, ml.dataset.dataset.imgs[ml.dataset.test_loader.dataset.indices[idx]])"
   ]
  },
  {
   "cell_type": "code",
   "execution_count": 23,
   "metadata": {
    "ExecuteTime": {
     "end_time": "2018-10-04T13:29:28.766670Z",
     "start_time": "2018-10-04T13:29:28.723739Z"
    },
    "scrolled": false
   },
   "outputs": [
    {
     "ename": "AttributeError",
     "evalue": "'ImageFolder' object has no attribute 'indices'",
     "output_type": "error",
     "traceback": [
      "\u001b[0;31m---------------------------------------------------------------------------\u001b[0m",
      "\u001b[0;31mAttributeError\u001b[0m                            Traceback (most recent call last)",
      "\u001b[0;32m<ipython-input-23-5d6345d8c80b>\u001b[0m in \u001b[0;36m<module>\u001b[0;34m\u001b[0m\n\u001b[1;32m      1\u001b[0m \u001b[0;32mfor\u001b[0m \u001b[0midx\u001b[0m\u001b[0;34m,\u001b[0m \u001b[0;34m(\u001b[0m\u001b[0mdata\u001b[0m\u001b[0;34m,\u001b[0m \u001b[0mtarget\u001b[0m\u001b[0;34m)\u001b[0m \u001b[0;32min\u001b[0m \u001b[0menumerate\u001b[0m\u001b[0;34m(\u001b[0m\u001b[0mml\u001b[0m\u001b[0;34m.\u001b[0m\u001b[0mdataset\u001b[0m\u001b[0;34m.\u001b[0m\u001b[0mdataset\u001b[0m\u001b[0;34m)\u001b[0m\u001b[0;34m:\u001b[0m\u001b[0;34m\u001b[0m\u001b[0m\n\u001b[0;32m----> 2\u001b[0;31m     \u001b[0mprint\u001b[0m\u001b[0;34m(\u001b[0m\u001b[0mtarget\u001b[0m\u001b[0;34m,\u001b[0m \u001b[0mml\u001b[0m\u001b[0;34m.\u001b[0m\u001b[0mdataset\u001b[0m\u001b[0;34m.\u001b[0m\u001b[0mdataset\u001b[0m\u001b[0;34m.\u001b[0m\u001b[0mimgs\u001b[0m\u001b[0;34m[\u001b[0m\u001b[0mml\u001b[0m\u001b[0;34m.\u001b[0m\u001b[0mdataset\u001b[0m\u001b[0;34m.\u001b[0m\u001b[0mdataset\u001b[0m\u001b[0;34m.\u001b[0m\u001b[0mindices\u001b[0m\u001b[0;34m[\u001b[0m\u001b[0midx\u001b[0m\u001b[0;34m]\u001b[0m\u001b[0;34m]\u001b[0m\u001b[0;34m)\u001b[0m\u001b[0;34m\u001b[0m\u001b[0m\n\u001b[0m",
      "\u001b[0;31mAttributeError\u001b[0m: 'ImageFolder' object has no attribute 'indices'"
     ]
    }
   ],
   "source": [
    "for idx, (data, target) in enumerate(ml.dataset.dataset):\n",
    "    print(target, ml.dataset.dataset.imgs[ml.dataset.dataset.indices[idx]])"
   ]
  },
  {
   "cell_type": "code",
   "execution_count": 24,
   "metadata": {
    "ExecuteTime": {
     "end_time": "2018-10-04T13:29:38.980396Z",
     "start_time": "2018-10-04T13:29:28.961490Z"
    },
    "scrolled": false
   },
   "outputs": [],
   "source": [
    "for data, labels in ml.dataset.test_loader:\n",
    "    fig, ax = ml.show(only_wrong=True)\n",
    "    plt.show() \n"
   ]
  },
  {
   "cell_type": "code",
   "execution_count": 25,
   "metadata": {
    "ExecuteTime": {
     "end_time": "2018-10-04T13:30:46.862458Z",
     "start_time": "2018-10-04T13:29:53.624118Z"
    },
    "scrolled": false
   },
   "outputs": [],
   "source": [
    "for data, labels in ml.dataset.dataset:\n",
    "    fig, ax = ml.show(only_wrong=True)\n",
    "    plt.show() \n"
   ]
  },
  {
   "cell_type": "code",
   "execution_count": null,
   "metadata": {},
   "outputs": [],
   "source": []
  }
 ],
 "metadata": {
  "kernel_info": {
   "name": "python3"
  },
  "kernelspec": {
   "display_name": "Python 3",
   "language": "python",
   "name": "python3"
  },
  "language_info": {
   "codemirror_mode": {
    "name": "ipython",
    "version": 3
   },
   "file_extension": ".py",
   "mimetype": "text/x-python",
   "name": "python",
   "nbconvert_exporter": "python",
   "pygments_lexer": "ipython3",
   "version": "3.6.5"
  },
  "nteract": {
   "version": "0.11.7"
  },
  "toc": {
   "base_numbering": 1,
   "nav_menu": {},
   "number_sections": true,
   "sideBar": true,
   "skip_h1_title": false,
   "title_cell": "Table of Contents",
   "title_sidebar": "Contents",
   "toc_cell": false,
   "toc_position": {},
   "toc_section_display": "block",
   "toc_window_display": false
  }
 },
 "nbformat": 4,
 "nbformat_minor": 2
}
