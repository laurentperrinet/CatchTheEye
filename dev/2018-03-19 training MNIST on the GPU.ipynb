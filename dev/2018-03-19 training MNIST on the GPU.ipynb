{
 "cells": [
  {
   "cell_type": "markdown",
   "metadata": {},
   "source": [
    "## Installation\n",
    "\n",
    "### Sur babbage\n",
    "\n",
    "\n",
    "````\n",
    "pip3 install --user --no-dependencies torchvision\n",
    "\n",
    "pip3 install http://download.pytorch.org/whl/cu80/torch-0.3.1-cp35-cp35m-linux_x86_64.whl\n",
    "````\n",
    "\n",
    "notre repo\n",
    "\n",
    "````\n",
    "cd '/home/nicolas/Documents'\n",
    "\n",
    "git clone https://github.com/anaisbrgs/StageL3\n",
    "\n",
    "ipython3\n",
    "\n",
    "cd StageL3/\n",
    "\n",
    "ipython3 mnist.py\n",
    "\n",
    "python3 mnist.py --no-cuda\n",
    "\n",
    "history\n",
    "````"
   ]
  },
  {
   "cell_type": "code",
   "execution_count": 14,
   "metadata": {},
   "outputs": [
    {
     "name": "stdout",
     "output_type": "stream",
     "text": [
      "4.792213439941406e-05\n"
     ]
    }
   ],
   "source": [
    "import time\n",
    "t0 = time.time()\n",
    "t1 = time.time()\n",
    "print(t1-t0)"
   ]
  },
  {
   "cell_type": "code",
   "execution_count": 18,
   "metadata": {},
   "outputs": [
    {
     "name": "stdout",
     "output_type": "stream",
     "text": [
      "cuda? True\n",
      "Train Epoch: 1 [0/60000 (0%)]\tLoss: 2.373651\n",
      "\n",
      "Test set: Average loss: 0.2035, Accuracy: 9404/10000 (94%)\n",
      "\n",
      "Train Epoch: 2 [0/60000 (0%)]\tLoss: 0.479532\n",
      "\n",
      "Test set: Average loss: 0.1272, Accuracy: 9585/10000 (96%)\n",
      "\n",
      "Train Epoch: 3 [0/60000 (0%)]\tLoss: 0.528678\n",
      "\n",
      "Test set: Average loss: 0.1004, Accuracy: 9695/10000 (97%)\n",
      "\n",
      "Train Epoch: 4 [0/60000 (0%)]\tLoss: 0.384151\n",
      "\n",
      "Test set: Average loss: 0.0820, Accuracy: 9742/10000 (97%)\n",
      "\n",
      "Train Epoch: 5 [0/60000 (0%)]\tLoss: 0.542103\n",
      "\n",
      "Test set: Average loss: 0.0767, Accuracy: 9763/10000 (98%)\n",
      "\n",
      "Train Epoch: 6 [0/60000 (0%)]\tLoss: 0.250497\n",
      "\n",
      "Test set: Average loss: 0.0672, Accuracy: 9782/10000 (98%)\n",
      "\n",
      "Train Epoch: 7 [0/60000 (0%)]\tLoss: 0.203713\n",
      "\n",
      "Test set: Average loss: 0.0666, Accuracy: 9796/10000 (98%)\n",
      "\n",
      "Train Epoch: 8 [0/60000 (0%)]\tLoss: 0.292368\n",
      "\n",
      "Test set: Average loss: 0.0580, Accuracy: 9819/10000 (98%)\n",
      "\n",
      "Train Epoch: 9 [0/60000 (0%)]\tLoss: 0.073521\n",
      "\n",
      "Test set: Average loss: 0.0550, Accuracy: 9835/10000 (98%)\n",
      "\n",
      "Train Epoch: 10 [0/60000 (0%)]\tLoss: 0.085096\n",
      "\n",
      "Test set: Average loss: 0.0496, Accuracy: 9843/10000 (98%)\n",
      "\n",
      "Le programme a mis 63.530863523483276 secondes à s'exécuter\n"
     ]
    }
   ],
   "source": [
    "%run mnist.py --log-interval 1000"
   ]
  },
  {
   "cell_type": "code",
   "execution_count": 19,
   "metadata": {},
   "outputs": [
    {
     "name": "stdout",
     "output_type": "stream",
     "text": [
      "cuda? False\n",
      "Train Epoch: 1 [0/60000 (0%)]\tLoss: 2.376790\n",
      "\n",
      "Test set: Average loss: 0.2067, Accuracy: 9414/10000 (94%)\n",
      "\n",
      "Train Epoch: 2 [0/60000 (0%)]\tLoss: 0.357386\n",
      "\n",
      "Test set: Average loss: 0.1255, Accuracy: 9612/10000 (96%)\n",
      "\n",
      "Train Epoch: 3 [0/60000 (0%)]\tLoss: 0.393218\n",
      "\n",
      "Test set: Average loss: 0.0982, Accuracy: 9699/10000 (97%)\n",
      "\n",
      "Train Epoch: 4 [0/60000 (0%)]\tLoss: 0.073436\n",
      "\n",
      "Test set: Average loss: 0.0822, Accuracy: 9754/10000 (98%)\n",
      "\n",
      "Train Epoch: 5 [0/60000 (0%)]\tLoss: 0.346925\n",
      "\n",
      "Test set: Average loss: 0.0779, Accuracy: 9767/10000 (98%)\n",
      "\n",
      "Train Epoch: 6 [0/60000 (0%)]\tLoss: 0.146299\n",
      "\n",
      "Test set: Average loss: 0.0668, Accuracy: 9800/10000 (98%)\n",
      "\n",
      "Train Epoch: 7 [0/60000 (0%)]\tLoss: 0.131599\n",
      "\n",
      "Test set: Average loss: 0.0606, Accuracy: 9804/10000 (98%)\n",
      "\n",
      "Train Epoch: 8 [0/60000 (0%)]\tLoss: 0.294288\n",
      "\n",
      "Test set: Average loss: 0.0615, Accuracy: 9811/10000 (98%)\n",
      "\n",
      "Train Epoch: 9 [0/60000 (0%)]\tLoss: 0.161194\n",
      "\n",
      "Test set: Average loss: 0.0539, Accuracy: 9829/10000 (98%)\n",
      "\n",
      "Train Epoch: 10 [0/60000 (0%)]\tLoss: 0.225240\n",
      "\n",
      "Test set: Average loss: 0.0495, Accuracy: 9844/10000 (98%)\n",
      "\n",
      "Le programme a mis 171.96436405181885 secondes à s'exécuter.\n"
     ]
    }
   ],
   "source": [
    "%run mnist.py --no-cuda --log-interval 1000"
   ]
  },
  {
   "cell_type": "markdown",
   "metadata": {},
   "source": [
    "## git"
   ]
  },
  {
   "cell_type": "code",
   "execution_count": 20,
   "metadata": {},
   "outputs": [
    {
     "name": "stdout",
     "output_type": "stream",
     "text": [
      "On branch master\r\n",
      "Your branch is up-to-date with 'origin/master'.\r\n",
      "Changes not staged for commit:\r\n",
      "  (use \"git add <file>...\" to update what will be committed)\r\n",
      "  (use \"git checkout -- <file>...\" to discard changes in working directory)\r\n",
      "\r\n",
      "\t\u001b[31mmodified:   mnist.py\u001b[m\r\n",
      "\r\n",
      "Untracked files:\r\n",
      "  (use \"git add <file>...\" to include in what will be committed)\r\n",
      "\r\n",
      "\t\u001b[31m2018-03-19 training MNIST on the GPU.ipynb\u001b[m\r\n",
      "\r\n",
      "no changes added to commit (use \"git add\" and/or \"git commit -a\")\r\n"
     ]
    }
   ],
   "source": [
    "!git status"
   ]
  },
  {
   "cell_type": "code",
   "execution_count": 25,
   "metadata": {
    "collapsed": true
   },
   "outputs": [],
   "source": [
    "!git add 2018-03-19*"
   ]
  },
  {
   "cell_type": "code",
   "execution_count": 26,
   "metadata": {},
   "outputs": [
    {
     "name": "stdout",
     "output_type": "stream",
     "text": [
      "On branch master\r\n",
      "Your branch is up-to-date with 'origin/master'.\r\n",
      "Changes to be committed:\r\n",
      "  (use \"git reset HEAD <file>...\" to unstage)\r\n",
      "\r\n",
      "\t\u001b[32mnew file:   2018-03-19 training MNIST on the GPU.ipynb\u001b[m\r\n",
      "\r\n",
      "Changes not staged for commit:\r\n",
      "  (use \"git add <file>...\" to update what will be committed)\r\n",
      "  (use \"git checkout -- <file>...\" to discard changes in working directory)\r\n",
      "\r\n",
      "\t\u001b[31mmodified:   mnist.py\u001b[m\r\n",
      "\r\n"
     ]
    }
   ],
   "source": [
    "!git status"
   ]
  },
  {
   "cell_type": "code",
   "execution_count": 31,
   "metadata": {},
   "outputs": [
    {
     "name": "stdout",
     "output_type": "stream",
     "text": [
      "\u001b[1mdiff --git a/mnist.py b/mnist.py\u001b[m\r\n",
      "\u001b[1mindex 35688c0..7d4ffae 100644\u001b[m\r\n",
      "\u001b[1m--- a/mnist.py\u001b[m\r\n",
      "\u001b[1m+++ b/mnist.py\u001b[m\r\n",
      "\u001b[36m@@ -8,7 +8,7 @@\u001b[m \u001b[mimport torch.optim as optim\u001b[m\r\n",
      " from torchvision import datasets, transforms\u001b[m\r\n",
      " from torch.autograd import Variable\u001b[m\r\n",
      " \u001b[m\r\n",
      "\u001b[31m-t0 = time.time ()\u001b[m\r\n",
      "\u001b[32m+\u001b[m\u001b[32mt0 = time.time () # ajout de la constante de temps t0\u001b[m\r\n",
      " # Training settings\u001b[m\r\n",
      " parser = argparse.ArgumentParser(description='PyTorch MNIST Example')\u001b[m\r\n",
      " parser.add_argument('--batch-size', type=int, default=64, metavar='N',\u001b[m\r\n",
      "\u001b[36m@@ -27,6 +27,8 @@\u001b[m \u001b[mparser.add_argument('--seed', type=int, default=1, metavar='S',\u001b[m\r\n",
      "                     help='random seed (default: 1)')\u001b[m\r\n",
      " parser.add_argument('--log-interval', type=int, default=10, metavar='N',\u001b[m\r\n",
      "                     help='how many batches to wait before logging training status')\u001b[m\r\n",
      "\u001b[32m+\u001b[m\u001b[32mparser.add_argument('--dimension', type=int, default = 50, metavar='N',\u001b[m\r\n",
      "\u001b[32m+\u001b[m\u001b[32m                    help='the dimension of the second neuron network') #ajout de l'argument dimension représentant le nombre de neurone dans la deuxième couche.\u001b[m\u001b[41m \u001b[m\r\n",
      " args = parser.parse_args()\u001b[m\r\n",
      " args.cuda = not args.no_cuda and torch.cuda.is_available()\u001b[m\r\n",
      " print ('cuda?', args.cuda)\u001b[m\r\n",
      "\u001b[36m@@ -50,15 +52,14 @@\u001b[m \u001b[mtest_loader = torch.utils.data.DataLoader(\u001b[m\r\n",
      "                    ])),\u001b[m\r\n",
      "     batch_size=args.test_batch_size, shuffle=True, **kwargs)\u001b[m\r\n",
      " \u001b[m\r\n",
      "\u001b[31m-\u001b[m\r\n",
      " class Net(nn.Module):\u001b[m\r\n",
      "     def __init__(self):\u001b[m\r\n",
      "         super(Net, self).__init__()\u001b[m\r\n",
      "         self.conv1 = nn.Conv2d(1, 10, kernel_size=5)\u001b[m\r\n",
      "         self.conv2 = nn.Conv2d(10, 20, kernel_size=5)\u001b[m\r\n",
      "         self.conv2_drop = nn.Dropout2d()\u001b[m\r\n",
      "\u001b[31m-        self.fc1 = nn.Linear(320, 50)\u001b[m\r\n",
      "\u001b[31m-        self.fc2 = nn.Linear(50, 10)\u001b[m\r\n",
      "\u001b[32m+\u001b[m\u001b[32m        self.fc1 = nn.Linear(320, args.dimension)# args.dimension prend la valeur default de l'argument dimension.\u001b[m\r\n",
      "\u001b[32m+\u001b[m\u001b[32m        self.fc2 = nn.Linear(args.dimension, 10)\u001b[m\r\n",
      " \u001b[m\r\n",
      "     def forward(self, x):\u001b[m\r\n",
      "         x = F.relu(F.max_pool2d(self.conv1(x), 2))\u001b[m\r\n",
      "\u001b[36m@@ -122,6 +123,6 @@\u001b[m \u001b[mdef main():\u001b[m\r\n",
      " \u001b[m\r\n",
      " main()\u001b[m\r\n",
      " \u001b[m\r\n",
      "\u001b[31m-t1 = time.time ()\u001b[m\r\n",
      "\u001b[32m+\u001b[m\u001b[32mt1 = time.time () # ajout de la constante de temps t1\u001b[m\r\n",
      " \u001b[m\r\n",
      "\u001b[31m-print (\"Le programme a mis\",t1-t0, \"secondes à s'exécuter.\")\u001b[m\r\n",
      "\\ No newline at end of file\u001b[m\r\n",
      "\u001b[32m+\u001b[m\u001b[32mprint (\"Le programme a mis\",t1-t0, \"secondes à s'exécuter.\") #compare t1 et t0, connaitre le temps d'execution du programme\u001b[m\r\n",
      "\\ No newline at end of file\u001b[m\r\n"
     ]
    }
   ],
   "source": [
    "!git diff mnist.py"
   ]
  },
  {
   "cell_type": "code",
   "execution_count": 29,
   "metadata": {},
   "outputs": [
    {
     "name": "stdout",
     "output_type": "stream",
     "text": [
      "[master 476e27b]  Train on GPU\r\n",
      " 2 files changed, 367 insertions(+), 1 deletion(-)\r\n",
      " create mode 100644 2018-03-19 training MNIST on the GPU.ipynb\r\n"
     ]
    }
   ],
   "source": [
    "!git commit -am' Train on GPU '"
   ]
  },
  {
   "cell_type": "code",
   "execution_count": 30,
   "metadata": {},
   "outputs": [
    {
     "name": "stdout",
     "output_type": "stream",
     "text": [
      "warning: push.default is unset; its implicit value has changed in\n",
      "Git 2.0 from 'matching' to 'simple'. To squelch this message\n",
      "and maintain the traditional behavior, use:\n",
      "\n",
      "  git config --global push.default matching\n",
      "\n",
      "To squelch this message and adopt the new behavior now, use:\n",
      "\n",
      "  git config --global push.default simple\n",
      "\n",
      "When push.default is set to 'matching', git will push local branches\n",
      "to the remote branches that already exist with the same name.\n",
      "\n",
      "Since Git 2.0, Git defaults to the more conservative 'simple'\n",
      "behavior, which only pushes the current branch to the corresponding\n",
      "remote branch that 'git pull' uses to update the current branch.\n",
      "\n",
      "See 'git help config' and search for 'push.default' for further information.\n",
      "(the 'simple' mode was introduced in Git 1.7.11. Use the similar mode\n",
      "'current' instead of 'simple' if you sometimes use older versions of Git)\n",
      "\n",
      "Username for 'https://github.com': ^C\n"
     ]
    }
   ],
   "source": [
    "!git push"
   ]
  },
  {
   "cell_type": "code",
   "execution_count": null,
   "metadata": {
    "collapsed": true
   },
   "outputs": [],
   "source": []
  }
 ],
 "metadata": {
  "kernelspec": {
   "display_name": "Python 3",
   "language": "python",
   "name": "python3"
  },
  "language_info": {
   "codemirror_mode": {
    "name": "ipython",
    "version": 3
   },
   "file_extension": ".py",
   "mimetype": "text/x-python",
   "name": "python",
   "nbconvert_exporter": "python",
   "pygments_lexer": "ipython3",
   "version": "3.6.5"
  },
  "toc": {
   "base_numbering": 1,
   "nav_menu": {},
   "number_sections": true,
   "sideBar": true,
   "skip_h1_title": false,
   "title_cell": "Table of Contents",
   "title_sidebar": "Contents",
   "toc_cell": false,
   "toc_position": {},
   "toc_section_display": true,
   "toc_window_display": false
  }
 },
 "nbformat": 4,
 "nbformat_minor": 2
}
