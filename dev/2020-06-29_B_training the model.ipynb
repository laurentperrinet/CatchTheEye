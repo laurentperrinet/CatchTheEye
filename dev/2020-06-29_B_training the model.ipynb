{
 "cells": [
  {
   "cell_type": "raw",
   "metadata": {},
   "source": [
    "voir ReadeMe + gaze.py (celui dans dossier principal) pour nétoyer un peut !"
   ]
  },
  {
   "cell_type": "code",
   "execution_count": 1,
   "metadata": {
    "ExecuteTime": {
     "end_time": "2018-10-25T09:07:23.037713Z",
     "start_time": "2018-10-25T09:07:22.997336Z"
    },
    "scrolled": true
   },
   "outputs": [],
   "source": [
    "%load_ext autoreload\n",
    "%autoreload 2"
   ]
  },
  {
   "cell_type": "code",
   "execution_count": 2,
   "metadata": {
    "ExecuteTime": {
     "end_time": "2018-10-25T09:07:23.838315Z",
     "start_time": "2018-10-25T09:07:23.044900Z"
    }
   },
   "outputs": [],
   "source": [
    "import numpy as np\n",
    "%matplotlib inline\n",
    "import matplotlib.pyplot as plt"
   ]
  },
  {
   "cell_type": "code",
   "execution_count": 3,
   "metadata": {
    "ExecuteTime": {
     "end_time": "2018-10-25T09:07:27.188010Z",
     "start_time": "2018-10-25T09:07:23.843300Z"
    }
   },
   "outputs": [
    {
     "data": {
      "application/json": {
       "Software versions": [
        {
         "module": "Python",
         "version": "3.6.9 64bit [GCC 8.4.0]"
        },
        {
         "module": "IPython",
         "version": "7.8.0"
        },
        {
         "module": "OS",
         "version": "Linux 4.15.0 118 generic x86_64 with Ubuntu 18.04 bionic"
        },
        {
         "module": "numpy",
         "version": "1.17.2"
        },
        {
         "module": "dlib",
         "version": "19.19.0"
        },
        {
         "module": "matplotlib",
         "version": "3.1.1"
        },
        {
         "module": "imageio",
         "version": "2.6.1"
        },
        {
         "module": "gaze",
         "version": "The 'gaze' distribution was not found and is required by the application"
        },
        {
         "module": "torch",
         "version": "1.5.1"
        },
        {
         "module": "torchvision",
         "version": "0.6.1"
        }
       ]
      },
      "text/html": [
       "<table><tr><th>Software</th><th>Version</th></tr><tr><td>Python</td><td>3.6.9 64bit [GCC 8.4.0]</td></tr><tr><td>IPython</td><td>7.8.0</td></tr><tr><td>OS</td><td>Linux 4.15.0 118 generic x86_64 with Ubuntu 18.04 bionic</td></tr><tr><td>numpy</td><td>1.17.2</td></tr><tr><td>dlib</td><td>19.19.0</td></tr><tr><td>matplotlib</td><td>3.1.1</td></tr><tr><td>imageio</td><td>2.6.1</td></tr><tr><td>gaze</td><td>The 'gaze' distribution was not found and is required by the application</td></tr><tr><td>torch</td><td>1.5.1</td></tr><tr><td>torchvision</td><td>0.6.1</td></tr><tr><td colspan='2'>Wed Sep 30 08:23:31 2020 UTC</td></tr></table>"
      ],
      "text/latex": [
       "\\begin{tabular}{|l|l|}\\hline\n",
       "{\\bf Software} & {\\bf Version} \\\\ \\hline\\hline\n",
       "Python & 3.6.9 64bit [GCC 8.4.0] \\\\ \\hline\n",
       "IPython & 7.8.0 \\\\ \\hline\n",
       "OS & Linux 4.15.0 118 generic x86\\_64 with Ubuntu 18.04 bionic \\\\ \\hline\n",
       "numpy & 1.17.2 \\\\ \\hline\n",
       "dlib & 19.19.0 \\\\ \\hline\n",
       "matplotlib & 3.1.1 \\\\ \\hline\n",
       "imageio & 2.6.1 \\\\ \\hline\n",
       "gaze & The 'gaze' distribution was not found and is required by the application \\\\ \\hline\n",
       "torch & 1.5.1 \\\\ \\hline\n",
       "torchvision & 0.6.1 \\\\ \\hline\n",
       "\\hline \\multicolumn{2}{|l|}{Wed Sep 30 08:23:31 2020 UTC} \\\\ \\hline\n",
       "\\end{tabular}\n"
      ],
      "text/plain": [
       "Software versions\n",
       "Python 3.6.9 64bit [GCC 8.4.0]\n",
       "IPython 7.8.0\n",
       "OS Linux 4.15.0 118 generic x86_64 with Ubuntu 18.04 bionic\n",
       "numpy 1.17.2\n",
       "dlib 19.19.0\n",
       "matplotlib 3.1.1\n",
       "imageio 2.6.1\n",
       "gaze The 'gaze' distribution was not found and is required by the application\n",
       "torch 1.5.1\n",
       "torchvision 0.6.1\n",
       "Wed Sep 30 08:23:31 2020 UTC"
      ]
     },
     "execution_count": 3,
     "metadata": {},
     "output_type": "execute_result"
    }
   ],
   "source": [
    "%load_ext version_information\n",
    "%version_information numpy, dlib, matplotlib, imageio, gaze, torch, torchvision"
   ]
  },
  {
   "cell_type": "raw",
   "metadata": {},
   "source": [
    "import time\n",
    "time.sleep(8*3600)"
   ]
  },
  {
   "cell_type": "markdown",
   "metadata": {},
   "source": [
    "# training the model on the cropped faces"
   ]
  },
  {
   "cell_type": "code",
   "execution_count": 4,
   "metadata": {
    "ExecuteTime": {
     "end_time": "2018-10-25T09:07:27.232411Z",
     "start_time": "2018-10-25T09:07:27.192713Z"
    }
   },
   "outputs": [],
   "source": [
    "from gaze import init"
   ]
  },
  {
   "cell_type": "code",
   "execution_count": 5,
   "metadata": {},
   "outputs": [],
   "source": [
    "dataset_valid='../dataset_valid'\n",
    "dataset_new='../dataset_valid' #'../dataset_new'"
   ]
  },
  {
   "cell_type": "code",
   "execution_count": 6,
   "metadata": {
    "ExecuteTime": {
     "end_time": "2018-10-25T09:07:27.418356Z",
     "start_time": "2018-10-25T09:07:27.380715Z"
    },
    "scrolled": true
   },
   "outputs": [],
   "source": [
    "date = '20200907'\n",
    "epochs = 400\n",
    "args = init(verbose=1, epochs=epochs, fullsize=10,\n",
    "            conv1_dim=5, conv1_kernel_size=4, conv2_dim=15, conv2_kernel_size=5,\n",
    "            dataset_faces_folder='dataset_train_%s'%date, #None, #'dataset_faces_%s'%date,\n",
    "            dataset_train='dataset_train_%s'%date, dataset_test='dataset_train_%s'%date,\n",
    "            #dataset_train='dataset_train_%s'%date, dataset_test='dataset_test_%s'%date,\n",
    "            dataset_folder=dataset_valid)\n",
    "\n",
    "path = 'Regard_400_%s.pt'%('20200930')#date"
   ]
  },
  {
   "cell_type": "code",
   "execution_count": 7,
   "metadata": {
    "ExecuteTime": {
     "end_time": "2018-10-25T09:07:27.678755Z",
     "start_time": "2018-10-25T09:07:27.423597Z"
    }
   },
   "outputs": [
    {
     "name": "stdout",
     "output_type": "stream",
     "text": [
      "Parameters= Namespace(N_cv=20, activation='relu', batch_size=16, conv1_bn_momentum=0.5, conv1_dim=5, conv1_kernel_size=4, conv2_bn_momentum=0.5, conv2_dim=15, conv2_kernel_size=5, crop=75, dataset_faces_folder='dataset_train_20200907', dataset_folder='../dataset_valid', dataset_test='dataset_train_20200907', dataset_train='dataset_train_20200907', dense_bn_momentum=0.5, dimension=30, do_adam=False, epochs=400, fullsize=10, log_interval=0, lr=0.01, mean=0.4, momentum=0.05, no_cuda=False, num_processes=1, seed=42, size=40, size_test_set=0.2, std=0.3, stride1=2, stride2=4, test_batch_size=16, verbose=1)\n",
      "ls: cannot access 'Regard_400_20200930.pt': No such file or directory\r\n"
     ]
    }
   ],
   "source": [
    "print('Parameters=', args)\n",
    "!ls -l {path}"
   ]
  },
  {
   "cell_type": "raw",
   "metadata": {},
   "source": [
    "!rm {path}"
   ]
  },
  {
   "cell_type": "code",
   "execution_count": 8,
   "metadata": {
    "ExecuteTime": {
     "end_time": "2018-10-25T09:07:27.827934Z",
     "start_time": "2018-10-25T09:07:27.687716Z"
    },
    "scrolled": true
   },
   "outputs": [
    {
     "name": "stdout",
     "output_type": "stream",
     "text": [
      "Found 4380 sample images;  3504  to train 876 to test\n",
      "Training model...\n",
      "Train Epoch\n",
      "Model saved at Regard_400_20200930.pt\n"
     ]
    }
   ],
   "source": [
    "from gaze import ML\n",
    "ml = ML(args)\n",
    "ml.train(path=path)"
   ]
  },
  {
   "cell_type": "markdown",
   "metadata": {},
   "source": [
    "## testing the model"
   ]
  },
  {
   "cell_type": "code",
   "execution_count": 9,
   "metadata": {
    "ExecuteTime": {
     "end_time": "2018-10-25T09:07:32.572149Z",
     "start_time": "2018-10-25T09:07:27.832633Z"
    }
   },
   "outputs": [
    {
     "name": "stdout",
     "output_type": "stream",
     "text": [
      "Accuracy=90.8%\n"
     ]
    }
   ],
   "source": [
    "Accuracy = ml.test()\n",
    "print('Accuracy={:.1f}%'.format(Accuracy*100))"
   ]
  },
  {
   "cell_type": "markdown",
   "metadata": {},
   "source": [
    "## showing the images which are wrongly classified"
   ]
  },
  {
   "cell_type": "raw",
   "metadata": {
    "ExecuteTime": {
     "end_time": "2018-10-25T09:07:58.817712Z",
     "start_time": "2018-10-25T09:07:32.578376Z"
    },
    "scrolled": true
   },
   "source": [
    "import time\n",
    "import os\n",
    "import glob\n",
    "import imageio\n",
    "from LeCheapEyeTracker_copy.EyeTrackerServer import FaceExtractor\n",
    "#from gaze import FaceExtractor #/!\\ ImportError\n",
    "FE = FaceExtractor()\n",
    "timings = []\n",
    "wrongs = []\n",
    "for target in ml.dataset.classes:\n",
    "    print(target, args.dataset_folder)\n",
    "    \n",
    "    for dataset in [dataset_valid, dataset_new] :\n",
    "    \n",
    "        for filename in glob.glob(os.path.join(dataset, target, '*.png')):\n",
    "\n",
    "            if False:\n",
    "                frame = imageio.imread(filename)\n",
    "                img_face = FE.face_extractor(frame)\n",
    "            else:\n",
    "                filename_face = filename.replace(dataset, args.dataset_faces_folder)\n",
    "                if os.path.exists(filename_face) : img_face = imageio.imread(filename_face)\n",
    "\n",
    "            if os.path.exists(filename_face) :\n",
    "                pred = ml.classify(img_face, ml.dataset.test_transform)\n",
    "                pred_label = ml.dataset.dataset.classes[pred.argmax()]\n",
    "\n",
    "                if not pred_label == target:\n",
    "                    wrong = dict(filename_face=filename_face, pred_label=pred_label, target=target)\n",
    "                    wrongs.append(wrong)\n",
    "                    print('For ', filename, ', Pred=', pred_label, ' True=', target, ', P=', [round(p, 3) for p in pred], sep='')\n",
    "                    #plt.imshow(img_face)\n",
    "                    #plt.show()"
   ]
  },
  {
   "cell_type": "code",
   "execution_count": 10,
   "metadata": {
    "ExecuteTime": {
     "end_time": "2018-10-25T09:07:58.817712Z",
     "start_time": "2018-10-25T09:07:32.578376Z"
    },
    "scrolled": true
   },
   "outputs": [
    {
     "name": "stdout",
     "output_type": "stream",
     "text": [
      "blink ../dataset_valid\n",
      "For ../dataset_valid/blink/2020-07-15_Phiphi__084.png, Pred=left True=blink, P=[0.028, 0.0, 0.788, 0.184]\n",
      "For ../dataset_valid/blink/2020-07-15_Iason__032.png, Pred=center True=blink, P=[0.0, 0.999, 0.0, 0.001]\n",
      "For ../dataset_valid/blink/2020-07-15_Ektor__078.png, Pred=right True=blink, P=[0.0, 0.0, 0.0, 1.0]\n",
      "For ../dataset_valid/blink/2020-07-15_Iason__069.png, Pred=center True=blink, P=[0.0, 0.999, 0.0, 0.001]\n",
      "For ../dataset_valid/blink/2020-07-10_Laurent42__106.png, Pred=left True=blink, P=[0.0, 0.0, 1.0, 0.0]\n",
      "center ../dataset_valid\n",
      "For ../dataset_valid/center/2018-10-24_Laurent_238.png, Pred=left True=center, P=[0.0, 0.035, 0.965, 0.0]\n",
      "For ../dataset_valid/center/2020-07-15_Ektor__025.png, Pred=blink True=center, P=[0.616, 0.384, 0.0, 0.0]\n",
      "For ../dataset_valid/center/2020-07-21_Juliette__036.png, Pred=right True=center, P=[0.0, 0.172, 0.0, 0.828]\n",
      "For ../dataset_valid/center/2019-05-16_Laurent_035.png, Pred=right True=center, P=[0.0, 0.079, 0.002, 0.918]\n",
      "For ../dataset_valid/center/2018-09-05_Laurent_167.png, Pred=blink True=center, P=[0.988, 0.0, 0.011, 0.0]\n",
      "For ../dataset_valid/center/2020-07-15_Laurent2__094.png, Pred=blink True=center, P=[0.988, 0.012, 0.0, 0.0]\n",
      "For ../dataset_valid/center/2020-07-15_Iason__014.png, Pred=blink True=center, P=[0.997, 0.003, 0.0, 0.0]\n",
      "For ../dataset_valid/center/2019-05-16_Laurent_251.png, Pred=right True=center, P=[0.0, 0.001, 0.0, 0.999]\n",
      "For ../dataset_valid/center/2020-07-19_Laurent__015.png, Pred=left True=center, P=[0.0, 0.132, 0.868, 0.0]\n",
      "For ../dataset_valid/center/2018-09-05_Laurent_155.png, Pred=left True=center, P=[0.0, 0.448, 0.552, 0.0]\n",
      "For ../dataset_valid/center/2020-07-15_Laurent__075.png, Pred=left True=center, P=[0.0, 0.186, 0.814, 0.0]\n",
      "For ../dataset_valid/center/2020-07-19_Laurent__017.png, Pred=right True=center, P=[0.0, 0.212, 0.0, 0.788]\n",
      "For ../dataset_valid/center/2020-07-10_Laurent43__019.png, Pred=blink True=center, P=[1.0, 0.0, 0.0, 0.0]\n",
      "For ../dataset_valid/center/2018-09-05_Laurent_097.png, Pred=right True=center, P=[0.0, 0.0, 0.001, 0.999]\n",
      "For ../dataset_valid/center/2020-07-15_Oscar__102.png, Pred=left True=center, P=[0.0, 0.351, 0.649, 0.0]\n",
      "For ../dataset_valid/center/2020-07-19_Laurent__035.png, Pred=blink True=center, P=[0.998, 0.002, 0.0, 0.0]\n",
      "For ../dataset_valid/center/2018-10-24_Laurent_186.png, Pred=left True=center, P=[0.0, 0.012, 0.988, 0.0]\n",
      "For ../dataset_valid/center/2020-07-09_Laurent__035.png, Pred=right True=center, P=[0.0, 0.063, 0.0, 0.937]\n",
      "For ../dataset_valid/center/2020-07-10_Laurent43__004.png, Pred=right True=center, P=[0.0, 0.002, 0.0, 0.998]\n",
      "For ../dataset_valid/center/2020-07-10_JeanNicolas__102.png, Pred=left True=center, P=[0.0, 0.075, 0.925, 0.0]\n",
      "For ../dataset_valid/center/2018-10-18_Laurent_237.png, Pred=right True=center, P=[0.0, 0.023, 0.0, 0.977]\n",
      "For ../dataset_valid/center/2019-05-16_Laurent_162.png, Pred=right True=center, P=[0.0, 0.362, 0.0, 0.638]\n",
      "For ../dataset_valid/center/2019-05-16_Laurent_109.png, Pred=right True=center, P=[0.0, 0.458, 0.0, 0.542]\n",
      "For ../dataset_valid/center/2020-07-09_Laurent__021.png, Pred=right True=center, P=[0.0, 0.0, 0.0, 1.0]\n",
      "For ../dataset_valid/center/2018-10-24_Laurent_243.png, Pred=blink True=center, P=[0.652, 0.348, 0.0, 0.0]\n",
      "For ../dataset_valid/center/2018-10-24_Laurent_189.png, Pred=left True=center, P=[0.0, 0.005, 0.995, 0.0]\n",
      "For ../dataset_valid/center/2020-07-10_JeanNicolas__047.png, Pred=left True=center, P=[0.0, 0.029, 0.971, 0.0]\n",
      "For ../dataset_valid/center/2018-09-05_Laurent_007.png, Pred=right True=center, P=[0.0, 0.033, 0.282, 0.685]\n",
      "For ../dataset_valid/center/2020-07-10_Laurent42__078.png, Pred=left True=center, P=[0.0, 0.003, 0.997, 0.0]\n",
      "For ../dataset_valid/center/2018-09-05_Laurent_042.png, Pred=left True=center, P=[0.0, 0.11, 0.89, 0.0]\n",
      "For ../dataset_valid/center/2020-07-15_Phiphi__053.png, Pred=right True=center, P=[0.0, 0.124, 0.0, 0.876]\n",
      "For ../dataset_valid/center/2020-07-15_Iason__100.png, Pred=left True=center, P=[0.0, 0.074, 0.925, 0.0]\n",
      "For ../dataset_valid/center/2018-10-03_Laurent_093.png, Pred=right True=center, P=[0.0, 0.055, 0.0, 0.945]\n",
      "For ../dataset_valid/center/2019-05-16_Laurent_141.png, Pred=right True=center, P=[0.0, 0.322, 0.0, 0.678]\n",
      "For ../dataset_valid/center/2018-10-24_Laurent_200.png, Pred=right True=center, P=[0.0, 0.036, 0.0, 0.964]\n",
      "For ../dataset_valid/center/2020-07-15_Laurent2__075.png, Pred=blink True=center, P=[0.817, 0.183, 0.0, 0.0]\n",
      "For ../dataset_valid/center/2020-07-19_Laurent__053.png, Pred=right True=center, P=[0.0, 0.098, 0.127, 0.775]\n",
      "For ../dataset_valid/center/2019-05-16_Laurent_052.png, Pred=right True=center, P=[0.0, 0.194, 0.0, 0.806]\n",
      "For ../dataset_valid/center/2020-07-10_LaurentMask__071.png, Pred=blink True=center, P=[0.829, 0.171, 0.0, 0.0]\n",
      "For ../dataset_valid/center/2018-09-05_Laurent_131.png, Pred=right True=center, P=[0.0, 0.191, 0.0, 0.809]\n",
      "For ../dataset_valid/center/2019-05-16_Laurent_108.png, Pred=right True=center, P=[0.0, 0.072, 0.0, 0.928]\n",
      "For ../dataset_valid/center/2019-05-16_Laurent_027.png, Pred=right True=center, P=[0.0, 0.148, 0.0, 0.852]\n",
      "For ../dataset_valid/center/2019-05-16_Laurent_168.png, Pred=left True=center, P=[0.0, 0.0, 1.0, 0.0]\n",
      "For ../dataset_valid/center/2020-07-10_Laurent43__048.png, Pred=right True=center, P=[0.0, 0.007, 0.0, 0.993]\n",
      "For ../dataset_valid/center/2020-07-10_Laurent43__086.png, Pred=left True=center, P=[0.007, 0.032, 0.932, 0.029]\n",
      "For ../dataset_valid/center/2018-10-24_Laurent_181.png, Pred=left True=center, P=[0.0, 0.295, 0.704, 0.001]\n",
      "For ../dataset_valid/center/2018-10-24_Laurent_101.png, Pred=left True=center, P=[0.0, 0.024, 0.964, 0.012]\n",
      "For ../dataset_valid/center/2020-07-09_Laurent__045.png, Pred=right True=center, P=[0.0, 0.006, 0.0, 0.994]\n",
      "For ../dataset_valid/center/2018-10-14_Laurent_120.png, Pred=right True=center, P=[0.0, 0.118, 0.0, 0.882]\n",
      "left ../dataset_valid\n",
      "For ../dataset_valid/left/2020-07-10_LaurentEkla__024.png, Pred=blink True=left, P=[0.999, 0.0, 0.001, 0.0]\n",
      "For ../dataset_valid/left/2018-10-15_Laurent_064.png, Pred=center True=left, P=[0.0, 0.998, 0.002, 0.0]\n",
      "For ../dataset_valid/left/2018-10-24_Laurent_104.png, Pred=center True=left, P=[0.0, 0.835, 0.165, 0.0]\n",
      "For ../dataset_valid/left/2018-09-12_Laurent_001.png, Pred=right True=left, P=[0.0, 0.0, 0.116, 0.884]\n",
      "For ../dataset_valid/left/2018-10-18_Laurent_169.png, Pred=center True=left, P=[0.0, 1.0, 0.0, 0.0]\n",
      "For ../dataset_valid/left/2019-05-16_Laurent_163.png, Pred=center True=left, P=[0.0, 0.627, 0.373, 0.0]\n",
      "For ../dataset_valid/left/2020-07-19_Laurent__084.png, Pred=blink True=left, P=[0.651, 0.347, 0.002, 0.001]\n",
      "For ../dataset_valid/left/2020-07-19_Laurent__037.png, Pred=center True=left, P=[0.003, 0.958, 0.039, 0.0]\n",
      "For ../dataset_valid/left/2020-07-15_Oscar__078.png, Pred=center True=left, P=[0.0, 0.757, 0.243, 0.0]\n",
      "For ../dataset_valid/left/2020-07-15_Phiphi__095.png, Pred=center True=left, P=[0.0, 0.999, 0.0, 0.001]\n",
      "For ../dataset_valid/left/2020-07-15_Hadi__009.png, Pred=center True=left, P=[0.0, 0.832, 0.168, 0.0]\n",
      "For ../dataset_valid/left/2019-05-16_Laurent_200.png, Pred=right True=left, P=[0.0, 0.0, 0.043, 0.957]\n",
      "For ../dataset_valid/left/2019-05-16_Laurent_089.png, Pred=center True=left, P=[0.0, 0.639, 0.361, 0.0]\n",
      "For ../dataset_valid/left/2020-07-19_Laurent__081.png, Pred=center True=left, P=[0.0, 0.802, 0.198, 0.0]\n",
      "For ../dataset_valid/left/2018-10-15_Laurent_061.png, Pred=center True=left, P=[0.0, 1.0, 0.0, 0.0]\n",
      "For ../dataset_valid/left/2020-07-15_Ektor__067.png, Pred=blink True=left, P=[0.978, 0.002, 0.021, 0.0]\n",
      "For ../dataset_valid/left/2020-07-15_Phiphi__014.png, Pred=blink True=left, P=[1.0, 0.0, 0.0, 0.0]\n",
      "For ../dataset_valid/left/2020-07-15_Ektor__017.png, Pred=center True=left, P=[0.0, 0.825, 0.175, 0.0]\n",
      "For ../dataset_valid/left/2020-07-15_Phiphi__049.png, Pred=center True=left, P=[0.0, 1.0, 0.0, 0.0]\n",
      "For ../dataset_valid/left/2020-07-15_Phiphi__045.png, Pred=center True=left, P=[0.0, 0.988, 0.001, 0.012]\n",
      "For ../dataset_valid/left/2018-10-18_Laurent_199.png, Pred=center True=left, P=[0.0, 1.0, 0.0, 0.0]\n",
      "For ../dataset_valid/left/2018-10-24_Laurent_064.png, Pred=center True=left, P=[0.0, 0.709, 0.291, 0.0]\n",
      "For ../dataset_valid/left/2018-10-24_Laurent_096.png, Pred=center True=left, P=[0.0, 0.998, 0.002, 0.0]\n",
      "For ../dataset_valid/left/2020-07-15_Phiphi__032.png, Pred=center True=left, P=[0.001, 0.997, 0.0, 0.002]\n",
      "For ../dataset_valid/left/2018-09-04_Laurent_165.png, Pred=center True=left, P=[0.0, 0.871, 0.129, 0.0]\n",
      "For ../dataset_valid/left/2018-09-05_Laurent_116.png, Pred=center True=left, P=[0.0, 1.0, 0.0, 0.0]\n",
      "For ../dataset_valid/left/2020-07-15_Oscar__090.png, Pred=blink True=left, P=[1.0, 0.0, 0.0, 0.0]\n",
      "For ../dataset_valid/left/2020-07-15_Iason__050.png, Pred=center True=left, P=[0.0, 0.95, 0.05, 0.0]\n"
     ]
    },
    {
     "name": "stdout",
     "output_type": "stream",
     "text": [
      "For ../dataset_valid/left/2020-07-15_Phiphi__030.png, Pred=right True=left, P=[0.0, 0.241, 0.0, 0.759]\n",
      "For ../dataset_valid/left/2019-05-16_Laurent_207.png, Pred=center True=left, P=[0.0, 0.634, 0.366, 0.0]\n",
      "For ../dataset_valid/left/2018-10-03_Laurent_155.png, Pred=center True=left, P=[0.0, 0.615, 0.385, 0.0]\n",
      "For ../dataset_valid/left/2018-10-14_Laurent_045.png, Pred=center True=left, P=[0.0, 0.687, 0.313, 0.0]\n",
      "For ../dataset_valid/left/2020-07-10_Laurent42__034.png, Pred=blink True=left, P=[0.999, 0.0, 0.001, 0.0]\n",
      "For ../dataset_valid/left/2020-07-10_Laurent43__080.png, Pred=blink True=left, P=[0.668, 0.0, 0.331, 0.001]\n",
      "For ../dataset_valid/left/2020-07-15_Oscar__080.png, Pred=center True=left, P=[0.001, 0.665, 0.334, 0.0]\n",
      "For ../dataset_valid/left/2018-10-24_Laurent_152.png, Pred=center True=left, P=[0.0, 0.987, 0.013, 0.0]\n",
      "For ../dataset_valid/left/2018-10-24_Laurent_182.png, Pred=center True=left, P=[0.0, 0.984, 0.016, 0.0]\n",
      "For ../dataset_valid/left/2018-10-14_Laurent_155.png, Pred=center True=left, P=[0.0, 0.771, 0.22, 0.009]\n",
      "For ../dataset_valid/left/2020-07-15_Iason__011.png, Pred=center True=left, P=[0.0, 0.537, 0.463, 0.0]\n",
      "For ../dataset_valid/left/2018-09-14_Laurent_083.png, Pred=center True=left, P=[0.0, 1.0, 0.0, 0.0]\n",
      "For ../dataset_valid/left/2018-10-24_Laurent_170.png, Pred=blink True=left, P=[1.0, 0.0, 0.0, 0.0]\n",
      "For ../dataset_valid/left/2020-07-15_Phiphi__076.png, Pred=center True=left, P=[0.001, 0.994, 0.0, 0.005]\n",
      "For ../dataset_valid/left/2018-10-18_Laurent_128.png, Pred=right True=left, P=[0.0, 0.051, 0.108, 0.841]\n",
      "For ../dataset_valid/left/2020-07-15_Ektor__063.png, Pred=center True=left, P=[0.0, 0.756, 0.244, 0.0]\n",
      "For ../dataset_valid/left/2020-07-10_Laurent43__040.png, Pred=blink True=left, P=[1.0, 0.0, 0.0, 0.0]\n",
      "For ../dataset_valid/left/2020-07-09_Laurent__003.png, Pred=center True=left, P=[0.0, 0.553, 0.447, 0.0]\n",
      "For ../dataset_valid/left/2020-07-15_Iason__082.png, Pred=center True=left, P=[0.0, 0.966, 0.034, 0.0]\n",
      "For ../dataset_valid/left/2020-07-15_Ektor__087.png, Pred=center True=left, P=[0.0, 1.0, 0.0, 0.0]\n",
      "For ../dataset_valid/left/2020-07-15_Iason__065.png, Pred=center True=left, P=[0.0, 0.998, 0.002, 0.0]\n",
      "For ../dataset_valid/left/2020-07-15_Phiphi__085.png, Pred=center True=left, P=[0.0, 0.824, 0.176, 0.0]\n",
      "For ../dataset_valid/left/2020-07-15_Ektor__005.png, Pred=center True=left, P=[0.0, 1.0, 0.0, 0.0]\n",
      "For ../dataset_valid/left/2018-10-03_Laurent_151.png, Pred=center True=left, P=[0.0, 0.648, 0.352, 0.0]\n",
      "For ../dataset_valid/left/2018-10-14_Laurent_217.png, Pred=center True=left, P=[0.0, 0.654, 0.346, 0.0]\n",
      "For ../dataset_valid/left/2018-10-24_Laurent_229.png, Pred=center True=left, P=[0.0, 0.926, 0.074, 0.0]\n",
      "For ../dataset_valid/left/2018-10-18_Laurent_172.png, Pred=center True=left, P=[0.0, 0.991, 0.009, 0.0]\n",
      "For ../dataset_valid/left/2020-07-15_Phiphi__034.png, Pred=center True=left, P=[0.0, 0.996, 0.0, 0.004]\n",
      "For ../dataset_valid/left/2020-07-15_Iason__109.png, Pred=center True=left, P=[0.0, 0.806, 0.194, 0.0]\n",
      "For ../dataset_valid/left/2018-10-15_Laurent_062.png, Pred=center True=left, P=[0.0, 1.0, 0.0, 0.0]\n",
      "For ../dataset_valid/left/2020-07-15_Laurent2__081.png, Pred=blink True=left, P=[0.979, 0.021, 0.0, 0.0]\n",
      "For ../dataset_valid/left/2020-07-15_Phiphi__079.png, Pred=blink True=left, P=[0.989, 0.002, 0.009, 0.0]\n",
      "For ../dataset_valid/left/2020-07-15_Oscar__013.png, Pred=center True=left, P=[0.0, 0.999, 0.001, 0.0]\n",
      "For ../dataset_valid/left/2018-09-05_Laurent_202.png, Pred=center True=left, P=[0.0, 1.0, 0.0, 0.0]\n",
      "For ../dataset_valid/left/2020-07-15_Ektor__046.png, Pred=center True=left, P=[0.0, 0.964, 0.036, 0.0]\n",
      "For ../dataset_valid/left/2020-07-15_Ektor__047.png, Pred=center True=left, P=[0.0, 1.0, 0.0, 0.0]\n",
      "For ../dataset_valid/left/2018-10-24_Laurent_154.png, Pred=center True=left, P=[0.0, 0.844, 0.156, 0.0]\n",
      "For ../dataset_valid/left/2020-07-15_Ektor__021.png, Pred=center True=left, P=[0.0, 0.907, 0.093, 0.0]\n",
      "For ../dataset_valid/left/2018-09-12_Laurent_063.png, Pred=right True=left, P=[0.0, 0.0, 0.049, 0.951]\n",
      "For ../dataset_valid/left/2020-07-15_Phiphi__011.png, Pred=blink True=left, P=[0.981, 0.005, 0.014, 0.0]\n",
      "For ../dataset_valid/left/2020-07-15_Iason__049.png, Pred=center True=left, P=[0.0, 0.982, 0.018, 0.0]\n",
      "For ../dataset_valid/left/2018-10-24_Laurent_111.png, Pred=center True=left, P=[0.0, 0.548, 0.452, 0.0]\n",
      "For ../dataset_valid/left/2020-07-15_Iason__078.png, Pred=center True=left, P=[0.0, 0.967, 0.033, 0.0]\n",
      "For ../dataset_valid/left/2018-10-24_Laurent_150.png, Pred=center True=left, P=[0.0, 0.883, 0.117, 0.0]\n",
      "For ../dataset_valid/left/2020-07-15_Iason__106.png, Pred=center True=left, P=[0.0, 0.704, 0.296, 0.0]\n",
      "For ../dataset_valid/left/2020-07-15_Oscar__087.png, Pred=center True=left, P=[0.0, 0.804, 0.196, 0.0]\n",
      "For ../dataset_valid/left/2020-07-15_Iason__047.png, Pred=center True=left, P=[0.0, 0.679, 0.321, 0.0]\n",
      "For ../dataset_valid/left/2018-10-14_Laurent_173.png, Pred=right True=left, P=[0.0, 0.223, 0.06, 0.717]\n",
      "right ../dataset_valid\n",
      "For ../dataset_valid/right/2020-07-15_Hadi__030.png, Pred=center True=right, P=[0.0, 0.792, 0.0, 0.208]\n",
      "For ../dataset_valid/right/2020-07-10_Laurent43__044.png, Pred=blink True=right, P=[0.865, 0.0, 0.0, 0.135]\n",
      "For ../dataset_valid/right/2020-07-10_Laurent42__001.png, Pred=blink True=right, P=[0.75, 0.001, 0.0, 0.248]\n",
      "For ../dataset_valid/right/2020-07-15_Hadi__049.png, Pred=center True=right, P=[0.0, 0.998, 0.0, 0.002]\n",
      "For ../dataset_valid/right/2020-07-15_Phiphi__112.png, Pred=center True=right, P=[0.0, 1.0, 0.0, 0.0]\n",
      "For ../dataset_valid/right/2020-07-15_Ektor__026.png, Pred=center True=right, P=[0.0, 1.0, 0.0, 0.0]\n",
      "For ../dataset_valid/right/2020-07-15_Hadi__013.png, Pred=center True=right, P=[0.0, 0.998, 0.0, 0.002]\n",
      "For ../dataset_valid/right/2020-07-19_Laurent__001.png, Pred=left True=right, P=[0.003, 0.07, 0.927, 0.0]\n",
      "For ../dataset_valid/right/2020-07-15_Phiphi__115.png, Pred=center True=right, P=[0.0, 1.0, 0.0, 0.0]\n",
      "For ../dataset_valid/right/2020-07-15_Phiphi__073.png, Pred=center True=right, P=[0.0, 0.982, 0.0, 0.018]\n",
      "For ../dataset_valid/right/2020-07-15_Phiphi__051.png, Pred=center True=right, P=[0.004, 0.981, 0.0, 0.015]\n",
      "For ../dataset_valid/right/2020-07-15_Hadi__063.png, Pred=center True=right, P=[0.0, 0.655, 0.0, 0.345]\n",
      "For ../dataset_valid/right/2020-07-15_Phiphi__071.png, Pred=center True=right, P=[0.0, 0.993, 0.0, 0.007]\n",
      "For ../dataset_valid/right/2020-07-09_Laurent__089.png, Pred=blink True=right, P=[0.975, 0.0, 0.0, 0.025]\n",
      "For ../dataset_valid/right/2020-07-15_Phiphi__075.png, Pred=center True=right, P=[0.004, 0.834, 0.0, 0.161]\n",
      "For ../dataset_valid/right/2020-07-15_Phiphi__056.png, Pred=center True=right, P=[0.0, 0.623, 0.004, 0.373]\n",
      "For ../dataset_valid/right/2020-07-15_Hadi__050.png, Pred=center True=right, P=[0.0, 1.0, 0.0, 0.0]\n",
      "For ../dataset_valid/right/2020-07-10_JeanNicolas__010.png, Pred=center True=right, P=[0.0, 1.0, 0.0, 0.0]\n",
      "For ../dataset_valid/right/2020-07-10_LaurentMask__061.png, Pred=center True=right, P=[0.0, 0.719, 0.0, 0.281]\n",
      "For ../dataset_valid/right/2020-07-15_Phiphi__023.png, Pred=center True=right, P=[0.0, 1.0, 0.0, 0.0]\n",
      "For ../dataset_valid/right/2020-07-15_Laurent__094.png, Pred=center True=right, P=[0.0, 1.0, 0.0, 0.0]\n",
      "For ../dataset_valid/right/2020-07-19_Laurent__031.png, Pred=center True=right, P=[0.0, 0.688, 0.312, 0.0]\n",
      "For ../dataset_valid/right/2020-07-10_Laurent42__075.png, Pred=left True=right, P=[0.0, 0.251, 0.749, 0.0]\n",
      "For ../dataset_valid/right/2020-07-15_Phiphi__057.png, Pred=center True=right, P=[0.0, 0.935, 0.001, 0.064]\n",
      "For ../dataset_valid/right/2020-07-15_Iason__048.png, Pred=center True=right, P=[0.0, 0.859, 0.0, 0.141]\n",
      "For ../dataset_valid/right/2020-07-15_Phiphi__070.png, Pred=center True=right, P=[0.0, 0.865, 0.0, 0.135]\n",
      "For ../dataset_valid/right/2020-07-15_Ektor__076.png, Pred=center True=right, P=[0.0, 0.999, 0.0, 0.001]\n",
      "For ../dataset_valid/right/2020-07-15_Phiphi__111.png, Pred=center True=right, P=[0.0, 0.577, 0.01, 0.413]\n",
      "For ../dataset_valid/right/2020-07-15_Phiphi__099.png, Pred=center True=right, P=[0.0, 0.699, 0.0, 0.301]\n",
      "For ../dataset_valid/right/2020-07-15_Phiphi__093.png, Pred=center True=right, P=[0.0, 0.523, 0.0, 0.477]\n",
      "For ../dataset_valid/right/2020-07-15_Phiphi__077.png, Pred=center True=right, P=[0.0, 1.0, 0.0, 0.0]\n"
     ]
    },
    {
     "name": "stdout",
     "output_type": "stream",
     "text": [
      "For ../dataset_valid/right/2020-07-21_Juliette__106.png, Pred=center True=right, P=[0.0, 0.999, 0.0, 0.001]\n",
      "For ../dataset_valid/right/2020-07-15_Phiphi__065.png, Pred=center True=right, P=[0.0, 0.78, 0.0, 0.22]\n",
      "For ../dataset_valid/right/2020-07-21_Juliette__054.png, Pred=center True=right, P=[0.0, 0.696, 0.0, 0.304]\n",
      "For ../dataset_valid/right/2020-07-15_Phiphi__033.png, Pred=center True=right, P=[0.002, 0.565, 0.0, 0.433]\n",
      "For ../dataset_valid/right/2019-05-16_Laurent_157.png, Pred=center True=right, P=[0.0, 0.887, 0.0, 0.113]\n",
      "For ../dataset_valid/right/2020-07-15_Ektor__014.png, Pred=center True=right, P=[0.0, 1.0, 0.0, 0.0]\n",
      "For ../dataset_valid/right/2020-07-10_JeanNicolas__087.png, Pred=center True=right, P=[0.0, 0.991, 0.0, 0.009]\n",
      "For ../dataset_valid/right/2020-07-15_Phiphi__110.png, Pred=center True=right, P=[0.0, 1.0, 0.0, 0.0]\n",
      "For ../dataset_valid/right/2020-07-15_Hadi__098.png, Pred=center True=right, P=[0.0, 0.929, 0.0, 0.071]\n",
      "For ../dataset_valid/right/2019-05-16_Laurent_245.png, Pred=left True=right, P=[0.0, 0.0, 0.741, 0.259]\n",
      "For ../dataset_valid/right/2020-07-19_Laurent__012.png, Pred=center True=right, P=[0.0, 0.843, 0.0, 0.157]\n",
      "For ../dataset_valid/right/2018-10-03_Laurent_148.png, Pred=center True=right, P=[0.0, 0.946, 0.0, 0.054]\n",
      "For ../dataset_valid/right/2020-07-19_Laurent__050.png, Pred=center True=right, P=[0.0, 0.981, 0.001, 0.018]\n",
      "For ../dataset_valid/right/2020-07-15_Phiphi__114.png, Pred=center True=right, P=[0.0, 0.913, 0.0, 0.087]\n",
      "For ../dataset_valid/right/2020-07-10_LaurentEkla__000.png, Pred=center True=right, P=[0.0, 1.0, 0.0, 0.0]\n",
      "For ../dataset_valid/right/2020-07-10_JeanNicolas__009.png, Pred=center True=right, P=[0.0, 0.947, 0.0, 0.053]\n",
      "For ../dataset_valid/right/2020-07-15_Phiphi__082.png, Pred=center True=right, P=[0.0, 0.634, 0.0, 0.366]\n",
      "For ../dataset_valid/right/2020-07-15_Phiphi__043.png, Pred=center True=right, P=[0.0, 0.813, 0.0, 0.187]\n",
      "For ../dataset_valid/right/2020-07-15_Phiphi__010.png, Pred=blink True=right, P=[0.982, 0.005, 0.0, 0.013]\n",
      "For ../dataset_valid/right/2020-07-15_Iason__088.png, Pred=center True=right, P=[0.0, 0.751, 0.247, 0.002]\n",
      "For ../dataset_valid/right/2020-07-10_LaurentMask__033.png, Pred=center True=right, P=[0.0, 0.992, 0.0, 0.008]\n"
     ]
    }
   ],
   "source": [
    "import time\n",
    "import os\n",
    "import glob\n",
    "import imageio\n",
    "from LeCheapEyeTracker_copy.EyeTrackerServer import FaceExtractor\n",
    "#from gaze import FaceExtractor #/!\\ ImportError\n",
    "FE = FaceExtractor()\n",
    "timings = []\n",
    "wrongs = []\n",
    "good = []\n",
    "for target in ml.dataset.classes:\n",
    "    print(target, args.dataset_folder)\n",
    "    \n",
    "    #for dataset in [dataset_valid, dataset_new] :\n",
    "    dataset = dataset_new\n",
    "    for filename in glob.glob(os.path.join(dataset, target, '*.png')):\n",
    "\n",
    "        if False:\n",
    "            frame = imageio.imread(filename)\n",
    "            img_face = FE.face_extractor(frame)\n",
    "        else:\n",
    "            filename_face = filename.replace(dataset, args.dataset_test)\n",
    "            if os.path.exists(filename_face) : img_face = imageio.imread(filename_face)\n",
    "\n",
    "        if os.path.exists(filename_face) :\n",
    "            pred = ml.classify(img_face, ml.dataset.test_transform)\n",
    "            pred_label = ml.dataset.classes[pred.argmax()]\n",
    "\n",
    "            if not pred_label == target:\n",
    "                wrong = dict(filename_face=filename_face, pred_label=pred_label, target=target)\n",
    "                wrongs.append(wrong)\n",
    "                print('For ', filename, ', Pred=', pred_label, ' True=', target, ', P=', [round(p, 3) for p in pred], sep='')\n",
    "                #plt.imshow(img_face)\n",
    "                #plt.show()\n",
    "            else:\n",
    "                good.append(dict(filename_face=filename_face, pred_label=pred_label, target=target))"
   ]
  },
  {
   "cell_type": "raw",
   "metadata": {
    "scrolled": true
   },
   "source": [
    "wrongs"
   ]
  },
  {
   "cell_type": "code",
   "execution_count": 11,
   "metadata": {
    "scrolled": false
   },
   "outputs": [
    {
     "data": {
      "text/plain": [
       "182"
      ]
     },
     "execution_count": 11,
     "metadata": {},
     "output_type": "execute_result"
    }
   ],
   "source": [
    "len(wrongs)"
   ]
  },
  {
   "cell_type": "code",
   "execution_count": 12,
   "metadata": {
    "scrolled": false
   },
   "outputs": [
    {
     "data": {
      "text/plain": [
       "4196"
      ]
     },
     "execution_count": 12,
     "metadata": {},
     "output_type": "execute_result"
    }
   ],
   "source": [
    "len(good)"
   ]
  },
  {
   "cell_type": "code",
   "execution_count": 13,
   "metadata": {},
   "outputs": [],
   "source": [
    "liste_file = dict(wrongs=wrongs, good=good)"
   ]
  },
  {
   "cell_type": "raw",
   "metadata": {},
   "source": [
    "modifification gaze.py ligne 311-312"
   ]
  },
  {
   "cell_type": "code",
   "execution_count": 14,
   "metadata": {},
   "outputs": [
    {
     "data": {
      "text/plain": [
       "Namespace(N_cv=20, activation='relu', batch_size=16, classes=['blink', 'center', 'left', 'right'], conv1_bn_momentum=0.5, conv1_dim=5, conv1_kernel_size=4, conv2_bn_momentum=0.5, conv2_dim=15, conv2_kernel_size=5, crop=75, dataset_faces_folder='dataset_train_20200907', dataset_folder='../dataset_valid', dataset_test='dataset_train_20200907', dataset_train='dataset_train_20200907', dense_bn_momentum=0.5, dimension=30, do_adam=False, epochs=400, fullsize=10, log_interval=0, lr=0.01, mean=0.4, momentum=0.05, no_cuda=False, num_processes=1, seed=42, size=40, size_test_set=0.2, std=0.3, stride1=2, stride2=4, test_batch_size=16, verbose=1)"
      ]
     },
     "execution_count": 14,
     "metadata": {},
     "output_type": "execute_result"
    }
   ],
   "source": [
    "args"
   ]
  },
  {
   "cell_type": "markdown",
   "metadata": {},
   "source": [
    "## skim through images which were wrongly classified\n",
    "\n",
    "Some images were obviously misclassified at the supervision level, let's try to fix that."
   ]
  },
  {
   "cell_type": "code",
   "execution_count": 15,
   "metadata": {},
   "outputs": [],
   "source": [
    "import os\n",
    "import ipywidgets as widgets\n",
    "from IPython.display import display\n",
    "from ipywidgets import interactive\n",
    "import pickle\n",
    "import imageio\n",
    "import shutil"
   ]
  },
  {
   "cell_type": "code",
   "execution_count": 16,
   "metadata": {},
   "outputs": [],
   "source": [
    "with open('list_change.pkl', 'rb') as fichier :\n",
    "    list_change = pickle.load(fichier, encoding='latin1')"
   ]
  },
  {
   "cell_type": "code",
   "execution_count": 17,
   "metadata": {},
   "outputs": [],
   "source": [
    "def view_image(filename, pred_label, target) :\n",
    "    \n",
    "    img_face = imageio.imread(filename)\n",
    "    fig, ax = plt.subplots(1, 1, figsize=(15, 8))\n",
    "    ax.imshow(img_face)\n",
    "    ax.set_title('Pred: %s / True: %s'%(pred_label, target))\n",
    "\n",
    "def change(liste_file, l, i, filename, filename_old, filename_face, target, new_target) :\n",
    "    \n",
    "    filename_new = filename.replace(target, new_target)\n",
    "    filename_face_new = filename_face.replace(target, new_target)\n",
    "    filename_face_new = filename_face_new.replace(args.dataset_test, args.dataset_train)\n",
    "\n",
    "    print('Changing...', filename_old, ' to ', filename_new)\n",
    "    shutil.move(filename_old, filename_new)\n",
    "    print('Changing...', filename_face, ' to ', filename_face_new)\n",
    "    shutil.move(filename_face, filename_face_new)\n",
    "    \n",
    "    liste_file[l][i]['filename_face'] = filename_face_new\n",
    "    liste_file[l][i]['target'] = new_target\n",
    "    \n",
    "    list_change.append([filename, filename_new])"
   ]
  },
  {
   "cell_type": "code",
   "execution_count": 18,
   "metadata": {},
   "outputs": [
    {
     "data": {
      "text/plain": [
       "Namespace(N_cv=20, activation='relu', batch_size=16, classes=['blink', 'center', 'left', 'right'], conv1_bn_momentum=0.5, conv1_dim=5, conv1_kernel_size=4, conv2_bn_momentum=0.5, conv2_dim=15, conv2_kernel_size=5, crop=75, dataset_faces_folder='dataset_train_20200907', dataset_folder='../dataset_valid', dataset_test='dataset_train_20200907', dataset_train='dataset_train_20200907', dense_bn_momentum=0.5, dimension=30, do_adam=False, epochs=400, fullsize=10, log_interval=0, lr=0.01, mean=0.4, momentum=0.05, no_cuda=False, num_processes=1, seed=42, size=40, size_test_set=0.2, std=0.3, stride1=2, stride2=4, test_batch_size=16, verbose=1)"
      ]
     },
     "execution_count": 18,
     "metadata": {},
     "output_type": "execute_result"
    }
   ],
   "source": [
    "args"
   ]
  },
  {
   "cell_type": "code",
   "execution_count": 19,
   "metadata": {
    "ExecuteTime": {
     "end_time": "2018-10-25T09:07:59.801715Z",
     "start_time": "2018-10-25T09:07:58.820072Z"
    }
   },
   "outputs": [],
   "source": [
    "def f(i, l, action):\n",
    "    liste = liste_file[l][i]\n",
    "    \n",
    "    filename_face = liste['filename_face']\n",
    "    #filename = filename_face.replace(args.dataset_faces_folder, args.dataset_folder)\n",
    "    filename = filename_face.replace(args.dataset_test, args.dataset_folder)\n",
    "    \n",
    "    \n",
    "    \n",
    "    if os.path.exists(filename) : filename_old = filename\n",
    "    #else :                        filename_old = filename_face.replace(args.dataset_faces_folder, dataset_new)\n",
    "    else :                        filename_old = filename_face.replace(args.dataset_test, dataset_new)\n",
    "    \n",
    "    print(filename_old)\n",
    "    \n",
    "    pred_label, target = liste['pred_label'], liste['target']\n",
    "    view_image(filename_old, pred_label, target)\n",
    "    \n",
    "    if   action == 'center' : change(liste_file, l, i, filename, filename_old, filename_face, target, 'center')\n",
    "    elif action == 'right'  : change(liste_file, l, i, filename, filename_old, filename_face, target, 'right')\n",
    "    elif action == 'left'   : change(liste_file, l, i, filename, filename_old, filename_face, target, 'left')\n",
    "    elif action == 'blink'  : change(liste_file, l, i, filename, filename_old, filename_face, target, 'blink')\n",
    "    elif action == 'Valide' : change(liste_file, l, i, filename, filename_old, filename_face, target, target)\n",
    "\n",
    "    return action"
   ]
  },
  {
   "cell_type": "code",
   "execution_count": 20,
   "metadata": {
    "scrolled": false
   },
   "outputs": [
    {
     "data": {
      "application/vnd.jupyter.widget-view+json": {
       "model_id": "d7946ae179ed495a8a5810eefa0beb94",
       "version_major": 2,
       "version_minor": 0
      },
      "text/plain": [
       "FloatText(value=0.0)"
      ]
     },
     "metadata": {},
     "output_type": "display_data"
    },
    {
     "data": {
      "application/vnd.jupyter.widget-view+json": {
       "model_id": "253c816bb710436c8a3420e45099681c",
       "version_major": 2,
       "version_minor": 0
      },
      "text/plain": [
       "interactive(children=(IntSlider(value=0, description='i', max=181), Dropdown(description='l', options=('wrongs…"
      ]
     },
     "metadata": {},
     "output_type": "display_data"
    }
   ],
   "source": [
    "list_target = ['center', 'right', 'left', 'blink']\n",
    "\n",
    "a = widgets.FloatText()\n",
    "b = widgets.IntSlider(min=0, max=len(wrongs)-1, step=1, value=0, readout=True)\n",
    "\n",
    "mylink = widgets.jslink((a, 'value'), (b, 'value'))\n",
    "l =['wrongs', 'good']\n",
    "\n",
    "\n",
    "w = interactive(f, i=b, l=l, action=widgets.ToggleButtons(options=['Keep', 'Valide']+list_target))\n",
    "\n",
    "display(a, w)"
   ]
  },
  {
   "cell_type": "code",
   "execution_count": 21,
   "metadata": {
    "scrolled": true
   },
   "outputs": [
    {
     "data": {
      "text/plain": [
       "728"
      ]
     },
     "execution_count": 21,
     "metadata": {},
     "output_type": "execute_result"
    }
   ],
   "source": [
    "len(list_change)"
   ]
  },
  {
   "cell_type": "code",
   "execution_count": 22,
   "metadata": {},
   "outputs": [],
   "source": [
    "with open('list_change.pkl', 'wb') as fichier:\n",
    "    f = pickle.Pickler(fichier)\n",
    "    f.dump(list_change)"
   ]
  },
  {
   "cell_type": "code",
   "execution_count": 23,
   "metadata": {
    "scrolled": true
   },
   "outputs": [
    {
     "name": "stdout",
     "output_type": "stream",
     "text": [
      "0\n"
     ]
    }
   ],
   "source": [
    "nb = 0\n",
    "for x in range(len(list_change)) :\n",
    "    for y in range(x+1, len(list_change)) :\n",
    "        if list_change[x][0]==list_change[y][1] and list_change[x][1]==list_change[y][0] :\n",
    "            print(x, list_change[x], '\\n', y, list_change[y], '\\n')\n",
    "            list_change[x][1] = list_change[y][1]\n",
    "            list_change[y][0] = list_change[x][0]\n",
    "            print(x, list_change[x], '\\n', y, list_change[y], '\\n\\n')\n",
    "            nb+=2\n",
    "print(nb)"
   ]
  },
  {
   "cell_type": "code",
   "execution_count": null,
   "metadata": {},
   "outputs": [],
   "source": []
  },
  {
   "cell_type": "code",
   "execution_count": 24,
   "metadata": {
    "scrolled": true
   },
   "outputs": [],
   "source": [
    "x, nb = 0, 0\n",
    "while x < len(list_change) :\n",
    "    if list_change[x][0]==list_change[x][1] :\n",
    "        nb+=1\n",
    "        print(nb, list_change[x])\n",
    "        list_change.pop(x)\n",
    "        x-=1\n",
    "    x+=1     "
   ]
  },
  {
   "cell_type": "code",
   "execution_count": 25,
   "metadata": {},
   "outputs": [
    {
     "name": "stdout",
     "output_type": "stream",
     "text": [
      "728\n"
     ]
    }
   ],
   "source": [
    "print(len(list_change))"
   ]
  },
  {
   "cell_type": "code",
   "execution_count": 26,
   "metadata": {},
   "outputs": [],
   "source": [
    "with open('list_change.pkl', 'wb') as fichier:\n",
    "    f = pickle.Pickler(fichier)\n",
    "    f.dump(list_change)"
   ]
  },
  {
   "cell_type": "markdown",
   "metadata": {},
   "source": [
    "## showing the trained weights\n",
    "\n",
    "https://github.com/utkuozbulak/pytorch-cnn-visualizations/blob/master/README.md\n"
   ]
  },
  {
   "cell_type": "code",
   "execution_count": 27,
   "metadata": {
    "ExecuteTime": {
     "end_time": "2018-10-25T09:07:59.846750Z",
     "start_time": "2018-10-25T09:07:59.805574Z"
    }
   },
   "outputs": [
    {
     "data": {
      "text/plain": [
       "torch.Size([5])"
      ]
     },
     "execution_count": 27,
     "metadata": {},
     "output_type": "execute_result"
    }
   ],
   "source": [
    "child = ml.model.children()\n",
    "\n",
    "convolayer = [i for i in ml.model.children()][1]\n",
    "convolayer\n",
    "\n",
    "weights = convolayer.weight.data.clone()\n",
    "weights.shape"
   ]
  },
  {
   "cell_type": "code",
   "execution_count": 28,
   "metadata": {
    "ExecuteTime": {
     "end_time": "2018-10-25T09:08:00.254573Z",
     "start_time": "2018-10-25T09:07:59.851420Z"
    }
   },
   "outputs": [
    {
     "data": {
      "image/png": "[encoded data removed]",
      "text/plain": [
       "<Figure size 216x144 with 1 Axes>"
      ]
     },
     "metadata": {},
     "output_type": "display_data"
    },
    {
     "data": {
      "image/png": "[encoded data removed]",
      "text/plain": [
       "<Figure size 216x432 with 1 Axes>"
      ]
     },
     "metadata": {},
     "output_type": "display_data"
    }
   ],
   "source": [
    "import matplotlib.pyplot as plt\n",
    "%matplotlib inline\n",
    "import numpy as np\n",
    "from torchvision import utils\n",
    "\n",
    "def plotkernel(tensor, figname, ch=0, allkernels=False, nrow=3, padding=1):\n",
    "    n, c, w, h = tensor.shape\n",
    "    if allkernels: tensor = tensor.view(n*c,-1,w,h )\n",
    "    elif c != 3: tensor = tensor[:,ch,:,:].unsqueeze(dim=1)\n",
    "        \n",
    "    rows = np.min( (tensor.shape[0]//nrow + 1, 64 )  )    \n",
    "    grid = utils.make_grid(tensor, nrow=nrow, normalize=True, padding=padding)\n",
    "    fig, ax = plt.subplots( figsize=(nrow,rows))\n",
    "    ax.imshow(grid.cpu().numpy().transpose((1, 2, 0)))\n",
    "    plt.setp(ax, xticks=[], yticks=[])\n",
    "\n",
    "    plt.savefig(figname)\n",
    "\n",
    "for i, weights in enumerate([ml.model.conv1.weight.data.clone(), ml.model.conv2.weight.data.clone()]):\n",
    "    plotkernel(weights, figname = 'figures/kernel_layer' + str(i) + '.png')\n",
    "\n",
    "    "
   ]
  },
  {
   "cell_type": "code",
   "execution_count": null,
   "metadata": {},
   "outputs": [],
   "source": []
  }
 ],
 "metadata": {
  "kernel_info": {
   "name": "python3"
  },
  "kernelspec": {
   "display_name": "Python 3",
   "language": "python",
   "name": "python3"
  },
  "language_info": {
   "codemirror_mode": {
    "name": "ipython",
    "version": 3
   },
   "file_extension": ".py",
   "mimetype": "text/x-python",
   "name": "python",
   "nbconvert_exporter": "python",
   "pygments_lexer": "ipython3",
   "version": "3.6.9"
  },
  "nteract": {
   "version": "0.11.7"
  },
  "toc": {
   "base_numbering": 1,
   "nav_menu": {},
   "number_sections": true,
   "sideBar": true,
   "skip_h1_title": false,
   "title_cell": "Table of Contents",
   "title_sidebar": "Contents",
   "toc_cell": false,
   "toc_position": {},
   "toc_section_display": "block",
   "toc_window_display": false
  }
 },
 "nbformat": 4,
 "nbformat_minor": 4
}
