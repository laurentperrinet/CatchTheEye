{
 "cells": [
  {
      "cell_type": "code",
      "execution_count": 26,
      "execution_count": 238,
      "metadata": {},
      "outputs": [
       {
        "data": {
         "text/plain": [
    "import torch\n",
    "import torchvision\n",
    "import torch.nn as nn\n",
    "import torch.nn.parallel\n",
    "import torch.backends.cudnn as cudnn\n",
    "import torch.distributed as dist\n",
    "import torch.optim\n",
    "import torch.utils.data\n",
    "import torch.utils.data.distributed\n",
    "from torchvision.utils import make_grid\n",
    "import torchvision.transforms as transforms\n",
    "import torchvision.datasets as datasets\n",
    "import torchvision.models as models\n",
    "import matplotlib.pyplot as plt\n",
    "import numpy as np\n",
    "\n",
    "def show(img, gamma=.5, noise_level=.4, transpose=True):\n",
    "\n",
    "    npimg = img.numpy()\n",
    "    plt.figure()\n",
    "    if transpose:\n",
    "        plt.imshow(np.transpose(npimg, (1, 2, 0)))\n",
    "    else:\n",
    "        plt.imshow(npimg)\n",
    "\n",
    "image_data = torchvision.datasets.ImageFolder('dataset',\n",
    "transforms.Compose([transforms.Resize(100),\n",
    "#transforms.Compose([transforms.CenterCrop(150),\n",
    "transforms.ToTensor()]))\n",
    "\n",
    "data_loader = torch.utils.data.DataLoader(image_data, batch_size=16,\n",
    "shuffle=True)\n",
    "\n",
    "dataiter = iter(data_loader)\n",
    "images,foo = next(dataiter)\n",
    "\n",
    "show(torchvision.utils.make_grid(images, normalize=True))\n",
    "plt.show()\n",
    "#outputs = conv_ae(Variable(images_noise))\n",
    "#show(torchvision.utils.make_grid(outputs.data, normalize=True))"
    "show(torchvision.utils.make_grid(images, normalize=True))\n"
   ]
  },
  {
   "cell_type": "code",
   "execution_count": 26,
   "execution_count": 238,
   "metadata": {},
   "outputs": [
    {
     "data": {
      "text/plain": [
       "torch.Size([1, 3, 150, 150])"
      ]
     },
     "execution_count": 238,
     "metadata": {},
     "output_type": "execute_result"
    }
   ],
   "source": [
    "images.size()"
   ]
  },
  {
   "cell_type": "code",
   "execution_count": null,
   "metadata": {},
   "outputs": [],
   "source": []
  }
 ],
 "metadata": {
  "kernelspec": {
   "display_name": "Python 3",
   "language": "python",
   "name": "python3"
  },
  "language_info": {
   "codemirror_mode": {
    "name": "ipython",
    "version": 3
   },
   "file_extension": ".py",
   "mimetype": "text/x-python",
   "name": "python",
   "nbconvert_exporter": "python",
   "pygments_lexer": "ipython3",
   "version": "3.6.2"
  }
 },
 "nbformat": 4,
 "nbformat_minor": 2
}
