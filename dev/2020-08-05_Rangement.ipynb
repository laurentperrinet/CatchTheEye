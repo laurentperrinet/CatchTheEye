{
 "cells": [
  {
   "cell_type": "code",
   "execution_count": 1,
   "metadata": {
    "ExecuteTime": {
     "end_time": "2018-10-25T09:07:23.037713Z",
     "start_time": "2018-10-25T09:07:22.997336Z"
    }
   },
   "outputs": [],
   "source": [
    "%load_ext autoreload\n",
    "%autoreload 2"
   ]
  },
  {
   "cell_type": "code",
   "execution_count": 2,
   "metadata": {
    "ExecuteTime": {
     "end_time": "2018-10-25T09:07:23.838315Z",
     "start_time": "2018-10-25T09:07:23.044900Z"
    }
   },
   "outputs": [],
   "source": [
    "import numpy as np\n",
    "%matplotlib inline\n",
    "import matplotlib.pyplot as plt"
   ]
  },
  {
   "cell_type": "code",
   "execution_count": 3,
   "metadata": {
    "ExecuteTime": {
     "end_time": "2018-10-25T09:07:27.188010Z",
     "start_time": "2018-10-25T09:07:23.843300Z"
    }
   },
   "outputs": [
    {
     "data": {
      "application/json": {
       "Software versions": [
        {
         "module": "Python",
         "version": "3.6.9 64bit [GCC 8.4.0]"
        },
        {
         "module": "IPython",
         "version": "7.8.0"
        },
        {
         "module": "OS",
         "version": "Linux 4.15.0 112 generic x86_64 with Ubuntu 18.04 bionic"
        },
        {
         "module": "numpy",
         "version": "1.17.2"
        },
        {
         "module": "dlib",
         "version": "19.19.0"
        },
        {
         "module": "matplotlib",
         "version": "3.1.1"
        },
        {
         "module": "imageio",
         "version": "2.6.1"
        },
        {
         "module": "gaze",
         "version": "The 'gaze' distribution was not found and is required by the application"
        },
        {
         "module": "torch",
         "version": "1.5.1"
        },
        {
         "module": "torchvision",
         "version": "0.6.1"
        }
       ]
      },
      "text/html": [
       "<table><tr><th>Software</th><th>Version</th></tr><tr><td>Python</td><td>3.6.9 64bit [GCC 8.4.0]</td></tr><tr><td>IPython</td><td>7.8.0</td></tr><tr><td>OS</td><td>Linux 4.15.0 112 generic x86_64 with Ubuntu 18.04 bionic</td></tr><tr><td>numpy</td><td>1.17.2</td></tr><tr><td>dlib</td><td>19.19.0</td></tr><tr><td>matplotlib</td><td>3.1.1</td></tr><tr><td>imageio</td><td>2.6.1</td></tr><tr><td>gaze</td><td>The 'gaze' distribution was not found and is required by the application</td></tr><tr><td>torch</td><td>1.5.1</td></tr><tr><td>torchvision</td><td>0.6.1</td></tr><tr><td colspan='2'>Wed Sep 02 14:50:55 2020 UTC</td></tr></table>"
      ],
      "text/latex": [
       "\\begin{tabular}{|l|l|}\\hline\n",
       "{\\bf Software} & {\\bf Version} \\\\ \\hline\\hline\n",
       "Python & 3.6.9 64bit [GCC 8.4.0] \\\\ \\hline\n",
       "IPython & 7.8.0 \\\\ \\hline\n",
       "OS & Linux 4.15.0 112 generic x86\\_64 with Ubuntu 18.04 bionic \\\\ \\hline\n",
       "numpy & 1.17.2 \\\\ \\hline\n",
       "dlib & 19.19.0 \\\\ \\hline\n",
       "matplotlib & 3.1.1 \\\\ \\hline\n",
       "imageio & 2.6.1 \\\\ \\hline\n",
       "gaze & The 'gaze' distribution was not found and is required by the application \\\\ \\hline\n",
       "torch & 1.5.1 \\\\ \\hline\n",
       "torchvision & 0.6.1 \\\\ \\hline\n",
       "\\hline \\multicolumn{2}{|l|}{Wed Sep 02 14:50:55 2020 UTC} \\\\ \\hline\n",
       "\\end{tabular}\n"
      ],
      "text/plain": [
       "Software versions\n",
       "Python 3.6.9 64bit [GCC 8.4.0]\n",
       "IPython 7.8.0\n",
       "OS Linux 4.15.0 112 generic x86_64 with Ubuntu 18.04 bionic\n",
       "numpy 1.17.2\n",
       "dlib 19.19.0\n",
       "matplotlib 3.1.1\n",
       "imageio 2.6.1\n",
       "gaze The 'gaze' distribution was not found and is required by the application\n",
       "torch 1.5.1\n",
       "torchvision 0.6.1\n",
       "Wed Sep 02 14:50:55 2020 UTC"
      ]
     },
     "execution_count": 3,
     "metadata": {},
     "output_type": "execute_result"
    }
   ],
   "source": [
    "%load_ext version_information\n",
    "%version_information numpy, dlib, matplotlib, imageio, gaze, torch, torchvision"
   ]
  },
  {
   "cell_type": "markdown",
   "metadata": {},
   "source": [
    "## skim through images which were wrongly classified\n",
    "\n",
    "Some images were obviously misclassified at the supervision level, let's try to fix that."
   ]
  },
  {
   "cell_type": "code",
   "execution_count": 4,
   "metadata": {},
   "outputs": [],
   "source": [
    "import os\n",
    "import ipywidgets as widgets\n",
    "from IPython.display import display\n",
    "from ipywidgets import interactive\n",
    "import pickle\n",
    "import imageio"
   ]
  },
  {
   "cell_type": "code",
   "execution_count": 5,
   "metadata": {},
   "outputs": [],
   "source": [
    "def view_image(filename, target):\n",
    "    \n",
    "    img_face = imageio.imread(filename)\n",
    "    fig, ax = plt.subplots(1, 1, figsize=(15, 8))\n",
    "    ax.imshow(img_face)\n",
    "    ax.set_title(target)\n",
    "    #plt.show()\n",
    "    \n",
    "def change(filename, filename_face, target, new_target) :\n",
    "    filename_new = filename.replace(target, new_target)\n",
    "    filename_face_new = filename_face.replace(target, new_target)\n",
    "\n",
    "    print('Changing...', filename, ' to ', filename_new)\n",
    "    import shutil\n",
    "    shutil.move(filename, filename_new)\n",
    "    shutil.move(filename_face, filename_face_new)\n",
    "    \n",
    "    list_change.append([filename, filename_new])"
   ]
  },
  {
   "cell_type": "code",
   "execution_count": 6,
   "metadata": {},
   "outputs": [],
   "source": [
    "def f(i, action, target):\n",
    "    \n",
    "    file = list_data[i]\n",
    "    filename = dataset + '/' + target + '/' + file\n",
    "    if not os.path.exists(filename) :\n",
    "        for t in list_target :\n",
    "            if os.path.exists(dataset + '/' + t + '/' + file) :\n",
    "                filename = dataset + '/' + t + '/' + file\n",
    "                target = t\n",
    "    filename_face = filename.replace(dataset, dataset_face)\n",
    "    print(filename)\n",
    "    view_image(filename, target)\n",
    "    \n",
    "    if   action == 'center' : change(filename, filename_face, target, 'center')\n",
    "    elif action == 'right'  : change(filename, filename_face, target, 'right')\n",
    "    elif action == 'left'   : change(filename, filename_face, target, 'left')\n",
    "    elif action == 'blink'  : change(filename, filename_face, target, 'blink')\n",
    "    \n",
    "    return action"
   ]
  },
  {
   "cell_type": "code",
   "execution_count": 7,
   "metadata": {},
   "outputs": [],
   "source": [
    "with open('list_change.pkl', 'rb') as fichier :\n",
    "    list_change = pickle.load(fichier, encoding='latin1')"
   ]
  },
  {
   "cell_type": "code",
   "execution_count": 8,
   "metadata": {
    "scrolled": true
   },
   "outputs": [
    {
     "data": {
      "text/plain": [
       "652"
      ]
     },
     "execution_count": 8,
     "metadata": {},
     "output_type": "execute_result"
    }
   ],
   "source": [
    "len(list_change)"
   ]
  },
  {
   "cell_type": "code",
   "execution_count": 9,
   "metadata": {},
   "outputs": [],
   "source": [
    "dataset_valid = '../dataset_valid'\n",
    "dataset_new   = '../dataset_new'\n",
    "dataset_face  = 'dataset_faces_20200731'\n",
    "\n",
    "\n",
    "#-------------------------------------------------\n",
    "list_target = ['center', 'right', 'left', 'blink']\n",
    "target = 'blink'\n",
    "dataset = dataset_valid\n",
    "list_data = np.sort(os.listdir(dataset + '/' + target))\n",
    "#-------------------------------------------------"
   ]
  },
  {
   "cell_type": "code",
   "execution_count": 10,
   "metadata": {
    "scrolled": true
   },
   "outputs": [
    {
     "data": {
      "text/plain": [
       "707"
      ]
     },
     "execution_count": 10,
     "metadata": {},
     "output_type": "execute_result"
    }
   ],
   "source": [
    "len(list_data)"
   ]
  },
  {
   "cell_type": "code",
   "execution_count": 11,
   "metadata": {
    "scrolled": true
   },
   "outputs": [
    {
     "data": {
      "application/vnd.jupyter.widget-view+json": {
       "model_id": "fba2577df7394427a148838f4394aede",
       "version_major": 2,
       "version_minor": 0
      },
      "text/plain": [
       "FloatText(value=0.0)"
      ]
     },
     "metadata": {},
     "output_type": "display_data"
    },
    {
     "data": {
      "application/vnd.jupyter.widget-view+json": {
       "model_id": "d125f0bacc244be8a0b28f50ef8721b2",
       "version_major": 2,
       "version_minor": 0
      },
      "text/plain": [
       "interactive(children=(IntSlider(value=0, description='i', max=706), ToggleButtons(description='action', option…"
      ]
     },
     "metadata": {},
     "output_type": "display_data"
    }
   ],
   "source": [
    "a = widgets.FloatText()\n",
    "b = widgets.IntSlider(min=0, max=len(list_data)-1, step=1, value=0, readout=True)\n",
    "mylink = widgets.jslink((a, 'value'), (b, 'value'))\n",
    "\n",
    "w = interactive(f, i=b,\n",
    "                action=widgets.ToggleButtons(options=['Keep']+list_target),\n",
    "                target=target)\n",
    "\n",
    "display(a, w)"
   ]
  },
  {
   "cell_type": "code",
   "execution_count": 12,
   "metadata": {
    "scrolled": true
   },
   "outputs": [
    {
     "data": {
      "text/plain": [
       "652"
      ]
     },
     "execution_count": 12,
     "metadata": {},
     "output_type": "execute_result"
    }
   ],
   "source": [
    "len(list_change)"
   ]
  },
  {
   "cell_type": "code",
   "execution_count": 13,
   "metadata": {},
   "outputs": [],
   "source": [
    "with open('list_change.pkl', 'wb') as fichier:\n",
    "    f = pickle.Pickler(fichier)\n",
    "    f.dump(list_change)"
   ]
  },
  {
   "cell_type": "raw",
   "metadata": {},
   "source": [
    "left ok\n",
    "blink ok\n",
    "right ok\n",
    "centre ok"
   ]
  },
  {
   "cell_type": "code",
   "execution_count": 14,
   "metadata": {},
   "outputs": [
    {
     "name": "stdout",
     "output_type": "stream",
     "text": [
      "0\n"
     ]
    }
   ],
   "source": [
    "nb = 0\n",
    "for x in range(len(list_change)) :\n",
    "    for y in range(x+1, len(list_change)) :\n",
    "        if list_change[x][0]==list_change[y][1] and list_change[x][1]==list_change[y][0] :\n",
    "            print(x, list_change[x], '\\n', y, list_change[y], '\\n')\n",
    "            list_change[x][1] = list_change[y][1]\n",
    "            list_change[y][0] = list_change[x][0]\n",
    "            print(x, list_change[x], '\\n', y, list_change[y], '\\n\\n')\n",
    "            nb+=2\n",
    "print(nb)"
   ]
  },
  {
   "cell_type": "code",
   "execution_count": 15,
   "metadata": {},
   "outputs": [],
   "source": [
    "x, nb = 0, 0\n",
    "while x < len(list_change) :\n",
    "    if list_change[x][0]==list_change[x][1] :\n",
    "        nb+=1\n",
    "        print(nb, list_change[x])\n",
    "        list_change.pop(x)\n",
    "        x-=1\n",
    "    x+=1     "
   ]
  },
  {
   "cell_type": "code",
   "execution_count": 16,
   "metadata": {
    "scrolled": true
   },
   "outputs": [
    {
     "name": "stdout",
     "output_type": "stream",
     "text": [
      "652\n"
     ]
    }
   ],
   "source": [
    "print(len(list_change))"
   ]
  },
  {
   "cell_type": "code",
   "execution_count": 17,
   "metadata": {},
   "outputs": [],
   "source": [
    "with open('list_change.pkl', 'wb') as fichier:\n",
    "    f = pickle.Pickler(fichier)\n",
    "    f.dump(list_change)"
   ]
  },
  {
   "cell_type": "code",
   "execution_count": null,
   "metadata": {},
   "outputs": [],
   "source": []
  }
 ],
 "metadata": {
  "kernel_info": {
   "name": "python3"
  },
  "kernelspec": {
   "display_name": "Python 3",
   "language": "python",
   "name": "python3"
  },
  "language_info": {
   "codemirror_mode": {
    "name": "ipython",
    "version": 3
   },
   "file_extension": ".py",
   "mimetype": "text/x-python",
   "name": "python",
   "nbconvert_exporter": "python",
   "pygments_lexer": "ipython3",
   "version": "3.6.9"
  },
  "nteract": {
   "version": "0.11.7"
  },
  "toc": {
   "base_numbering": 1,
   "nav_menu": {},
   "number_sections": true,
   "sideBar": true,
   "skip_h1_title": false,
   "title_cell": "Table of Contents",
   "title_sidebar": "Contents",
   "toc_cell": false,
   "toc_position": {},
   "toc_section_display": "block",
   "toc_window_display": false
  }
 },
 "nbformat": 4,
 "nbformat_minor": 4
}
