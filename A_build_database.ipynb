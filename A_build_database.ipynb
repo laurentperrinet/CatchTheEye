{
 "cells": [
  {
   "cell_type": "markdown",
   "metadata": {},
   "source": [
    "# defining a database\n",
    "\n",
    "Here we aim at defining a database of faces which are looking either at the left, to the centre or to the right of the screen. This will be used for further supervised learning.\n",
    "\n",
    "For a full definition, see ``2018-03-20_LeCheapEyeTracker_build_database``\n"
   ]
  },
  {
   "cell_type": "code",
   "execution_count": 1,
   "metadata": {
    "ExecuteTime": {
     "end_time": "2018-09-05T09:55:06.268356Z",
     "start_time": "2018-09-05T09:55:06.030819Z"
    }
   },
   "outputs": [],
   "source": [
    "%load_ext autoreload\n",
    "%autoreload 2\n",
    "import numpy as np\n",
    "np.set_printoptions(precision=2, suppress=True)\n",
    "# define plots to be inserted interactively\n",
    "import cv2"
   ]
  },
  {
   "cell_type": "markdown",
   "metadata": {},
   "source": [
    "## a minimalistic stimulation within the notebook\n",
    "\n",
    "\n",
    "Instead of using an external program to show stimuli, we will use a minimalist solution within the notebook. This will consist of chains of characters that we really display into segments:"
   ]
  },
  {
   "cell_type": "code",
   "execution_count": 2,
   "metadata": {
    "ExecuteTime": {
     "end_time": "2018-09-05T09:55:06.310699Z",
     "start_time": "2018-09-05T09:55:06.270867Z"
    }
   },
   "outputs": [
    {
     "name": "stdout",
     "output_type": "stream",
     "text": [
      "Empty line\n",
      "🌫🌫🌫🌫🌫🌫🌫🌫🌫🌫🌫🌫🌫🌫🌫🌫🌫🌫🌫🌫🌫🌫🌫🌫🌫🌫🌫🌫🌫🌫🌫🌫🌫🌫🌫🌫🌫🌫🌫🌫🌫🌫🌫🌫🌫🌫🌫🌫🌫🌫🌫🌫🌫🌫🌫🌫🌫🌫🌫🌫🌫🌫🌫🌫🌫🌫🌫🌫🌫🌫🌫🌫🌫🌫🌫🌫🌫\n",
      "Fixation dot\n",
      "🌫🌫🌫🌫🌫🌫🌫🌫🌫🌫🌫🌫🌫🌫🌫🌫🌫🌫🌫🌫🌫🌫🌫🌫🌫🌫🌫🌫🌫🌫🌫🌫🌫🌫🌫🌫🌫🌫🔵🌫🌫🌫🌫🌫🌫🌫🌫🌫🌫🌫🌫🌫🌫🌫🌫🌫🌫🌫🌫🌫🌫🌫🌫🌫🌫🌫🌫🌫🌫🌫🌫🌫🌫🌫🌫🌫🌫\n",
      "label= left\n",
      "🌫🌫🔴🌫🌫🌫🌫🌫🌫🌫🌫🌫🌫🌫🌫🌫🌫🌫🌫🌫🌫🌫🌫🌫🌫🌫🌫🌫🌫🌫🌫🌫🌫🌫🌫🌫🌫🌫🌫🌫🌫🌫🌫🌫🌫🌫🌫🌫🌫🌫🌫🌫🌫🌫🌫🌫🌫🌫🌫🌫🌫🌫🌫🌫🌫🌫🌫🌫🌫🌫🌫🌫🌫🌫🌫🌫🌫\n",
      "label= blink\n",
      "🌫🌫🌫🌫🌫🌫🌫🌫🌫🌫🌫🌫🌫🌫🌫🌫🌫🌫🌫🌫🌫🌫🌫🌫🌫🌫🌫🌫🌫🌫🌫🌫🌫🌫🌫🌫🌫🌫☠️🌫🌫🌫🌫🌫🌫🌫🌫🌫🌫🌫🌫🌫🌫🌫🌫🌫🌫🌫🌫🌫🌫🌫🌫🌫🌫🌫🌫🌫🌫🌫🌫🌫🌫🌫🌫🌫🌫\n",
      "label= center\n",
      "🌫🌫🌫🌫🌫🌫🌫🌫🌫🌫🌫🌫🌫🌫🌫🌫🌫🌫🌫🌫🌫🌫🌫🌫🌫🌫🌫🌫🌫🌫🌫🌫🌫🌫🌫🌫🌫🌫🔴🌫🌫🌫🌫🌫🌫🌫🌫🌫🌫🌫🌫🌫🌫🌫🌫🌫🌫🌫🌫🌫🌫🌫🌫🌫🌫🌫🌫🌫🌫🌫🌫🌫🌫🌫🌫🌫🌫\n",
      "label= right\n",
      "🌫🌫🌫🌫🌫🌫🌫🌫🌫🌫🌫🌫🌫🌫🌫🌫🌫🌫🌫🌫🌫🌫🌫🌫🌫🌫🌫🌫🌫🌫🌫🌫🌫🌫🌫🌫🌫🌫🌫🌫🌫🌫🌫🌫🌫🌫🌫🌫🌫🌫🌫🌫🌫🌫🌫🌫🌫🌫🌫🌫🌫🌫🌫🌫🌫🌫🌫🌫🌫🌫🌫🌫🌫🌫🔴🌫🌫\n"
     ]
    }
   ],
   "source": [
    "targets = {}\n",
    "s_target = '🔴'\n",
    "s_fixat = '🔵'\n",
    "s_distra = '🌫'\n",
    "s_blink = '☠️'\n",
    "\n",
    "N_dis = 36 # <<<<<<<<<<<< change to adapt to your notebook's width\n",
    "N_margin = 2\n",
    "\n",
    "targets['left'] = N_margin * s_distra + s_target + 2 * N_dis * s_distra + N_margin * s_distra\n",
    "\n",
    "targets['blink'] = N_margin * s_distra + N_dis * s_distra + s_blink + N_dis * s_distra + N_margin * s_distra\n",
    "\n",
    "targets['center'] = N_margin * s_distra + N_dis * s_distra + s_target + N_dis * s_distra + N_margin * s_distra\n",
    "\n",
    "targets['right'] = N_margin * s_distra + 2 * N_dis * s_distra + s_target + N_margin * s_distra\n",
    "\n",
    "print ('Empty line')\n",
    "null = N_margin * s_distra +  (2 * N_dis + 1) * s_distra + N_margin * s_distra\n",
    "print (null)\n",
    "print ('Fixation dot')\n",
    "center = N_margin * s_distra + N_dis * s_distra + s_fixat + N_dis * s_distra + N_margin * s_distra\n",
    "print (center)\n",
    "\n",
    "for label in targets.keys():\n",
    "    print('label=', label)\n",
    "    print (targets[label])"
   ]
  },
  {
   "cell_type": "markdown",
   "metadata": {},
   "source": [
    "## wrapping things up\n",
    "\n",
    "All the protocol in one script:"
   ]
  },
  {
   "cell_type": "code",
   "execution_count": 3,
   "metadata": {
    "ExecuteTime": {
     "end_time": "2018-09-05T10:04:05.685462Z",
     "start_time": "2018-09-05T09:55:06.316096Z"
    },
    "scrolled": true
   },
   "outputs": [
    {
     "name": "stdout",
     "output_type": "stream",
     "text": [
      "🌫🌫🌫🌫🌫🌫🌫🌫🌫🌫🌫🌫🌫🌫🌫🌫🌫🌫🌫🌫🌫🌫🌫🌫🌫🌫🌫🌫🌫🌫🌫🌫🌫🌫🌫🌫🌫🌫🌫🌫🌫🌫🌫🌫🌫🌫🌫🌫🌫🌫🌫🌫🌫🌫🌫🌫🌫🌫🌫🌫🌫🌫🌫🌫🌫🌫🌫🌫🌫🌫🌫🌫🌫🌫🌫🌫🌫\n",
      "🌫🌫🌫🌫🌫🌫🌫🌫🌫🌫🌫🌫🌫🌫🌫🌫🌫🌫🌫🌫🌫🌫🌫🌫🌫🌫🌫🌫🌫🌫🌫🌫🌫🌫🌫🌫🌫🌫🌫🌫🌫🌫🌫🌫🌫🌫🌫🌫🌫🌫🌫🌫🌫🌫🌫🌫🌫🌫🌫🌫🌫🌫🌫🌫🌫🌫🌫🌫🌫🌫🌫🌫🌫🌫🌫🌫🌫\n",
      "🌫🌫🌫🌫🌫🌫🌫🌫🌫🌫🌫🌫🌫🌫🌫🌫🌫🌫🌫🌫🌫🌫🌫🌫🌫🌫🌫🌫🌫🌫🌫🌫🌫🌫🌫🌫🌫🌫🔴🌫🌫🌫🌫🌫🌫🌫🌫🌫🌫🌫🌫🌫🌫🌫🌫🌫🌫🌫🌫🌫🌫🌫🌫🌫🌫🌫🌫🌫🌫🌫🌫🌫🌫🌫🌫🌫🌫\n",
      "🌫🌫🌫🌫🌫🌫🌫🌫🌫🌫🌫🌫🌫🌫🌫🌫🌫🌫🌫🌫🌫🌫🌫🌫🌫🌫🌫🌫🌫🌫🌫🌫🌫🌫🌫🌫🌫🌫🌫🌫🌫🌫🌫🌫🌫🌫🌫🌫🌫🌫🌫🌫🌫🌫🌫🌫🌫🌫🌫🌫🌫🌫🌫🌫🌫🌫🌫🌫🌫🌫🌫🌫🌫🌫🌫🌫🌫\n",
      "🌫🌫🌫🌫🌫🌫🌫🌫🌫🌫🌫🌫🌫🌫🌫🌫🌫🌫🌫🌫🌫🌫🌫🌫🌫🌫🌫🌫🌫🌫🌫🌫🌫🌫🌫🌫🌫🌫🌫🌫🌫🌫🌫🌫🌫🌫🌫🌫🌫🌫🌫🌫🌫🌫🌫🌫🌫🌫🌫🌫🌫🌫🌫🌫🌫🌫🌫🌫🌫🌫🌫🌫🌫🌫🌫🌫🌫\n",
      "Capture released\n"
     ]
    },
    {
     "ename": "KeyboardInterrupt",
     "evalue": "",
     "output_type": "error",
     "traceback": [
      "\u001b[0;31m---------------------------------------------------------------------------\u001b[0m",
      "\u001b[0;31mKeyboardInterrupt\u001b[0m                         Traceback (most recent call last)",
      "\u001b[0;32m<ipython-input-3-587cf15c25b5>\u001b[0m in \u001b[0;36m<module>\u001b[0;34m()\u001b[0m\n\u001b[1;32m     70\u001b[0m         \u001b[0met\u001b[0m\u001b[0;34m.\u001b[0m\u001b[0mclose\u001b[0m\u001b[0;34m(\u001b[0m\u001b[0;34m)\u001b[0m\u001b[0;34m\u001b[0m\u001b[0m\n\u001b[1;32m     71\u001b[0m \u001b[0;34m\u001b[0m\u001b[0m\n\u001b[0;32m---> 72\u001b[0;31m \u001b[0mget_stack\u001b[0m\u001b[0;34m(\u001b[0m\u001b[0msubject_name\u001b[0m\u001b[0;34m=\u001b[0m\u001b[0;34m'2018-09-05_Laurent'\u001b[0m\u001b[0;34m)\u001b[0m\u001b[0;34m\u001b[0m\u001b[0m\n\u001b[0m",
      "\u001b[0;32m<ipython-input-3-587cf15c25b5>\u001b[0m in \u001b[0;36mget_stack\u001b[0;34m(datapath, subject_name, N_frame, startup_time, interframe_time, waiting_time)\u001b[0m\n\u001b[1;32m     50\u001b[0m                 \u001b[0mprint\u001b[0m\u001b[0;34m(\u001b[0m\u001b[0mnull\u001b[0m\u001b[0;34m)\u001b[0m\u001b[0;34m\u001b[0m\u001b[0m\n\u001b[1;32m     51\u001b[0m \u001b[0;34m\u001b[0m\u001b[0m\n\u001b[0;32m---> 52\u001b[0;31m                 \u001b[0mtime\u001b[0m\u001b[0;34m.\u001b[0m\u001b[0msleep\u001b[0m\u001b[0;34m(\u001b[0m\u001b[0mwaiting_time\u001b[0m\u001b[0;34m)\u001b[0m\u001b[0;34m\u001b[0m\u001b[0m\n\u001b[0m\u001b[1;32m     53\u001b[0m                 \u001b[0mframe\u001b[0m \u001b[0;34m=\u001b[0m \u001b[0met\u001b[0m\u001b[0;34m.\u001b[0m\u001b[0mcam\u001b[0m\u001b[0;34m.\u001b[0m\u001b[0mgrab\u001b[0m\u001b[0;34m(\u001b[0m\u001b[0;34m)\u001b[0m\u001b[0;34m\u001b[0m\u001b[0m\n\u001b[1;32m     54\u001b[0m                 \u001b[0;31m#img_face, res, t0 = et.process_frame(frame, et.clock())\u001b[0m\u001b[0;34m\u001b[0m\u001b[0;34m\u001b[0m\u001b[0m\n",
      "\u001b[0;31mKeyboardInterrupt\u001b[0m: "
     ]
    }
   ],
   "source": [
    "import os\n",
    "datapath = 'dataset'\n",
    "try:\n",
    "    os.mkdir(datapath)\n",
    "except:\n",
    "    pass\n",
    "for target in targets.keys():\n",
    "    print(os.path.join(datapath, target))\n",
    "    try:\n",
    "        os.mkdir(os.path.join(datapath, target))\n",
    "    except:\n",
    "        pass\n",
    "\n",
    "import imageio\n",
    "from LeCheapEyeTracker.EyeTrackerServer import Server\n",
    "from IPython.display import clear_output\n",
    "\n",
    "N_category = len(targets.keys())\n",
    "def get_stack(datapath=datapath, subject_name='anonymous', N_frame=256, startup_time=1., interframe_time=.1, waiting_time=1.2):\n",
    "    try:\n",
    "        import time\n",
    "        time.sleep(startup_time)\n",
    "        et = Server()\n",
    "        print ('Time', et.clock())\n",
    "        \n",
    "        bootstraped, max_trials, no_trials = False, 100, 0\n",
    "        while not bootstraped:\n",
    "            try:\n",
    "                img0 = et.cam.grab()\n",
    "                #img_face, res, t0 = et.process_frame(img0, et.clock())\n",
    "                bootstraped = True\n",
    "            except:\n",
    "                if no_trials>max_trials:\n",
    "                    raise('Failed!')\n",
    "                else:\n",
    "                    pass\n",
    "            no_trials += 1\n",
    "\n",
    "        #H, W, three = img_face.shape\n",
    "        for i in range(N_frame):            \n",
    "            clear_output()\n",
    "            try:\n",
    "                # presentation of stimulus\n",
    "                i_choice = np.random.randint(N_category)\n",
    "                label = list(targets.keys())[i_choice]\n",
    "                print(null)\n",
    "                print(null)\n",
    "                print(targets[label])\n",
    "                print(null)\n",
    "                print(null)\n",
    "\n",
    "                time.sleep(waiting_time)\n",
    "                frame = et.cam.grab()\n",
    "                #img_face, res, t0 = et.process_frame(frame, et.clock())\n",
    "\n",
    "                clear_output()\n",
    "                print(null)\n",
    "                print(null)\n",
    "                print(center)\n",
    "                print(null)\n",
    "                print(null)\n",
    "\n",
    "                time.sleep(interframe_time)\n",
    "\n",
    "                filename = os.path.join(datapath, label, subject_name + '_' + '%.3d' % i + '.png')\n",
    "                imageio.imwrite(filename, frame[:, :, ::-1]) # converting on the fly from BGR > RGB\n",
    "            except Exception as e:\n",
    "                print('Failed for trial ', i, 'with message', e)\n",
    "    finally:\n",
    "        et.close()\n",
    "\n",
    "get_stack(subject_name='2018-09-05_Laurent')"
   ]
  },
  {
   "cell_type": "code",
   "execution_count": null,
   "metadata": {
    "ExecuteTime": {
     "end_time": "2018-09-05T10:04:05.686298Z",
     "start_time": "2018-09-05T09:55:06.010Z"
    },
    "scrolled": false
   },
   "outputs": [],
   "source": [
    "#!ls -lR {datapath}"
   ]
  },
  {
   "cell_type": "markdown",
   "metadata": {},
   "source": [
    "# detecting faces"
   ]
  },
  {
   "cell_type": "code",
   "execution_count": 8,
   "metadata": {
    "ExecuteTime": {
     "end_time": "2018-09-05T10:10:18.052972Z",
     "start_time": "2018-09-05T10:10:18.034175Z"
    }
   },
   "outputs": [],
   "source": [
    "import glob"
   ]
  },
  {
   "cell_type": "code",
   "execution_count": 9,
   "metadata": {
    "ExecuteTime": {
     "end_time": "2018-09-05T10:10:18.372037Z",
     "start_time": "2018-09-05T10:10:18.353974Z"
    }
   },
   "outputs": [],
   "source": [
    "if False:\n",
    "    for target in targets.keys():\n",
    "        for filename in glob.glob(os.path.join(datapath, target) + '/*.png'):\n",
    "            frame = imageio.imread(filename)\n",
    "            print(filename)"
   ]
  },
  {
   "cell_type": "code",
   "execution_count": 10,
   "metadata": {
    "ExecuteTime": {
     "end_time": "2018-09-05T10:10:18.948949Z",
     "start_time": "2018-09-05T10:10:18.929167Z"
    }
   },
   "outputs": [
    {
     "name": "stdout",
     "output_type": "stream",
     "text": [
      "dataset_faces/left\n",
      "dataset_faces/blink\n",
      "dataset_faces/center\n",
      "dataset_faces/right\n"
     ]
    }
   ],
   "source": [
    "import os\n",
    "datapath_faces = 'dataset_faces'\n",
    "try:\n",
    "    os.mkdir(datapath_faces)\n",
    "except:\n",
    "    pass\n",
    "for target in targets.keys():\n",
    "    print(os.path.join(datapath_faces, target))\n",
    "    try:\n",
    "        os.mkdir(os.path.join(datapath_faces, target))\n",
    "    except:\n",
    "        pass\n"
   ]
  },
  {
   "cell_type": "code",
   "execution_count": 12,
   "metadata": {
    "ExecuteTime": {
     "end_time": "2018-09-05T10:12:14.031502Z",
     "start_time": "2018-09-05T10:10:40.345246Z"
    },
    "scrolled": false
   },
   "outputs": [],
   "source": [
    "import dlib\n",
    "detector = dlib.get_frontal_face_detector()\n",
    "\n",
    "for target in targets.keys():\n",
    "    for filename in glob.glob(os.path.join(datapath, target) + '/*.png'):\n",
    "        frame = imageio.imread(filename)\n",
    "        N_X, N_Y, three = frame.shape\n",
    "        dets = detector(frame, 1)\n",
    "        if False:\n",
    "            print(\"Number of faces detected: {}\".format(len(dets)))\n",
    "            for i, d in enumerate(dets):\n",
    "                print(\"Detection {}: Left: {} Top: {} Right: {} Bottom: {}\".format(\n",
    "                    i, d.left(), d.top(), d.right(), d.bottom()))\n",
    "                \n",
    "        d = dets[0]\n",
    "        if False:\n",
    "            # Create figure and axes\n",
    "            fig, ax = plt.subplots(figsize=(15, 8))\n",
    "\n",
    "            # Display the image\n",
    "            ax.imshow(frame)\n",
    "\n",
    "            # Create a Rectangle patch\n",
    "            rect = patches.Rectangle((d.bottom(), d.left()), d.right()-d.left(), d.top()-d.bottom(), linewidth=1, edgecolor='r', facecolor='none')\n",
    "\n",
    "            # Add the patch to the Axes\n",
    "            ax.add_patch(rect)\n",
    "            plt.show()    \n",
    "        if False:\n",
    "            # Create figure and axes\n",
    "            fig, ax = plt.subplots(figsize=(15, 8))\n",
    "\n",
    "            # Display the cropped image\n",
    "            ax.imshow(frame[(d.top()):(d.bottom()), (d.left()):(d.right()), :])\n",
    "\n",
    "            plt.show()                \n",
    "            \n",
    "        filename_face = filename.replace(datapath, datapath_faces)\n",
    "        imageio.imwrite(filename_face, frame[(d.top()):(d.bottom()), (d.left()):(d.right()), :]) \n"
   ]
  }
 ],
 "metadata": {
  "kernel_info": {
   "name": "python3"
  },
  "kernelspec": {
   "display_name": "Python 3",
   "language": "python",
   "name": "python3"
  },
  "language_info": {
   "codemirror_mode": {
    "name": "ipython",
    "version": 3
   },
   "file_extension": ".py",
   "mimetype": "text/x-python",
   "name": "python",
   "nbconvert_exporter": "python",
   "pygments_lexer": "ipython3",
   "version": "3.6.5"
  },
  "nteract": {
   "version": "0.8.4"
  },
  "toc": {
   "base_numbering": 1,
   "nav_menu": {},
   "number_sections": true,
   "sideBar": true,
   "skip_h1_title": false,
   "title_cell": "Table of Contents",
   "title_sidebar": "Contents",
   "toc_cell": false,
   "toc_position": {},
   "toc_section_display": "block",
   "toc_window_display": false
  }
 },
 "nbformat": 4,
 "nbformat_minor": 1
}
