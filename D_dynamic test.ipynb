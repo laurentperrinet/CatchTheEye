{
 "cells": [
  {
   "cell_type": "code",
   "execution_count": 19,
   "metadata": {
    "ExecuteTime": {
     "end_time": "2018-10-09T12:58:41.243035Z",
     "start_time": "2018-10-09T12:58:41.200843Z"
    }
   },
   "outputs": [
    {
     "name": "stdout",
     "output_type": "stream",
     "text": [
      "The autoreload extension is already loaded. To reload it, use:\n",
      "  %reload_ext autoreload\n"
     ]
    }
   ],
   "source": [
    "%load_ext autoreload\n",
    "%autoreload 2"
   ]
  },
  {
   "cell_type": "code",
   "execution_count": 20,
   "metadata": {
    "ExecuteTime": {
     "end_time": "2018-10-09T12:58:41.276344Z",
     "start_time": "2018-10-09T12:58:41.246651Z"
    }
   },
   "outputs": [],
   "source": [
    "%matplotlib inline\n",
    "import matplotlib.pyplot as plt"
   ]
  },
  {
   "cell_type": "markdown",
   "metadata": {},
   "source": [
    "## running the model"
   ]
  },
  {
   "cell_type": "code",
   "execution_count": 21,
   "metadata": {
    "ExecuteTime": {
     "end_time": "2018-10-09T12:58:41.320032Z",
     "start_time": "2018-10-09T12:58:41.280476Z"
    }
   },
   "outputs": [
    {
     "name": "stdout",
     "output_type": "stream",
     "text": [
      "Parameters= {'dataset_folder': 'dataset', 'dataset_faces_folder': 'dataset_faces', 'batch_size': 8, 'test_batch_size': 1, 'size_test_set': 0.2, 'epochs': 60, 'do_adam': False, 'lr': 0.025, 'momentum': 0.05, 'no_cuda': True, 'num_processes': 1, 'seed': 42, 'log_interval': 0, 'fullsize': 75, 'crop': 64, 'size': 64, 'mean': 0.6, 'std': 0.3, 'conv1_dim': 9, 'conv1_kernel_size': 18, 'conv2_dim': 36, 'conv2_kernel_size': 14, 'bn1_momentum': 0.5, 'bn2_momentum': 0.5, 'stride1': 2, 'stride2': 4, 'N_cv': 8, 'dimension': 30, 'verbose': 1}\n"
     ]
    }
   ],
   "source": [
    "from gaze import init\n",
    "args = init(no_cuda=True, verbose=1)\n",
    "print('Parameters=', args)"
   ]
  },
  {
   "cell_type": "code",
   "execution_count": 22,
   "metadata": {
    "ExecuteTime": {
     "end_time": "2018-10-09T12:58:41.436841Z",
     "start_time": "2018-10-09T12:58:41.325303Z"
    }
   },
   "outputs": [
    {
     "name": "stdout",
     "output_type": "stream",
     "text": [
      "Found 1358 sample images;  1087  to train 271 to test\n"
     ]
    },
    {
     "data": {
      "text/plain": [
       "['blink', 'center', 'left', 'right']"
      ]
     },
     "execution_count": 22,
     "metadata": {},
     "output_type": "execute_result"
    }
   ],
   "source": [
    "from gaze import Data\n",
    "d = Data(args)\n",
    "d.dataset.classes"
   ]
  },
  {
   "cell_type": "code",
   "execution_count": 23,
   "metadata": {
    "ExecuteTime": {
     "end_time": "2018-10-09T12:58:41.504762Z",
     "start_time": "2018-10-09T12:58:41.445842Z"
    },
    "scrolled": true
   },
   "outputs": [
    {
     "name": "stdout",
     "output_type": "stream",
     "text": [
      "Empty line\n",
      "🌫🌫🌫🌫🌫🌫🌫🌫🌫🌫🌫🌫🌫🌫🌫🌫🌫🌫🌫🌫🌫🌫🌫🌫🌫🌫🌫🌫🌫🌫🌫🌫🌫🌫🌫🌫🌫🌫🌫🌫🌫🌫🌫🌫🌫🌫🌫🌫🌫🌫🌫🌫🌫🌫🌫🌫🌫🌫🌫🌫🌫🌫🌫🌫🌫🌫🌫🌫🌫\n",
      "Fixation dot\n",
      "🌫🌫🌫🌫🌫🌫🌫🌫🌫🌫🌫🌫🌫🌫🌫🌫🌫🌫🌫🌫🌫🌫🌫🌫🌫🌫🌫🌫🌫🌫🌫🌫🌫🌫🔵🌫🌫🌫🌫🌫🌫🌫🌫🌫🌫🌫🌫🌫🌫🌫🌫🌫🌫🌫🌫🌫🌫🌫🌫🌫🌫🌫🌫🌫🌫🌫🌫🌫🌫\n",
      "label= left\n",
      "🌫🌫🔴🌫🌫🌫🌫🌫🌫🌫🌫🌫🌫🌫🌫🌫🌫🌫🌫🌫🌫🌫🌫🌫🌫🌫🌫🌫🌫🌫🌫🌫🌫🌫🌫🌫🌫🌫🌫🌫🌫🌫🌫🌫🌫🌫🌫🌫🌫🌫🌫🌫🌫🌫🌫🌫🌫🌫🌫🌫🌫🌫🌫🌫🌫🌫🌫🌫🌫\n",
      "label= blink\n",
      "🌫🌫🌫🌫🌫🌫🌫🌫🌫🌫🌫🌫🌫🌫🌫🌫🌫🌫🌫🌫🌫🌫🌫🌫🌫🌫🌫🌫🌫🌫🌫🌫🌫🌫☠️🌫🌫🌫🌫🌫🌫🌫🌫🌫🌫🌫🌫🌫🌫🌫🌫🌫🌫🌫🌫🌫🌫🌫🌫🌫🌫🌫🌫🌫🌫🌫🌫🌫🌫\n",
      "label= center\n",
      "🌫🌫🌫🌫🌫🌫🌫🌫🌫🌫🌫🌫🌫🌫🌫🌫🌫🌫🌫🌫🌫🌫🌫🌫🌫🌫🌫🌫🌫🌫🌫🌫🌫🌫🔴🌫🌫🌫🌫🌫🌫🌫🌫🌫🌫🌫🌫🌫🌫🌫🌫🌫🌫🌫🌫🌫🌫🌫🌫🌫🌫🌫🌫🌫🌫🌫🌫🌫🌫\n",
      "label= right\n",
      "🌫🌫🌫🌫🌫🌫🌫🌫🌫🌫🌫🌫🌫🌫🌫🌫🌫🌫🌫🌫🌫🌫🌫🌫🌫🌫🌫🌫🌫🌫🌫🌫🌫🌫🌫🌫🌫🌫🌫🌫🌫🌫🌫🌫🌫🌫🌫🌫🌫🌫🌫🌫🌫🌫🌫🌫🌫🌫🌫🌫🌫🌫🌫🌫🌫🌫🔴🌫🌫\n"
     ]
    }
   ],
   "source": [
    "targets = {}\n",
    "s_target = '🔴'\n",
    "s_fixat = '🔵'\n",
    "s_distra = '🌫'\n",
    "s_blink = '☠️'\n",
    "\n",
    "N_dis = 32 # <<<<<<<<<<<< change to adapt to your notebook's width\n",
    "N_margin = 2\n",
    "\n",
    "targets['left'] = N_margin * s_distra + s_target + 2 * N_dis * s_distra + N_margin * s_distra\n",
    "\n",
    "targets['blink'] = N_margin * s_distra + N_dis * s_distra + s_blink + N_dis * s_distra + N_margin * s_distra\n",
    "\n",
    "targets['center'] = N_margin * s_distra + N_dis * s_distra + s_target + N_dis * s_distra + N_margin * s_distra\n",
    "\n",
    "targets['right'] = N_margin * s_distra + 2 * N_dis * s_distra + s_target + N_margin * s_distra\n",
    "\n",
    "print ('Empty line')\n",
    "null = N_margin * s_distra +  (2 * N_dis + 1) * s_distra + N_margin * s_distra\n",
    "print (null)\n",
    "print ('Fixation dot')\n",
    "center = N_margin * s_distra + N_dis * s_distra + s_fixat + N_dis * s_distra + N_margin * s_distra\n",
    "print (center)\n",
    "\n",
    "for label in targets.keys():\n",
    "    print('label=', label)\n",
    "    print (targets[label])"
   ]
  },
  {
   "cell_type": "markdown",
   "metadata": {
    "inputHidden": false,
    "outputHidden": false
   },
   "source": [
    "# dynamical test : offline detection"
   ]
  },
  {
   "cell_type": "code",
   "execution_count": 24,
   "metadata": {
    "ExecuteTime": {
     "end_time": "2018-10-09T12:58:41.548760Z",
     "start_time": "2018-10-09T12:58:41.508223Z"
    }
   },
   "outputs": [],
   "source": [
    "import numpy as np\n",
    "from LeCheapEyeTracker.EyeTrackerServer import Server\n",
    "#from LeCheapEyeTracker.EyeTrackerClient import Client\n",
    "from IPython.display import clear_output"
   ]
  },
  {
   "cell_type": "code",
   "execution_count": 25,
   "metadata": {
    "ExecuteTime": {
     "end_time": "2018-10-09T12:58:41.618652Z",
     "start_time": "2018-10-09T12:58:41.552895Z"
    }
   },
   "outputs": [],
   "source": [
    "def grab(classes, N_frame=32, startup_time=1., interframe_time=0.3, random=False, display=False):\n",
    "    try:\n",
    "        import time\n",
    "        time.sleep(startup_time)\n",
    "        et = Server()\n",
    "        frame = et.cam.grab()[:, :, ::-1]\n",
    "        N_X, N_Y, three = frame.shape\n",
    "\n",
    "        frames = []\n",
    "        labels = []\n",
    "        timings_frame = []\n",
    "        \n",
    "        N_classes = len(classes)\n",
    "        timings_cv = []\n",
    "        i_choice_old = 42\n",
    "        \n",
    "        T0 = time.time()\n",
    "        for i in range(N_frame):\n",
    "            try:\n",
    "                t0 = time.time()\n",
    "                frames.append(et.cam.grab()[:, :, ::-1])\n",
    "                timings_frame.append(time.time()-T0)\n",
    "                t1 = time.time()\n",
    "                timings_cv.append(t1-t0)\n",
    "                \n",
    "                if display:\n",
    "                    plt.imshow(frames[i, ...])\n",
    "                    plt.show() \n",
    "                else:\n",
    "                    # presentation of stimulus\n",
    "                    if random:\n",
    "                        i_choice = np.random.randint(N_classes)\n",
    "                    else:\n",
    "                        i_choice = (i // int(N_frame/N_classes) + 1) % N_classes\n",
    "                    #label = list(targets.keys())[i_choice]\n",
    "                    label = classes[i_choice]\n",
    "                    labels.append(label)\n",
    "                    if not i_choice == i_choice_old:\n",
    "                        clear_output()\n",
    "                        print(null)\n",
    "                        print(null)\n",
    "                        print(targets[label])\n",
    "                        print(null)\n",
    "                        print(null)                    \n",
    "                        i_choice_old = i_choice\n",
    "\n",
    "            except Exception as e:\n",
    "                print(e)\n",
    "            time.sleep(interframe_time)            \n",
    "    finally:\n",
    "        et.close()\n",
    "        \n",
    "    for timings, label in [(timings_cv, 'openCV')] :\n",
    "        timings = np.array(timings)*1000\n",
    "        print('For', label, ', timings in ms = %.3f' % timings.mean(), '+/- %.3f' % timings.std()) \n",
    "\n",
    "    return frames, labels, timings_frame\n",
    "        "
   ]
  },
  {
   "cell_type": "code",
   "execution_count": 26,
   "metadata": {
    "ExecuteTime": {
     "end_time": "2018-10-09T12:58:41.669601Z",
     "start_time": "2018-10-09T12:58:41.621426Z"
    }
   },
   "outputs": [],
   "source": [
    "filename = '/tmp/dump_frames.pkl'\n",
    "import os\n",
    "import pickle"
   ]
  },
  {
   "cell_type": "code",
   "execution_count": 36,
   "metadata": {
    "ExecuteTime": {
     "end_time": "2018-10-09T13:12:07.300216Z",
     "start_time": "2018-10-09T13:11:56.367364Z"
    }
   },
   "outputs": [
    {
     "name": "stdout",
     "output_type": "stream",
     "text": [
      "🌫🌫🌫🌫🌫🌫🌫🌫🌫🌫🌫🌫🌫🌫🌫🌫🌫🌫🌫🌫🌫🌫🌫🌫🌫🌫🌫🌫🌫🌫🌫🌫🌫🌫🌫🌫🌫🌫🌫🌫🌫🌫🌫🌫🌫🌫🌫🌫🌫🌫🌫🌫🌫🌫🌫🌫🌫🌫🌫🌫🌫🌫🌫🌫🌫🌫🌫🌫🌫\n",
      "🌫🌫🌫🌫🌫🌫🌫🌫🌫🌫🌫🌫🌫🌫🌫🌫🌫🌫🌫🌫🌫🌫🌫🌫🌫🌫🌫🌫🌫🌫🌫🌫🌫🌫🌫🌫🌫🌫🌫🌫🌫🌫🌫🌫🌫🌫🌫🌫🌫🌫🌫🌫🌫🌫🌫🌫🌫🌫🌫🌫🌫🌫🌫🌫🌫🌫🌫🌫🌫\n",
      "🌫🌫🌫🌫🌫🌫🌫🌫🌫🌫🌫🌫🌫🌫🌫🌫🌫🌫🌫🌫🌫🌫🌫🌫🌫🌫🌫🌫🌫🌫🌫🌫🌫🌫☠️🌫🌫🌫🌫🌫🌫🌫🌫🌫🌫🌫🌫🌫🌫🌫🌫🌫🌫🌫🌫🌫🌫🌫🌫🌫🌫🌫🌫🌫🌫🌫🌫🌫🌫\n",
      "🌫🌫🌫🌫🌫🌫🌫🌫🌫🌫🌫🌫🌫🌫🌫🌫🌫🌫🌫🌫🌫🌫🌫🌫🌫🌫🌫🌫🌫🌫🌫🌫🌫🌫🌫🌫🌫🌫🌫🌫🌫🌫🌫🌫🌫🌫🌫🌫🌫🌫🌫🌫🌫🌫🌫🌫🌫🌫🌫🌫🌫🌫🌫🌫🌫🌫🌫🌫🌫\n",
      "🌫🌫🌫🌫🌫🌫🌫🌫🌫🌫🌫🌫🌫🌫🌫🌫🌫🌫🌫🌫🌫🌫🌫🌫🌫🌫🌫🌫🌫🌫🌫🌫🌫🌫🌫🌫🌫🌫🌫🌫🌫🌫🌫🌫🌫🌫🌫🌫🌫🌫🌫🌫🌫🌫🌫🌫🌫🌫🌫🌫🌫🌫🌫🌫🌫🌫🌫🌫🌫\n",
      "Capture released\n",
      "For openCV , timings in ms = 33.323 +/- 5.215\n",
      "len(frames)= 200\n",
      "frames[0].shape= (480, 640, 3)\n",
      "timings_frame[:10]= [0.03321218490600586, 0.06724214553833008, 0.10909724235534668, 0.14238309860229492, 0.17522811889648438, 0.19761085510253906, 0.2309250831604004, 0.2646811008453369, 0.30915403366088867, 0.34192824363708496]\n",
      "timings_frame[-10:]= [6.386467933654785, 6.409013032913208, 6.442503213882446, 6.475604057312012, 6.508534908294678, 6.541534185409546, 6.574958086013794, 6.609608173370361, 6.6411309242248535, 6.673580884933472]\n"
     ]
    }
   ],
   "source": [
    "try:\n",
    "    with open(filename, \"rb\") as f:\n",
    "        dic = pickle.load(f)\n",
    "        frames = dic['frames']\n",
    "        labels = dic['labels']\n",
    "        timings_frame = dic['timings_frame']\n",
    "except:\n",
    "    frames, labels, timings_frame = grab(d.dataset.classes, \n",
    "                                         N_frame=200, startup_time=1., interframe_time=0., display=False)        \n",
    "    with open(filename, \"wb\") as f:\n",
    "        pickle.dump({'frames':frames, 'labels':labels, 'timings_frame':timings_frame}, f)\n",
    "    \n",
    "print('len(frames)=', len(frames))\n",
    "print('frames[0].shape=', frames[0].shape)\n",
    "print('timings_frame[:10]=', timings_frame[:10])\n",
    "print('timings_frame[-10:]=', timings_frame[-10:])"
   ]
  },
  {
   "cell_type": "code",
   "execution_count": 37,
   "metadata": {
    "ExecuteTime": {
     "end_time": "2018-10-09T13:12:07.343027Z",
     "start_time": "2018-10-09T13:12:07.304438Z"
    }
   },
   "outputs": [],
   "source": [
    "#!rm {filename}"
   ]
  },
  {
   "cell_type": "code",
   "execution_count": 38,
   "metadata": {
    "ExecuteTime": {
     "end_time": "2018-10-09T13:12:44.626520Z",
     "start_time": "2018-10-09T13:12:07.348680Z"
    },
    "scrolled": true
   },
   "outputs": [
    {
     "name": "stdout",
     "output_type": "stream",
     "text": [
      "For Dlib , timings in ms = 182.35589504241943 +/- 34.19217987149967\n"
     ]
    }
   ],
   "source": [
    "def extract_faces(frames, do_bbox_once=False, display=False):\n",
    "    from gaze import FaceExtractor\n",
    "    F = FaceExtractor()\n",
    "    import time\n",
    "    timings_dlib = []\n",
    "\n",
    "    N_frame  = len(frames)\n",
    "    N_X, N_Y, three = frames[0].shape\n",
    "    from PIL import Image\n",
    "\n",
    "    img_faces = []\n",
    "    bbox = F.get_bbox(frames[0]) if do_bbox_once else None\n",
    "    \n",
    "    for i in range(N_frame):\n",
    "        if display:\n",
    "            plt.imshow(frames[i]/255)\n",
    "            plt.show() \n",
    "        t0 = time.time()\n",
    "        try:\n",
    "            img_face = F.face_extractor(frames[i], bbox=bbox)\n",
    "        except:\n",
    "            print('No face in frame#', i)\n",
    "        img_faces.append(img_face)\n",
    "        t1 = time.time()\n",
    "        timings_dlib.append(t1-t0)\n",
    "        if display:\n",
    "            plt.imshow(img_face)\n",
    "            plt.show() \n",
    "        \n",
    "    for timings, label in [(timings_dlib, 'Dlib')] :\n",
    "        timings = np.array(timings)*1000\n",
    "        print('For', label, ', timings in ms =', timings.mean(), '+/-', timings.std()) \n",
    "\n",
    "    return img_faces\n",
    "\n",
    "img_faces = extract_faces(frames)"
   ]
  },
  {
   "cell_type": "raw",
   "metadata": {
    "scrolled": false
   },
   "source": [
    "def classify(image, t):\n",
    "    from PIL import Image\n",
    "    image = Image.fromarray(image)#.astype('uint8'), 'RGB')\n",
    "    data = t(image)\n",
    "    data.unsqueeze_(0)\n",
    "    output = ml.model(data)    \n",
    "    return np.exp(output.data.numpy()[0, :].astype(np.float))"
   ]
  },
  {
   "cell_type": "code",
   "execution_count": 39,
   "metadata": {
    "ExecuteTime": {
     "end_time": "2018-10-09T13:12:44.675885Z",
     "start_time": "2018-10-09T13:12:44.630127Z"
    }
   },
   "outputs": [
    {
     "name": "stdout",
     "output_type": "stream",
     "text": [
      "Found 1358 sample images;  1087  to train 271 to test\n",
      "Loading file _Regard_400.pt\n"
     ]
    }
   ],
   "source": [
    "from gaze import ML\n",
    "ml = ML(args)\n",
    "path = '_Regard_dropout.pt'\n",
    "path = '_Regard.pt'\n",
    "path = '_Regard_400.pt'\n",
    "ml.train(path=path)"
   ]
  },
  {
   "cell_type": "code",
   "execution_count": 40,
   "metadata": {
    "ExecuteTime": {
     "end_time": "2018-10-09T13:12:45.991909Z",
     "start_time": "2018-10-09T13:12:44.678702Z"
    },
    "scrolled": false
   },
   "outputs": [
    {
     "name": "stdout",
     "output_type": "stream",
     "text": [
      "For torch , timings in ms = 6.3996422290802 +/- 1.1595240453104054\n"
     ]
    }
   ],
   "source": [
    "def dyn_test(img_faces, labels, display=False, verbose=False):\n",
    "    import time\n",
    "    from PIL import Image\n",
    "    timings_torch = []\n",
    "    preds = []\n",
    "    for img_face, label in zip(img_faces, labels) :\n",
    "        t0 = time.time()\n",
    "        pred = ml.classify(img_face, ml.dataset.test_transform)\n",
    "        t1 = time.time()\n",
    "        timings_torch.append(t1-t0)\n",
    "        preds.append(pred)    \n",
    "        pred_label = ml.dataset.dataset.classes[pred.argmax()]\n",
    "        if verbose: print('Prediction =', pred_label, 'Shown label =', label)\n",
    "        if display:\n",
    "            plt.imshow(img_face)\n",
    "            plt.show() \n",
    "\n",
    "    for timings, label in [(timings_torch, 'torch')] :\n",
    "        timings = np.array(timings)*1000\n",
    "        print('For', label, ', timings in ms =', timings.mean(), '+/-', timings.std()) \n",
    "    return np.array(preds)\n",
    "        \n",
    "preds = dyn_test(img_faces, labels, display=False)"
   ]
  },
  {
   "cell_type": "code",
   "execution_count": 41,
   "metadata": {
    "ExecuteTime": {
     "end_time": "2018-10-09T13:12:46.982146Z",
     "start_time": "2018-10-09T13:12:45.994531Z"
    }
   },
   "outputs": [
    {
     "data": {
      "image/png": "[encoded data removed]",
      "text/plain": [
       "<Figure size 1152x360 with 2 Axes>"
      ]
     },
     "metadata": {
      "needs_background": "light"
     },
     "output_type": "display_data"
    }
   ],
   "source": [
    "fig, axs = plt.subplots(2, 1, figsize=((16, 5)))\n",
    "ax = axs[0]\n",
    "x_label = np.array([-(l == 'left')  + (l == 'right') for l in labels])\n",
    "ax.plot(np.array(timings_frame)*1000, x_label, '--', lw=1, alpha=.5)\n",
    "p_b, p_c, p_l, p_r = preds[:, 0], preds[:, 1], preds[:, 2], preds[:, 3]\n",
    "ax.pcolor(np.array(timings_frame)*1000, np.array([-1, 1]), p_b[None,:], cmap=plt.get_cmap('binary'), alpha=.5)\n",
    "x_pred = 2 / np.pi * np.arctan2(p_r-p_l, p_c)\n",
    "#h_pred = (preds * np.log(preds)).sum(axis=1) / np.log(4)\n",
    "ax.plot(np.array(timings_frame)*1000, x_pred, lw=.5, alpha=.5)\n",
    "ax.scatter(np.array(timings_frame)*1000, x_pred, 14*(1-p_b), color='k')\n",
    "ax.set_xticklabels([])\n",
    "ax.set_ylabel('estimated position')\n",
    "ax.set_xlim(0, np.array(timings_frame).max()*1000 )\n",
    "ax.set_ylim(-1.05, 1.05)\n",
    "ax = axs[1]\n",
    "ax.pcolor(preds.T, cmap=plt.hot())\n",
    "label_num = [1*(l == 'center') + 2*(l == 'left')  + 3*(l == 'right') for l in labels]\n",
    "ax.plot(np.array(label_num)+.5, 'wo', ms=8)\n",
    "ax.plot(np.array(label_num)+.5, 'bo', ms=4)\n",
    "ax.set_xlabel('time (ms)')\n",
    "ax.set_ylabel('target')\n",
    "ax.set_yticks(.5+np.arange(len(ml.dataset.dataset.classes)))\n",
    "ax.set_yticklabels(ml.dataset.dataset.classes)\n",
    "N_frame = len(timings_frame)\n",
    "ax.set_xticks(np.arange(0, N_frame, N_frame//12))\n",
    "ax.set_xticklabels(['%.1f' % (timings_frame[int(i_f)]*1000) for i_f in  ax.get_xticks()])\n",
    "#ax.legend(loc='best')\n",
    "#plt.show() \n",
    "\n",
    "fname = 'figures/timing'\n",
    "for ext in ['.pdf', '.png']:\n",
    "    plt.savefig(fname + ext)"
   ]
  },
  {
   "cell_type": "code",
   "execution_count": 42,
   "metadata": {
    "ExecuteTime": {
     "end_time": "2018-10-09T13:12:47.013284Z",
     "start_time": "2018-10-09T13:12:46.985618Z"
    }
   },
   "outputs": [
    {
     "ename": "NameError",
     "evalue": "name 'toto' is not defined",
     "output_type": "error",
     "traceback": [
      "\u001b[0;31m---------------------------------------------------------------------------\u001b[0m",
      "\u001b[0;31mNameError\u001b[0m                                 Traceback (most recent call last)",
      "\u001b[0;32m<ipython-input-42-e6e8ea7465f1>\u001b[0m in \u001b[0;36m<module>\u001b[0;34m\u001b[0m\n\u001b[0;32m----> 1\u001b[0;31m \u001b[0mtoto\u001b[0m\u001b[0;34m\u001b[0m\u001b[0m\n\u001b[0m",
      "\u001b[0;31mNameError\u001b[0m: name 'toto' is not defined"
     ]
    }
   ],
   "source": [
    "toto"
   ]
  },
  {
   "cell_type": "markdown",
   "metadata": {
    "inputHidden": false,
    "outputHidden": false
   },
   "source": [
    "# dynamical test : online detection"
   ]
  },
  {
   "cell_type": "code",
   "execution_count": null,
   "metadata": {
    "ExecuteTime": {
     "end_time": "2018-10-09T13:12:47.016633Z",
     "start_time": "2018-10-09T13:12:07.913Z"
    },
    "scrolled": false
   },
   "outputs": [],
   "source": [
    "def dyn_test(N_frame=32, startup_time=1., interframe_time=0., display=False):\n",
    "    try:\n",
    "        from gaze import FaceExtractor\n",
    "        F = FaceExtractor()\n",
    "        t = ml.dataset.transform\n",
    "\n",
    "        import time\n",
    "        time.sleep(startup_time)\n",
    "        et = Server()\n",
    "        timings_cv = []\n",
    "        timings_dlib = []\n",
    "        timings_torch = []\n",
    "        \n",
    "        for i in range(N_frame):            \n",
    "\n",
    "            t0 = time.time()\n",
    "            try:\n",
    "                t0 = time.time()\n",
    "                frame = et.cam.grab()[:, :, ::-1]\n",
    "                t1 = time.time()\n",
    "                timings_cv.append(t1-t0)\n",
    "                t0 = time.time()\n",
    "                img_face = F.face_extractor(frame)\n",
    "                t1 = time.time()\n",
    "                timings_dlib.append(t1-t0)\n",
    "                t0 = time.time()\n",
    "                pred = classify(img_face, t)\n",
    "                t1 = time.time()\n",
    "                timings_torch.append(t1-t0)\n",
    "                label = ml.dataset.dataset.classes[pred.argmax()]\n",
    "                if display:\n",
    "                    plt.imshow(img_face)\n",
    "                    plt.show() \n",
    "                    print('Prediction =', label)\n",
    "                else:\n",
    "                    clear_output()\n",
    "                    print(null)\n",
    "                    print(null)\n",
    "                    print(targets[label])\n",
    "                    print(null)\n",
    "                    print(null)                    \n",
    "\n",
    "                print('Elapsed time =', '%0.3f' % ((time.time()-t0)*1000), 'ms')\n",
    "                    \n",
    "            except Exception as e:\n",
    "                print(e)\n",
    "            time.sleep(interframe_time)\n",
    "            \n",
    "    finally:\n",
    "        et.close()\n",
    "        \n",
    "    for timings, label in [(timings_cv, 'openCV'), (timings_dlib, 'Dlib'), (timings_torch, 'torch')] :\n",
    "        timings = np.array(timings)*1000\n",
    "        print('For', label, ', timings in ms =', timings.mean(), '+/-', timings.std()) \n",
    "        \n",
    "dyn_test(display=False, interframe_time=1.)        "
   ]
  },
  {
   "cell_type": "code",
   "execution_count": null,
   "metadata": {
    "ExecuteTime": {
     "end_time": "2018-10-09T13:12:47.018598Z",
     "start_time": "2018-10-09T13:12:08.088Z"
    }
   },
   "outputs": [],
   "source": [
    "dyn_test(N_frame=8, display=False, interframe_time=0.)"
   ]
  },
  {
   "cell_type": "code",
   "execution_count": null,
   "metadata": {
    "ExecuteTime": {
     "end_time": "2018-10-09T11:00:10.583465Z",
     "start_time": "2018-10-09T10:59:16.780Z"
    },
    "scrolled": true
   },
   "outputs": [],
   "source": [
    "dyn_test(N_frame=8, display=True, interframe_time=0.)"
   ]
  },
  {
   "cell_type": "code",
   "execution_count": null,
   "metadata": {},
   "outputs": [],
   "source": []
  }
 ],
 "metadata": {
  "kernel_info": {
   "name": "python3"
  },
  "kernelspec": {
   "display_name": "Python 3",
   "language": "python",
   "name": "python3"
  },
  "language_info": {
   "codemirror_mode": {
    "name": "ipython",
    "version": 3
   },
   "file_extension": ".py",
   "mimetype": "text/x-python",
   "name": "python",
   "nbconvert_exporter": "python",
   "pygments_lexer": "ipython3",
   "version": "3.6.5"
  },
  "nteract": {
   "version": "0.8.4"
  },
  "toc": {
   "base_numbering": 1,
   "nav_menu": {},
   "number_sections": true,
   "sideBar": true,
   "skip_h1_title": false,
   "title_cell": "Table of Contents",
   "title_sidebar": "Contents",
   "toc_cell": false,
   "toc_position": {
    "height": "calc(100% - 180px)",
    "left": "10px",
    "top": "150px",
    "width": "165px"
   },
   "toc_section_display": "block",
   "toc_window_display": false
  }
 },
 "nbformat": 4,
 "nbformat_minor": 2
}
