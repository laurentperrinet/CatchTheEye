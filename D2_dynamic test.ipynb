{
 "cells": [
  {
   "cell_type": "code",
   "execution_count": 1,
   "metadata": {
    "ExecuteTime": {
     "end_time": "2018-10-24T11:18:51.103330Z",
     "start_time": "2018-10-24T11:18:51.081924Z"
    }
   },
   "outputs": [],
   "source": [
    "%load_ext autoreload\n",
    "%autoreload 2"
   ]
  },
  {
   "cell_type": "code",
   "execution_count": 2,
   "metadata": {
    "ExecuteTime": {
     "end_time": "2018-10-24T11:18:51.993381Z",
     "start_time": "2018-10-24T11:18:51.105364Z"
    }
   },
   "outputs": [
    {
     "data": {
      "application/json": {
       "Software versions": [
        {
         "module": "Python",
         "version": "3.6.5 64bit [GCC 4.2.1 Compatible Apple LLVM 9.1.0 (clang-902.0.39.2)]"
        },
        {
         "module": "IPython",
         "version": "7.0.1"
        },
        {
         "module": "OS",
         "version": "Darwin 17.7.0 x86_64 i386 64bit"
        },
        {
         "module": "numpy",
         "version": "1.15.3"
        },
        {
         "module": "dlib",
         "version": "19.16.0"
        },
        {
         "module": "matplotlib",
         "version": "3.0.0"
        },
        {
         "module": "imageio",
         "version": "2.4.1"
        },
        {
         "module": "gaze",
         "version": "The 'gaze' distribution was not found and is required by the application"
        },
        {
         "module": "torch",
         "version": "0.4.1"
        },
        {
         "module": "torchvision",
         "version": "0.2.1"
        }
       ]
      },
      "text/html": [
       "<table><tr><th>Software</th><th>Version</th></tr><tr><td>Python</td><td>3.6.5 64bit [GCC 4.2.1 Compatible Apple LLVM 9.1.0 (clang-902.0.39.2)]</td></tr><tr><td>IPython</td><td>7.0.1</td></tr><tr><td>OS</td><td>Darwin 17.7.0 x86_64 i386 64bit</td></tr><tr><td>numpy</td><td>1.15.3</td></tr><tr><td>dlib</td><td>19.16.0</td></tr><tr><td>matplotlib</td><td>3.0.0</td></tr><tr><td>imageio</td><td>2.4.1</td></tr><tr><td>gaze</td><td>The 'gaze' distribution was not found and is required by the application</td></tr><tr><td>torch</td><td>0.4.1</td></tr><tr><td>torchvision</td><td>0.2.1</td></tr><tr><td colspan='2'>Wed Oct 24 13:18:51 2018 CEST</td></tr></table>"
      ],
      "text/latex": [
       "\\begin{tabular}{|l|l|}\\hline\n",
       "{\\bf Software} & {\\bf Version} \\\\ \\hline\\hline\n",
       "Python & 3.6.5 64bit [GCC 4.2.1 Compatible Apple LLVM 9.1.0 (clang-902.0.39.2)] \\\\ \\hline\n",
       "IPython & 7.0.1 \\\\ \\hline\n",
       "OS & Darwin 17.7.0 x86\\_64 i386 64bit \\\\ \\hline\n",
       "numpy & 1.15.3 \\\\ \\hline\n",
       "dlib & 19.16.0 \\\\ \\hline\n",
       "matplotlib & 3.0.0 \\\\ \\hline\n",
       "imageio & 2.4.1 \\\\ \\hline\n",
       "gaze & The 'gaze' distribution was not found and is required by the application \\\\ \\hline\n",
       "torch & 0.4.1 \\\\ \\hline\n",
       "torchvision & 0.2.1 \\\\ \\hline\n",
       "\\hline \\multicolumn{2}{|l|}{Wed Oct 24 13:18:51 2018 CEST} \\\\ \\hline\n",
       "\\end{tabular}\n"
      ],
      "text/plain": [
       "Software versions\n",
       "Python 3.6.5 64bit [GCC 4.2.1 Compatible Apple LLVM 9.1.0 (clang-902.0.39.2)]\n",
       "IPython 7.0.1\n",
       "OS Darwin 17.7.0 x86_64 i386 64bit\n",
       "numpy 1.15.3\n",
       "dlib 19.16.0\n",
       "matplotlib 3.0.0\n",
       "imageio 2.4.1\n",
       "gaze The 'gaze' distribution was not found and is required by the application\n",
       "torch 0.4.1\n",
       "torchvision 0.2.1\n",
       "Wed Oct 24 13:18:51 2018 CEST"
      ]
     },
     "execution_count": 2,
     "metadata": {},
     "output_type": "execute_result"
    }
   ],
   "source": [
    "%load_ext version_information\n",
    "%version_information numpy, dlib, matplotlib, imageio, gaze, torch, torchvision"
   ]
  },
  {
   "cell_type": "code",
   "execution_count": 3,
   "metadata": {
    "ExecuteTime": {
     "end_time": "2018-10-24T11:18:52.239968Z",
     "start_time": "2018-10-24T11:18:51.996704Z"
    }
   },
   "outputs": [],
   "source": [
    "%matplotlib inline\n",
    "import matplotlib.pyplot as plt"
   ]
  },
  {
   "cell_type": "markdown",
   "metadata": {},
   "source": [
    "## running the model"
   ]
  },
  {
   "cell_type": "code",
   "execution_count": 4,
   "metadata": {
    "ExecuteTime": {
     "end_time": "2018-10-24T11:18:52.270204Z",
     "start_time": "2018-10-24T11:18:52.243404Z"
    }
   },
   "outputs": [
    {
     "name": "stdout",
     "output_type": "stream",
     "text": [
      "Parameters= {'dataset_folder': 'dataset', 'dataset_faces_folder': 'dataset_faces', 'batch_size': 16, 'test_batch_size': 8, 'size_test_set': 0.2, 'epochs': 40, 'do_adam': False, 'lr': 0.01, 'momentum': 0.05, 'no_cuda': True, 'num_processes': 1, 'seed': 42, 'log_interval': 0, 'fullsize': 75, 'crop': 75, 'size': 40, 'mean': 0.4, 'std': 0.3, 'conv1_dim': 9, 'conv1_kernel_size': 8, 'conv2_dim': 36, 'conv2_kernel_size': 12, 'conv1_bn_momentum': 0.5, 'conv2_bn_momentum': 0.5, 'dense_bn_momentum': 0.5, 'stride1': 2, 'stride2': 4, 'N_cv': 20, 'dimension': 30, 'verbose': 1}\n"
     ]
    }
   ],
   "source": [
    "from gaze import init\n",
    "args = init(no_cuda=True, verbose=1)\n",
    "print('Parameters=', args)"
   ]
  },
  {
   "cell_type": "code",
   "execution_count": 5,
   "metadata": {
    "ExecuteTime": {
     "end_time": "2018-10-24T11:18:52.345347Z",
     "start_time": "2018-10-24T11:18:52.272372Z"
    }
   },
   "outputs": [
    {
     "name": "stdout",
     "output_type": "stream",
     "text": [
      "Found 2193 sample images;  1755  to train 438 to test\n"
     ]
    },
    {
     "data": {
      "text/plain": [
       "['blink', 'center', 'left', 'right']"
      ]
     },
     "execution_count": 5,
     "metadata": {},
     "output_type": "execute_result"
    }
   ],
   "source": [
    "from gaze import Data\n",
    "d = Data(args)\n",
    "d.dataset.classes"
   ]
  },
  {
   "cell_type": "code",
   "execution_count": 6,
   "metadata": {
    "ExecuteTime": {
     "end_time": "2018-10-24T11:18:52.378086Z",
     "start_time": "2018-10-24T11:18:52.347176Z"
    },
    "scrolled": true
   },
   "outputs": [
    {
     "name": "stdout",
     "output_type": "stream",
     "text": [
      "Empty line\n",
      "🌫🌫🌫🌫🌫🌫🌫🌫🌫🌫🌫🌫🌫🌫🌫🌫🌫🌫🌫🌫🌫🌫🌫🌫🌫🌫🌫🌫🌫🌫🌫🌫🌫🌫🌫🌫🌫🌫🌫🌫🌫🌫🌫🌫🌫🌫🌫🌫🌫🌫🌫🌫🌫🌫🌫🌫🌫🌫🌫🌫🌫🌫🌫🌫🌫\n",
      "Fixation dot\n",
      "🌫🌫🌫🌫🌫🌫🌫🌫🌫🌫🌫🌫🌫🌫🌫🌫🌫🌫🌫🌫🌫🌫🌫🌫🌫🌫🌫🌫🌫🌫🌫🌫🔵🌫🌫🌫🌫🌫🌫🌫🌫🌫🌫🌫🌫🌫🌫🌫🌫🌫🌫🌫🌫🌫🌫🌫🌫🌫🌫🌫🌫🌫🌫🌫🌫\n",
      "label= left\n",
      "🌫🌫🔴🌫🌫🌫🌫🌫🌫🌫🌫🌫🌫🌫🌫🌫🌫🌫🌫🌫🌫🌫🌫🌫🌫🌫🌫🌫🌫🌫🌫🌫🌫🌫🌫🌫🌫🌫🌫🌫🌫🌫🌫🌫🌫🌫🌫🌫🌫🌫🌫🌫🌫🌫🌫🌫🌫🌫🌫🌫🌫🌫🌫🌫🌫\n",
      "label= blink\n",
      "🌫🌫🌫🌫🌫🌫🌫🌫🌫🌫🌫🌫🌫🌫🌫🌫🌫🌫🌫🌫🌫🌫🌫🌫🌫🌫🌫🌫🌫🌫🌫🌫☠️🌫🌫🌫🌫🌫🌫🌫🌫🌫🌫🌫🌫🌫🌫🌫🌫🌫🌫🌫🌫🌫🌫🌫🌫🌫🌫🌫🌫🌫🌫🌫🌫\n",
      "label= center\n",
      "🌫🌫🌫🌫🌫🌫🌫🌫🌫🌫🌫🌫🌫🌫🌫🌫🌫🌫🌫🌫🌫🌫🌫🌫🌫🌫🌫🌫🌫🌫🌫🌫🔴🌫🌫🌫🌫🌫🌫🌫🌫🌫🌫🌫🌫🌫🌫🌫🌫🌫🌫🌫🌫🌫🌫🌫🌫🌫🌫🌫🌫🌫🌫🌫🌫\n",
      "label= right\n",
      "🌫🌫🌫🌫🌫🌫🌫🌫🌫🌫🌫🌫🌫🌫🌫🌫🌫🌫🌫🌫🌫🌫🌫🌫🌫🌫🌫🌫🌫🌫🌫🌫🌫🌫🌫🌫🌫🌫🌫🌫🌫🌫🌫🌫🌫🌫🌫🌫🌫🌫🌫🌫🌫🌫🌫🌫🌫🌫🌫🌫🌫🌫🔴🌫🌫\n"
     ]
    }
   ],
   "source": [
    "targets = {}\n",
    "s_target = '🔴'\n",
    "s_fixat = '🔵'\n",
    "s_distra = '🌫'\n",
    "s_blink = '☠️'\n",
    "\n",
    "N_dis = 30 # <<<<<<<<<<<< change to adapt to your notebook's width\n",
    "N_margin = 2\n",
    "\n",
    "targets['left'] = N_margin * s_distra + s_target + 2 * N_dis * s_distra + N_margin * s_distra\n",
    "\n",
    "targets['blink'] = N_margin * s_distra + N_dis * s_distra + s_blink + N_dis * s_distra + N_margin * s_distra\n",
    "\n",
    "targets['center'] = N_margin * s_distra + N_dis * s_distra + s_target + N_dis * s_distra + N_margin * s_distra\n",
    "\n",
    "targets['right'] = N_margin * s_distra + 2 * N_dis * s_distra + s_target + N_margin * s_distra\n",
    "\n",
    "print ('Empty line')\n",
    "null = N_margin * s_distra +  (2 * N_dis + 1) * s_distra + N_margin * s_distra\n",
    "print (null)\n",
    "print ('Fixation dot')\n",
    "center = N_margin * s_distra + N_dis * s_distra + s_fixat + N_dis * s_distra + N_margin * s_distra\n",
    "print (center)\n",
    "\n",
    "for label in targets.keys():\n",
    "    print('label=', label)\n",
    "    print (targets[label])"
   ]
  },
  {
   "cell_type": "code",
   "execution_count": null,
   "metadata": {},
   "outputs": [],
   "source": [
    "from IPython.display import clear_output"
   ]
  },
  {
   "cell_type": "markdown",
   "metadata": {
    "inputHidden": false,
    "outputHidden": false
   },
   "source": [
    "# dynamical test : loading network"
   ]
  },
  {
   "cell_type": "code",
   "execution_count": 7,
   "metadata": {
    "ExecuteTime": {
     "end_time": "2018-10-24T11:18:52.613505Z",
     "start_time": "2018-10-24T11:18:52.380486Z"
    }
   },
   "outputs": [
    {
     "name": "stdout",
     "output_type": "stream",
     "text": [
      "/Users/lolo/research/LeCheapEyeTracker/src/LeCheapEyeTracker/haarcascade_frontalface_default.xml\n"
     ]
    }
   ],
   "source": [
    "import numpy as np\n",
    "from LeCheapEyeTracker.EyeTrackerServer import Server\n",
    "#from LeCheapEyeTracker.EyeTrackerClient import Client\n"
   ]
  },
  {
   "cell_type": "code",
   "execution_count": 12,
   "metadata": {
    "ExecuteTime": {
     "end_time": "2018-10-24T11:19:22.921995Z",
     "start_time": "2018-10-24T11:19:22.876177Z"
    }
   },
   "outputs": [
    {
     "name": "stdout",
     "output_type": "stream",
     "text": [
      "Found 2193 sample images;  1755  to train 438 to test\n"
     ]
    }
   ],
   "source": [
    "from gaze import ML\n",
    "ml = ML(args)"
   ]
  },
  {
   "cell_type": "code",
   "execution_count": 13,
   "metadata": {
    "ExecuteTime": {
     "end_time": "2018-10-24T11:19:23.219611Z",
     "start_time": "2018-10-24T11:19:23.195326Z"
    }
   },
   "outputs": [],
   "source": [
    "path = '_Regard_400.pt'"
   ]
  },
  {
   "cell_type": "code",
   "execution_count": 14,
   "metadata": {
    "ExecuteTime": {
     "end_time": "2018-10-24T11:19:23.571969Z",
     "start_time": "2018-10-24T11:19:23.547414Z"
    }
   },
   "outputs": [],
   "source": [
    "path = '_Regard.pt'"
   ]
  },
  {
   "cell_type": "code",
   "execution_count": 15,
   "metadata": {
    "ExecuteTime": {
     "end_time": "2018-10-24T11:19:23.926386Z",
     "start_time": "2018-10-24T11:19:23.899217Z"
    }
   },
   "outputs": [
    {
     "name": "stdout",
     "output_type": "stream",
     "text": [
      "Loading file _Regard.pt\n"
     ]
    }
   ],
   "source": [
    "ml.train(path=path)"
   ]
  },
  {
   "cell_type": "markdown",
   "metadata": {
    "inputHidden": false,
    "outputHidden": false
   },
   "source": [
    "# dynamical test : online detection"
   ]
  },
  {
   "cell_type": "code",
   "execution_count": 20,
   "metadata": {
    "ExecuteTime": {
     "end_time": "2018-10-24T11:45:48.951627Z",
     "start_time": "2018-10-24T11:45:07.139974Z"
    },
    "scrolled": false
   },
   "outputs": [
    {
     "name": "stdout",
     "output_type": "stream",
     "text": [
      "🌫🌫🌫🌫🌫🌫🌫🌫🌫🌫🌫🌫🌫🌫🌫🌫🌫🌫🌫🌫🌫🌫🌫🌫🌫🌫🌫🌫🌫🌫🌫🌫🌫🌫🌫🌫🌫🌫🌫🌫🌫🌫🌫🌫🌫🌫🌫🌫🌫🌫🌫🌫🌫🌫🌫🌫🌫🌫🌫🌫🌫🌫🌫🌫🌫\n",
      "🌫🌫🌫🌫🌫🌫🌫🌫🌫🌫🌫🌫🌫🌫🌫🌫🌫🌫🌫🌫🌫🌫🌫🌫🌫🌫🌫🌫🌫🌫🌫🌫🌫🌫🌫🌫🌫🌫🌫🌫🌫🌫🌫🌫🌫🌫🌫🌫🌫🌫🌫🌫🌫🌫🌫🌫🌫🌫🌫🌫🌫🌫🌫🌫🌫\n",
      "🌫🌫🌫🌫🌫🌫🌫🌫🌫🌫🌫🌫🌫🌫🌫🌫🌫🌫🌫🌫🌫🌫🌫🌫🌫🌫🌫🌫🌫🌫🌫🌫🔴🌫🌫🌫🌫🌫🌫🌫🌫🌫🌫🌫🌫🌫🌫🌫🌫🌫🌫🌫🌫🌫🌫🌫🌫🌫🌫🌫🌫🌫🌫🌫🌫\n",
      "🌫🌫🌫🌫🌫🌫🌫🌫🌫🌫🌫🌫🌫🌫🌫🌫🌫🌫🌫🌫🌫🌫🌫🌫🌫🌫🌫🌫🌫🌫🌫🌫🌫🌫🌫🌫🌫🌫🌫🌫🌫🌫🌫🌫🌫🌫🌫🌫🌫🌫🌫🌫🌫🌫🌫🌫🌫🌫🌫🌫🌫🌫🌫🌫🌫\n",
      "🌫🌫🌫🌫🌫🌫🌫🌫🌫🌫🌫🌫🌫🌫🌫🌫🌫🌫🌫🌫🌫🌫🌫🌫🌫🌫🌫🌫🌫🌫🌫🌫🌫🌫🌫🌫🌫🌫🌫🌫🌫🌫🌫🌫🌫🌫🌫🌫🌫🌫🌫🌫🌫🌫🌫🌫🌫🌫🌫🌫🌫🌫🌫🌫🌫\n",
      "Elapsed time = 4.490 ms\n",
      "Capture released\n",
      "For openCV , timings in ms = 15.501648187637329 +/- 16.505401288633404\n",
      "For Dlib , timings in ms = 142.18424260616302 +/- 1.1866281286773825\n",
      "For torch , timings in ms = 4.0159448981285095 +/- 0.15751169214839236\n"
     ]
    }
   ],
   "source": [
    "def dyn_test(N_frame=32, startup_time=1., interframe_time=0., display=False):\n",
    "    try:\n",
    "        from gaze import FaceExtractor\n",
    "        F = FaceExtractor()\n",
    "\n",
    "        import time\n",
    "        time.sleep(startup_time)\n",
    "        et = Server()\n",
    "        timings_cv = []\n",
    "        timings_dlib = []\n",
    "        timings_torch = []\n",
    "        \n",
    "        for i in range(N_frame):            \n",
    "\n",
    "            t0 = time.time()\n",
    "            try:\n",
    "                t0 = time.time()\n",
    "                frame = et.cam.grab()[:, :, ::-1]\n",
    "                t1 = time.time()\n",
    "                timings_cv.append(t1-t0)\n",
    "                t0 = time.time()\n",
    "                img_face = F.face_extractor(frame)\n",
    "                t1 = time.time()\n",
    "                timings_dlib.append(t1-t0)\n",
    "                t0 = time.time()\n",
    "                pred = ml.classify(img_face, ml.dataset.test_transform)\n",
    "                t1 = time.time()\n",
    "                timings_torch.append(t1-t0)\n",
    "                label = ml.dataset.dataset.classes[pred.argmax()]\n",
    "                if display:\n",
    "                    plt.imshow(img_face)\n",
    "                    plt.show() \n",
    "                    print('Prediction =', label)\n",
    "                else:\n",
    "                    clear_output()\n",
    "                    print(null)\n",
    "                    print(null)\n",
    "                    print(targets[label])\n",
    "                    print(null)\n",
    "                    print(null)                    \n",
    "\n",
    "                print('Elapsed time =', '%0.3f' % ((time.time()-t0)*1000), 'ms')\n",
    "                    \n",
    "            except Exception as e:\n",
    "                print(e)\n",
    "            time.sleep(interframe_time)\n",
    "            \n",
    "    finally:\n",
    "        et.close()\n",
    "        \n",
    "    for timings, label in [(timings_cv, 'openCV'), (timings_dlib, 'Dlib'), (timings_torch, 'torch')] :\n",
    "        timings = np.array(timings)*1000\n",
    "        print('For', label, ', timings in ms =', timings.mean(), '+/-', timings.std()) \n",
    "        \n",
    "dyn_test(display=False, interframe_time=1.)        "
   ]
  },
  {
   "cell_type": "code",
   "execution_count": null,
   "metadata": {
    "ExecuteTime": {
     "end_time": "2018-10-24T11:18:52.919503Z",
     "start_time": "2018-10-24T11:18:51.391Z"
    }
   },
   "outputs": [],
   "source": [
    "dyn_test(N_frame=8, display=False, interframe_time=0.)"
   ]
  },
  {
   "cell_type": "code",
   "execution_count": null,
   "metadata": {
    "ExecuteTime": {
     "end_time": "2018-10-24T11:18:52.920858Z",
     "start_time": "2018-10-24T11:18:51.395Z"
    },
    "scrolled": true
   },
   "outputs": [],
   "source": [
    "dyn_test(N_frame=8, display=True, interframe_time=0.)"
   ]
  },
  {
   "cell_type": "code",
   "execution_count": null,
   "metadata": {},
   "outputs": [],
   "source": []
  },
  {
   "cell_type": "code",
   "execution_count": null,
   "metadata": {},
   "outputs": [],
   "source": []
  },
  {
   "cell_type": "code",
   "execution_count": null,
   "metadata": {},
   "outputs": [],
   "source": []
  },
  {
   "cell_type": "code",
   "execution_count": null,
   "metadata": {},
   "outputs": [],
   "source": []
  },
  {
   "cell_type": "code",
   "execution_count": null,
   "metadata": {},
   "outputs": [],
   "source": []
  },
  {
   "cell_type": "code",
   "execution_count": null,
   "metadata": {},
   "outputs": [],
   "source": []
  },
  {
   "cell_type": "code",
   "execution_count": null,
   "metadata": {},
   "outputs": [],
   "source": []
  },
  {
   "cell_type": "code",
   "execution_count": null,
   "metadata": {},
   "outputs": [],
   "source": []
  },
  {
   "cell_type": "code",
   "execution_count": null,
   "metadata": {},
   "outputs": [],
   "source": []
  },
  {
   "cell_type": "code",
   "execution_count": null,
   "metadata": {},
   "outputs": [],
   "source": []
  },
  {
   "cell_type": "code",
   "execution_count": null,
   "metadata": {},
   "outputs": [],
   "source": []
  },
  {
   "cell_type": "code",
   "execution_count": null,
   "metadata": {},
   "outputs": [],
   "source": []
  },
  {
   "cell_type": "code",
   "execution_count": null,
   "metadata": {},
   "outputs": [],
   "source": []
  },
  {
   "cell_type": "code",
   "execution_count": null,
   "metadata": {},
   "outputs": [],
   "source": []
  },
  {
   "cell_type": "code",
   "execution_count": null,
   "metadata": {},
   "outputs": [],
   "source": []
  },
  {
   "cell_type": "code",
   "execution_count": null,
   "metadata": {},
   "outputs": [],
   "source": []
  },
  {
   "cell_type": "code",
   "execution_count": null,
   "metadata": {},
   "outputs": [],
   "source": []
  },
  {
   "cell_type": "code",
   "execution_count": null,
   "metadata": {},
   "outputs": [],
   "source": []
  },
  {
   "cell_type": "code",
   "execution_count": null,
   "metadata": {},
   "outputs": [],
   "source": []
  },
  {
   "cell_type": "code",
   "execution_count": null,
   "metadata": {},
   "outputs": [],
   "source": []
  },
  {
   "cell_type": "code",
   "execution_count": null,
   "metadata": {},
   "outputs": [],
   "source": []
  },
  {
   "cell_type": "code",
   "execution_count": null,
   "metadata": {},
   "outputs": [],
   "source": []
  },
  {
   "cell_type": "code",
   "execution_count": null,
   "metadata": {},
   "outputs": [],
   "source": []
  },
  {
   "cell_type": "code",
   "execution_count": null,
   "metadata": {},
   "outputs": [],
   "source": []
  },
  {
   "cell_type": "code",
   "execution_count": null,
   "metadata": {},
   "outputs": [],
   "source": []
  },
  {
   "cell_type": "code",
   "execution_count": null,
   "metadata": {},
   "outputs": [],
   "source": []
  },
  {
   "cell_type": "code",
   "execution_count": null,
   "metadata": {},
   "outputs": [],
   "source": []
  },
  {
   "cell_type": "code",
   "execution_count": null,
   "metadata": {},
   "outputs": [],
   "source": []
  },
  {
   "cell_type": "code",
   "execution_count": null,
   "metadata": {},
   "outputs": [],
   "source": []
  },
  {
   "cell_type": "code",
   "execution_count": null,
   "metadata": {},
   "outputs": [],
   "source": []
  },
  {
   "cell_type": "code",
   "execution_count": null,
   "metadata": {},
   "outputs": [],
   "source": []
  },
  {
   "cell_type": "code",
   "execution_count": null,
   "metadata": {},
   "outputs": [],
   "source": []
  },
  {
   "cell_type": "code",
   "execution_count": null,
   "metadata": {},
   "outputs": [],
   "source": []
  },
  {
   "cell_type": "code",
   "execution_count": null,
   "metadata": {},
   "outputs": [],
   "source": []
  },
  {
   "cell_type": "code",
   "execution_count": null,
   "metadata": {},
   "outputs": [],
   "source": []
  },
  {
   "cell_type": "code",
   "execution_count": null,
   "metadata": {},
   "outputs": [],
   "source": []
  }
 ],
 "metadata": {
  "kernel_info": {
   "name": "python3"
  },
  "kernelspec": {
   "display_name": "Python 3",
   "language": "python",
   "name": "python3"
  },
  "language_info": {
   "codemirror_mode": {
    "name": "ipython",
    "version": 3
   },
   "file_extension": ".py",
   "mimetype": "text/x-python",
   "name": "python",
   "nbconvert_exporter": "python",
   "pygments_lexer": "ipython3",
   "version": "3.6.5"
  },
  "nteract": {
   "version": "0.8.4"
  },
  "toc": {
   "base_numbering": 1,
   "nav_menu": {},
   "number_sections": true,
   "sideBar": true,
   "skip_h1_title": false,
   "title_cell": "Table of Contents",
   "title_sidebar": "Contents",
   "toc_cell": false,
   "toc_position": {
    "height": "calc(100% - 180px)",
    "left": "10px",
    "top": "150px",
    "width": "165px"
   },
   "toc_section_display": "block",
   "toc_window_display": false
  }
 },
 "nbformat": 4,
 "nbformat_minor": 2
}
