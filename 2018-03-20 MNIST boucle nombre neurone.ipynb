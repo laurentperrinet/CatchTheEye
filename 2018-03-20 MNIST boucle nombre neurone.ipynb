{
 "cells": [
  {
   "cell_type": "code",
   "execution_count": 1,
   "metadata": {
    "ExecuteTime": {
     "end_time": "2018-05-28T11:45:50.889337Z",
     "start_time": "2018-05-28T11:45:50.877268Z"
    }
   },
   "outputs": [],
   "source": [
    "%load_ext autoreload\n",
    "%autoreload 2"
   ]
  },
  {
   "cell_type": "markdown",
   "metadata": {},
   "source": [
    "# En utilisant une boucle"
   ]
  },
  {
   "cell_type": "code",
   "execution_count": 2,
   "metadata": {
    "ExecuteTime": {
     "end_time": "2018-05-28T11:45:50.960535Z",
     "start_time": "2018-05-28T11:45:50.891210Z"
    }
   },
   "outputs": [
    {
     "name": "stdout",
     "output_type": "stream",
     "text": [
      "scanning over dimensions [4, 10, 21, 46, 100, 215, 464]\n"
     ]
    }
   ],
   "source": [
    "import numpy as np \n",
    "rho = 10**(1/3.)\n",
    "dimensions = [int(k) for k in rho**np.arange(2, 9)]\n",
    "print('scanning over dimensions', dimensions)"
   ]
  },
  {
   "cell_type": "code",
   "execution_count": 3,
   "metadata": {
    "ExecuteTime": {
     "end_time": "2018-05-28T21:34:30.985589Z",
     "start_time": "2018-05-28T11:45:50.962375Z"
    }
   },
   "outputs": [
    {
     "name": "stdout",
     "output_type": "stream",
     "text": [
      "scanning over dimensions [4, 10, 21, 46, 100, 215, 464]\n",
      "La deuxième couche de neurone comporte 4 neurones\n",
      "Test set: Final Accuracy: 94.820%\n",
      "La deuxième couche de neurone comporte 10 neurones\n",
      "Test set: Final Accuracy: 98.240%\n",
      "La deuxième couche de neurone comporte 21 neurones\n",
      "Test set: Final Accuracy: 98.930%\n",
      "La deuxième couche de neurone comporte 46 neurones\n",
      "Test set: Final Accuracy: 99.120%\n",
      "La deuxième couche de neurone comporte 100 neurones\n",
      "Test set: Final Accuracy: 99.190%\n",
      "La deuxième couche de neurone comporte 215 neurones\n",
      "Test set: Final Accuracy: 99.270%\n",
      "La deuxième couche de neurone comporte 464 neurones\n",
      "Test set: Final Accuracy: 99.290%\n"
     ]
    }
   ],
   "source": [
    "import numpy as np \n",
    "rho = 10**(1/3.)\n",
    "dimensions = [int(k) for k in rho**np.arange(2, 9)]\n",
    "print('scanning over dimensions', dimensions)\n",
    "\n",
    "from mnist import init, ML\n",
    "results = []\n",
    "for dimension in dimensions:\n",
    "    args = init(dimension=dimension, log_interval=0)\n",
    "    ml = ML(args)\n",
    "    print ('La deuxième couche de neurone comporte', dimension, 'neurones')\n",
    "    ml.main()\n",
    "    Accuracy = ml.protocol()\n",
    "    results.append(Accuracy)\n",
    "    "
   ]
  },
  {
   "cell_type": "code",
   "execution_count": 4,
   "metadata": {
    "ExecuteTime": {
     "end_time": "2018-05-28T21:34:31.010569Z",
     "start_time": "2018-05-28T21:34:30.987468Z"
    }
   },
   "outputs": [
    {
     "data": {
      "text/plain": [
       "[0.9489, 0.98, 0.9901, 0.9904, 0.9923, 0.9932, 0.9936]"
      ]
     },
     "execution_count": 4,
     "metadata": {},
     "output_type": "execute_result"
    }
   ],
   "source": [
    "results"
   ]
  },
  {
   "cell_type": "code",
   "execution_count": 5,
   "metadata": {
    "ExecuteTime": {
     "end_time": "2018-05-28T21:34:31.258795Z",
     "start_time": "2018-05-28T21:34:31.012306Z"
    }
   },
   "outputs": [
    {
     "data": {
      "image/png": "[encoded data removed]",
      "text/plain": [
       "<Figure size 432x288 with 1 Axes>"
      ]
     },
     "metadata": {},
     "output_type": "display_data"
    }
   ],
   "source": [
    "%matplotlib inline\n",
    "import matplotlib.pyplot as plt\n",
    "\n",
    "#show the image\n",
    "plt.plot(dimensions, results)\n",
    "plt.show() "
   ]
  },
  {
   "cell_type": "markdown",
   "metadata": {
    "scrolled": true
   },
   "source": [
    "``/!\\`` : over-fitting?\n",
    "\n",
    "\n",
    "# Test avec différents nombre de neurones de la seconde couche du réseau"
   ]
  },
  {
   "cell_type": "code",
   "execution_count": 6,
   "metadata": {
    "ExecuteTime": {
     "end_time": "2018-05-28T22:06:15.194219Z",
     "start_time": "2018-05-28T21:34:31.260268Z"
    },
    "scrolled": true
   },
   "outputs": [
    {
     "name": "stdout",
     "output_type": "stream",
     "text": [
      "cuda? False\n",
      "Test set: Final Accuracy: 98.820%\n"
     ]
    }
   ],
   "source": [
    "%run mnist.py --log-interval 0 --verbose --dimension 20"
   ]
  },
  {
   "cell_type": "code",
   "execution_count": 7,
   "metadata": {
    "ExecuteTime": {
     "end_time": "2018-05-28T22:38:08.437262Z",
     "start_time": "2018-05-28T22:06:15.196114Z"
    },
    "scrolled": true
   },
   "outputs": [
    {
     "name": "stdout",
     "output_type": "stream",
     "text": [
      "Test set: Final Accuracy: 99.110%\n"
     ]
    }
   ],
   "source": [
    "%run mnist.py --log-interval 0 --dimension 50"
   ]
  },
  {
   "cell_type": "code",
   "execution_count": 8,
   "metadata": {
    "ExecuteTime": {
     "end_time": "2018-05-28T23:10:10.308576Z",
     "start_time": "2018-05-28T22:38:08.439002Z"
    },
    "scrolled": true
   },
   "outputs": [
    {
     "name": "stdout",
     "output_type": "stream",
     "text": [
      "Test set: Final Accuracy: 99.190%\n"
     ]
    }
   ],
   "source": [
    "%run mnist.py --log-interval 0 --dimension 100"
   ]
  },
  {
   "cell_type": "code",
   "execution_count": 9,
   "metadata": {
    "ExecuteTime": {
     "end_time": "2018-05-28T23:42:33.448682Z",
     "start_time": "2018-05-28T23:10:10.310593Z"
    },
    "scrolled": false
   },
   "outputs": [
    {
     "name": "stdout",
     "output_type": "stream",
     "text": [
      "Test set: Final Accuracy: 99.350%\n"
     ]
    }
   ],
   "source": [
    "%run mnist.py --log-interval 0 --dimension 200"
   ]
  },
  {
   "cell_type": "code",
   "execution_count": 10,
   "metadata": {
    "ExecuteTime": {
     "end_time": "2018-05-29T00:16:55.612579Z",
     "start_time": "2018-05-28T23:42:33.450824Z"
    },
    "scrolled": false
   },
   "outputs": [
    {
     "name": "stdout",
     "output_type": "stream",
     "text": [
      "Test set: Final Accuracy: 99.330%\n"
     ]
    }
   ],
   "source": [
    "%run mnist.py --log-interval 0 --dimension 500"
   ]
  }
 ],
 "metadata": {
  "kernelspec": {
   "display_name": "Python 3",
   "language": "python",
   "name": "python3"
  },
  "language_info": {
   "codemirror_mode": {
    "name": "ipython",
    "version": 3
   },
   "file_extension": ".py",
   "mimetype": "text/x-python",
   "name": "python",
   "nbconvert_exporter": "python",
   "pygments_lexer": "ipython3",
   "version": "3.6.5"
  },
  "toc": {
   "base_numbering": 1,
   "nav_menu": {},
   "number_sections": true,
   "sideBar": true,
   "skip_h1_title": false,
   "title_cell": "Table of Contents",
   "title_sidebar": "Contents",
   "toc_cell": false,
   "toc_position": {},
   "toc_section_display": true,
   "toc_window_display": false
  }
 },
 "nbformat": 4,
 "nbformat_minor": 2
}
