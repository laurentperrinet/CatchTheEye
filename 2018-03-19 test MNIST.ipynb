{
 "cells": [
  {
   "cell_type": "markdown",
   "metadata": {},
   "source": [
    "# Training settings"
   ]
  },
  {
   "cell_type": "code",
   "execution_count": 1,
   "metadata": {
    "ExecuteTime": {
     "end_time": "2018-05-25T07:49:18.262979Z",
     "start_time": "2018-05-25T07:48:58.589241Z"
    },
    "scrolled": false
   },
   "outputs": [
    {
     "name": "stdout",
     "output_type": "stream",
     "text": [
      "cuda? False\n",
      "Train Epoch: 1 \n",
      "[0/60000 (0%)]\tLoss: 2.376790\n"
     ]
    },
    {
     "name": "stderr",
     "output_type": "stream",
     "text": [
      "/Users/laurentperrinet/research/Shared/2018-03-19_StageL3/CatchTheEye/mnist.py:82: UserWarning: invalid index of a 0-dim tensor. This will be an error in PyTorch 0.5. Use tensor.item() to convert a 0-dim tensor to a Python number\n",
      "  100. * batch_idx / len(self.d.train_loader), loss.data[0]))\n"
     ]
    },
    {
     "name": "stdout",
     "output_type": "stream",
     "text": [
      "[6400/60000 (11%)]\tLoss: 2.004478\n",
      "[12800/60000 (21%)]\tLoss: 1.205587\n",
      "[19200/60000 (32%)]\tLoss: 0.923609\n",
      "[25600/60000 (43%)]\tLoss: 0.561749\n",
      "[32000/60000 (53%)]\tLoss: 0.654465\n",
      "[38400/60000 (64%)]\tLoss: 0.488682\n",
      "[44800/60000 (75%)]\tLoss: 0.363812\n",
      "[51200/60000 (85%)]\tLoss: 0.522855\n",
      "[57600/60000 (96%)]\tLoss: 0.555950\n"
     ]
    },
    {
     "name": "stderr",
     "output_type": "stream",
     "text": [
      "/Users/laurentperrinet/research/Shared/2018-03-19_StageL3/CatchTheEye/mnist.py:94: UserWarning: invalid index of a 0-dim tensor. This will be an error in PyTorch 0.5. Use tensor.item() to convert a 0-dim tensor to a Python number\n",
      "  test_loss += F.nll_loss(output, target, size_average=False).data[0] # sum up batch loss\n"
     ]
    },
    {
     "name": "stdout",
     "output_type": "stream",
     "text": [
      "\n",
      "Test set: Average loss: 0.2058, Accuracy: 9420/10000 (94%)\n",
      "\n",
      "correct 9420\n",
      "Accuracy 0.942\n",
      "Test set: Final Accuracy: 94.200%\n"
     ]
    }
   ],
   "source": [
    "%run mnist.py --epochs 1 --log-interval 100 "
   ]
  },
  {
   "cell_type": "code",
   "execution_count": 2,
   "metadata": {
    "ExecuteTime": {
     "end_time": "2018-05-25T07:49:18.268230Z",
     "start_time": "2018-05-25T07:49:18.264804Z"
    }
   },
   "outputs": [
    {
     "name": "stdout",
     "output_type": "stream",
     "text": [
      "Variable         Type              Data/Info\n",
      "--------------------------------------------\n",
      "Data             type              <class '__main__.Data'>\n",
      "F                module            <module 'torch.nn.functio<...>/torch/nn/functional.py'>\n",
      "ML               type              <class '__main__.ML'>\n",
      "Net              type              <class '__main__.Net'>\n",
      "Variable         VariableMeta      <class 'torch.autograd.variable.Variable'>\n",
      "argparse         module            <module 'argparse' from '<...>b/python3.6/argparse.py'>\n",
      "args             Namespace         Namespace(batch_size=64, <...>=1, test_batch_size=1000)\n",
      "autopep8         module            <module 'autopep8' from '<...>te-packages/autopep8.py'>\n",
      "datasets         module            <module 'torchvision.data<...>on/datasets/__init__.py'>\n",
      "json             module            <module 'json' from '/usr<...>hon3.6/json/__init__.py'>\n",
      "ml               ML                <__main__.ML object at 0x1139c4860>\n",
      "nn               module            <module 'torch.nn' from '<...>es/torch/nn/__init__.py'>\n",
      "optim            module            <module 'torch.optim' fro<...>torch/optim/__init__.py'>\n",
      "parser           ArgumentParser    ArgumentParser(prog='mnis<...>r='error', add_help=True)\n",
      "print_function   _Feature          _Feature((2, 6, 0, 'alpha<...>0, 0, 'alpha', 0), 65536)\n",
      "torch            module            <module 'torch' from '/us<...>kages/torch/__init__.py'>\n",
      "transforms       module            <module 'torchvision.tran<...>/transforms/__init__.py'>\n"
     ]
    }
   ],
   "source": [
    "%whos"
   ]
  },
  {
   "cell_type": "code",
   "execution_count": null,
   "metadata": {
    "ExecuteTime": {
     "start_time": "2018-05-25T07:48:58.575Z"
    },
    "scrolled": true
   },
   "outputs": [
    {
     "name": "stdout",
     "output_type": "stream",
     "text": [
      "cuda? False\n"
     ]
    }
   ],
   "source": [
    "%run mnist.py --epochs 10 --log-interval 0 "
   ]
  },
  {
   "cell_type": "code",
   "execution_count": null,
   "metadata": {
    "ExecuteTime": {
     "start_time": "2018-05-25T07:48:58.576Z"
    },
    "scrolled": true
   },
   "outputs": [],
   "source": [
    "%run mnist.py --epochs 10 --dimension 20 --log-interval 0 "
   ]
  },
  {
   "cell_type": "code",
   "execution_count": null,
   "metadata": {
    "ExecuteTime": {
     "start_time": "2018-05-25T07:48:58.577Z"
    }
   },
   "outputs": [],
   "source": [
    "%run mnist.py --epochs 10 --dimension 200 --log-interval 0 "
   ]
  }
 ],
 "metadata": {
  "kernelspec": {
   "display_name": "Python 3",
   "language": "python",
   "name": "python3"
  },
  "language_info": {
   "codemirror_mode": {
    "name": "ipython",
    "version": 3
   },
   "file_extension": ".py",
   "mimetype": "text/x-python",
   "name": "python",
   "nbconvert_exporter": "python",
   "pygments_lexer": "ipython3",
   "version": "3.6.5"
  },
  "toc": {
   "base_numbering": 1,
   "nav_menu": {},
   "number_sections": true,
   "sideBar": true,
   "skip_h1_title": false,
   "title_cell": "Table of Contents",
   "title_sidebar": "Contents",
   "toc_cell": false,
   "toc_position": {},
   "toc_section_display": true,
   "toc_window_display": false
  }
 },
 "nbformat": 4,
 "nbformat_minor": 2
}
