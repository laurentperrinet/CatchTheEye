{
 "cells": [
  {
   "cell_type": "code",
   "execution_count": 1,
   "metadata": {
    "ExecuteTime": {
     "end_time": "2018-05-25T11:17:03.720493Z",
     "start_time": "2018-05-25T11:17:03.707273Z"
    }
   },
   "outputs": [],
   "source": [
    "%load_ext autoreload\n",
    "%autoreload 2"
   ]
  },
  {
   "cell_type": "markdown",
   "metadata": {},
   "source": [
    "# Training settings"
   ]
  },
  {
   "cell_type": "code",
   "execution_count": 2,
   "metadata": {
    "ExecuteTime": {
     "end_time": "2018-05-25T11:17:27.468034Z",
     "start_time": "2018-05-25T11:17:03.722603Z"
    },
    "scrolled": false
   },
   "outputs": [
    {
     "name": "stdout",
     "output_type": "stream",
     "text": [
      "Train Epoch: 1 \n",
      "[0/60000 (0%)]\tLoss: 2.346646\n",
      "[6400/60000 (11%)]\tLoss: 2.196260\n",
      "[12800/60000 (21%)]\tLoss: 1.502101\n",
      "[19200/60000 (32%)]\tLoss: 1.028312\n",
      "[25600/60000 (43%)]\tLoss: 0.638079\n",
      "[32000/60000 (53%)]\tLoss: 0.827000\n",
      "[38400/60000 (64%)]\tLoss: 0.565631\n",
      "[44800/60000 (75%)]\tLoss: 0.665907\n",
      "[51200/60000 (85%)]\tLoss: 0.514348\n",
      "[57600/60000 (96%)]\tLoss: 0.593772\n",
      "\n",
      "Test set: Average loss: 0.2083, Accuracy: 9405/10000 (94%)\n",
      "\n",
      "Test set: Final Accuracy: 94.050%\n"
     ]
    }
   ],
   "source": [
    "%run mnist.py --epochs 1 --log-interval 100 "
   ]
  },
  {
   "cell_type": "code",
   "execution_count": 3,
   "metadata": {
    "ExecuteTime": {
     "end_time": "2018-05-25T11:17:51.564468Z",
     "start_time": "2018-05-25T11:17:27.470567Z"
    },
    "scrolled": false
   },
   "outputs": [
    {
     "name": "stdout",
     "output_type": "stream",
     "text": [
      "Train Epoch: 1 \n",
      "[0/60000 (0%)]\tLoss: 2.346646\n",
      "[6400/60000 (11%)]\tLoss: 2.196260\n",
      "[12800/60000 (21%)]\tLoss: 1.502101\n",
      "[19200/60000 (32%)]\tLoss: 1.028312\n",
      "[25600/60000 (43%)]\tLoss: 0.638079\n",
      "[32000/60000 (53%)]\tLoss: 0.827000\n",
      "[38400/60000 (64%)]\tLoss: 0.565631\n",
      "[44800/60000 (75%)]\tLoss: 0.665907\n",
      "[51200/60000 (85%)]\tLoss: 0.514348\n",
      "[57600/60000 (96%)]\tLoss: 0.593772\n",
      "\n",
      "Test set: Average loss: 0.2083, Accuracy: 9405/10000 (94%)\n",
      "\n",
      "Test set: Final Accuracy: 94.050%\n"
     ]
    }
   ],
   "source": [
    "%run mnist.py --epochs 1 --log-interval 100 "
   ]
  },
  {
   "cell_type": "code",
   "execution_count": 4,
   "metadata": {
    "ExecuteTime": {
     "end_time": "2018-05-25T11:17:51.585030Z",
     "start_time": "2018-05-25T11:17:51.567118Z"
    }
   },
   "outputs": [
    {
     "name": "stdout",
     "output_type": "stream",
     "text": [
      "Variable         Type         Data/Info\n",
      "---------------------------------------\n",
      "Data             type         <class '__main__.Data'>\n",
      "F                module       <module 'torch.nn.functio<...>/torch/nn/functional.py'>\n",
      "ML               type         <class '__main__.ML'>\n",
      "Net              type         <class '__main__.Net'>\n",
      "args             Namespace    Namespace(batch_size=64, <...>size=1000, verbose=False)\n",
      "autopep8         module       <module 'autopep8' from '<...>te-packages/autopep8.py'>\n",
      "datasets         module       <module 'torchvision.data<...>on/datasets/__init__.py'>\n",
      "init             function     <function init at 0x1098c2bf8>\n",
      "init_cdl         function     <function init_cdl at 0x1098c2378>\n",
      "json             module       <module 'json' from '/usr<...>hon3.6/json/__init__.py'>\n",
      "ml               ML           <__main__.ML object at 0x1098a80f0>\n",
      "mp               module       <module 'torch.multiproce<...>iprocessing/__init__.py'>\n",
      "nn               module       <module 'torch.nn' from '<...>es/torch/nn/__init__.py'>\n",
      "optim            module       <module 'torch.optim' fro<...>torch/optim/__init__.py'>\n",
      "print_function   _Feature     _Feature((2, 6, 0, 'alpha<...>0, 0, 'alpha', 0), 65536)\n",
      "torch            module       <module 'torch' from '/us<...>kages/torch/__init__.py'>\n",
      "transforms       module       <module 'torchvision.tran<...>/transforms/__init__.py'>\n"
     ]
    }
   ],
   "source": [
    "%whos"
   ]
  },
  {
   "cell_type": "code",
   "execution_count": 5,
   "metadata": {
    "ExecuteTime": {
     "end_time": "2018-05-25T11:55:38.818658Z",
     "start_time": "2018-05-25T11:17:51.587181Z"
    },
    "scrolled": true
   },
   "outputs": [
    {
     "name": "stdout",
     "output_type": "stream",
     "text": [
      "Test set: Final Accuracy: 98.990%\n"
     ]
    }
   ],
   "source": [
    "%run mnist.py --epochs 10 --log-interval 0 "
   ]
  },
  {
   "cell_type": "code",
   "execution_count": 6,
   "metadata": {
    "ExecuteTime": {
     "end_time": "2018-05-25T12:27:58.154551Z",
     "start_time": "2018-05-25T11:55:38.820675Z"
    },
    "scrolled": true
   },
   "outputs": [
    {
     "name": "stdout",
     "output_type": "stream",
     "text": [
      "Test set: Final Accuracy: 98.820%\n"
     ]
    }
   ],
   "source": [
    "%run mnist.py --epochs 10 --dimension 20 --log-interval 0 "
   ]
  },
  {
   "cell_type": "code",
   "execution_count": 7,
   "metadata": {
    "ExecuteTime": {
     "end_time": "2018-05-25T13:03:31.745719Z",
     "start_time": "2018-05-25T12:27:58.156357Z"
    }
   },
   "outputs": [
    {
     "name": "stdout",
     "output_type": "stream",
     "text": [
      "Test set: Final Accuracy: 99.190%\n"
     ]
    }
   ],
   "source": [
    "%run mnist.py --epochs 10 --dimension 200 --log-interval 0 "
   ]
  },
  {
   "cell_type": "code",
   "execution_count": null,
   "metadata": {},
   "outputs": [],
   "source": []
  }
 ],
 "metadata": {
  "kernelspec": {
   "display_name": "Python 3",
   "language": "python",
   "name": "python3"
  },
  "language_info": {
   "codemirror_mode": {
    "name": "ipython",
    "version": 3
   },
   "file_extension": ".py",
   "mimetype": "text/x-python",
   "name": "python",
   "nbconvert_exporter": "python",
   "pygments_lexer": "ipython3",
   "version": "3.6.5"
  },
  "toc": {
   "base_numbering": 1,
   "nav_menu": {},
   "number_sections": true,
   "sideBar": true,
   "skip_h1_title": false,
   "title_cell": "Table of Contents",
   "title_sidebar": "Contents",
   "toc_cell": false,
   "toc_position": {},
   "toc_section_display": true,
   "toc_window_display": false
  }
 },
 "nbformat": 4,
 "nbformat_minor": 2
}
