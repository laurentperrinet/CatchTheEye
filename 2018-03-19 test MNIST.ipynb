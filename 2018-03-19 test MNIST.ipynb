{
 "cells": [
  {
   "cell_type": "markdown",
   "metadata": {},
   "source": [
    "# Training settings"
   ]
  },
  {
   "cell_type": "code",
   "execution_count": 1,
   "metadata": {
    "ExecuteTime": {
     "end_time": "2018-05-24T14:02:14.172431Z",
     "start_time": "2018-05-24T14:01:52.811092Z"
    },
    "scrolled": false
   },
   "outputs": [
    {
     "name": "stdout",
     "output_type": "stream",
     "text": [
      "cuda? False\n"
     ]
    },
    {
     "name": "stderr",
     "output_type": "stream",
     "text": [
      "/Users/laurentperrinet/research/Shared/2018-03-19_StageL3/CatchTheEye/mnist.py:106: UserWarning: volatile was removed and now has no effect. Use `with torch.no_grad():` instead.\n",
      "  data, target = Variable(data, volatile=True), Variable(target)\n",
      "/Users/laurentperrinet/research/Shared/2018-03-19_StageL3/CatchTheEye/mnist.py:108: UserWarning: invalid index of a 0-dim tensor. This will be an error in PyTorch 0.5. Use tensor.item() to convert a 0-dim tensor to a Python number\n",
      "  test_loss += F.nll_loss(output, target, size_average=False).data[0] # sum up batch loss\n"
     ]
    },
    {
     "name": "stdout",
     "output_type": "stream",
     "text": [
      "Test set: Final Accuracy: 0.000%\n",
      "Le programme a mis 21.02825093269348 secondes à s'exécuter.\n"
     ]
    }
   ],
   "source": [
    "%run mnist.py --epochs 1 --log-interval 0 "
   ]
  },
  {
   "cell_type": "code",
   "execution_count": 2,
   "metadata": {
    "ExecuteTime": {
     "end_time": "2018-05-24T14:02:14.182968Z",
     "start_time": "2018-05-24T14:02:14.177920Z"
    }
   },
   "outputs": [
    {
     "name": "stdout",
     "output_type": "stream",
     "text": [
      "Variable         Type              Data/Info\n",
      "--------------------------------------------\n",
      "F                module            <module 'torch.nn.functio<...>/torch/nn/functional.py'>\n",
      "Net              type              <class '__main__.Net'>\n",
      "Variable         VariableMeta      <class 'torch.autograd.variable.Variable'>\n",
      "argparse         module            <module 'argparse' from '<...>b/python3.6/argparse.py'>\n",
      "args             Namespace         Namespace(batch_size=64, <...>=1, test_batch_size=1000)\n",
      "autopep8         module            <module 'autopep8' from '<...>te-packages/autopep8.py'>\n",
      "datasets         module            <module 'torchvision.data<...>on/datasets/__init__.py'>\n",
      "json             module            <module 'json' from '/usr<...>hon3.6/json/__init__.py'>\n",
      "kwargs           dict              n=0\n",
      "main             function          <function main at 0x10d530840>\n",
      "model            Net               Net(\\n  (conv1): Conv2d(1<...>eatures=10, bias=True)\\n)\n",
      "nn               module            <module 'torch.nn' from '<...>es/torch/nn/__init__.py'>\n",
      "np               module            <module 'numpy' from '/us<...>kages/numpy/__init__.py'>\n",
      "optim            module            <module 'torch.optim' fro<...>torch/optim/__init__.py'>\n",
      "optimizer        SGD               SGD (\\nParameter Group 0\\<...>e\\n    weight_decay: 0\\n)\n",
      "parser           ArgumentParser    ArgumentParser(prog='mnis<...>r='error', add_help=True)\n",
      "print_function   _Feature          _Feature((2, 6, 0, 'alpha<...>0, 0, 'alpha', 0), 65536)\n",
      "protocol         function          <function protocol at 0x10d5307b8>\n",
      "t0               float             1527170513.14045\n",
      "t1               float             1527170534.168701\n",
      "test             function          <function test at 0x10d530730>\n",
      "test_loader      DataLoader        <torch.utils.data.dataloa<...>er object at 0x10d522ba8>\n",
      "time             module            <module 'time' (built-in)>\n",
      "torch            module            <module 'torch' from '/us<...>kages/torch/__init__.py'>\n",
      "train            function          <function train at 0x10d5306a8>\n",
      "train_loader     DataLoader        <torch.utils.data.dataloa<...>er object at 0x10d510978>\n",
      "transforms       module            <module 'torchvision.tran<...>/transforms/__init__.py'>\n"
     ]
    }
   ],
   "source": [
    "%whos"
   ]
  },
  {
   "cell_type": "code",
   "execution_count": 3,
   "metadata": {
    "ExecuteTime": {
     "end_time": "2018-05-24T14:05:52.827051Z",
     "start_time": "2018-05-24T14:02:14.189511Z"
    }
   },
   "outputs": [
    {
     "name": "stdout",
     "output_type": "stream",
     "text": [
      "cuda? False\n"
     ]
    },
    {
     "name": "stderr",
     "output_type": "stream",
     "text": [
      "/Users/laurentperrinet/research/Shared/2018-03-19_StageL3/CatchTheEye/mnist.py:106: UserWarning: volatile was removed and now has no effect. Use `with torch.no_grad():` instead.\n",
      "  data, target = Variable(data, volatile=True), Variable(target)\n",
      "/Users/laurentperrinet/research/Shared/2018-03-19_StageL3/CatchTheEye/mnist.py:108: UserWarning: invalid index of a 0-dim tensor. This will be an error in PyTorch 0.5. Use tensor.item() to convert a 0-dim tensor to a Python number\n",
      "  test_loss += F.nll_loss(output, target, size_average=False).data[0] # sum up batch loss\n"
     ]
    },
    {
     "name": "stdout",
     "output_type": "stream",
     "text": [
      "Test set: Final Accuracy: 0.000%\n",
      "Le programme a mis 218.5966248512268 secondes à s'exécuter.\n"
     ]
    }
   ],
   "source": [
    "%run mnist.py --epochs 10 --log-interval 0 "
   ]
  },
  {
   "cell_type": "code",
   "execution_count": 4,
   "metadata": {
    "ExecuteTime": {
     "end_time": "2018-05-24T14:09:47.935361Z",
     "start_time": "2018-05-24T14:05:52.829798Z"
    }
   },
   "outputs": [
    {
     "name": "stdout",
     "output_type": "stream",
     "text": [
      "cuda? False\n"
     ]
    },
    {
     "name": "stderr",
     "output_type": "stream",
     "text": [
      "/Users/laurentperrinet/research/Shared/2018-03-19_StageL3/CatchTheEye/mnist.py:106: UserWarning: volatile was removed and now has no effect. Use `with torch.no_grad():` instead.\n",
      "  data, target = Variable(data, volatile=True), Variable(target)\n",
      "/Users/laurentperrinet/research/Shared/2018-03-19_StageL3/CatchTheEye/mnist.py:108: UserWarning: invalid index of a 0-dim tensor. This will be an error in PyTorch 0.5. Use tensor.item() to convert a 0-dim tensor to a Python number\n",
      "  test_loss += F.nll_loss(output, target, size_average=False).data[0] # sum up batch loss\n"
     ]
    },
    {
     "name": "stdout",
     "output_type": "stream",
     "text": [
      "Test set: Final Accuracy: 0.000%\n",
      "Le programme a mis 235.05732989311218 secondes à s'exécuter.\n"
     ]
    }
   ],
   "source": [
    "%run mnist.py --epochs 10 --dimension 20 --log-interval 0 "
   ]
  },
  {
   "cell_type": "code",
   "execution_count": 5,
   "metadata": {
    "ExecuteTime": {
     "end_time": "2018-05-24T14:13:25.546956Z",
     "start_time": "2018-05-24T14:09:47.937478Z"
    }
   },
   "outputs": [
    {
     "name": "stdout",
     "output_type": "stream",
     "text": [
      "cuda? False\n"
     ]
    },
    {
     "name": "stderr",
     "output_type": "stream",
     "text": [
      "/Users/laurentperrinet/research/Shared/2018-03-19_StageL3/CatchTheEye/mnist.py:107: UserWarning: volatile was removed and now has no effect. Use `with torch.no_grad():` instead.\n",
      "  data, target = Variable(data, volatile=True), Variable(target)\n",
      "/Users/laurentperrinet/research/Shared/2018-03-19_StageL3/CatchTheEye/mnist.py:109: UserWarning: invalid index of a 0-dim tensor. This will be an error in PyTorch 0.5. Use tensor.item() to convert a 0-dim tensor to a Python number\n",
      "  test_loss += F.nll_loss(output, target, size_average=False).data[0] # sum up batch loss\n"
     ]
    },
    {
     "name": "stdout",
     "output_type": "stream",
     "text": [
      "Test set: Final Accuracy: 0.000%\n",
      "Le programme a mis 217.5706489086151 secondes à s'exécuter.\n"
     ]
    }
   ],
   "source": [
    "%run mnist.py --epochs 10 --dimension 200 --log-interval 0 "
   ]
  }
 ],
 "metadata": {
  "kernelspec": {
   "display_name": "Python 3",
   "language": "python",
   "name": "python3"
  },
  "language_info": {
   "codemirror_mode": {
    "name": "ipython",
    "version": 3
   },
   "file_extension": ".py",
   "mimetype": "text/x-python",
   "name": "python",
   "nbconvert_exporter": "python",
   "pygments_lexer": "ipython3",
   "version": "3.6.5"
  },
  "toc": {
   "base_numbering": 1,
   "nav_menu": {},
   "number_sections": true,
   "sideBar": true,
   "skip_h1_title": false,
   "title_cell": "Table of Contents",
   "title_sidebar": "Contents",
   "toc_cell": false,
   "toc_position": {},
   "toc_section_display": true,
   "toc_window_display": false
  }
 },
 "nbformat": 4,
 "nbformat_minor": 2
}
