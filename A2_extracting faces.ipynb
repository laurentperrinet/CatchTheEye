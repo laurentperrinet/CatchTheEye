{
 "cells": [
  {
   "cell_type": "code",
   "execution_count": 1,
   "metadata": {
    "ExecuteTime": {
     "end_time": "2018-10-25T08:54:14.288032Z",
     "start_time": "2018-10-25T08:54:14.263316Z"
    }
   },
   "outputs": [],
   "source": [
    "%load_ext autoreload\n",
    "%autoreload 2"
   ]
  },
  {
   "cell_type": "raw",
   "metadata": {
    "ExecuteTime": {
     "end_time": "2018-10-25T08:54:16.797843Z",
     "start_time": "2018-10-25T08:54:14.291222Z"
    }
   },
   "source": [
    "%load_ext version_information\n",
    "%version_information numpy, dlib, matplotlib, imageio, gaze, glob"
   ]
  },
  {
   "cell_type": "code",
   "execution_count": 2,
   "metadata": {
    "ExecuteTime": {
     "end_time": "2018-10-25T08:54:17.180196Z",
     "start_time": "2018-10-25T08:54:16.803121Z"
    }
   },
   "outputs": [],
   "source": [
    "import numpy as np\n",
    "%matplotlib inline\n",
    "import matplotlib.pyplot as plt"
   ]
  },
  {
   "cell_type": "markdown",
   "metadata": {},
   "source": [
    "# detecting and cropping faces"
   ]
  },
  {
   "cell_type": "code",
   "execution_count": 3,
   "metadata": {
    "ExecuteTime": {
     "end_time": "2018-10-25T08:54:17.213878Z",
     "start_time": "2018-10-25T08:54:17.184930Z"
    }
   },
   "outputs": [],
   "source": [
    "import os\n",
    "import glob"
   ]
  },
  {
   "cell_type": "code",
   "execution_count": 4,
   "metadata": {
    "ExecuteTime": {
     "end_time": "2018-10-25T08:54:17.288006Z",
     "start_time": "2018-10-25T08:54:17.216373Z"
    }
   },
   "outputs": [
    {
     "name": "stdout",
     "output_type": "stream",
     "text": [
      "Found 4501 sample images;  3601  to train 900 to test\n"
     ]
    }
   ],
   "source": [
    "from gaze import init, Data\n",
    "\n",
    "args = init(batch_size=8, no_cuda=True, verbose=1,\n",
    "            dataset_faces_folder='_cache_dataset_faces',\n",
    "            dataset_folder='../dataset')\n",
    "d = Data(args)"
   ]
  },
  {
   "cell_type": "code",
   "execution_count": 5,
   "metadata": {
    "ExecuteTime": {
     "end_time": "2018-10-25T08:54:17.312721Z",
     "start_time": "2018-10-25T08:54:17.289948Z"
    }
   },
   "outputs": [
    {
     "data": {
      "text/plain": [
       "Namespace(N_cv=20, activation='relu', batch_size=8, conv1_bn_momentum=0.5, conv1_dim=9, conv1_kernel_size=8, conv2_bn_momentum=0.5, conv2_dim=36, conv2_kernel_size=12, crop=75, dataset_faces_folder='_cache_dataset_faces', dataset_folder='../dataset', dataset_test='dataset_test', dataset_train='dataset_train', dense_bn_momentum=0.5, dimension=30, do_adam=False, epochs=40, fullsize=75, log_interval=0, lr=0.01, mean=0.4, momentum=0.05, no_cuda=True, num_processes=1, seed=42, size=40, size_test_set=0.2, std=0.3, stride1=2, stride2=4, test_batch_size=16, verbose=1)"
      ]
     },
     "execution_count": 5,
     "metadata": {},
     "output_type": "execute_result"
    }
   ],
   "source": [
    "args"
   ]
  },
  {
   "cell_type": "code",
   "execution_count": 6,
   "metadata": {
    "ExecuteTime": {
     "end_time": "2018-10-25T08:54:17.352820Z",
     "start_time": "2018-10-25T08:54:17.314908Z"
    },
    "scrolled": true
   },
   "outputs": [],
   "source": [
    "n_show = 10\n",
    "for target in d.classes:\n",
    "    for filename in glob.glob(os.path.join(args.dataset_folder, target) + '/*.png')[-n_show:]:\n",
    "        print(filename)"
   ]
  },
  {
   "cell_type": "code",
   "execution_count": 7,
   "metadata": {
    "ExecuteTime": {
     "end_time": "2018-10-25T08:54:18.000984Z",
     "start_time": "2018-10-25T08:54:17.354887Z"
    },
    "scrolled": true
   },
   "outputs": [],
   "source": [
    "import imageio\n",
    "import time\n",
    "from dev.LeCheapEyeTracker_copy.EyeTrackerServer import FaceExtractor\n",
    "#from gaze import FaceExtractor #/!\\ ImportError\n",
    "FE = FaceExtractor()\n",
    "timings = []\n",
    "for target in d.classes:\n",
    "    for filename in glob.glob(os.path.join(args.dataset_folder, target, '*.png')):\n",
    "        filename_face = filename.replace(args.dataset_folder, args.dataset_faces_folder)\n",
    "        if not os.path.exists(filename_face):\n",
    "            print('Extracting face in ', filename_face)\n",
    "            frame = imageio.imread(filename)\n",
    "            t0 = time.time()\n",
    "            #t, b, l, r = FE.get_bbox(frame)\n",
    "            face = FE.face_extractor(frame)#, bbox=(t, b, l, r))\n",
    "            \n",
    "            if np.all(face) != None :\n",
    "\n",
    "                t1 = time.time()\n",
    "                timings.append(t1-t0)\n",
    "                if False:\n",
    "                    # Create figure and axes\n",
    "                    fig, ax = plt.subplots(figsize=(15, 8))\n",
    "\n",
    "                    # Display the image\n",
    "                    ax.imshow(frame)\n",
    "\n",
    "                    # Create a Rectangle patch\n",
    "                    from matplotlib import patches\n",
    "                    rect = patches.Rectangle((t, l), r-l, t-b, linewidth=1, edgecolor='r', facecolor='none')\n",
    "\n",
    "                    # Add the patch to the Axes\n",
    "                    ax.add_patch(rect)\n",
    "                    plt.show()\n",
    "\n",
    "                if True:\n",
    "                    # Create figure and axes\n",
    "                    fig, ax = plt.subplots(figsize=(15, 8))\n",
    "\n",
    "                    # Display the cropped image\n",
    "                    ax.imshow(face)\n",
    "\n",
    "                    plt.show()                \n",
    "                print('face.shape', face.shape)\n",
    "                imageio.imwrite(filename_face, face) \n"
   ]
  },
  {
   "cell_type": "code",
   "execution_count": 8,
   "metadata": {
    "ExecuteTime": {
     "end_time": "2018-10-25T08:54:18.024785Z",
     "start_time": "2018-10-25T08:54:18.002739Z"
    }
   },
   "outputs": [],
   "source": [
    "if len(timings)>0: \n",
    "    timings_ms = np.array(timings) * 1000\n",
    "    print('timings in ms =', timings_ms.mean(), '+/-', timings_ms.std()) "
   ]
  },
  {
   "cell_type": "code",
   "execution_count": 9,
   "metadata": {
    "ExecuteTime": {
     "end_time": "2018-10-25T08:54:18.051154Z",
     "start_time": "2018-10-25T08:54:18.026471Z"
    },
    "scrolled": false
   },
   "outputs": [],
   "source": [
    "import os\n",
    "fname = 'figures/dlib_timings'\n",
    "if not os.path.exists(fname + '.pdf'):\n",
    "    if len(timings)>0:\n",
    "        fig, ax = plt.subplots(figsize=((8, 5)))\n",
    "        n, bins, patches = ax.hist(timings_ms, bins=np.linspace(100, 200, 100), alpha=.4)\n",
    "        ax.vlines(np.median(timings_ms), 0, n.max(), 'g', linestyles='dashed', label='median = %.3f ms' % np.median(timings))\n",
    "        ax.set_xlabel('Timings (ms)')\n",
    "        ax.set_ylabel('Smarts')\n",
    "        ax.legend(loc='best')\n",
    "        for ext in ['.pdf', '.png']:\n",
    "            plt.savefig(fname + ext)        "
   ]
  },
  {
   "cell_type": "code",
   "execution_count": null,
   "metadata": {},
   "outputs": [],
   "source": []
  }
 ],
 "metadata": {
  "kernel_info": {
   "name": "python3"
  },
  "kernelspec": {
   "display_name": "Python 3",
   "language": "python",
   "name": "python3"
  },
  "language_info": {
   "codemirror_mode": {
    "name": "ipython",
    "version": 3
   },
   "file_extension": ".py",
   "mimetype": "text/x-python",
   "name": "python",
   "nbconvert_exporter": "python",
   "pygments_lexer": "ipython3",
   "version": "3.8.5"
  },
  "nteract": {
   "version": "0.11.7"
  },
  "toc": {
   "base_numbering": 1,
   "nav_menu": {},
   "number_sections": true,
   "sideBar": true,
   "skip_h1_title": false,
   "title_cell": "Table of Contents",
   "title_sidebar": "Contents",
   "toc_cell": false,
   "toc_position": {},
   "toc_section_display": "block",
   "toc_window_display": false
  }
 },
 "nbformat": 4,
 "nbformat_minor": 2
}
