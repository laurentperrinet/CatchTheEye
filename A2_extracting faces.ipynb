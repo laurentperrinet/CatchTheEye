{
 "cells": [
  {
   "cell_type": "code",
   "execution_count": 1,
   "metadata": {
    "ExecuteTime": {
     "end_time": "2018-10-25T08:54:14.288032Z",
     "start_time": "2018-10-25T08:54:14.263316Z"
    }
   },
   "outputs": [],
   "source": [
    "%load_ext autoreload\n",
    "%autoreload 2"
   ]
  },
  {
   "cell_type": "code",
   "execution_count": 2,
   "metadata": {
    "ExecuteTime": {
     "end_time": "2018-10-25T08:54:16.797843Z",
     "start_time": "2018-10-25T08:54:14.291222Z"
    }
   },
   "outputs": [
    {
     "data": {
      "application/json": {
       "Software versions": [
        {
         "module": "Python",
         "version": "3.6.5 64bit [GCC 4.2.1 Compatible Apple LLVM 9.1.0 (clang-902.0.39.2)]"
        },
        {
         "module": "IPython",
         "version": "7.0.1"
        },
        {
         "module": "OS",
         "version": "Darwin 18.0.0 x86_64 i386 64bit"
        },
        {
         "module": "numpy",
         "version": "1.15.2"
        },
        {
         "module": "dlib",
         "version": "19.16.0"
        },
        {
         "module": "matplotlib",
         "version": "3.0.0"
        },
        {
         "module": "imageio",
         "version": "2.4.1"
        },
        {
         "module": "gaze",
         "version": "The 'gaze' distribution was not found and is required by the application"
        },
        {
         "module": "glob",
         "version": "The 'glob' distribution was not found and is required by the application"
        }
       ]
      },
      "text/html": [
       "<table><tr><th>Software</th><th>Version</th></tr><tr><td>Python</td><td>3.6.5 64bit [GCC 4.2.1 Compatible Apple LLVM 9.1.0 (clang-902.0.39.2)]</td></tr><tr><td>IPython</td><td>7.0.1</td></tr><tr><td>OS</td><td>Darwin 18.0.0 x86_64 i386 64bit</td></tr><tr><td>numpy</td><td>1.15.2</td></tr><tr><td>dlib</td><td>19.16.0</td></tr><tr><td>matplotlib</td><td>3.0.0</td></tr><tr><td>imageio</td><td>2.4.1</td></tr><tr><td>gaze</td><td>The 'gaze' distribution was not found and is required by the application</td></tr><tr><td>glob</td><td>The 'glob' distribution was not found and is required by the application</td></tr><tr><td colspan='2'>Thu Oct 25 10:54:16 2018 CEST</td></tr></table>"
      ],
      "text/latex": [
       "\\begin{tabular}{|l|l|}\\hline\n",
       "{\\bf Software} & {\\bf Version} \\\\ \\hline\\hline\n",
       "Python & 3.6.5 64bit [GCC 4.2.1 Compatible Apple LLVM 9.1.0 (clang-902.0.39.2)] \\\\ \\hline\n",
       "IPython & 7.0.1 \\\\ \\hline\n",
       "OS & Darwin 18.0.0 x86\\_64 i386 64bit \\\\ \\hline\n",
       "numpy & 1.15.2 \\\\ \\hline\n",
       "dlib & 19.16.0 \\\\ \\hline\n",
       "matplotlib & 3.0.0 \\\\ \\hline\n",
       "imageio & 2.4.1 \\\\ \\hline\n",
       "gaze & The 'gaze' distribution was not found and is required by the application \\\\ \\hline\n",
       "glob & The 'glob' distribution was not found and is required by the application \\\\ \\hline\n",
       "\\hline \\multicolumn{2}{|l|}{Thu Oct 25 10:54:16 2018 CEST} \\\\ \\hline\n",
       "\\end{tabular}\n"
      ],
      "text/plain": [
       "Software versions\n",
       "Python 3.6.5 64bit [GCC 4.2.1 Compatible Apple LLVM 9.1.0 (clang-902.0.39.2)]\n",
       "IPython 7.0.1\n",
       "OS Darwin 18.0.0 x86_64 i386 64bit\n",
       "numpy 1.15.2\n",
       "dlib 19.16.0\n",
       "matplotlib 3.0.0\n",
       "imageio 2.4.1\n",
       "gaze The 'gaze' distribution was not found and is required by the application\n",
       "glob The 'glob' distribution was not found and is required by the application\n",
       "Thu Oct 25 10:54:16 2018 CEST"
      ]
     },
     "execution_count": 2,
     "metadata": {},
     "output_type": "execute_result"
    }
   ],
   "source": [
    "%load_ext version_information\n",
    "%version_information numpy, dlib, matplotlib, imageio, gaze, glob"
   ]
  },
  {
   "cell_type": "code",
   "execution_count": 3,
   "metadata": {
    "ExecuteTime": {
     "end_time": "2018-10-25T08:54:17.180196Z",
     "start_time": "2018-10-25T08:54:16.803121Z"
    }
   },
   "outputs": [],
   "source": [
    "import numpy as np\n",
    "%matplotlib inline\n",
    "import matplotlib.pyplot as plt"
   ]
  },
  {
   "cell_type": "markdown",
   "metadata": {},
   "source": [
    "# detecting and cropping faces"
   ]
  },
  {
   "cell_type": "code",
   "execution_count": 4,
   "metadata": {
    "ExecuteTime": {
     "end_time": "2018-10-25T08:54:17.213878Z",
     "start_time": "2018-10-25T08:54:17.184930Z"
    }
   },
   "outputs": [],
   "source": [
    "import os\n",
    "import glob\n"
   ]
  },
  {
   "cell_type": "code",
   "execution_count": 5,
   "metadata": {
    "ExecuteTime": {
     "end_time": "2018-10-25T08:54:17.288006Z",
     "start_time": "2018-10-25T08:54:17.216373Z"
    }
   },
   "outputs": [
    {
     "name": "stdout",
     "output_type": "stream",
     "text": [
      "Found 2419 sample images;  1936  to train 483 to test\n"
     ]
    }
   ],
   "source": [
    "from gaze import init, Data\n",
    "args = init(batch_size=8, no_cuda=True, verbose=1)\n",
    "d = Data(args)"
   ]
  },
  {
   "cell_type": "code",
   "execution_count": 6,
   "metadata": {
    "ExecuteTime": {
     "end_time": "2018-10-25T08:54:17.312721Z",
     "start_time": "2018-10-25T08:54:17.289948Z"
    }
   },
   "outputs": [
    {
     "data": {
      "text/plain": [
       "{'dataset_folder': 'dataset',\n",
       " 'dataset_faces_folder': 'dataset_faces',\n",
       " 'batch_size': 8,\n",
       " 'test_batch_size': 1,\n",
       " 'size_test_set': 0.2,\n",
       " 'epochs': 40,\n",
       " 'do_adam': False,\n",
       " 'lr': 0.01,\n",
       " 'momentum': 0.05,\n",
       " 'no_cuda': True,\n",
       " 'num_processes': 1,\n",
       " 'seed': 42,\n",
       " 'log_interval': 0,\n",
       " 'fullsize': 75,\n",
       " 'crop': 75,\n",
       " 'size': 40,\n",
       " 'mean': 0.4,\n",
       " 'std': 0.3,\n",
       " 'conv1_dim': 9,\n",
       " 'conv1_kernel_size': 8,\n",
       " 'conv2_dim': 36,\n",
       " 'conv2_kernel_size': 12,\n",
       " 'conv1_bn_momentum': 0.5,\n",
       " 'conv2_bn_momentum': 0.5,\n",
       " 'dense_bn_momentum': 0.5,\n",
       " 'stride1': 2,\n",
       " 'stride2': 4,\n",
       " 'N_cv': 20,\n",
       " 'dimension': 30,\n",
       " 'verbose': 1}"
      ]
     },
     "execution_count": 6,
     "metadata": {},
     "output_type": "execute_result"
    }
   ],
   "source": [
    "args"
   ]
  },
  {
   "cell_type": "code",
   "execution_count": 7,
   "metadata": {
    "ExecuteTime": {
     "end_time": "2018-10-25T08:54:17.352820Z",
     "start_time": "2018-10-25T08:54:17.314908Z"
    }
   },
   "outputs": [
    {
     "name": "stdout",
     "output_type": "stream",
     "text": [
      "dataset/blink/2018-09-04_Laurent_180.png\n",
      "dataset/blink/2018-10-03_Laurent_116.png\n",
      "dataset/blink/2018-09-12_Laurent_020.png\n",
      "dataset/blink/2018-10-12_Laurent_065.png\n",
      "dataset/blink/2018-09-05_Laurent_085.png\n",
      "dataset/blink/2018-10-14_Laurent_212.png\n",
      "dataset/blink/2018-10-24_Laurent_026.png\n",
      "dataset/blink/2018-09-14_Laurent_069.png\n",
      "dataset/blink/2018-10-18_Laurent_123.png\n",
      "dataset/blink/2018-10-18_Laurent_137.png\n",
      "dataset/center/2018-10-24_Laurent_185.png\n",
      "dataset/center/2018-10-24_Laurent_152.png\n",
      "dataset/center/2018-09-12_Laurent_140.png\n",
      "dataset/center/2018-09-14_Laurent_243.png\n",
      "dataset/center/2018-09-12_Laurent_183.png\n",
      "dataset/center/2018-09-04_Laurent_221.png\n",
      "dataset/center/2018-09-04_Laurent_235.png\n",
      "dataset/center/2018-10-14_Laurent_004.png\n",
      "dataset/center/2018-10-03_Laurent_089.png\n",
      "dataset/center/2018-10-03_Laurent_076.png\n",
      "dataset/left/2018-10-12_Laurent_111.png\n",
      "dataset/left/2018-10-12_Laurent_139.png\n",
      "dataset/left/2018-10-14_Laurent_206.png\n",
      "dataset/left/2018-10-15_Laurent_115.png\n",
      "dataset/left/2018-09-04_Laurent_209.png\n",
      "dataset/left/2018-09-05_Laurent_126.png\n",
      "dataset/left/2018-10-14_Laurent_038.png\n",
      "dataset/left/2018-10-03_Laurent_062.png\n",
      "dataset/left/2018-10-24_Laurent_224.png\n",
      "dataset/left/2018-10-24_Laurent_230.png\n",
      "dataset/right/2018-09-05_Laurent_046.png\n",
      "dataset/right/2018-10-15_Laurent_129.png\n",
      "dataset/right/2018-10-15_Laurent_101.png\n",
      "dataset/right/2018-09-12_Laurent_197.png\n",
      "dataset/right/2018-09-05_Laurent_126.png\n",
      "dataset/right/2018-10-24_Laurent_032.png\n",
      "dataset/right/2018-09-05_Laurent_132.png\n",
      "dataset/right/2018-10-14_Laurent_010.png\n",
      "dataset/right/2018-10-24_Laurent_218.png\n",
      "dataset/right/2018-09-14_Laurent_082.png\n"
     ]
    }
   ],
   "source": [
    "n_show = 10\n",
    "for target in d.classes:\n",
    "    for filename in glob.glob(os.path.join(args.dataset_folder, target) + '/*.png')[-n_show:]:\n",
    "        print(filename)"
   ]
  },
  {
   "cell_type": "code",
   "execution_count": 8,
   "metadata": {
    "ExecuteTime": {
     "end_time": "2018-10-25T08:54:18.000984Z",
     "start_time": "2018-10-25T08:54:17.354887Z"
    },
    "scrolled": false
   },
   "outputs": [],
   "source": [
    "import imageio\n",
    "import time\n",
    "from gaze import FaceExtractor\n",
    "FE = FaceExtractor()\n",
    "timings = []\n",
    "for target in d.classes:\n",
    "    for filename in glob.glob(os.path.join(args.dataset_folder, target, '*.png')):\n",
    "        filename_face = filename.replace(args.dataset_folder, args.dataset_faces_folder)\n",
    "        if not os.path.exists(filename_face):\n",
    "            print('Extracting face in ', filename_face)\n",
    "            frame = imageio.imread(filename)\n",
    "            t0 = time.time()\n",
    "            t, b, l, r = FE.get_bbox(frame)\n",
    "            face = FE.face_extractor(frame, bbox=(t, b, l, r))\n",
    "            t1 = time.time()\n",
    "            timings.append(t1-t0)\n",
    "            if False:\n",
    "                # Create figure and axes\n",
    "                fig, ax = plt.subplots(figsize=(15, 8))\n",
    "\n",
    "                # Display the image\n",
    "                ax.imshow(frame)\n",
    "\n",
    "                # Create a Rectangle patch\n",
    "                from matplotlib import patches\n",
    "                rect = patches.Rectangle((t, l), r-l, t-b, linewidth=1, edgecolor='r', facecolor='none')\n",
    "\n",
    "                # Add the patch to the Axes\n",
    "                ax.add_patch(rect)\n",
    "                plt.show()\n",
    "                \n",
    "            if True:\n",
    "                # Create figure and axes\n",
    "                fig, ax = plt.subplots(figsize=(15, 8))\n",
    "\n",
    "                # Display the cropped image\n",
    "                ax.imshow(face)\n",
    "\n",
    "                plt.show()                \n",
    "            print('face.shape', face.shape)\n",
    "            imageio.imwrite(filename_face, face) \n"
   ]
  },
  {
   "cell_type": "code",
   "execution_count": 9,
   "metadata": {
    "ExecuteTime": {
     "end_time": "2018-10-25T08:54:18.024785Z",
     "start_time": "2018-10-25T08:54:18.002739Z"
    }
   },
   "outputs": [],
   "source": [
    "if len(timings)>0: \n",
    "    timings_ms = np.array(timings) * 1000\n",
    "    print('timings in ms =', timings_ms.mean(), '+/-', timings_ms.std()) "
   ]
  },
  {
   "cell_type": "code",
   "execution_count": 10,
   "metadata": {
    "ExecuteTime": {
     "end_time": "2018-10-25T08:54:18.051154Z",
     "start_time": "2018-10-25T08:54:18.026471Z"
    },
    "scrolled": false
   },
   "outputs": [],
   "source": [
    "import os\n",
    "fname = 'figures/dlib_timings'\n",
    "if not os.path.exists(fname + '.pdf'):\n",
    "    if len(timings)>0:\n",
    "        fig, ax = plt.subplots(figsize=((8, 5)))\n",
    "        n, bins, patches = ax.hist(timings_ms, bins=np.linspace(100, 200, 100), alpha=.4)\n",
    "        ax.vlines(np.median(timings_ms), 0, n.max(), 'g', linestyles='dashed', label='median = %.3f ms' % np.median(timings))\n",
    "        ax.set_xlabel('Timings (ms)')\n",
    "        ax.set_ylabel('Smarts')\n",
    "        ax.legend(loc='best')\n",
    "        for ext in ['.pdf', '.png']:\n",
    "            plt.savefig(fname + ext)        "
   ]
  },
  {
   "cell_type": "code",
   "execution_count": 11,
   "metadata": {
    "ExecuteTime": {
     "end_time": "2018-10-25T08:54:18.076976Z",
     "start_time": "2018-10-25T08:54:18.053441Z"
    }
   },
   "outputs": [
    {
     "data": {
      "image/png": "[encoded data removed]",
      "text/plain": [
       "<IPython.core.display.Image object>"
      ]
     },
     "execution_count": 11,
     "metadata": {},
     "output_type": "execute_result"
    }
   ],
   "source": [
    "from IPython.display import Image\n",
    "Image(filename=fname + '.png') "
   ]
  }
 ],
 "metadata": {
  "kernel_info": {
   "name": "python3"
  },
  "kernelspec": {
   "display_name": "Python 3",
   "language": "python",
   "name": "python3"
  },
  "language_info": {
   "codemirror_mode": {
    "name": "ipython",
    "version": 3
   },
   "file_extension": ".py",
   "mimetype": "text/x-python",
   "name": "python",
   "nbconvert_exporter": "python",
   "pygments_lexer": "ipython3",
   "version": "3.6.5"
  },
  "nteract": {
   "version": "0.11.7"
  },
  "toc": {
   "base_numbering": 1,
   "nav_menu": {},
   "number_sections": true,
   "sideBar": true,
   "skip_h1_title": false,
   "title_cell": "Table of Contents",
   "title_sidebar": "Contents",
   "toc_cell": false,
   "toc_position": {},
   "toc_section_display": "block",
   "toc_window_display": false
  }
 },
 "nbformat": 4,
 "nbformat_minor": 2
}
