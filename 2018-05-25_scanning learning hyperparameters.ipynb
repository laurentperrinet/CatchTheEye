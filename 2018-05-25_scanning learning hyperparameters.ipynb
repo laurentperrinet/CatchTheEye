{
  "cells": [
    {
      "cell_type": "code",
      "source": [
        "%load_ext autoreload\n",
        "%autoreload 2"
      ],
      "outputs": [],
      "execution_count": 1,
      "metadata": {
        "ExecuteTime": {
          "end_time": "2018-05-25T15:10:24.228344Z",
          "start_time": "2018-05-25T15:10:24.215592Z"
        }
      }
    },
    {
      "cell_type": "markdown",
      "source": [
        "## scanning parameters"
      ],
      "metadata": {}
    },
    {
      "cell_type": "code",
      "source": [
        "import numpy as np \n",
        "base = 4\n",
        "N_scan = 9\n",
        "default = dict(verbose=0, log_interval=0, epochs=30)\n",
        "\n",
        "from Regard import init, ML\n",
        "\n",
        "lrs =  init().lr * np.logspace(-1, 1, N_scan, base=base)\n",
        "print('scanning over lrs', lrs)\n",
        "\n",
        "for lr in lrs:\n",
        "    args = init(lr=lr, **default)\n",
        "    ml = ML(args)\n",
        "    Accuracy = ml.protocol()\n",
        "    print ('For lr=', lr, ', Accuracy=', Accuracy)\n",
        "\n",
        "momentums = init().momentum * np.logspace(-1, 1, N_scan, base=base)\n",
        "print('scanning over momentums', momentums)\n",
        "\n",
        "for momentum in momentums:\n",
        "    args = init(momentum=momentum, **default)\n",
        "    ml = ML(args)\n",
        "    Accuracy = ml.protocol()\n",
        "    print ('For momentum=', momentum, ', Accuracy=', Accuracy)\n",
        "\n\n",
        "batch_sizes =  [int(k) for k in init().batch_size * np.logspace(-1, 1, N_scan, base=base)]\n",
        "print('scanning over batch_sizes', batch_sizes)\n",
        "\n",
        "for batch_size in batch_sizes:\n",
        "    args = init(batch_size=batch_size, **default)\n",
        "    ml = ML(args)\n",
        "    Accuracy = ml.protocol()\n",
        "    print ('For batch_size=', batch_size, ', Accuracy=', Accuracy)\n",
        "\n",
        "epochss =  [int(k)+1 for k in init().epochs * np.logspace(-1, 1, N_scan, base=base)]\n",
        "print('scanning over epochss', epochss)\n",
        "\n",
        "for epochs in epochss:\n",
        "    args = init(verbose=0, log_interval=0, epochs=epochs)\n",
        "    ml = ML(args)\n",
        "    Accuracy = ml.protocol()\n",
        "    print ('For epochs=', epochs, ', Accuracy=', Accuracy)\n",
        "\n    "
      ],
      "outputs": [
        {
          "output_type": "stream",
          "name": "stdout",
          "text": [
            "scanning over lrs [0.0075     0.0106066  0.015      0.0212132  0.03       0.04242641\n",
            " 0.06       0.08485281 0.12      ]\n",
            "For lr= 0.0075 , Accuracy= 1.0\n",
            "For lr= 0.010606601717798213 , Accuracy= 1.0\n",
            "For lr= 0.015 , Accuracy= 1.0\n",
            "For lr= 0.021213203435596427 , Accuracy= 1.0\n",
            "For lr= 0.03 , Accuracy= 1.0\n",
            "For lr= 0.042426406871192854 , Accuracy= 1.0\n",
            "For lr= 0.06 , Accuracy= 1.0\n",
            "For lr= 0.08485281374238571 , Accuracy= 0.037037037037037035\n",
            "For lr= 0.12 , Accuracy= 1.0\n",
            "scanning over momentums [0.0625     0.08838835 0.125      0.1767767  0.25       0.35355339\n",
            " 0.5        0.70710678 1.        ]\n",
            "For momentum= 0.0625 , Accuracy= 1.0\n",
            "For momentum= 0.08838834764831845 , Accuracy= 1.0\n",
            "For momentum= 0.125 , Accuracy= 1.0\n",
            "For momentum= 0.1767766952966369 , Accuracy= 1.0\n",
            "For momentum= 0.25 , Accuracy= 1.0\n",
            "For momentum= 0.3535533905932738 , Accuracy= 1.0\n",
            "For momentum= 0.5 , Accuracy= 1.0\n",
            "For momentum= 0.7071067811865476 , Accuracy= 1.0\n",
            "For momentum= 1.0 , Accuracy= 0.29193899782135074\n",
            "scanning over batch_sizes [2, 2, 4, 5, 8, 11, 16, 22, 32]\n",
            "For batch_size= 2 , Accuracy= 1.0\n",
            "For batch_size= 2 , Accuracy= 1.0\n",
            "For batch_size= 4 , Accuracy= 1.0\n",
            "For batch_size= 5 , Accuracy= 1.0\n",
            "For batch_size= 8 , Accuracy= 1.0\n",
            "For batch_size= 11 , Accuracy= 1.0\n",
            "For batch_size= 16 , Accuracy= 1.0\n",
            "For batch_size= 22 , Accuracy= 1.0\n",
            "For batch_size= 32 , Accuracy= 1.0\n",
            "scanning over epochss [13, 18, 26, 36, 51, 71, 101, 142, 201]\n",
            "For epochs= 13 , Accuracy= 1.0\n",
            "For epochs= 18 , Accuracy= 1.0\n",
            "For epochs= 26 , Accuracy= 1.0\n",
            "For epochs= 36 , Accuracy= 1.0\n",
            "For epochs= 51 , Accuracy= 1.0\n",
            "For epochs= 71 , Accuracy= 1.0\n",
            "For epochs= 101 , Accuracy= 1.0\n",
            "For epochs= 142 , Accuracy= 1.0\n",
            "For epochs= 201 , Accuracy= 1.0\n"
          ]
        }
      ],
      "execution_count": 2,
      "metadata": {
        "ExecuteTime": {
          "end_time": "2018-05-25T16:58:21.461224Z",
          "start_time": "2018-05-25T15:10:24.485978Z"
        }
      }
    }
  ],
  "metadata": {
    "kernelspec": {
      "name": "python3",
      "language": "python",
      "display_name": "Python 3"
    },
    "language_info": {
      "name": "python",
      "version": "3.6.5",
      "mimetype": "text/x-python",
      "codemirror_mode": {
        "name": "ipython",
        "version": 3
      },
      "pygments_lexer": "ipython3",
      "nbconvert_exporter": "python",
      "file_extension": ".py"
    },
    "toc": {
      "toc_position": {},
      "skip_h1_title": false,
      "number_sections": true,
      "title_cell": "Table of Contents",
      "toc_window_display": false,
      "base_numbering": 1,
      "toc_section_display": "block",
      "title_sidebar": "Contents",
      "toc_cell": false,
      "nav_menu": {},
      "sideBar": true
    },
    "kernel_info": {
      "name": "python3"
    },
    "nteract": {
      "version": "0.8.4"
    }
  },
  "nbformat": 4,
  "nbformat_minor": 2
}