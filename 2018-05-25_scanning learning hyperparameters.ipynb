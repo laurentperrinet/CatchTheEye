{
 "cells": [
  {
   "cell_type": "code",
   "execution_count": 1,
   "metadata": {
    "ExecuteTime": {
     "end_time": "2018-05-28T15:25:02.640761Z",
     "start_time": "2018-05-28T15:25:02.624839Z"
    }
   },
   "outputs": [],
   "source": [
    "%load_ext autoreload\n",
    "%autoreload 2"
   ]
  },
  {
   "cell_type": "markdown",
   "metadata": {},
   "source": [
    "## scanning parameters"
   ]
  },
  {
   "cell_type": "code",
   "execution_count": 2,
   "metadata": {
    "ExecuteTime": {
     "end_time": "2018-05-28T20:24:29.898088Z",
     "start_time": "2018-05-28T15:25:02.643049Z"
    }
   },
   "outputs": [
    {
     "name": "stdout",
     "output_type": "stream",
     "text": [
      "scanning over lrs [0.005      0.00707107 0.01       0.01414214 0.02       0.02828427\n",
      " 0.04       0.05656854 0.08      ]\n",
      "For lr= 0.005 , Accuracy= 0.7063492063492064\n",
      "For lr= 0.007071067811865476 , Accuracy= 0.9285714285714286\n",
      "For lr= 0.01 , Accuracy= 0.9603174603174603\n",
      "For lr= 0.014142135623730952 , Accuracy= 0.9682539682539683\n",
      "For lr= 0.02 , Accuracy= 0.9523809523809523\n",
      "For lr= 0.028284271247461905 , Accuracy= 0.9761904761904762\n",
      "For lr= 0.04 , Accuracy= 0.9761904761904762\n",
      "For lr= 0.05656854249492381 , Accuracy= 0.9682539682539683\n",
      "For lr= 0.08 , Accuracy= 0.9603174603174603\n",
      "scanning over momentums [0.0625     0.08838835 0.125      0.1767767  0.25       0.35355339\n",
      " 0.5        0.70710678 1.        ]\n",
      "For momentum= 0.0625 , Accuracy= 0.9682539682539683\n",
      "For momentum= 0.08838834764831845 , Accuracy= 0.9761904761904762\n",
      "For momentum= 0.125 , Accuracy= 0.9603174603174603\n",
      "For momentum= 0.1767766952966369 , Accuracy= 0.9761904761904762\n",
      "For momentum= 0.25 , Accuracy= 0.9523809523809523\n",
      "For momentum= 0.3535533905932738 , Accuracy= 0.9841269841269841\n",
      "For momentum= 0.5 , Accuracy= 0.9682539682539683\n",
      "For momentum= 0.7071067811865476 , Accuracy= 0.9841269841269841\n",
      "For momentum= 1.0 , Accuracy= 0.40476190476190477\n",
      "scanning over batch_sizes [4, 5, 8, 11, 16, 22, 32, 45, 64]\n",
      "For batch_size= 4 , Accuracy= 0.9841269841269841\n",
      "For batch_size= 5 , Accuracy= 0.9841269841269841\n",
      "For batch_size= 8 , Accuracy= 0.9920634920634921\n",
      "For batch_size= 11 , Accuracy= 0.9523809523809523\n",
      "For batch_size= 16 , Accuracy= 0.9523809523809523\n",
      "For batch_size= 22 , Accuracy= 0.9365079365079365\n",
      "For batch_size= 32 , Accuracy= 0.6190476190476191\n",
      "For batch_size= 45 , Accuracy= 0.5714285714285714\n",
      "For batch_size= 64 , Accuracy= 0.48412698412698413\n",
      "scanning over epochss [26, 36, 51, 71, 101, 142, 201, 283, 401]\n",
      "For epochs= 26 , Accuracy= 0.9682539682539683\n",
      "For epochs= 36 , Accuracy= 0.9603174603174603\n",
      "For epochs= 51 , Accuracy= 0.9841269841269841\n",
      "For epochs= 71 , Accuracy= 0.9841269841269841\n",
      "For epochs= 101 , Accuracy= 0.9920634920634921\n",
      "For epochs= 142 , Accuracy= 0.9920634920634921\n",
      "For epochs= 201 , Accuracy= 0.9920634920634921\n",
      "For epochs= 283 , Accuracy= 0.9920634920634921\n",
      "For epochs= 401 , Accuracy= 0.9920634920634921\n"
     ]
    }
   ],
   "source": [
    "import numpy as np \n",
    "base = 4\n",
    "N_scan = 9\n",
    "default = dict(verbose=0, log_interval=0, epochs=30)\n",
    "\n",
    "from Regard import init, ML\n",
    "\n",
    "lrs =  init().lr * np.logspace(-1, 1, N_scan, base=base)\n",
    "print('scanning over lrs', lrs)\n",
    "\n",
    "for lr in lrs:\n",
    "    args = init(lr=lr, **default)\n",
    "    ml = ML(args)\n",
    "    Accuracy = ml.protocol()\n",
    "    print ('For lr=', lr, ', Accuracy=', Accuracy)\n",
    "\n",
    "momentums = init().momentum * np.logspace(-1, 1, N_scan, base=base)\n",
    "print('scanning over momentums', momentums)\n",
    "\n",
    "for momentum in momentums:\n",
    "    args = init(momentum=momentum, **default)\n",
    "    ml = ML(args)\n",
    "    Accuracy = ml.protocol()\n",
    "    print ('For momentum=', momentum, ', Accuracy=', Accuracy)\n",
    "\n",
    "\n",
    "batch_sizes =  [int(k) for k in init().batch_size * np.logspace(-1, 1, N_scan, base=base)]\n",
    "print('scanning over batch_sizes', batch_sizes)\n",
    "\n",
    "for batch_size in batch_sizes:\n",
    "    args = init(batch_size=batch_size, **default)\n",
    "    ml = ML(args)\n",
    "    Accuracy = ml.protocol()\n",
    "    print ('For batch_size=', batch_size, ', Accuracy=', Accuracy)\n",
    "\n",
    "epochss =  [int(k)+1 for k in init().epochs * np.logspace(-1, 1, N_scan, base=base)]\n",
    "print('scanning over epochss', epochss)\n",
    "\n",
    "for epochs in epochss:\n",
    "    args = init(verbose=0, log_interval=0, epochs=epochs)\n",
    "    ml = ML(args)\n",
    "    Accuracy = ml.protocol()\n",
    "    print ('For epochs=', epochs, ', Accuracy=', Accuracy)\n",
    "\n",
    "    "
   ]
  }
 ],
 "metadata": {
  "kernel_info": {
   "name": "python3"
  },
  "kernelspec": {
   "display_name": "Python 3",
   "language": "python",
   "name": "python3"
  },
  "language_info": {
   "codemirror_mode": {
    "name": "ipython",
    "version": 3
   },
   "file_extension": ".py",
   "mimetype": "text/x-python",
   "name": "python",
   "nbconvert_exporter": "python",
   "pygments_lexer": "ipython3",
   "version": "3.6.5"
  },
  "nteract": {
   "version": "0.8.4"
  },
  "toc": {
   "base_numbering": 1,
   "nav_menu": {},
   "number_sections": true,
   "sideBar": true,
   "skip_h1_title": false,
   "title_cell": "Table of Contents",
   "title_sidebar": "Contents",
   "toc_cell": false,
   "toc_position": {},
   "toc_section_display": "block",
   "toc_window_display": false
  }
 },
 "nbformat": 4,
 "nbformat_minor": 2
}
