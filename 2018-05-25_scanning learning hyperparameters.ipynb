{
 "cells": [
  {
   "cell_type": "code",
   "execution_count": 1,
   "metadata": {
    "ExecuteTime": {
     "end_time": "2018-05-31T15:18:31.841513Z",
     "start_time": "2018-05-31T15:18:31.820943Z"
    }
   },
   "outputs": [],
   "source": [
    "%load_ext autoreload\n",
    "%autoreload 2"
   ]
  },
  {
   "cell_type": "markdown",
   "metadata": {},
   "source": [
    "## scanning parameters"
   ]
  },
  {
   "cell_type": "code",
   "execution_count": 2,
   "metadata": {
    "ExecuteTime": {
     "end_time": "2018-05-31T23:56:36.431280Z",
     "start_time": "2018-05-31T15:18:31.846779Z"
    }
   },
   "outputs": [
    {
     "name": "stdout",
     "output_type": "stream",
     "text": [
      "scanning over lrs [0.02       0.02378414 0.02828427 0.03363586 0.04       0.04756828\n",
      " 0.05656854 0.06727171 0.08      ]\n",
      "For lr= 0.020 , Accuracy= 0.987\n",
      "For lr= 0.024 , Accuracy= 0.955\n",
      "For lr= 0.028 , Accuracy= 0.975\n",
      "For lr= 0.034 , Accuracy= 0.962\n",
      "For lr= 0.040 , Accuracy= 0.968\n",
      "For lr= 0.048 , Accuracy= 0.968\n",
      "For lr= 0.057 , Accuracy= 0.955\n",
      "For lr= 0.067 , Accuracy= 0.955\n",
      "For lr= 0.080 , Accuracy= 0.898\n",
      "scanning over momentums [0.25       0.29730178 0.35355339 0.42044821 0.5        0.59460356\n",
      " 0.70710678 0.84089642 1.        ]\n",
      "For momentum= 0.250 , Accuracy= 0.968\n",
      "For momentum= 0.297 , Accuracy= 0.981\n",
      "For momentum= 0.354 , Accuracy= 0.955\n",
      "For momentum= 0.420 , Accuracy= 0.949\n",
      "For momentum= 0.500 , Accuracy= 0.968\n",
      "For momentum= 0.595 , Accuracy= 0.943\n",
      "For momentum= 0.707 , Accuracy= 0.962\n",
      "For momentum= 0.841 , Accuracy= 0.497\n",
      "For momentum= 1.000 , Accuracy= 0.497\n",
      "scanning over batch_sizes [8, 9, 11, 13, 16, 19, 22, 26, 32]\n",
      "For batch_size= 8 , Accuracy= 0.955\n",
      "For batch_size= 9 , Accuracy= 0.924\n",
      "For batch_size= 11 , Accuracy= 0.947\n",
      "For batch_size= 13 , Accuracy= 0.941\n",
      "For batch_size= 16 , Accuracy= 0.947\n",
      "For batch_size= 19 , Accuracy= 0.947\n",
      "For batch_size= 22 , Accuracy= 0.941\n",
      "For batch_size= 26 , Accuracy= 0.947\n",
      "For batch_size= 32 , Accuracy= 0.935\n",
      "scanning over epochss [51, 60, 71, 85, 101, 119, 142, 169, 201]\n",
      "For epochs= 51 , Accuracy= 0.941\n",
      "For epochs= 60 , Accuracy= 0.947\n",
      "For epochs= 71 , Accuracy= 0.947\n",
      "For epochs= 85 , Accuracy= 0.947\n",
      "For epochs= 101 , Accuracy= 0.947\n",
      "For epochs= 119 , Accuracy= 0.947\n",
      "For epochs= 142 , Accuracy= 0.947\n",
      "For epochs= 169 , Accuracy= 0.947\n",
      "For epochs= 201 , Accuracy= 0.947\n"
     ]
    }
   ],
   "source": [
    "import numpy as np \n",
    "base = 2\n",
    "N_scan = 9\n",
    "default = dict(verbose=0, log_interval=0)\n",
    "\n",
    "from Regard import init, ML\n",
    "\n",
    "lrs =  init().lr * np.logspace(-1, 1, N_scan, base=base)\n",
    "print('scanning over lrs', lrs)\n",
    "\n",
    "for lr in lrs:\n",
    "    args = init(lr=lr, **default)\n",
    "    ml = ML(args)\n",
    "    Accuracy = ml.protocol()\n",
    "    print ('For lr=', '%.3f' % lr, ', Accuracy=', '%.3f' % Accuracy)\n",
    "\n",
    "momentums = init().momentum * np.logspace(-1, 1, N_scan, base=base)\n",
    "print('scanning over momentums', momentums)\n",
    "\n",
    "for momentum in momentums:\n",
    "    args = init(momentum=momentum, **default)\n",
    "    ml = ML(args)\n",
    "    Accuracy = ml.protocol()\n",
    "    print ('For momentum=', '%.3f' % momentum, ', Accuracy=', '%.3f' % Accuracy)\n",
    "\n",
    "\n",
    "batch_sizes =  [int(k) for k in init().batch_size * np.logspace(-1, 1, N_scan, base=base)]\n",
    "print('scanning over batch_sizes', batch_sizes)\n",
    "\n",
    "for batch_size in batch_sizes:\n",
    "    args = init(batch_size=batch_size, **default)\n",
    "    ml = ML(args)\n",
    "    Accuracy = ml.protocol()\n",
    "    print ('For batch_size=', batch_size, ', Accuracy=', '%.3f' % Accuracy)\n",
    "\n",
    "epochss =  [int(k)+1 for k in init().epochs * np.logspace(-1, 1, N_scan, base=base)]\n",
    "print('scanning over epochss', epochss)\n",
    "\n",
    "for epochs in epochss:\n",
    "    args = init(verbose=0, log_interval=0, epochs=epochs)\n",
    "    ml = ML(args)\n",
    "    Accuracy = ml.protocol()\n",
    "    print ('For epochs=', epochs, ', Accuracy=', '%.3f' % Accuracy)\n",
    "\n",
    "    "
   ]
  }
 ],
 "metadata": {
  "kernel_info": {
   "name": "python3"
  },
  "kernelspec": {
   "display_name": "Python 3",
   "language": "python",
   "name": "python3"
  },
  "language_info": {
   "codemirror_mode": {
    "name": "ipython",
    "version": 3
   },
   "file_extension": ".py",
   "mimetype": "text/x-python",
   "name": "python",
   "nbconvert_exporter": "python",
   "pygments_lexer": "ipython3",
   "version": "3.6.5"
  },
  "nteract": {
   "version": "0.8.4"
  },
  "toc": {
   "base_numbering": 1,
   "nav_menu": {},
   "number_sections": true,
   "sideBar": true,
   "skip_h1_title": false,
   "title_cell": "Table of Contents",
   "title_sidebar": "Contents",
   "toc_cell": false,
   "toc_position": {},
   "toc_section_display": "block",
   "toc_window_display": false
  }
 },
 "nbformat": 4,
 "nbformat_minor": 2
}
