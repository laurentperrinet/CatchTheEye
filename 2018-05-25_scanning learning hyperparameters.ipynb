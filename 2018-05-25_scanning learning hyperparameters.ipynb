{
 "cells": [
  {
   "cell_type": "code",
   "execution_count": 1,
   "metadata": {
    "ExecuteTime": {
     "end_time": "2018-05-25T15:10:24.228344Z",
     "start_time": "2018-05-25T15:10:24.215592Z"
    }
   },
   "outputs": [],
   "source": [
    "%load_ext autoreload\n",
    "%autoreload 2"
   ]
  },
  {
   "cell_type": "markdown",
   "metadata": {},
   "source": [
    "## scanning parameters"
   ]
  },
  {
   "cell_type": "code",
   "execution_count": 3,
   "metadata": {
    "ExecuteTime": {
     "end_time": "2018-05-25T16:58:21.461224Z",
     "start_time": "2018-05-25T15:10:24.485978Z"
    }
   },
   "outputs": [
    {
     "name": "stdout",
     "output_type": "stream",
     "text": [
      "scanning over lrs [0.0025     0.00353553 0.005      0.00707107 0.01       0.01414214\n",
      " 0.02       0.02828427 0.04      ]\n",
      "For lr= 0.0025 , Accuracy= 0.5773420479302832\n",
      "For lr= 0.003535533905932738 , Accuracy= 0.6318082788671024\n",
      "For lr= 0.005 , Accuracy= 0.8474945533769063\n",
      "For lr= 0.007071067811865476 , Accuracy= 0.8823529411764706\n",
      "For lr= 0.01 , Accuracy= 0.9586056644880174\n",
      "For lr= 0.014142135623730952 , Accuracy= 0.8801742919389978\n",
      "For lr= 0.02 , Accuracy= 0.7559912854030502\n",
      "For lr= 0.028284271247461905 , Accuracy= 0.9629629629629629\n",
      "For lr= 0.04 , Accuracy= 0.8888888888888888\n",
      "scanning over momentums [0.125      0.1767767  0.25       0.35355339 0.5        0.70710678\n",
      " 1.         1.41421356 2.        ]\n",
      "For momentum= 0.125 , Accuracy= 0.7952069716775599\n",
      "For momentum= 0.1767766952966369 , Accuracy= 0.7777777777777778\n",
      "For momentum= 0.25 , Accuracy= 0.8061002178649237\n",
      "For momentum= 0.3535533905932738 , Accuracy= 0.8845315904139434\n",
      "For momentum= 0.5 , Accuracy= 0.9586056644880174\n",
      "For momentum= 0.7071067811865476 , Accuracy= 0.7712418300653595\n",
      "For momentum= 1.0 , Accuracy= 0.7037037037037037\n",
      "For momentum= 1.4142135623730951 , Accuracy= 0.037037037037037035\n",
      "For momentum= 2.0 , Accuracy= 0.037037037037037035\n",
      "scanning over batch_sizes [16, 22, 32, 45, 64, 90, 128, 181, 256]\n",
      "For batch_size= 16 , Accuracy= 1.0\n",
      "For batch_size= 22 , Accuracy= 1.0\n",
      "For batch_size= 32 , Accuracy= 0.9847494553376906\n",
      "For batch_size= 45 , Accuracy= 0.9564270152505446\n",
      "For batch_size= 64 , Accuracy= 0.8474945533769063\n",
      "For batch_size= 90 , Accuracy= 0.6143790849673203\n",
      "For batch_size= 128 , Accuracy= 0.7015250544662309\n",
      "For batch_size= 181 , Accuracy= 0.5599128540305011\n",
      "For batch_size= 256 , Accuracy= 0.5403050108932462\n",
      "scanning over epochss [3, 4, 6, 8, 11, 15, 21, 29, 41]\n",
      "For epochs= 3 , Accuracy= 0.45751633986928103\n",
      "For epochs= 4 , Accuracy= 0.45751633986928103\n",
      "For epochs= 6 , Accuracy= 0.4989106753812636\n",
      "For epochs= 8 , Accuracy= 0.5381263616557734\n",
      "For epochs= 11 , Accuracy= 0.5490196078431373\n",
      "For epochs= 15 , Accuracy= 0.616557734204793\n",
      "For epochs= 21 , Accuracy= 0.8453159041394336\n",
      "For epochs= 29 , Accuracy= 0.9237472766884531\n",
      "For epochs= 41 , Accuracy= 1.0\n"
     ]
    }
   ],
   "source": [
    "import numpy as np \n",
    "base = 4\n",
    "N_scan = 9\n",
    "default = dict(verbose=0, log_interval=0, epochs=30)\n",
    "\n",
    "from Regard import init, ML\n",
    "\n",
    "lrs =  init().lr * np.logspace(-1, 1, N_scan, base=base)\n",
    "print('scanning over lrs', lrs)\n",
    "\n",
    "for lr in lrs:\n",
    "    args = init(lr=lr, **default)\n",
    "    ml = ML(args)\n",
    "    Accuracy = ml.protocol()\n",
    "    print ('For lr=', lr, ', Accuracy=', Accuracy)\n",
    "\n",
    "momentums = init().momentum * np.logspace(-1, 1, N_scan, base=base)\n",
    "print('scanning over momentums', momentums)\n",
    "\n",
    "for momentum in momentums:\n",
    "    args = init(momentum=momentum, **default)\n",
    "    ml = ML(args)\n",
    "    Accuracy = ml.protocol()\n",
    "    print ('For momentum=', momentum, ', Accuracy=', Accuracy)\n",
    "\n",
    "\n",
    "batch_sizes =  [int(k) for k in init().batch_size * np.logspace(-1, 1, N_scan, base=base)]\n",
    "print('scanning over batch_sizes', batch_sizes)\n",
    "\n",
    "for batch_size in batch_sizes:\n",
    "    args = init(batch_size=batch_size, **default)\n",
    "    ml = ML(args)\n",
    "    Accuracy = ml.protocol()\n",
    "    print ('For batch_size=', batch_size, ', Accuracy=', Accuracy)\n",
    "\n",
    "epochss =  [int(k)+1 for k in init().epochs * np.logspace(-1, 1, N_scan, base=base)]\n",
    "print('scanning over epochss', epochss)\n",
    "\n",
    "for epochs in epochss:\n",
    "    args = init(verbose=0, log_interval=0, epochs=epochs)\n",
    "    ml = ML(args)\n",
    "    Accuracy = ml.protocol()\n",
    "    print ('For epochs=', epochs, ', Accuracy=', Accuracy)\n",
    "\n",
    "    "
   ]
  }
 ],
 "metadata": {
  "kernelspec": {
   "display_name": "Python 3",
   "language": "python",
   "name": "python3"
  },
  "language_info": {
   "codemirror_mode": {
    "name": "ipython",
    "version": 3
   },
   "file_extension": ".py",
   "mimetype": "text/x-python",
   "name": "python",
   "nbconvert_exporter": "python",
   "pygments_lexer": "ipython3",
   "version": "3.6.5"
  },
  "toc": {
   "base_numbering": 1,
   "nav_menu": {},
   "number_sections": true,
   "sideBar": true,
   "skip_h1_title": false,
   "title_cell": "Table of Contents",
   "title_sidebar": "Contents",
   "toc_cell": false,
   "toc_position": {},
   "toc_section_display": "block",
   "toc_window_display": false
  }
 },
 "nbformat": 4,
 "nbformat_minor": 2
}
