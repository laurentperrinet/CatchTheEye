{
 "cells": [
  {
   "cell_type": "code",
   "execution_count": 1,
   "metadata": {
    "ExecuteTime": {
     "end_time": "2018-06-01T15:14:20.072301Z",
     "start_time": "2018-06-01T15:14:20.057560Z"
    }
   },
   "outputs": [],
   "source": [
    "%load_ext autoreload\n",
    "%autoreload 2"
   ]
  },
  {
   "cell_type": "markdown",
   "metadata": {},
   "source": [
    "## scanning parameters"
   ]
  },
  {
   "cell_type": "code",
   "execution_count": 2,
   "metadata": {
    "ExecuteTime": {
     "end_time": "2018-06-02T03:55:39.274109Z",
     "start_time": "2018-06-01T15:14:20.074098Z"
    }
   },
   "outputs": [
    {
     "name": "stdout",
     "output_type": "stream",
     "text": [
      "scanning over lrs [0.005      0.00594604 0.00707107 0.00840896 0.01       0.01189207\n",
      " 0.01414214 0.01681793 0.02      ]\n",
      "For lr= 0.005 , Accuracy= 0.953\n",
      "For lr= 0.006 , Accuracy= 0.947\n",
      "For lr= 0.007 , Accuracy= 0.953\n",
      "For lr= 0.008 , Accuracy= 0.953\n",
      "For lr= 0.010 , Accuracy= 0.959\n",
      "For lr= 0.012 , Accuracy= 0.959\n",
      "For lr= 0.014 , Accuracy= 0.947\n",
      "For lr= 0.017 , Accuracy= 0.953\n",
      "For lr= 0.020 , Accuracy= 0.941\n",
      "scanning over momentums [0.15       0.17838107 0.21213203 0.25226892 0.3        0.35676213\n",
      " 0.42426407 0.50453785 0.6       ]\n",
      "For momentum= 0.150 , Accuracy= 0.941\n",
      "For momentum= 0.178 , Accuracy= 0.953\n",
      "For momentum= 0.212 , Accuracy= 0.953\n",
      "For momentum= 0.252 , Accuracy= 0.953\n",
      "For momentum= 0.300 , Accuracy= 0.959\n",
      "For momentum= 0.357 , Accuracy= 0.959\n",
      "For momentum= 0.424 , Accuracy= 0.959\n",
      "For momentum= 0.505 , Accuracy= 0.959\n",
      "For momentum= 0.600 , Accuracy= 0.947\n",
      "scanning over batch_sizes [8, 9, 11, 13, 16, 19, 22, 26, 32]\n",
      "For batch_size= 8 , Accuracy= 0.953\n",
      "For batch_size= 9 , Accuracy= 0.953\n",
      "For batch_size= 11 , Accuracy= 0.959\n",
      "For batch_size= 13 , Accuracy= 0.953\n",
      "For batch_size= 16 , Accuracy= 0.959\n",
      "For batch_size= 19 , Accuracy= 0.947\n",
      "For batch_size= 22 , Accuracy= 0.953\n",
      "For batch_size= 26 , Accuracy= 0.947\n",
      "For batch_size= 32 , Accuracy= 0.953\n",
      "scanning over epochss [101, 119, 142, 169, 201, 238, 283, 337, 401]\n",
      "For epochs= 101 , Accuracy= 0.959\n",
      "For epochs= 119 , Accuracy= 0.959\n",
      "For epochs= 142 , Accuracy= 0.959\n",
      "For epochs= 169 , Accuracy= 0.959\n",
      "For epochs= 201 , Accuracy= 0.959\n",
      "For epochs= 238 , Accuracy= 0.959\n",
      "For epochs= 283 , Accuracy= 0.959\n",
      "For epochs= 337 , Accuracy= 0.959\n",
      "For epochs= 401 , Accuracy= 0.959\n"
     ]
    }
   ],
   "source": [
    "import numpy as np \n",
    "base = 2\n",
    "N_scan = 9\n",
    "default = dict(verbose=0, log_interval=0)\n",
    "\n",
    "from Regard import init, ML\n",
    "\n",
    "lrs =  init().lr * np.logspace(-1, 1, N_scan, base=base)\n",
    "print('scanning over lrs', lrs)\n",
    "\n",
    "for lr in lrs:\n",
    "    args = init(lr=lr, **default)\n",
    "    ml = ML(args)\n",
    "    Accuracy = ml.protocol()\n",
    "    print ('For lr=', '%.3f' % lr, ', Accuracy=', '%.3f' % Accuracy)\n",
    "\n",
    "momentums = init().momentum * np.logspace(-1, 1, N_scan, base=base)\n",
    "print('scanning over momentums', momentums)\n",
    "\n",
    "for momentum in momentums:\n",
    "    args = init(momentum=momentum, **default)\n",
    "    ml = ML(args)\n",
    "    Accuracy = ml.protocol()\n",
    "    print ('For momentum=', '%.3f' % momentum, ', Accuracy=', '%.3f' % Accuracy)\n",
    "\n",
    "\n",
    "batch_sizes =  [int(k) for k in init().batch_size * np.logspace(-1, 1, N_scan, base=base)]\n",
    "print('scanning over batch_sizes', batch_sizes)\n",
    "\n",
    "for batch_size in batch_sizes:\n",
    "    args = init(batch_size=batch_size, **default)\n",
    "    ml = ML(args)\n",
    "    Accuracy = ml.protocol()\n",
    "    print ('For batch_size=', batch_size, ', Accuracy=', '%.3f' % Accuracy)\n",
    "\n",
    "epochss =  [int(k)+1 for k in init().epochs * np.logspace(-1, 1, N_scan, base=base)]\n",
    "print('scanning over epochss', epochss)\n",
    "\n",
    "for epochs in epochss:\n",
    "    args = init(verbose=0, log_interval=0, epochs=epochs)\n",
    "    ml = ML(args)\n",
    "    Accuracy = ml.protocol()\n",
    "    print ('For epochs=', epochs, ', Accuracy=', '%.3f' % Accuracy)\n",
    "\n",
    "    "
   ]
  }
 ],
 "metadata": {
  "kernel_info": {
   "name": "python3"
  },
  "kernelspec": {
   "display_name": "Python 3",
   "language": "python",
   "name": "python3"
  },
  "language_info": {
   "codemirror_mode": {
    "name": "ipython",
    "version": 3
   },
   "file_extension": ".py",
   "mimetype": "text/x-python",
   "name": "python",
   "nbconvert_exporter": "python",
   "pygments_lexer": "ipython3",
   "version": "3.6.5"
  },
  "nteract": {
   "version": "0.8.4"
  },
  "toc": {
   "base_numbering": 1,
   "nav_menu": {},
   "number_sections": true,
   "sideBar": true,
   "skip_h1_title": false,
   "title_cell": "Table of Contents",
   "title_sidebar": "Contents",
   "toc_cell": false,
   "toc_position": {},
   "toc_section_display": "block",
   "toc_window_display": false
  }
 },
 "nbformat": 4,
 "nbformat_minor": 2
}
