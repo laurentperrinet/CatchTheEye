{
 "cells": [
  {
   "cell_type": "code",
   "execution_count": 1,
   "metadata": {
    "ExecuteTime": {
     "end_time": "2018-05-25T15:02:40.686148Z",
     "start_time": "2018-05-25T15:02:40.670743Z"
    }
   },
   "outputs": [],
   "source": [
    "%load_ext autoreload\n",
    "%autoreload 2"
   ]
  },
  {
   "cell_type": "code",
   "execution_count": 2,
   "metadata": {
    "ExecuteTime": {
     "end_time": "2018-05-25T15:02:40.968427Z",
     "start_time": "2018-05-25T15:02:40.688302Z"
    }
   },
   "outputs": [],
   "source": [
    "%matplotlib inline\n"
   ]
  },
  {
   "cell_type": "markdown",
   "metadata": {},
   "source": [
    "## scanning parameters"
   ]
  },
  {
   "cell_type": "code",
   "execution_count": 3,
   "metadata": {
    "ExecuteTime": {
     "end_time": "2018-05-25T15:08:38.954216Z",
     "start_time": "2018-05-25T15:02:40.970095Z"
    }
   },
   "outputs": [
    {
     "name": "stdout",
     "output_type": "stream",
     "text": [
      "scanning over lrs [0.005 0.01  0.02 ]\n",
      "For lr= 0.005 , Accuracy= 0.43137254901960786\n",
      "For lr= 0.01 , Accuracy= 0.43137254901960786\n",
      "For lr= 0.02 , Accuracy= 0.43137254901960786\n",
      "scanning over momentums [0.25 0.5  1.  ]\n",
      "For momentum= 0.25 , Accuracy= 0.43137254901960786\n",
      "For momentum= 0.5 , Accuracy= 0.43137254901960786\n",
      "For momentum= 1.0 , Accuracy= 0.45751633986928103\n",
      "scanning over batch_sizes [32, 64, 128]\n",
      "For batch_size= 32 , Accuracy= 0.43137254901960786\n",
      "For batch_size= 64 , Accuracy= 0.43137254901960786\n",
      "For batch_size= 128 , Accuracy= 0.43137254901960786\n",
      "scanning over epochss [6, 11, 21]\n",
      "For epochs= 6 , Accuracy= 0.4989106753812636\n",
      "For epochs= 11 , Accuracy= 0.5642701525054467\n",
      "For epochs= 21 , Accuracy= 0.710239651416122\n"
     ]
    }
   ],
   "source": [
    "import numpy as np \n",
    "base = 4\n",
    "N_scan = 9\n",
    "default = dict(verbose=0, log_interval=0, epochs=30)\n",
    "\n",
    "from Regard import init, ML\n",
    "\n",
    "lrs =  init().lr * np.logspace(-1, 1, N_scan, base=base)\n",
    "print('scanning over lrs', lrs)\n",
    "\n",
    "for lr in lrs:\n",
    "    args = init(lr=lr, **default)\n",
    "    ml = ML(args)\n",
    "    Accuracy = ml.protocol()\n",
    "    print ('For lr=', lr, ', Accuracy=', Accuracy)\n",
    "\n",
    "momentums = init().momentum * np.logspace(-1, 1, N_scan, base=base)\n",
    "print('scanning over momentums', momentums)\n",
    "\n",
    "for momentum in momentums:\n",
    "    args = init(momentum=momentum, **default)\n",
    "    ml = ML(args)\n",
    "    Accuracy = ml.protocol()\n",
    "    print ('For momentum=', momentum, ', Accuracy=', Accuracy)\n",
    "\n",
    "\n",
    "batch_sizes =  [int(k) for k in init().batch_size * np.logspace(-1, 1, N_scan, base=base)]\n",
    "print('scanning over batch_sizes', batch_sizes)\n",
    "\n",
    "for batch_size in batch_sizes:\n",
    "    args = init(batch_size=batch_size, **default)\n",
    "    ml = ML(args)\n",
    "    Accuracy = ml.protocol()\n",
    "    print ('For batch_size=', batch_size, ', Accuracy=', Accuracy)\n",
    "\n",
    "\n",
    "\n",
    "\n",
    "epochss =  [int(k)+1 for k in init().epochs * np.logspace(-1, 1, N_scan, base=base)]\n",
    "print('scanning over epochss', epochss)\n",
    "\n",
    "for epochs in epochss:\n",
    "    args = init(verbose=0, log_interval=0, epochs=epochs)\n",
    "    ml = ML(args)\n",
    "    Accuracy = ml.protocol()\n",
    "    print ('For epochs=', epochs, ', Accuracy=', Accuracy)\n",
    "\n",
    "\n",
    "\n",
    "\n",
    "    "
   ]
  }
 ],
 "metadata": {
  "kernelspec": {
   "display_name": "Python 3",
   "language": "python",
   "name": "python3"
  },
  "language_info": {
   "codemirror_mode": {
    "name": "ipython",
    "version": 3
   },
   "file_extension": ".py",
   "mimetype": "text/x-python",
   "name": "python",
   "nbconvert_exporter": "python",
   "pygments_lexer": "ipython3",
   "version": "3.6.5"
  },
  "toc": {
   "base_numbering": 1,
   "nav_menu": {},
   "number_sections": true,
   "sideBar": true,
   "skip_h1_title": false,
   "title_cell": "Table of Contents",
   "title_sidebar": "Contents",
   "toc_cell": false,
   "toc_position": {},
   "toc_section_display": "block",
   "toc_window_display": false
  }
 },
 "nbformat": 4,
 "nbformat_minor": 2
}
