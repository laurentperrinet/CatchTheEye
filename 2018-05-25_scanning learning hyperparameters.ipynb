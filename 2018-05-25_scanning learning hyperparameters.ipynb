{
 "cells": [
  {
   "cell_type": "code",
   "execution_count": 1,
   "metadata": {
    "ExecuteTime": {
     "end_time": "2018-06-08T11:36:38.719790Z",
     "start_time": "2018-06-08T11:36:38.700930Z"
    }
   },
   "outputs": [],
   "source": [
    "%load_ext autoreload\n",
    "%autoreload 2"
   ]
  },
  {
   "cell_type": "markdown",
   "metadata": {},
   "source": [
    "## scanning parameters"
   ]
  },
  {
   "cell_type": "code",
   "execution_count": 2,
   "metadata": {
    "ExecuteTime": {
     "end_time": "2018-06-09T11:52:06.140410Z",
     "start_time": "2018-06-08T11:36:38.722312Z"
    }
   },
   "outputs": [
    {
     "name": "stdout",
     "output_type": "stream",
     "text": [
      "scanning over lrs [0.0025     0.00297302 0.00353553 0.00420448 0.005      0.00594604\n",
      " 0.00707107 0.00840896 0.01      ]\n",
      "For lr= 0.003 , Accuracy= 0.958\n",
      "For lr= 0.003 , Accuracy= 0.958\n",
      "For lr= 0.004 , Accuracy= 0.964\n",
      "For lr= 0.004 , Accuracy= 0.976\n",
      "For lr= 0.005 , Accuracy= 0.964\n",
      "For lr= 0.006 , Accuracy= 0.964\n",
      "For lr= 0.007 , Accuracy= 0.958\n",
      "For lr= 0.008 , Accuracy= 0.964\n",
      "For lr= 0.010 , Accuracy= 0.976\n",
      "scanning over momentums [0.24       0.28540971 0.33941125 0.40363028 0.48       0.57081942\n",
      " 0.67882251 0.80726056 0.96      ]\n",
      "For momentum= 0.240 , Accuracy= 0.970\n",
      "For momentum= 0.285 , Accuracy= 0.970\n",
      "For momentum= 0.339 , Accuracy= 0.964\n",
      "For momentum= 0.404 , Accuracy= 0.976\n",
      "For momentum= 0.480 , Accuracy= 0.964\n",
      "For momentum= 0.571 , Accuracy= 0.970\n",
      "For momentum= 0.679 , Accuracy= 0.958\n",
      "For momentum= 0.807 , Accuracy= 0.958\n",
      "For momentum= 0.960 , Accuracy= 0.952\n",
      "scanning over batch_sizes [8, 9, 11, 13, 16, 19, 22, 26, 32]\n",
      "For batch_size= 8 , Accuracy= 0.970\n",
      "For batch_size= 9 , Accuracy= 0.970\n",
      "For batch_size= 11 , Accuracy= 0.970\n",
      "For batch_size= 13 , Accuracy= 0.976\n",
      "For batch_size= 16 , Accuracy= 0.964\n",
      "For batch_size= 19 , Accuracy= 0.970\n",
      "For batch_size= 22 , Accuracy= 0.964\n",
      "For batch_size= 26 , Accuracy= 0.970\n",
      "For batch_size= 32 , Accuracy= 0.964\n",
      "scanning over epochss [51, 60, 71, 85, 101, 119, 142, 169, 201]\n",
      "For epochs= 51 , Accuracy= 0.958\n",
      "For epochs= 60 , Accuracy= 0.945\n",
      "For epochs= 71 , Accuracy= 0.952\n",
      "For epochs= 85 , Accuracy= 0.964\n",
      "For epochs= 101 , Accuracy= 0.970\n",
      "For epochs= 119 , Accuracy= 0.958\n",
      "For epochs= 142 , Accuracy= 0.976\n",
      "For epochs= 169 , Accuracy= 0.945\n",
      "For epochs= 201 , Accuracy= 0.964\n"
     ]
    }
   ],
   "source": [
    "import numpy as np \n",
    "base = 2\n",
    "N_scan = 9\n",
    "default = dict(verbose=0, log_interval=0)\n",
    "\n",
    "from Regard import init, ML\n",
    "\n",
    "lrs =  init().lr * np.logspace(-1, 1, N_scan, base=base)\n",
    "print('scanning over lrs', lrs)\n",
    "\n",
    "for lr in lrs:\n",
    "    args = init(lr=lr, **default)\n",
    "    ml = ML(args)\n",
    "    Accuracy = ml.protocol()\n",
    "    print ('For lr=', '%.3f' % lr, ', Accuracy=', '%.3f' % Accuracy)\n",
    "\n",
    "momentums = init().momentum * np.logspace(-1, 1, N_scan, base=base)\n",
    "print('scanning over momentums', momentums)\n",
    "\n",
    "for momentum in momentums:\n",
    "    args = init(momentum=momentum, **default)\n",
    "    ml = ML(args)\n",
    "    Accuracy = ml.protocol()\n",
    "    print ('For momentum=', '%.3f' % momentum, ', Accuracy=', '%.3f' % Accuracy)\n",
    "\n",
    "\n",
    "batch_sizes =  [int(k) for k in init().batch_size * np.logspace(-1, 1, N_scan, base=base)]\n",
    "print('scanning over batch_sizes', batch_sizes)\n",
    "\n",
    "for batch_size in batch_sizes:\n",
    "    args = init(batch_size=batch_size, **default)\n",
    "    ml = ML(args)\n",
    "    Accuracy = ml.protocol()\n",
    "    print ('For batch_size=', batch_size, ', Accuracy=', '%.3f' % Accuracy)\n",
    "\n",
    "epochss =  [int(k)+1 for k in init().epochs * np.logspace(-1, 1, N_scan, base=base)]\n",
    "print('scanning over epochss', epochss)\n",
    "\n",
    "for epochs in epochss:\n",
    "    args = init(verbose=0, log_interval=0, epochs=epochs)\n",
    "    ml = ML(args)\n",
    "    Accuracy = ml.protocol()\n",
    "    print ('For epochs=', epochs, ', Accuracy=', '%.3f' % Accuracy)\n",
    "\n",
    "    "
   ]
  }
 ],
 "metadata": {
  "kernel_info": {
   "name": "python3"
  },
  "kernelspec": {
   "display_name": "Python 3",
   "language": "python",
   "name": "python3"
  },
  "language_info": {
   "codemirror_mode": {
    "name": "ipython",
    "version": 3
   },
   "file_extension": ".py",
   "mimetype": "text/x-python",
   "name": "python",
   "nbconvert_exporter": "python",
   "pygments_lexer": "ipython3",
   "version": "3.6.5"
  },
  "nteract": {
   "version": "0.8.4"
  },
  "toc": {
   "base_numbering": 1,
   "nav_menu": {},
   "number_sections": true,
   "sideBar": true,
   "skip_h1_title": false,
   "title_cell": "Table of Contents",
   "title_sidebar": "Contents",
   "toc_cell": false,
   "toc_position": {},
   "toc_section_display": "block",
   "toc_window_display": false
  }
 },
 "nbformat": 4,
 "nbformat_minor": 2
}
