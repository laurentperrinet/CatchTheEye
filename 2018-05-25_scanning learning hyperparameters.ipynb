{
 "cells": [
  {
   "cell_type": "code",
   "execution_count": 1,
   "metadata": {
    "ExecuteTime": {
     "end_time": "2018-06-22T07:28:21.617958Z",
     "start_time": "2018-06-22T07:28:21.602680Z"
    }
   },
   "outputs": [],
   "source": [
    "%load_ext autoreload\n",
    "%autoreload 2"
   ]
  },
  {
   "cell_type": "markdown",
   "metadata": {},
   "source": [
    "## scanning parameters"
   ]
  },
  {
   "cell_type": "code",
   "execution_count": null,
   "metadata": {
    "ExecuteTime": {
     "start_time": "2018-06-22T07:28:21.586Z"
    }
   },
   "outputs": [
    {
     "name": "stdout",
     "output_type": "stream",
     "text": [
      "scanning over lrs [0.00325    0.00386492 0.00459619 0.00546583 0.0065     0.00772985\n",
      " 0.00919239 0.01093165 0.013     ]\n",
      "For lr= 0.003 , Accuracy= 0.987  in  6478.066 seconds\n",
      "For lr= 0.004 , Accuracy= 0.994  in  6371.344 seconds\n",
      "For lr= 0.005 , Accuracy= 0.981  in  6710.205 seconds\n"
     ]
    }
   ],
   "source": [
    "import numpy as np \n",
    "base = 2\n",
    "N_scan = 9\n",
    "default = dict(verbose=0, log_interval=0)\n",
    "\n",
    "from Regard import init, ML\n",
    "import time\n",
    "\n",
    "lrs =  init().lr * np.logspace(-1, 1, N_scan, base=base)\n",
    "print('scanning over lrs', lrs)\n",
    "\n",
    "for lr in lrs:\n",
    "    args = init(lr=lr, **default)\n",
    "    t0 = time.time()\n",
    "    ml = ML(args)\n",
    "    Accuracy = ml.protocol()\n",
    "    print ('For lr=', '%.3f' % lr, ', Accuracy=', '%.3f' % Accuracy, ' in ', '%.3f' % (time.time() - t0), 'seconds')\n",
    "\n",
    "momentums = init().momentum * np.logspace(-1, 1, N_scan, base=base)\n",
    "print('scanning over momentums', momentums)\n",
    "\n",
    "for momentum in momentums:\n",
    "    args = init(momentum=momentum, **default)\n",
    "    t0 = time.time()\n",
    "    ml = ML(args)\n",
    "    Accuracy = ml.protocol()\n",
    "    print ('For momentum=', '%.3f' % momentum, ', Accuracy=', '%.3f' % Accuracy, ' in ', '%.3f' % (time.time() - t0), 'seconds')\n",
    "\n",
    "\n",
    "batch_sizes =  [int(k) for k in init().batch_size * np.logspace(-1, 1, N_scan, base=base)]\n",
    "print('scanning over batch_sizes', batch_sizes)\n",
    "\n",
    "for batch_size in batch_sizes:\n",
    "    args = init(batch_size=batch_size, **default)\n",
    "    t0 = time.time()\n",
    "    ml = ML(args)\n",
    "    Accuracy = ml.protocol()\n",
    "    print ('For batch_size=', batch_size, ', Accuracy=', '%.3f' % Accuracy, ' in ', '%.3f' % (time.time() - t0), 'seconds')\n",
    "\n",
    "epochss =  [int(k)+1 for k in init().epochs * np.logspace(-1, 1, N_scan, base=base)]\n",
    "print('scanning over epochss', epochss)\n",
    "\n",
    "for epochs in epochss:\n",
    "    args = init(verbose=0, log_interval=0, epochs=epochs)\n",
    "    t0 = time.time()\n",
    "    ml = ML(args)\n",
    "    Accuracy = ml.protocol()\n",
    "    print ('For epochs=', epochs, ', Accuracy=', '%.3f' % Accuracy, ' in ', '%.3f' % (time.time() - t0), 'seconds')\n",
    "\n",
    "    \n",
    "print(50*'-')\n",
    "print('Using ADAM')\n",
    "print(50*'-')\n",
    "lrs =  init().lr * np.logspace(-1, 1, N_scan, base=base)\n",
    "print('scanning over lrs', lrs)\n",
    "\n",
    "for lr in lrs:\n",
    "    args = init(do_adam=True, lr=lr, **default)\n",
    "    t0 = time.time()\n",
    "    ml = ML(args)\n",
    "    Accuracy = ml.protocol()\n",
    "    print ('For lr=', '%.3f' % lr, ', Accuracy=', '%.3f' % Accuracy, ' in ', '%.3f' % (time.time() - t0), 'seconds')\n",
    "\n",
    "momentums = init().momentum * np.logspace(-1, 1, N_scan, base=base)\n",
    "print('scanning over momentums', momentums)\n",
    "\n",
    "for momentum in momentums:\n",
    "    args = init(do_adam=True, momentum=momentum, **default)\n",
    "    t0 = time.time()\n",
    "    ml = ML(args)\n",
    "    Accuracy = ml.protocol()\n",
    "    print ('For momentum=', '%.3f' % momentum, ', Accuracy=', '%.3f' % Accuracy, ' in ', '%.3f' % (time.time() - t0), 'seconds')\n",
    "\n",
    "\n"
   ]
  }
 ],
 "metadata": {
  "kernel_info": {
   "name": "python3"
  },
  "kernelspec": {
   "display_name": "Python 3",
   "language": "python",
   "name": "python3"
  },
  "language_info": {
   "codemirror_mode": {
    "name": "ipython",
    "version": 3
   },
   "file_extension": ".py",
   "mimetype": "text/x-python",
   "name": "python",
   "nbconvert_exporter": "python",
   "pygments_lexer": "ipython3",
   "version": "3.6.5"
  },
  "nteract": {
   "version": "0.8.4"
  },
  "toc": {
   "base_numbering": 1,
   "nav_menu": {},
   "number_sections": true,
   "sideBar": true,
   "skip_h1_title": false,
   "title_cell": "Table of Contents",
   "title_sidebar": "Contents",
   "toc_cell": false,
   "toc_position": {},
   "toc_section_display": "block",
   "toc_window_display": false
  }
 },
 "nbformat": 4,
 "nbformat_minor": 2
}
