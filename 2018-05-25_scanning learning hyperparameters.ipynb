{
 "cells": [
  {
   "cell_type": "code",
   "execution_count": 1,
   "metadata": {
    "ExecuteTime": {
     "end_time": "2018-05-28T11:52:06.263487Z",
     "start_time": "2018-05-28T11:52:06.250783Z"
    }
   },
   "outputs": [],
   "source": [
    "%load_ext autoreload\n",
    "%autoreload 2"
   ]
  },
  {
   "cell_type": "markdown",
   "metadata": {},
   "source": [
    "## scanning parameters"
   ]
  },
  {
   "cell_type": "code",
   "execution_count": null,
   "metadata": {
    "ExecuteTime": {
     "start_time": "2018-05-28T11:52:06.240Z"
    }
   },
   "outputs": [
    {
     "name": "stdout",
     "output_type": "stream",
     "text": [
      "scanning over lrs [0.0025     0.00353553 0.005      0.00707107 0.01       0.01414214\n",
      " 0.02       0.02828427 0.04      ]\n",
      "For lr= 0.0025 , Accuracy= 0.8365384615384616\n"
     ]
    }
   ],
   "source": [
    "import numpy as np \n",
    "base = 4\n",
    "N_scan = 9\n",
    "default = dict(verbose=0, log_interval=0, epochs=30)\n",
    "\n",
    "from Regard import init, ML\n",
    "\n",
    "lrs =  init().lr * np.logspace(-1, 1, N_scan, base=base)\n",
    "print('scanning over lrs', lrs)\n",
    "\n",
    "for lr in lrs:\n",
    "    args = init(lr=lr, **default)\n",
    "    ml = ML(args)\n",
    "    Accuracy = ml.protocol()\n",
    "    print ('For lr=', lr, ', Accuracy=', Accuracy)\n",
    "\n",
    "momentums = init().momentum * np.logspace(-1, 1, N_scan, base=base)\n",
    "print('scanning over momentums', momentums)\n",
    "\n",
    "for momentum in momentums:\n",
    "    args = init(momentum=momentum, **default)\n",
    "    ml = ML(args)\n",
    "    Accuracy = ml.protocol()\n",
    "    print ('For momentum=', momentum, ', Accuracy=', Accuracy)\n",
    "\n",
    "\n",
    "batch_sizes =  [int(k) for k in init().batch_size * np.logspace(-1, 1, N_scan, base=base)]\n",
    "print('scanning over batch_sizes', batch_sizes)\n",
    "\n",
    "for batch_size in batch_sizes:\n",
    "    args = init(batch_size=batch_size, **default)\n",
    "    ml = ML(args)\n",
    "    Accuracy = ml.protocol()\n",
    "    print ('For batch_size=', batch_size, ', Accuracy=', Accuracy)\n",
    "\n",
    "epochss =  [int(k)+1 for k in init().epochs * np.logspace(-1, 1, N_scan, base=base)]\n",
    "print('scanning over epochss', epochss)\n",
    "\n",
    "for epochs in epochss:\n",
    "    args = init(verbose=0, log_interval=0, epochs=epochs)\n",
    "    ml = ML(args)\n",
    "    Accuracy = ml.protocol()\n",
    "    print ('For epochs=', epochs, ', Accuracy=', Accuracy)\n",
    "\n",
    "    "
   ]
  }
 ],
 "metadata": {
  "kernel_info": {
   "name": "python3"
  },
  "kernelspec": {
   "display_name": "Python 3",
   "language": "python",
   "name": "python3"
  },
  "language_info": {
   "codemirror_mode": {
    "name": "ipython",
    "version": 3
   },
   "file_extension": ".py",
   "mimetype": "text/x-python",
   "name": "python",
   "nbconvert_exporter": "python",
   "pygments_lexer": "ipython3",
   "version": "3.6.5"
  },
  "nteract": {
   "version": "0.8.4"
  },
  "toc": {
   "base_numbering": 1,
   "nav_menu": {},
   "number_sections": true,
   "sideBar": true,
   "skip_h1_title": false,
   "title_cell": "Table of Contents",
   "title_sidebar": "Contents",
   "toc_cell": false,
   "toc_position": {},
   "toc_section_display": "block",
   "toc_window_display": false
  }
 },
 "nbformat": 4,
 "nbformat_minor": 2
}
