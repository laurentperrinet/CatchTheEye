{
  "cells": [
    {
      "cell_type": "code",
      "source": [
        "%load_ext autoreload\n",
        "%autoreload 2"
      ],
      "outputs": [
        {
          "output_type": "stream",
          "name": "stdout",
          "text": [
            "The autoreload extension is already loaded. To reload it, use:\n",
            "  %reload_ext autoreload\n"
          ]
        }
      ],
      "execution_count": 7,
      "metadata": {
        "ExecuteTime": {
          "end_time": "2018-05-25T14:58:46.738226Z",
          "start_time": "2018-05-25T14:58:46.722301Z"
        }
      }
    },
    {
      "cell_type": "code",
      "source": [
        "%matplotlib inline\n"
      ],
      "outputs": [],
      "execution_count": 8,
      "metadata": {
        "ExecuteTime": {
          "end_time": "2018-05-25T14:58:47.039442Z",
          "start_time": "2018-05-25T14:58:46.740318Z"
        }
      }
    },
    {
      "cell_type": "markdown",
      "source": [
        "## running the model"
      ],
      "metadata": {}
    },
    {
      "cell_type": "code",
      "source": [
        "from Regard import init\n",
        "args = init(verbose=1)\n",
        "print('Parameters=', args)\n",
        "\npath = 'Regard.pt'"
      ],
      "outputs": [
        {
          "output_type": "stream",
          "name": "stdout",
          "text": [
            "Parameters= {'batch_size': 8, 'test_batch_size': 400, 'epochs': 30, 'lr': 0.01, 'momentum': 0.25, 'no_cuda': True, 'num_processes': 1, 'seed': 42, 'log_interval': 10, 'dimension': 50, 'verbose': 1, 'conv1_dim': 10, 'conv1_kernel_size': 5, 'conv2_dim': 20, 'conv2_kernel_size': 5, 'crop': 181, 'size': 128, 'mean': 0.3, 'std': 0.6}\n"
          ]
        }
      ],
      "execution_count": 9,
      "metadata": {
        "ExecuteTime": {
          "end_time": "2018-05-25T14:58:47.297213Z",
          "start_time": "2018-05-25T14:58:47.041906Z"
        }
      }
    },
    {
      "cell_type": "code",
      "source": [
        "#!rm {path}"
      ],
      "outputs": [],
      "execution_count": 10,
      "metadata": {
        "ExecuteTime": {
          "end_time": "2018-05-25T14:58:47.440047Z",
          "start_time": "2018-05-25T14:58:47.299269Z"
        }
      }
    },
    {
      "cell_type": "code",
      "source": [
        "from Regard import ML\n",
        "ml = ML(args)\n",
        "\n",
        "import os\n",
        "import torch\n",
        "if os.path.isfile(path):\n",
        "    ml.model.load_state_dict(torch.load(path))\n",
        "    print('Loading file', path)\n",
        "else:\n",
        "    print('Training model...')\n",
        "    ml.main()\n",
        "    torch.save(ml.model.state_dict(), path) #save the neural network state\n",
        "    print('Model saved at', path)"
      ],
      "outputs": [
        {
          "output_type": "stream",
          "name": "stdout",
          "text": [
            "cuda? False\n",
            "cuda? False\n",
            "Training model...\n"
          ]
        },
        {
          "output_type": "display_data",
          "data": {
            "text/plain": [
              "HBox(children=(IntProgress(value=0, description='Train Epoch', max=30), HTML(value='')))"
            ],
            "application/vnd.jupyter.widget-view+json": {
              "version_major": 2,
              "version_minor": 0,
              "model_id": "f3263e7060784a86ad1615766dd8b395"
            }
          },
          "metadata": {}
        },
        {
          "output_type": "stream",
          "name": "stdout",
          "text": [
            "\tTrain Epoch: 1 [0/459 (0%)]\tLoss: 1.462296\n",
            "\tTrain Epoch: 1 [80/459 (17%)]\tLoss: 1.251942\n",
            "\tTrain Epoch: 1 [160/459 (34%)]\tLoss: 1.007029\n",
            "\tTrain Epoch: 1 [240/459 (52%)]\tLoss: 1.389313\n",
            "\tTrain Epoch: 1 [320/459 (69%)]\tLoss: 1.153822\n",
            "\tTrain Epoch: 1 [400/459 (86%)]\tLoss: 1.143230\n",
            "\tTrain Epoch: 2 [0/459 (0%)]\tLoss: 1.101670\n",
            "\tTrain Epoch: 2 [80/459 (17%)]\tLoss: 1.135193\n",
            "\tTrain Epoch: 2 [160/459 (34%)]\tLoss: 0.968264\n",
            "\tTrain Epoch: 2 [240/459 (52%)]\tLoss: 1.378221\n",
            "\tTrain Epoch: 2 [320/459 (69%)]\tLoss: 1.160446\n",
            "\tTrain Epoch: 2 [400/459 (86%)]\tLoss: 1.095440\n",
            "\tTrain Epoch: 3 [0/459 (0%)]\tLoss: 1.105034\n",
            "\tTrain Epoch: 3 [80/459 (17%)]\tLoss: 1.181159\n",
            "\tTrain Epoch: 3 [160/459 (34%)]\tLoss: 0.785958\n",
            "\tTrain Epoch: 3 [240/459 (52%)]\tLoss: 1.407528\n",
            "\tTrain Epoch: 3 [320/459 (69%)]\tLoss: 1.293322\n",
            "\tTrain Epoch: 3 [400/459 (86%)]\tLoss: 1.076299\n",
            "\tTrain Epoch: 4 [0/459 (0%)]\tLoss: 1.086976\n",
            "\tTrain Epoch: 4 [80/459 (17%)]\tLoss: 1.251458\n",
            "\tTrain Epoch: 4 [160/459 (34%)]\tLoss: 0.649724\n",
            "\tTrain Epoch: 4 [240/459 (52%)]\tLoss: 1.251047\n",
            "\tTrain Epoch: 4 [320/459 (69%)]\tLoss: 1.273232\n",
            "\tTrain Epoch: 4 [400/459 (86%)]\tLoss: 1.014973\n",
            "\tTrain Epoch: 5 [0/459 (0%)]\tLoss: 1.011138\n",
            "\tTrain Epoch: 5 [80/459 (17%)]\tLoss: 1.120679\n",
            "\tTrain Epoch: 5 [160/459 (34%)]\tLoss: 0.470887\n",
            "\tTrain Epoch: 5 [240/459 (52%)]\tLoss: 0.888457\n",
            "\tTrain Epoch: 5 [320/459 (69%)]\tLoss: 1.080225\n",
            "\tTrain Epoch: 5 [400/459 (86%)]\tLoss: 0.815520\n",
            "\tTrain Epoch: 6 [0/459 (0%)]\tLoss: 0.869771\n",
            "\tTrain Epoch: 6 [80/459 (17%)]\tLoss: 0.842799\n",
            "\tTrain Epoch: 6 [160/459 (34%)]\tLoss: 0.369948\n",
            "\tTrain Epoch: 6 [240/459 (52%)]\tLoss: 0.462352\n",
            "\tTrain Epoch: 6 [320/459 (69%)]\tLoss: 0.868040\n",
            "\tTrain Epoch: 6 [400/459 (86%)]\tLoss: 0.553733\n",
            "\tTrain Epoch: 7 [0/459 (0%)]\tLoss: 0.711980\n",
            "\tTrain Epoch: 7 [80/459 (17%)]\tLoss: 0.581380\n",
            "\tTrain Epoch: 7 [160/459 (34%)]\tLoss: 0.318002\n",
            "\tTrain Epoch: 7 [240/459 (52%)]\tLoss: 0.340784\n",
            "\tTrain Epoch: 7 [320/459 (69%)]\tLoss: 0.697653\n",
            "\tTrain Epoch: 7 [400/459 (86%)]\tLoss: 0.593065\n",
            "\tTrain Epoch: 8 [0/459 (0%)]\tLoss: 0.497298\n",
            "\tTrain Epoch: 8 [80/459 (17%)]\tLoss: 0.424580\n",
            "\tTrain Epoch: 8 [160/459 (34%)]\tLoss: 0.257790\n",
            "\tTrain Epoch: 8 [240/459 (52%)]\tLoss: 0.217999\n",
            "\tTrain Epoch: 8 [320/459 (69%)]\tLoss: 0.523886\n",
            "\tTrain Epoch: 8 [400/459 (86%)]\tLoss: 0.417324\n",
            "\tTrain Epoch: 9 [0/459 (0%)]\tLoss: 0.415242\n",
            "\tTrain Epoch: 9 [80/459 (17%)]\tLoss: 0.272824\n",
            "\tTrain Epoch: 9 [160/459 (34%)]\tLoss: 0.217221\n",
            "\tTrain Epoch: 9 [240/459 (52%)]\tLoss: 0.224912\n",
            "\tTrain Epoch: 9 [320/459 (69%)]\tLoss: 0.501005\n",
            "\tTrain Epoch: 9 [400/459 (86%)]\tLoss: 0.460199\n",
            "\tTrain Epoch: 10 [0/459 (0%)]\tLoss: 0.806856\n",
            "\tTrain Epoch: 10 [80/459 (17%)]\tLoss: 0.468553\n",
            "\tTrain Epoch: 10 [160/459 (34%)]\tLoss: 0.196606\n",
            "\tTrain Epoch: 10 [240/459 (52%)]\tLoss: 0.115977\n",
            "\tTrain Epoch: 10 [320/459 (69%)]\tLoss: 0.344075\n",
            "\tTrain Epoch: 10 [400/459 (86%)]\tLoss: 0.170763\n",
            "\tTrain Epoch: 11 [0/459 (0%)]\tLoss: 1.126817\n",
            "\tTrain Epoch: 11 [80/459 (17%)]\tLoss: 0.177087\n",
            "\tTrain Epoch: 11 [160/459 (34%)]\tLoss: 0.322262\n",
            "\tTrain Epoch: 11 [240/459 (52%)]\tLoss: 0.063982\n",
            "\tTrain Epoch: 11 [320/459 (69%)]\tLoss: 0.263676\n",
            "\tTrain Epoch: 11 [400/459 (86%)]\tLoss: 0.141360\n",
            "\tTrain Epoch: 12 [0/459 (0%)]\tLoss: 0.675103\n",
            "\tTrain Epoch: 12 [80/459 (17%)]\tLoss: 0.292882\n",
            "\tTrain Epoch: 12 [160/459 (34%)]\tLoss: 0.389048\n",
            "\tTrain Epoch: 12 [240/459 (52%)]\tLoss: 0.069688\n",
            "\tTrain Epoch: 12 [320/459 (69%)]\tLoss: 0.192082\n",
            "\tTrain Epoch: 12 [400/459 (86%)]\tLoss: 0.138483\n",
            "\tTrain Epoch: 13 [0/459 (0%)]\tLoss: 0.411608\n",
            "\tTrain Epoch: 13 [80/459 (17%)]\tLoss: 0.387023\n",
            "\tTrain Epoch: 13 [160/459 (34%)]\tLoss: 0.392219\n",
            "\tTrain Epoch: 13 [240/459 (52%)]\tLoss: 0.057544\n",
            "\tTrain Epoch: 13 [320/459 (69%)]\tLoss: 0.159436\n",
            "\tTrain Epoch: 13 [400/459 (86%)]\tLoss: 0.102738\n",
            "\tTrain Epoch: 14 [0/459 (0%)]\tLoss: 0.300382\n",
            "\tTrain Epoch: 14 [80/459 (17%)]\tLoss: 0.611459\n",
            "\tTrain Epoch: 14 [160/459 (34%)]\tLoss: 0.089581\n",
            "\tTrain Epoch: 14 [240/459 (52%)]\tLoss: 0.027192\n",
            "\tTrain Epoch: 14 [320/459 (69%)]\tLoss: 0.163337\n",
            "\tTrain Epoch: 14 [400/459 (86%)]\tLoss: 0.103335\n",
            "\tTrain Epoch: 15 [0/459 (0%)]\tLoss: 0.341558\n",
            "\tTrain Epoch: 15 [80/459 (17%)]\tLoss: 0.757557\n",
            "\tTrain Epoch: 15 [160/459 (34%)]\tLoss: 0.029900\n",
            "\tTrain Epoch: 15 [240/459 (52%)]\tLoss: 0.031295\n",
            "\tTrain Epoch: 15 [320/459 (69%)]\tLoss: 0.092395\n",
            "\tTrain Epoch: 15 [400/459 (86%)]\tLoss: 0.110871\n",
            "\tTrain Epoch: 16 [0/459 (0%)]\tLoss: 0.274363\n",
            "\tTrain Epoch: 16 [80/459 (17%)]\tLoss: 0.947538\n",
            "\tTrain Epoch: 16 [160/459 (34%)]\tLoss: 0.006950\n",
            "\tTrain Epoch: 16 [240/459 (52%)]\tLoss: 0.023985\n",
            "\tTrain Epoch: 16 [320/459 (69%)]\tLoss: 0.067316\n",
            "\tTrain Epoch: 16 [400/459 (86%)]\tLoss: 0.080278\n",
            "\tTrain Epoch: 17 [0/459 (0%)]\tLoss: 0.249203\n",
            "\tTrain Epoch: 17 [80/459 (17%)]\tLoss: 0.607968\n",
            "\tTrain Epoch: 17 [160/459 (34%)]\tLoss: 0.025045\n",
            "\tTrain Epoch: 17 [240/459 (52%)]\tLoss: 0.017840\n",
            "\tTrain Epoch: 17 [320/459 (69%)]\tLoss: 0.052591\n",
            "\tTrain Epoch: 17 [400/459 (86%)]\tLoss: 0.070795\n",
            "\tTrain Epoch: 18 [0/459 (0%)]\tLoss: 0.200656\n",
            "\tTrain Epoch: 18 [80/459 (17%)]\tLoss: 0.439881\n",
            "\tTrain Epoch: 18 [160/459 (34%)]\tLoss: 0.117790\n",
            "\tTrain Epoch: 18 [240/459 (52%)]\tLoss: 0.036190\n",
            "\tTrain Epoch: 18 [320/459 (69%)]\tLoss: 0.128614\n",
            "\tTrain Epoch: 18 [400/459 (86%)]\tLoss: 0.096848\n",
            "\tTrain Epoch: 19 [0/459 (0%)]\tLoss: 0.158828\n",
            "\tTrain Epoch: 19 [80/459 (17%)]\tLoss: 0.480671\n",
            "\tTrain Epoch: 19 [160/459 (34%)]\tLoss: 0.005707\n",
            "\tTrain Epoch: 19 [240/459 (52%)]\tLoss: 0.017018\n",
            "\tTrain Epoch: 19 [320/459 (69%)]\tLoss: 0.049605\n",
            "\tTrain Epoch: 19 [400/459 (86%)]\tLoss: 0.055205\n",
            "\tTrain Epoch: 20 [0/459 (0%)]\tLoss: 0.144589\n",
            "\tTrain Epoch: 20 [80/459 (17%)]\tLoss: 0.262271\n",
            "\tTrain Epoch: 20 [160/459 (34%)]\tLoss: 0.075935\n",
            "\tTrain Epoch: 20 [240/459 (52%)]\tLoss: 0.028475\n",
            "\tTrain Epoch: 20 [320/459 (69%)]\tLoss: 0.065770\n",
            "\tTrain Epoch: 20 [400/459 (86%)]\tLoss: 0.062873\n",
            "\tTrain Epoch: 21 [0/459 (0%)]\tLoss: 0.114726\n",
            "\tTrain Epoch: 21 [80/459 (17%)]\tLoss: 0.187405\n",
            "\tTrain Epoch: 21 [160/459 (34%)]\tLoss: 0.003935\n",
            "\tTrain Epoch: 21 [240/459 (52%)]\tLoss: 0.015197\n",
            "\tTrain Epoch: 21 [320/459 (69%)]\tLoss: 0.019427\n",
            "\tTrain Epoch: 21 [400/459 (86%)]\tLoss: 0.037475\n",
            "\tTrain Epoch: 22 [0/459 (0%)]\tLoss: 0.074664\n",
            "\tTrain Epoch: 22 [80/459 (17%)]\tLoss: 0.069960\n",
            "\tTrain Epoch: 22 [160/459 (34%)]\tLoss: 0.001774\n",
            "\tTrain Epoch: 22 [240/459 (52%)]\tLoss: 0.011840\n",
            "\tTrain Epoch: 22 [320/459 (69%)]\tLoss: 0.015488\n",
            "\tTrain Epoch: 22 [400/459 (86%)]\tLoss: 0.021169\n",
            "\tTrain Epoch: 23 [0/459 (0%)]\tLoss: 0.048032\n",
            "\tTrain Epoch: 23 [80/459 (17%)]\tLoss: 0.028118\n",
            "\tTrain Epoch: 23 [160/459 (34%)]\tLoss: 0.001104\n",
            "\tTrain Epoch: 23 [240/459 (52%)]\tLoss: 0.009113\n",
            "\tTrain Epoch: 23 [320/459 (69%)]\tLoss: 0.019827\n",
            "\tTrain Epoch: 23 [400/459 (86%)]\tLoss: 0.012807\n",
            "\tTrain Epoch: 24 [0/459 (0%)]\tLoss: 0.034854\n",
            "\tTrain Epoch: 24 [80/459 (17%)]\tLoss: 0.019209\n",
            "\tTrain Epoch: 24 [160/459 (34%)]\tLoss: 0.000763\n",
            "\tTrain Epoch: 24 [240/459 (52%)]\tLoss: 0.007238\n",
            "\tTrain Epoch: 24 [320/459 (69%)]\tLoss: 0.012659\n",
            "\tTrain Epoch: 24 [400/459 (86%)]\tLoss: 0.010435\n",
            "\tTrain Epoch: 25 [0/459 (0%)]\tLoss: 0.022662\n",
            "\tTrain Epoch: 25 [80/459 (17%)]\tLoss: 0.017759\n",
            "\tTrain Epoch: 25 [160/459 (34%)]\tLoss: 0.000596\n",
            "\tTrain Epoch: 25 [240/459 (52%)]\tLoss: 0.007070\n",
            "\tTrain Epoch: 25 [320/459 (69%)]\tLoss: 0.009886\n",
            "\tTrain Epoch: 25 [400/459 (86%)]\tLoss: 0.007639\n",
            "\tTrain Epoch: 26 [0/459 (0%)]\tLoss: 0.018115\n",
            "\tTrain Epoch: 26 [80/459 (17%)]\tLoss: 0.010663\n",
            "\tTrain Epoch: 26 [160/459 (34%)]\tLoss: 0.000541\n",
            "\tTrain Epoch: 26 [240/459 (52%)]\tLoss: 0.005746\n",
            "\tTrain Epoch: 26 [320/459 (69%)]\tLoss: 0.008727\n",
            "\tTrain Epoch: 26 [400/459 (86%)]\tLoss: 0.006317\n",
            "\tTrain Epoch: 27 [0/459 (0%)]\tLoss: 0.015132\n",
            "\tTrain Epoch: 27 [80/459 (17%)]\tLoss: 0.007301\n",
            "\tTrain Epoch: 27 [160/459 (34%)]\tLoss: 0.000430\n",
            "\tTrain Epoch: 27 [240/459 (52%)]\tLoss: 0.005709\n",
            "\tTrain Epoch: 27 [320/459 (69%)]\tLoss: 0.006741\n",
            "\tTrain Epoch: 27 [400/459 (86%)]\tLoss: 0.005498\n",
            "\tTrain Epoch: 28 [0/459 (0%)]\tLoss: 0.012757\n",
            "\tTrain Epoch: 28 [80/459 (17%)]\tLoss: 0.006169\n",
            "\tTrain Epoch: 28 [160/459 (34%)]\tLoss: 0.000384\n",
            "\tTrain Epoch: 28 [240/459 (52%)]\tLoss: 0.004907\n",
            "\tTrain Epoch: 28 [320/459 (69%)]\tLoss: 0.006011\n",
            "\tTrain Epoch: 28 [400/459 (86%)]\tLoss: 0.004535\n",
            "\tTrain Epoch: 29 [0/459 (0%)]\tLoss: 0.010614\n",
            "\tTrain Epoch: 29 [80/459 (17%)]\tLoss: 0.004870\n",
            "\tTrain Epoch: 29 [160/459 (34%)]\tLoss: 0.000302\n",
            "\tTrain Epoch: 29 [240/459 (52%)]\tLoss: 0.004777\n",
            "\tTrain Epoch: 29 [320/459 (69%)]\tLoss: 0.005170\n",
            "\tTrain Epoch: 29 [400/459 (86%)]\tLoss: 0.003953\n",
            "\tTrain Epoch: 30 [0/459 (0%)]\tLoss: 0.009519\n",
            "\tTrain Epoch: 30 [80/459 (17%)]\tLoss: 0.004105\n",
            "\tTrain Epoch: 30 [160/459 (34%)]\tLoss: 0.000268\n",
            "\tTrain Epoch: 30 [240/459 (52%)]\tLoss: 0.004119\n",
            "\tTrain Epoch: 30 [320/459 (69%)]\tLoss: 0.004370\n",
            "\tTrain Epoch: 30 [400/459 (86%)]\tLoss: 0.003393\n",
            "\n\n",
            "Test set: Average loss: 0.0021, Accuracy: 459/459 (100%)\n",
            "\n",
            "Test set: Final Accuracy: 100.000%\n",
            "Model saved at Regard.pt\n"
          ]
        }
      ],
      "execution_count": 11,
      "metadata": {
        "ExecuteTime": {
          "end_time": "2018-05-25T15:02:30.774906Z",
          "start_time": "2018-05-25T14:58:47.443534Z"
        }
      }
    },
    {
      "cell_type": "markdown",
      "source": [
        "## testing the model"
      ],
      "metadata": {}
    },
    {
      "cell_type": "code",
      "source": [
        "Accuracy = ml.test()"
      ],
      "outputs": [
        {
          "output_type": "stream",
          "name": "stdout",
          "text": [
            "\n",
            "Test set: Average loss: 0.0021, Accuracy: 459/459 (100%)\n",
            "\n"
          ]
        }
      ],
      "execution_count": 12,
      "metadata": {
        "ExecuteTime": {
          "end_time": "2018-05-25T15:07:54.614667Z",
          "start_time": "2018-05-25T15:07:48.657769Z"
        }
      }
    },
    {
      "cell_type": "code",
      "source": [],
      "outputs": [],
      "execution_count": 13,
      "metadata": {
        "collapsed": false,
        "outputHidden": false,
        "inputHidden": false
      }
    }
  ],
  "metadata": {
    "kernelspec": {
      "name": "python3",
      "language": "python",
      "display_name": "Python 3"
    },
    "language_info": {
      "name": "python",
      "version": "3.6.5",
      "mimetype": "text/x-python",
      "codemirror_mode": {
        "name": "ipython",
        "version": 3
      },
      "pygments_lexer": "ipython3",
      "nbconvert_exporter": "python",
      "file_extension": ".py"
    },
    "toc": {
      "toc_position": {},
      "skip_h1_title": false,
      "number_sections": true,
      "title_cell": "Table of Contents",
      "toc_window_display": false,
      "base_numbering": 1,
      "toc_section_display": "block",
      "title_sidebar": "Contents",
      "toc_cell": false,
      "nav_menu": {},
      "sideBar": true
    },
    "kernel_info": {
      "name": "python3"
    },
    "nteract": {
      "version": "0.8.4"
    }
  },
  "nbformat": 4,
  "nbformat_minor": 2
}