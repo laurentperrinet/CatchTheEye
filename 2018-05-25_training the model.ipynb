{
 "cells": [
  {
   "cell_type": "code",
   "execution_count": 1,
   "metadata": {
    "ExecuteTime": {
     "end_time": "2018-06-07T07:01:33.755768Z",
     "start_time": "2018-06-07T07:01:33.743683Z"
    }
   },
   "outputs": [],
   "source": [
    "%load_ext autoreload\n",
    "%autoreload 2"
   ]
  },
  {
   "cell_type": "code",
   "execution_count": 2,
   "metadata": {
    "ExecuteTime": {
     "end_time": "2018-06-07T07:01:33.985356Z",
     "start_time": "2018-06-07T07:01:33.757233Z"
    }
   },
   "outputs": [],
   "source": [
    "%matplotlib inline"
   ]
  },
  {
   "cell_type": "markdown",
   "metadata": {},
   "source": [
    "## running the model"
   ]
  },
  {
   "cell_type": "code",
   "execution_count": 3,
   "metadata": {
    "ExecuteTime": {
     "end_time": "2018-06-07T07:01:34.325501Z",
     "start_time": "2018-06-07T07:01:33.987352Z"
    }
   },
   "outputs": [
    {
     "name": "stdout",
     "output_type": "stream",
     "text": [
      "Parameters= {'batch_size': 16, 'test_batch_size': 1, 'valid_size': 0.2, 'epochs': 200, 'lr': 0.01, 'momentum': 0.3, 'no_cuda': True, 'num_processes': 1, 'seed': 42, 'log_interval': 10, 'dimension': 25, 'verbose': 1, 'conv1_dim': 8, 'conv1_kernel_size': 5, 'conv2_dim': 13, 'conv2_kernel_size': 5, 'crop': 200, 'size': 128, 'mean': 0.25, 'std': 0.33}\n"
     ]
    }
   ],
   "source": [
    "from Regard import init\n",
    "args = init(verbose=1)\n",
    "print('Parameters=', args)\n",
    "\n",
    "path = '_Regard.pt'"
   ]
  },
  {
   "cell_type": "code",
   "execution_count": 4,
   "metadata": {
    "ExecuteTime": {
     "end_time": "2018-06-07T07:01:34.578791Z",
     "start_time": "2018-06-07T07:01:34.327153Z"
    }
   },
   "outputs": [
    {
     "name": "stdout",
     "output_type": "stream",
     "text": [
      "-rw-r--r--  1 laurentperrinet  staff  1107977 Jun  5 15:50 _Regard.pt\r\n"
     ]
    }
   ],
   "source": [
    "!ls -l {path}\n",
    "!rm {path}"
   ]
  },
  {
   "cell_type": "code",
   "execution_count": null,
   "metadata": {
    "ExecuteTime": {
     "start_time": "2018-06-07T07:01:33.732Z"
    },
    "scrolled": false
   },
   "outputs": [
    {
     "name": "stdout",
     "output_type": "stream",
     "text": [
      "cuda? False\n",
      "cuda? False\n",
      "Found 833 sample images;  667  to train 166 to test\n",
      "Training model...\n"
     ]
    },
    {
     "data": {
      "application/vnd.jupyter.widget-view+json": {
       "model_id": "9f6b04c149e44549adf1921f44693dfd",
       "version_major": 2,
       "version_minor": 0
      },
      "text/plain": [
       "HBox(children=(IntProgress(value=0, description='Train Epoch', max=200), HTML(value='')))"
      ]
     },
     "metadata": {},
     "output_type": "display_data"
    },
    {
     "name": "stdout",
     "output_type": "stream",
     "text": [
      "\tTrain Epoch: 1 [0/667 (0%)]\tLoss: 1.384443\n",
      "\tTrain Epoch: 1 [160/667 (24%)]\tLoss: 1.354320\n",
      "\tTrain Epoch: 1 [320/667 (48%)]\tLoss: 1.392910\n",
      "\tTrain Epoch: 1 [480/667 (71%)]\tLoss: 1.322464\n",
      "\tTrain Epoch: 1 [640/667 (95%)]\tLoss: 1.345013\n",
      "\tTrain Epoch: 2 [0/667 (0%)]\tLoss: 1.267558\n",
      "\tTrain Epoch: 2 [160/667 (24%)]\tLoss: 1.211829\n",
      "\tTrain Epoch: 2 [320/667 (48%)]\tLoss: 1.193190\n",
      "\tTrain Epoch: 2 [480/667 (71%)]\tLoss: 1.243501\n",
      "\tTrain Epoch: 2 [640/667 (95%)]\tLoss: 1.222097\n",
      "\tTrain Epoch: 3 [0/667 (0%)]\tLoss: 1.260513\n",
      "\tTrain Epoch: 3 [160/667 (24%)]\tLoss: 1.253159\n",
      "\tTrain Epoch: 3 [320/667 (48%)]\tLoss: 1.154218\n",
      "\tTrain Epoch: 3 [480/667 (71%)]\tLoss: 1.238214\n",
      "\tTrain Epoch: 3 [640/667 (95%)]\tLoss: 1.399140\n",
      "\tTrain Epoch: 4 [0/667 (0%)]\tLoss: 1.132775\n",
      "\tTrain Epoch: 4 [160/667 (24%)]\tLoss: 1.113909\n",
      "\tTrain Epoch: 4 [320/667 (48%)]\tLoss: 1.157376\n",
      "\tTrain Epoch: 4 [480/667 (71%)]\tLoss: 1.124444\n",
      "\tTrain Epoch: 4 [640/667 (95%)]\tLoss: 1.224922\n",
      "\tTrain Epoch: 5 [0/667 (0%)]\tLoss: 0.983543\n",
      "\tTrain Epoch: 5 [160/667 (24%)]\tLoss: 0.845736\n",
      "\tTrain Epoch: 5 [320/667 (48%)]\tLoss: 0.970981\n",
      "\tTrain Epoch: 5 [480/667 (71%)]\tLoss: 1.174851\n",
      "\tTrain Epoch: 5 [640/667 (95%)]\tLoss: 1.002761\n",
      "\tTrain Epoch: 6 [0/667 (0%)]\tLoss: 0.824733\n",
      "\tTrain Epoch: 6 [160/667 (24%)]\tLoss: 0.978817\n",
      "\tTrain Epoch: 6 [320/667 (48%)]\tLoss: 0.730901\n",
      "\tTrain Epoch: 6 [480/667 (71%)]\tLoss: 0.806079\n",
      "\tTrain Epoch: 6 [640/667 (95%)]\tLoss: 1.127450\n",
      "\tTrain Epoch: 7 [0/667 (0%)]\tLoss: 0.663821\n",
      "\tTrain Epoch: 7 [160/667 (24%)]\tLoss: 0.656583\n",
      "\tTrain Epoch: 7 [320/667 (48%)]\tLoss: 0.692349\n",
      "\tTrain Epoch: 7 [480/667 (71%)]\tLoss: 0.711503\n",
      "\tTrain Epoch: 7 [640/667 (95%)]\tLoss: 0.559755\n",
      "\tTrain Epoch: 8 [0/667 (0%)]\tLoss: 1.033996\n",
      "\tTrain Epoch: 8 [160/667 (24%)]\tLoss: 0.463618\n",
      "\tTrain Epoch: 8 [320/667 (48%)]\tLoss: 0.414913\n",
      "\tTrain Epoch: 8 [480/667 (71%)]\tLoss: 0.502652\n",
      "\tTrain Epoch: 8 [640/667 (95%)]\tLoss: 0.317574\n",
      "\tTrain Epoch: 9 [0/667 (0%)]\tLoss: 0.544407\n",
      "\tTrain Epoch: 9 [160/667 (24%)]\tLoss: 0.656242\n",
      "\tTrain Epoch: 9 [320/667 (48%)]\tLoss: 0.454403\n",
      "\tTrain Epoch: 9 [480/667 (71%)]\tLoss: 0.310354\n",
      "\tTrain Epoch: 9 [640/667 (95%)]\tLoss: 0.400649\n",
      "\tTrain Epoch: 10 [0/667 (0%)]\tLoss: 0.243822\n",
      "\tTrain Epoch: 10 [160/667 (24%)]\tLoss: 0.322218\n",
      "\tTrain Epoch: 10 [320/667 (48%)]\tLoss: 0.181866\n",
      "\tTrain Epoch: 10 [480/667 (71%)]\tLoss: 0.385964\n",
      "\tTrain Epoch: 10 [640/667 (95%)]\tLoss: 0.709233\n",
      "\tTrain Epoch: 11 [0/667 (0%)]\tLoss: 0.533561\n",
      "\tTrain Epoch: 11 [160/667 (24%)]\tLoss: 0.233991\n",
      "\tTrain Epoch: 11 [320/667 (48%)]\tLoss: 0.577522\n",
      "\tTrain Epoch: 11 [480/667 (71%)]\tLoss: 1.536336\n",
      "\tTrain Epoch: 11 [640/667 (95%)]\tLoss: 0.218487\n",
      "\tTrain Epoch: 12 [0/667 (0%)]\tLoss: 0.225099\n",
      "\tTrain Epoch: 12 [160/667 (24%)]\tLoss: 0.901162\n",
      "\tTrain Epoch: 12 [320/667 (48%)]\tLoss: 0.307051\n",
      "\tTrain Epoch: 12 [480/667 (71%)]\tLoss: 0.364013\n",
      "\tTrain Epoch: 12 [640/667 (95%)]\tLoss: 0.448852\n",
      "\tTrain Epoch: 13 [0/667 (0%)]\tLoss: 0.205224\n",
      "\tTrain Epoch: 13 [160/667 (24%)]\tLoss: 0.184596\n",
      "\tTrain Epoch: 13 [320/667 (48%)]\tLoss: 0.239770\n",
      "\tTrain Epoch: 13 [480/667 (71%)]\tLoss: 0.568941\n",
      "\tTrain Epoch: 13 [640/667 (95%)]\tLoss: 0.200788\n",
      "\tTrain Epoch: 14 [0/667 (0%)]\tLoss: 0.148880\n",
      "\tTrain Epoch: 14 [160/667 (24%)]\tLoss: 0.235646\n",
      "\tTrain Epoch: 14 [320/667 (48%)]\tLoss: 0.268052\n",
      "\tTrain Epoch: 14 [480/667 (71%)]\tLoss: 0.191622\n",
      "\tTrain Epoch: 14 [640/667 (95%)]\tLoss: 0.081938\n",
      "\tTrain Epoch: 15 [0/667 (0%)]\tLoss: 0.155581\n",
      "\tTrain Epoch: 15 [160/667 (24%)]\tLoss: 0.360864\n",
      "\tTrain Epoch: 15 [320/667 (48%)]\tLoss: 0.042958\n",
      "\tTrain Epoch: 15 [480/667 (71%)]\tLoss: 0.142860\n",
      "\tTrain Epoch: 15 [640/667 (95%)]\tLoss: 0.060141\n",
      "\tTrain Epoch: 16 [0/667 (0%)]\tLoss: 0.275209\n",
      "\tTrain Epoch: 16 [160/667 (24%)]\tLoss: 0.108051\n",
      "\tTrain Epoch: 16 [320/667 (48%)]\tLoss: 0.141125\n",
      "\tTrain Epoch: 16 [480/667 (71%)]\tLoss: 0.414707\n",
      "\tTrain Epoch: 16 [640/667 (95%)]\tLoss: 0.057061\n",
      "\tTrain Epoch: 17 [0/667 (0%)]\tLoss: 0.045552\n",
      "\tTrain Epoch: 17 [160/667 (24%)]\tLoss: 0.097687\n",
      "\tTrain Epoch: 17 [320/667 (48%)]\tLoss: 0.016621\n",
      "\tTrain Epoch: 17 [480/667 (71%)]\tLoss: 0.034542\n",
      "\tTrain Epoch: 17 [640/667 (95%)]\tLoss: 0.071796\n",
      "\tTrain Epoch: 18 [0/667 (0%)]\tLoss: 0.343884\n",
      "\tTrain Epoch: 18 [160/667 (24%)]\tLoss: 0.135399\n",
      "\tTrain Epoch: 18 [320/667 (48%)]\tLoss: 0.134761\n",
      "\tTrain Epoch: 18 [480/667 (71%)]\tLoss: 0.066430\n",
      "\tTrain Epoch: 18 [640/667 (95%)]\tLoss: 0.168442\n",
      "\tTrain Epoch: 19 [0/667 (0%)]\tLoss: 0.051642\n",
      "\tTrain Epoch: 19 [160/667 (24%)]\tLoss: 0.048266\n",
      "\tTrain Epoch: 19 [320/667 (48%)]\tLoss: 0.034344\n",
      "\tTrain Epoch: 19 [480/667 (71%)]\tLoss: 0.290915\n",
      "\tTrain Epoch: 19 [640/667 (95%)]\tLoss: 0.182357\n",
      "\tTrain Epoch: 20 [0/667 (0%)]\tLoss: 0.023193\n",
      "\tTrain Epoch: 20 [160/667 (24%)]\tLoss: 0.157400\n",
      "\tTrain Epoch: 20 [320/667 (48%)]\tLoss: 0.269122\n",
      "\tTrain Epoch: 20 [480/667 (71%)]\tLoss: 0.012739\n",
      "\tTrain Epoch: 20 [640/667 (95%)]\tLoss: 0.032224\n",
      "\tTrain Epoch: 21 [0/667 (0%)]\tLoss: 0.024164\n",
      "\tTrain Epoch: 21 [160/667 (24%)]\tLoss: 0.030181\n",
      "\tTrain Epoch: 21 [320/667 (48%)]\tLoss: 0.066113\n",
      "\tTrain Epoch: 21 [480/667 (71%)]\tLoss: 0.120758\n",
      "\tTrain Epoch: 21 [640/667 (95%)]\tLoss: 0.087699\n",
      "\tTrain Epoch: 22 [0/667 (0%)]\tLoss: 0.123069\n",
      "\tTrain Epoch: 22 [160/667 (24%)]\tLoss: 0.007912\n",
      "\tTrain Epoch: 22 [320/667 (48%)]\tLoss: 0.003133\n",
      "\tTrain Epoch: 22 [480/667 (71%)]\tLoss: 0.004303\n",
      "\tTrain Epoch: 22 [640/667 (95%)]\tLoss: 0.193594\n",
      "\tTrain Epoch: 23 [0/667 (0%)]\tLoss: 0.297422\n",
      "\tTrain Epoch: 23 [160/667 (24%)]\tLoss: 0.021876\n",
      "\tTrain Epoch: 23 [320/667 (48%)]\tLoss: 0.015346\n",
      "\tTrain Epoch: 23 [480/667 (71%)]\tLoss: 0.035318\n",
      "\tTrain Epoch: 23 [640/667 (95%)]\tLoss: 0.280635\n",
      "\tTrain Epoch: 24 [0/667 (0%)]\tLoss: 0.002993\n",
      "\tTrain Epoch: 24 [160/667 (24%)]\tLoss: 0.098563\n",
      "\tTrain Epoch: 24 [320/667 (48%)]\tLoss: 0.103440\n",
      "\tTrain Epoch: 24 [480/667 (71%)]\tLoss: 0.007217\n",
      "\tTrain Epoch: 24 [640/667 (95%)]\tLoss: 0.004616\n",
      "\tTrain Epoch: 25 [0/667 (0%)]\tLoss: 0.020605\n",
      "\tTrain Epoch: 25 [160/667 (24%)]\tLoss: 0.008914\n",
      "\tTrain Epoch: 25 [320/667 (48%)]\tLoss: 0.004370\n",
      "\tTrain Epoch: 25 [480/667 (71%)]\tLoss: 0.030867\n",
      "\tTrain Epoch: 25 [640/667 (95%)]\tLoss: 0.255284\n",
      "\tTrain Epoch: 26 [0/667 (0%)]\tLoss: 0.537616\n",
      "\tTrain Epoch: 26 [160/667 (24%)]\tLoss: 0.088925\n",
      "\tTrain Epoch: 26 [320/667 (48%)]\tLoss: 0.023093\n",
      "\tTrain Epoch: 26 [480/667 (71%)]\tLoss: 0.254819\n",
      "\tTrain Epoch: 26 [640/667 (95%)]\tLoss: 0.004583\n",
      "\tTrain Epoch: 27 [0/667 (0%)]\tLoss: 0.009014\n",
      "\tTrain Epoch: 27 [160/667 (24%)]\tLoss: 0.012324\n",
      "\tTrain Epoch: 27 [320/667 (48%)]\tLoss: 0.012566\n",
      "\tTrain Epoch: 27 [480/667 (71%)]\tLoss: 0.057237\n",
      "\tTrain Epoch: 27 [640/667 (95%)]\tLoss: 0.031236\n",
      "\tTrain Epoch: 28 [0/667 (0%)]\tLoss: 0.068839\n",
      "\tTrain Epoch: 28 [160/667 (24%)]\tLoss: 0.008975\n",
      "\tTrain Epoch: 28 [320/667 (48%)]\tLoss: 0.019646\n",
      "\tTrain Epoch: 28 [480/667 (71%)]\tLoss: 0.031973\n",
      "\tTrain Epoch: 28 [640/667 (95%)]\tLoss: 0.002626\n",
      "\tTrain Epoch: 29 [0/667 (0%)]\tLoss: 0.010298\n",
      "\tTrain Epoch: 29 [160/667 (24%)]\tLoss: 0.033160\n",
      "\tTrain Epoch: 29 [320/667 (48%)]\tLoss: 0.003983\n",
      "\tTrain Epoch: 29 [480/667 (71%)]\tLoss: 0.009482\n",
      "\tTrain Epoch: 29 [640/667 (95%)]\tLoss: 0.015942\n",
      "\tTrain Epoch: 30 [0/667 (0%)]\tLoss: 0.012992\n",
      "\tTrain Epoch: 30 [160/667 (24%)]\tLoss: 0.006828\n",
      "\tTrain Epoch: 30 [320/667 (48%)]\tLoss: 0.003749\n",
      "\tTrain Epoch: 30 [480/667 (71%)]\tLoss: 0.004857\n",
      "\tTrain Epoch: 30 [640/667 (95%)]\tLoss: 0.011917\n",
      "\tTrain Epoch: 31 [0/667 (0%)]\tLoss: 0.003201\n",
      "\tTrain Epoch: 31 [160/667 (24%)]\tLoss: 0.010130\n",
      "\tTrain Epoch: 31 [320/667 (48%)]\tLoss: 0.018405\n",
      "\tTrain Epoch: 31 [480/667 (71%)]\tLoss: 0.006980\n",
      "\tTrain Epoch: 31 [640/667 (95%)]\tLoss: 0.004538\n",
      "\tTrain Epoch: 32 [0/667 (0%)]\tLoss: 0.161685\n",
      "\tTrain Epoch: 32 [160/667 (24%)]\tLoss: 0.002541\n",
      "\tTrain Epoch: 32 [320/667 (48%)]\tLoss: 0.001713\n",
      "\tTrain Epoch: 32 [480/667 (71%)]\tLoss: 0.012478\n",
      "\tTrain Epoch: 32 [640/667 (95%)]\tLoss: 0.001529\n",
      "\tTrain Epoch: 33 [0/667 (0%)]\tLoss: 0.007029\n",
      "\tTrain Epoch: 33 [160/667 (24%)]\tLoss: 0.004504\n",
      "\tTrain Epoch: 33 [320/667 (48%)]\tLoss: 0.003689\n",
      "\tTrain Epoch: 33 [480/667 (71%)]\tLoss: 0.001603\n",
      "\tTrain Epoch: 33 [640/667 (95%)]\tLoss: 0.004140\n",
      "\tTrain Epoch: 34 [0/667 (0%)]\tLoss: 0.013410\n",
      "\tTrain Epoch: 34 [160/667 (24%)]\tLoss: 0.220210\n",
      "\tTrain Epoch: 34 [320/667 (48%)]\tLoss: 0.014788\n",
      "\tTrain Epoch: 34 [480/667 (71%)]\tLoss: 0.003209\n",
      "\tTrain Epoch: 34 [640/667 (95%)]\tLoss: 0.009396\n",
      "\tTrain Epoch: 35 [0/667 (0%)]\tLoss: 0.001474\n",
      "\tTrain Epoch: 35 [160/667 (24%)]\tLoss: 0.001982\n",
      "\tTrain Epoch: 35 [320/667 (48%)]\tLoss: 0.002883\n",
      "\tTrain Epoch: 35 [480/667 (71%)]\tLoss: 0.004653\n"
     ]
    },
    {
     "name": "stdout",
     "output_type": "stream",
     "text": [
      "\tTrain Epoch: 35 [640/667 (95%)]\tLoss: 0.000797\n",
      "\tTrain Epoch: 36 [0/667 (0%)]\tLoss: 0.102435\n",
      "\tTrain Epoch: 36 [160/667 (24%)]\tLoss: 0.035710\n",
      "\tTrain Epoch: 36 [320/667 (48%)]\tLoss: 0.002480\n",
      "\tTrain Epoch: 36 [480/667 (71%)]\tLoss: 0.009255\n",
      "\tTrain Epoch: 36 [640/667 (95%)]\tLoss: 0.004903\n",
      "\tTrain Epoch: 37 [0/667 (0%)]\tLoss: 0.010229\n",
      "\tTrain Epoch: 37 [160/667 (24%)]\tLoss: 0.008438\n",
      "\tTrain Epoch: 37 [320/667 (48%)]\tLoss: 0.018440\n",
      "\tTrain Epoch: 37 [480/667 (71%)]\tLoss: 0.003892\n",
      "\tTrain Epoch: 37 [640/667 (95%)]\tLoss: 0.005703\n",
      "\tTrain Epoch: 38 [0/667 (0%)]\tLoss: 0.005353\n",
      "\tTrain Epoch: 38 [160/667 (24%)]\tLoss: 0.018856\n",
      "\tTrain Epoch: 38 [320/667 (48%)]\tLoss: 0.001399\n",
      "\tTrain Epoch: 38 [480/667 (71%)]\tLoss: 0.009963\n",
      "\tTrain Epoch: 38 [640/667 (95%)]\tLoss: 0.010292\n",
      "\tTrain Epoch: 39 [0/667 (0%)]\tLoss: 0.003064\n",
      "\tTrain Epoch: 39 [160/667 (24%)]\tLoss: 0.002609\n",
      "\tTrain Epoch: 39 [320/667 (48%)]\tLoss: 0.000634\n",
      "\tTrain Epoch: 39 [480/667 (71%)]\tLoss: 0.007169\n",
      "\tTrain Epoch: 39 [640/667 (95%)]\tLoss: 0.004944\n",
      "\tTrain Epoch: 40 [0/667 (0%)]\tLoss: 0.001959\n",
      "\tTrain Epoch: 40 [160/667 (24%)]\tLoss: 0.009656\n",
      "\tTrain Epoch: 40 [320/667 (48%)]\tLoss: 0.002039\n",
      "\tTrain Epoch: 40 [480/667 (71%)]\tLoss: 0.005443\n",
      "\tTrain Epoch: 40 [640/667 (95%)]\tLoss: 0.004314\n",
      "\tTrain Epoch: 41 [0/667 (0%)]\tLoss: 0.002265\n",
      "\tTrain Epoch: 41 [160/667 (24%)]\tLoss: 0.001620\n",
      "\tTrain Epoch: 41 [320/667 (48%)]\tLoss: 0.002691\n",
      "\tTrain Epoch: 41 [480/667 (71%)]\tLoss: 0.001857\n",
      "\tTrain Epoch: 41 [640/667 (95%)]\tLoss: 0.017324\n",
      "\tTrain Epoch: 42 [0/667 (0%)]\tLoss: 0.001383\n",
      "\tTrain Epoch: 42 [160/667 (24%)]\tLoss: 0.005690\n",
      "\tTrain Epoch: 42 [320/667 (48%)]\tLoss: 0.002622\n",
      "\tTrain Epoch: 42 [480/667 (71%)]\tLoss: 0.004659\n",
      "\tTrain Epoch: 42 [640/667 (95%)]\tLoss: 0.004331\n",
      "\tTrain Epoch: 43 [0/667 (0%)]\tLoss: 0.004827\n",
      "\tTrain Epoch: 43 [160/667 (24%)]\tLoss: 0.010428\n",
      "\tTrain Epoch: 43 [320/667 (48%)]\tLoss: 0.004913\n",
      "\tTrain Epoch: 43 [480/667 (71%)]\tLoss: 0.005643\n",
      "\tTrain Epoch: 43 [640/667 (95%)]\tLoss: 0.009193\n",
      "\tTrain Epoch: 44 [0/667 (0%)]\tLoss: 0.003968\n",
      "\tTrain Epoch: 44 [160/667 (24%)]\tLoss: 0.001383\n",
      "\tTrain Epoch: 44 [320/667 (48%)]\tLoss: 0.002967\n",
      "\tTrain Epoch: 44 [480/667 (71%)]\tLoss: 0.001964\n",
      "\tTrain Epoch: 44 [640/667 (95%)]\tLoss: 0.001460\n",
      "\tTrain Epoch: 45 [0/667 (0%)]\tLoss: 0.000507\n",
      "\tTrain Epoch: 45 [160/667 (24%)]\tLoss: 0.004043\n",
      "\tTrain Epoch: 45 [320/667 (48%)]\tLoss: 0.000867\n",
      "\tTrain Epoch: 45 [480/667 (71%)]\tLoss: 0.056217\n",
      "\tTrain Epoch: 45 [640/667 (95%)]\tLoss: 0.001719\n",
      "\tTrain Epoch: 46 [0/667 (0%)]\tLoss: 0.199709\n",
      "\tTrain Epoch: 46 [160/667 (24%)]\tLoss: 0.002626\n",
      "\tTrain Epoch: 46 [320/667 (48%)]\tLoss: 0.001795\n",
      "\tTrain Epoch: 46 [480/667 (71%)]\tLoss: 0.002038\n",
      "\tTrain Epoch: 46 [640/667 (95%)]\tLoss: 0.001250\n",
      "\tTrain Epoch: 47 [0/667 (0%)]\tLoss: 0.003614\n",
      "\tTrain Epoch: 47 [160/667 (24%)]\tLoss: 0.002705\n",
      "\tTrain Epoch: 47 [320/667 (48%)]\tLoss: 0.002361\n",
      "\tTrain Epoch: 47 [480/667 (71%)]\tLoss: 0.006086\n",
      "\tTrain Epoch: 47 [640/667 (95%)]\tLoss: 0.004127\n",
      "\tTrain Epoch: 48 [0/667 (0%)]\tLoss: 0.003760\n",
      "\tTrain Epoch: 48 [160/667 (24%)]\tLoss: 0.002320\n",
      "\tTrain Epoch: 48 [320/667 (48%)]\tLoss: 0.003418\n",
      "\tTrain Epoch: 48 [480/667 (71%)]\tLoss: 0.006442\n",
      "\tTrain Epoch: 48 [640/667 (95%)]\tLoss: 0.002667\n",
      "\tTrain Epoch: 49 [0/667 (0%)]\tLoss: 0.001420\n",
      "\tTrain Epoch: 49 [160/667 (24%)]\tLoss: 0.006953\n",
      "\tTrain Epoch: 49 [320/667 (48%)]\tLoss: 0.000863\n",
      "\tTrain Epoch: 49 [480/667 (71%)]\tLoss: 0.001128\n",
      "\tTrain Epoch: 49 [640/667 (95%)]\tLoss: 0.001946\n",
      "\tTrain Epoch: 50 [0/667 (0%)]\tLoss: 0.000514\n",
      "\tTrain Epoch: 50 [160/667 (24%)]\tLoss: 0.003171\n",
      "\tTrain Epoch: 50 [320/667 (48%)]\tLoss: 0.002558\n",
      "\tTrain Epoch: 50 [480/667 (71%)]\tLoss: 0.006796\n",
      "\tTrain Epoch: 50 [640/667 (95%)]\tLoss: 0.004591\n",
      "\tTrain Epoch: 51 [0/667 (0%)]\tLoss: 0.003336\n",
      "\tTrain Epoch: 51 [160/667 (24%)]\tLoss: 0.000741\n",
      "\tTrain Epoch: 51 [320/667 (48%)]\tLoss: 0.027143\n",
      "\tTrain Epoch: 51 [480/667 (71%)]\tLoss: 0.060079\n",
      "\tTrain Epoch: 51 [640/667 (95%)]\tLoss: 0.004371\n",
      "\tTrain Epoch: 52 [0/667 (0%)]\tLoss: 0.006860\n",
      "\tTrain Epoch: 52 [160/667 (24%)]\tLoss: 0.042652\n",
      "\tTrain Epoch: 52 [320/667 (48%)]\tLoss: 0.007659\n",
      "\tTrain Epoch: 52 [480/667 (71%)]\tLoss: 0.000353\n",
      "\tTrain Epoch: 52 [640/667 (95%)]\tLoss: 0.001667\n",
      "\tTrain Epoch: 53 [0/667 (0%)]\tLoss: 0.057129\n",
      "\tTrain Epoch: 53 [160/667 (24%)]\tLoss: 0.000430\n",
      "\tTrain Epoch: 53 [320/667 (48%)]\tLoss: 0.000720\n",
      "\tTrain Epoch: 53 [480/667 (71%)]\tLoss: 0.001220\n",
      "\tTrain Epoch: 53 [640/667 (95%)]\tLoss: 0.000869\n",
      "\tTrain Epoch: 54 [0/667 (0%)]\tLoss: 0.005066\n",
      "\tTrain Epoch: 54 [160/667 (24%)]\tLoss: 0.002343\n",
      "\tTrain Epoch: 54 [320/667 (48%)]\tLoss: 0.001371\n",
      "\tTrain Epoch: 54 [480/667 (71%)]\tLoss: 0.000073\n",
      "\tTrain Epoch: 54 [640/667 (95%)]\tLoss: 0.001606\n",
      "\tTrain Epoch: 55 [0/667 (0%)]\tLoss: 0.003121\n",
      "\tTrain Epoch: 55 [160/667 (24%)]\tLoss: 0.003007\n",
      "\tTrain Epoch: 55 [320/667 (48%)]\tLoss: 0.003249\n",
      "\tTrain Epoch: 55 [480/667 (71%)]\tLoss: 0.001455\n",
      "\tTrain Epoch: 55 [640/667 (95%)]\tLoss: 0.003084\n",
      "\tTrain Epoch: 56 [0/667 (0%)]\tLoss: 0.001702\n",
      "\tTrain Epoch: 56 [160/667 (24%)]\tLoss: 0.012819\n",
      "\tTrain Epoch: 56 [320/667 (48%)]\tLoss: 0.002665\n",
      "\tTrain Epoch: 56 [480/667 (71%)]\tLoss: 0.002073\n",
      "\tTrain Epoch: 56 [640/667 (95%)]\tLoss: 0.001326\n",
      "\tTrain Epoch: 57 [0/667 (0%)]\tLoss: 0.000926\n",
      "\tTrain Epoch: 57 [160/667 (24%)]\tLoss: 0.000811\n",
      "\tTrain Epoch: 57 [320/667 (48%)]\tLoss: 0.001327\n",
      "\tTrain Epoch: 57 [480/667 (71%)]\tLoss: 0.001295\n",
      "\tTrain Epoch: 57 [640/667 (95%)]\tLoss: 0.003889\n",
      "\tTrain Epoch: 58 [0/667 (0%)]\tLoss: 0.001563\n",
      "\tTrain Epoch: 58 [160/667 (24%)]\tLoss: 0.022123\n",
      "\tTrain Epoch: 58 [320/667 (48%)]\tLoss: 0.001234\n",
      "\tTrain Epoch: 58 [480/667 (71%)]\tLoss: 0.001021\n",
      "\tTrain Epoch: 58 [640/667 (95%)]\tLoss: 0.001535\n",
      "\tTrain Epoch: 59 [0/667 (0%)]\tLoss: 0.000173\n",
      "\tTrain Epoch: 59 [160/667 (24%)]\tLoss: 0.000869\n",
      "\tTrain Epoch: 59 [320/667 (48%)]\tLoss: 0.006254\n",
      "\tTrain Epoch: 59 [480/667 (71%)]\tLoss: 0.001280\n",
      "\tTrain Epoch: 59 [640/667 (95%)]\tLoss: 0.000280\n",
      "\tTrain Epoch: 60 [0/667 (0%)]\tLoss: 0.003248\n",
      "\tTrain Epoch: 60 [160/667 (24%)]\tLoss: 0.002634\n",
      "\tTrain Epoch: 60 [320/667 (48%)]\tLoss: 0.000422\n",
      "\tTrain Epoch: 60 [480/667 (71%)]\tLoss: 0.001232\n",
      "\tTrain Epoch: 60 [640/667 (95%)]\tLoss: 0.000663\n",
      "\tTrain Epoch: 61 [0/667 (0%)]\tLoss: 0.001575\n",
      "\tTrain Epoch: 61 [160/667 (24%)]\tLoss: 0.001073\n",
      "\tTrain Epoch: 61 [320/667 (48%)]\tLoss: 0.002564\n",
      "\tTrain Epoch: 61 [480/667 (71%)]\tLoss: 0.000474\n",
      "\tTrain Epoch: 61 [640/667 (95%)]\tLoss: 0.000439\n",
      "\tTrain Epoch: 62 [0/667 (0%)]\tLoss: 0.000183\n",
      "\tTrain Epoch: 62 [160/667 (24%)]\tLoss: 0.001069\n",
      "\tTrain Epoch: 62 [320/667 (48%)]\tLoss: 0.000324\n",
      "\tTrain Epoch: 62 [480/667 (71%)]\tLoss: 0.000928\n",
      "\tTrain Epoch: 62 [640/667 (95%)]\tLoss: 0.002756\n",
      "\tTrain Epoch: 63 [0/667 (0%)]\tLoss: 0.001598\n",
      "\tTrain Epoch: 63 [160/667 (24%)]\tLoss: 0.001053\n",
      "\tTrain Epoch: 63 [320/667 (48%)]\tLoss: 0.078370\n",
      "\tTrain Epoch: 63 [480/667 (71%)]\tLoss: 0.003622\n",
      "\tTrain Epoch: 63 [640/667 (95%)]\tLoss: 0.001198\n",
      "\tTrain Epoch: 64 [0/667 (0%)]\tLoss: 0.001741\n",
      "\tTrain Epoch: 64 [160/667 (24%)]\tLoss: 0.001059\n",
      "\tTrain Epoch: 64 [320/667 (48%)]\tLoss: 0.000961\n",
      "\tTrain Epoch: 64 [480/667 (71%)]\tLoss: 0.001293\n",
      "\tTrain Epoch: 64 [640/667 (95%)]\tLoss: 0.000532\n",
      "\tTrain Epoch: 65 [0/667 (0%)]\tLoss: 0.002122\n",
      "\tTrain Epoch: 65 [160/667 (24%)]\tLoss: 0.001095\n",
      "\tTrain Epoch: 65 [320/667 (48%)]\tLoss: 0.001089\n",
      "\tTrain Epoch: 65 [480/667 (71%)]\tLoss: 0.001200\n",
      "\tTrain Epoch: 65 [640/667 (95%)]\tLoss: 0.000242\n",
      "\tTrain Epoch: 66 [0/667 (0%)]\tLoss: 0.003938\n",
      "\tTrain Epoch: 66 [160/667 (24%)]\tLoss: 0.000866\n",
      "\tTrain Epoch: 66 [320/667 (48%)]\tLoss: 0.000548\n",
      "\tTrain Epoch: 66 [480/667 (71%)]\tLoss: 0.028971\n"
     ]
    }
   ],
   "source": [
    "from Regard import ML\n",
    "ml = ML(args)\n",
    "\n",
    "import os\n",
    "import torch\n",
    "if os.path.isfile(path):\n",
    "    ml.model.load_state_dict(torch.load(path))\n",
    "    print('Loading file', path)\n",
    "else:\n",
    "    print('Training model...')\n",
    "    ml.main()\n",
    "    torch.save(ml.model.state_dict(), path) #save the neural network state\n",
    "    print('Model saved at', path)"
   ]
  },
  {
   "cell_type": "markdown",
   "metadata": {},
   "source": [
    "## testing the model"
   ]
  },
  {
   "cell_type": "code",
   "execution_count": null,
   "metadata": {
    "ExecuteTime": {
     "start_time": "2018-06-07T07:01:33.733Z"
    }
   },
   "outputs": [],
   "source": [
    "Accuracy = ml.test()"
   ]
  },
  {
   "cell_type": "code",
   "execution_count": null,
   "metadata": {
    "ExecuteTime": {
     "start_time": "2018-06-07T07:01:33.734Z"
    }
   },
   "outputs": [],
   "source": [
    "%matplotlib inline\n",
    "import matplotlib.pyplot as plt\n",
    "\n",
    "\n",
    "fig, ax = ml.show(only_wrong=True)\n",
    "fig\n",
    "\n"
   ]
  },
  {
   "cell_type": "code",
   "execution_count": null,
   "metadata": {
    "ExecuteTime": {
     "start_time": "2018-06-07T07:01:33.736Z"
    },
    "scrolled": false
   },
   "outputs": [],
   "source": [
    "%matplotlib inline\n",
    "import matplotlib.pyplot as plt\n",
    "\n",
    "\n",
    "for data, labels in ml.d.test_loader:\n",
    "    fig, ax = ml.show(only_wrong=True)\n",
    "    plt.show() \n",
    "\n"
   ]
  },
  {
   "cell_type": "code",
   "execution_count": null,
   "metadata": {},
   "outputs": [],
   "source": []
  }
 ],
 "metadata": {
  "kernel_info": {
   "name": "python3"
  },
  "kernelspec": {
   "display_name": "Python 3",
   "language": "python",
   "name": "python3"
  },
  "language_info": {
   "codemirror_mode": {
    "name": "ipython",
    "version": 3
   },
   "file_extension": ".py",
   "mimetype": "text/x-python",
   "name": "python",
   "nbconvert_exporter": "python",
   "pygments_lexer": "ipython3",
   "version": "3.6.5"
  },
  "nteract": {
   "version": "0.8.4"
  },
  "toc": {
   "base_numbering": 1,
   "nav_menu": {},
   "number_sections": true,
   "sideBar": true,
   "skip_h1_title": false,
   "title_cell": "Table of Contents",
   "title_sidebar": "Contents",
   "toc_cell": false,
   "toc_position": {},
   "toc_section_display": "block",
   "toc_window_display": false
  }
 },
 "nbformat": 4,
 "nbformat_minor": 2
}
