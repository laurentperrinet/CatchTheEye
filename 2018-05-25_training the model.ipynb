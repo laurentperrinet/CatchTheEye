{
 "cells": [
  {
   "cell_type": "code",
   "execution_count": 1,
   "metadata": {
    "ExecuteTime": {
     "end_time": "2018-05-25T13:04:38.887982Z",
     "start_time": "2018-05-25T13:04:38.875159Z"
    }
   },
   "outputs": [],
   "source": [
    "%load_ext autoreload\n",
    "%autoreload 2"
   ]
  },
  {
   "cell_type": "code",
   "execution_count": 2,
   "metadata": {
    "ExecuteTime": {
     "end_time": "2018-05-25T13:04:39.120776Z",
     "start_time": "2018-05-25T13:04:38.889860Z"
    }
   },
   "outputs": [],
   "source": [
    "%matplotlib inline\n"
   ]
  },
  {
   "cell_type": "markdown",
   "metadata": {},
   "source": [
    "## running the model"
   ]
  },
  {
   "cell_type": "code",
   "execution_count": 3,
   "metadata": {
    "ExecuteTime": {
     "end_time": "2018-05-25T13:17:24.436671Z",
     "start_time": "2018-05-25T13:04:39.122788Z"
    }
   },
   "outputs": [
    {
     "name": "stdout",
     "output_type": "stream",
     "text": [
      "Parameters= {'batch_size': 64, 'test_batch_size': 1000, 'epochs': 30, 'lr': 0.01, 'momentum': 0.5, 'no_cuda': True, 'num_processes': 1, 'seed': 42, 'log_interval': 10, 'dimension': 50, 'verbose': 1}\n",
      "cuda? False\n",
      "cuda? False\n",
      "Training model...\n",
      "Train Epoch: 1 \n",
      "\tTrain Epoch: 1 [0/459 (0%)]\tLoss: 1.374650\n",
      "Train Epoch: 2 \n",
      "\tTrain Epoch: 2 [0/459 (0%)]\tLoss: 1.219847\n",
      "Train Epoch: 3 \n",
      "\tTrain Epoch: 3 [0/459 (0%)]\tLoss: 1.202327\n",
      "Train Epoch: 4 \n",
      "\tTrain Epoch: 4 [0/459 (0%)]\tLoss: 1.147403\n",
      "Train Epoch: 5 \n",
      "\tTrain Epoch: 5 [0/459 (0%)]\tLoss: 1.163561\n",
      "Train Epoch: 6 \n",
      "\tTrain Epoch: 6 [0/459 (0%)]\tLoss: 1.136995\n",
      "Train Epoch: 7 \n",
      "\tTrain Epoch: 7 [0/459 (0%)]\tLoss: 1.151073\n",
      "Train Epoch: 8 \n",
      "\tTrain Epoch: 8 [0/459 (0%)]\tLoss: 1.078255\n",
      "Train Epoch: 9 \n",
      "\tTrain Epoch: 9 [0/459 (0%)]\tLoss: 1.134451\n",
      "Train Epoch: 10 \n",
      "\tTrain Epoch: 10 [0/459 (0%)]\tLoss: 1.008242\n",
      "Train Epoch: 11 \n",
      "\tTrain Epoch: 11 [0/459 (0%)]\tLoss: 1.072984\n",
      "Train Epoch: 12 \n",
      "\tTrain Epoch: 12 [0/459 (0%)]\tLoss: 1.477459\n",
      "Train Epoch: 13 \n",
      "\tTrain Epoch: 13 [0/459 (0%)]\tLoss: 0.844786\n",
      "Train Epoch: 14 \n",
      "\tTrain Epoch: 14 [0/459 (0%)]\tLoss: 1.098852\n",
      "Train Epoch: 15 \n",
      "\tTrain Epoch: 15 [0/459 (0%)]\tLoss: 0.897258\n",
      "Train Epoch: 16 \n",
      "\tTrain Epoch: 16 [0/459 (0%)]\tLoss: 0.945133\n",
      "Train Epoch: 17 \n",
      "\tTrain Epoch: 17 [0/459 (0%)]\tLoss: 1.027036\n",
      "Train Epoch: 18 \n",
      "\tTrain Epoch: 18 [0/459 (0%)]\tLoss: 0.861903\n",
      "Train Epoch: 19 \n",
      "\tTrain Epoch: 19 [0/459 (0%)]\tLoss: 0.659338\n",
      "Train Epoch: 20 \n",
      "\tTrain Epoch: 20 [0/459 (0%)]\tLoss: 1.028864\n",
      "Train Epoch: 21 \n",
      "\tTrain Epoch: 21 [0/459 (0%)]\tLoss: 0.676372\n",
      "Train Epoch: 22 \n",
      "\tTrain Epoch: 22 [0/459 (0%)]\tLoss: 0.871125\n",
      "Train Epoch: 23 \n",
      "\tTrain Epoch: 23 [0/459 (0%)]\tLoss: 0.678582\n",
      "Train Epoch: 24 \n",
      "\tTrain Epoch: 24 [0/459 (0%)]\tLoss: 1.019860\n",
      "Train Epoch: 25 \n",
      "\tTrain Epoch: 25 [0/459 (0%)]\tLoss: 0.601033\n",
      "Train Epoch: 26 \n",
      "\tTrain Epoch: 26 [0/459 (0%)]\tLoss: 0.553244\n",
      "Train Epoch: 27 \n",
      "\tTrain Epoch: 27 [0/459 (0%)]\tLoss: 2.178472\n",
      "Train Epoch: 28 \n",
      "\tTrain Epoch: 28 [0/459 (0%)]\tLoss: 0.961426\n",
      "Train Epoch: 29 \n",
      "\tTrain Epoch: 29 [0/459 (0%)]\tLoss: 0.505952\n",
      "Train Epoch: 30 \n",
      "\tTrain Epoch: 30 [0/459 (0%)]\tLoss: 1.069371\n",
      "\n",
      "Test set: Average loss: 0.9409, Accuracy: 234/459 (50%)\n",
      "\n",
      "Test set: Final Accuracy: 50.980%\n"
     ]
    },
    {
     "ename": "NameError",
     "evalue": "name 'torch' is not defined",
     "output_type": "error",
     "traceback": [
      "\u001b[0;31m---------------------------------------------------------------------------\u001b[0m",
      "\u001b[0;31mNameError\u001b[0m                                 Traceback (most recent call last)",
      "\u001b[0;32m<ipython-input-3-ad2749aa9a22>\u001b[0m in \u001b[0;36m<module>\u001b[0;34m()\u001b[0m\n\u001b[1;32m     15\u001b[0m     \u001b[0mprint\u001b[0m\u001b[0;34m(\u001b[0m\u001b[0;34m'Training model...'\u001b[0m\u001b[0;34m)\u001b[0m\u001b[0;34m\u001b[0m\u001b[0m\n\u001b[1;32m     16\u001b[0m     \u001b[0mml\u001b[0m\u001b[0;34m.\u001b[0m\u001b[0mmain\u001b[0m\u001b[0;34m(\u001b[0m\u001b[0;34m)\u001b[0m\u001b[0;34m\u001b[0m\u001b[0m\n\u001b[0;32m---> 17\u001b[0;31m     \u001b[0mtorch\u001b[0m\u001b[0;34m.\u001b[0m\u001b[0msave\u001b[0m\u001b[0;34m(\u001b[0m\u001b[0mml\u001b[0m\u001b[0;34m.\u001b[0m\u001b[0mmodel\u001b[0m\u001b[0;34m.\u001b[0m\u001b[0mstate_dict\u001b[0m\u001b[0;34m(\u001b[0m\u001b[0;34m)\u001b[0m\u001b[0;34m,\u001b[0m \u001b[0mpath\u001b[0m\u001b[0;34m)\u001b[0m \u001b[0;31m#save the neural network state\u001b[0m\u001b[0;34m\u001b[0m\u001b[0m\n\u001b[0m\u001b[1;32m     18\u001b[0m     \u001b[0mprint\u001b[0m\u001b[0;34m(\u001b[0m\u001b[0;34m'Model saved at'\u001b[0m\u001b[0;34m,\u001b[0m \u001b[0mpath\u001b[0m\u001b[0;34m)\u001b[0m\u001b[0;34m\u001b[0m\u001b[0m\n",
      "\u001b[0;31mNameError\u001b[0m: name 'torch' is not defined"
     ]
    }
   ],
   "source": [
    "from Regard import init\n",
    "args = init(verbose=1, epochs = 30)\n",
    "print('Parameters=', args)\n",
    "\n",
    "path = '2018-05-25_Regard.pt'\n",
    "\n",
    "from Regard import ML\n",
    "ml = ML(args)\n",
    "\n",
    "import os\n",
    "if os.path.isfile(path):\n",
    "    ml.model.load_state_dict(torch.load(path))\n",
    "    print('Loading file', path)\n",
    "else:\n",
    "    print('Training model...')\n",
    "    ml.main()\n",
    "    import torch\n",
    "    torch.save(ml.model.state_dict(), path) #save the neural network state\n",
    "    print('Model saved at', path)"
   ]
  },
  {
   "cell_type": "markdown",
   "metadata": {},
   "source": [
    "## testing the model"
   ]
  },
  {
   "cell_type": "code",
   "execution_count": null,
   "metadata": {
    "ExecuteTime": {
     "end_time": "2018-05-25T13:17:24.437769Z",
     "start_time": "2018-05-25T13:04:38.861Z"
    }
   },
   "outputs": [],
   "source": [
    "\n",
    "ml.test()"
   ]
  },
  {
   "cell_type": "code",
   "execution_count": null,
   "metadata": {},
   "outputs": [],
   "source": []
  }
 ],
 "metadata": {
  "kernelspec": {
   "display_name": "Python 3",
   "language": "python",
   "name": "python3"
  },
  "language_info": {
   "codemirror_mode": {
    "name": "ipython",
    "version": 3
   },
   "file_extension": ".py",
   "mimetype": "text/x-python",
   "name": "python",
   "nbconvert_exporter": "python",
   "pygments_lexer": "ipython3",
   "version": "3.6.5"
  },
  "toc": {
   "base_numbering": 1,
   "nav_menu": {},
   "number_sections": true,
   "sideBar": true,
   "skip_h1_title": false,
   "title_cell": "Table of Contents",
   "title_sidebar": "Contents",
   "toc_cell": false,
   "toc_position": {},
   "toc_section_display": "block",
   "toc_window_display": false
  }
 },
 "nbformat": 4,
 "nbformat_minor": 2
}
