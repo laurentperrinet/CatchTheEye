{
 "cells": [
  {
   "cell_type": "code",
   "execution_count": 1,
   "metadata": {
    "ExecuteTime": {
     "end_time": "2018-06-22T07:28:25.689851Z",
     "start_time": "2018-06-22T07:28:25.672919Z"
    }
   },
   "outputs": [],
   "source": [
    "%load_ext autoreload\n",
    "%autoreload 2"
   ]
  },
  {
   "cell_type": "code",
   "execution_count": 2,
   "metadata": {
    "ExecuteTime": {
     "end_time": "2018-06-22T07:28:26.027557Z",
     "start_time": "2018-06-22T07:28:25.691829Z"
    }
   },
   "outputs": [],
   "source": [
    "%matplotlib inline"
   ]
  },
  {
   "cell_type": "markdown",
   "metadata": {},
   "source": [
    "## running the model"
   ]
  },
  {
   "cell_type": "code",
   "execution_count": 3,
   "metadata": {
    "ExecuteTime": {
     "end_time": "2018-06-22T07:28:26.363324Z",
     "start_time": "2018-06-22T07:28:26.029611Z"
    }
   },
   "outputs": [
    {
     "name": "stdout",
     "output_type": "stream",
     "text": [
      "Parameters= {'batch_size': 16, 'test_batch_size': 1, 'valid_size': 0.2, 'epochs': 100, 'do_adam': False, 'lr': 0.0065, 'momentum': 0.48, 'no_cuda': True, 'num_processes': 1, 'seed': 42, 'log_interval': 10, 'fullsize': 350, 'crop': 315, 'size': 280, 'mean': 0.36, 'std': 0.3, 'conv1_dim': 8, 'conv1_kernel_size': 9, 'conv2_dim': 8, 'conv2_kernel_size': 9, 'stride1': 4, 'stride2': 4, 'dimension': 25, 'verbose': 1}\n"
     ]
    }
   ],
   "source": [
    "from Regard import init\n",
    "args = init(verbose=1)\n",
    "print('Parameters=', args)\n",
    "\n",
    "path = '_Regard.pt'"
   ]
  },
  {
   "cell_type": "code",
   "execution_count": 4,
   "metadata": {
    "ExecuteTime": {
     "end_time": "2018-06-22T07:28:26.645123Z",
     "start_time": "2018-06-22T07:28:26.366486Z"
    }
   },
   "outputs": [
    {
     "name": "stdout",
     "output_type": "stream",
     "text": [
      "-rw-r--r--  1 laurentperrinet  staff  342213 Jun 21 08:58 _Regard.pt\r\n"
     ]
    }
   ],
   "source": [
    "!ls -l {path}\n",
    "!rm {path}"
   ]
  },
  {
   "cell_type": "code",
   "execution_count": 5,
   "metadata": {
    "ExecuteTime": {
     "end_time": "2018-06-22T09:16:31.130108Z",
     "start_time": "2018-06-22T07:28:26.647846Z"
    },
    "scrolled": false
   },
   "outputs": [
    {
     "name": "stdout",
     "output_type": "stream",
     "text": [
      "cuda? False\n",
      "cuda? False\n",
      "Found 799 sample images;  640  to train 159 to test\n",
      "Training model...\n"
     ]
    },
    {
     "data": {
      "application/vnd.jupyter.widget-view+json": {
       "model_id": "3fda4258a62f45288e3b296739dd8b35",
       "version_major": 2,
       "version_minor": 0
      },
      "text/plain": [
       "HBox(children=(IntProgress(value=0, description='Train Epoch'), HTML(value='')))"
      ]
     },
     "metadata": {},
     "output_type": "display_data"
    },
    {
     "name": "stdout",
     "output_type": "stream",
     "text": [
      "\tTrain Epoch: 1 [0/640 (0%)]\tLoss: 1.392393\n",
      "\tTrain Epoch: 1 [160/640 (25%)]\tLoss: 1.365818\n",
      "\tTrain Epoch: 1 [320/640 (50%)]\tLoss: 1.356132\n",
      "\tTrain Epoch: 1 [480/640 (75%)]\tLoss: 1.366108\n",
      "\tTrain Epoch: 2 [0/640 (0%)]\tLoss: 1.229101\n",
      "\tTrain Epoch: 2 [160/640 (25%)]\tLoss: 1.229778\n",
      "\tTrain Epoch: 2 [320/640 (50%)]\tLoss: 1.332763\n",
      "\tTrain Epoch: 2 [480/640 (75%)]\tLoss: 1.205768\n",
      "\tTrain Epoch: 3 [0/640 (0%)]\tLoss: 1.195765\n",
      "\tTrain Epoch: 3 [160/640 (25%)]\tLoss: 1.364876\n",
      "\tTrain Epoch: 3 [320/640 (50%)]\tLoss: 1.476704\n",
      "\tTrain Epoch: 3 [480/640 (75%)]\tLoss: 1.192806\n",
      "\tTrain Epoch: 4 [0/640 (0%)]\tLoss: 1.173791\n",
      "\tTrain Epoch: 4 [160/640 (25%)]\tLoss: 1.109822\n",
      "\tTrain Epoch: 4 [320/640 (50%)]\tLoss: 1.053084\n",
      "\tTrain Epoch: 4 [480/640 (75%)]\tLoss: 0.932175\n",
      "\tTrain Epoch: 5 [0/640 (0%)]\tLoss: 0.901929\n",
      "\tTrain Epoch: 5 [160/640 (25%)]\tLoss: 0.975405\n",
      "\tTrain Epoch: 5 [320/640 (50%)]\tLoss: 1.005149\n",
      "\tTrain Epoch: 5 [480/640 (75%)]\tLoss: 1.129617\n",
      "\tTrain Epoch: 6 [0/640 (0%)]\tLoss: 0.948295\n",
      "\tTrain Epoch: 6 [160/640 (25%)]\tLoss: 1.278391\n",
      "\tTrain Epoch: 6 [320/640 (50%)]\tLoss: 0.664582\n",
      "\tTrain Epoch: 6 [480/640 (75%)]\tLoss: 0.908573\n",
      "\tTrain Epoch: 7 [0/640 (0%)]\tLoss: 0.673707\n",
      "\tTrain Epoch: 7 [160/640 (25%)]\tLoss: 0.406092\n",
      "\tTrain Epoch: 7 [320/640 (50%)]\tLoss: 0.702148\n",
      "\tTrain Epoch: 7 [480/640 (75%)]\tLoss: 0.376789\n",
      "\tTrain Epoch: 8 [0/640 (0%)]\tLoss: 0.725172\n",
      "\tTrain Epoch: 8 [160/640 (25%)]\tLoss: 0.408124\n",
      "\tTrain Epoch: 8 [320/640 (50%)]\tLoss: 0.804845\n",
      "\tTrain Epoch: 8 [480/640 (75%)]\tLoss: 0.366170\n",
      "\tTrain Epoch: 9 [0/640 (0%)]\tLoss: 0.337497\n",
      "\tTrain Epoch: 9 [160/640 (25%)]\tLoss: 0.349117\n",
      "\tTrain Epoch: 9 [320/640 (50%)]\tLoss: 0.330951\n",
      "\tTrain Epoch: 9 [480/640 (75%)]\tLoss: 0.116841\n",
      "\tTrain Epoch: 10 [0/640 (0%)]\tLoss: 0.319356\n",
      "\tTrain Epoch: 10 [160/640 (25%)]\tLoss: 0.429791\n",
      "\tTrain Epoch: 10 [320/640 (50%)]\tLoss: 0.556848\n",
      "\tTrain Epoch: 10 [480/640 (75%)]\tLoss: 0.115754\n",
      "\tTrain Epoch: 11 [0/640 (0%)]\tLoss: 0.394157\n",
      "\tTrain Epoch: 11 [160/640 (25%)]\tLoss: 0.218277\n",
      "\tTrain Epoch: 11 [320/640 (50%)]\tLoss: 0.049717\n",
      "\tTrain Epoch: 11 [480/640 (75%)]\tLoss: 0.340027\n",
      "\tTrain Epoch: 12 [0/640 (0%)]\tLoss: 0.118983\n",
      "\tTrain Epoch: 12 [160/640 (25%)]\tLoss: 0.071067\n",
      "\tTrain Epoch: 12 [320/640 (50%)]\tLoss: 0.072668\n",
      "\tTrain Epoch: 12 [480/640 (75%)]\tLoss: 0.040078\n",
      "\tTrain Epoch: 13 [0/640 (0%)]\tLoss: 0.200824\n",
      "\tTrain Epoch: 13 [160/640 (25%)]\tLoss: 0.036219\n",
      "\tTrain Epoch: 13 [320/640 (50%)]\tLoss: 0.082424\n",
      "\tTrain Epoch: 13 [480/640 (75%)]\tLoss: 0.153931\n",
      "\tTrain Epoch: 14 [0/640 (0%)]\tLoss: 0.042906\n",
      "\tTrain Epoch: 14 [160/640 (25%)]\tLoss: 0.230287\n",
      "\tTrain Epoch: 14 [320/640 (50%)]\tLoss: 0.054043\n",
      "\tTrain Epoch: 14 [480/640 (75%)]\tLoss: 0.068794\n",
      "\tTrain Epoch: 15 [0/640 (0%)]\tLoss: 0.018688\n",
      "\tTrain Epoch: 15 [160/640 (25%)]\tLoss: 0.065970\n",
      "\tTrain Epoch: 15 [320/640 (50%)]\tLoss: 0.122018\n",
      "\tTrain Epoch: 15 [480/640 (75%)]\tLoss: 0.038279\n",
      "\tTrain Epoch: 16 [0/640 (0%)]\tLoss: 0.139729\n",
      "\tTrain Epoch: 16 [160/640 (25%)]\tLoss: 0.034115\n",
      "\tTrain Epoch: 16 [320/640 (50%)]\tLoss: 0.014181\n",
      "\tTrain Epoch: 16 [480/640 (75%)]\tLoss: 0.479407\n",
      "\tTrain Epoch: 17 [0/640 (0%)]\tLoss: 0.005206\n",
      "\tTrain Epoch: 17 [160/640 (25%)]\tLoss: 0.743795\n",
      "\tTrain Epoch: 17 [320/640 (50%)]\tLoss: 0.077489\n",
      "\tTrain Epoch: 17 [480/640 (75%)]\tLoss: 0.040193\n",
      "\tTrain Epoch: 18 [0/640 (0%)]\tLoss: 0.089985\n",
      "\tTrain Epoch: 18 [160/640 (25%)]\tLoss: 0.017684\n",
      "\tTrain Epoch: 18 [320/640 (50%)]\tLoss: 0.056005\n",
      "\tTrain Epoch: 18 [480/640 (75%)]\tLoss: 0.007030\n",
      "\tTrain Epoch: 19 [0/640 (0%)]\tLoss: 0.049029\n",
      "\tTrain Epoch: 19 [160/640 (25%)]\tLoss: 0.066628\n",
      "\tTrain Epoch: 19 [320/640 (50%)]\tLoss: 0.005837\n",
      "\tTrain Epoch: 19 [480/640 (75%)]\tLoss: 0.072769\n",
      "\tTrain Epoch: 20 [0/640 (0%)]\tLoss: 0.005868\n",
      "\tTrain Epoch: 20 [160/640 (25%)]\tLoss: 0.004197\n",
      "\tTrain Epoch: 20 [320/640 (50%)]\tLoss: 0.163470\n",
      "\tTrain Epoch: 20 [480/640 (75%)]\tLoss: 0.050259\n",
      "\tTrain Epoch: 21 [0/640 (0%)]\tLoss: 0.022280\n",
      "\tTrain Epoch: 21 [160/640 (25%)]\tLoss: 0.021871\n",
      "\tTrain Epoch: 21 [320/640 (50%)]\tLoss: 0.022602\n",
      "\tTrain Epoch: 21 [480/640 (75%)]\tLoss: 0.057429\n",
      "\tTrain Epoch: 22 [0/640 (0%)]\tLoss: 0.002267\n",
      "\tTrain Epoch: 22 [160/640 (25%)]\tLoss: 0.009005\n",
      "\tTrain Epoch: 22 [320/640 (50%)]\tLoss: 0.000842\n",
      "\tTrain Epoch: 22 [480/640 (75%)]\tLoss: 0.019999\n",
      "\tTrain Epoch: 23 [0/640 (0%)]\tLoss: 0.240428\n",
      "\tTrain Epoch: 23 [160/640 (25%)]\tLoss: 0.041846\n",
      "\tTrain Epoch: 23 [320/640 (50%)]\tLoss: 0.010524\n",
      "\tTrain Epoch: 23 [480/640 (75%)]\tLoss: 0.017795\n",
      "\tTrain Epoch: 24 [0/640 (0%)]\tLoss: 0.002693\n",
      "\tTrain Epoch: 24 [160/640 (25%)]\tLoss: 0.004304\n",
      "\tTrain Epoch: 24 [320/640 (50%)]\tLoss: 0.020300\n",
      "\tTrain Epoch: 24 [480/640 (75%)]\tLoss: 0.002335\n",
      "\tTrain Epoch: 25 [0/640 (0%)]\tLoss: 0.005189\n",
      "\tTrain Epoch: 25 [160/640 (25%)]\tLoss: 0.032472\n",
      "\tTrain Epoch: 25 [320/640 (50%)]\tLoss: 0.014208\n",
      "\tTrain Epoch: 25 [480/640 (75%)]\tLoss: 0.011032\n",
      "\tTrain Epoch: 26 [0/640 (0%)]\tLoss: 0.003639\n",
      "\tTrain Epoch: 26 [160/640 (25%)]\tLoss: 0.014861\n",
      "\tTrain Epoch: 26 [320/640 (50%)]\tLoss: 0.074278\n",
      "\tTrain Epoch: 26 [480/640 (75%)]\tLoss: 0.009536\n",
      "\tTrain Epoch: 27 [0/640 (0%)]\tLoss: 0.002659\n",
      "\tTrain Epoch: 27 [160/640 (25%)]\tLoss: 0.004130\n",
      "\tTrain Epoch: 27 [320/640 (50%)]\tLoss: 0.001645\n",
      "\tTrain Epoch: 27 [480/640 (75%)]\tLoss: 0.001861\n",
      "\tTrain Epoch: 28 [0/640 (0%)]\tLoss: 0.000653\n",
      "\tTrain Epoch: 28 [160/640 (25%)]\tLoss: 0.001622\n",
      "\tTrain Epoch: 28 [320/640 (50%)]\tLoss: 0.001300\n",
      "\tTrain Epoch: 28 [480/640 (75%)]\tLoss: 0.008405\n",
      "\tTrain Epoch: 29 [0/640 (0%)]\tLoss: 0.271852\n",
      "\tTrain Epoch: 29 [160/640 (25%)]\tLoss: 0.014046\n",
      "\tTrain Epoch: 29 [320/640 (50%)]\tLoss: 0.029179\n",
      "\tTrain Epoch: 29 [480/640 (75%)]\tLoss: 0.038688\n",
      "\tTrain Epoch: 30 [0/640 (0%)]\tLoss: 0.001140\n",
      "\tTrain Epoch: 30 [160/640 (25%)]\tLoss: 0.003007\n",
      "\tTrain Epoch: 30 [320/640 (50%)]\tLoss: 0.009535\n",
      "\tTrain Epoch: 30 [480/640 (75%)]\tLoss: 0.000335\n",
      "\tTrain Epoch: 31 [0/640 (0%)]\tLoss: 0.000247\n",
      "\tTrain Epoch: 31 [160/640 (25%)]\tLoss: 0.004086\n",
      "\tTrain Epoch: 31 [320/640 (50%)]\tLoss: 0.000615\n",
      "\tTrain Epoch: 31 [480/640 (75%)]\tLoss: 0.000344\n",
      "\tTrain Epoch: 32 [0/640 (0%)]\tLoss: 0.001923\n",
      "\tTrain Epoch: 32 [160/640 (25%)]\tLoss: 0.001206\n",
      "\tTrain Epoch: 32 [320/640 (50%)]\tLoss: 0.003567\n",
      "\tTrain Epoch: 32 [480/640 (75%)]\tLoss: 0.002472\n",
      "\tTrain Epoch: 33 [0/640 (0%)]\tLoss: 0.014956\n",
      "\tTrain Epoch: 33 [160/640 (25%)]\tLoss: 0.010609\n",
      "\tTrain Epoch: 33 [320/640 (50%)]\tLoss: 0.003077\n",
      "\tTrain Epoch: 33 [480/640 (75%)]\tLoss: 0.002059\n",
      "\tTrain Epoch: 34 [0/640 (0%)]\tLoss: 0.000475\n",
      "\tTrain Epoch: 34 [160/640 (25%)]\tLoss: 0.000313\n",
      "\tTrain Epoch: 34 [320/640 (50%)]\tLoss: 0.002276\n",
      "\tTrain Epoch: 34 [480/640 (75%)]\tLoss: 0.002183\n",
      "\tTrain Epoch: 35 [0/640 (0%)]\tLoss: 0.000418\n",
      "\tTrain Epoch: 35 [160/640 (25%)]\tLoss: 0.001905\n",
      "\tTrain Epoch: 35 [320/640 (50%)]\tLoss: 0.003031\n",
      "\tTrain Epoch: 35 [480/640 (75%)]\tLoss: 0.001926\n",
      "\tTrain Epoch: 36 [0/640 (0%)]\tLoss: 0.001296\n",
      "\tTrain Epoch: 36 [160/640 (25%)]\tLoss: 0.000864\n",
      "\tTrain Epoch: 36 [320/640 (50%)]\tLoss: 0.000575\n",
      "\tTrain Epoch: 36 [480/640 (75%)]\tLoss: 0.001420\n",
      "\tTrain Epoch: 37 [0/640 (0%)]\tLoss: 0.000280\n",
      "\tTrain Epoch: 37 [160/640 (25%)]\tLoss: 0.002265\n",
      "\tTrain Epoch: 37 [320/640 (50%)]\tLoss: 0.000195\n",
      "\tTrain Epoch: 37 [480/640 (75%)]\tLoss: 0.011255\n",
      "\tTrain Epoch: 38 [0/640 (0%)]\tLoss: 0.001079\n",
      "\tTrain Epoch: 38 [160/640 (25%)]\tLoss: 0.002439\n",
      "\tTrain Epoch: 38 [320/640 (50%)]\tLoss: 0.002213\n",
      "\tTrain Epoch: 38 [480/640 (75%)]\tLoss: 0.002505\n",
      "\tTrain Epoch: 39 [0/640 (0%)]\tLoss: 0.000460\n",
      "\tTrain Epoch: 39 [160/640 (25%)]\tLoss: 0.001557\n",
      "\tTrain Epoch: 39 [320/640 (50%)]\tLoss: 0.000198\n",
      "\tTrain Epoch: 39 [480/640 (75%)]\tLoss: 0.001385\n",
      "\tTrain Epoch: 40 [0/640 (0%)]\tLoss: 0.000821\n",
      "\tTrain Epoch: 40 [160/640 (25%)]\tLoss: 0.000369\n",
      "\tTrain Epoch: 40 [320/640 (50%)]\tLoss: 0.000765\n",
      "\tTrain Epoch: 40 [480/640 (75%)]\tLoss: 0.003800\n",
      "\tTrain Epoch: 41 [0/640 (0%)]\tLoss: 0.000464\n",
      "\tTrain Epoch: 41 [160/640 (25%)]\tLoss: 0.001642\n",
      "\tTrain Epoch: 41 [320/640 (50%)]\tLoss: 0.000377\n",
      "\tTrain Epoch: 41 [480/640 (75%)]\tLoss: 0.000551\n",
      "\tTrain Epoch: 42 [0/640 (0%)]\tLoss: 0.000468\n",
      "\tTrain Epoch: 42 [160/640 (25%)]\tLoss: 0.001542\n",
      "\tTrain Epoch: 42 [320/640 (50%)]\tLoss: 0.001387\n",
      "\tTrain Epoch: 42 [480/640 (75%)]\tLoss: 0.000072\n",
      "\tTrain Epoch: 43 [0/640 (0%)]\tLoss: 0.000077\n",
      "\tTrain Epoch: 43 [160/640 (25%)]\tLoss: 0.001944\n",
      "\tTrain Epoch: 43 [320/640 (50%)]\tLoss: 0.000984\n",
      "\tTrain Epoch: 43 [480/640 (75%)]\tLoss: 0.000220\n",
      "\tTrain Epoch: 44 [0/640 (0%)]\tLoss: 0.000263\n",
      "\tTrain Epoch: 44 [160/640 (25%)]\tLoss: 0.000926\n",
      "\tTrain Epoch: 44 [320/640 (50%)]\tLoss: 0.000684\n"
     ]
    },
    {
     "name": "stdout",
     "output_type": "stream",
     "text": [
      "\tTrain Epoch: 44 [480/640 (75%)]\tLoss: 0.002693\n",
      "\tTrain Epoch: 45 [0/640 (0%)]\tLoss: 0.000028\n",
      "\tTrain Epoch: 45 [160/640 (25%)]\tLoss: 0.001003\n",
      "\tTrain Epoch: 45 [320/640 (50%)]\tLoss: 0.000737\n",
      "\tTrain Epoch: 45 [480/640 (75%)]\tLoss: 0.001077\n",
      "\tTrain Epoch: 46 [0/640 (0%)]\tLoss: 0.000484\n",
      "\tTrain Epoch: 46 [160/640 (25%)]\tLoss: 0.000652\n",
      "\tTrain Epoch: 46 [320/640 (50%)]\tLoss: 0.000419\n",
      "\tTrain Epoch: 46 [480/640 (75%)]\tLoss: 0.000095\n",
      "\tTrain Epoch: 47 [0/640 (0%)]\tLoss: 0.002460\n",
      "\tTrain Epoch: 47 [160/640 (25%)]\tLoss: 0.001975\n",
      "\tTrain Epoch: 47 [320/640 (50%)]\tLoss: 0.000253\n",
      "\tTrain Epoch: 47 [480/640 (75%)]\tLoss: 0.000509\n",
      "\tTrain Epoch: 48 [0/640 (0%)]\tLoss: 0.001077\n",
      "\tTrain Epoch: 48 [160/640 (25%)]\tLoss: 0.000480\n",
      "\tTrain Epoch: 48 [320/640 (50%)]\tLoss: 0.000320\n",
      "\tTrain Epoch: 48 [480/640 (75%)]\tLoss: 0.000176\n",
      "\tTrain Epoch: 49 [0/640 (0%)]\tLoss: 0.002026\n",
      "\tTrain Epoch: 49 [160/640 (25%)]\tLoss: 0.000625\n",
      "\tTrain Epoch: 49 [320/640 (50%)]\tLoss: 0.000120\n",
      "\tTrain Epoch: 49 [480/640 (75%)]\tLoss: 0.000078\n",
      "\tTrain Epoch: 50 [0/640 (0%)]\tLoss: 0.000917\n",
      "\tTrain Epoch: 50 [160/640 (25%)]\tLoss: 0.000401\n",
      "\tTrain Epoch: 50 [320/640 (50%)]\tLoss: 0.000185\n",
      "\tTrain Epoch: 50 [480/640 (75%)]\tLoss: 0.000759\n",
      "\tTrain Epoch: 51 [0/640 (0%)]\tLoss: 0.001060\n",
      "\tTrain Epoch: 51 [160/640 (25%)]\tLoss: 0.000411\n",
      "\tTrain Epoch: 51 [320/640 (50%)]\tLoss: 0.000194\n",
      "\tTrain Epoch: 51 [480/640 (75%)]\tLoss: 0.000329\n",
      "\tTrain Epoch: 52 [0/640 (0%)]\tLoss: 0.000042\n",
      "\tTrain Epoch: 52 [160/640 (25%)]\tLoss: 0.001095\n",
      "\tTrain Epoch: 52 [320/640 (50%)]\tLoss: 0.000095\n",
      "\tTrain Epoch: 52 [480/640 (75%)]\tLoss: 0.001475\n",
      "\tTrain Epoch: 53 [0/640 (0%)]\tLoss: 0.000672\n",
      "\tTrain Epoch: 53 [160/640 (25%)]\tLoss: 0.000012\n",
      "\tTrain Epoch: 53 [320/640 (50%)]\tLoss: 0.001912\n",
      "\tTrain Epoch: 53 [480/640 (75%)]\tLoss: 0.000171\n",
      "\tTrain Epoch: 54 [0/640 (0%)]\tLoss: 0.000885\n",
      "\tTrain Epoch: 54 [160/640 (25%)]\tLoss: 0.000529\n",
      "\tTrain Epoch: 54 [320/640 (50%)]\tLoss: 0.000726\n",
      "\tTrain Epoch: 54 [480/640 (75%)]\tLoss: 0.000797\n",
      "\tTrain Epoch: 55 [0/640 (0%)]\tLoss: 0.000354\n",
      "\tTrain Epoch: 55 [160/640 (25%)]\tLoss: 0.001428\n",
      "\tTrain Epoch: 55 [320/640 (50%)]\tLoss: 0.000136\n",
      "\tTrain Epoch: 55 [480/640 (75%)]\tLoss: 0.000402\n",
      "\tTrain Epoch: 56 [0/640 (0%)]\tLoss: 0.000867\n",
      "\tTrain Epoch: 56 [160/640 (25%)]\tLoss: 0.001176\n",
      "\tTrain Epoch: 56 [320/640 (50%)]\tLoss: 0.002441\n",
      "\tTrain Epoch: 56 [480/640 (75%)]\tLoss: 0.000400\n",
      "\tTrain Epoch: 57 [0/640 (0%)]\tLoss: 0.000246\n",
      "\tTrain Epoch: 57 [160/640 (25%)]\tLoss: 0.000400\n",
      "\tTrain Epoch: 57 [320/640 (50%)]\tLoss: 0.001318\n",
      "\tTrain Epoch: 57 [480/640 (75%)]\tLoss: 0.000375\n",
      "\tTrain Epoch: 58 [0/640 (0%)]\tLoss: 0.000515\n",
      "\tTrain Epoch: 58 [160/640 (25%)]\tLoss: 0.000149\n",
      "\tTrain Epoch: 58 [320/640 (50%)]\tLoss: 0.000070\n",
      "\tTrain Epoch: 58 [480/640 (75%)]\tLoss: 0.000346\n",
      "\tTrain Epoch: 59 [0/640 (0%)]\tLoss: 0.000649\n",
      "\tTrain Epoch: 59 [160/640 (25%)]\tLoss: 0.000192\n",
      "\tTrain Epoch: 59 [320/640 (50%)]\tLoss: 0.000194\n",
      "\tTrain Epoch: 59 [480/640 (75%)]\tLoss: 0.001057\n",
      "\tTrain Epoch: 60 [0/640 (0%)]\tLoss: 0.000748\n",
      "\tTrain Epoch: 60 [160/640 (25%)]\tLoss: 0.002180\n",
      "\tTrain Epoch: 60 [320/640 (50%)]\tLoss: 0.000127\n",
      "\tTrain Epoch: 60 [480/640 (75%)]\tLoss: 0.000477\n",
      "\tTrain Epoch: 61 [0/640 (0%)]\tLoss: 0.000158\n",
      "\tTrain Epoch: 61 [160/640 (25%)]\tLoss: 0.000237\n",
      "\tTrain Epoch: 61 [320/640 (50%)]\tLoss: 0.001041\n",
      "\tTrain Epoch: 61 [480/640 (75%)]\tLoss: 0.001924\n",
      "\tTrain Epoch: 62 [0/640 (0%)]\tLoss: 0.000380\n",
      "\tTrain Epoch: 62 [160/640 (25%)]\tLoss: 0.000073\n",
      "\tTrain Epoch: 62 [320/640 (50%)]\tLoss: 0.000746\n",
      "\tTrain Epoch: 62 [480/640 (75%)]\tLoss: 0.000399\n",
      "\tTrain Epoch: 63 [0/640 (0%)]\tLoss: 0.000472\n",
      "\tTrain Epoch: 63 [160/640 (25%)]\tLoss: 0.000204\n",
      "\tTrain Epoch: 63 [320/640 (50%)]\tLoss: 0.000051\n",
      "\tTrain Epoch: 63 [480/640 (75%)]\tLoss: 0.001203\n",
      "\tTrain Epoch: 64 [0/640 (0%)]\tLoss: 0.000227\n",
      "\tTrain Epoch: 64 [160/640 (25%)]\tLoss: 0.000074\n",
      "\tTrain Epoch: 64 [320/640 (50%)]\tLoss: 0.000254\n",
      "\tTrain Epoch: 64 [480/640 (75%)]\tLoss: 0.000887\n",
      "\tTrain Epoch: 65 [0/640 (0%)]\tLoss: 0.000110\n",
      "\tTrain Epoch: 65 [160/640 (25%)]\tLoss: 0.000696\n",
      "\tTrain Epoch: 65 [320/640 (50%)]\tLoss: 0.000156\n",
      "\tTrain Epoch: 65 [480/640 (75%)]\tLoss: 0.001610\n",
      "\tTrain Epoch: 66 [0/640 (0%)]\tLoss: 0.000596\n",
      "\tTrain Epoch: 66 [160/640 (25%)]\tLoss: 0.000368\n",
      "\tTrain Epoch: 66 [320/640 (50%)]\tLoss: 0.000916\n",
      "\tTrain Epoch: 66 [480/640 (75%)]\tLoss: 0.000269\n",
      "\tTrain Epoch: 67 [0/640 (0%)]\tLoss: 0.001261\n",
      "\tTrain Epoch: 67 [160/640 (25%)]\tLoss: 0.000087\n",
      "\tTrain Epoch: 67 [320/640 (50%)]\tLoss: 0.000081\n",
      "\tTrain Epoch: 67 [480/640 (75%)]\tLoss: 0.000786\n",
      "\tTrain Epoch: 68 [0/640 (0%)]\tLoss: 0.000456\n",
      "\tTrain Epoch: 68 [160/640 (25%)]\tLoss: 0.000180\n",
      "\tTrain Epoch: 68 [320/640 (50%)]\tLoss: 0.001238\n",
      "\tTrain Epoch: 68 [480/640 (75%)]\tLoss: 0.000093\n",
      "\tTrain Epoch: 69 [0/640 (0%)]\tLoss: 0.000069\n",
      "\tTrain Epoch: 69 [160/640 (25%)]\tLoss: 0.001157\n",
      "\tTrain Epoch: 69 [320/640 (50%)]\tLoss: 0.000450\n",
      "\tTrain Epoch: 69 [480/640 (75%)]\tLoss: 0.000731\n",
      "\tTrain Epoch: 70 [0/640 (0%)]\tLoss: 0.000189\n",
      "\tTrain Epoch: 70 [160/640 (25%)]\tLoss: 0.000061\n",
      "\tTrain Epoch: 70 [320/640 (50%)]\tLoss: 0.000314\n",
      "\tTrain Epoch: 70 [480/640 (75%)]\tLoss: 0.000698\n",
      "\tTrain Epoch: 71 [0/640 (0%)]\tLoss: 0.001032\n",
      "\tTrain Epoch: 71 [160/640 (25%)]\tLoss: 0.000269\n",
      "\tTrain Epoch: 71 [320/640 (50%)]\tLoss: 0.000943\n",
      "\tTrain Epoch: 71 [480/640 (75%)]\tLoss: 0.003859\n",
      "\tTrain Epoch: 72 [0/640 (0%)]\tLoss: 0.001238\n",
      "\tTrain Epoch: 72 [160/640 (25%)]\tLoss: 0.000282\n",
      "\tTrain Epoch: 72 [320/640 (50%)]\tLoss: 0.000118\n",
      "\tTrain Epoch: 72 [480/640 (75%)]\tLoss: 0.000057\n",
      "\tTrain Epoch: 73 [0/640 (0%)]\tLoss: 0.003182\n",
      "\tTrain Epoch: 73 [160/640 (25%)]\tLoss: 0.000637\n",
      "\tTrain Epoch: 73 [320/640 (50%)]\tLoss: 0.000108\n",
      "\tTrain Epoch: 73 [480/640 (75%)]\tLoss: 0.000060\n",
      "\tTrain Epoch: 74 [0/640 (0%)]\tLoss: 0.001112\n",
      "\tTrain Epoch: 74 [160/640 (25%)]\tLoss: 0.002700\n",
      "\tTrain Epoch: 74 [320/640 (50%)]\tLoss: 0.000221\n",
      "\tTrain Epoch: 74 [480/640 (75%)]\tLoss: 0.000961\n",
      "\tTrain Epoch: 75 [0/640 (0%)]\tLoss: 0.000177\n",
      "\tTrain Epoch: 75 [160/640 (25%)]\tLoss: 0.000305\n",
      "\tTrain Epoch: 75 [320/640 (50%)]\tLoss: 0.000159\n",
      "\tTrain Epoch: 75 [480/640 (75%)]\tLoss: 0.000071\n",
      "\tTrain Epoch: 76 [0/640 (0%)]\tLoss: 0.000225\n",
      "\tTrain Epoch: 76 [160/640 (25%)]\tLoss: 0.000660\n",
      "\tTrain Epoch: 76 [320/640 (50%)]\tLoss: 0.000080\n",
      "\tTrain Epoch: 76 [480/640 (75%)]\tLoss: 0.000039\n",
      "\tTrain Epoch: 77 [0/640 (0%)]\tLoss: 0.000006\n",
      "\tTrain Epoch: 77 [160/640 (25%)]\tLoss: 0.000176\n",
      "\tTrain Epoch: 77 [320/640 (50%)]\tLoss: 0.000527\n",
      "\tTrain Epoch: 77 [480/640 (75%)]\tLoss: 0.000016\n",
      "\tTrain Epoch: 78 [0/640 (0%)]\tLoss: 0.000492\n",
      "\tTrain Epoch: 78 [160/640 (25%)]\tLoss: 0.000021\n",
      "\tTrain Epoch: 78 [320/640 (50%)]\tLoss: 0.000994\n",
      "\tTrain Epoch: 78 [480/640 (75%)]\tLoss: 0.000448\n",
      "\tTrain Epoch: 79 [0/640 (0%)]\tLoss: 0.000316\n",
      "\tTrain Epoch: 79 [160/640 (25%)]\tLoss: 0.000211\n",
      "\tTrain Epoch: 79 [320/640 (50%)]\tLoss: 0.001384\n",
      "\tTrain Epoch: 79 [480/640 (75%)]\tLoss: 0.000031\n",
      "\tTrain Epoch: 80 [0/640 (0%)]\tLoss: 0.000062\n",
      "\tTrain Epoch: 80 [160/640 (25%)]\tLoss: 0.000052\n",
      "\tTrain Epoch: 80 [320/640 (50%)]\tLoss: 0.000335\n",
      "\tTrain Epoch: 80 [480/640 (75%)]\tLoss: 0.002137\n",
      "\tTrain Epoch: 81 [0/640 (0%)]\tLoss: 0.000801\n",
      "\tTrain Epoch: 81 [160/640 (25%)]\tLoss: 0.000186\n",
      "\tTrain Epoch: 81 [320/640 (50%)]\tLoss: 0.000037\n",
      "\tTrain Epoch: 81 [480/640 (75%)]\tLoss: 0.000185\n",
      "\tTrain Epoch: 82 [0/640 (0%)]\tLoss: 0.002112\n",
      "\tTrain Epoch: 82 [160/640 (25%)]\tLoss: 0.000082\n",
      "\tTrain Epoch: 82 [320/640 (50%)]\tLoss: 0.000202\n",
      "\tTrain Epoch: 82 [480/640 (75%)]\tLoss: 0.000259\n",
      "\tTrain Epoch: 83 [0/640 (0%)]\tLoss: 0.000054\n",
      "\tTrain Epoch: 83 [160/640 (25%)]\tLoss: 0.001227\n",
      "\tTrain Epoch: 83 [320/640 (50%)]\tLoss: 0.000022\n",
      "\tTrain Epoch: 83 [480/640 (75%)]\tLoss: 0.000246\n",
      "\tTrain Epoch: 84 [0/640 (0%)]\tLoss: 0.000035\n",
      "\tTrain Epoch: 84 [160/640 (25%)]\tLoss: 0.000522\n",
      "\tTrain Epoch: 84 [320/640 (50%)]\tLoss: 0.000475\n",
      "\tTrain Epoch: 84 [480/640 (75%)]\tLoss: 0.002843\n",
      "\tTrain Epoch: 85 [0/640 (0%)]\tLoss: 0.000164\n",
      "\tTrain Epoch: 85 [160/640 (25%)]\tLoss: 0.000258\n",
      "\tTrain Epoch: 85 [320/640 (50%)]\tLoss: 0.000202\n",
      "\tTrain Epoch: 85 [480/640 (75%)]\tLoss: 0.000114\n",
      "\tTrain Epoch: 86 [0/640 (0%)]\tLoss: 0.000620\n",
      "\tTrain Epoch: 86 [160/640 (25%)]\tLoss: 0.000250\n",
      "\tTrain Epoch: 86 [320/640 (50%)]\tLoss: 0.000248\n",
      "\tTrain Epoch: 86 [480/640 (75%)]\tLoss: 0.000100\n",
      "\tTrain Epoch: 87 [0/640 (0%)]\tLoss: 0.000023\n",
      "\tTrain Epoch: 87 [160/640 (25%)]\tLoss: 0.000052\n",
      "\tTrain Epoch: 87 [320/640 (50%)]\tLoss: 0.000251\n",
      "\tTrain Epoch: 87 [480/640 (75%)]\tLoss: 0.000151\n",
      "\tTrain Epoch: 88 [0/640 (0%)]\tLoss: 0.000104\n"
     ]
    },
    {
     "name": "stdout",
     "output_type": "stream",
     "text": [
      "\tTrain Epoch: 88 [160/640 (25%)]\tLoss: 0.000789\n",
      "\tTrain Epoch: 88 [320/640 (50%)]\tLoss: 0.000154\n",
      "\tTrain Epoch: 88 [480/640 (75%)]\tLoss: 0.000597\n",
      "\tTrain Epoch: 89 [0/640 (0%)]\tLoss: 0.000087\n",
      "\tTrain Epoch: 89 [160/640 (25%)]\tLoss: 0.000055\n",
      "\tTrain Epoch: 89 [320/640 (50%)]\tLoss: 0.000331\n",
      "\tTrain Epoch: 89 [480/640 (75%)]\tLoss: 0.000148\n",
      "\tTrain Epoch: 90 [0/640 (0%)]\tLoss: 0.000197\n",
      "\tTrain Epoch: 90 [160/640 (25%)]\tLoss: 0.000097\n",
      "\tTrain Epoch: 90 [320/640 (50%)]\tLoss: 0.000121\n",
      "\tTrain Epoch: 90 [480/640 (75%)]\tLoss: 0.000190\n",
      "\tTrain Epoch: 91 [0/640 (0%)]\tLoss: 0.000075\n",
      "\tTrain Epoch: 91 [160/640 (25%)]\tLoss: 0.000237\n",
      "\tTrain Epoch: 91 [320/640 (50%)]\tLoss: 0.000004\n",
      "\tTrain Epoch: 91 [480/640 (75%)]\tLoss: 0.000546\n",
      "\tTrain Epoch: 92 [0/640 (0%)]\tLoss: 0.000138\n",
      "\tTrain Epoch: 92 [160/640 (25%)]\tLoss: 0.000085\n",
      "\tTrain Epoch: 92 [320/640 (50%)]\tLoss: 0.000015\n",
      "\tTrain Epoch: 92 [480/640 (75%)]\tLoss: 0.000594\n",
      "\tTrain Epoch: 93 [0/640 (0%)]\tLoss: 0.000206\n",
      "\tTrain Epoch: 93 [160/640 (25%)]\tLoss: 0.000690\n",
      "\tTrain Epoch: 93 [320/640 (50%)]\tLoss: 0.000260\n",
      "\tTrain Epoch: 93 [480/640 (75%)]\tLoss: 0.001823\n",
      "\tTrain Epoch: 94 [0/640 (0%)]\tLoss: 0.000060\n",
      "\tTrain Epoch: 94 [160/640 (25%)]\tLoss: 0.000376\n",
      "\tTrain Epoch: 94 [320/640 (50%)]\tLoss: 0.000129\n",
      "\tTrain Epoch: 94 [480/640 (75%)]\tLoss: 0.000041\n",
      "\tTrain Epoch: 95 [0/640 (0%)]\tLoss: 0.000045\n",
      "\tTrain Epoch: 95 [160/640 (25%)]\tLoss: 0.000159\n",
      "\tTrain Epoch: 95 [320/640 (50%)]\tLoss: 0.002075\n",
      "\tTrain Epoch: 95 [480/640 (75%)]\tLoss: 0.000467\n",
      "\tTrain Epoch: 96 [0/640 (0%)]\tLoss: 0.000110\n",
      "\tTrain Epoch: 96 [160/640 (25%)]\tLoss: 0.000196\n",
      "\tTrain Epoch: 96 [320/640 (50%)]\tLoss: 0.000225\n",
      "\tTrain Epoch: 96 [480/640 (75%)]\tLoss: 0.000113\n",
      "\tTrain Epoch: 97 [0/640 (0%)]\tLoss: 0.000130\n",
      "\tTrain Epoch: 97 [160/640 (25%)]\tLoss: 0.000107\n",
      "\tTrain Epoch: 97 [320/640 (50%)]\tLoss: 0.000056\n",
      "\tTrain Epoch: 97 [480/640 (75%)]\tLoss: 0.000044\n",
      "\tTrain Epoch: 98 [0/640 (0%)]\tLoss: 0.000101\n",
      "\tTrain Epoch: 98 [160/640 (25%)]\tLoss: 0.001122\n",
      "\tTrain Epoch: 98 [320/640 (50%)]\tLoss: 0.000130\n",
      "\tTrain Epoch: 98 [480/640 (75%)]\tLoss: 0.000334\n",
      "\tTrain Epoch: 99 [0/640 (0%)]\tLoss: 0.000008\n",
      "\tTrain Epoch: 99 [160/640 (25%)]\tLoss: 0.000119\n",
      "\tTrain Epoch: 99 [320/640 (50%)]\tLoss: 0.000084\n",
      "\tTrain Epoch: 99 [480/640 (75%)]\tLoss: 0.000382\n",
      "\tTrain Epoch: 100 [0/640 (0%)]\tLoss: 0.000059\n",
      "\tTrain Epoch: 100 [160/640 (25%)]\tLoss: 0.001613\n",
      "\tTrain Epoch: 100 [320/640 (50%)]\tLoss: 0.000123\n",
      "\tTrain Epoch: 100 [480/640 (75%)]\tLoss: 0.000045\n",
      "\n",
      "\n",
      "Test set: Average loss: 0.1100, Accuracy: 158/159 (99%)\n",
      "\n",
      "Test set: Final Accuracy: 99.371%\n",
      "Model saved at _Regard.pt\n"
     ]
    }
   ],
   "source": [
    "from Regard import ML\n",
    "ml = ML(args)\n",
    "\n",
    "import os\n",
    "import torch\n",
    "if os.path.isfile(path):\n",
    "    ml.model.load_state_dict(torch.load(path))\n",
    "    print('Loading file', path)\n",
    "else:\n",
    "    print('Training model...')\n",
    "    ml.main()\n",
    "    torch.save(ml.model.state_dict(), path) #save the neural network state\n",
    "    print('Model saved at', path)"
   ]
  },
  {
   "cell_type": "markdown",
   "metadata": {},
   "source": [
    "## testing the model"
   ]
  },
  {
   "cell_type": "code",
   "execution_count": 6,
   "metadata": {
    "ExecuteTime": {
     "end_time": "2018-06-22T09:16:37.313939Z",
     "start_time": "2018-06-22T09:16:31.132850Z"
    }
   },
   "outputs": [
    {
     "name": "stdout",
     "output_type": "stream",
     "text": [
      "\n",
      "Test set: Average loss: 0.1100, Accuracy: 158/159 (99%)\n",
      "\n"
     ]
    }
   ],
   "source": [
    "Accuracy = ml.test()"
   ]
  },
  {
   "cell_type": "code",
   "execution_count": 7,
   "metadata": {
    "ExecuteTime": {
     "end_time": "2018-06-22T09:17:00.801051Z",
     "start_time": "2018-06-22T09:16:37.317355Z"
    },
    "scrolled": false
   },
   "outputs": [
    {
     "name": "stdout",
     "output_type": "stream",
     "text": [
      "target:blink\n",
      "pred  :right\n"
     ]
    },
    {
     "data": {
      "image/png": "[encoded data removed]",
      "text/plain": [
       "<Figure size 936x360 with 1 Axes>"
      ]
     },
     "metadata": {},
     "output_type": "display_data"
    }
   ],
   "source": [
    "%matplotlib inline\n",
    "import matplotlib.pyplot as plt\n",
    "\n",
    "for data, labels in ml.dataset.test_loader:\n",
    "    fig, ax = ml.show(only_wrong=True)\n",
    "    plt.show() \n"
   ]
  },
  {
   "cell_type": "markdown",
   "metadata": {},
   "source": [
    "## cross-validation"
   ]
  },
  {
   "cell_type": "code",
   "execution_count": 8,
   "metadata": {
    "ExecuteTime": {
     "end_time": "2018-06-25T06:48:15.387930Z",
     "start_time": "2018-06-22T09:17:00.806143Z"
    }
   },
   "outputs": [
    {
     "name": "stdout",
     "output_type": "stream",
     "text": [
      "Test set: Final Accuracy: 99.371%\n",
      "Test set: Final Accuracy: 97.484%\n",
      "Test set: Final Accuracy: 98.113%\n",
      "Test set: Final Accuracy: 97.484%\n",
      "Test set: Final Accuracy: 95.597%\n",
      "Test set: Final Accuracy: 96.855%\n",
      "Test set: Final Accuracy: 97.484%\n",
      "Test set: Final Accuracy: 96.226%\n",
      "Test set: Final Accuracy: 96.855%\n",
      "Test set: Final Accuracy: 97.484%\n",
      "Test set: Final Accuracy: 96.855%\n",
      "Test set: Final Accuracy: 96.855%\n",
      "Test set: Final Accuracy: 96.855%\n",
      "Test set: Final Accuracy: 95.597%\n",
      "Test set: Final Accuracy: 96.855%\n",
      "Test set: Final Accuracy: 98.113%\n",
      "Test set: Final Accuracy: 97.484%\n",
      "Test set: Final Accuracy: 96.226%\n",
      "Test set: Final Accuracy: 96.226%\n",
      "Test set: Final Accuracy: 97.484%\n",
      "Test set: Final Accuracy: 98.742%\n",
      "Test set: Final Accuracy: 97.484%\n",
      "Test set: Final Accuracy: 98.113%\n",
      "Test set: Final Accuracy: 98.113%\n",
      "Test set: Final Accuracy: 96.226%\n",
      "Test set: Final Accuracy: 98.113%\n",
      "Test set: Final Accuracy: 96.855%\n",
      "Test set: Final Accuracy: 96.226%\n",
      "Test set: Final Accuracy: 97.484%\n",
      "Test set: Final Accuracy: 98.113%\n",
      "[0.9937106918238994, 0.9748427672955975, 0.9811320754716981, 0.9748427672955975, 0.9559748427672956, 0.9685534591194969, 0.9748427672955975, 0.9622641509433962, 0.9685534591194969, 0.9748427672955975, 0.9685534591194969, 0.9685534591194969, 0.9685534591194969, 0.9559748427672956, 0.9685534591194969, 0.9811320754716981, 0.9748427672955975, 0.9622641509433962, 0.9622641509433962, 0.9748427672955975, 0.9874213836477987, 0.9748427672955975, 0.9811320754716981, 0.9811320754716981, 0.9622641509433962, 0.9811320754716981, 0.9685534591194969, 0.9622641509433962, 0.9748427672955975, 0.9811320754716981]\n"
     ]
    },
    {
     "data": {
      "image/png": "[encoded data removed]",
      "text/plain": [
       "<Figure size 432x288 with 1 Axes>"
      ]
     },
     "metadata": {},
     "output_type": "display_data"
    }
   ],
   "source": [
    "Accuracy = []\n",
    "for _ in range(30):\n",
    "    args = init(verbose=0, log_interval=0, seed=42+_)\n",
    "    ml = ML(args)\n",
    "    ml.main()\n",
    "    Accuracy.append(ml.test())\n",
    "print(Accuracy)\n",
    "\n",
    "%matplotlib inline\n",
    "import matplotlib.pyplot as plt\n",
    "\n",
    "plt.hist(Accuracy, bins=7) \n",
    "\n",
    "plt.show() "
   ]
  }
 ],
 "metadata": {
  "kernel_info": {
   "name": "python3"
  },
  "kernelspec": {
   "display_name": "Python 3",
   "language": "python",
   "name": "python3"
  },
  "language_info": {
   "codemirror_mode": {
    "name": "ipython",
    "version": 3
   },
   "file_extension": ".py",
   "mimetype": "text/x-python",
   "name": "python",
   "nbconvert_exporter": "python",
   "pygments_lexer": "ipython3",
   "version": "3.6.5"
  },
  "nteract": {
   "version": "0.8.4"
  },
  "toc": {
   "base_numbering": 1,
   "nav_menu": {},
   "number_sections": true,
   "sideBar": true,
   "skip_h1_title": false,
   "title_cell": "Table of Contents",
   "title_sidebar": "Contents",
   "toc_cell": false,
   "toc_position": {},
   "toc_section_display": "block",
   "toc_window_display": false
  }
 },
 "nbformat": 4,
 "nbformat_minor": 2
}
