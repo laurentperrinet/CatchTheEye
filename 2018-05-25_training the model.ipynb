{
 "cells": [
  {
   "cell_type": "code",
   "execution_count": 1,
   "metadata": {
    "ExecuteTime": {
     "end_time": "2018-06-04T14:10:56.192342Z",
     "start_time": "2018-06-04T14:10:56.147302Z"
    }
   },
   "outputs": [],
   "source": [
    "%load_ext autoreload\n",
    "%autoreload 2"
   ]
  },
  {
   "cell_type": "code",
   "execution_count": 2,
   "metadata": {
    "ExecuteTime": {
     "end_time": "2018-06-04T14:10:57.221789Z",
     "start_time": "2018-06-04T14:10:56.200959Z"
    }
   },
   "outputs": [],
   "source": [
    "%matplotlib inline"
   ]
  },
  {
   "cell_type": "markdown",
   "metadata": {},
   "source": [
    "## running the model"
   ]
  },
  {
   "cell_type": "code",
   "execution_count": 3,
   "metadata": {
    "ExecuteTime": {
     "end_time": "2018-06-04T14:10:58.591170Z",
     "start_time": "2018-06-04T14:10:57.231488Z"
    }
   },
   "outputs": [
    {
     "name": "stdout",
     "output_type": "stream",
     "text": [
      "Parameters= {'batch_size': 16, 'test_batch_size': 1, 'valid_size': 0.2, 'epochs': 200, 'lr': 0.01, 'momentum': 0.3, 'no_cuda': True, 'num_processes': 1, 'seed': 42, 'log_interval': 10, 'dimension': 25, 'verbose': 1, 'conv1_dim': 8, 'conv1_kernel_size': 5, 'conv2_dim': 13, 'conv2_kernel_size': 5, 'crop': 200, 'size': 128, 'mean': 0.25, 'std': 0.33}\n"
     ]
    }
   ],
   "source": [
    "from Regard import init\n",
    "args = init(verbose=1)\n",
    "print('Parameters=', args)\n",
    "\n",
    "path = '_Regard.pt'"
   ]
  },
  {
   "cell_type": "code",
   "execution_count": 4,
   "metadata": {
    "ExecuteTime": {
     "end_time": "2018-06-04T14:10:58.807267Z",
     "start_time": "2018-06-04T14:10:58.596795Z"
    }
   },
   "outputs": [],
   "source": [
    "!rm {path}"
   ]
  },
  {
   "cell_type": "code",
   "execution_count": null,
   "metadata": {
    "ExecuteTime": {
     "start_time": "2018-06-04T14:10:56.100Z"
    },
    "scrolled": false
   },
   "outputs": [
    {
     "name": "stdout",
     "output_type": "stream",
     "text": [
      "cuda? False\n",
      "cuda? False\n",
      "Found 850 sample images;  680  to train 170 to test\n",
      "Training model...\n"
     ]
    },
    {
     "data": {
      "application/vnd.jupyter.widget-view+json": {
       "model_id": "56d044eea6c54c58984241e2976d1573",
       "version_major": 2,
       "version_minor": 0
      },
      "text/plain": [
       "HBox(children=(IntProgress(value=0, description='Train Epoch', max=200), HTML(value='')))"
      ]
     },
     "metadata": {},
     "output_type": "display_data"
    },
    {
     "name": "stdout",
     "output_type": "stream",
     "text": [
      "\tTrain Epoch: 1 [0/680 (0%)]\tLoss: 1.374939\n",
      "\tTrain Epoch: 1 [160/680 (23%)]\tLoss: 1.267437\n",
      "\tTrain Epoch: 1 [320/680 (47%)]\tLoss: 1.151145\n",
      "\tTrain Epoch: 1 [480/680 (70%)]\tLoss: 1.312468\n",
      "\tTrain Epoch: 1 [640/680 (93%)]\tLoss: 1.361092\n",
      "\tTrain Epoch: 2 [0/680 (0%)]\tLoss: 1.323005\n",
      "\tTrain Epoch: 2 [160/680 (23%)]\tLoss: 1.378987\n",
      "\tTrain Epoch: 2 [320/680 (47%)]\tLoss: 1.337244\n",
      "\tTrain Epoch: 2 [480/680 (70%)]\tLoss: 1.307441\n",
      "\tTrain Epoch: 2 [640/680 (93%)]\tLoss: 1.309012\n",
      "\tTrain Epoch: 3 [0/680 (0%)]\tLoss: 1.367015\n",
      "\tTrain Epoch: 3 [160/680 (23%)]\tLoss: 1.242304\n",
      "\tTrain Epoch: 3 [320/680 (47%)]\tLoss: 1.209340\n",
      "\tTrain Epoch: 3 [480/680 (70%)]\tLoss: 1.218366\n",
      "\tTrain Epoch: 3 [640/680 (93%)]\tLoss: 1.172993\n",
      "\tTrain Epoch: 4 [0/680 (0%)]\tLoss: 1.195534\n",
      "\tTrain Epoch: 4 [160/680 (23%)]\tLoss: 1.072196\n",
      "\tTrain Epoch: 4 [320/680 (47%)]\tLoss: 1.106174\n",
      "\tTrain Epoch: 4 [480/680 (70%)]\tLoss: 1.131305\n",
      "\tTrain Epoch: 4 [640/680 (93%)]\tLoss: 1.168994\n",
      "\tTrain Epoch: 5 [0/680 (0%)]\tLoss: 1.253540\n",
      "\tTrain Epoch: 5 [160/680 (23%)]\tLoss: 1.334457\n",
      "\tTrain Epoch: 5 [320/680 (47%)]\tLoss: 0.887892\n",
      "\tTrain Epoch: 5 [480/680 (70%)]\tLoss: 1.015077\n",
      "\tTrain Epoch: 5 [640/680 (93%)]\tLoss: 1.105048\n",
      "\tTrain Epoch: 6 [0/680 (0%)]\tLoss: 1.120716\n",
      "\tTrain Epoch: 6 [160/680 (23%)]\tLoss: 0.819384\n",
      "\tTrain Epoch: 6 [320/680 (47%)]\tLoss: 0.743276\n",
      "\tTrain Epoch: 6 [480/680 (70%)]\tLoss: 0.793965\n",
      "\tTrain Epoch: 6 [640/680 (93%)]\tLoss: 1.117378\n",
      "\tTrain Epoch: 7 [0/680 (0%)]\tLoss: 0.774731\n",
      "\tTrain Epoch: 7 [160/680 (23%)]\tLoss: 0.653130\n",
      "\tTrain Epoch: 7 [320/680 (47%)]\tLoss: 0.665536\n",
      "\tTrain Epoch: 7 [480/680 (70%)]\tLoss: 0.484586\n",
      "\tTrain Epoch: 7 [640/680 (93%)]\tLoss: 0.469915\n",
      "\tTrain Epoch: 8 [0/680 (0%)]\tLoss: 0.546182\n",
      "\tTrain Epoch: 8 [160/680 (23%)]\tLoss: 0.419430\n",
      "\tTrain Epoch: 8 [320/680 (47%)]\tLoss: 0.462737\n",
      "\tTrain Epoch: 8 [480/680 (70%)]\tLoss: 0.606472\n",
      "\tTrain Epoch: 8 [640/680 (93%)]\tLoss: 0.463301\n",
      "\tTrain Epoch: 9 [0/680 (0%)]\tLoss: 1.466314\n",
      "\tTrain Epoch: 9 [160/680 (23%)]\tLoss: 0.183990\n",
      "\tTrain Epoch: 9 [320/680 (47%)]\tLoss: 0.455367\n",
      "\tTrain Epoch: 9 [480/680 (70%)]\tLoss: 0.464888\n",
      "\tTrain Epoch: 9 [640/680 (93%)]\tLoss: 0.386724\n",
      "\tTrain Epoch: 10 [0/680 (0%)]\tLoss: 0.346621\n",
      "\tTrain Epoch: 10 [160/680 (23%)]\tLoss: 0.515783\n",
      "\tTrain Epoch: 10 [320/680 (47%)]\tLoss: 0.200623\n",
      "\tTrain Epoch: 10 [480/680 (70%)]\tLoss: 0.295611\n",
      "\tTrain Epoch: 10 [640/680 (93%)]\tLoss: 0.118167\n",
      "\tTrain Epoch: 11 [0/680 (0%)]\tLoss: 0.076175\n",
      "\tTrain Epoch: 11 [160/680 (23%)]\tLoss: 0.336246\n",
      "\tTrain Epoch: 11 [320/680 (47%)]\tLoss: 0.262233\n",
      "\tTrain Epoch: 11 [480/680 (70%)]\tLoss: 0.575865\n",
      "\tTrain Epoch: 11 [640/680 (93%)]\tLoss: 0.183623\n",
      "\tTrain Epoch: 12 [0/680 (0%)]\tLoss: 0.233602\n",
      "\tTrain Epoch: 12 [160/680 (23%)]\tLoss: 0.195694\n",
      "\tTrain Epoch: 12 [320/680 (47%)]\tLoss: 0.717784\n",
      "\tTrain Epoch: 12 [480/680 (70%)]\tLoss: 0.232489\n",
      "\tTrain Epoch: 12 [640/680 (93%)]\tLoss: 0.437833\n",
      "\tTrain Epoch: 13 [0/680 (0%)]\tLoss: 0.156767\n",
      "\tTrain Epoch: 13 [160/680 (23%)]\tLoss: 0.164586\n",
      "\tTrain Epoch: 13 [320/680 (47%)]\tLoss: 0.352596\n",
      "\tTrain Epoch: 13 [480/680 (70%)]\tLoss: 0.387152\n",
      "\tTrain Epoch: 13 [640/680 (93%)]\tLoss: 0.052221\n",
      "\tTrain Epoch: 14 [0/680 (0%)]\tLoss: 0.266495\n",
      "\tTrain Epoch: 14 [160/680 (23%)]\tLoss: 0.096350\n",
      "\tTrain Epoch: 14 [320/680 (47%)]\tLoss: 0.125577\n",
      "\tTrain Epoch: 14 [480/680 (70%)]\tLoss: 0.129195\n",
      "\tTrain Epoch: 14 [640/680 (93%)]\tLoss: 0.091374\n",
      "\tTrain Epoch: 15 [0/680 (0%)]\tLoss: 0.111517\n",
      "\tTrain Epoch: 15 [160/680 (23%)]\tLoss: 0.059414\n",
      "\tTrain Epoch: 15 [320/680 (47%)]\tLoss: 0.111919\n",
      "\tTrain Epoch: 15 [480/680 (70%)]\tLoss: 0.071644\n",
      "\tTrain Epoch: 15 [640/680 (93%)]\tLoss: 0.140939\n",
      "\tTrain Epoch: 16 [0/680 (0%)]\tLoss: 0.078233\n",
      "\tTrain Epoch: 16 [160/680 (23%)]\tLoss: 0.041437\n",
      "\tTrain Epoch: 16 [320/680 (47%)]\tLoss: 0.031052\n",
      "\tTrain Epoch: 16 [480/680 (70%)]\tLoss: 0.049780\n",
      "\tTrain Epoch: 16 [640/680 (93%)]\tLoss: 0.428989\n",
      "\tTrain Epoch: 17 [0/680 (0%)]\tLoss: 0.396953\n",
      "\tTrain Epoch: 17 [160/680 (23%)]\tLoss: 0.235840\n",
      "\tTrain Epoch: 17 [320/680 (47%)]\tLoss: 0.062139\n",
      "\tTrain Epoch: 17 [480/680 (70%)]\tLoss: 0.070404\n",
      "\tTrain Epoch: 17 [640/680 (93%)]\tLoss: 0.150754\n",
      "\tTrain Epoch: 18 [0/680 (0%)]\tLoss: 0.030296\n",
      "\tTrain Epoch: 18 [160/680 (23%)]\tLoss: 0.207438\n",
      "\tTrain Epoch: 18 [320/680 (47%)]\tLoss: 0.046482\n",
      "\tTrain Epoch: 18 [480/680 (70%)]\tLoss: 0.032311\n",
      "\tTrain Epoch: 18 [640/680 (93%)]\tLoss: 0.198661\n",
      "\tTrain Epoch: 19 [0/680 (0%)]\tLoss: 0.395686\n",
      "\tTrain Epoch: 19 [160/680 (23%)]\tLoss: 0.078731\n",
      "\tTrain Epoch: 19 [320/680 (47%)]\tLoss: 0.030020\n",
      "\tTrain Epoch: 19 [480/680 (70%)]\tLoss: 0.013594\n",
      "\tTrain Epoch: 19 [640/680 (93%)]\tLoss: 0.012628\n",
      "\tTrain Epoch: 20 [0/680 (0%)]\tLoss: 0.093306\n",
      "\tTrain Epoch: 20 [160/680 (23%)]\tLoss: 0.040088\n",
      "\tTrain Epoch: 20 [320/680 (47%)]\tLoss: 0.029047\n",
      "\tTrain Epoch: 20 [480/680 (70%)]\tLoss: 0.423537\n",
      "\tTrain Epoch: 20 [640/680 (93%)]\tLoss: 0.035668\n",
      "\tTrain Epoch: 21 [0/680 (0%)]\tLoss: 0.012147\n",
      "\tTrain Epoch: 21 [160/680 (23%)]\tLoss: 0.068239\n",
      "\tTrain Epoch: 21 [320/680 (47%)]\tLoss: 0.008334\n",
      "\tTrain Epoch: 21 [480/680 (70%)]\tLoss: 0.030294\n",
      "\tTrain Epoch: 21 [640/680 (93%)]\tLoss: 0.046481\n",
      "\tTrain Epoch: 22 [0/680 (0%)]\tLoss: 0.091698\n",
      "\tTrain Epoch: 22 [160/680 (23%)]\tLoss: 0.012667\n",
      "\tTrain Epoch: 22 [320/680 (47%)]\tLoss: 0.278086\n",
      "\tTrain Epoch: 22 [480/680 (70%)]\tLoss: 0.008970\n",
      "\tTrain Epoch: 22 [640/680 (93%)]\tLoss: 0.010503\n",
      "\tTrain Epoch: 23 [0/680 (0%)]\tLoss: 0.079044\n",
      "\tTrain Epoch: 23 [160/680 (23%)]\tLoss: 0.001891\n",
      "\tTrain Epoch: 23 [320/680 (47%)]\tLoss: 0.005729\n",
      "\tTrain Epoch: 23 [480/680 (70%)]\tLoss: 0.018867\n",
      "\tTrain Epoch: 23 [640/680 (93%)]\tLoss: 0.003958\n",
      "\tTrain Epoch: 24 [0/680 (0%)]\tLoss: 0.350659\n",
      "\tTrain Epoch: 24 [160/680 (23%)]\tLoss: 0.005273\n",
      "\tTrain Epoch: 24 [320/680 (47%)]\tLoss: 0.016970\n",
      "\tTrain Epoch: 24 [480/680 (70%)]\tLoss: 0.036095\n",
      "\tTrain Epoch: 24 [640/680 (93%)]\tLoss: 0.006335\n",
      "\tTrain Epoch: 25 [0/680 (0%)]\tLoss: 0.020771\n",
      "\tTrain Epoch: 25 [160/680 (23%)]\tLoss: 0.006086\n",
      "\tTrain Epoch: 25 [320/680 (47%)]\tLoss: 0.022069\n",
      "\tTrain Epoch: 25 [480/680 (70%)]\tLoss: 0.225074\n",
      "\tTrain Epoch: 25 [640/680 (93%)]\tLoss: 0.086786\n",
      "\tTrain Epoch: 26 [0/680 (0%)]\tLoss: 0.002570\n",
      "\tTrain Epoch: 26 [160/680 (23%)]\tLoss: 0.004316\n",
      "\tTrain Epoch: 26 [320/680 (47%)]\tLoss: 0.064580\n",
      "\tTrain Epoch: 26 [480/680 (70%)]\tLoss: 0.026399\n",
      "\tTrain Epoch: 26 [640/680 (93%)]\tLoss: 0.042317\n",
      "\tTrain Epoch: 27 [0/680 (0%)]\tLoss: 0.028874\n",
      "\tTrain Epoch: 27 [160/680 (23%)]\tLoss: 0.006061\n",
      "\tTrain Epoch: 27 [320/680 (47%)]\tLoss: 0.013118\n",
      "\tTrain Epoch: 27 [480/680 (70%)]\tLoss: 0.004614\n",
      "\tTrain Epoch: 27 [640/680 (93%)]\tLoss: 0.005641\n",
      "\tTrain Epoch: 28 [0/680 (0%)]\tLoss: 0.010441\n",
      "\tTrain Epoch: 28 [160/680 (23%)]\tLoss: 0.036844\n",
      "\tTrain Epoch: 28 [320/680 (47%)]\tLoss: 0.037768\n",
      "\tTrain Epoch: 28 [480/680 (70%)]\tLoss: 0.038871\n",
      "\tTrain Epoch: 28 [640/680 (93%)]\tLoss: 0.033974\n",
      "\tTrain Epoch: 29 [0/680 (0%)]\tLoss: 0.003842\n",
      "\tTrain Epoch: 29 [160/680 (23%)]\tLoss: 0.040331\n",
      "\tTrain Epoch: 29 [320/680 (47%)]\tLoss: 0.003487\n",
      "\tTrain Epoch: 29 [480/680 (70%)]\tLoss: 0.014187\n",
      "\tTrain Epoch: 29 [640/680 (93%)]\tLoss: 0.006647\n",
      "\tTrain Epoch: 30 [0/680 (0%)]\tLoss: 0.001617\n",
      "\tTrain Epoch: 30 [160/680 (23%)]\tLoss: 0.005573\n",
      "\tTrain Epoch: 30 [320/680 (47%)]\tLoss: 0.000837\n",
      "\tTrain Epoch: 30 [480/680 (70%)]\tLoss: 0.006406\n",
      "\tTrain Epoch: 30 [640/680 (93%)]\tLoss: 0.007952\n",
      "\tTrain Epoch: 31 [0/680 (0%)]\tLoss: 0.003114\n",
      "\tTrain Epoch: 31 [160/680 (23%)]\tLoss: 0.005037\n",
      "\tTrain Epoch: 31 [320/680 (47%)]\tLoss: 0.151612\n",
      "\tTrain Epoch: 31 [480/680 (70%)]\tLoss: 0.003730\n",
      "\tTrain Epoch: 31 [640/680 (93%)]\tLoss: 0.004246\n",
      "\tTrain Epoch: 32 [0/680 (0%)]\tLoss: 0.001062\n",
      "\tTrain Epoch: 32 [160/680 (23%)]\tLoss: 0.000751\n",
      "\tTrain Epoch: 32 [320/680 (47%)]\tLoss: 0.002666\n",
      "\tTrain Epoch: 32 [480/680 (70%)]\tLoss: 0.002365\n",
      "\tTrain Epoch: 32 [640/680 (93%)]\tLoss: 0.161793\n",
      "\tTrain Epoch: 33 [0/680 (0%)]\tLoss: 0.004527\n",
      "\tTrain Epoch: 33 [160/680 (23%)]\tLoss: 0.001724\n",
      "\tTrain Epoch: 33 [320/680 (47%)]\tLoss: 0.003165\n",
      "\tTrain Epoch: 33 [480/680 (70%)]\tLoss: 0.001595\n",
      "\tTrain Epoch: 33 [640/680 (93%)]\tLoss: 0.001482\n",
      "\tTrain Epoch: 34 [0/680 (0%)]\tLoss: 0.005875\n",
      "\tTrain Epoch: 34 [160/680 (23%)]\tLoss: 0.001644\n",
      "\tTrain Epoch: 34 [320/680 (47%)]\tLoss: 0.040447\n",
      "\tTrain Epoch: 34 [480/680 (70%)]\tLoss: 0.006161\n",
      "\tTrain Epoch: 34 [640/680 (93%)]\tLoss: 0.012216\n",
      "\tTrain Epoch: 35 [0/680 (0%)]\tLoss: 0.002067\n",
      "\tTrain Epoch: 35 [160/680 (23%)]\tLoss: 0.001209\n",
      "\tTrain Epoch: 35 [320/680 (47%)]\tLoss: 0.002680\n",
      "\tTrain Epoch: 35 [480/680 (70%)]\tLoss: 0.000581\n"
     ]
    },
    {
     "name": "stdout",
     "output_type": "stream",
     "text": [
      "\tTrain Epoch: 35 [640/680 (93%)]\tLoss: 0.000385\n",
      "\tTrain Epoch: 36 [0/680 (0%)]\tLoss: 0.005760\n",
      "\tTrain Epoch: 36 [160/680 (23%)]\tLoss: 0.001292\n",
      "\tTrain Epoch: 36 [320/680 (47%)]\tLoss: 0.002314\n",
      "\tTrain Epoch: 36 [480/680 (70%)]\tLoss: 0.003830\n",
      "\tTrain Epoch: 36 [640/680 (93%)]\tLoss: 0.003531\n",
      "\tTrain Epoch: 37 [0/680 (0%)]\tLoss: 0.002284\n",
      "\tTrain Epoch: 37 [160/680 (23%)]\tLoss: 0.007850\n",
      "\tTrain Epoch: 37 [320/680 (47%)]\tLoss: 0.002986\n",
      "\tTrain Epoch: 37 [480/680 (70%)]\tLoss: 0.004757\n",
      "\tTrain Epoch: 37 [640/680 (93%)]\tLoss: 0.068403\n",
      "\tTrain Epoch: 38 [0/680 (0%)]\tLoss: 0.163160\n",
      "\tTrain Epoch: 38 [160/680 (23%)]\tLoss: 0.001792\n",
      "\tTrain Epoch: 38 [320/680 (47%)]\tLoss: 0.003573\n",
      "\tTrain Epoch: 38 [480/680 (70%)]\tLoss: 0.000683\n",
      "\tTrain Epoch: 38 [640/680 (93%)]\tLoss: 0.001241\n",
      "\tTrain Epoch: 39 [0/680 (0%)]\tLoss: 0.004296\n",
      "\tTrain Epoch: 39 [160/680 (23%)]\tLoss: 0.000519\n",
      "\tTrain Epoch: 39 [320/680 (47%)]\tLoss: 0.000519\n",
      "\tTrain Epoch: 39 [480/680 (70%)]\tLoss: 0.000175\n",
      "\tTrain Epoch: 39 [640/680 (93%)]\tLoss: 0.108280\n",
      "\tTrain Epoch: 40 [0/680 (0%)]\tLoss: 0.002308\n",
      "\tTrain Epoch: 40 [160/680 (23%)]\tLoss: 0.002486\n",
      "\tTrain Epoch: 40 [320/680 (47%)]\tLoss: 0.011927\n",
      "\tTrain Epoch: 40 [480/680 (70%)]\tLoss: 0.001290\n",
      "\tTrain Epoch: 40 [640/680 (93%)]\tLoss: 0.188787\n",
      "\tTrain Epoch: 41 [0/680 (0%)]\tLoss: 0.011282\n",
      "\tTrain Epoch: 41 [160/680 (23%)]\tLoss: 0.098034\n",
      "\tTrain Epoch: 41 [320/680 (47%)]\tLoss: 0.004392\n",
      "\tTrain Epoch: 41 [480/680 (70%)]\tLoss: 0.000921\n",
      "\tTrain Epoch: 41 [640/680 (93%)]\tLoss: 0.018811\n",
      "\tTrain Epoch: 42 [0/680 (0%)]\tLoss: 0.001435\n",
      "\tTrain Epoch: 42 [160/680 (23%)]\tLoss: 0.002984\n",
      "\tTrain Epoch: 42 [320/680 (47%)]\tLoss: 0.005766\n",
      "\tTrain Epoch: 42 [480/680 (70%)]\tLoss: 0.009319\n",
      "\tTrain Epoch: 42 [640/680 (93%)]\tLoss: 0.003149\n",
      "\tTrain Epoch: 43 [0/680 (0%)]\tLoss: 0.005187\n",
      "\tTrain Epoch: 43 [160/680 (23%)]\tLoss: 0.001506\n",
      "\tTrain Epoch: 43 [320/680 (47%)]\tLoss: 0.000679\n",
      "\tTrain Epoch: 43 [480/680 (70%)]\tLoss: 0.016704\n",
      "\tTrain Epoch: 43 [640/680 (93%)]\tLoss: 0.000511\n",
      "\tTrain Epoch: 44 [0/680 (0%)]\tLoss: 0.017259\n",
      "\tTrain Epoch: 44 [160/680 (23%)]\tLoss: 0.000668\n",
      "\tTrain Epoch: 44 [320/680 (47%)]\tLoss: 0.000219\n",
      "\tTrain Epoch: 44 [480/680 (70%)]\tLoss: 0.000962\n",
      "\tTrain Epoch: 44 [640/680 (93%)]\tLoss: 0.002072\n",
      "\tTrain Epoch: 45 [0/680 (0%)]\tLoss: 0.002044\n",
      "\tTrain Epoch: 45 [160/680 (23%)]\tLoss: 0.015839\n",
      "\tTrain Epoch: 45 [320/680 (47%)]\tLoss: 0.002515\n",
      "\tTrain Epoch: 45 [480/680 (70%)]\tLoss: 0.002408\n",
      "\tTrain Epoch: 45 [640/680 (93%)]\tLoss: 0.003975\n",
      "\tTrain Epoch: 46 [0/680 (0%)]\tLoss: 0.000683\n",
      "\tTrain Epoch: 46 [160/680 (23%)]\tLoss: 0.005812\n",
      "\tTrain Epoch: 46 [320/680 (47%)]\tLoss: 0.005159\n",
      "\tTrain Epoch: 46 [480/680 (70%)]\tLoss: 0.011541\n",
      "\tTrain Epoch: 46 [640/680 (93%)]\tLoss: 0.003633\n",
      "\tTrain Epoch: 47 [0/680 (0%)]\tLoss: 0.000642\n",
      "\tTrain Epoch: 47 [160/680 (23%)]\tLoss: 0.002545\n",
      "\tTrain Epoch: 47 [320/680 (47%)]\tLoss: 0.006804\n",
      "\tTrain Epoch: 47 [480/680 (70%)]\tLoss: 0.020504\n",
      "\tTrain Epoch: 47 [640/680 (93%)]\tLoss: 0.001132\n",
      "\tTrain Epoch: 48 [0/680 (0%)]\tLoss: 0.000340\n",
      "\tTrain Epoch: 48 [160/680 (23%)]\tLoss: 0.002065\n",
      "\tTrain Epoch: 48 [320/680 (47%)]\tLoss: 0.001117\n",
      "\tTrain Epoch: 48 [480/680 (70%)]\tLoss: 0.000576\n",
      "\tTrain Epoch: 48 [640/680 (93%)]\tLoss: 0.002009\n",
      "\tTrain Epoch: 49 [0/680 (0%)]\tLoss: 0.000296\n",
      "\tTrain Epoch: 49 [160/680 (23%)]\tLoss: 0.000940\n",
      "\tTrain Epoch: 49 [320/680 (47%)]\tLoss: 0.001007\n",
      "\tTrain Epoch: 49 [480/680 (70%)]\tLoss: 0.000978\n",
      "\tTrain Epoch: 49 [640/680 (93%)]\tLoss: 0.008087\n",
      "\tTrain Epoch: 50 [0/680 (0%)]\tLoss: 0.005853\n",
      "\tTrain Epoch: 50 [160/680 (23%)]\tLoss: 0.000723\n",
      "\tTrain Epoch: 50 [320/680 (47%)]\tLoss: 0.000695\n",
      "\tTrain Epoch: 50 [480/680 (70%)]\tLoss: 0.001612\n",
      "\tTrain Epoch: 50 [640/680 (93%)]\tLoss: 0.001299\n",
      "\tTrain Epoch: 51 [0/680 (0%)]\tLoss: 0.002416\n",
      "\tTrain Epoch: 51 [160/680 (23%)]\tLoss: 0.000538\n",
      "\tTrain Epoch: 51 [320/680 (47%)]\tLoss: 0.000544\n",
      "\tTrain Epoch: 51 [480/680 (70%)]\tLoss: 0.000698\n",
      "\tTrain Epoch: 51 [640/680 (93%)]\tLoss: 0.000782\n",
      "\tTrain Epoch: 52 [0/680 (0%)]\tLoss: 0.002441\n",
      "\tTrain Epoch: 52 [160/680 (23%)]\tLoss: 0.002407\n",
      "\tTrain Epoch: 52 [320/680 (47%)]\tLoss: 0.001177\n",
      "\tTrain Epoch: 52 [480/680 (70%)]\tLoss: 0.045079\n",
      "\tTrain Epoch: 52 [640/680 (93%)]\tLoss: 0.002181\n",
      "\tTrain Epoch: 53 [0/680 (0%)]\tLoss: 0.002174\n",
      "\tTrain Epoch: 53 [160/680 (23%)]\tLoss: 0.001162\n",
      "\tTrain Epoch: 53 [320/680 (47%)]\tLoss: 0.000921\n",
      "\tTrain Epoch: 53 [480/680 (70%)]\tLoss: 0.000658\n",
      "\tTrain Epoch: 53 [640/680 (93%)]\tLoss: 0.001039\n",
      "\tTrain Epoch: 54 [0/680 (0%)]\tLoss: 0.000319\n",
      "\tTrain Epoch: 54 [160/680 (23%)]\tLoss: 0.001091\n",
      "\tTrain Epoch: 54 [320/680 (47%)]\tLoss: 0.028100\n",
      "\tTrain Epoch: 54 [480/680 (70%)]\tLoss: 0.001127\n",
      "\tTrain Epoch: 54 [640/680 (93%)]\tLoss: 0.000426\n",
      "\tTrain Epoch: 55 [0/680 (0%)]\tLoss: 0.002822\n",
      "\tTrain Epoch: 55 [160/680 (23%)]\tLoss: 0.006166\n",
      "\tTrain Epoch: 55 [320/680 (47%)]\tLoss: 0.000839\n",
      "\tTrain Epoch: 55 [480/680 (70%)]\tLoss: 0.123680\n",
      "\tTrain Epoch: 55 [640/680 (93%)]\tLoss: 0.001569\n",
      "\tTrain Epoch: 56 [0/680 (0%)]\tLoss: 0.000371\n",
      "\tTrain Epoch: 56 [160/680 (23%)]\tLoss: 0.000578\n",
      "\tTrain Epoch: 56 [320/680 (47%)]\tLoss: 0.001124\n",
      "\tTrain Epoch: 56 [480/680 (70%)]\tLoss: 0.004400\n",
      "\tTrain Epoch: 56 [640/680 (93%)]\tLoss: 0.000259\n",
      "\tTrain Epoch: 57 [0/680 (0%)]\tLoss: 0.014565\n",
      "\tTrain Epoch: 57 [160/680 (23%)]\tLoss: 0.000507\n",
      "\tTrain Epoch: 57 [320/680 (47%)]\tLoss: 0.000285\n",
      "\tTrain Epoch: 57 [480/680 (70%)]\tLoss: 0.000638\n",
      "\tTrain Epoch: 57 [640/680 (93%)]\tLoss: 0.001060\n",
      "\tTrain Epoch: 58 [0/680 (0%)]\tLoss: 0.000316\n",
      "\tTrain Epoch: 58 [160/680 (23%)]\tLoss: 0.000269\n",
      "\tTrain Epoch: 58 [320/680 (47%)]\tLoss: 0.001139\n",
      "\tTrain Epoch: 58 [480/680 (70%)]\tLoss: 0.060205\n",
      "\tTrain Epoch: 58 [640/680 (93%)]\tLoss: 0.003977\n",
      "\tTrain Epoch: 59 [0/680 (0%)]\tLoss: 0.003629\n",
      "\tTrain Epoch: 59 [160/680 (23%)]\tLoss: 0.011483\n",
      "\tTrain Epoch: 59 [320/680 (47%)]\tLoss: 0.000598\n",
      "\tTrain Epoch: 59 [480/680 (70%)]\tLoss: 0.000318\n",
      "\tTrain Epoch: 59 [640/680 (93%)]\tLoss: 0.028929\n",
      "\tTrain Epoch: 60 [0/680 (0%)]\tLoss: 0.004671\n",
      "\tTrain Epoch: 60 [160/680 (23%)]\tLoss: 0.000736\n",
      "\tTrain Epoch: 60 [320/680 (47%)]\tLoss: 0.001877\n",
      "\tTrain Epoch: 60 [480/680 (70%)]\tLoss: 0.003707\n",
      "\tTrain Epoch: 60 [640/680 (93%)]\tLoss: 0.002133\n",
      "\tTrain Epoch: 61 [0/680 (0%)]\tLoss: 0.000456\n",
      "\tTrain Epoch: 61 [160/680 (23%)]\tLoss: 0.000116\n",
      "\tTrain Epoch: 61 [320/680 (47%)]\tLoss: 0.000125\n",
      "\tTrain Epoch: 61 [480/680 (70%)]\tLoss: 0.002203\n",
      "\tTrain Epoch: 61 [640/680 (93%)]\tLoss: 0.000603\n",
      "\tTrain Epoch: 62 [0/680 (0%)]\tLoss: 0.000805\n",
      "\tTrain Epoch: 62 [160/680 (23%)]\tLoss: 0.000271\n",
      "\tTrain Epoch: 62 [320/680 (47%)]\tLoss: 0.000736\n",
      "\tTrain Epoch: 62 [480/680 (70%)]\tLoss: 0.000899\n",
      "\tTrain Epoch: 62 [640/680 (93%)]\tLoss: 0.000344\n",
      "\tTrain Epoch: 63 [0/680 (0%)]\tLoss: 0.001307\n",
      "\tTrain Epoch: 63 [160/680 (23%)]\tLoss: 0.000479\n",
      "\tTrain Epoch: 63 [320/680 (47%)]\tLoss: 0.002969\n",
      "\tTrain Epoch: 63 [480/680 (70%)]\tLoss: 0.000463\n",
      "\tTrain Epoch: 63 [640/680 (93%)]\tLoss: 0.000730\n",
      "\tTrain Epoch: 64 [0/680 (0%)]\tLoss: 0.000910\n",
      "\tTrain Epoch: 64 [160/680 (23%)]\tLoss: 0.000898\n",
      "\tTrain Epoch: 64 [320/680 (47%)]\tLoss: 0.003442\n",
      "\tTrain Epoch: 64 [480/680 (70%)]\tLoss: 0.001696\n",
      "\tTrain Epoch: 64 [640/680 (93%)]\tLoss: 0.001120\n",
      "\tTrain Epoch: 65 [0/680 (0%)]\tLoss: 0.000335\n",
      "\tTrain Epoch: 65 [160/680 (23%)]\tLoss: 0.002767\n",
      "\tTrain Epoch: 65 [320/680 (47%)]\tLoss: 0.000948\n",
      "\tTrain Epoch: 65 [480/680 (70%)]\tLoss: 0.006093\n"
     ]
    }
   ],
   "source": [
    "from Regard import ML\n",
    "ml = ML(args)\n",
    "\n",
    "import os\n",
    "import torch\n",
    "if os.path.isfile(path):\n",
    "    ml.model.load_state_dict(torch.load(path))\n",
    "    print('Loading file', path)\n",
    "else:\n",
    "    print('Training model...')\n",
    "    ml.main()\n",
    "    torch.save(ml.model.state_dict(), path) #save the neural network state\n",
    "    print('Model saved at', path)"
   ]
  },
  {
   "cell_type": "markdown",
   "metadata": {},
   "source": [
    "## testing the model"
   ]
  },
  {
   "cell_type": "code",
   "execution_count": null,
   "metadata": {
    "ExecuteTime": {
     "start_time": "2018-06-04T14:10:56.105Z"
    }
   },
   "outputs": [],
   "source": [
    "Accuracy = ml.test()"
   ]
  },
  {
   "cell_type": "code",
   "execution_count": null,
   "metadata": {
    "ExecuteTime": {
     "start_time": "2018-06-04T14:10:56.116Z"
    }
   },
   "outputs": [],
   "source": [
    "data, target = next(iter(ml.d.test_loader))"
   ]
  },
  {
   "cell_type": "code",
   "execution_count": null,
   "metadata": {
    "ExecuteTime": {
     "start_time": "2018-06-04T14:10:56.122Z"
    }
   },
   "outputs": [],
   "source": [
    "for j in target: print (j)"
   ]
  },
  {
   "cell_type": "code",
   "execution_count": null,
   "metadata": {
    "ExecuteTime": {
     "start_time": "2018-06-04T14:10:56.128Z"
    }
   },
   "outputs": [],
   "source": [
    "data"
   ]
  },
  {
   "cell_type": "code",
   "execution_count": null,
   "metadata": {
    "ExecuteTime": {
     "start_time": "2018-06-04T14:10:56.134Z"
    },
    "scrolled": false
   },
   "outputs": [],
   "source": [
    "%matplotlib inline\n",
    "import matplotlib.pyplot as plt\n",
    "\n",
    "\n",
    "for data, labels in ml.d.test_loader:\n",
    "    fig, ax = ml.show(only_wrong=True)\n",
    "    plt.show() \n",
    "\n"
   ]
  },
  {
   "cell_type": "code",
   "execution_count": null,
   "metadata": {},
   "outputs": [],
   "source": []
  }
 ],
 "metadata": {
  "kernel_info": {
   "name": "python3"
  },
  "kernelspec": {
   "display_name": "Python 3",
   "language": "python",
   "name": "python3"
  },
  "language_info": {
   "codemirror_mode": {
    "name": "ipython",
    "version": 3
   },
   "file_extension": ".py",
   "mimetype": "text/x-python",
   "name": "python",
   "nbconvert_exporter": "python",
   "pygments_lexer": "ipython3",
   "version": "3.6.5"
  },
  "nteract": {
   "version": "0.8.4"
  },
  "toc": {
   "base_numbering": 1,
   "nav_menu": {},
   "number_sections": true,
   "sideBar": true,
   "skip_h1_title": false,
   "title_cell": "Table of Contents",
   "title_sidebar": "Contents",
   "toc_cell": false,
   "toc_position": {},
   "toc_section_display": "block",
   "toc_window_display": false
  }
 },
 "nbformat": 4,
 "nbformat_minor": 2
}
