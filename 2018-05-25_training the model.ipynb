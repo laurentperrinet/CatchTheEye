{
 "cells": [
  {
   "cell_type": "code",
   "execution_count": 1,
   "metadata": {
    "ExecuteTime": {
     "end_time": "2018-06-14T15:11:58.666147Z",
     "start_time": "2018-06-14T15:11:58.650709Z"
    }
   },
   "outputs": [],
   "source": [
    "%load_ext autoreload\n",
    "%autoreload 2"
   ]
  },
  {
   "cell_type": "code",
   "execution_count": 2,
   "metadata": {
    "ExecuteTime": {
     "end_time": "2018-06-14T15:11:58.962836Z",
     "start_time": "2018-06-14T15:11:58.668543Z"
    }
   },
   "outputs": [],
   "source": [
    "%matplotlib inline"
   ]
  },
  {
   "cell_type": "markdown",
   "metadata": {},
   "source": [
    "## running the model"
   ]
  },
  {
   "cell_type": "code",
   "execution_count": 3,
   "metadata": {
    "ExecuteTime": {
     "end_time": "2018-06-14T15:11:59.271300Z",
     "start_time": "2018-06-14T15:11:58.964791Z"
    }
   },
   "outputs": [
    {
     "name": "stdout",
     "output_type": "stream",
     "text": [
      "Parameters= {'batch_size': 16, 'test_batch_size': 1, 'valid_size': 0.2, 'epochs': 100, 'lr': 0.005, 'momentum': 0.48, 'no_cuda': True, 'num_processes': 1, 'seed': 42, 'log_interval': 10, 'dimension': 25, 'verbose': 1, 'conv1_dim': 4, 'conv1_kernel_size': 7, 'conv2_dim': 13, 'conv2_kernel_size': 5, 'stride1': 2, 'stride2': 2, 'crop': 200, 'fullsize': 300, 'size': 100, 'mean': 0.36, 'std': 0.3}\n"
     ]
    }
   ],
   "source": [
    "from Regard import init\n",
    "args = init(verbose=1)\n",
    "print('Parameters=', args)\n",
    "\n",
    "path = '_Regard.pt'"
   ]
  },
  {
   "cell_type": "code",
   "execution_count": 4,
   "metadata": {
    "ExecuteTime": {
     "end_time": "2018-06-14T15:11:59.536331Z",
     "start_time": "2018-06-14T15:11:59.273735Z"
    }
   },
   "outputs": [
    {
     "name": "stdout",
     "output_type": "stream",
     "text": [
      "ls: _Regard.pt: No such file or directory\n",
      "rm: _Regard.pt: No such file or directory\n"
     ]
    }
   ],
   "source": [
    "!ls -l {path}\n",
    "!rm {path}"
   ]
  },
  {
   "cell_type": "code",
   "execution_count": null,
   "metadata": {
    "ExecuteTime": {
     "start_time": "2018-06-14T15:11:58.642Z"
    },
    "scrolled": false
   },
   "outputs": [
    {
     "name": "stdout",
     "output_type": "stream",
     "text": [
      "cuda? False\n",
      "cuda? False\n",
      "Found 799 sample images;  640  to train 159 to test\n",
      "Training model...\n"
     ]
    },
    {
     "data": {
      "application/vnd.jupyter.widget-view+json": {
       "model_id": "f9397923f86b403a8a5496c55e14526a",
       "version_major": 2,
       "version_minor": 0
      },
      "text/plain": [
       "HBox(children=(IntProgress(value=0, description='Train Epoch'), HTML(value='')))"
      ]
     },
     "metadata": {},
     "output_type": "display_data"
    },
    {
     "name": "stdout",
     "output_type": "stream",
     "text": [
      "\tTrain Epoch: 1 [0/640 (0%)]\tLoss: 1.441214\n",
      "\tTrain Epoch: 1 [160/640 (25%)]\tLoss: 1.363771\n",
      "\tTrain Epoch: 1 [320/640 (50%)]\tLoss: 1.290858\n",
      "\tTrain Epoch: 1 [480/640 (75%)]\tLoss: 1.309056\n",
      "\tTrain Epoch: 2 [0/640 (0%)]\tLoss: 1.173565\n",
      "\tTrain Epoch: 2 [160/640 (25%)]\tLoss: 1.211747\n",
      "\tTrain Epoch: 2 [320/640 (50%)]\tLoss: 1.316821\n",
      "\tTrain Epoch: 2 [480/640 (75%)]\tLoss: 1.156084\n",
      "\tTrain Epoch: 3 [0/640 (0%)]\tLoss: 1.203514\n",
      "\tTrain Epoch: 3 [160/640 (25%)]\tLoss: 1.295525\n",
      "\tTrain Epoch: 3 [320/640 (50%)]\tLoss: 1.315902\n",
      "\tTrain Epoch: 3 [480/640 (75%)]\tLoss: 1.135869\n",
      "\tTrain Epoch: 4 [0/640 (0%)]\tLoss: 1.137296\n",
      "\tTrain Epoch: 4 [160/640 (25%)]\tLoss: 1.025616\n",
      "\tTrain Epoch: 4 [320/640 (50%)]\tLoss: 0.969132\n",
      "\tTrain Epoch: 4 [480/640 (75%)]\tLoss: 0.830605\n",
      "\tTrain Epoch: 5 [0/640 (0%)]\tLoss: 0.800228\n",
      "\tTrain Epoch: 5 [160/640 (25%)]\tLoss: 0.869596\n",
      "\tTrain Epoch: 5 [320/640 (50%)]\tLoss: 0.766982\n",
      "\tTrain Epoch: 5 [480/640 (75%)]\tLoss: 0.974166\n",
      "\tTrain Epoch: 6 [0/640 (0%)]\tLoss: 0.721125\n",
      "\tTrain Epoch: 6 [160/640 (25%)]\tLoss: 0.864451\n",
      "\tTrain Epoch: 6 [320/640 (50%)]\tLoss: 0.675244\n",
      "\tTrain Epoch: 6 [480/640 (75%)]\tLoss: 0.526481\n",
      "\tTrain Epoch: 7 [0/640 (0%)]\tLoss: 0.530181\n",
      "\tTrain Epoch: 7 [160/640 (25%)]\tLoss: 0.387503\n",
      "\tTrain Epoch: 7 [320/640 (50%)]\tLoss: 0.570496\n",
      "\tTrain Epoch: 7 [480/640 (75%)]\tLoss: 0.685347\n",
      "\tTrain Epoch: 8 [0/640 (0%)]\tLoss: 0.498563\n",
      "\tTrain Epoch: 8 [160/640 (25%)]\tLoss: 0.645105\n",
      "\tTrain Epoch: 8 [320/640 (50%)]\tLoss: 0.452493\n",
      "\tTrain Epoch: 8 [480/640 (75%)]\tLoss: 0.454225\n",
      "\tTrain Epoch: 9 [0/640 (0%)]\tLoss: 0.356412\n",
      "\tTrain Epoch: 9 [160/640 (25%)]\tLoss: 0.396105\n",
      "\tTrain Epoch: 9 [320/640 (50%)]\tLoss: 0.468443\n",
      "\tTrain Epoch: 9 [480/640 (75%)]\tLoss: 0.279097\n",
      "\tTrain Epoch: 10 [0/640 (0%)]\tLoss: 0.712815\n",
      "\tTrain Epoch: 10 [160/640 (25%)]\tLoss: 0.573740\n",
      "\tTrain Epoch: 10 [320/640 (50%)]\tLoss: 0.770989\n",
      "\tTrain Epoch: 10 [480/640 (75%)]\tLoss: 0.303226\n",
      "\tTrain Epoch: 11 [0/640 (0%)]\tLoss: 0.621085\n",
      "\tTrain Epoch: 11 [160/640 (25%)]\tLoss: 0.463219\n",
      "\tTrain Epoch: 11 [320/640 (50%)]\tLoss: 0.282186\n",
      "\tTrain Epoch: 11 [480/640 (75%)]\tLoss: 0.378259\n",
      "\tTrain Epoch: 12 [0/640 (0%)]\tLoss: 0.215537\n",
      "\tTrain Epoch: 12 [160/640 (25%)]\tLoss: 0.188857\n",
      "\tTrain Epoch: 12 [320/640 (50%)]\tLoss: 0.767449\n",
      "\tTrain Epoch: 12 [480/640 (75%)]\tLoss: 0.307604\n",
      "\tTrain Epoch: 13 [0/640 (0%)]\tLoss: 0.257453\n",
      "\tTrain Epoch: 13 [160/640 (25%)]\tLoss: 0.083728\n",
      "\tTrain Epoch: 13 [320/640 (50%)]\tLoss: 0.257742\n",
      "\tTrain Epoch: 13 [480/640 (75%)]\tLoss: 0.271127\n",
      "\tTrain Epoch: 14 [0/640 (0%)]\tLoss: 0.099706\n",
      "\tTrain Epoch: 14 [160/640 (25%)]\tLoss: 0.484596\n",
      "\tTrain Epoch: 14 [320/640 (50%)]\tLoss: 0.151548\n",
      "\tTrain Epoch: 14 [480/640 (75%)]\tLoss: 0.235603\n",
      "\tTrain Epoch: 15 [0/640 (0%)]\tLoss: 0.099400\n",
      "\tTrain Epoch: 15 [160/640 (25%)]\tLoss: 0.258301\n",
      "\tTrain Epoch: 15 [320/640 (50%)]\tLoss: 0.224853\n",
      "\tTrain Epoch: 15 [480/640 (75%)]\tLoss: 0.119565\n",
      "\tTrain Epoch: 16 [0/640 (0%)]\tLoss: 0.186088\n",
      "\tTrain Epoch: 16 [160/640 (25%)]\tLoss: 0.121532\n",
      "\tTrain Epoch: 16 [320/640 (50%)]\tLoss: 0.082495\n",
      "\tTrain Epoch: 16 [480/640 (75%)]\tLoss: 0.368087\n",
      "\tTrain Epoch: 17 [0/640 (0%)]\tLoss: 0.059745\n",
      "\tTrain Epoch: 17 [160/640 (25%)]\tLoss: 0.153719\n",
      "\tTrain Epoch: 17 [320/640 (50%)]\tLoss: 0.169648\n",
      "\tTrain Epoch: 17 [480/640 (75%)]\tLoss: 0.220099\n",
      "\tTrain Epoch: 18 [0/640 (0%)]\tLoss: 0.183849\n",
      "\tTrain Epoch: 18 [160/640 (25%)]\tLoss: 0.073914\n",
      "\tTrain Epoch: 18 [320/640 (50%)]\tLoss: 0.252636\n",
      "\tTrain Epoch: 18 [480/640 (75%)]\tLoss: 0.270242\n",
      "\tTrain Epoch: 19 [0/640 (0%)]\tLoss: 0.183496\n",
      "\tTrain Epoch: 19 [160/640 (25%)]\tLoss: 0.125572\n",
      "\tTrain Epoch: 19 [320/640 (50%)]\tLoss: 0.063389\n",
      "\tTrain Epoch: 19 [480/640 (75%)]\tLoss: 0.320447\n",
      "\tTrain Epoch: 20 [0/640 (0%)]\tLoss: 0.138176\n",
      "\tTrain Epoch: 20 [160/640 (25%)]\tLoss: 0.041625\n",
      "\tTrain Epoch: 20 [320/640 (50%)]\tLoss: 0.193032\n",
      "\tTrain Epoch: 20 [480/640 (75%)]\tLoss: 0.210776\n",
      "\tTrain Epoch: 21 [0/640 (0%)]\tLoss: 0.138149\n",
      "\tTrain Epoch: 21 [160/640 (25%)]\tLoss: 0.184829\n",
      "\tTrain Epoch: 21 [320/640 (50%)]\tLoss: 0.153006\n",
      "\tTrain Epoch: 21 [480/640 (75%)]\tLoss: 0.100136\n",
      "\tTrain Epoch: 22 [0/640 (0%)]\tLoss: 0.035552\n",
      "\tTrain Epoch: 22 [160/640 (25%)]\tLoss: 0.143380\n",
      "\tTrain Epoch: 22 [320/640 (50%)]\tLoss: 0.018711\n",
      "\tTrain Epoch: 22 [480/640 (75%)]\tLoss: 0.185158\n",
      "\tTrain Epoch: 23 [0/640 (0%)]\tLoss: 0.129724\n",
      "\tTrain Epoch: 23 [160/640 (25%)]\tLoss: 0.397343\n",
      "\tTrain Epoch: 23 [320/640 (50%)]\tLoss: 0.390577\n",
      "\tTrain Epoch: 23 [480/640 (75%)]\tLoss: 0.092278\n",
      "\tTrain Epoch: 24 [0/640 (0%)]\tLoss: 0.033942\n",
      "\tTrain Epoch: 24 [160/640 (25%)]\tLoss: 0.053449\n",
      "\tTrain Epoch: 24 [320/640 (50%)]\tLoss: 0.074129\n",
      "\tTrain Epoch: 24 [480/640 (75%)]\tLoss: 0.097586\n",
      "\tTrain Epoch: 25 [0/640 (0%)]\tLoss: 0.064895\n",
      "\tTrain Epoch: 25 [160/640 (25%)]\tLoss: 0.129740\n",
      "\tTrain Epoch: 25 [320/640 (50%)]\tLoss: 0.026866\n",
      "\tTrain Epoch: 25 [480/640 (75%)]\tLoss: 0.064418\n",
      "\tTrain Epoch: 26 [0/640 (0%)]\tLoss: 0.047506\n",
      "\tTrain Epoch: 26 [160/640 (25%)]\tLoss: 0.272896\n",
      "\tTrain Epoch: 26 [320/640 (50%)]\tLoss: 0.244700\n",
      "\tTrain Epoch: 26 [480/640 (75%)]\tLoss: 0.301721\n",
      "\tTrain Epoch: 27 [0/640 (0%)]\tLoss: 0.063827\n",
      "\tTrain Epoch: 27 [160/640 (25%)]\tLoss: 0.107450\n",
      "\tTrain Epoch: 27 [320/640 (50%)]\tLoss: 0.048609\n",
      "\tTrain Epoch: 27 [480/640 (75%)]\tLoss: 0.028326\n",
      "\tTrain Epoch: 28 [0/640 (0%)]\tLoss: 0.162652\n",
      "\tTrain Epoch: 28 [160/640 (25%)]\tLoss: 0.030803\n",
      "\tTrain Epoch: 28 [320/640 (50%)]\tLoss: 0.052703\n",
      "\tTrain Epoch: 28 [480/640 (75%)]\tLoss: 0.090066\n",
      "\tTrain Epoch: 29 [0/640 (0%)]\tLoss: 0.092648\n",
      "\tTrain Epoch: 29 [160/640 (25%)]\tLoss: 0.034242\n",
      "\tTrain Epoch: 29 [320/640 (50%)]\tLoss: 0.153206\n",
      "\tTrain Epoch: 29 [480/640 (75%)]\tLoss: 0.261060\n",
      "\tTrain Epoch: 30 [0/640 (0%)]\tLoss: 0.046665\n",
      "\tTrain Epoch: 30 [160/640 (25%)]\tLoss: 0.014493\n",
      "\tTrain Epoch: 30 [320/640 (50%)]\tLoss: 0.040182\n",
      "\tTrain Epoch: 30 [480/640 (75%)]\tLoss: 0.010017\n",
      "\tTrain Epoch: 31 [0/640 (0%)]\tLoss: 0.020811\n",
      "\tTrain Epoch: 31 [160/640 (25%)]\tLoss: 0.122989\n",
      "\tTrain Epoch: 31 [320/640 (50%)]\tLoss: 0.009617\n",
      "\tTrain Epoch: 31 [480/640 (75%)]\tLoss: 0.005125\n",
      "\tTrain Epoch: 32 [0/640 (0%)]\tLoss: 0.068973\n",
      "\tTrain Epoch: 32 [160/640 (25%)]\tLoss: 0.015000\n",
      "\tTrain Epoch: 32 [320/640 (50%)]\tLoss: 0.040660\n",
      "\tTrain Epoch: 32 [480/640 (75%)]\tLoss: 0.087680\n",
      "\tTrain Epoch: 33 [0/640 (0%)]\tLoss: 0.131183\n",
      "\tTrain Epoch: 33 [160/640 (25%)]\tLoss: 0.057747\n",
      "\tTrain Epoch: 33 [320/640 (50%)]\tLoss: 0.030563\n",
      "\tTrain Epoch: 33 [480/640 (75%)]\tLoss: 0.008438\n",
      "\tTrain Epoch: 34 [0/640 (0%)]\tLoss: 0.032840\n",
      "\tTrain Epoch: 34 [160/640 (25%)]\tLoss: 0.023878\n",
      "\tTrain Epoch: 34 [320/640 (50%)]\tLoss: 0.013661\n",
      "\tTrain Epoch: 34 [480/640 (75%)]\tLoss: 0.064454\n",
      "\tTrain Epoch: 35 [0/640 (0%)]\tLoss: 0.140241\n",
      "\tTrain Epoch: 35 [160/640 (25%)]\tLoss: 0.022247\n",
      "\tTrain Epoch: 35 [320/640 (50%)]\tLoss: 0.067126\n",
      "\tTrain Epoch: 35 [480/640 (75%)]\tLoss: 0.120347\n",
      "\tTrain Epoch: 36 [0/640 (0%)]\tLoss: 0.053930\n",
      "\tTrain Epoch: 36 [160/640 (25%)]\tLoss: 0.039244\n",
      "\tTrain Epoch: 36 [320/640 (50%)]\tLoss: 0.021240\n",
      "\tTrain Epoch: 36 [480/640 (75%)]\tLoss: 0.281557\n",
      "\tTrain Epoch: 37 [0/640 (0%)]\tLoss: 0.047280\n",
      "\tTrain Epoch: 37 [160/640 (25%)]\tLoss: 0.046619\n",
      "\tTrain Epoch: 37 [320/640 (50%)]\tLoss: 0.008876\n",
      "\tTrain Epoch: 37 [480/640 (75%)]\tLoss: 0.083310\n",
      "\tTrain Epoch: 38 [0/640 (0%)]\tLoss: 0.020745\n",
      "\tTrain Epoch: 38 [160/640 (25%)]\tLoss: 0.059088\n",
      "\tTrain Epoch: 38 [320/640 (50%)]\tLoss: 0.027452\n",
      "\tTrain Epoch: 38 [480/640 (75%)]\tLoss: 0.008845\n",
      "\tTrain Epoch: 39 [0/640 (0%)]\tLoss: 0.002304\n",
      "\tTrain Epoch: 39 [160/640 (25%)]\tLoss: 0.025316\n",
      "\tTrain Epoch: 39 [320/640 (50%)]\tLoss: 0.015225\n",
      "\tTrain Epoch: 39 [480/640 (75%)]\tLoss: 0.078508\n",
      "\tTrain Epoch: 40 [0/640 (0%)]\tLoss: 0.015190\n",
      "\tTrain Epoch: 40 [160/640 (25%)]\tLoss: 0.003967\n",
      "\tTrain Epoch: 40 [320/640 (50%)]\tLoss: 0.013322\n",
      "\tTrain Epoch: 40 [480/640 (75%)]\tLoss: 0.011251\n",
      "\tTrain Epoch: 41 [0/640 (0%)]\tLoss: 0.060400\n",
      "\tTrain Epoch: 41 [160/640 (25%)]\tLoss: 0.001274\n",
      "\tTrain Epoch: 41 [320/640 (50%)]\tLoss: 0.004450\n",
      "\tTrain Epoch: 41 [480/640 (75%)]\tLoss: 0.039565\n",
      "\tTrain Epoch: 42 [0/640 (0%)]\tLoss: 0.037764\n",
      "\tTrain Epoch: 42 [160/640 (25%)]\tLoss: 0.012065\n",
      "\tTrain Epoch: 42 [320/640 (50%)]\tLoss: 0.142958\n",
      "\tTrain Epoch: 42 [480/640 (75%)]\tLoss: 0.012102\n",
      "\tTrain Epoch: 43 [0/640 (0%)]\tLoss: 0.007799\n",
      "\tTrain Epoch: 43 [160/640 (25%)]\tLoss: 0.023028\n",
      "\tTrain Epoch: 43 [320/640 (50%)]\tLoss: 0.010934\n",
      "\tTrain Epoch: 43 [480/640 (75%)]\tLoss: 0.001794\n",
      "\tTrain Epoch: 44 [0/640 (0%)]\tLoss: 0.003890\n",
      "\tTrain Epoch: 44 [160/640 (25%)]\tLoss: 0.028559\n",
      "\tTrain Epoch: 44 [320/640 (50%)]\tLoss: 0.003237\n"
     ]
    },
    {
     "name": "stdout",
     "output_type": "stream",
     "text": [
      "\tTrain Epoch: 44 [480/640 (75%)]\tLoss: 0.028563\n",
      "\tTrain Epoch: 45 [0/640 (0%)]\tLoss: 0.001325\n",
      "\tTrain Epoch: 45 [160/640 (25%)]\tLoss: 0.008720\n",
      "\tTrain Epoch: 45 [320/640 (50%)]\tLoss: 0.017954\n",
      "\tTrain Epoch: 45 [480/640 (75%)]\tLoss: 0.026537\n",
      "\tTrain Epoch: 46 [0/640 (0%)]\tLoss: 0.004776\n",
      "\tTrain Epoch: 46 [160/640 (25%)]\tLoss: 0.012288\n",
      "\tTrain Epoch: 46 [320/640 (50%)]\tLoss: 0.003686\n",
      "\tTrain Epoch: 46 [480/640 (75%)]\tLoss: 0.006294\n",
      "\tTrain Epoch: 47 [0/640 (0%)]\tLoss: 0.012461\n",
      "\tTrain Epoch: 47 [160/640 (25%)]\tLoss: 0.016299\n",
      "\tTrain Epoch: 47 [320/640 (50%)]\tLoss: 0.001192\n",
      "\tTrain Epoch: 47 [480/640 (75%)]\tLoss: 0.029123\n",
      "\tTrain Epoch: 48 [0/640 (0%)]\tLoss: 0.210035\n",
      "\tTrain Epoch: 48 [160/640 (25%)]\tLoss: 0.010884\n",
      "\tTrain Epoch: 48 [320/640 (50%)]\tLoss: 0.199371\n",
      "\tTrain Epoch: 48 [480/640 (75%)]\tLoss: 0.004098\n",
      "\tTrain Epoch: 49 [0/640 (0%)]\tLoss: 0.008572\n",
      "\tTrain Epoch: 49 [160/640 (25%)]\tLoss: 0.003766\n",
      "\tTrain Epoch: 49 [320/640 (50%)]\tLoss: 0.000827\n",
      "\tTrain Epoch: 49 [480/640 (75%)]\tLoss: 0.001310\n",
      "\tTrain Epoch: 50 [0/640 (0%)]\tLoss: 0.012334\n",
      "\tTrain Epoch: 50 [160/640 (25%)]\tLoss: 0.007318\n",
      "\tTrain Epoch: 50 [320/640 (50%)]\tLoss: 0.003827\n",
      "\tTrain Epoch: 50 [480/640 (75%)]\tLoss: 0.019822\n",
      "\tTrain Epoch: 51 [0/640 (0%)]\tLoss: 0.009721\n",
      "\tTrain Epoch: 51 [160/640 (25%)]\tLoss: 0.015797\n",
      "\tTrain Epoch: 51 [320/640 (50%)]\tLoss: 0.004882\n",
      "\tTrain Epoch: 51 [480/640 (75%)]\tLoss: 0.002133\n",
      "\tTrain Epoch: 52 [0/640 (0%)]\tLoss: 0.013381\n",
      "\tTrain Epoch: 52 [160/640 (25%)]\tLoss: 0.008524\n",
      "\tTrain Epoch: 52 [320/640 (50%)]\tLoss: 0.008966\n",
      "\tTrain Epoch: 52 [480/640 (75%)]\tLoss: 0.004971\n",
      "\tTrain Epoch: 53 [0/640 (0%)]\tLoss: 0.051599\n",
      "\tTrain Epoch: 53 [160/640 (25%)]\tLoss: 0.002605\n",
      "\tTrain Epoch: 53 [320/640 (50%)]\tLoss: 0.020790\n",
      "\tTrain Epoch: 53 [480/640 (75%)]\tLoss: 0.012604\n",
      "\tTrain Epoch: 54 [0/640 (0%)]\tLoss: 0.003395\n",
      "\tTrain Epoch: 54 [160/640 (25%)]\tLoss: 0.047974\n",
      "\tTrain Epoch: 54 [320/640 (50%)]\tLoss: 0.014056\n",
      "\tTrain Epoch: 54 [480/640 (75%)]\tLoss: 0.061937\n",
      "\tTrain Epoch: 55 [0/640 (0%)]\tLoss: 0.007134\n",
      "\tTrain Epoch: 55 [160/640 (25%)]\tLoss: 0.109135\n",
      "\tTrain Epoch: 55 [320/640 (50%)]\tLoss: 0.019102\n",
      "\tTrain Epoch: 55 [480/640 (75%)]\tLoss: 0.021947\n",
      "\tTrain Epoch: 56 [0/640 (0%)]\tLoss: 0.028345\n",
      "\tTrain Epoch: 56 [160/640 (25%)]\tLoss: 0.003259\n",
      "\tTrain Epoch: 56 [320/640 (50%)]\tLoss: 0.102797\n",
      "\tTrain Epoch: 56 [480/640 (75%)]\tLoss: 0.022707\n",
      "\tTrain Epoch: 57 [0/640 (0%)]\tLoss: 0.003269\n",
      "\tTrain Epoch: 57 [160/640 (25%)]\tLoss: 0.004466\n",
      "\tTrain Epoch: 57 [320/640 (50%)]\tLoss: 0.047869\n",
      "\tTrain Epoch: 57 [480/640 (75%)]\tLoss: 0.070387\n",
      "\tTrain Epoch: 58 [0/640 (0%)]\tLoss: 0.012349\n",
      "\tTrain Epoch: 58 [160/640 (25%)]\tLoss: 0.006549\n",
      "\tTrain Epoch: 58 [320/640 (50%)]\tLoss: 0.002840\n",
      "\tTrain Epoch: 58 [480/640 (75%)]\tLoss: 0.004354\n",
      "\tTrain Epoch: 59 [0/640 (0%)]\tLoss: 0.007989\n",
      "\tTrain Epoch: 59 [160/640 (25%)]\tLoss: 0.005938\n",
      "\tTrain Epoch: 59 [320/640 (50%)]\tLoss: 0.001413\n",
      "\tTrain Epoch: 59 [480/640 (75%)]\tLoss: 0.038254\n",
      "\tTrain Epoch: 60 [0/640 (0%)]\tLoss: 0.007180\n",
      "\tTrain Epoch: 60 [160/640 (25%)]\tLoss: 0.013664\n",
      "\tTrain Epoch: 60 [320/640 (50%)]\tLoss: 0.002707\n",
      "\tTrain Epoch: 60 [480/640 (75%)]\tLoss: 0.008697\n",
      "\tTrain Epoch: 61 [0/640 (0%)]\tLoss: 0.000401\n",
      "\tTrain Epoch: 61 [160/640 (25%)]\tLoss: 0.001053\n",
      "\tTrain Epoch: 61 [320/640 (50%)]\tLoss: 0.008418\n",
      "\tTrain Epoch: 61 [480/640 (75%)]\tLoss: 0.024851\n",
      "\tTrain Epoch: 62 [0/640 (0%)]\tLoss: 0.002921\n",
      "\tTrain Epoch: 62 [160/640 (25%)]\tLoss: 0.000717\n",
      "\tTrain Epoch: 62 [320/640 (50%)]\tLoss: 0.005194\n",
      "\tTrain Epoch: 62 [480/640 (75%)]\tLoss: 0.003244\n",
      "\tTrain Epoch: 63 [0/640 (0%)]\tLoss: 0.006990\n",
      "\tTrain Epoch: 63 [160/640 (25%)]\tLoss: 0.006575\n",
      "\tTrain Epoch: 63 [320/640 (50%)]\tLoss: 0.004695\n",
      "\tTrain Epoch: 63 [480/640 (75%)]\tLoss: 0.063044\n",
      "\tTrain Epoch: 64 [0/640 (0%)]\tLoss: 0.005839\n",
      "\tTrain Epoch: 64 [160/640 (25%)]\tLoss: 0.000660\n",
      "\tTrain Epoch: 64 [320/640 (50%)]\tLoss: 0.012021\n",
      "\tTrain Epoch: 64 [480/640 (75%)]\tLoss: 0.002476\n",
      "\tTrain Epoch: 65 [0/640 (0%)]\tLoss: 0.002063\n",
      "\tTrain Epoch: 65 [160/640 (25%)]\tLoss: 0.002203\n",
      "\tTrain Epoch: 65 [320/640 (50%)]\tLoss: 0.000710\n",
      "\tTrain Epoch: 65 [480/640 (75%)]\tLoss: 0.004870\n",
      "\tTrain Epoch: 66 [0/640 (0%)]\tLoss: 0.011967\n",
      "\tTrain Epoch: 66 [160/640 (25%)]\tLoss: 0.002644\n",
      "\tTrain Epoch: 66 [320/640 (50%)]\tLoss: 0.002199\n",
      "\tTrain Epoch: 66 [480/640 (75%)]\tLoss: 0.001403\n",
      "\tTrain Epoch: 67 [0/640 (0%)]\tLoss: 0.004251\n"
     ]
    }
   ],
   "source": [
    "from Regard import ML\n",
    "ml = ML(args)\n",
    "\n",
    "import os\n",
    "import torch\n",
    "if os.path.isfile(path):\n",
    "    ml.model.load_state_dict(torch.load(path))\n",
    "    print('Loading file', path)\n",
    "else:\n",
    "    print('Training model...')\n",
    "    ml.main()\n",
    "    torch.save(ml.model.state_dict(), path) #save the neural network state\n",
    "    print('Model saved at', path)"
   ]
  },
  {
   "cell_type": "markdown",
   "metadata": {},
   "source": [
    "## testing the model"
   ]
  },
  {
   "cell_type": "code",
   "execution_count": null,
   "metadata": {
    "ExecuteTime": {
     "start_time": "2018-06-14T15:11:58.644Z"
    }
   },
   "outputs": [],
   "source": [
    "Accuracy = ml.test()"
   ]
  },
  {
   "cell_type": "code",
   "execution_count": null,
   "metadata": {
    "ExecuteTime": {
     "start_time": "2018-06-14T15:11:58.645Z"
    },
    "scrolled": false
   },
   "outputs": [],
   "source": [
    "%matplotlib inline\n",
    "import matplotlib.pyplot as plt\n",
    "\n",
    "for data, labels in ml.dataset.test_loader:\n",
    "    fig, ax = ml.show(only_wrong=True)\n",
    "    plt.show() \n"
   ]
  },
  {
   "cell_type": "markdown",
   "metadata": {},
   "source": [
    "## cross-validation"
   ]
  },
  {
   "cell_type": "code",
   "execution_count": null,
   "metadata": {
    "ExecuteTime": {
     "start_time": "2018-06-14T15:11:58.647Z"
    }
   },
   "outputs": [],
   "source": [
    "from Regard import init\n",
    "args = init(verbose=0)\n",
    "Accuracy = []\n",
    "for _ in range(3):\n",
    "    Accuracy.append(ML(args).main().test())\n",
    "print(Accuracy)\n",
    "\n",
    "%matplotlib inline\n",
    "import matplotlib.pyplot as plt\n",
    "\n",
    "plt.hist(Accuracy) \n",
    "\n",
    "plt.show() \n"
   ]
  },
  {
   "cell_type": "code",
   "execution_count": null,
   "metadata": {},
   "outputs": [],
   "source": []
  }
 ],
 "metadata": {
  "kernel_info": {
   "name": "python3"
  },
  "kernelspec": {
   "display_name": "Python 3",
   "language": "python",
   "name": "python3"
  },
  "language_info": {
   "codemirror_mode": {
    "name": "ipython",
    "version": 3
   },
   "file_extension": ".py",
   "mimetype": "text/x-python",
   "name": "python",
   "nbconvert_exporter": "python",
   "pygments_lexer": "ipython3",
   "version": "3.6.5"
  },
  "nteract": {
   "version": "0.8.4"
  },
  "toc": {
   "base_numbering": 1,
   "nav_menu": {},
   "number_sections": true,
   "sideBar": true,
   "skip_h1_title": false,
   "title_cell": "Table of Contents",
   "title_sidebar": "Contents",
   "toc_cell": false,
   "toc_position": {},
   "toc_section_display": "block",
   "toc_window_display": false
  }
 },
 "nbformat": 4,
 "nbformat_minor": 2
}
