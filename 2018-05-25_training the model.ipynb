{
 "cells": [
  {
   "cell_type": "code",
   "execution_count": 1,
   "metadata": {
    "ExecuteTime": {
     "end_time": "2018-05-25T14:58:46.738226Z",
     "start_time": "2018-05-25T14:58:46.722301Z"
    }
   },
   "outputs": [],
   "source": [
    "%load_ext autoreload\n",
    "%autoreload 2"
   ]
  },
  {
   "cell_type": "code",
   "execution_count": 2,
   "metadata": {
    "ExecuteTime": {
     "end_time": "2018-05-25T14:58:47.039442Z",
     "start_time": "2018-05-25T14:58:46.740318Z"
    }
   },
   "outputs": [],
   "source": [
    "%matplotlib inline\n"
   ]
  },
  {
   "cell_type": "markdown",
   "metadata": {},
   "source": [
    "## running the model"
   ]
  },
  {
   "cell_type": "code",
   "execution_count": 3,
   "metadata": {
    "ExecuteTime": {
     "end_time": "2018-05-25T14:58:47.297213Z",
     "start_time": "2018-05-25T14:58:47.041906Z"
    }
   },
   "outputs": [
    {
     "name": "stdout",
     "output_type": "stream",
     "text": [
      "Parameters= {'batch_size': 64, 'test_batch_size': 1000, 'epochs': 30, 'lr': 0.01, 'momentum': 0.5, 'no_cuda': True, 'num_processes': 1, 'seed': 42, 'log_interval': 10, 'dimension': 50, 'verbose': 1, 'conv1_dim': 10, 'conv1_kernel_size': 5, 'conv2_dim': 20, 'conv2_kernel_size': 5, 'crop': 256, 'size': 128, 'mean': 0.5, 'std': 0.25}\n"
     ]
    }
   ],
   "source": [
    "from Regard import init\n",
    "args = init(verbose=1, epochs = 30)\n",
    "print('Parameters=', args)\n",
    "\n",
    "path = '2018-05-25_Regard.pt'"
   ]
  },
  {
   "cell_type": "code",
   "execution_count": 4,
   "metadata": {
    "ExecuteTime": {
     "end_time": "2018-05-25T14:58:47.440047Z",
     "start_time": "2018-05-25T14:58:47.299269Z"
    }
   },
   "outputs": [],
   "source": [
    "!rm {path}"
   ]
  },
  {
   "cell_type": "code",
   "execution_count": 5,
   "metadata": {
    "ExecuteTime": {
     "end_time": "2018-05-25T15:02:30.774906Z",
     "start_time": "2018-05-25T14:58:47.443534Z"
    }
   },
   "outputs": [
    {
     "name": "stdout",
     "output_type": "stream",
     "text": [
      "cuda? False\n",
      "cuda? False\n",
      "Training model...\n"
     ]
    },
    {
     "data": {
      "application/vnd.jupyter.widget-view+json": {
       "model_id": "aad60c385e544b2cbddd8ca44748975d",
       "version_major": 2,
       "version_minor": 0
      },
      "text/plain": [
       "HBox(children=(IntProgress(value=0, description='Train Epoch', max=30), HTML(value='')))"
      ]
     },
     "metadata": {},
     "output_type": "display_data"
    },
    {
     "name": "stdout",
     "output_type": "stream",
     "text": [
      "\tTrain Epoch: 1 [0/459 (0%)]\tLoss: 1.444925\n",
      "\tTrain Epoch: 2 [0/459 (0%)]\tLoss: 1.205875\n",
      "\tTrain Epoch: 3 [0/459 (0%)]\tLoss: 1.173361\n",
      "\tTrain Epoch: 4 [0/459 (0%)]\tLoss: 1.155120\n",
      "\tTrain Epoch: 5 [0/459 (0%)]\tLoss: 1.134635\n",
      "\tTrain Epoch: 6 [0/459 (0%)]\tLoss: 1.113264\n",
      "\tTrain Epoch: 7 [0/459 (0%)]\tLoss: 1.100935\n",
      "\tTrain Epoch: 8 [0/459 (0%)]\tLoss: 1.097285\n",
      "\tTrain Epoch: 9 [0/459 (0%)]\tLoss: 1.078395\n",
      "\tTrain Epoch: 10 [0/459 (0%)]\tLoss: 1.051120\n",
      "\tTrain Epoch: 11 [0/459 (0%)]\tLoss: 1.037441\n",
      "\tTrain Epoch: 12 [0/459 (0%)]\tLoss: 1.033099\n",
      "\tTrain Epoch: 13 [0/459 (0%)]\tLoss: 0.981745\n",
      "\tTrain Epoch: 14 [0/459 (0%)]\tLoss: 1.041604\n",
      "\tTrain Epoch: 15 [0/459 (0%)]\tLoss: 1.176005\n",
      "\tTrain Epoch: 16 [0/459 (0%)]\tLoss: 0.896675\n",
      "\tTrain Epoch: 17 [0/459 (0%)]\tLoss: 0.907253\n",
      "\tTrain Epoch: 18 [0/459 (0%)]\tLoss: 0.890846\n",
      "\tTrain Epoch: 19 [0/459 (0%)]\tLoss: 0.931956\n",
      "\tTrain Epoch: 20 [0/459 (0%)]\tLoss: 0.719369\n",
      "\tTrain Epoch: 21 [0/459 (0%)]\tLoss: 0.707033\n",
      "\tTrain Epoch: 22 [0/459 (0%)]\tLoss: 0.542104\n",
      "\tTrain Epoch: 23 [0/459 (0%)]\tLoss: 1.005813\n",
      "\tTrain Epoch: 24 [0/459 (0%)]\tLoss: 0.783786\n",
      "\tTrain Epoch: 25 [0/459 (0%)]\tLoss: 0.641236\n",
      "\tTrain Epoch: 26 [0/459 (0%)]\tLoss: 0.515499\n",
      "\tTrain Epoch: 27 [0/459 (0%)]\tLoss: 0.705585\n",
      "\tTrain Epoch: 28 [0/459 (0%)]\tLoss: 0.438088\n",
      "\tTrain Epoch: 29 [0/459 (0%)]\tLoss: 0.426295\n",
      "\tTrain Epoch: 30 [0/459 (0%)]\tLoss: 0.294893\n",
      "\n",
      "\n",
      "Test set: Average loss: 0.4068, Accuracy: 389/459 (84%)\n",
      "\n",
      "Test set: Final Accuracy: 84.749%\n",
      "Model saved at 2018-05-25_Regard.pt\n"
     ]
    }
   ],
   "source": [
    "from Regard import ML\n",
    "ml = ML(args)\n",
    "\n",
    "import os\n",
    "import torch\n",
    "if os.path.isfile(path):\n",
    "    ml.model.load_state_dict(torch.load(path))\n",
    "    print('Loading file', path)\n",
    "else:\n",
    "    print('Training model...')\n",
    "    ml.main()\n",
    "    torch.save(ml.model.state_dict(), path) #save the neural network state\n",
    "    print('Model saved at', path)"
   ]
  },
  {
   "cell_type": "markdown",
   "metadata": {},
   "source": [
    "## testing the model"
   ]
  },
  {
   "cell_type": "code",
   "execution_count": 7,
   "metadata": {
    "ExecuteTime": {
     "end_time": "2018-05-25T15:07:54.614667Z",
     "start_time": "2018-05-25T15:07:48.657769Z"
    }
   },
   "outputs": [
    {
     "name": "stdout",
     "output_type": "stream",
     "text": [
      "\n",
      "Test set: Average loss: 0.4068, Accuracy: 389/459 (84%)\n",
      "\n"
     ]
    },
    {
     "data": {
      "text/plain": [
       "0.8474945533769063"
      ]
     },
     "execution_count": 7,
     "metadata": {},
     "output_type": "execute_result"
    }
   ],
   "source": [
    "ml.test()"
   ]
  }
 ],
 "metadata": {
  "kernelspec": {
   "display_name": "Python 3",
   "language": "python",
   "name": "python3"
  },
  "language_info": {
   "codemirror_mode": {
    "name": "ipython",
    "version": 3
   },
   "file_extension": ".py",
   "mimetype": "text/x-python",
   "name": "python",
   "nbconvert_exporter": "python",
   "pygments_lexer": "ipython3",
   "version": "3.6.5"
  },
  "toc": {
   "base_numbering": 1,
   "nav_menu": {},
   "number_sections": true,
   "sideBar": true,
   "skip_h1_title": false,
   "title_cell": "Table of Contents",
   "title_sidebar": "Contents",
   "toc_cell": false,
   "toc_position": {},
   "toc_section_display": "block",
   "toc_window_display": false
  }
 },
 "nbformat": 4,
 "nbformat_minor": 2
}
