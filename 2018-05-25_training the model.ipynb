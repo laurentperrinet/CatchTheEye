{
 "cells": [
  {
   "cell_type": "code",
   "execution_count": 1,
   "metadata": {
    "ExecuteTime": {
     "end_time": "2018-06-08T12:28:26.187499Z",
     "start_time": "2018-06-08T12:28:26.170225Z"
    }
   },
   "outputs": [],
   "source": [
    "%load_ext autoreload\n",
    "%autoreload 2"
   ]
  },
  {
   "cell_type": "code",
   "execution_count": 2,
   "metadata": {
    "ExecuteTime": {
     "end_time": "2018-06-08T12:28:26.689160Z",
     "start_time": "2018-06-08T12:28:26.190058Z"
    }
   },
   "outputs": [],
   "source": [
    "%matplotlib inline"
   ]
  },
  {
   "cell_type": "markdown",
   "metadata": {},
   "source": [
    "## running the model"
   ]
  },
  {
   "cell_type": "code",
   "execution_count": 3,
   "metadata": {
    "ExecuteTime": {
     "end_time": "2018-06-08T12:28:27.413493Z",
     "start_time": "2018-06-08T12:28:26.692193Z"
    }
   },
   "outputs": [
    {
     "name": "stdout",
     "output_type": "stream",
     "text": [
      "Parameters= {'batch_size': 16, 'test_batch_size': 1, 'valid_size': 0.2, 'epochs': 100, 'lr': 0.005, 'momentum': 0.48, 'no_cuda': True, 'num_processes': 1, 'seed': 42, 'log_interval': 10, 'dimension': 25, 'verbose': 1, 'conv1_dim': 4, 'conv1_kernel_size': 7, 'conv2_dim': 13, 'conv2_kernel_size': 5, 'stride1': 2, 'stride2': 2, 'crop': 200, 'size': 128, 'mean': 0.36, 'std': 0.3}\n"
     ]
    }
   ],
   "source": [
    "from Regard import init\n",
    "args = init(verbose=1)\n",
    "print('Parameters=', args)\n",
    "\n",
    "path = '_Regard.pt'"
   ]
  },
  {
   "cell_type": "code",
   "execution_count": 4,
   "metadata": {
    "ExecuteTime": {
     "end_time": "2018-06-08T12:28:27.700523Z",
     "start_time": "2018-06-08T12:28:27.416360Z"
    }
   },
   "outputs": [
    {
     "name": "stdout",
     "output_type": "stream",
     "text": [
      "-rw-r--r--  1 laurentperrinet  staff  1028613 Jun  8 13:56 _Regard.pt\r\n"
     ]
    }
   ],
   "source": [
    "!ls -l {path}\n",
    "!rm {path}"
   ]
  },
  {
   "cell_type": "code",
   "execution_count": null,
   "metadata": {
    "ExecuteTime": {
     "start_time": "2018-06-08T12:28:26.151Z"
    },
    "scrolled": false
   },
   "outputs": [
    {
     "name": "stdout",
     "output_type": "stream",
     "text": [
      "cuda? False\n",
      "cuda? False\n",
      "Found 827 sample images;  662  to train 165 to test\n",
      "Training model...\n"
     ]
    },
    {
     "data": {
      "application/vnd.jupyter.widget-view+json": {
       "model_id": "62fd581701de493e96d9d75c65905d46",
       "version_major": 2,
       "version_minor": 0
      },
      "text/plain": [
       "HBox(children=(IntProgress(value=0, description='Train Epoch'), HTML(value='')))"
      ]
     },
     "metadata": {},
     "output_type": "display_data"
    },
    {
     "name": "stdout",
     "output_type": "stream",
     "text": [
      "\tTrain Epoch: 1 [0/662 (0%)]\tLoss: 1.341156\n",
      "\tTrain Epoch: 1 [160/662 (24%)]\tLoss: 1.384531\n",
      "\tTrain Epoch: 1 [320/662 (48%)]\tLoss: 1.320243\n",
      "\tTrain Epoch: 1 [480/662 (71%)]\tLoss: 1.268168\n",
      "\tTrain Epoch: 1 [640/662 (95%)]\tLoss: 1.273774\n",
      "\tTrain Epoch: 2 [0/662 (0%)]\tLoss: 1.244102\n",
      "\tTrain Epoch: 2 [160/662 (24%)]\tLoss: 1.292869\n",
      "\tTrain Epoch: 2 [320/662 (48%)]\tLoss: 1.473833\n",
      "\tTrain Epoch: 2 [480/662 (71%)]\tLoss: 1.336953\n",
      "\tTrain Epoch: 2 [640/662 (95%)]\tLoss: 1.248009\n",
      "\tTrain Epoch: 3 [0/662 (0%)]\tLoss: 1.428869\n",
      "\tTrain Epoch: 3 [160/662 (24%)]\tLoss: 1.569970\n",
      "\tTrain Epoch: 3 [320/662 (48%)]\tLoss: 1.274610\n"
     ]
    }
   ],
   "source": [
    "from Regard import ML\n",
    "ml = ML(args)\n",
    "\n",
    "import os\n",
    "import torch\n",
    "if os.path.isfile(path):\n",
    "    ml.model.load_state_dict(torch.load(path))\n",
    "    print('Loading file', path)\n",
    "else:\n",
    "    print('Training model...')\n",
    "    ml.main()\n",
    "    torch.save(ml.model.state_dict(), path) #save the neural network state\n",
    "    print('Model saved at', path)"
   ]
  },
  {
   "cell_type": "code",
   "execution_count": null,
   "metadata": {
    "ExecuteTime": {
     "start_time": "2018-06-08T12:28:26.153Z"
    }
   },
   "outputs": [],
   "source": [
    "10292/468, 22 *468"
   ]
  },
  {
   "cell_type": "markdown",
   "metadata": {},
   "source": [
    "## testing the model"
   ]
  },
  {
   "cell_type": "code",
   "execution_count": null,
   "metadata": {
    "ExecuteTime": {
     "start_time": "2018-06-08T12:28:26.155Z"
    }
   },
   "outputs": [],
   "source": [
    "Accuracy = ml.test()"
   ]
  },
  {
   "cell_type": "code",
   "execution_count": null,
   "metadata": {
    "ExecuteTime": {
     "start_time": "2018-06-08T12:28:26.158Z"
    },
    "scrolled": false
   },
   "outputs": [],
   "source": [
    "%matplotlib inline\n",
    "import matplotlib.pyplot as plt\n",
    "\n",
    "for data, labels in ml.dataset.test_loader:\n",
    "    fig, ax = ml.show(only_wrong=True)\n",
    "    plt.show() \n"
   ]
  },
  {
   "cell_type": "code",
   "execution_count": null,
   "metadata": {},
   "outputs": [],
   "source": []
  }
 ],
 "metadata": {
  "kernel_info": {
   "name": "python3"
  },
  "kernelspec": {
   "display_name": "Python 3",
   "language": "python",
   "name": "python3"
  },
  "language_info": {
   "codemirror_mode": {
    "name": "ipython",
    "version": 3
   },
   "file_extension": ".py",
   "mimetype": "text/x-python",
   "name": "python",
   "nbconvert_exporter": "python",
   "pygments_lexer": "ipython3",
   "version": "3.6.5"
  },
  "nteract": {
   "version": "0.8.4"
  },
  "toc": {
   "base_numbering": 1,
   "nav_menu": {},
   "number_sections": true,
   "sideBar": true,
   "skip_h1_title": false,
   "title_cell": "Table of Contents",
   "title_sidebar": "Contents",
   "toc_cell": false,
   "toc_position": {},
   "toc_section_display": "block",
   "toc_window_display": false
  }
 },
 "nbformat": 4,
 "nbformat_minor": 2
}
