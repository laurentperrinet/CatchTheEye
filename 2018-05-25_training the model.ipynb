{
 "cells": [
  {
   "cell_type": "code",
   "execution_count": 1,
   "metadata": {
    "ExecuteTime": {
     "end_time": "2018-05-27T20:58:12.319468Z",
     "start_time": "2018-05-27T20:58:12.279289Z"
    }
   },
   "outputs": [],
   "source": [
    "%load_ext autoreload\n",
    "%autoreload 2"
   ]
  },
  {
   "cell_type": "code",
   "execution_count": 2,
   "metadata": {
    "ExecuteTime": {
     "end_time": "2018-05-27T20:58:12.644568Z",
     "start_time": "2018-05-27T20:58:12.322150Z"
    }
   },
   "outputs": [],
   "source": [
    "%matplotlib inline\n"
   ]
  },
  {
   "cell_type": "markdown",
   "metadata": {},
   "source": [
    "## running the model"
   ]
  },
  {
   "cell_type": "code",
   "execution_count": 3,
   "metadata": {
    "ExecuteTime": {
     "end_time": "2018-05-27T20:58:13.020375Z",
     "start_time": "2018-05-27T20:58:12.647237Z"
    }
   },
   "outputs": [
    {
     "name": "stdout",
     "output_type": "stream",
     "text": [
      "Parameters= {'batch_size': 8, 'test_batch_size': 400, 'epochs': 30, 'lr': 0.01, 'momentum': 0.25, 'no_cuda': True, 'num_processes': 1, 'seed': 42, 'log_interval': 10, 'dimension': 50, 'verbose': 1, 'conv1_dim': 10, 'conv1_kernel_size': 5, 'conv2_dim': 20, 'conv2_kernel_size': 5, 'crop': 121, 'size': 128, 'mean': 0.3, 'std': 0.6}\n"
     ]
    }
   ],
   "source": [
    "from Regard import init\n",
    "args = init(verbose=1)\n",
    "print('Parameters=', args)\n",
    "\n",
    "path = 'Regard.pt'"
   ]
  },
  {
   "cell_type": "code",
   "execution_count": 4,
   "metadata": {
    "ExecuteTime": {
     "end_time": "2018-05-27T20:58:13.203767Z",
     "start_time": "2018-05-27T20:58:13.023794Z"
    }
   },
   "outputs": [
    {
     "name": "stdout",
     "output_type": "stream",
     "text": [
      "rm: Regard.pt: No such file or directory\r\n"
     ]
    }
   ],
   "source": [
    "!rm {path}"
   ]
  },
  {
   "cell_type": "code",
   "execution_count": 5,
   "metadata": {
    "ExecuteTime": {
     "end_time": "2018-05-27T21:01:20.857663Z",
     "start_time": "2018-05-27T20:58:13.208002Z"
    }
   },
   "outputs": [
    {
     "name": "stdout",
     "output_type": "stream",
     "text": [
      "cuda? False\n",
      "cuda? False\n",
      "Training model...\n"
     ]
    },
    {
     "data": {
      "application/vnd.jupyter.widget-view+json": {
       "model_id": "4e13782877ef44a8992a36ccc4ab7cd2",
       "version_major": 2,
       "version_minor": 0
      },
      "text/plain": [
       "HBox(children=(IntProgress(value=0, description='Train Epoch', max=30), HTML(value='')))"
      ]
     },
     "metadata": {},
     "output_type": "display_data"
    },
    {
     "name": "stdout",
     "output_type": "stream",
     "text": [
      "\tTrain Epoch: 1 [0/459 (0%)]\tLoss: 1.462218\n",
      "\tTrain Epoch: 1 [80/459 (17%)]\tLoss: 1.248716\n",
      "\tTrain Epoch: 1 [160/459 (34%)]\tLoss: 1.007945\n",
      "\tTrain Epoch: 1 [240/459 (52%)]\tLoss: 1.387889\n",
      "\tTrain Epoch: 1 [320/459 (69%)]\tLoss: 1.157279\n",
      "\tTrain Epoch: 1 [400/459 (86%)]\tLoss: 1.152145\n",
      "\tTrain Epoch: 2 [0/459 (0%)]\tLoss: 1.087587\n",
      "\tTrain Epoch: 2 [80/459 (17%)]\tLoss: 1.136815\n",
      "\tTrain Epoch: 2 [160/459 (34%)]\tLoss: 0.984136\n",
      "\tTrain Epoch: 2 [240/459 (52%)]\tLoss: 1.370504\n",
      "\tTrain Epoch: 2 [320/459 (69%)]\tLoss: 1.153515\n",
      "\tTrain Epoch: 2 [400/459 (86%)]\tLoss: 1.115968\n",
      "\tTrain Epoch: 3 [0/459 (0%)]\tLoss: 1.072635\n",
      "\tTrain Epoch: 3 [80/459 (17%)]\tLoss: 1.132873\n",
      "\tTrain Epoch: 3 [160/459 (34%)]\tLoss: 0.881037\n",
      "\tTrain Epoch: 3 [240/459 (52%)]\tLoss: 1.325524\n",
      "\tTrain Epoch: 3 [320/459 (69%)]\tLoss: 1.246882\n",
      "\tTrain Epoch: 3 [400/459 (86%)]\tLoss: 0.993530\n",
      "\tTrain Epoch: 4 [0/459 (0%)]\tLoss: 0.948892\n",
      "\tTrain Epoch: 4 [80/459 (17%)]\tLoss: 1.154287\n",
      "\tTrain Epoch: 4 [160/459 (34%)]\tLoss: 0.604322\n",
      "\tTrain Epoch: 4 [240/459 (52%)]\tLoss: 1.069561\n",
      "\tTrain Epoch: 4 [320/459 (69%)]\tLoss: 1.378548\n",
      "\tTrain Epoch: 4 [400/459 (86%)]\tLoss: 0.777222\n",
      "\tTrain Epoch: 5 [0/459 (0%)]\tLoss: 0.875247\n",
      "\tTrain Epoch: 5 [80/459 (17%)]\tLoss: 0.951021\n",
      "\tTrain Epoch: 5 [160/459 (34%)]\tLoss: 0.451436\n",
      "\tTrain Epoch: 5 [240/459 (52%)]\tLoss: 0.688211\n",
      "\tTrain Epoch: 5 [320/459 (69%)]\tLoss: 1.220717\n",
      "\tTrain Epoch: 5 [400/459 (86%)]\tLoss: 0.643642\n",
      "\tTrain Epoch: 6 [0/459 (0%)]\tLoss: 0.925252\n",
      "\tTrain Epoch: 6 [80/459 (17%)]\tLoss: 0.704174\n",
      "\tTrain Epoch: 6 [160/459 (34%)]\tLoss: 0.590279\n",
      "\tTrain Epoch: 6 [240/459 (52%)]\tLoss: 0.469210\n",
      "\tTrain Epoch: 6 [320/459 (69%)]\tLoss: 0.973123\n",
      "\tTrain Epoch: 6 [400/459 (86%)]\tLoss: 0.492751\n",
      "\tTrain Epoch: 7 [0/459 (0%)]\tLoss: 0.925714\n",
      "\tTrain Epoch: 7 [80/459 (17%)]\tLoss: 0.590725\n",
      "\tTrain Epoch: 7 [160/459 (34%)]\tLoss: 0.658829\n",
      "\tTrain Epoch: 7 [240/459 (52%)]\tLoss: 0.354123\n",
      "\tTrain Epoch: 7 [320/459 (69%)]\tLoss: 0.774741\n",
      "\tTrain Epoch: 7 [400/459 (86%)]\tLoss: 0.378165\n",
      "\tTrain Epoch: 8 [0/459 (0%)]\tLoss: 0.875191\n",
      "\tTrain Epoch: 8 [80/459 (17%)]\tLoss: 0.432359\n",
      "\tTrain Epoch: 8 [160/459 (34%)]\tLoss: 0.684748\n",
      "\tTrain Epoch: 8 [240/459 (52%)]\tLoss: 0.330768\n",
      "\tTrain Epoch: 8 [320/459 (69%)]\tLoss: 0.619582\n",
      "\tTrain Epoch: 8 [400/459 (86%)]\tLoss: 0.286892\n",
      "\tTrain Epoch: 9 [0/459 (0%)]\tLoss: 0.780726\n",
      "\tTrain Epoch: 9 [80/459 (17%)]\tLoss: 0.352184\n",
      "\tTrain Epoch: 9 [160/459 (34%)]\tLoss: 0.617946\n",
      "\tTrain Epoch: 9 [240/459 (52%)]\tLoss: 0.279642\n",
      "\tTrain Epoch: 9 [320/459 (69%)]\tLoss: 0.489355\n",
      "\tTrain Epoch: 9 [400/459 (86%)]\tLoss: 0.238836\n",
      "\tTrain Epoch: 10 [0/459 (0%)]\tLoss: 0.632106\n",
      "\tTrain Epoch: 10 [80/459 (17%)]\tLoss: 0.288887\n",
      "\tTrain Epoch: 10 [160/459 (34%)]\tLoss: 0.560586\n",
      "\tTrain Epoch: 10 [240/459 (52%)]\tLoss: 0.219685\n",
      "\tTrain Epoch: 10 [320/459 (69%)]\tLoss: 0.434962\n",
      "\tTrain Epoch: 10 [400/459 (86%)]\tLoss: 0.216881\n",
      "\tTrain Epoch: 11 [0/459 (0%)]\tLoss: 0.440380\n",
      "\tTrain Epoch: 11 [80/459 (17%)]\tLoss: 0.210110\n",
      "\tTrain Epoch: 11 [160/459 (34%)]\tLoss: 0.378676\n",
      "\tTrain Epoch: 11 [240/459 (52%)]\tLoss: 0.197170\n",
      "\tTrain Epoch: 11 [320/459 (69%)]\tLoss: 0.399638\n",
      "\tTrain Epoch: 11 [400/459 (86%)]\tLoss: 0.168220\n",
      "\tTrain Epoch: 12 [0/459 (0%)]\tLoss: 0.349898\n",
      "\tTrain Epoch: 12 [80/459 (17%)]\tLoss: 0.165590\n",
      "\tTrain Epoch: 12 [160/459 (34%)]\tLoss: 0.378019\n",
      "\tTrain Epoch: 12 [240/459 (52%)]\tLoss: 0.163534\n",
      "\tTrain Epoch: 12 [320/459 (69%)]\tLoss: 0.352559\n",
      "\tTrain Epoch: 12 [400/459 (86%)]\tLoss: 0.148204\n",
      "\tTrain Epoch: 13 [0/459 (0%)]\tLoss: 0.271368\n",
      "\tTrain Epoch: 13 [80/459 (17%)]\tLoss: 0.117320\n",
      "\tTrain Epoch: 13 [160/459 (34%)]\tLoss: 0.252064\n",
      "\tTrain Epoch: 13 [240/459 (52%)]\tLoss: 0.132623\n",
      "\tTrain Epoch: 13 [320/459 (69%)]\tLoss: 0.350580\n",
      "\tTrain Epoch: 13 [400/459 (86%)]\tLoss: 0.138600\n",
      "\tTrain Epoch: 14 [0/459 (0%)]\tLoss: 0.222049\n",
      "\tTrain Epoch: 14 [80/459 (17%)]\tLoss: 0.103764\n",
      "\tTrain Epoch: 14 [160/459 (34%)]\tLoss: 0.195948\n",
      "\tTrain Epoch: 14 [240/459 (52%)]\tLoss: 0.133019\n",
      "\tTrain Epoch: 14 [320/459 (69%)]\tLoss: 0.309003\n",
      "\tTrain Epoch: 14 [400/459 (86%)]\tLoss: 0.123372\n",
      "\tTrain Epoch: 15 [0/459 (0%)]\tLoss: 0.186198\n",
      "\tTrain Epoch: 15 [80/459 (17%)]\tLoss: 0.094671\n",
      "\tTrain Epoch: 15 [160/459 (34%)]\tLoss: 0.109256\n",
      "\tTrain Epoch: 15 [240/459 (52%)]\tLoss: 0.120863\n",
      "\tTrain Epoch: 15 [320/459 (69%)]\tLoss: 0.280966\n",
      "\tTrain Epoch: 15 [400/459 (86%)]\tLoss: 0.092528\n",
      "\tTrain Epoch: 16 [0/459 (0%)]\tLoss: 0.141773\n",
      "\tTrain Epoch: 16 [80/459 (17%)]\tLoss: 0.094092\n",
      "\tTrain Epoch: 16 [160/459 (34%)]\tLoss: 0.129998\n",
      "\tTrain Epoch: 16 [240/459 (52%)]\tLoss: 0.089137\n",
      "\tTrain Epoch: 16 [320/459 (69%)]\tLoss: 0.237807\n",
      "\tTrain Epoch: 16 [400/459 (86%)]\tLoss: 0.047197\n",
      "\tTrain Epoch: 17 [0/459 (0%)]\tLoss: 0.106774\n",
      "\tTrain Epoch: 17 [80/459 (17%)]\tLoss: 0.073517\n",
      "\tTrain Epoch: 17 [160/459 (34%)]\tLoss: 0.123175\n",
      "\tTrain Epoch: 17 [240/459 (52%)]\tLoss: 0.078969\n",
      "\tTrain Epoch: 17 [320/459 (69%)]\tLoss: 0.196251\n",
      "\tTrain Epoch: 17 [400/459 (86%)]\tLoss: 0.035172\n",
      "\tTrain Epoch: 18 [0/459 (0%)]\tLoss: 0.162243\n",
      "\tTrain Epoch: 18 [80/459 (17%)]\tLoss: 0.171238\n",
      "\tTrain Epoch: 18 [160/459 (34%)]\tLoss: 0.183650\n",
      "\tTrain Epoch: 18 [240/459 (52%)]\tLoss: 0.095143\n",
      "\tTrain Epoch: 18 [320/459 (69%)]\tLoss: 0.158723\n",
      "\tTrain Epoch: 18 [400/459 (86%)]\tLoss: 0.033647\n",
      "\tTrain Epoch: 19 [0/459 (0%)]\tLoss: 0.110488\n",
      "\tTrain Epoch: 19 [80/459 (17%)]\tLoss: 0.044485\n",
      "\tTrain Epoch: 19 [160/459 (34%)]\tLoss: 0.054156\n",
      "\tTrain Epoch: 19 [240/459 (52%)]\tLoss: 0.089646\n",
      "\tTrain Epoch: 19 [320/459 (69%)]\tLoss: 0.198513\n",
      "\tTrain Epoch: 19 [400/459 (86%)]\tLoss: 0.088008\n",
      "\tTrain Epoch: 20 [0/459 (0%)]\tLoss: 0.145863\n",
      "\tTrain Epoch: 20 [80/459 (17%)]\tLoss: 0.107442\n",
      "\tTrain Epoch: 20 [160/459 (34%)]\tLoss: 0.192148\n",
      "\tTrain Epoch: 20 [240/459 (52%)]\tLoss: 0.107902\n",
      "\tTrain Epoch: 20 [320/459 (69%)]\tLoss: 0.198429\n",
      "\tTrain Epoch: 20 [400/459 (86%)]\tLoss: 0.074077\n",
      "\tTrain Epoch: 21 [0/459 (0%)]\tLoss: 0.112026\n",
      "\tTrain Epoch: 21 [80/459 (17%)]\tLoss: 0.047132\n",
      "\tTrain Epoch: 21 [160/459 (34%)]\tLoss: 0.012023\n",
      "\tTrain Epoch: 21 [240/459 (52%)]\tLoss: 0.054952\n",
      "\tTrain Epoch: 21 [320/459 (69%)]\tLoss: 0.142891\n",
      "\tTrain Epoch: 21 [400/459 (86%)]\tLoss: 0.021253\n",
      "\tTrain Epoch: 22 [0/459 (0%)]\tLoss: 0.052013\n",
      "\tTrain Epoch: 22 [80/459 (17%)]\tLoss: 0.047869\n",
      "\tTrain Epoch: 22 [160/459 (34%)]\tLoss: 0.034627\n",
      "\tTrain Epoch: 22 [240/459 (52%)]\tLoss: 0.048473\n",
      "\tTrain Epoch: 22 [320/459 (69%)]\tLoss: 0.087369\n",
      "\tTrain Epoch: 22 [400/459 (86%)]\tLoss: 0.027352\n",
      "\tTrain Epoch: 23 [0/459 (0%)]\tLoss: 0.042518\n",
      "\tTrain Epoch: 23 [80/459 (17%)]\tLoss: 0.049351\n",
      "\tTrain Epoch: 23 [160/459 (34%)]\tLoss: 0.019117\n",
      "\tTrain Epoch: 23 [240/459 (52%)]\tLoss: 0.041339\n",
      "\tTrain Epoch: 23 [320/459 (69%)]\tLoss: 0.059127\n",
      "\tTrain Epoch: 23 [400/459 (86%)]\tLoss: 0.014772\n",
      "\tTrain Epoch: 24 [0/459 (0%)]\tLoss: 0.030754\n",
      "\tTrain Epoch: 24 [80/459 (17%)]\tLoss: 0.051875\n",
      "\tTrain Epoch: 24 [160/459 (34%)]\tLoss: 0.006110\n",
      "\tTrain Epoch: 24 [240/459 (52%)]\tLoss: 0.031662\n",
      "\tTrain Epoch: 24 [320/459 (69%)]\tLoss: 0.063456\n",
      "\tTrain Epoch: 24 [400/459 (86%)]\tLoss: 0.012946\n",
      "\tTrain Epoch: 25 [0/459 (0%)]\tLoss: 0.024883\n",
      "\tTrain Epoch: 25 [80/459 (17%)]\tLoss: 0.058475\n",
      "\tTrain Epoch: 25 [160/459 (34%)]\tLoss: 0.011655\n",
      "\tTrain Epoch: 25 [240/459 (52%)]\tLoss: 0.033155\n",
      "\tTrain Epoch: 25 [320/459 (69%)]\tLoss: 0.040549\n",
      "\tTrain Epoch: 25 [400/459 (86%)]\tLoss: 0.006741\n",
      "\tTrain Epoch: 26 [0/459 (0%)]\tLoss: 0.019997\n",
      "\tTrain Epoch: 26 [80/459 (17%)]\tLoss: 0.042402\n",
      "\tTrain Epoch: 26 [160/459 (34%)]\tLoss: 0.003111\n",
      "\tTrain Epoch: 26 [240/459 (52%)]\tLoss: 0.028057\n",
      "\tTrain Epoch: 26 [320/459 (69%)]\tLoss: 0.045392\n",
      "\tTrain Epoch: 26 [400/459 (86%)]\tLoss: 0.022168\n",
      "\tTrain Epoch: 27 [0/459 (0%)]\tLoss: 0.019105\n",
      "\tTrain Epoch: 27 [80/459 (17%)]\tLoss: 0.033235\n",
      "\tTrain Epoch: 27 [160/459 (34%)]\tLoss: 0.003743\n",
      "\tTrain Epoch: 27 [240/459 (52%)]\tLoss: 0.030847\n",
      "\tTrain Epoch: 27 [320/459 (69%)]\tLoss: 0.091555\n",
      "\tTrain Epoch: 27 [400/459 (86%)]\tLoss: 0.035037\n",
      "\tTrain Epoch: 28 [0/459 (0%)]\tLoss: 0.015518\n",
      "\tTrain Epoch: 28 [80/459 (17%)]\tLoss: 0.040332\n",
      "\tTrain Epoch: 28 [160/459 (34%)]\tLoss: 0.001506\n",
      "\tTrain Epoch: 28 [240/459 (52%)]\tLoss: 0.034517\n",
      "\tTrain Epoch: 28 [320/459 (69%)]\tLoss: 0.043182\n",
      "\tTrain Epoch: 28 [400/459 (86%)]\tLoss: 0.011057\n",
      "\tTrain Epoch: 29 [0/459 (0%)]\tLoss: 0.015090\n",
      "\tTrain Epoch: 29 [80/459 (17%)]\tLoss: 0.037094\n",
      "\tTrain Epoch: 29 [160/459 (34%)]\tLoss: 0.003282\n",
      "\tTrain Epoch: 29 [240/459 (52%)]\tLoss: 0.020988\n",
      "\tTrain Epoch: 29 [320/459 (69%)]\tLoss: 0.018085\n",
      "\tTrain Epoch: 29 [400/459 (86%)]\tLoss: 0.034567\n",
      "\tTrain Epoch: 30 [0/459 (0%)]\tLoss: 0.015108\n"
     ]
    },
    {
     "name": "stdout",
     "output_type": "stream",
     "text": [
      "\tTrain Epoch: 30 [80/459 (17%)]\tLoss: 0.022752\n",
      "\tTrain Epoch: 30 [160/459 (34%)]\tLoss: 0.001959\n",
      "\tTrain Epoch: 30 [240/459 (52%)]\tLoss: 0.017119\n",
      "\tTrain Epoch: 30 [320/459 (69%)]\tLoss: 0.021777\n",
      "\tTrain Epoch: 30 [400/459 (86%)]\tLoss: 0.022952\n",
      "\n",
      "\n",
      "Test set: Average loss: 0.0733, Accuracy: 447/459 (97%)\n",
      "\n",
      "Test set: Final Accuracy: 97.386%\n",
      "Model saved at Regard.pt\n"
     ]
    }
   ],
   "source": [
    "from Regard import ML\n",
    "ml = ML(args)\n",
    "\n",
    "import os\n",
    "import torch\n",
    "if os.path.isfile(path):\n",
    "    ml.model.load_state_dict(torch.load(path))\n",
    "    print('Loading file', path)\n",
    "else:\n",
    "    print('Training model...')\n",
    "    ml.main()\n",
    "    torch.save(ml.model.state_dict(), path) #save the neural network state\n",
    "    print('Model saved at', path)"
   ]
  },
  {
   "cell_type": "markdown",
   "metadata": {},
   "source": [
    "## testing the model"
   ]
  },
  {
   "cell_type": "code",
   "execution_count": 6,
   "metadata": {
    "ExecuteTime": {
     "end_time": "2018-05-27T21:01:27.794956Z",
     "start_time": "2018-05-27T21:01:20.861652Z"
    }
   },
   "outputs": [
    {
     "name": "stdout",
     "output_type": "stream",
     "text": [
      "\n",
      "Test set: Average loss: 0.0733, Accuracy: 447/459 (97%)\n",
      "\n"
     ]
    }
   ],
   "source": [
    "Accuracy = ml.test()"
   ]
  },
  {
   "cell_type": "code",
   "execution_count": null,
   "metadata": {
    "inputHidden": false,
    "outputHidden": false
   },
   "outputs": [],
   "source": []
  }
 ],
 "metadata": {
  "kernel_info": {
   "name": "python3"
  },
  "kernelspec": {
   "display_name": "Python 3",
   "language": "python",
   "name": "python3"
  },
  "language_info": {
   "codemirror_mode": {
    "name": "ipython",
    "version": 3
   },
   "file_extension": ".py",
   "mimetype": "text/x-python",
   "name": "python",
   "nbconvert_exporter": "python",
   "pygments_lexer": "ipython3",
   "version": "3.6.5"
  },
  "nteract": {
   "version": "0.8.4"
  },
  "toc": {
   "base_numbering": 1,
   "nav_menu": {},
   "number_sections": true,
   "sideBar": true,
   "skip_h1_title": false,
   "title_cell": "Table of Contents",
   "title_sidebar": "Contents",
   "toc_cell": false,
   "toc_position": {},
   "toc_section_display": "block",
   "toc_window_display": false
  }
 },
 "nbformat": 4,
 "nbformat_minor": 2
}
