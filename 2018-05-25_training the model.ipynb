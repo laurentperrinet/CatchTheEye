{
 "cells": [
  {
   "cell_type": "code",
   "execution_count": 1,
   "metadata": {
    "ExecuteTime": {
     "end_time": "2018-05-28T11:54:36.352944Z",
     "start_time": "2018-05-28T11:54:36.337449Z"
    }
   },
   "outputs": [],
   "source": [
    "%load_ext autoreload\n",
    "%autoreload 2"
   ]
  },
  {
   "cell_type": "code",
   "execution_count": 2,
   "metadata": {
    "ExecuteTime": {
     "end_time": "2018-05-28T11:54:36.651231Z",
     "start_time": "2018-05-28T11:54:36.354968Z"
    }
   },
   "outputs": [],
   "source": [
    "%matplotlib inline\n"
   ]
  },
  {
   "cell_type": "markdown",
   "metadata": {},
   "source": [
    "## running the model"
   ]
  },
  {
   "cell_type": "code",
   "execution_count": 3,
   "metadata": {
    "ExecuteTime": {
     "end_time": "2018-05-28T11:54:37.119333Z",
     "start_time": "2018-05-28T11:54:36.653349Z"
    }
   },
   "outputs": [
    {
     "name": "stdout",
     "output_type": "stream",
     "text": [
      "Parameters= {'batch_size': 8, 'test_batch_size': 1, 'valid_size': 0.2, 'epochs': 60, 'lr': 0.01, 'momentum': 0.25, 'no_cuda': True, 'num_processes': 1, 'seed': 42, 'log_interval': 10, 'dimension': 50, 'verbose': 1, 'conv1_dim': 10, 'conv1_kernel_size': 5, 'conv2_dim': 20, 'conv2_kernel_size': 5, 'crop': 181, 'size': 128, 'mean': 0.3, 'std': 0.6}\n"
     ]
    }
   ],
   "source": [
    "from Regard import init\n",
    "args = init(verbose=1)\n",
    "print('Parameters=', args)\n",
    "\n",
    "path = 'Regard.pt'"
   ]
  },
  {
   "cell_type": "code",
   "execution_count": 4,
   "metadata": {
    "ExecuteTime": {
     "end_time": "2018-05-28T11:54:37.266682Z",
     "start_time": "2018-05-28T11:54:37.121815Z"
    }
   },
   "outputs": [],
   "source": [
    "!rm {path}"
   ]
  },
  {
   "cell_type": "code",
   "execution_count": null,
   "metadata": {
    "ExecuteTime": {
     "start_time": "2018-05-28T11:54:36.318Z"
    },
    "scrolled": false
   },
   "outputs": [
    {
     "name": "stdout",
     "output_type": "stream",
     "text": [
      "cuda? False\n",
      "cuda? False\n",
      "Found 523 sample images\n",
      "Training model...\n"
     ]
    },
    {
     "data": {
      "application/vnd.jupyter.widget-view+json": {
       "model_id": "b95efbc4c642415ebbbe10bea653256e",
       "version_major": 2,
       "version_minor": 0
      },
      "text/plain": [
       "HBox(children=(IntProgress(value=0, description='Train Epoch', max=60), HTML(value='')))"
      ]
     },
     "metadata": {},
     "output_type": "display_data"
    },
    {
     "name": "stdout",
     "output_type": "stream",
     "text": [
      "\tTrain Epoch: 1 [0/419 (0%)]\tLoss: 1.344465\n",
      "\tTrain Epoch: 1 [80/419 (19%)]\tLoss: 1.426372\n",
      "\tTrain Epoch: 1 [160/419 (38%)]\tLoss: 1.391940\n",
      "\tTrain Epoch: 1 [240/419 (57%)]\tLoss: 1.315776\n",
      "\tTrain Epoch: 1 [320/419 (75%)]\tLoss: 1.030933\n",
      "\tTrain Epoch: 1 [400/419 (94%)]\tLoss: 1.287239\n",
      "\tTrain Epoch: 2 [0/419 (0%)]\tLoss: 1.116848\n",
      "\tTrain Epoch: 2 [80/419 (19%)]\tLoss: 1.522618\n",
      "\tTrain Epoch: 2 [160/419 (38%)]\tLoss: 1.405427\n",
      "\tTrain Epoch: 2 [240/419 (57%)]\tLoss: 1.292841\n",
      "\tTrain Epoch: 2 [320/419 (75%)]\tLoss: 0.998379\n",
      "\tTrain Epoch: 2 [400/419 (94%)]\tLoss: 1.219815\n",
      "\tTrain Epoch: 3 [0/419 (0%)]\tLoss: 1.102162\n",
      "\tTrain Epoch: 3 [80/419 (19%)]\tLoss: 1.497126\n",
      "\tTrain Epoch: 3 [160/419 (38%)]\tLoss: 1.337235\n",
      "\tTrain Epoch: 3 [240/419 (57%)]\tLoss: 1.259466\n",
      "\tTrain Epoch: 3 [320/419 (75%)]\tLoss: 1.042935\n",
      "\tTrain Epoch: 3 [400/419 (94%)]\tLoss: 1.108755\n",
      "\tTrain Epoch: 4 [0/419 (0%)]\tLoss: 1.096396\n",
      "\tTrain Epoch: 4 [80/419 (19%)]\tLoss: 1.370649\n",
      "\tTrain Epoch: 4 [160/419 (38%)]\tLoss: 1.272764\n",
      "\tTrain Epoch: 4 [240/419 (57%)]\tLoss: 1.243256\n",
      "\tTrain Epoch: 4 [320/419 (75%)]\tLoss: 1.167630\n",
      "\tTrain Epoch: 4 [400/419 (94%)]\tLoss: 1.029856\n",
      "\tTrain Epoch: 5 [0/419 (0%)]\tLoss: 1.124783\n",
      "\tTrain Epoch: 5 [80/419 (19%)]\tLoss: 1.203739\n",
      "\tTrain Epoch: 5 [160/419 (38%)]\tLoss: 1.254507\n",
      "\tTrain Epoch: 5 [240/419 (57%)]\tLoss: 1.198238\n",
      "\tTrain Epoch: 5 [320/419 (75%)]\tLoss: 1.212564\n",
      "\tTrain Epoch: 5 [400/419 (94%)]\tLoss: 0.988254\n",
      "\tTrain Epoch: 6 [0/419 (0%)]\tLoss: 1.110744\n",
      "\tTrain Epoch: 6 [80/419 (19%)]\tLoss: 1.021702\n",
      "\tTrain Epoch: 6 [160/419 (38%)]\tLoss: 1.198841\n",
      "\tTrain Epoch: 6 [240/419 (57%)]\tLoss: 1.024189\n",
      "\tTrain Epoch: 6 [320/419 (75%)]\tLoss: 1.286711\n",
      "\tTrain Epoch: 6 [400/419 (94%)]\tLoss: 0.919410\n",
      "\tTrain Epoch: 7 [0/419 (0%)]\tLoss: 1.056531\n",
      "\tTrain Epoch: 7 [80/419 (19%)]\tLoss: 0.794054\n",
      "\tTrain Epoch: 7 [160/419 (38%)]\tLoss: 1.126455\n",
      "\tTrain Epoch: 7 [240/419 (57%)]\tLoss: 0.873194\n",
      "\tTrain Epoch: 7 [320/419 (75%)]\tLoss: 1.322849\n",
      "\tTrain Epoch: 7 [400/419 (94%)]\tLoss: 0.806125\n",
      "\tTrain Epoch: 8 [0/419 (0%)]\tLoss: 1.138329\n",
      "\tTrain Epoch: 8 [80/419 (19%)]\tLoss: 0.597077\n",
      "\tTrain Epoch: 8 [160/419 (38%)]\tLoss: 0.915482\n",
      "\tTrain Epoch: 8 [240/419 (57%)]\tLoss: 0.708151\n",
      "\tTrain Epoch: 8 [320/419 (75%)]\tLoss: 1.209914\n",
      "\tTrain Epoch: 8 [400/419 (94%)]\tLoss: 0.700539\n",
      "\tTrain Epoch: 9 [0/419 (0%)]\tLoss: 1.289364\n",
      "\tTrain Epoch: 9 [80/419 (19%)]\tLoss: 0.448492\n",
      "\tTrain Epoch: 9 [160/419 (38%)]\tLoss: 0.734462\n",
      "\tTrain Epoch: 9 [240/419 (57%)]\tLoss: 0.533771\n",
      "\tTrain Epoch: 9 [320/419 (75%)]\tLoss: 1.042659\n",
      "\tTrain Epoch: 9 [400/419 (94%)]\tLoss: 0.619236\n",
      "\tTrain Epoch: 10 [0/419 (0%)]\tLoss: 1.419171\n",
      "\tTrain Epoch: 10 [80/419 (19%)]\tLoss: 0.399027\n",
      "\tTrain Epoch: 10 [160/419 (38%)]\tLoss: 0.582987\n",
      "\tTrain Epoch: 10 [240/419 (57%)]\tLoss: 0.385529\n",
      "\tTrain Epoch: 10 [320/419 (75%)]\tLoss: 1.004135\n",
      "\tTrain Epoch: 10 [400/419 (94%)]\tLoss: 0.609999\n",
      "\tTrain Epoch: 11 [0/419 (0%)]\tLoss: 1.330363\n",
      "\tTrain Epoch: 11 [80/419 (19%)]\tLoss: 0.308712\n",
      "\tTrain Epoch: 11 [160/419 (38%)]\tLoss: 0.437961\n",
      "\tTrain Epoch: 11 [240/419 (57%)]\tLoss: 0.357038\n",
      "\tTrain Epoch: 11 [320/419 (75%)]\tLoss: 0.965189\n",
      "\tTrain Epoch: 11 [400/419 (94%)]\tLoss: 0.566832\n",
      "\tTrain Epoch: 12 [0/419 (0%)]\tLoss: 0.949548\n",
      "\tTrain Epoch: 12 [80/419 (19%)]\tLoss: 0.253541\n",
      "\tTrain Epoch: 12 [160/419 (38%)]\tLoss: 0.325776\n",
      "\tTrain Epoch: 12 [240/419 (57%)]\tLoss: 0.225906\n",
      "\tTrain Epoch: 12 [320/419 (75%)]\tLoss: 0.887184\n",
      "\tTrain Epoch: 12 [400/419 (94%)]\tLoss: 0.502414\n",
      "\tTrain Epoch: 13 [0/419 (0%)]\tLoss: 0.646963\n",
      "\tTrain Epoch: 13 [80/419 (19%)]\tLoss: 0.234950\n",
      "\tTrain Epoch: 13 [160/419 (38%)]\tLoss: 0.217348\n",
      "\tTrain Epoch: 13 [240/419 (57%)]\tLoss: 0.203067\n"
     ]
    }
   ],
   "source": [
    "from Regard import ML\n",
    "ml = ML(args)\n",
    "\n",
    "import os\n",
    "import torch\n",
    "if os.path.isfile(path):\n",
    "    ml.model.load_state_dict(torch.load(path))\n",
    "    print('Loading file', path)\n",
    "else:\n",
    "    print('Training model...')\n",
    "    ml.main()\n",
    "    torch.save(ml.model.state_dict(), path) #save the neural network state\n",
    "    print('Model saved at', path)"
   ]
  },
  {
   "cell_type": "markdown",
   "metadata": {},
   "source": [
    "## testing the model"
   ]
  },
  {
   "cell_type": "code",
   "execution_count": null,
   "metadata": {
    "ExecuteTime": {
     "start_time": "2018-05-28T11:54:36.320Z"
    }
   },
   "outputs": [],
   "source": [
    "Accuracy = ml.test()"
   ]
  }
 ],
 "metadata": {
  "kernel_info": {
   "name": "python3"
  },
  "kernelspec": {
   "display_name": "Python 3",
   "language": "python",
   "name": "python3"
  },
  "language_info": {
   "codemirror_mode": {
    "name": "ipython",
    "version": 3
   },
   "file_extension": ".py",
   "mimetype": "text/x-python",
   "name": "python",
   "nbconvert_exporter": "python",
   "pygments_lexer": "ipython3",
   "version": "3.6.5"
  },
  "nteract": {
   "version": "0.8.4"
  },
  "toc": {
   "base_numbering": 1,
   "nav_menu": {},
   "number_sections": true,
   "sideBar": true,
   "skip_h1_title": false,
   "title_cell": "Table of Contents",
   "title_sidebar": "Contents",
   "toc_cell": false,
   "toc_position": {},
   "toc_section_display": "block",
   "toc_window_display": false
  }
 },
 "nbformat": 4,
 "nbformat_minor": 2
}
