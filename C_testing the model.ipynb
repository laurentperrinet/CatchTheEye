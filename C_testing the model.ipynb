{
 "cells": [
  {
   "cell_type": "code",
   "execution_count": null,
   "metadata": {
    "ExecuteTime": {
     "end_time": "2018-10-24T14:40:55.788664Z",
     "start_time": "2018-10-24T14:40:55.768037Z"
    }
   },
   "outputs": [],
   "source": [
    "%load_ext autoreload\n",
    "%autoreload 2"
   ]
  },
  {
   "cell_type": "code",
   "execution_count": null,
   "metadata": {
    "ExecuteTime": {
     "end_time": "2018-10-24T14:40:56.863359Z",
     "start_time": "2018-10-24T14:40:55.790453Z"
    }
   },
   "outputs": [],
   "source": [
    "%load_ext version_information\n",
    "%version_information numpy, dlib, matplotlib, imageio, gaze, torch, torchvision"
   ]
  },
  {
   "cell_type": "markdown",
   "metadata": {},
   "source": [
    "## loading the model"
   ]
  },
  {
   "cell_type": "code",
   "execution_count": null,
   "metadata": {
    "ExecuteTime": {
     "end_time": "2018-10-24T14:40:56.919439Z",
     "start_time": "2018-10-24T14:40:56.866640Z"
    }
   },
   "outputs": [],
   "source": [
    "from gaze import init, ML\n",
    "args = init(no_cuda=True, batch_size=64, verbose=0)\n",
    "ml = ML(args)\n",
    "path = '_Regard_400.pt'\n",
    "ml.train(path=path)"
   ]
  },
  {
   "cell_type": "code",
   "execution_count": null,
   "metadata": {
    "ExecuteTime": {
     "end_time": "2018-10-24T14:40:56.947220Z",
     "start_time": "2018-10-24T14:40:56.922520Z"
    }
   },
   "outputs": [],
   "source": [
    "ml.device"
   ]
  },
  {
   "cell_type": "markdown",
   "metadata": {},
   "source": [
    "## running the forward model on the extracted faces"
   ]
  },
  {
   "cell_type": "code",
   "execution_count": null,
   "metadata": {
    "ExecuteTime": {
     "end_time": "2018-10-24T14:40:57.809428Z",
     "start_time": "2018-10-24T14:40:56.949862Z"
    }
   },
   "outputs": [],
   "source": [
    "%matplotlib inline\n",
    "fig, ax =  ml.dataset.show()"
   ]
  },
  {
   "cell_type": "code",
   "execution_count": null,
   "metadata": {
    "ExecuteTime": {
     "end_time": "2018-10-24T14:41:06.732922Z",
     "start_time": "2018-10-24T14:40:57.811662Z"
    }
   },
   "outputs": [],
   "source": [
    "for batch_idx, (data, target) in enumerate(ml.dataset.train_loader):\n",
    "    data, target = data.to(ml.device), target.to(ml.device)\n",
    "    output = ml.model(data)"
   ]
  },
  {
   "cell_type": "markdown",
   "metadata": {},
   "source": [
    "## testing the model"
   ]
  },
  {
   "cell_type": "code",
   "execution_count": null,
   "metadata": {
    "ExecuteTime": {
     "end_time": "2018-10-24T14:41:08.892517Z",
     "start_time": "2018-10-24T14:41:06.735700Z"
    }
   },
   "outputs": [],
   "source": [
    "Accuracy = ml.test()\n",
    "print('Accuracy={:.1f}%'.format(Accuracy*100))"
   ]
  },
  {
   "cell_type": "code",
   "execution_count": null,
   "metadata": {
    "ExecuteTime": {
     "end_time": "2018-10-24T14:41:09.169166Z",
     "start_time": "2018-10-24T14:41:08.895178Z"
    }
   },
   "outputs": [],
   "source": [
    "data, labels = next(iter(ml.dataset.train_loader))\n",
    "print(' '.join('%5s' % ml.dataset.dataset.classes[labels[j]] for j in range(ml.args.batch_size)))"
   ]
  },
  {
   "cell_type": "code",
   "execution_count": null,
   "metadata": {
    "ExecuteTime": {
     "end_time": "2018-10-24T14:41:09.396421Z",
     "start_time": "2018-10-24T14:41:09.172034Z"
    },
    "scrolled": false
   },
   "outputs": [],
   "source": [
    "fig, ax = ml.show(only_wrong=True)"
   ]
  },
  {
   "cell_type": "markdown",
   "metadata": {},
   "source": [
    "modification gaze.py ligne 343"
   ]
  },
  {
   "cell_type": "code",
   "execution_count": null,
   "metadata": {
    "ExecuteTime": {
     "end_time": "2018-10-24T14:41:09.485745Z",
     "start_time": "2018-10-24T14:41:09.399380Z"
    },
    "scrolled": true
   },
   "outputs": [],
   "source": [
    "fig, ax = ml.show(only_wrong=False)"
   ]
  },
  {
   "cell_type": "markdown",
   "metadata": {},
   "source": [
    "## cross-validation"
   ]
  },
  {
   "cell_type": "code",
   "execution_count": null,
   "metadata": {
    "ExecuteTime": {
     "end_time": "2018-10-24T16:09:32.058773Z",
     "start_time": "2018-10-24T14:41:09.488068Z"
    }
   },
   "outputs": [],
   "source": [
    "import os\n",
    "fname = 'figures/accuracy'\n",
    "if not os.path.exists(fname + '.pdf'):\n",
    "    args = init(verbose=0, log_interval=0, epochs=20)\n",
    "    args['N_cv'] = 5 # 20\n",
    "    from gaze import MetaML\n",
    "    mml = MetaML(args)\n",
    "    Accuracy = mml.protocol(args, 42)\n",
    "    print('Accuracy', Accuracy[:-1].mean(), '+/-', Accuracy[:-1].std())\n",
    "\n",
    "    %matplotlib inline\n",
    "    import matplotlib.pyplot as plt\n",
    "    import numpy as np\n",
    "    fig, ax = plt.subplots(figsize=((8, 5)))\n",
    "    n, bins, patches = ax.hist(Accuracy[:-1]*100, bins=np.linspace(0, 100, 100), alpha=.4)\n",
    "    ax.vlines(np.median(Accuracy[:-1])*100, 0, n.max(), 'g', linestyles='dashed', label='median')\n",
    "    ax.vlines(25, 0, n.max(), 'r', linestyles='dashed', label='chance level')\n",
    "    ax.vlines(100, 0, n.max(), 'k', label='max')\n",
    "    ax.set_xlabel('Accuracy (%)')\n",
    "    ax.set_ylabel('Smarts')\n",
    "    ax.legend(loc='best')\n",
    "    #plt.show() \n",
    "    for ext in ['.pdf', '.png']:\n",
    "        plt.savefig(fname + ext)"
   ]
  },
  {
   "cell_type": "code",
   "execution_count": null,
   "metadata": {
    "ExecuteTime": {
     "end_time": "2018-10-25T05:30:29.336007Z",
     "start_time": "2018-10-25T05:30:29.295542Z"
    }
   },
   "outputs": [],
   "source": [
    "from IPython.display import Image\n",
    "Image(filename=fname + '.png') "
   ]
  },
  {
   "cell_type": "raw",
   "metadata": {
    "ExecuteTime": {
     "end_time": "2018-10-25T05:30:45.616872Z",
     "start_time": "2018-10-25T05:30:45.464261Z"
    }
   },
   "source": [
    "%rm {fname + '.pdf'}"
   ]
  }
 ],
 "metadata": {
  "kernel_info": {
   "name": "python3"
  },
  "kernelspec": {
   "display_name": "Python 3",
   "language": "python",
   "name": "python3"
  },
  "language_info": {
   "codemirror_mode": {
    "name": "ipython",
    "version": 3
   },
   "file_extension": ".py",
   "mimetype": "text/x-python",
   "name": "python",
   "nbconvert_exporter": "python",
   "pygments_lexer": "ipython3",
   "version": "3.6.8"
  },
  "nteract": {
   "version": "0.8.4"
  },
  "toc": {
   "base_numbering": 1,
   "nav_menu": {},
   "number_sections": true,
   "sideBar": true,
   "skip_h1_title": false,
   "title_cell": "Table of Contents",
   "title_sidebar": "Contents",
   "toc_cell": false,
   "toc_position": {},
   "toc_section_display": "block",
   "toc_window_display": false
  }
 },
 "nbformat": 4,
 "nbformat_minor": 2
}
