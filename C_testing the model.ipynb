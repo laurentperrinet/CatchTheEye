{
 "cells": [
  {
   "cell_type": "code",
   "execution_count": 15,
   "metadata": {
    "ExecuteTime": {
     "end_time": "2018-10-19T13:03:16.338923Z",
     "start_time": "2018-10-19T13:03:16.225528Z"
    }
   },
   "outputs": [
    {
     "name": "stdout",
     "output_type": "stream",
     "text": [
      "The autoreload extension is already loaded. To reload it, use:\n",
      "  %reload_ext autoreload\n"
     ]
    }
   ],
   "source": [
    "%load_ext autoreload\n",
    "%autoreload 2"
   ]
  },
  {
   "cell_type": "code",
   "execution_count": 16,
   "metadata": {
    "ExecuteTime": {
     "end_time": "2018-10-19T13:03:16.702616Z",
     "start_time": "2018-10-19T13:03:16.520337Z"
    }
   },
   "outputs": [
    {
     "name": "stdout",
     "output_type": "stream",
     "text": [
      "The version_information extension is already loaded. To reload it, use:\n",
      "  %reload_ext version_information\n"
     ]
    },
    {
     "data": {
      "application/json": {
       "Software versions": [
        {
         "module": "Python",
         "version": "3.6.5 64bit [GCC 4.2.1 Compatible Apple LLVM 9.1.0 (clang-902.0.39.2)]"
        },
        {
         "module": "IPython",
         "version": "7.0.1"
        },
        {
         "module": "OS",
         "version": "Darwin 18.0.0 x86_64 i386 64bit"
        },
        {
         "module": "numpy",
         "version": "1.15.2"
        },
        {
         "module": "dlib",
         "version": "19.16.0"
        },
        {
         "module": "matplotlib",
         "version": "3.0.0"
        },
        {
         "module": "imageio",
         "version": "2.4.1"
        },
        {
         "module": "gaze",
         "version": "The 'gaze' distribution was not found and is required by the application"
        },
        {
         "module": "torch",
         "version": "0.4.1"
        },
        {
         "module": "torchvision",
         "version": "0.2.1"
        }
       ]
      },
      "text/html": [
       "<table><tr><th>Software</th><th>Version</th></tr><tr><td>Python</td><td>3.6.5 64bit [GCC 4.2.1 Compatible Apple LLVM 9.1.0 (clang-902.0.39.2)]</td></tr><tr><td>IPython</td><td>7.0.1</td></tr><tr><td>OS</td><td>Darwin 18.0.0 x86_64 i386 64bit</td></tr><tr><td>numpy</td><td>1.15.2</td></tr><tr><td>dlib</td><td>19.16.0</td></tr><tr><td>matplotlib</td><td>3.0.0</td></tr><tr><td>imageio</td><td>2.4.1</td></tr><tr><td>gaze</td><td>The 'gaze' distribution was not found and is required by the application</td></tr><tr><td>torch</td><td>0.4.1</td></tr><tr><td>torchvision</td><td>0.2.1</td></tr><tr><td colspan='2'>Fri Oct 19 15:03:16 2018 CEST</td></tr></table>"
      ],
      "text/latex": [
       "\\begin{tabular}{|l|l|}\\hline\n",
       "{\\bf Software} & {\\bf Version} \\\\ \\hline\\hline\n",
       "Python & 3.6.5 64bit [GCC 4.2.1 Compatible Apple LLVM 9.1.0 (clang-902.0.39.2)] \\\\ \\hline\n",
       "IPython & 7.0.1 \\\\ \\hline\n",
       "OS & Darwin 18.0.0 x86\\_64 i386 64bit \\\\ \\hline\n",
       "numpy & 1.15.2 \\\\ \\hline\n",
       "dlib & 19.16.0 \\\\ \\hline\n",
       "matplotlib & 3.0.0 \\\\ \\hline\n",
       "imageio & 2.4.1 \\\\ \\hline\n",
       "gaze & The 'gaze' distribution was not found and is required by the application \\\\ \\hline\n",
       "torch & 0.4.1 \\\\ \\hline\n",
       "torchvision & 0.2.1 \\\\ \\hline\n",
       "\\hline \\multicolumn{2}{|l|}{Fri Oct 19 15:03:16 2018 CEST} \\\\ \\hline\n",
       "\\end{tabular}\n"
      ],
      "text/plain": [
       "Software versions\n",
       "Python 3.6.5 64bit [GCC 4.2.1 Compatible Apple LLVM 9.1.0 (clang-902.0.39.2)]\n",
       "IPython 7.0.1\n",
       "OS Darwin 18.0.0 x86_64 i386 64bit\n",
       "numpy 1.15.2\n",
       "dlib 19.16.0\n",
       "matplotlib 3.0.0\n",
       "imageio 2.4.1\n",
       "gaze The 'gaze' distribution was not found and is required by the application\n",
       "torch 0.4.1\n",
       "torchvision 0.2.1\n",
       "Fri Oct 19 15:03:16 2018 CEST"
      ]
     },
     "execution_count": 16,
     "metadata": {},
     "output_type": "execute_result"
    }
   ],
   "source": [
    "%load_ext version_information\n",
    "%version_information numpy, dlib, matplotlib, imageio, gaze, torch, torchvision"
   ]
  },
  {
   "cell_type": "markdown",
   "metadata": {},
   "source": [
    "## loading the model"
   ]
  },
  {
   "cell_type": "code",
   "execution_count": null,
   "metadata": {
    "ExecuteTime": {
     "start_time": "2018-10-19T13:03:17.440Z"
    }
   },
   "outputs": [
    {
     "name": "stdout",
     "output_type": "stream",
     "text": [
      "Training model...\n"
     ]
    }
   ],
   "source": [
    "from gaze import init, ML\n",
    "args = init(no_cuda=True, batch_size=64, verbose=0)\n",
    "ml = ML(args)\n",
    "path = '_Regard.pt'\n",
    "ml.train(path=path)"
   ]
  },
  {
   "cell_type": "code",
   "execution_count": null,
   "metadata": {
    "ExecuteTime": {
     "start_time": "2018-10-19T13:03:18.040Z"
    }
   },
   "outputs": [],
   "source": [
    "ml.device"
   ]
  },
  {
   "cell_type": "markdown",
   "metadata": {},
   "source": [
    "## running the forward model on the extracted faces"
   ]
  },
  {
   "cell_type": "code",
   "execution_count": null,
   "metadata": {
    "ExecuteTime": {
     "start_time": "2018-10-19T13:03:19.392Z"
    }
   },
   "outputs": [],
   "source": [
    "%matplotlib inline\n",
    "fig, ax =  ml.dataset.show()"
   ]
  },
  {
   "cell_type": "code",
   "execution_count": 6,
   "metadata": {
    "ExecuteTime": {
     "end_time": "2018-10-16T12:35:54.941997Z",
     "start_time": "2018-10-16T12:35:20.216671Z"
    }
   },
   "outputs": [],
   "source": [
    "for batch_idx, (data, target) in enumerate(ml.dataset.train_loader):\n",
    "    data, target = data.to(ml.device), target.to(ml.device)\n",
    "    output = ml.model(data)"
   ]
  },
  {
   "cell_type": "markdown",
   "metadata": {},
   "source": [
    "## testing the model"
   ]
  },
  {
   "cell_type": "code",
   "execution_count": 7,
   "metadata": {
    "ExecuteTime": {
     "end_time": "2018-10-16T12:36:05.123363Z",
     "start_time": "2018-10-16T12:35:54.949349Z"
    }
   },
   "outputs": [
    {
     "name": "stdout",
     "output_type": "stream",
     "text": [
      "Accuracy=90.8%\n"
     ]
    }
   ],
   "source": [
    "Accuracy = ml.test()\n",
    "print('Accuracy={:.1f}%'.format(Accuracy*100))"
   ]
  },
  {
   "cell_type": "code",
   "execution_count": 8,
   "metadata": {
    "ExecuteTime": {
     "end_time": "2018-10-16T12:36:06.511254Z",
     "start_time": "2018-10-16T12:36:05.128141Z"
    }
   },
   "outputs": [
    {
     "name": "stdout",
     "output_type": "stream",
     "text": [
      " left right right right right  left  left blink  left  left blink  left  left blink center center blink right center  left blink right  left  left blink  left blink right center blink  left blink right right right right blink blink blink  left center right blink center blink  left blink  left blink center  left blink right blink right right  left  left center right right right center center\n"
     ]
    }
   ],
   "source": [
    "data, labels = next(iter(ml.dataset.train_loader))\n",
    "print(' '.join('%5s' % ml.dataset.dataset.classes[labels[j]] for j in range(ml.args.batch_size)))"
   ]
  },
  {
   "cell_type": "code",
   "execution_count": 9,
   "metadata": {
    "ExecuteTime": {
     "end_time": "2018-10-16T12:36:06.854431Z",
     "start_time": "2018-10-16T12:36:06.517796Z"
    },
    "scrolled": true
   },
   "outputs": [],
   "source": [
    "fig, ax = ml.show(only_wrong=True)"
   ]
  },
  {
   "cell_type": "code",
   "execution_count": 10,
   "metadata": {
    "ExecuteTime": {
     "end_time": "2018-10-16T12:36:07.155641Z",
     "start_time": "2018-10-16T12:36:06.859656Z"
    },
    "scrolled": true
   },
   "outputs": [],
   "source": [
    "fig, ax = ml.show(only_wrong=False)"
   ]
  },
  {
   "cell_type": "markdown",
   "metadata": {},
   "source": [
    "## cross-validation"
   ]
  },
  {
   "cell_type": "code",
   "execution_count": 11,
   "metadata": {
    "ExecuteTime": {
     "end_time": "2018-10-16T12:36:07.306430Z",
     "start_time": "2018-10-16T12:36:07.162629Z"
    }
   },
   "outputs": [],
   "source": [
    "import os\n",
    "fname = 'figures/accuracy'\n",
    "if not os.path.exists(fname + '.pdf'):\n",
    "    args = init(verbose=0, log_interval=0, epochs=20)\n",
    "    from gaze import MetaML\n",
    "    mml = MetaML(args)\n",
    "    Accuracy = mml.protocol(args, 42)\n",
    "    print('Accuracy', Accuracy[:-1].mean(), '+/-', Accuracy[:-1].std())\n",
    "\n",
    "    %matplotlib inline\n",
    "    import matplotlib.pyplot as plt\n",
    "    import numpy as np\n",
    "    fig, ax = plt.subplots(figsize=((8, 5)))\n",
    "    n, bins, patches = ax.hist(Accuracy[:-1]*100, bins=np.linspace(0, 100, 100), alpha=.4)\n",
    "    ax.vlines(np.median(Accuracy[:-1])*100, 0, n.max(), 'g', linestyles='dashed', label='median')\n",
    "    ax.vlines(25, 0, n.max(), 'r', linestyles='dashed', label='chance level')\n",
    "    ax.vlines(100, 0, n.max(), 'k', label='max')\n",
    "    ax.set_xlabel('Accuracy (%)')\n",
    "    ax.set_ylabel('Smarts')\n",
    "    ax.legend(loc='best')\n",
    "    plt.show() \n",
    "    for ext in ['.pdf', '.png']:\n",
    "        plt.savefig(fname + ext)"
   ]
  },
  {
   "cell_type": "code",
   "execution_count": 12,
   "metadata": {
    "ExecuteTime": {
     "end_time": "2018-10-16T12:36:07.422762Z",
     "start_time": "2018-10-16T12:36:07.311504Z"
    }
   },
   "outputs": [
    {
     "data": {
      "image/png": "[encoded data removed]",
      "text/plain": [
       "<IPython.core.display.Image object>"
      ]
     },
     "execution_count": 12,
     "metadata": {},
     "output_type": "execute_result"
    }
   ],
   "source": [
    "from IPython.display import Image\n",
    "Image(filename=fname + '.png') "
   ]
  },
  {
   "cell_type": "code",
   "execution_count": null,
   "metadata": {},
   "outputs": [],
   "source": []
  }
 ],
 "metadata": {
  "kernel_info": {
   "name": "python3"
  },
  "kernelspec": {
   "display_name": "Python 3",
   "language": "python",
   "name": "python3"
  },
  "language_info": {
   "codemirror_mode": {
    "name": "ipython",
    "version": 3
   },
   "file_extension": ".py",
   "mimetype": "text/x-python",
   "name": "python",
   "nbconvert_exporter": "python",
   "pygments_lexer": "ipython3",
   "version": "3.6.5"
  },
  "nteract": {
   "version": "0.8.4"
  },
  "toc": {
   "base_numbering": 1,
   "nav_menu": {},
   "number_sections": true,
   "sideBar": true,
   "skip_h1_title": false,
   "title_cell": "Table of Contents",
   "title_sidebar": "Contents",
   "toc_cell": false,
   "toc_position": {},
   "toc_section_display": "block",
   "toc_window_display": false
  }
 },
 "nbformat": 4,
 "nbformat_minor": 2
}
