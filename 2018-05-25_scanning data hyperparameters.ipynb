{
 "cells": [
  {
   "cell_type": "code",
   "execution_count": 1,
   "metadata": {
    "ExecuteTime": {
     "end_time": "2018-06-22T07:28:19.564328Z",
     "start_time": "2018-06-22T07:28:19.550390Z"
    }
   },
   "outputs": [],
   "source": [
    "%load_ext autoreload\n",
    "%autoreload 2"
   ]
  },
  {
   "cell_type": "markdown",
   "metadata": {},
   "source": [
    "## scanning parameters"
   ]
  },
  {
   "cell_type": "code",
   "execution_count": 2,
   "metadata": {
    "ExecuteTime": {
     "end_time": "2018-06-22T07:28:19.989983Z",
     "start_time": "2018-06-22T07:28:19.566384Z"
    }
   },
   "outputs": [],
   "source": [
    "from Regard import init, ML"
   ]
  },
  {
   "cell_type": "code",
   "execution_count": null,
   "metadata": {
    "ExecuteTime": {
     "start_time": "2018-06-22T07:28:19.537Z"
    },
    "scrolled": false
   },
   "outputs": [
    {
     "name": "stdout",
     "output_type": "stream",
     "text": [
      "scanning over fullsizes [175, 208, 247, 294, 350, 416, 494, 588, 700]\n",
      "For fullsize= 175 , Accuracy= 0.975  in  6437.419 seconds\n",
      "For fullsize= 208 , Accuracy= 0.987  in  6335.590 seconds\n",
      "For fullsize= 247 , Accuracy= 0.987  in  6607.230 seconds\n"
     ]
    }
   ],
   "source": [
    "import numpy as np \n",
    "base = 2\n",
    "N_scan = 9\n",
    "default = dict(verbose=0, log_interval=0)\n",
    "\n",
    "import time\n",
    "    \n",
    "fullsizes =  [int(k) for k in init().fullsize * np.logspace(-1, 1, N_scan, base=base)]\n",
    "print('scanning over fullsizes', fullsizes)\n",
    "\n",
    "for fullsize in fullsizes:\n",
    "    args = init(fullsize=fullsize, **default)\n",
    "    t0 = time.time()\n",
    "    ml = ML(args)\n",
    "    Accuracy = ml.protocol()\n",
    "    print ('For fullsize=', fullsize, ', Accuracy=', '%.3f' % Accuracy, ' in ', '%.3f' % (time.time() - t0), 'seconds')\n",
    "\n",
    "\n",
    "crops =  [int(k) for k in init().fullsize * np.logspace(-1, 0, N_scan, base=base)]\n",
    "print('scanning over crops', crops)\n",
    "\n",
    "for crop in crops:\n",
    "    args = init(crop=crop, **default)\n",
    "    t0 = time.time()\n",
    "    ml = ML(args)\n",
    "    Accuracy = ml.protocol()\n",
    "    print ('For crop=', crop, ', Accuracy=', '%.3f' % Accuracy, ' in ', '%.3f' % (time.time() - t0), 'seconds')\n",
    "\n",
    "\n",
    "sizes =  [int(k) for k in init().size * np.logspace(-1, 1, N_scan, base=base)]\n",
    "print('scanning over sizes', sizes)\n",
    "\n",
    "for size in sizes:\n",
    "    args = init(size=size, **default)\n",
    "    t0 = time.time()\n",
    "    ml = ML(args)\n",
    "    Accuracy = ml.protocol()\n",
    "    print ('For size=', size, ', Accuracy=', '%.3f' % Accuracy, ' in ', '%.3f' % (time.time() - t0), 'seconds')\n",
    "\n",
    "means =  init().mean * np.logspace(-1, 1, N_scan, base=base)\n",
    "print('scanning over means', means)\n",
    "\n",
    "for mean in means:\n",
    "    args = init(mean=mean, **default)\n",
    "    t0 = time.time()\n",
    "    ml = ML(args)\n",
    "    Accuracy = ml.protocol()\n",
    "    print ('For mean=', '%.3f' % mean, ', Accuracy=', '%.3f' % Accuracy, ' in ', '%.3f' % (time.time() - t0), 'seconds')\n",
    "\n",
    "\n",
    "stds =  init().std * np.logspace(-1, 1, N_scan, base=base)\n",
    "print('scanning over stds', stds)\n",
    "\n",
    "for std in stds:\n",
    "    args = init(std=std, **default)\n",
    "    t0 = time.time()\n",
    "    ml = ML(args)\n",
    "    Accuracy = ml.protocol()\n",
    "    print ('For std=', '%.3f' % std, ', Accuracy=', '%.3f' % Accuracy, ' in ', '%.3f' % (time.time() - t0), 'seconds')\n",
    "\n",
    "\n",
    "    "
   ]
  }
 ],
 "metadata": {
  "kernel_info": {
   "name": "python3"
  },
  "kernelspec": {
   "display_name": "Python 3",
   "language": "python",
   "name": "python3"
  },
  "language_info": {
   "codemirror_mode": {
    "name": "ipython",
    "version": 3
   },
   "file_extension": ".py",
   "mimetype": "text/x-python",
   "name": "python",
   "nbconvert_exporter": "python",
   "pygments_lexer": "ipython3",
   "version": "3.6.5"
  },
  "nteract": {
   "version": "0.8.4"
  },
  "toc": {
   "base_numbering": 1,
   "nav_menu": {},
   "number_sections": true,
   "sideBar": true,
   "skip_h1_title": false,
   "title_cell": "Table of Contents",
   "title_sidebar": "Contents",
   "toc_cell": false,
   "toc_position": {},
   "toc_section_display": "block",
   "toc_window_display": false
  }
 },
 "nbformat": 4,
 "nbformat_minor": 2
}
