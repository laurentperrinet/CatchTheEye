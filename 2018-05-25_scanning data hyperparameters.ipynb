{
 "cells": [
  {
   "cell_type": "code",
   "execution_count": 1,
   "metadata": {
    "ExecuteTime": {
     "end_time": "2018-05-25T14:58:03.578202Z",
     "start_time": "2018-05-25T14:58:03.554522Z"
    }
   },
   "outputs": [],
   "source": [
    "%load_ext autoreload\n",
    "%autoreload 2"
   ]
  },
  {
   "cell_type": "code",
   "execution_count": 2,
   "metadata": {
    "ExecuteTime": {
     "end_time": "2018-05-25T14:58:03.895782Z",
     "start_time": "2018-05-25T14:58:03.581628Z"
    }
   },
   "outputs": [],
   "source": [
    "%matplotlib inline\n"
   ]
  },
  {
   "cell_type": "markdown",
   "metadata": {},
   "source": [
    "## scanning parameters"
   ]
  },
  {
   "cell_type": "code",
   "execution_count": 3,
   "metadata": {
    "ExecuteTime": {
     "end_time": "2018-05-25T15:02:14.175522Z",
     "start_time": "2018-05-25T14:58:03.898474Z"
    },
    "scrolled": false
   },
   "outputs": [
    {
     "name": "stdout",
     "output_type": "stream",
     "text": [
      "scanning over crops [128, 256, 512]\n",
      "For crop= 128 , Accuracy= 0.4400871459694989\n",
      "For crop= 256 , Accuracy= 0.4400871459694989\n",
      "For crop= 512 , Accuracy= 0.4400871459694989\n",
      "scanning over means [0.25 0.5  1.  ]\n",
      "For mean= 0.25 , Accuracy= 0.43137254901960786\n",
      "For mean= 0.5 , Accuracy= 0.4400871459694989\n",
      "For mean= 1.0 , Accuracy= 0.43137254901960786\n",
      "scanning over stds [0.125 0.25  0.5  ]\n",
      "For std= 0.125 , Accuracy= 0.44880174291938996\n",
      "For std= 0.25 , Accuracy= 0.4400871459694989\n",
      "For std= 0.5 , Accuracy= 0.43137254901960786\n",
      "scanning over sizes [128, 256, 512]\n",
      "For size= 128 , Accuracy= 0.4400871459694989\n",
      "For size= 256 , Accuracy= 0.4400871459694989\n",
      "For size= 512 , Accuracy= 0.4400871459694989\n"
     ]
    }
   ],
   "source": [
    "import numpy as np \n",
    "base = 4\n",
    "N_scan = 3\n",
    "default = dict(verbose=0, log_interval=0, epochs=2)\n",
    "\n",
    "\n",
    "from Regard import init, ML\n",
    "\n",
    "crops =  [int(k) for k in init().crop * np.logspace(-1, 1, N_scan, base=base)]\n",
    "print('scanning over crops', crops)\n",
    "\n",
    "for crop in crops:\n",
    "    args = init(crop=crop, **default)\n",
    "    ml = ML(args)\n",
    "    Accuracy = ml.protocol()\n",
    "    print ('For crop=', crop, ', Accuracy=', Accuracy)\n",
    "\n",
    "\n",
    "means =  init().mean * np.logspace(-1, 1, N_scan, base=base)\n",
    "print('scanning over means', means)\n",
    "\n",
    "for mean in means:\n",
    "    args = init(mean=mean, **default)\n",
    "    ml = ML(args)\n",
    "    Accuracy = ml.protocol()\n",
    "    print ('For mean=', mean, ', Accuracy=', Accuracy)\n",
    "\n",
    "\n",
    "stds =  init().std * np.logspace(-1, 1, N_scan, base=base)\n",
    "print('scanning over stds', stds)\n",
    "\n",
    "for std in stds:\n",
    "    args = init(std=std, **default)\n",
    "    ml = ML(args)\n",
    "    Accuracy = ml.protocol()\n",
    "    print ('For std=', std, ', Accuracy=', Accuracy)\n",
    "\n",
    "sizes =  [int(k) for k in init().crop * np.logspace(-1, 1, N_scan, base=base)]\n",
    "print('scanning over sizes', sizes)\n",
    "\n",
    "for size in sizes:\n",
    "    args = init(size=size, **default)\n",
    "    ml = ML(args)\n",
    "    Accuracy = ml.protocol()\n",
    "    print ('For size=', size, ', Accuracy=', Accuracy)\n",
    "\n",
    "\n",
    "    "
   ]
  },
  {
   "cell_type": "code",
   "execution_count": null,
   "metadata": {},
   "outputs": [],
   "source": []
  }
 ],
 "metadata": {
  "kernelspec": {
   "display_name": "Python 3",
   "language": "python",
   "name": "python3"
  },
  "language_info": {
   "codemirror_mode": {
    "name": "ipython",
    "version": 3
   },
   "file_extension": ".py",
   "mimetype": "text/x-python",
   "name": "python",
   "nbconvert_exporter": "python",
   "pygments_lexer": "ipython3",
   "version": "3.6.5"
  },
  "toc": {
   "base_numbering": 1,
   "nav_menu": {},
   "number_sections": true,
   "sideBar": true,
   "skip_h1_title": false,
   "title_cell": "Table of Contents",
   "title_sidebar": "Contents",
   "toc_cell": false,
   "toc_position": {},
   "toc_section_display": "block",
   "toc_window_display": false
  }
 },
 "nbformat": 4,
 "nbformat_minor": 2
}
