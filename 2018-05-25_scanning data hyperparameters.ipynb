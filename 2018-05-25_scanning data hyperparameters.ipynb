{
 "cells": [
  {
   "cell_type": "code",
   "execution_count": 1,
   "metadata": {
    "ExecuteTime": {
     "end_time": "2018-06-26T10:39:47.062135Z",
     "start_time": "2018-06-26T10:39:47.028530Z"
    }
   },
   "outputs": [],
   "source": [
    "%load_ext autoreload\n",
    "%autoreload 2"
   ]
  },
  {
   "cell_type": "markdown",
   "metadata": {},
   "source": [
    "## scanning parameters"
   ]
  },
  {
   "cell_type": "code",
   "execution_count": 2,
   "metadata": {
    "ExecuteTime": {
     "end_time": "2018-06-26T10:39:48.101213Z",
     "start_time": "2018-06-26T10:39:47.067754Z"
    }
   },
   "outputs": [],
   "source": [
    "from Regard import init, ML"
   ]
  },
  {
   "cell_type": "code",
   "execution_count": null,
   "metadata": {
    "ExecuteTime": {
     "start_time": "2018-06-26T10:39:46.997Z"
    },
    "scrolled": false
   },
   "outputs": [
    {
     "name": "stdout",
     "output_type": "stream",
     "text": [
      "scanning over fullsizes [175, 208, 247, 294, 350, 416, 494, 588, 700]\n",
      "For fullsize= 175 , Accuracy= 0.962  in  7835.205 seconds\n",
      "For fullsize= 208 , Accuracy= 0.931  in  8187.885 seconds\n",
      "For fullsize= 247 , Accuracy= 0.969  in  8221.827 seconds\n",
      "For fullsize= 294 , Accuracy= 0.943  in  7928.758 seconds\n",
      "For fullsize= 350 , Accuracy= 0.937  in  7725.981 seconds\n",
      "For fullsize= 416 , Accuracy= 0.956  in  7324.083 seconds\n",
      "For fullsize= 494 , Accuracy= 0.969  in  7292.229 seconds\n",
      "For fullsize= 588 , Accuracy= 0.962  in  7252.396 seconds\n",
      "For fullsize= 700 , Accuracy= 0.943  in  7307.291 seconds\n",
      "scanning over crops [175, 190, 208, 226, 247, 269, 294, 320, 350]\n",
      "For crop= 175 , Accuracy= 0.943  in  7335.982 seconds\n",
      "For crop= 190 , Accuracy= 0.956  in  7152.767 seconds\n",
      "For crop= 208 , Accuracy= 0.962  in  7136.128 seconds\n",
      "For crop= 226 , Accuracy= 0.975  in  7222.125 seconds\n",
      "For crop= 247 , Accuracy= 0.975  in  7161.476 seconds\n",
      "For crop= 269 , Accuracy= 0.956  in  7096.424 seconds\n",
      "For crop= 294 , Accuracy= 0.943  in  7123.732 seconds\n",
      "For crop= 320 , Accuracy= 0.937  in  7193.180 seconds\n",
      "For crop= 350 , Accuracy= 0.950  in  7166.344 seconds\n",
      "scanning over sizes [140, 166, 197, 235, 280, 332, 395, 470, 560]\n",
      "For size= 140 , Accuracy= 0.962  in  1505.832 seconds\n",
      "For size= 166 , Accuracy= 0.956  in  2324.029 seconds\n",
      "For size= 197 , Accuracy= 0.956  in  3550.480 seconds\n",
      "For size= 235 , Accuracy= 0.950  in  5068.622 seconds\n",
      "For size= 280 , Accuracy= 0.937  in  6841.018 seconds\n",
      "For size= 332 , Accuracy= 0.943  in  9887.463 seconds\n",
      "For size= 395 , Accuracy= 0.937  in  15925.406 seconds\n",
      "For size= 470 , Accuracy= 0.943  in  22457.627 seconds\n",
      "For size= 560 , Accuracy= 0.906  in  31261.735 seconds\n",
      "scanning over means [0.18       0.21405728 0.25455844 0.30272271 0.36       0.42811456\n",
      " 0.50911688 0.60544542 0.72      ]\n",
      "For mean= 0.180 , Accuracy= 0.925  in  6662.626 seconds\n",
      "For mean= 0.214 , Accuracy= 0.937  in  6688.031 seconds\n",
      "For mean= 0.255 , Accuracy= 0.943  in  6705.185 seconds\n",
      "For mean= 0.303 , Accuracy= 0.943  in  6667.581 seconds\n",
      "For mean= 0.360 , Accuracy= 0.937  in  6962.886 seconds\n"
     ]
    }
   ],
   "source": [
    "import numpy as np \n",
    "base = 2\n",
    "N_scan = 9\n",
    "default = dict(verbose=0, log_interval=0)\n",
    "\n",
    "import time\n",
    "    \n",
    "fullsizes =  [int(k) for k in init().fullsize * np.logspace(-1, 1, N_scan, base=base)]\n",
    "print('scanning over fullsizes', fullsizes)\n",
    "\n",
    "for fullsize in fullsizes:\n",
    "    args = init(fullsize=fullsize, **default)\n",
    "    t0 = time.time()\n",
    "    ml = ML(args)\n",
    "    Accuracy = ml.protocol()\n",
    "    print ('For fullsize=', fullsize, ', Accuracy=', '%.3f' % Accuracy, ' in ', '%.3f' % (time.time() - t0), 'seconds')\n",
    "\n",
    "\n",
    "crops =  [int(k) for k in init().fullsize * np.logspace(-1, 0, N_scan, base=base)]\n",
    "print('scanning over crops', crops)\n",
    "\n",
    "for crop in crops:\n",
    "    args = init(crop=crop, **default)\n",
    "    t0 = time.time()\n",
    "    ml = ML(args)\n",
    "    Accuracy = ml.protocol()\n",
    "    print ('For crop=', crop, ', Accuracy=', '%.3f' % Accuracy, ' in ', '%.3f' % (time.time() - t0), 'seconds')\n",
    "\n",
    "\n",
    "sizes =  [int(k) for k in init().size * np.logspace(-1, 1, N_scan, base=base)]\n",
    "print('scanning over sizes', sizes)\n",
    "\n",
    "for size in sizes:\n",
    "    args = init(size=size, **default)\n",
    "    t0 = time.time()\n",
    "    ml = ML(args)\n",
    "    Accuracy = ml.protocol()\n",
    "    print ('For size=', size, ', Accuracy=', '%.3f' % Accuracy, ' in ', '%.3f' % (time.time() - t0), 'seconds')\n",
    "\n",
    "means =  init().mean * np.logspace(-1, 1, N_scan, base=base)\n",
    "print('scanning over means', means)\n",
    "\n",
    "for mean in means:\n",
    "    args = init(mean=mean, **default)\n",
    "    t0 = time.time()\n",
    "    ml = ML(args)\n",
    "    Accuracy = ml.protocol()\n",
    "    print ('For mean=', '%.3f' % mean, ', Accuracy=', '%.3f' % Accuracy, ' in ', '%.3f' % (time.time() - t0), 'seconds')\n",
    "\n",
    "\n",
    "stds =  init().std * np.logspace(-1, 1, N_scan, base=base)\n",
    "print('scanning over stds', stds)\n",
    "\n",
    "for std in stds:\n",
    "    args = init(std=std, **default)\n",
    "    t0 = time.time()\n",
    "    ml = ML(args)\n",
    "    Accuracy = ml.protocol()\n",
    "    print ('For std=', '%.3f' % std, ', Accuracy=', '%.3f' % Accuracy, ' in ', '%.3f' % (time.time() - t0), 'seconds')\n",
    "\n",
    "\n",
    "    "
   ]
  }
 ],
 "metadata": {
  "kernel_info": {
   "name": "python3"
  },
  "kernelspec": {
   "display_name": "Python 3",
   "language": "python",
   "name": "python3"
  },
  "language_info": {
   "codemirror_mode": {
    "name": "ipython",
    "version": 3
   },
   "file_extension": ".py",
   "mimetype": "text/x-python",
   "name": "python",
   "nbconvert_exporter": "python",
   "pygments_lexer": "ipython3",
   "version": "3.6.5"
  },
  "nteract": {
   "version": "0.8.4"
  },
  "toc": {
   "base_numbering": 1,
   "nav_menu": {},
   "number_sections": true,
   "sideBar": true,
   "skip_h1_title": false,
   "title_cell": "Table of Contents",
   "title_sidebar": "Contents",
   "toc_cell": false,
   "toc_position": {},
   "toc_section_display": "block",
   "toc_window_display": false
  }
 },
 "nbformat": 4,
 "nbformat_minor": 2
}
