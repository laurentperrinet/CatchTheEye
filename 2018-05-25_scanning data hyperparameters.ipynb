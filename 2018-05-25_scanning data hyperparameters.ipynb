{
  "cells": [
    {
      "cell_type": "code",
      "source": [
        "%load_ext autoreload\n",
        "%autoreload 2"
      ],
      "outputs": [],
      "execution_count": 1,
      "metadata": {
        "ExecuteTime": {
          "end_time": "2018-05-25T15:11:27.664200Z",
          "start_time": "2018-05-25T15:11:27.649720Z"
        }
      }
    },
    {
      "cell_type": "markdown",
      "source": [
        "## scanning parameters"
      ],
      "metadata": {}
    },
    {
      "cell_type": "code",
      "source": [
        "import numpy as np \n",
        "base = 4\n",
        "N_scan = 9\n",
        "default = dict(verbose=0, log_interval=0, epochs=30)\n",
        "\n\n",
        "from Regard import init, ML\n",
        "\n\n",
        "means =  init().mean * np.logspace(-1, 1, N_scan, base=base)\n",
        "print('scanning over means', means)\n",
        "\n",
        "for mean in means:\n",
        "    args = init(mean=mean, **default)\n",
        "    ml = ML(args)\n",
        "    Accuracy = ml.protocol()\n",
        "    print ('For mean=', mean, ', Accuracy=', Accuracy)\n",
        "\n\n",
        "stds =  init().std * np.logspace(-1, 1, N_scan, base=base)\n",
        "print('scanning over stds', stds)\n",
        "\n",
        "for std in stds:\n",
        "    args = init(std=std, **default)\n",
        "    ml = ML(args)\n",
        "    Accuracy = ml.protocol()\n",
        "    print ('For std=', std, ', Accuracy=', Accuracy)\n",
        "\n",
        "    \n",
        "crops =  [int(k) for k in init().crop * np.logspace(-1, 1, N_scan, base=base)]\n",
        "print('scanning over crops', crops)\n",
        "\n",
        "for crop in crops:\n",
        "    args = init(crop=crop, **default)\n",
        "    ml = ML(args)\n",
        "    Accuracy = ml.protocol()\n",
        "    print ('For crop=', crop, ', Accuracy=', Accuracy)\n",
        "\n\n",
        "sizes =  [int(k) for k in init().crop * np.logspace(-1, 1, N_scan, base=base)]\n",
        "print('scanning over sizes', sizes)\n",
        "\n",
        "for size in sizes:\n",
        "    args = init(size=size, **default)\n",
        "    ml = ML(args)\n",
        "    Accuracy = ml.protocol()\n",
        "    print ('For size=', size, ', Accuracy=', Accuracy)\n",
        "\n\n    "
      ],
      "outputs": [
        {
          "output_type": "stream",
          "name": "stdout",
          "text": [
            "scanning over means [0.075      0.10606602 0.15       0.21213203 0.3        0.42426407\n",
            " 0.6        0.84852814 1.2       ]\n",
            "For mean= 0.075 , Accuracy= 1.0\n",
            "For mean= 0.10606601717798213 , Accuracy= 1.0\n",
            "For mean= 0.15 , Accuracy= 1.0\n",
            "For mean= 0.21213203435596426 , Accuracy= 1.0\n",
            "For mean= 0.3 , Accuracy= 1.0\n",
            "For mean= 0.4242640687119285 , Accuracy= 1.0\n",
            "For mean= 0.6 , Accuracy= 1.0\n",
            "For mean= 0.848528137423857 , Accuracy= 0.43137254901960786\n",
            "For mean= 1.2 , Accuracy= 0.43137254901960786\n",
            "scanning over stds [0.15       0.21213203 0.3        0.42426407 0.6        0.84852814\n",
            " 1.2        1.69705627 2.4       ]\n",
            "For std= 0.15 , Accuracy= 1.0\n",
            "For std= 0.21213203435596426 , Accuracy= 1.0\n",
            "For std= 0.3 , Accuracy= 1.0\n",
            "For std= 0.4242640687119285 , Accuracy= 1.0\n",
            "For std= 0.6 , Accuracy= 1.0\n",
            "For std= 0.848528137423857 , Accuracy= 1.0\n",
            "For std= 1.2 , Accuracy= 1.0\n",
            "For std= 1.697056274847714 , Accuracy= 1.0\n",
            "For std= 2.4 , Accuracy= 1.0\n",
            "scanning over crops [45, 63, 90, 127, 181, 255, 362, 511, 724]\n",
            "For crop= 45 , Accuracy= 0.4749455337690632\n",
            "For crop= 63 , Accuracy= 0.5163398692810458\n",
            "For crop= 90 , Accuracy= 0.9172113289760349\n",
            "For crop= 127 , Accuracy= 1.0\n",
            "For crop= 181 , Accuracy= 1.0\n",
            "For crop= 255 , Accuracy= 1.0\n",
            "For crop= 362 , Accuracy= 1.0\n",
            "For crop= 511 , Accuracy= 1.0\n",
            "For crop= 724 , Accuracy= 1.0\n",
            "scanning over sizes [45, 63, 90, 127, 181, 255, 362, 511, 724]\n",
            "For size= 45 , Accuracy= 1.0\n",
            "For size= 63 , Accuracy= 1.0\n",
            "For size= 90 , Accuracy= 1.0\n",
            "For size= 127 , Accuracy= 1.0\n",
            "For size= 181 , Accuracy= 1.0\n",
            "For size= 255 , Accuracy= 1.0\n",
            "For size= 362 , Accuracy= 1.0\n",
            "For size= 511 , Accuracy= 1.0\n",
            "For size= 724 , Accuracy= 1.0\n"
          ]
        }
      ],
      "execution_count": 2,
      "metadata": {
        "ExecuteTime": {
          "end_time": "2018-05-25T17:13:28.356034Z",
          "start_time": "2018-05-25T15:11:27.666661Z"
        },
        "scrolled": false
      }
    },
    {
      "cell_type": "code",
      "source": [],
      "outputs": [],
      "execution_count": 3,
      "metadata": {}
    }
  ],
  "metadata": {
    "kernelspec": {
      "name": "python3",
      "language": "python",
      "display_name": "Python 3"
    },
    "language_info": {
      "name": "python",
      "version": "3.6.5",
      "mimetype": "text/x-python",
      "codemirror_mode": {
        "name": "ipython",
        "version": 3
      },
      "pygments_lexer": "ipython3",
      "nbconvert_exporter": "python",
      "file_extension": ".py"
    },
    "toc": {
      "toc_position": {},
      "skip_h1_title": false,
      "number_sections": true,
      "title_cell": "Table of Contents",
      "toc_window_display": false,
      "base_numbering": 1,
      "toc_section_display": "block",
      "title_sidebar": "Contents",
      "toc_cell": false,
      "nav_menu": {},
      "sideBar": true
    },
    "kernel_info": {
      "name": "python3"
    },
    "nteract": {
      "version": "0.8.4"
    }
  },
  "nbformat": 4,
  "nbformat_minor": 2
}