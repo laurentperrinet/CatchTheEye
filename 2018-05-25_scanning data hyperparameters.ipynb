{
 "cells": [
  {
   "cell_type": "code",
   "execution_count": 1,
   "metadata": {
    "ExecuteTime": {
     "end_time": "2018-06-12T09:16:39.918769Z",
     "start_time": "2018-06-12T09:16:39.906591Z"
    }
   },
   "outputs": [],
   "source": [
    "%load_ext autoreload\n",
    "%autoreload 2"
   ]
  },
  {
   "cell_type": "markdown",
   "metadata": {},
   "source": [
    "## scanning parameters"
   ]
  },
  {
   "cell_type": "code",
   "execution_count": 2,
   "metadata": {
    "ExecuteTime": {
     "end_time": "2018-06-13T12:09:57.123170Z",
     "start_time": "2018-06-12T09:16:39.920834Z"
    },
    "scrolled": false
   },
   "outputs": [
    {
     "name": "stdout",
     "output_type": "stream",
     "text": [
      "scanning over means [0.18       0.21405728 0.25455844 0.30272271 0.36       0.42811456\n",
      " 0.50911688 0.60544542 0.72      ]\n",
      "For mean= 0.180 , Accuracy= 0.956  in  906.625 seconds\n",
      "For mean= 0.214 , Accuracy= 0.937  in  976.883 seconds\n",
      "For mean= 0.255 , Accuracy= 0.937  in  1144.999 seconds\n",
      "For mean= 0.303 , Accuracy= 0.962  in  1248.239 seconds\n",
      "For mean= 0.360 , Accuracy= 0.962  in  1204.105 seconds\n",
      "For mean= 0.428 , Accuracy= 0.950  in  1123.147 seconds\n",
      "For mean= 0.509 , Accuracy= 0.956  in  1132.734 seconds\n",
      "For mean= 0.605 , Accuracy= 0.950  in  1098.321 seconds\n",
      "For mean= 0.720 , Accuracy= 0.956  in  1104.149 seconds\n",
      "scanning over stds [0.15       0.17838107 0.21213203 0.25226892 0.3        0.35676213\n",
      " 0.42426407 0.50453785 0.6       ]\n",
      "For std= 0.150 , Accuracy= 0.950  in  1082.275 seconds\n",
      "For std= 0.178 , Accuracy= 0.950  in  1749.981 seconds\n",
      "For std= 0.212 , Accuracy= 0.943  in  2120.680 seconds\n",
      "For std= 0.252 , Accuracy= 0.962  in  2099.690 seconds\n",
      "For std= 0.300 , Accuracy= 0.962  in  2126.021 seconds\n",
      "For std= 0.357 , Accuracy= 0.962  in  2447.171 seconds\n",
      "For std= 0.424 , Accuracy= 0.956  in  2425.770 seconds\n",
      "For std= 0.505 , Accuracy= 0.981  in  2327.590 seconds\n",
      "For std= 0.600 , Accuracy= 0.843  in  2338.352 seconds\n",
      "scanning over crops [100, 118, 141, 168, 200, 237, 282, 336, 400]\n",
      "For crop= 100 , Accuracy= 0.918  in  2321.326 seconds\n",
      "For crop= 118 , Accuracy= 0.937  in  2296.843 seconds\n",
      "For crop= 141 , Accuracy= 0.943  in  2200.554 seconds\n",
      "For crop= 168 , Accuracy= 0.950  in  2193.128 seconds\n",
      "For crop= 200 , Accuracy= 0.962  in  2200.162 seconds\n",
      "For crop= 237 , Accuracy= 0.975  in  2557.594 seconds\n",
      "For crop= 282 , Accuracy= 0.987  in  4395.759 seconds\n",
      "For crop= 336 , Accuracy= 0.969  in  4421.723 seconds\n",
      "For crop= 400 , Accuracy= 0.975  in  4518.547 seconds\n",
      "scanning over sizes [64, 76, 90, 107, 128, 152, 181, 215, 256]\n",
      "For size= 64 , Accuracy= 0.962  in  4539.295 seconds\n",
      "For size= 76 , Accuracy= 0.962  in  4541.341 seconds\n",
      "For size= 90 , Accuracy= 0.962  in  4464.897 seconds\n",
      "For size= 107 , Accuracy= 0.962  in  4491.726 seconds\n",
      "For size= 128 , Accuracy= 0.962  in  4550.812 seconds\n",
      "For size= 152 , Accuracy= 0.962  in  4519.964 seconds\n",
      "For size= 181 , Accuracy= 0.962  in  4608.908 seconds\n",
      "For size= 215 , Accuracy= 0.962  in  4657.263 seconds\n",
      "For size= 256 , Accuracy= 0.962  in  4659.588 seconds\n"
     ]
    }
   ],
   "source": [
    "import numpy as np \n",
    "base = 2\n",
    "N_scan = 9\n",
    "default = dict(verbose=0, log_interval=0)\n",
    "\n",
    "\n",
    "from Regard import init, ML\n",
    "import time\n",
    "\n",
    "means =  init().mean * np.logspace(-1, 1, N_scan, base=base)\n",
    "print('scanning over means', means)\n",
    "\n",
    "for mean in means:\n",
    "    args = init(mean=mean, **default)\n",
    "    t0 = time.time()\n",
    "    ml = ML(args)\n",
    "    Accuracy = ml.protocol()\n",
    "    print ('For mean=', '%.3f' % mean, ', Accuracy=', '%.3f' % Accuracy, ' in ', '%.3f' % (time.time() - t0), 'seconds')\n",
    "\n",
    "\n",
    "stds =  init().std * np.logspace(-1, 1, N_scan, base=base)\n",
    "print('scanning over stds', stds)\n",
    "\n",
    "for std in stds:\n",
    "    args = init(std=std, **default)\n",
    "    t0 = time.time()\n",
    "    ml = ML(args)\n",
    "    Accuracy = ml.protocol()\n",
    "    print ('For std=', '%.3f' % std, ', Accuracy=', '%.3f' % Accuracy, ' in ', '%.3f' % (time.time() - t0), 'seconds')\n",
    "\n",
    "    \n",
    "crops =  [int(k) for k in init().crop * np.logspace(-1, 1, N_scan, base=base)]\n",
    "print('scanning over crops', crops)\n",
    "\n",
    "for crop in crops:\n",
    "    args = init(crop=crop, **default)\n",
    "    t0 = time.time()\n",
    "    ml = ML(args)\n",
    "    Accuracy = ml.protocol()\n",
    "    print ('For crop=', crop, ', Accuracy=', '%.3f' % Accuracy, ' in ', '%.3f' % (time.time() - t0), 'seconds')\n",
    "\n",
    "\n",
    "sizes =  [int(k) for k in init().size * np.logspace(-1, 1, N_scan, base=base)]\n",
    "print('scanning over sizes', sizes)\n",
    "\n",
    "for size in sizes:\n",
    "    args = init(size=size, **default)\n",
    "    t0 = time.time()\n",
    "    ml = ML(args)\n",
    "    Accuracy = ml.protocol()\n",
    "    print ('For size=', size, ', Accuracy=', '%.3f' % Accuracy, ' in ', '%.3f' % (time.time() - t0), 'seconds')\n",
    "\n",
    "\n",
    "    "
   ]
  }
 ],
 "metadata": {
  "kernel_info": {
   "name": "python3"
  },
  "kernelspec": {
   "display_name": "Python 3",
   "language": "python",
   "name": "python3"
  },
  "language_info": {
   "codemirror_mode": {
    "name": "ipython",
    "version": 3
   },
   "file_extension": ".py",
   "mimetype": "text/x-python",
   "name": "python",
   "nbconvert_exporter": "python",
   "pygments_lexer": "ipython3",
   "version": "3.6.5"
  },
  "nteract": {
   "version": "0.8.4"
  },
  "toc": {
   "base_numbering": 1,
   "nav_menu": {},
   "number_sections": true,
   "sideBar": true,
   "skip_h1_title": false,
   "title_cell": "Table of Contents",
   "title_sidebar": "Contents",
   "toc_cell": false,
   "toc_position": {},
   "toc_section_display": "block",
   "toc_window_display": false
  }
 },
 "nbformat": 4,
 "nbformat_minor": 2
}
