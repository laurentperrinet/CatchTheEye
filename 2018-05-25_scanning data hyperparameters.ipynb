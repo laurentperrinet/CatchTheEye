{
 "cells": [
  {
   "cell_type": "code",
   "execution_count": 1,
   "metadata": {
    "ExecuteTime": {
     "end_time": "2018-06-22T07:28:19.564328Z",
     "start_time": "2018-06-22T07:28:19.550390Z"
    }
   },
   "outputs": [],
   "source": [
    "%load_ext autoreload\n",
    "%autoreload 2"
   ]
  },
  {
   "cell_type": "markdown",
   "metadata": {},
   "source": [
    "## scanning parameters"
   ]
  },
  {
   "cell_type": "code",
   "execution_count": 2,
   "metadata": {
    "ExecuteTime": {
     "end_time": "2018-06-22T07:28:19.989983Z",
     "start_time": "2018-06-22T07:28:19.566384Z"
    }
   },
   "outputs": [],
   "source": [
    "from Regard import init, ML"
   ]
  },
  {
   "cell_type": "code",
   "execution_count": null,
   "metadata": {
    "ExecuteTime": {
     "start_time": "2018-06-22T07:28:19.537Z"
    },
    "scrolled": false
   },
   "outputs": [
    {
     "name": "stdout",
     "output_type": "stream",
     "text": [
      "scanning over fullsizes [175, 208, 247, 294, 350, 416, 494, 588, 700]\n",
      "For fullsize= 175 , Accuracy= 0.975  in  6437.419 seconds\n",
      "For fullsize= 208 , Accuracy= 0.987  in  6335.590 seconds\n",
      "For fullsize= 247 , Accuracy= 0.987  in  6607.230 seconds\n",
      "For fullsize= 294 , Accuracy= 0.981  in  9892.482 seconds\n",
      "For fullsize= 350 , Accuracy= 0.994  in  9444.707 seconds\n",
      "For fullsize= 416 , Accuracy= 0.981  in  9521.169 seconds\n",
      "For fullsize= 494 , Accuracy= 0.975  in  9545.268 seconds\n",
      "For fullsize= 588 , Accuracy= 0.937  in  9600.580 seconds\n",
      "For fullsize= 700 , Accuracy= 0.925  in  9614.373 seconds\n",
      "scanning over crops [175, 190, 208, 226, 247, 269, 294, 320, 350]\n",
      "For crop= 175 , Accuracy= 0.950  in  9626.385 seconds\n",
      "For crop= 190 , Accuracy= 0.937  in  9586.078 seconds\n",
      "For crop= 208 , Accuracy= 0.962  in  9594.529 seconds\n",
      "For crop= 226 , Accuracy= 0.975  in  9550.627 seconds\n",
      "For crop= 247 , Accuracy= 0.975  in  9469.571 seconds\n",
      "For crop= 269 , Accuracy= 0.981  in  8393.717 seconds\n",
      "For crop= 294 , Accuracy= 0.987  in  8255.628 seconds\n",
      "For crop= 320 , Accuracy= 0.994  in  8288.979 seconds\n",
      "For crop= 350 , Accuracy= 0.987  in  8293.292 seconds\n",
      "scanning over sizes [140, 166, 197, 235, 280, 332, 395, 470, 560]\n",
      "For size= 140 , Accuracy= 0.950  in  1750.184 seconds\n",
      "For size= 166 , Accuracy= 0.943  in  2457.277 seconds\n",
      "For size= 197 , Accuracy= 0.962  in  3662.790 seconds\n",
      "For size= 235 , Accuracy= 0.969  in  5239.606 seconds\n",
      "For size= 280 , Accuracy= 0.994  in  7352.669 seconds\n",
      "For size= 332 , Accuracy= 0.975  in  10551.151 seconds\n",
      "For size= 395 , Accuracy= 0.956  in  16288.175 seconds\n",
      "For size= 470 , Accuracy= 0.950  in  22904.921 seconds\n",
      "For size= 560 , Accuracy= 0.956  in  33144.555 seconds\n",
      "scanning over means [0.18       0.21405728 0.25455844 0.30272271 0.36       0.42811456\n",
      " 0.50911688 0.60544542 0.72      ]\n",
      "For mean= 0.180 , Accuracy= 0.981  in  10074.415 seconds\n"
     ]
    }
   ],
   "source": [
    "import numpy as np \n",
    "base = 2\n",
    "N_scan = 9\n",
    "default = dict(verbose=0, log_interval=0)\n",
    "\n",
    "import time\n",
    "    \n",
    "fullsizes =  [int(k) for k in init().fullsize * np.logspace(-1, 1, N_scan, base=base)]\n",
    "print('scanning over fullsizes', fullsizes)\n",
    "\n",
    "for fullsize in fullsizes:\n",
    "    args = init(fullsize=fullsize, **default)\n",
    "    t0 = time.time()\n",
    "    ml = ML(args)\n",
    "    Accuracy = ml.protocol()\n",
    "    print ('For fullsize=', fullsize, ', Accuracy=', '%.3f' % Accuracy, ' in ', '%.3f' % (time.time() - t0), 'seconds')\n",
    "\n",
    "\n",
    "crops =  [int(k) for k in init().fullsize * np.logspace(-1, 0, N_scan, base=base)]\n",
    "print('scanning over crops', crops)\n",
    "\n",
    "for crop in crops:\n",
    "    args = init(crop=crop, **default)\n",
    "    t0 = time.time()\n",
    "    ml = ML(args)\n",
    "    Accuracy = ml.protocol()\n",
    "    print ('For crop=', crop, ', Accuracy=', '%.3f' % Accuracy, ' in ', '%.3f' % (time.time() - t0), 'seconds')\n",
    "\n",
    "\n",
    "sizes =  [int(k) for k in init().size * np.logspace(-1, 1, N_scan, base=base)]\n",
    "print('scanning over sizes', sizes)\n",
    "\n",
    "for size in sizes:\n",
    "    args = init(size=size, **default)\n",
    "    t0 = time.time()\n",
    "    ml = ML(args)\n",
    "    Accuracy = ml.protocol()\n",
    "    print ('For size=', size, ', Accuracy=', '%.3f' % Accuracy, ' in ', '%.3f' % (time.time() - t0), 'seconds')\n",
    "\n",
    "means =  init().mean * np.logspace(-1, 1, N_scan, base=base)\n",
    "print('scanning over means', means)\n",
    "\n",
    "for mean in means:\n",
    "    args = init(mean=mean, **default)\n",
    "    t0 = time.time()\n",
    "    ml = ML(args)\n",
    "    Accuracy = ml.protocol()\n",
    "    print ('For mean=', '%.3f' % mean, ', Accuracy=', '%.3f' % Accuracy, ' in ', '%.3f' % (time.time() - t0), 'seconds')\n",
    "\n",
    "\n",
    "stds =  init().std * np.logspace(-1, 1, N_scan, base=base)\n",
    "print('scanning over stds', stds)\n",
    "\n",
    "for std in stds:\n",
    "    args = init(std=std, **default)\n",
    "    t0 = time.time()\n",
    "    ml = ML(args)\n",
    "    Accuracy = ml.protocol()\n",
    "    print ('For std=', '%.3f' % std, ', Accuracy=', '%.3f' % Accuracy, ' in ', '%.3f' % (time.time() - t0), 'seconds')\n",
    "\n",
    "\n",
    "    "
   ]
  }
 ],
 "metadata": {
  "kernel_info": {
   "name": "python3"
  },
  "kernelspec": {
   "display_name": "Python 3",
   "language": "python",
   "name": "python3"
  },
  "language_info": {
   "codemirror_mode": {
    "name": "ipython",
    "version": 3
   },
   "file_extension": ".py",
   "mimetype": "text/x-python",
   "name": "python",
   "nbconvert_exporter": "python",
   "pygments_lexer": "ipython3",
   "version": "3.6.5"
  },
  "nteract": {
   "version": "0.8.4"
  },
  "toc": {
   "base_numbering": 1,
   "nav_menu": {},
   "number_sections": true,
   "sideBar": true,
   "skip_h1_title": false,
   "title_cell": "Table of Contents",
   "title_sidebar": "Contents",
   "toc_cell": false,
   "toc_position": {},
   "toc_section_display": "block",
   "toc_window_display": false
  }
 },
 "nbformat": 4,
 "nbformat_minor": 2
}
