{
 "cells": [
  {
   "cell_type": "code",
   "execution_count": 1,
   "metadata": {
    "ExecuteTime": {
     "end_time": "2018-05-25T15:11:27.664200Z",
     "start_time": "2018-05-25T15:11:27.649720Z"
    }
   },
   "outputs": [],
   "source": [
    "%load_ext autoreload\n",
    "%autoreload 2"
   ]
  },
  {
   "cell_type": "markdown",
   "metadata": {},
   "source": [
    "## scanning parameters"
   ]
  },
  {
   "cell_type": "code",
   "execution_count": 2,
   "metadata": {
    "ExecuteTime": {
     "end_time": "2018-05-25T17:13:28.356034Z",
     "start_time": "2018-05-25T15:11:27.666661Z"
    },
    "scrolled": false
   },
   "outputs": [
    {
     "name": "stdout",
     "output_type": "stream",
     "text": [
      "scanning over means [0.125      0.1767767  0.25       0.35355339 0.5        0.70710678\n",
      " 1.         1.41421356 2.        ]\n",
      "For mean= 0.125 , Accuracy= 0.8126361655773421\n",
      "For mean= 0.1767766952966369 , Accuracy= 0.9084967320261438\n",
      "For mean= 0.25 , Accuracy= 0.9477124183006536\n",
      "For mean= 0.3535533905932738 , Accuracy= 0.599128540305011\n",
      "For mean= 0.5 , Accuracy= 0.9586056644880174\n",
      "For mean= 0.7071067811865476 , Accuracy= 0.6470588235294118\n",
      "For mean= 1.0 , Accuracy= 0.6122004357298475\n",
      "For mean= 1.4142135623730951 , Accuracy= 0.43137254901960786\n",
      "For mean= 2.0 , Accuracy= 0.4226579520697168\n",
      "scanning over stds [0.0625     0.08838835 0.125      0.1767767  0.25       0.35355339\n",
      " 0.5        0.70710678 1.        ]\n",
      "For std= 0.0625 , Accuracy= 0.7690631808278867\n",
      "For std= 0.08838834764831845 , Accuracy= 0.5424836601307189\n",
      "For std= 0.125 , Accuracy= 0.9738562091503268\n",
      "For std= 0.1767766952966369 , Accuracy= 0.9433551198257081\n",
      "For std= 0.25 , Accuracy= 0.9586056644880174\n",
      "For std= 0.3535533905932738 , Accuracy= 0.8278867102396514\n",
      "For std= 0.5 , Accuracy= 0.8191721132897604\n",
      "For std= 0.7071067811865476 , Accuracy= 0.7037037037037037\n",
      "For std= 1.0 , Accuracy= 0.7254901960784313\n",
      "scanning over crops [64, 90, 128, 181, 256, 362, 512, 724, 1024]\n",
      "For crop= 64 , Accuracy= 0.9586056644880174\n",
      "For crop= 90 , Accuracy= 0.8474945533769063\n",
      "For crop= 128 , Accuracy= 0.9586056644880174\n",
      "For crop= 181 , Accuracy= 0.8474945533769063\n",
      "For crop= 256 , Accuracy= 0.9586056644880174\n",
      "For crop= 362 , Accuracy= 0.8474945533769063\n",
      "For crop= 512 , Accuracy= 0.9586056644880174\n",
      "For crop= 724 , Accuracy= 0.9586056644880174\n",
      "For crop= 1024 , Accuracy= 0.8474945533769063\n",
      "scanning over sizes [64, 90, 128, 181, 256, 362, 512, 724, 1024]\n",
      "For size= 64 , Accuracy= 0.9586056644880174\n",
      "For size= 90 , Accuracy= 0.8474945533769063\n",
      "For size= 128 , Accuracy= 0.9586056644880174\n",
      "For size= 181 , Accuracy= 0.9586056644880174\n",
      "For size= 256 , Accuracy= 0.9586056644880174\n",
      "For size= 362 , Accuracy= 0.9586056644880174\n",
      "For size= 512 , Accuracy= 0.9586056644880174\n",
      "For size= 724 , Accuracy= 0.8474945533769063\n",
      "For size= 1024 , Accuracy= 0.8474945533769063\n"
     ]
    }
   ],
   "source": [
    "import numpy as np \n",
    "base = 4\n",
    "N_scan = 9\n",
    "default = dict(verbose=0, log_interval=0, epochs=30)\n",
    "\n",
    "\n",
    "from Regard import init, ML\n",
    "\n",
    "\n",
    "means =  init().mean * np.logspace(-1, 1, N_scan, base=base)\n",
    "print('scanning over means', means)\n",
    "\n",
    "for mean in means:\n",
    "    args = init(mean=mean, **default)\n",
    "    ml = ML(args)\n",
    "    Accuracy = ml.protocol()\n",
    "    print ('For mean=', mean, ', Accuracy=', Accuracy)\n",
    "\n",
    "\n",
    "stds =  init().std * np.logspace(-1, 1, N_scan, base=base)\n",
    "print('scanning over stds', stds)\n",
    "\n",
    "for std in stds:\n",
    "    args = init(std=std, **default)\n",
    "    ml = ML(args)\n",
    "    Accuracy = ml.protocol()\n",
    "    print ('For std=', std, ', Accuracy=', Accuracy)\n",
    "\n",
    "    \n",
    "crops =  [int(k) for k in init().crop * np.logspace(-1, 1, N_scan, base=base)]\n",
    "print('scanning over crops', crops)\n",
    "\n",
    "for crop in crops:\n",
    "    args = init(crop=crop, **default)\n",
    "    ml = ML(args)\n",
    "    Accuracy = ml.protocol()\n",
    "    print ('For crop=', crop, ', Accuracy=', Accuracy)\n",
    "\n",
    "\n",
    "sizes =  [int(k) for k in init().crop * np.logspace(-1, 1, N_scan, base=base)]\n",
    "print('scanning over sizes', sizes)\n",
    "\n",
    "for size in sizes:\n",
    "    args = init(size=size, **default)\n",
    "    ml = ML(args)\n",
    "    Accuracy = ml.protocol()\n",
    "    print ('For size=', size, ', Accuracy=', Accuracy)\n",
    "\n",
    "\n",
    "    "
   ]
  },
  {
   "cell_type": "code",
   "execution_count": null,
   "metadata": {},
   "outputs": [],
   "source": []
  }
 ],
 "metadata": {
  "kernelspec": {
   "display_name": "Python 3",
   "language": "python",
   "name": "python3"
  },
  "language_info": {
   "codemirror_mode": {
    "name": "ipython",
    "version": 3
   },
   "file_extension": ".py",
   "mimetype": "text/x-python",
   "name": "python",
   "nbconvert_exporter": "python",
   "pygments_lexer": "ipython3",
   "version": "3.6.5"
  },
  "toc": {
   "base_numbering": 1,
   "nav_menu": {},
   "number_sections": true,
   "sideBar": true,
   "skip_h1_title": false,
   "title_cell": "Table of Contents",
   "title_sidebar": "Contents",
   "toc_cell": false,
   "toc_position": {},
   "toc_section_display": "block",
   "toc_window_display": false
  }
 },
 "nbformat": 4,
 "nbformat_minor": 2
}
