{
 "cells": [
  {
   "cell_type": "code",
   "execution_count": 1,
   "metadata": {
    "ExecuteTime": {
     "end_time": "2018-05-28T15:25:02.641132Z",
     "start_time": "2018-05-28T15:25:02.625042Z"
    }
   },
   "outputs": [],
   "source": [
    "%load_ext autoreload\n",
    "%autoreload 2"
   ]
  },
  {
   "cell_type": "markdown",
   "metadata": {},
   "source": [
    "## scanning parameters"
   ]
  },
  {
   "cell_type": "code",
   "execution_count": 2,
   "metadata": {
    "ExecuteTime": {
     "end_time": "2018-05-28T18:07:59.453327Z",
     "start_time": "2018-05-28T15:25:02.643448Z"
    },
    "scrolled": false
   },
   "outputs": [
    {
     "name": "stdout",
     "output_type": "stream",
     "text": [
      "scanning over means [0.075      0.10606602 0.15       0.21213203 0.3        0.42426407\n",
      " 0.6        0.84852814 1.2       ]\n",
      "For mean= 0.075 , Accuracy= 0.9444444444444444\n",
      "For mean= 0.10606601717798213 , Accuracy= 0.9444444444444444\n",
      "For mean= 0.15 , Accuracy= 0.9444444444444444\n",
      "For mean= 0.21213203435596426 , Accuracy= 0.9206349206349206\n",
      "For mean= 0.3 , Accuracy= 0.9523809523809523\n",
      "For mean= 0.4242640687119285 , Accuracy= 0.9761904761904762\n",
      "For mean= 0.6 , Accuracy= 0.9761904761904762\n",
      "For mean= 0.848528137423857 , Accuracy= 0.9365079365079365\n",
      "For mean= 1.2 , Accuracy= 0.5555555555555556\n",
      "scanning over stds [0.15       0.21213203 0.3        0.42426407 0.6        0.84852814\n",
      " 1.2        1.69705627 2.4       ]\n",
      "For std= 0.15 , Accuracy= 0.9841269841269841\n",
      "For std= 0.21213203435596426 , Accuracy= 0.9761904761904762\n",
      "For std= 0.3 , Accuracy= 0.9761904761904762\n",
      "For std= 0.4242640687119285 , Accuracy= 0.9841269841269841\n",
      "For std= 0.6 , Accuracy= 0.9523809523809523\n",
      "For std= 0.848528137423857 , Accuracy= 0.9682539682539683\n",
      "For std= 1.2 , Accuracy= 0.9444444444444444\n",
      "For std= 1.697056274847714 , Accuracy= 0.9126984126984127\n",
      "For std= 2.4 , Accuracy= 0.9047619047619048\n",
      "scanning over crops [55, 77, 110, 155, 220, 311, 440, 622, 880]\n",
      "For crop= 55 , Accuracy= 0.42063492063492064\n",
      "For crop= 77 , Accuracy= 0.5634920634920635\n",
      "For crop= 110 , Accuracy= 0.8253968253968254\n",
      "For crop= 155 , Accuracy= 0.9920634920634921\n",
      "For crop= 220 , Accuracy= 0.9523809523809523\n",
      "For crop= 311 , Accuracy= 0.8809523809523809\n",
      "For crop= 440 , Accuracy= 0.8095238095238095\n",
      "For crop= 622 , Accuracy= 0.7698412698412699\n",
      "For crop= 880 , Accuracy= 0.5555555555555556\n",
      "scanning over sizes [55, 77, 110, 155, 220, 311, 440, 622, 880]\n",
      "For size= 55 , Accuracy= 0.9523809523809523\n",
      "For size= 77 , Accuracy= 0.9523809523809523\n",
      "For size= 110 , Accuracy= 0.9523809523809523\n",
      "For size= 155 , Accuracy= 0.9523809523809523\n",
      "For size= 220 , Accuracy= 0.9523809523809523\n",
      "For size= 311 , Accuracy= 0.9523809523809523\n",
      "For size= 440 , Accuracy= 0.9523809523809523\n",
      "For size= 622 , Accuracy= 0.9523809523809523\n",
      "For size= 880 , Accuracy= 0.9523809523809523\n"
     ]
    }
   ],
   "source": [
    "import numpy as np \n",
    "base = 4\n",
    "N_scan = 9\n",
    "default = dict(verbose=0, log_interval=0, epochs=30)\n",
    "\n",
    "\n",
    "from Regard import init, ML\n",
    "\n",
    "\n",
    "means =  init().mean * np.logspace(-1, 1, N_scan, base=base)\n",
    "print('scanning over means', means)\n",
    "\n",
    "for mean in means:\n",
    "    args = init(mean=mean, **default)\n",
    "    ml = ML(args)\n",
    "    Accuracy = ml.protocol()\n",
    "    print ('For mean=', mean, ', Accuracy=', Accuracy)\n",
    "\n",
    "\n",
    "stds =  init().std * np.logspace(-1, 1, N_scan, base=base)\n",
    "print('scanning over stds', stds)\n",
    "\n",
    "for std in stds:\n",
    "    args = init(std=std, **default)\n",
    "    ml = ML(args)\n",
    "    Accuracy = ml.protocol()\n",
    "    print ('For std=', std, ', Accuracy=', Accuracy)\n",
    "\n",
    "    \n",
    "crops =  [int(k) for k in init().crop * np.logspace(-1, 1, N_scan, base=base)]\n",
    "print('scanning over crops', crops)\n",
    "\n",
    "for crop in crops:\n",
    "    args = init(crop=crop, **default)\n",
    "    ml = ML(args)\n",
    "    Accuracy = ml.protocol()\n",
    "    print ('For crop=', crop, ', Accuracy=', Accuracy)\n",
    "\n",
    "\n",
    "sizes =  [int(k) for k in init().crop * np.logspace(-1, 1, N_scan, base=base)]\n",
    "print('scanning over sizes', sizes)\n",
    "\n",
    "for size in sizes:\n",
    "    args = init(size=size, **default)\n",
    "    ml = ML(args)\n",
    "    Accuracy = ml.protocol()\n",
    "    print ('For size=', size, ', Accuracy=', Accuracy)\n",
    "\n",
    "\n",
    "    "
   ]
  },
  {
   "cell_type": "code",
   "execution_count": null,
   "metadata": {},
   "outputs": [],
   "source": []
  }
 ],
 "metadata": {
  "kernel_info": {
   "name": "python3"
  },
  "kernelspec": {
   "display_name": "Python 3",
   "language": "python",
   "name": "python3"
  },
  "language_info": {
   "codemirror_mode": {
    "name": "ipython",
    "version": 3
   },
   "file_extension": ".py",
   "mimetype": "text/x-python",
   "name": "python",
   "nbconvert_exporter": "python",
   "pygments_lexer": "ipython3",
   "version": "3.6.5"
  },
  "nteract": {
   "version": "0.8.4"
  },
  "toc": {
   "base_numbering": 1,
   "nav_menu": {},
   "number_sections": true,
   "sideBar": true,
   "skip_h1_title": false,
   "title_cell": "Table of Contents",
   "title_sidebar": "Contents",
   "toc_cell": false,
   "toc_position": {},
   "toc_section_display": "block",
   "toc_window_display": false
  }
 },
 "nbformat": 4,
 "nbformat_minor": 2
}
