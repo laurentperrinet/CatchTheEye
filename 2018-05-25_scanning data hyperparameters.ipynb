{
 "cells": [
  {
   "cell_type": "code",
   "execution_count": 1,
   "metadata": {
    "ExecuteTime": {
     "end_time": "2018-05-31T07:11:17.469543Z",
     "start_time": "2018-05-31T07:11:17.455860Z"
    }
   },
   "outputs": [],
   "source": [
    "%load_ext autoreload\n",
    "%autoreload 2"
   ]
  },
  {
   "cell_type": "markdown",
   "metadata": {},
   "source": [
    "## scanning parameters"
   ]
  },
  {
   "cell_type": "code",
   "execution_count": 2,
   "metadata": {
    "ExecuteTime": {
     "end_time": "2018-05-31T08:47:16.960419Z",
     "start_time": "2018-05-31T07:11:17.471930Z"
    },
    "scrolled": false
   },
   "outputs": [
    {
     "name": "stdout",
     "output_type": "stream",
     "text": [
      "scanning over means [0.175      0.20811125 0.24748737 0.29431375 0.35       0.41622249\n",
      " 0.49497475 0.58862749 0.7       ]\n",
      "For mean= 0.175 , Accuracy= 0.981\n",
      "For mean= 0.208 , Accuracy= 0.981\n",
      "For mean= 0.247 , Accuracy= 0.962\n",
      "For mean= 0.294 , Accuracy= 0.904\n",
      "For mean= 0.350 , Accuracy= 0.892\n",
      "For mean= 0.416 , Accuracy= 0.930\n",
      "For mean= 0.495 , Accuracy= 0.936\n",
      "For mean= 0.589 , Accuracy= 0.943\n",
      "For mean= 0.700 , Accuracy= 0.873\n",
      "scanning over stds [0.2        0.23784142 0.28284271 0.33635857 0.4        0.47568285\n",
      " 0.56568542 0.67271713 0.8       ]\n",
      "For std= 0.200 , Accuracy= 0.981\n",
      "For std= 0.238 , Accuracy= 0.968\n",
      "For std= 0.283 , Accuracy= 0.924\n",
      "For std= 0.336 , Accuracy= 0.955\n",
      "For std= 0.400 , Accuracy= 0.892\n",
      "For std= 0.476 , Accuracy= 0.911\n",
      "For std= 0.566 , Accuracy= 0.796\n",
      "For std= 0.673 , Accuracy= 0.892\n",
      "For std= 0.800 , Accuracy= 0.930\n",
      "scanning over crops [100, 118, 141, 168, 200, 237, 282, 336, 400]\n",
      "For crop= 100 , Accuracy= 0.841\n",
      "For crop= 118 , Accuracy= 0.847\n",
      "For crop= 141 , Accuracy= 0.758\n",
      "For crop= 168 , Accuracy= 0.917\n",
      "For crop= 200 , Accuracy= 0.892\n",
      "For crop= 237 , Accuracy= 0.975\n",
      "For crop= 282 , Accuracy= 0.943\n",
      "For crop= 336 , Accuracy= 0.981\n",
      "For crop= 400 , Accuracy= 0.955\n",
      "scanning over sizes [100, 118, 141, 168, 200, 237, 282, 336, 400]\n",
      "For size= 100 , Accuracy= 0.892\n",
      "For size= 118 , Accuracy= 0.892\n",
      "For size= 141 , Accuracy= 0.892\n",
      "For size= 168 , Accuracy= 0.892\n",
      "For size= 200 , Accuracy= 0.892\n",
      "For size= 237 , Accuracy= 0.892\n",
      "For size= 282 , Accuracy= 0.892\n",
      "For size= 336 , Accuracy= 0.892\n",
      "For size= 400 , Accuracy= 0.892\n"
     ]
    }
   ],
   "source": [
    "import numpy as np \n",
    "base = 2\n",
    "N_scan = 9\n",
    "default = dict(verbose=0, log_interval=0, epochs=30)\n",
    "\n",
    "\n",
    "from Regard import init, ML\n",
    "\n",
    "\n",
    "means =  init().mean * np.logspace(-1, 1, N_scan, base=base)\n",
    "print('scanning over means', means)\n",
    "\n",
    "for mean in means:\n",
    "    args = init(mean=mean, **default)\n",
    "    ml = ML(args)\n",
    "    Accuracy = ml.protocol()\n",
    "    print ('For mean=', '%.3f' % mean, ', Accuracy=', '%.3f' % Accuracy)\n",
    "\n",
    "\n",
    "stds =  init().std * np.logspace(-1, 1, N_scan, base=base)\n",
    "print('scanning over stds', stds)\n",
    "\n",
    "for std in stds:\n",
    "    args = init(std=std, **default)\n",
    "    ml = ML(args)\n",
    "    Accuracy = ml.protocol()\n",
    "    print ('For std=', '%.3f' % std, ', Accuracy=', '%.3f' % Accuracy)\n",
    "\n",
    "    \n",
    "crops =  [int(k) for k in init().crop * np.logspace(-1, 1, N_scan, base=base)]\n",
    "print('scanning over crops', crops)\n",
    "\n",
    "for crop in crops:\n",
    "    args = init(crop=crop, **default)\n",
    "    ml = ML(args)\n",
    "    Accuracy = ml.protocol()\n",
    "    print ('For crop=', crop, ', Accuracy=', '%.3f' % Accuracy)\n",
    "\n",
    "\n",
    "sizes =  [int(k) for k in init().crop * np.logspace(-1, 1, N_scan, base=base)]\n",
    "print('scanning over sizes', sizes)\n",
    "\n",
    "for size in sizes:\n",
    "    args = init(size=size, **default)\n",
    "    ml = ML(args)\n",
    "    Accuracy = ml.protocol()\n",
    "    print ('For size=', size, ', Accuracy=', '%.3f' % Accuracy)\n",
    "\n",
    "\n",
    "    "
   ]
  },
  {
   "cell_type": "code",
   "execution_count": null,
   "metadata": {},
   "outputs": [],
   "source": []
  }
 ],
 "metadata": {
  "kernel_info": {
   "name": "python3"
  },
  "kernelspec": {
   "display_name": "Python 3",
   "language": "python",
   "name": "python3"
  },
  "language_info": {
   "codemirror_mode": {
    "name": "ipython",
    "version": 3
   },
   "file_extension": ".py",
   "mimetype": "text/x-python",
   "name": "python",
   "nbconvert_exporter": "python",
   "pygments_lexer": "ipython3",
   "version": "3.6.5"
  },
  "nteract": {
   "version": "0.8.4"
  },
  "toc": {
   "base_numbering": 1,
   "nav_menu": {},
   "number_sections": true,
   "sideBar": true,
   "skip_h1_title": false,
   "title_cell": "Table of Contents",
   "title_sidebar": "Contents",
   "toc_cell": false,
   "toc_position": {},
   "toc_section_display": "block",
   "toc_window_display": false
  }
 },
 "nbformat": 4,
 "nbformat_minor": 2
}
