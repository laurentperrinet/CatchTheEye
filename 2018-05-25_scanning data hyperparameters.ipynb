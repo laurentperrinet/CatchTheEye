{
 "cells": [
  {
   "cell_type": "code",
   "execution_count": 1,
   "metadata": {
    "ExecuteTime": {
     "end_time": "2018-06-01T15:14:20.169708Z",
     "start_time": "2018-06-01T15:14:20.157086Z"
    }
   },
   "outputs": [],
   "source": [
    "%load_ext autoreload\n",
    "%autoreload 2"
   ]
  },
  {
   "cell_type": "markdown",
   "metadata": {},
   "source": [
    "## scanning parameters"
   ]
  },
  {
   "cell_type": "code",
   "execution_count": 2,
   "metadata": {
    "ExecuteTime": {
     "end_time": "2018-06-02T03:30:43.202284Z",
     "start_time": "2018-06-01T15:14:20.171699Z"
    },
    "scrolled": false
   },
   "outputs": [
    {
     "name": "stdout",
     "output_type": "stream",
     "text": [
      "scanning over means [0.125      0.14865089 0.1767767  0.2102241  0.25       0.29730178\n",
      " 0.35355339 0.42044821 0.5       ]\n",
      "For mean= 0.125 , Accuracy= 0.947\n",
      "For mean= 0.149 , Accuracy= 0.929\n",
      "For mean= 0.177 , Accuracy= 0.935\n",
      "For mean= 0.210 , Accuracy= 0.947\n",
      "For mean= 0.250 , Accuracy= 0.959\n",
      "For mean= 0.297 , Accuracy= 0.953\n",
      "For mean= 0.354 , Accuracy= 0.959\n",
      "For mean= 0.420 , Accuracy= 0.965\n",
      "For mean= 0.500 , Accuracy= 0.959\n",
      "scanning over stds [0.165      0.19621917 0.23334524 0.27749582 0.33       0.39243835\n",
      " 0.46669048 0.55499163 0.66      ]\n",
      "For std= 0.165 , Accuracy= 0.947\n",
      "For std= 0.196 , Accuracy= 0.953\n",
      "For std= 0.233 , Accuracy= 0.953\n",
      "For std= 0.277 , Accuracy= 0.959\n",
      "For std= 0.330 , Accuracy= 0.959\n",
      "For std= 0.392 , Accuracy= 0.953\n",
      "For std= 0.467 , Accuracy= 0.953\n",
      "For std= 0.555 , Accuracy= 0.947\n",
      "For std= 0.660 , Accuracy= 0.947\n",
      "scanning over crops [100, 118, 141, 168, 200, 237, 282, 336, 400]\n",
      "For crop= 100 , Accuracy= 0.918\n",
      "For crop= 118 , Accuracy= 0.959\n",
      "For crop= 141 , Accuracy= 0.953\n",
      "For crop= 168 , Accuracy= 0.947\n",
      "For crop= 200 , Accuracy= 0.959\n",
      "For crop= 237 , Accuracy= 0.953\n",
      "For crop= 282 , Accuracy= 0.959\n",
      "For crop= 336 , Accuracy= 0.965\n",
      "For crop= 400 , Accuracy= 0.941\n",
      "scanning over sizes [64, 76, 90, 107, 128, 152, 181, 215, 256]\n",
      "For size= 64 , Accuracy= 0.959\n",
      "For size= 76 , Accuracy= 0.959\n",
      "For size= 90 , Accuracy= 0.959\n",
      "For size= 107 , Accuracy= 0.959\n",
      "For size= 128 , Accuracy= 0.959\n",
      "For size= 152 , Accuracy= 0.959\n",
      "For size= 181 , Accuracy= 0.959\n",
      "For size= 215 , Accuracy= 0.959\n",
      "For size= 256 , Accuracy= 0.959\n"
     ]
    }
   ],
   "source": [
    "import numpy as np \n",
    "base = 2\n",
    "N_scan = 9\n",
    "default = dict(verbose=0, log_interval=0)\n",
    "\n",
    "\n",
    "from Regard import init, ML\n",
    "\n",
    "\n",
    "means =  init().mean * np.logspace(-1, 1, N_scan, base=base)\n",
    "print('scanning over means', means)\n",
    "\n",
    "for mean in means:\n",
    "    args = init(mean=mean, **default)\n",
    "    ml = ML(args)\n",
    "    Accuracy = ml.protocol()\n",
    "    print ('For mean=', '%.3f' % mean, ', Accuracy=', '%.3f' % Accuracy)\n",
    "\n",
    "\n",
    "stds =  init().std * np.logspace(-1, 1, N_scan, base=base)\n",
    "print('scanning over stds', stds)\n",
    "\n",
    "for std in stds:\n",
    "    args = init(std=std, **default)\n",
    "    ml = ML(args)\n",
    "    Accuracy = ml.protocol()\n",
    "    print ('For std=', '%.3f' % std, ', Accuracy=', '%.3f' % Accuracy)\n",
    "\n",
    "    \n",
    "crops =  [int(k) for k in init().crop * np.logspace(-1, 1, N_scan, base=base)]\n",
    "print('scanning over crops', crops)\n",
    "\n",
    "for crop in crops:\n",
    "    args = init(crop=crop, **default)\n",
    "    ml = ML(args)\n",
    "    Accuracy = ml.protocol()\n",
    "    print ('For crop=', crop, ', Accuracy=', '%.3f' % Accuracy)\n",
    "\n",
    "\n",
    "sizes =  [int(k) for k in init().size * np.logspace(-1, 1, N_scan, base=base)]\n",
    "print('scanning over sizes', sizes)\n",
    "\n",
    "for size in sizes:\n",
    "    args = init(size=size, **default)\n",
    "    ml = ML(args)\n",
    "    Accuracy = ml.protocol()\n",
    "    print ('For size=', size, ', Accuracy=', '%.3f' % Accuracy)\n",
    "\n",
    "\n",
    "    "
   ]
  },
  {
   "cell_type": "code",
   "execution_count": null,
   "metadata": {},
   "outputs": [],
   "source": []
  }
 ],
 "metadata": {
  "kernel_info": {
   "name": "python3"
  },
  "kernelspec": {
   "display_name": "Python 3",
   "language": "python",
   "name": "python3"
  },
  "language_info": {
   "codemirror_mode": {
    "name": "ipython",
    "version": 3
   },
   "file_extension": ".py",
   "mimetype": "text/x-python",
   "name": "python",
   "nbconvert_exporter": "python",
   "pygments_lexer": "ipython3",
   "version": "3.6.5"
  },
  "nteract": {
   "version": "0.8.4"
  },
  "toc": {
   "base_numbering": 1,
   "nav_menu": {},
   "number_sections": true,
   "sideBar": true,
   "skip_h1_title": false,
   "title_cell": "Table of Contents",
   "title_sidebar": "Contents",
   "toc_cell": false,
   "toc_position": {},
   "toc_section_display": "block",
   "toc_window_display": false
  }
 },
 "nbformat": 4,
 "nbformat_minor": 2
}
