{
 "cells": [
  {
   "cell_type": "code",
   "execution_count": 1,
   "metadata": {
    "ExecuteTime": {
     "end_time": "2018-07-17T06:10:37.747545Z",
     "start_time": "2018-07-17T06:10:37.727418Z"
    }
   },
   "outputs": [],
   "source": [
    "%load_ext autoreload\n",
    "%autoreload 2"
   ]
  },
  {
   "cell_type": "markdown",
   "metadata": {},
   "source": [
    "## scanning parameters"
   ]
  },
  {
   "cell_type": "code",
   "execution_count": 2,
   "metadata": {
    "ExecuteTime": {
     "end_time": "2018-07-17T06:10:38.291450Z",
     "start_time": "2018-07-17T06:10:37.749812Z"
    }
   },
   "outputs": [],
   "source": [
    "from Regard import init, ML"
   ]
  },
  {
   "cell_type": "code",
   "execution_count": 3,
   "metadata": {
    "ExecuteTime": {
     "end_time": "2018-07-18T04:34:19.175317Z",
     "start_time": "2018-07-17T06:10:38.293902Z"
    },
    "scrolled": false
   },
   "outputs": [
    {
     "name": "stdout",
     "output_type": "stream",
     "text": [
      "scanning over fullsizes [175, 208, 247, 294, 350, 416, 494, 588, 700]\n"
     ]
    },
    {
     "name": "stderr",
     "output_type": "stream",
     "text": [
      "/usr/local/lib/python3.6/site-packages/torch/nn/functional.py:52: UserWarning: size_average and reduce args will be deprecated, please use reduction='sum' instead.\n",
      "  warnings.warn(warning.format(ret))\n"
     ]
    },
    {
     "name": "stdout",
     "output_type": "stream",
     "text": [
      "For fullsize= 175 , Accuracy= 0.975  in  1634.653 seconds\n",
      "For fullsize= 208 , Accuracy= 0.981  in  1631.153 seconds\n",
      "For fullsize= 247 , Accuracy= 0.956  in  1568.317 seconds\n",
      "For fullsize= 294 , Accuracy= 0.969  in  1579.671 seconds\n",
      "For fullsize= 350 , Accuracy= 0.962  in  1601.749 seconds\n",
      "For fullsize= 416 , Accuracy= 0.887  in  1583.447 seconds\n",
      "For fullsize= 494 , Accuracy= 0.950  in  1579.096 seconds\n",
      "For fullsize= 588 , Accuracy= 0.931  in  1588.186 seconds\n",
      "For fullsize= 700 , Accuracy= 0.918  in  1609.373 seconds\n",
      "scanning over crops [175, 190, 208, 226, 247, 269, 294, 320, 350]\n",
      "For crop= 175 , Accuracy= 0.899  in  1589.953 seconds\n",
      "For crop= 190 , Accuracy= 0.962  in  1584.513 seconds\n",
      "For crop= 208 , Accuracy= 0.956  in  1597.012 seconds\n",
      "For crop= 226 , Accuracy= 0.956  in  1597.812 seconds\n",
      "For crop= 247 , Accuracy= 0.950  in  1605.749 seconds\n",
      "For crop= 269 , Accuracy= 0.937  in  1612.638 seconds\n",
      "For crop= 294 , Accuracy= 0.956  in  1610.161 seconds\n",
      "For crop= 320 , Accuracy= 0.962  in  1619.883 seconds\n",
      "For crop= 350 , Accuracy= 0.950  in  1586.128 seconds\n",
      "scanning over sizes [140, 166, 197, 235, 280, 332, 395, 470, 560]\n",
      "For size= 140 , Accuracy= 0.950  in  441.725 seconds\n",
      "For size= 166 , Accuracy= 0.950  in  598.470 seconds\n",
      "For size= 197 , Accuracy= 0.956  in  818.764 seconds\n",
      "For size= 235 , Accuracy= 0.956  in  1133.503 seconds\n",
      "For size= 280 , Accuracy= 0.962  in  1583.514 seconds\n",
      "For size= 332 , Accuracy= 0.962  in  2196.734 seconds\n",
      "For size= 395 , Accuracy= 0.931  in  3256.020 seconds\n",
      "For size= 470 , Accuracy= 0.950  in  4462.524 seconds\n",
      "For size= 560 , Accuracy= 0.931  in  6393.997 seconds\n",
      "scanning over means [0.18       0.21405728 0.25455844 0.30272271 0.36       0.42811456\n",
      " 0.50911688 0.60544542 0.72      ]\n",
      "For mean= 0.180 , Accuracy= 0.969  in  1648.642 seconds\n",
      "For mean= 0.214 , Accuracy= 0.962  in  1698.404 seconds\n",
      "For mean= 0.255 , Accuracy= 0.962  in  1608.136 seconds\n",
      "For mean= 0.303 , Accuracy= 0.956  in  1609.903 seconds\n",
      "For mean= 0.360 , Accuracy= 0.962  in  1554.094 seconds\n",
      "For mean= 0.428 , Accuracy= 0.969  in  1573.002 seconds\n",
      "For mean= 0.509 , Accuracy= 0.962  in  1576.216 seconds\n",
      "For mean= 0.605 , Accuracy= 0.925  in  1572.937 seconds\n",
      "For mean= 0.720 , Accuracy= 0.931  in  1583.732 seconds\n",
      "scanning over stds [0.15       0.17838107 0.21213203 0.25226892 0.3        0.35676213\n",
      " 0.42426407 0.50453785 0.6       ]\n",
      "For std= 0.150 , Accuracy= 0.962  in  1571.752 seconds\n",
      "For std= 0.178 , Accuracy= 0.969  in  1574.464 seconds\n",
      "For std= 0.212 , Accuracy= 0.956  in  1578.286 seconds\n",
      "For std= 0.252 , Accuracy= 0.962  in  1659.292 seconds\n",
      "For std= 0.300 , Accuracy= 0.962  in  2032.991 seconds\n",
      "For std= 0.357 , Accuracy= 0.943  in  2028.570 seconds\n",
      "For std= 0.424 , Accuracy= 0.956  in  2031.527 seconds\n",
      "For std= 0.505 , Accuracy= 0.931  in  2031.884 seconds\n",
      "For std= 0.600 , Accuracy= 0.931  in  2022.185 seconds\n"
     ]
    }
   ],
   "source": [
    "import numpy as np \n",
    "base = 2\n",
    "N_scan = 9\n",
    "default = dict(verbose=0, log_interval=0)\n",
    "\n",
    "import time\n",
    "    \n",
    "fullsizes =  [int(k) for k in init().fullsize * np.logspace(-1, 1, N_scan, base=base)]\n",
    "print('scanning over fullsizes', fullsizes)\n",
    "\n",
    "for fullsize in fullsizes:\n",
    "    args = init(fullsize=fullsize, **default)\n",
    "    t0 = time.time()\n",
    "    ml = ML(args)\n",
    "    Accuracy = ml.protocol()\n",
    "    print ('For fullsize=', fullsize, ', Accuracy=', '%.3f' % Accuracy, ' in ', '%.3f' % (time.time() - t0), 'seconds')\n",
    "\n",
    "\n",
    "crops =  [int(k) for k in init().fullsize * np.logspace(-1, 0, N_scan, base=base)]\n",
    "print('scanning over crops', crops)\n",
    "\n",
    "for crop in crops:\n",
    "    args = init(crop=crop, **default)\n",
    "    t0 = time.time()\n",
    "    ml = ML(args)\n",
    "    Accuracy = ml.protocol()\n",
    "    print ('For crop=', crop, ', Accuracy=', '%.3f' % Accuracy, ' in ', '%.3f' % (time.time() - t0), 'seconds')\n",
    "\n",
    "\n",
    "sizes =  [int(k) for k in init().size * np.logspace(-1, 1, N_scan, base=base)]\n",
    "print('scanning over sizes', sizes)\n",
    "\n",
    "for size in sizes:\n",
    "    args = init(size=size, **default)\n",
    "    t0 = time.time()\n",
    "    ml = ML(args)\n",
    "    Accuracy = ml.protocol()\n",
    "    print ('For size=', size, ', Accuracy=', '%.3f' % Accuracy, ' in ', '%.3f' % (time.time() - t0), 'seconds')\n",
    "\n",
    "means =  init().mean * np.logspace(-1, 1, N_scan, base=base)\n",
    "print('scanning over means', means)\n",
    "\n",
    "for mean in means:\n",
    "    args = init(mean=mean, **default)\n",
    "    t0 = time.time()\n",
    "    ml = ML(args)\n",
    "    Accuracy = ml.protocol()\n",
    "    print ('For mean=', '%.3f' % mean, ', Accuracy=', '%.3f' % Accuracy, ' in ', '%.3f' % (time.time() - t0), 'seconds')\n",
    "\n",
    "\n",
    "stds =  init().std * np.logspace(-1, 1, N_scan, base=base)\n",
    "print('scanning over stds', stds)\n",
    "\n",
    "for std in stds:\n",
    "    args = init(std=std, **default)\n",
    "    t0 = time.time()\n",
    "    ml = ML(args)\n",
    "    Accuracy = ml.protocol()\n",
    "    print ('For std=', '%.3f' % std, ', Accuracy=', '%.3f' % Accuracy, ' in ', '%.3f' % (time.time() - t0), 'seconds')\n",
    "\n",
    "\n",
    "    "
   ]
  }
 ],
 "metadata": {
  "kernel_info": {
   "name": "python3"
  },
  "kernelspec": {
   "display_name": "Python 3",
   "language": "python",
   "name": "python3"
  },
  "language_info": {
   "codemirror_mode": {
    "name": "ipython",
    "version": 3
   },
   "file_extension": ".py",
   "mimetype": "text/x-python",
   "name": "python",
   "nbconvert_exporter": "python",
   "pygments_lexer": "ipython3",
   "version": "3.6.5"
  },
  "nteract": {
   "version": "0.8.4"
  },
  "toc": {
   "base_numbering": 1,
   "nav_menu": {},
   "number_sections": true,
   "sideBar": true,
   "skip_h1_title": false,
   "title_cell": "Table of Contents",
   "title_sidebar": "Contents",
   "toc_cell": false,
   "toc_position": {},
   "toc_section_display": "block",
   "toc_window_display": false
  }
 },
 "nbformat": 4,
 "nbformat_minor": 2
}
