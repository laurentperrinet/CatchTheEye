{
 "cells": [
  {
   "cell_type": "code",
   "execution_count": 1,
   "metadata": {
    "ExecuteTime": {
     "end_time": "2018-06-09T06:51:44.576731Z",
     "start_time": "2018-06-09T06:51:44.559462Z"
    }
   },
   "outputs": [],
   "source": [
    "%load_ext autoreload\n",
    "%autoreload 2"
   ]
  },
  {
   "cell_type": "code",
   "execution_count": 2,
   "metadata": {
    "ExecuteTime": {
     "end_time": "2018-06-09T06:51:45.047671Z",
     "start_time": "2018-06-09T06:51:44.578975Z"
    }
   },
   "outputs": [],
   "source": [
    "%matplotlib inline\n"
   ]
  },
  {
   "cell_type": "markdown",
   "metadata": {},
   "source": [
    "## running the model"
   ]
  },
  {
   "cell_type": "code",
   "execution_count": 3,
   "metadata": {
    "ExecuteTime": {
     "end_time": "2018-06-09T06:51:45.426998Z",
     "start_time": "2018-06-09T06:51:45.049895Z"
    }
   },
   "outputs": [
    {
     "name": "stdout",
     "output_type": "stream",
     "text": [
      "Parameters= {'batch_size': 16, 'test_batch_size': 1, 'valid_size': 0.2, 'epochs': 30, 'lr': 0.005, 'momentum': 0.48, 'no_cuda': True, 'num_processes': 1, 'seed': 42, 'log_interval': 10, 'dimension': 25, 'verbose': 1, 'conv1_dim': 4, 'conv1_kernel_size': 7, 'conv2_dim': 13, 'conv2_kernel_size': 5, 'stride1': 2, 'stride2': 2, 'crop': 200, 'size': 128, 'mean': 0.36, 'std': 0.3}\n"
     ]
    }
   ],
   "source": [
    "from Regard import init\n",
    "args = init(verbose=1, epochs = 30)\n",
    "print('Parameters=', args)\n",
    "\n",
    "path = '_Regard.pt'"
   ]
  },
  {
   "cell_type": "code",
   "execution_count": 4,
   "metadata": {
    "ExecuteTime": {
     "end_time": "2018-06-09T06:51:45.643571Z",
     "start_time": "2018-06-09T06:51:45.428969Z"
    }
   },
   "outputs": [
    {
     "name": "stdout",
     "output_type": "stream",
     "text": [
      "cuda? False\n",
      "cuda? False\n",
      "Found 827 sample images;  662  to train 165 to test\n"
     ]
    },
    {
     "ename": "ImportError",
     "evalue": "cannot import name 'random_split'",
     "output_type": "error",
     "traceback": [
      "\u001b[0;31m---------------------------------------------------------------------------\u001b[0m",
      "\u001b[0;31mImportError\u001b[0m                               Traceback (most recent call last)",
      "\u001b[0;32m<ipython-input-4-bdcca5c8d810>\u001b[0m in \u001b[0;36m<module>\u001b[0;34m()\u001b[0m\n\u001b[1;32m      1\u001b[0m \u001b[0;32mfrom\u001b[0m \u001b[0mRegard\u001b[0m \u001b[0;32mimport\u001b[0m \u001b[0mML\u001b[0m\u001b[0;34m\u001b[0m\u001b[0m\n\u001b[0;32m----> 2\u001b[0;31m \u001b[0mml\u001b[0m \u001b[0;34m=\u001b[0m \u001b[0mML\u001b[0m\u001b[0;34m(\u001b[0m\u001b[0margs\u001b[0m\u001b[0;34m)\u001b[0m\u001b[0;34m\u001b[0m\u001b[0m\n\u001b[0m\u001b[1;32m      3\u001b[0m \u001b[0;34m\u001b[0m\u001b[0m\n\u001b[1;32m      4\u001b[0m \u001b[0;32mimport\u001b[0m \u001b[0mos\u001b[0m\u001b[0;34m\u001b[0m\u001b[0m\n\u001b[1;32m      5\u001b[0m \u001b[0;32mimport\u001b[0m \u001b[0mtorch\u001b[0m\u001b[0;34m\u001b[0m\u001b[0m\n",
      "\u001b[0;32m~/research/Shared/2018-03-19_StageL3/CatchTheEye/Regard.py\u001b[0m in \u001b[0;36m__init__\u001b[0;34m(self, args)\u001b[0m\n\u001b[1;32m    172\u001b[0m             \u001b[0mtorch\u001b[0m\u001b[0;34m.\u001b[0m\u001b[0mcuda\u001b[0m\u001b[0;34m.\u001b[0m\u001b[0mmanual_seed\u001b[0m\u001b[0;34m(\u001b[0m\u001b[0mself\u001b[0m\u001b[0;34m.\u001b[0m\u001b[0margs\u001b[0m\u001b[0;34m.\u001b[0m\u001b[0mseed\u001b[0m\u001b[0;34m)\u001b[0m\u001b[0;34m\u001b[0m\u001b[0m\n\u001b[1;32m    173\u001b[0m         \u001b[0;31m# DATA\u001b[0m\u001b[0;34m\u001b[0m\u001b[0;34m\u001b[0m\u001b[0m\n\u001b[0;32m--> 174\u001b[0;31m         \u001b[0mself\u001b[0m\u001b[0;34m.\u001b[0m\u001b[0mdataset\u001b[0m \u001b[0;34m=\u001b[0m \u001b[0mData\u001b[0m\u001b[0;34m(\u001b[0m\u001b[0mself\u001b[0m\u001b[0;34m.\u001b[0m\u001b[0margs\u001b[0m\u001b[0;34m)\u001b[0m\u001b[0;34m\u001b[0m\u001b[0m\n\u001b[0m\u001b[1;32m    175\u001b[0m         \u001b[0mself\u001b[0m\u001b[0;34m.\u001b[0m\u001b[0margs\u001b[0m\u001b[0;34m.\u001b[0m\u001b[0mclasses\u001b[0m \u001b[0;34m=\u001b[0m \u001b[0mself\u001b[0m\u001b[0;34m.\u001b[0m\u001b[0mdataset\u001b[0m\u001b[0;34m.\u001b[0m\u001b[0mclasses\u001b[0m\u001b[0;34m\u001b[0m\u001b[0m\n\u001b[1;32m    176\u001b[0m         \u001b[0;31m# MODEL\u001b[0m\u001b[0;34m\u001b[0m\u001b[0;34m\u001b[0m\u001b[0m\n",
      "\u001b[0;32m~/research/Shared/2018-03-19_StageL3/CatchTheEye/Regard.py\u001b[0m in \u001b[0;36m__init__\u001b[0;34m(self, args)\u001b[0m\n\u001b[1;32m     76\u001b[0m         \u001b[0;31m# valid_sampler = SubsetRandomSampler(valid_idx)\u001b[0m\u001b[0;34m\u001b[0m\u001b[0;34m\u001b[0m\u001b[0m\n\u001b[1;32m     77\u001b[0m \u001b[0;34m\u001b[0m\u001b[0m\n\u001b[0;32m---> 78\u001b[0;31m         \u001b[0;32mfrom\u001b[0m \u001b[0mtorch\u001b[0m\u001b[0;34m.\u001b[0m\u001b[0mutils\u001b[0m\u001b[0;34m.\u001b[0m\u001b[0mdata\u001b[0m \u001b[0;32mimport\u001b[0m \u001b[0mrandom_split\u001b[0m\u001b[0;34m\u001b[0m\u001b[0m\n\u001b[0m\u001b[1;32m     79\u001b[0m         \u001b[0mtrain_dataset\u001b[0m\u001b[0;34m,\u001b[0m \u001b[0mtest_dataset\u001b[0m \u001b[0;34m=\u001b[0m \u001b[0mrandom_split\u001b[0m\u001b[0;34m(\u001b[0m\u001b[0mself\u001b[0m\u001b[0;34m.\u001b[0m\u001b[0mdataset\u001b[0m\u001b[0;34m,\u001b[0m \u001b[0;34m[\u001b[0m\u001b[0mnum_train\u001b[0m\u001b[0;34m-\u001b[0m\u001b[0msplit\u001b[0m\u001b[0;34m,\u001b[0m \u001b[0msplit\u001b[0m\u001b[0;34m]\u001b[0m\u001b[0;34m)\u001b[0m\u001b[0;34m\u001b[0m\u001b[0m\n\u001b[1;32m     80\u001b[0m \u001b[0;34m\u001b[0m\u001b[0m\n",
      "\u001b[0;31mImportError\u001b[0m: cannot import name 'random_split'"
     ]
    }
   ],
   "source": [
    "from Regard import ML\n",
    "ml = ML(args)\n",
    "\n",
    "import os\n",
    "import torch\n",
    "ml.model.load_state_dict(torch.load(path))\n",
    "print('Loading file', path)\n",
    "\n"
   ]
  },
  {
   "cell_type": "code",
   "execution_count": null,
   "metadata": {
    "ExecuteTime": {
     "end_time": "2018-06-09T06:51:45.644808Z",
     "start_time": "2018-06-09T06:51:44.551Z"
    }
   },
   "outputs": [],
   "source": [
    "ml.dataset.dataset.classes"
   ]
  },
  {
   "cell_type": "code",
   "execution_count": null,
   "metadata": {},
   "outputs": [],
   "source": []
  },
  {
   "cell_type": "raw",
   "metadata": {},
   "source": [
    "for data, labels in ml.d.train_loader:\n",
    "    # load a batch from train data\n",
    "    break\n",
    "\n",
    "# this converts it from GPU to CPU and selects first image\n",
    "image = data.cpu().numpy()[0]\n",
    "#convert image back to Height,Width,Channels\n",
    "image = np.transpose(image, (1, 2, 0))\n",
    "\n",
    "print('size of input image', image.shape)"
   ]
  },
  {
   "cell_type": "raw",
   "metadata": {},
   "source": [
    "data = torch.from_numpy(np.transpose(image, (2, 0, 1))).double()\n",
    "#data = torch.from_numpy(image)\n",
    "print('size of data image', data.shape)"
   ]
  },
  {
   "cell_type": "raw",
   "metadata": {},
   "source": [
    "type(data[0, 0, 0])"
   ]
  },
  {
   "cell_type": "markdown",
   "metadata": {},
   "source": [
    "    content_image = utils.load_image(args.content_image, scale=args.content_scale)"
   ]
  },
  {
   "cell_type": "markdown",
   "metadata": {},
   "source": [
    "## testing the model"
   ]
  },
  {
   "cell_type": "code",
   "execution_count": null,
   "metadata": {
    "ExecuteTime": {
     "end_time": "2018-06-09T06:51:45.646131Z",
     "start_time": "2018-06-09T06:51:44.644Z"
    }
   },
   "outputs": [],
   "source": [
    "import imageio\n",
    "image = imageio.imread('./dataset/right/2018-03-20_Nicolas_40.png')\n",
    "image = (image-image.min())/(image.max()-image.min()) * 1.\n",
    "image *= args.std\n",
    "image += args.mean\n",
    "print('size of input image', image.shape)"
   ]
  },
  {
   "cell_type": "code",
   "execution_count": null,
   "metadata": {
    "ExecuteTime": {
     "end_time": "2018-06-09T06:51:45.647341Z",
     "start_time": "2018-06-09T06:51:44.646Z"
    }
   },
   "outputs": [],
   "source": [
    "from PIL import Image\n",
    "image = Image.open('./dataset/right/2018-03-20_Nicolas_40.png')\n",
    "print('size of input image', image.height, image.width)"
   ]
  },
  {
   "cell_type": "code",
   "execution_count": null,
   "metadata": {
    "ExecuteTime": {
     "end_time": "2018-06-09T06:51:45.648939Z",
     "start_time": "2018-06-09T06:51:44.649Z"
    }
   },
   "outputs": [],
   "source": [
    "%matplotlib inline\n",
    "import matplotlib.pyplot as plt\n",
    "\n",
    "#show the image\n",
    "plt.imshow(image)\n",
    "plt.show() "
   ]
  },
  {
   "cell_type": "code",
   "execution_count": null,
   "metadata": {
    "ExecuteTime": {
     "end_time": "2018-06-09T06:51:45.650209Z",
     "start_time": "2018-06-09T06:51:44.651Z"
    },
    "inputHidden": false,
    "outputHidden": false,
    "scrolled": false
   },
   "outputs": [],
   "source": [
    "from torchvision import transforms\n",
    "\n",
    "#t = transforms.Normalize(mean=args.mean, std=args.std)\n",
    "t = transforms.Compose([\n",
    "    transforms.CenterCrop(args.crop),\n",
    "    transforms.Resize(args.size),\n",
    "    transforms.ToTensor(),\n",
    "    #transforms.Normalize(mean=self.IMAGENET_MEAN, std=self.IMAGENET_STD),\n",
    "    transforms.Normalize(mean=[args.mean]*3, std=[args.std]*3),\n",
    "    ])\n",
    "\n",
    "\n",
    "data = t(image)\n",
    "data.unsqueeze_(0)\n",
    "\n",
    "print('size of data image', data.shape)\n"
   ]
  },
  {
   "cell_type": "code",
   "execution_count": null,
   "metadata": {
    "ExecuteTime": {
     "end_time": "2018-06-09T06:51:45.651378Z",
     "start_time": "2018-06-09T06:51:44.653Z"
    }
   },
   "outputs": [],
   "source": [
    "output = ml.model(data)#.double())"
   ]
  },
  {
   "cell_type": "code",
   "execution_count": null,
   "metadata": {
    "ExecuteTime": {
     "end_time": "2018-06-09T06:51:45.652666Z",
     "start_time": "2018-06-09T06:51:44.655Z"
    }
   },
   "outputs": [],
   "source": [
    "output\n"
   ]
  },
  {
   "cell_type": "code",
   "execution_count": null,
   "metadata": {
    "ExecuteTime": {
     "end_time": "2018-06-09T06:51:45.654120Z",
     "start_time": "2018-06-09T06:51:44.657Z"
    }
   },
   "outputs": [],
   "source": [
    "def classify(image, t):\n",
    "    data = t(image)\n",
    "    data.unsqueeze_(0)\n",
    "    output = ml.model(data)#.double())\n",
    "    #output = ml.model.forward(image)\n",
    "\n",
    "    pred = output.data.max(1, keepdim=True)[1] # get the index of the max log-probability\n",
    "    return pred\n",
    "\n",
    "import time\n",
    "t0 = time.time()\n",
    "pred = classify(image, t)\n",
    "print('Elapsed time =', (time.time()-t0)*1000, 'ms')\n",
    "print('Prediction =', ml.d.dataset.classes[pred])"
   ]
  },
  {
   "cell_type": "code",
   "execution_count": null,
   "metadata": {
    "ExecuteTime": {
     "end_time": "2018-06-09T06:51:45.655234Z",
     "start_time": "2018-06-09T06:51:44.660Z"
    },
    "inputHidden": false,
    "outputHidden": false
   },
   "outputs": [],
   "source": [
    "import numpy as np\n",
    "data = torch.from_numpy(np.transpose(image, (2, 0, 1)))\n",
    "#data = torch.from_numpy(image)\n",
    "print('size of data image', data.shape)\n"
   ]
  },
  {
   "cell_type": "code",
   "execution_count": null,
   "metadata": {
    "ExecuteTime": {
     "end_time": "2018-06-09T06:51:45.656693Z",
     "start_time": "2018-06-09T06:51:44.662Z"
    }
   },
   "outputs": [],
   "source": [
    "data = torch.randn((3, 243, 243))\n",
    "print('size of data image', data.shape)\n",
    "\n"
   ]
  },
  {
   "cell_type": "code",
   "execution_count": null,
   "metadata": {
    "ExecuteTime": {
     "end_time": "2018-06-09T06:51:45.657963Z",
     "start_time": "2018-06-09T06:51:44.665Z"
    },
    "inputHidden": false,
    "outputHidden": false,
    "scrolled": false
   },
   "outputs": [],
   "source": [
    "#t = transforms.Normalize(mean=args.mean, std=args.std)\n",
    "t = transforms.Compose([\n",
    "    transforms.CenterCrop(args.crop),\n",
    "    transforms.Resize(args.size),\n",
    "    transforms.ToTensor(),\n",
    "    #transforms.Normalize(mean=self.IMAGENET_MEAN, std=self.IMAGENET_STD),\n",
    "    transforms.Normalize(mean=[args.mean]*3, std=[args.std]*3),\n",
    "    ])\n",
    "\n",
    "#data = t(data)\n",
    "#print('size of data image', data.shape)\n"
   ]
  },
  {
   "cell_type": "raw",
   "metadata": {},
   "source": [
    "image = np.array(image)"
   ]
  },
  {
   "cell_type": "raw",
   "metadata": {},
   "source": [
    "help(image)"
   ]
  },
  {
   "cell_type": "raw",
   "metadata": {},
   "source": [
    "help(t)"
   ]
  },
  {
   "cell_type": "raw",
   "metadata": {
    "inputHidden": false,
    "outputHidden": false
   },
   "source": [
    "import time\n",
    "t0 = time.time()\n",
    "#output = ml.model(t(data).unsqueeze_(0))\n",
    "output = ml.model(data.double())\n",
    "pred = output.data.max(1, keepdim=True)[1] # get the index of the max log-probability\n",
    "print('Elapsed time =', (time.time()-t0)*1000, 'ms')\n",
    "print('Prediction =', ml.d.dataset.classes[pred])"
   ]
  },
  {
   "cell_type": "raw",
   "metadata": {
    "inputHidden": false,
    "outputHidden": false
   },
   "source": [
    "image = imageio.imread('./dataset/right/2018-03-20_Nicolas_40.png')\n",
    "t = transforms.Normalize(mean=[args.mean]*3, std=[args.std]*3)\n",
    "\n",
    "def classify(image):\n",
    "    data = torch.from_numpy(image)\n",
    "    output = ml.model(t(data).unsqueeze_(0))\n",
    "    pred = output.data.max(1, keepdim=True)[1] # get the index of the max log-probability\n",
    "    return pred\n",
    "\n",
    "t0 = time.time()\n",
    "classify(image)\n",
    "print('Elapsed time =', (time.time()-t0)*1000, 'ms')\n",
    "print('Prediction =', ml.d.dataset.classes[pred])"
   ]
  },
  {
   "cell_type": "markdown",
   "metadata": {
    "inputHidden": false,
    "outputHidden": false
   },
   "source": [
    "# dynamical test"
   ]
  },
  {
   "cell_type": "code",
   "execution_count": null,
   "metadata": {
    "ExecuteTime": {
     "end_time": "2018-06-09T06:51:45.659089Z",
     "start_time": "2018-06-09T06:51:44.806Z"
    },
    "scrolled": false
   },
   "outputs": [],
   "source": [
    "from .EyeTrackerServer import Server\n",
    "#from LeCheapEyeTracker.EyeTrackerClient import Client\n",
    "\n",
    "def classify(image, t):\n",
    "    image = Image.fromarray(image.astype('uint8'), 'RGB')\n",
    "    data = t(image)\n",
    "    data.unsqueeze_(0)\n",
    "    output = ml.model(data)#.double())\n",
    "    #output = ml.model.forward(image)\n",
    "\n",
    "    pred = output.data.max(1, keepdim=True)[1] # get the index of the max log-probability\n",
    "    return pred\n",
    "\n",
    "\n",
    "\n",
    "def dyn_test(N_frame=64, startup_time=1., interframe_time=0., waiting_time=.0, display=False):\n",
    "    try:\n",
    "        import time\n",
    "        time.sleep(startup_time)\n",
    "        et = Server()\n",
    "        print ('Time', et.clock())\n",
    "        img0 = et.cam.grab()\n",
    "        img_face, res, t0 = et.process_frame(img0, et.clock())\n",
    "        H, W, three = img_face.shape\n",
    "        \n",
    "        for i in range(N_frame):            \n",
    "            # presentation of stimulus\n",
    "            time.sleep(interframe_time)\n",
    "\n",
    "            t0 = time.time()\n",
    "            try:\n",
    "\n",
    "                frame = et.cam.grab()\n",
    "                img_face, res, t0_ = et.process_frame(frame, et.clock())\n",
    "                img_face = img_face[:, :, ::-1]\n",
    "\n",
    "                pred = classify(img_face, t)\n",
    "                if display:\n",
    "                    plt.imshow(img_face)\n",
    "                    plt.show() \n",
    "                print('Prediction =', ml.d.dataset.classes[pred])\n",
    "                print('Elapsed time =', '%0.3f' % ((time.time()-t0)*1000), 'ms')\n",
    "            except:\n",
    "                pass\n",
    "            time.sleep(waiting_time)\n",
    "            \n",
    "    finally:\n",
    "        et.close()\n",
    "        \n",
    "dyn_test(display=True)        "
   ]
  }
 ],
 "metadata": {
  "kernel_info": {
   "name": "python3"
  },
  "kernelspec": {
   "display_name": "Python 3",
   "language": "python",
   "name": "python3"
  },
  "language_info": {
   "codemirror_mode": {
    "name": "ipython",
    "version": 3
   },
   "file_extension": ".py",
   "mimetype": "text/x-python",
   "name": "python",
   "nbconvert_exporter": "python",
   "pygments_lexer": "ipython3",
   "version": "3.6.5"
  },
  "nteract": {
   "version": "0.8.4"
  },
  "toc": {
   "base_numbering": 1,
   "nav_menu": {},
   "number_sections": true,
   "sideBar": true,
   "skip_h1_title": false,
   "title_cell": "Table of Contents",
   "title_sidebar": "Contents",
   "toc_cell": false,
   "toc_position": {},
   "toc_section_display": "block",
   "toc_window_display": false
  }
 },
 "nbformat": 4,
 "nbformat_minor": 2
}
