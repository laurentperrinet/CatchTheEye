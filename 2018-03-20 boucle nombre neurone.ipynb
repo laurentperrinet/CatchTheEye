{
 "cells": [
  {
   "cell_type": "markdown",
   "metadata": {},
   "source": [
    "# En utilisant une boucle"
   ]
  },
  {
   "cell_type": "code",
   "execution_count": 1,
   "metadata": {
    "ExecuteTime": {
     "end_time": "2018-05-25T10:01:33.124669Z",
     "start_time": "2018-05-25T10:01:33.037860Z"
    }
   },
   "outputs": [
    {
     "name": "stdout",
     "output_type": "stream",
     "text": [
      "scanning over dimensions [4, 10, 21, 46, 100, 215, 464]\n"
     ]
    }
   ],
   "source": [
    "import numpy as np \n",
    "rho = 10**(1/3.)\n",
    "dimensions = [int(k) for k in rho**np.arange(2, 9)]\n",
    "print('scanning over dimensions', dimensions)"
   ]
  },
  {
   "cell_type": "code",
   "execution_count": 2,
   "metadata": {
    "ExecuteTime": {
     "end_time": "2018-05-25T10:01:33.132147Z",
     "start_time": "2018-05-25T10:01:33.127591Z"
    }
   },
   "outputs": [
    {
     "name": "stdout",
     "output_type": "stream",
     "text": [
      "Overwriting scan.py\n"
     ]
    }
   ],
   "source": [
    "%%writefile scan.py\n",
    "import numpy as np \n",
    "rho = 10**(1/3.)\n",
    "dimensions = [int(k) for k in rho**np.arange(2, 9)]\n",
    "print('scanning over dimensions', dimensions)\n",
    "\n",
    "from mnist import init, ML\n",
    "results = []\n",
    "for dimension in dimensions:\n",
    "    args = init(dimension=dimension, log_interval=0)\n",
    "    ml = ML(args)\n",
    "    print ('La deuxième couche de neurone comporte', dimension, 'neurones')\n",
    "    ml.main()\n",
    "    Accuracy = ml.protocol()\n",
    "    results.append(Accuracy)\n",
    "    "
   ]
  },
  {
   "cell_type": "code",
   "execution_count": null,
   "metadata": {
    "ExecuteTime": {
     "start_time": "2018-05-25T10:01:33.021Z"
    }
   },
   "outputs": [
    {
     "name": "stdout",
     "output_type": "stream",
     "text": [
      "scanning over dimensions [4, 10, 21, 46, 100, 215, 464]\n",
      "La deuxième couche de neurone comporte 4 neurones\n"
     ]
    }
   ],
   "source": [
    "%run scan.py"
   ]
  },
  {
   "cell_type": "code",
   "execution_count": null,
   "metadata": {},
   "outputs": [],
   "source": [
    "results"
   ]
  },
  {
   "cell_type": "markdown",
   "metadata": {
    "scrolled": true
   },
   "source": [
    "# Test avec différents nombre de neurones de la seconde couche du réseau"
   ]
  },
  {
   "cell_type": "code",
   "execution_count": null,
   "metadata": {
    "ExecuteTime": {
     "start_time": "2018-05-25T10:01:33.022Z"
    },
    "scrolled": true
   },
   "outputs": [],
   "source": [
    "%run mnist.py --log-interval 0 --verbose --dimension 20"
   ]
  },
  {
   "cell_type": "code",
   "execution_count": null,
   "metadata": {
    "ExecuteTime": {
     "start_time": "2018-05-25T10:01:33.023Z"
    },
    "scrolled": true
   },
   "outputs": [],
   "source": [
    "%run mnist.py --log-interval 0 --dimension 50"
   ]
  },
  {
   "cell_type": "code",
   "execution_count": null,
   "metadata": {
    "ExecuteTime": {
     "start_time": "2018-05-25T10:01:33.024Z"
    },
    "scrolled": true
   },
   "outputs": [],
   "source": [
    "%run mnist.py --log-interval 0 --dimension 100"
   ]
  },
  {
   "cell_type": "code",
   "execution_count": null,
   "metadata": {
    "ExecuteTime": {
     "start_time": "2018-05-25T10:01:33.026Z"
    },
    "scrolled": false
   },
   "outputs": [],
   "source": [
    "%run mnist.py --log-interval 0 --dimension 200"
   ]
  },
  {
   "cell_type": "code",
   "execution_count": null,
   "metadata": {
    "ExecuteTime": {
     "start_time": "2018-05-25T10:01:33.027Z"
    },
    "scrolled": false
   },
   "outputs": [],
   "source": [
    "%run mnist.py --log-interval 0 --dimension 500"
   ]
  },
  {
   "cell_type": "code",
   "execution_count": null,
   "metadata": {},
   "outputs": [],
   "source": []
  }
 ],
 "metadata": {
  "kernelspec": {
   "display_name": "Python 3",
   "language": "python",
   "name": "python3"
  },
  "language_info": {
   "codemirror_mode": {
    "name": "ipython",
    "version": 3
   },
   "file_extension": ".py",
   "mimetype": "text/x-python",
   "name": "python",
   "nbconvert_exporter": "python",
   "pygments_lexer": "ipython3",
   "version": "3.6.5"
  },
  "toc": {
   "base_numbering": 1,
   "nav_menu": {},
   "number_sections": true,
   "sideBar": true,
   "skip_h1_title": false,
   "title_cell": "Table of Contents",
   "title_sidebar": "Contents",
   "toc_cell": false,
   "toc_position": {},
   "toc_section_display": true,
   "toc_window_display": false
  }
 },
 "nbformat": 4,
 "nbformat_minor": 2
}
