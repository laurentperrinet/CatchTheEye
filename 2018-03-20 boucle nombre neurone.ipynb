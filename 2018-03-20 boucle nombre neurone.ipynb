{
 "cells": [
  {
   "cell_type": "code",
   "execution_count": 1,
   "metadata": {
    "ExecuteTime": {
     "end_time": "2018-05-25T14:47:57.199192Z",
     "start_time": "2018-05-25T14:47:57.187178Z"
    }
   },
   "outputs": [],
   "source": [
    "%load_ext autoreload\n",
    "%autoreload 2"
   ]
  },
  {
   "cell_type": "markdown",
   "metadata": {},
   "source": [
    "# En utilisant une boucle"
   ]
  },
  {
   "cell_type": "code",
   "execution_count": 2,
   "metadata": {
    "ExecuteTime": {
     "end_time": "2018-05-25T14:47:57.304936Z",
     "start_time": "2018-05-25T14:47:57.201195Z"
    }
   },
   "outputs": [
    {
     "name": "stdout",
     "output_type": "stream",
     "text": [
      "scanning over dimensions [4, 10, 21, 46, 100, 215, 464]\n"
     ]
    }
   ],
   "source": [
    "import numpy as np \n",
    "rho = 10**(1/3.)\n",
    "dimensions = [int(k) for k in rho**np.arange(2, 9)]\n",
    "print('scanning over dimensions', dimensions)"
   ]
  },
  {
   "cell_type": "code",
   "execution_count": 3,
   "metadata": {
    "ExecuteTime": {
     "end_time": "2018-05-25T22:20:33.792395Z",
     "start_time": "2018-05-25T14:47:57.307143Z"
    }
   },
   "outputs": [
    {
     "name": "stdout",
     "output_type": "stream",
     "text": [
      "scanning over dimensions [4, 10, 21, 46, 100, 215, 464]\n",
      "La deuxième couche de neurone comporte 4 neurones\n",
      "Test set: Final Accuracy: 95.160%\n",
      "La deuxième couche de neurone comporte 10 neurones\n",
      "Test set: Final Accuracy: 97.980%\n",
      "La deuxième couche de neurone comporte 21 neurones\n",
      "Test set: Final Accuracy: 98.910%\n",
      "La deuxième couche de neurone comporte 46 neurones\n",
      "Test set: Final Accuracy: 99.070%\n",
      "La deuxième couche de neurone comporte 100 neurones\n",
      "Test set: Final Accuracy: 99.230%\n",
      "La deuxième couche de neurone comporte 215 neurones\n",
      "Test set: Final Accuracy: 99.240%\n",
      "La deuxième couche de neurone comporte 464 neurones\n",
      "Test set: Final Accuracy: 99.340%\n"
     ]
    }
   ],
   "source": [
    "import numpy as np \n",
    "rho = 10**(1/3.)\n",
    "dimensions = [int(k) for k in rho**np.arange(2, 9)]\n",
    "print('scanning over dimensions', dimensions)\n",
    "\n",
    "from mnist import init, ML\n",
    "results = []\n",
    "for dimension in dimensions:\n",
    "    args = init(dimension=dimension, log_interval=0)\n",
    "    ml = ML(args)\n",
    "    print ('La deuxième couche de neurone comporte', dimension, 'neurones')\n",
    "    ml.main()\n",
    "    Accuracy = ml.protocol()\n",
    "    results.append(Accuracy)\n",
    "    "
   ]
  },
  {
   "cell_type": "code",
   "execution_count": 4,
   "metadata": {
    "ExecuteTime": {
     "end_time": "2018-05-25T22:20:33.834987Z",
     "start_time": "2018-05-25T22:20:33.794178Z"
    }
   },
   "outputs": [
    {
     "data": {
      "text/plain": [
       "[0.9563, 0.9806, 0.9888, 0.9913, 0.9929, 0.9924, 0.9937]"
      ]
     },
     "execution_count": 4,
     "metadata": {},
     "output_type": "execute_result"
    }
   ],
   "source": [
    "results"
   ]
  },
  {
   "cell_type": "code",
   "execution_count": 5,
   "metadata": {
    "ExecuteTime": {
     "end_time": "2018-05-25T22:20:33.942209Z",
     "start_time": "2018-05-25T22:20:33.836956Z"
    }
   },
   "outputs": [
    {
     "ename": "NameError",
     "evalue": "name 'toto' is not defined",
     "output_type": "error",
     "traceback": [
      "\u001b[0;31m---------------------------------------------------------------------------\u001b[0m",
      "\u001b[0;31mNameError\u001b[0m                                 Traceback (most recent call last)",
      "\u001b[0;32m<ipython-input-5-e6e8ea7465f1>\u001b[0m in \u001b[0;36m<module>\u001b[0;34m()\u001b[0m\n\u001b[0;32m----> 1\u001b[0;31m \u001b[0mtoto\u001b[0m\u001b[0;34m\u001b[0m\u001b[0m\n\u001b[0m",
      "\u001b[0;31mNameError\u001b[0m: name 'toto' is not defined"
     ]
    }
   ],
   "source": [
    "toto"
   ]
  },
  {
   "cell_type": "markdown",
   "metadata": {
    "scrolled": true
   },
   "source": [
    "# Test avec différents nombre de neurones de la seconde couche du réseau"
   ]
  },
  {
   "cell_type": "code",
   "execution_count": null,
   "metadata": {
    "ExecuteTime": {
     "end_time": "2018-05-25T22:20:33.942877Z",
     "start_time": "2018-05-25T14:47:57.179Z"
    },
    "scrolled": true
   },
   "outputs": [],
   "source": [
    "%run mnist.py --log-interval 0 --verbose --dimension 20"
   ]
  },
  {
   "cell_type": "code",
   "execution_count": null,
   "metadata": {
    "ExecuteTime": {
     "end_time": "2018-05-25T22:20:33.944437Z",
     "start_time": "2018-05-25T14:47:57.180Z"
    },
    "scrolled": true
   },
   "outputs": [],
   "source": [
    "%run mnist.py --log-interval 0 --dimension 50"
   ]
  },
  {
   "cell_type": "code",
   "execution_count": null,
   "metadata": {
    "ExecuteTime": {
     "end_time": "2018-05-25T22:20:33.945424Z",
     "start_time": "2018-05-25T14:47:57.181Z"
    },
    "scrolled": true
   },
   "outputs": [],
   "source": [
    "%run mnist.py --log-interval 0 --dimension 100"
   ]
  },
  {
   "cell_type": "code",
   "execution_count": null,
   "metadata": {
    "ExecuteTime": {
     "end_time": "2018-05-25T22:20:33.946480Z",
     "start_time": "2018-05-25T14:47:57.182Z"
    },
    "scrolled": false
   },
   "outputs": [],
   "source": [
    "%run mnist.py --log-interval 0 --dimension 200"
   ]
  },
  {
   "cell_type": "code",
   "execution_count": null,
   "metadata": {
    "ExecuteTime": {
     "end_time": "2018-05-25T22:20:33.947323Z",
     "start_time": "2018-05-25T14:47:57.183Z"
    },
    "scrolled": false
   },
   "outputs": [],
   "source": [
    "%run mnist.py --log-interval 0 --dimension 500"
   ]
  }
 ],
 "metadata": {
  "kernelspec": {
   "display_name": "Python 3",
   "language": "python",
   "name": "python3"
  },
  "language_info": {
   "codemirror_mode": {
    "name": "ipython",
    "version": 3
   },
   "file_extension": ".py",
   "mimetype": "text/x-python",
   "name": "python",
   "nbconvert_exporter": "python",
   "pygments_lexer": "ipython3",
   "version": "3.6.5"
  },
  "toc": {
   "base_numbering": 1,
   "nav_menu": {},
   "number_sections": true,
   "sideBar": true,
   "skip_h1_title": false,
   "title_cell": "Table of Contents",
   "title_sidebar": "Contents",
   "toc_cell": false,
   "toc_position": {},
   "toc_section_display": true,
   "toc_window_display": false
  }
 },
 "nbformat": 4,
 "nbformat_minor": 2
}
