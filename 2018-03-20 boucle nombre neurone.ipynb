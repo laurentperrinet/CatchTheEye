{
 "cells": [
  {
   "cell_type": "markdown",
   "metadata": {
    "scrolled": true
   },
   "source": [
    "# Test avec différents nombre de neurones de la seconde couche du réseau"
   ]
  },
  {
   "cell_type": "code",
   "execution_count": 1,
   "metadata": {
    "ExecuteTime": {
     "end_time": "2018-05-25T08:09:13.851840Z",
     "start_time": "2018-05-25T08:05:51.178910Z"
    },
    "scrolled": true
   },
   "outputs": [
    {
     "name": "stdout",
     "output_type": "stream",
     "text": [
      "cuda? False\n"
     ]
    },
    {
     "name": "stderr",
     "output_type": "stream",
     "text": [
      "/Users/laurentperrinet/research/Shared/2018-03-19_StageL3/CatchTheEye/mnist.py:94: UserWarning: invalid index of a 0-dim tensor. This will be an error in PyTorch 0.5. Use tensor.item() to convert a 0-dim tensor to a Python number\n",
      "  test_loss += F.nll_loss(output, target, size_average=False).data[0] # sum up batch loss\n"
     ]
    },
    {
     "name": "stdout",
     "output_type": "stream",
     "text": [
      "correct 9807\n",
      "Accuracy 0.9807\n",
      "Test set: Final Accuracy: 98.070%\n"
     ]
    }
   ],
   "source": [
    "%run mnist.py --log-interval 0 --dimension 20"
   ]
  },
  {
   "cell_type": "code",
   "execution_count": 2,
   "metadata": {
    "ExecuteTime": {
     "end_time": "2018-05-25T08:12:36.840839Z",
     "start_time": "2018-05-25T08:09:13.854199Z"
    },
    "scrolled": true
   },
   "outputs": [
    {
     "name": "stdout",
     "output_type": "stream",
     "text": [
      "cuda? False\n"
     ]
    },
    {
     "name": "stderr",
     "output_type": "stream",
     "text": [
      "/Users/laurentperrinet/research/Shared/2018-03-19_StageL3/CatchTheEye/mnist.py:94: UserWarning: invalid index of a 0-dim tensor. This will be an error in PyTorch 0.5. Use tensor.item() to convert a 0-dim tensor to a Python number\n",
      "  test_loss += F.nll_loss(output, target, size_average=False).data[0] # sum up batch loss\n"
     ]
    },
    {
     "name": "stdout",
     "output_type": "stream",
     "text": [
      "correct 9853\n",
      "Accuracy 0.9853\n",
      "Test set: Final Accuracy: 98.530%\n"
     ]
    }
   ],
   "source": [
    "%run mnist.py --log-interval 0 --dimension 50"
   ]
  },
  {
   "cell_type": "code",
   "execution_count": 3,
   "metadata": {
    "ExecuteTime": {
     "end_time": "2018-05-25T08:15:51.479712Z",
     "start_time": "2018-05-25T08:12:36.843538Z"
    },
    "scrolled": true
   },
   "outputs": [
    {
     "name": "stdout",
     "output_type": "stream",
     "text": [
      "cuda? False\n"
     ]
    },
    {
     "name": "stderr",
     "output_type": "stream",
     "text": [
      "/Users/laurentperrinet/research/Shared/2018-03-19_StageL3/CatchTheEye/mnist.py:94: UserWarning: invalid index of a 0-dim tensor. This will be an error in PyTorch 0.5. Use tensor.item() to convert a 0-dim tensor to a Python number\n",
      "  test_loss += F.nll_loss(output, target, size_average=False).data[0] # sum up batch loss\n"
     ]
    },
    {
     "name": "stdout",
     "output_type": "stream",
     "text": [
      "correct 9864\n",
      "Accuracy 0.9864\n",
      "Test set: Final Accuracy: 98.640%\n"
     ]
    }
   ],
   "source": [
    "%run mnist.py --log-interval 0 --dimension 100"
   ]
  },
  {
   "cell_type": "code",
   "execution_count": null,
   "metadata": {
    "ExecuteTime": {
     "start_time": "2018-05-25T08:05:51.164Z"
    },
    "scrolled": false
   },
   "outputs": [
    {
     "name": "stdout",
     "output_type": "stream",
     "text": [
      "cuda? False\n"
     ]
    }
   ],
   "source": [
    "%run mnist.py --log-interval 0 --dimension 200"
   ]
  },
  {
   "cell_type": "code",
   "execution_count": null,
   "metadata": {
    "ExecuteTime": {
     "start_time": "2018-05-25T08:05:51.165Z"
    },
    "scrolled": false
   },
   "outputs": [],
   "source": [
    "%run mnist.py --log-interval 0 --dimension 500"
   ]
  },
  {
   "cell_type": "markdown",
   "metadata": {},
   "source": [
    "# En utilisant une boucle"
   ]
  },
  {
   "cell_type": "code",
   "execution_count": null,
   "metadata": {
    "ExecuteTime": {
     "start_time": "2018-05-25T08:05:51.167Z"
    }
   },
   "outputs": [],
   "source": [
    "import numpy as np \n",
    "rho = 10**(1/3.)\n",
    "dimensions = [int(k) for k in rho**np.arange(2, 9)]\n",
    "print('scanning over dimensions', dimensions)"
   ]
  },
  {
   "cell_type": "code",
   "execution_count": null,
   "metadata": {
    "ExecuteTime": {
     "start_time": "2018-05-25T08:05:51.168Z"
    }
   },
   "outputs": [],
   "source": [
    "from mnist import init, ML\n",
    "for dimension in dimensions:\n",
    "    args = init(dimension=dimension)\n",
    "    ml = ML(args)\n",
    "    print ('La deuxième couche de neurone comporte', dimension, 'neurones')\n",
    "    ml.main()"
   ]
  }
 ],
 "metadata": {
  "kernelspec": {
   "display_name": "Python 3",
   "language": "python",
   "name": "python3"
  },
  "language_info": {
   "codemirror_mode": {
    "name": "ipython",
    "version": 3
   },
   "file_extension": ".py",
   "mimetype": "text/x-python",
   "name": "python",
   "nbconvert_exporter": "python",
   "pygments_lexer": "ipython3",
   "version": "3.6.5"
  },
  "toc": {
   "base_numbering": 1,
   "nav_menu": {},
   "number_sections": true,
   "sideBar": true,
   "skip_h1_title": false,
   "title_cell": "Table of Contents",
   "title_sidebar": "Contents",
   "toc_cell": false,
   "toc_position": {},
   "toc_section_display": true,
   "toc_window_display": false
  }
 },
 "nbformat": 4,
 "nbformat_minor": 2
}
