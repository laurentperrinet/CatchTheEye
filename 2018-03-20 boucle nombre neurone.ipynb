{
 "cells": [
  {
   "cell_type": "markdown",
   "metadata": {
    "scrolled": true
   },
   "source": [
    "# Test avec différents nombre de neurones de la seconde couche du réseau"
   ]
  },
  {
   "cell_type": "code",
   "execution_count": 1,
   "metadata": {
    "ExecuteTime": {
     "end_time": "2018-05-24T14:13:19.052401Z",
     "start_time": "2018-05-24T14:09:46.642432Z"
    },
    "scrolled": true
   },
   "outputs": [
    {
     "name": "stdout",
     "output_type": "stream",
     "text": [
      "cuda? False\n"
     ]
    },
    {
     "name": "stderr",
     "output_type": "stream",
     "text": [
      "/Users/laurentperrinet/research/Shared/2018-03-19_StageL3/CatchTheEye/mnist.py:107: UserWarning: volatile was removed and now has no effect. Use `with torch.no_grad():` instead.\n",
      "  data, target = Variable(data, volatile=True), Variable(target)\n",
      "/Users/laurentperrinet/research/Shared/2018-03-19_StageL3/CatchTheEye/mnist.py:109: UserWarning: invalid index of a 0-dim tensor. This will be an error in PyTorch 0.5. Use tensor.item() to convert a 0-dim tensor to a Python number\n",
      "  test_loss += F.nll_loss(output, target, size_average=False).data[0] # sum up batch loss\n"
     ]
    },
    {
     "name": "stdout",
     "output_type": "stream",
     "text": [
      "Test set: Final Accuracy: 0.000%\n",
      "Le programme a mis 212.05449867248535 secondes à s'exécuter.\n"
     ]
    }
   ],
   "source": [
    "%run mnist.py --log-interval 0 --dimension 20"
   ]
  },
  {
   "cell_type": "code",
   "execution_count": 2,
   "metadata": {
    "ExecuteTime": {
     "end_time": "2018-05-24T14:16:23.401918Z",
     "start_time": "2018-05-24T14:13:19.054746Z"
    },
    "scrolled": true
   },
   "outputs": [
    {
     "name": "stdout",
     "output_type": "stream",
     "text": [
      "cuda? False\n"
     ]
    },
    {
     "name": "stderr",
     "output_type": "stream",
     "text": [
      "/Users/laurentperrinet/research/Shared/2018-03-19_StageL3/CatchTheEye/mnist.py:107: UserWarning: volatile was removed and now has no effect. Use `with torch.no_grad():` instead.\n",
      "  data, target = Variable(data, volatile=True), Variable(target)\n",
      "/Users/laurentperrinet/research/Shared/2018-03-19_StageL3/CatchTheEye/mnist.py:109: UserWarning: invalid index of a 0-dim tensor. This will be an error in PyTorch 0.5. Use tensor.item() to convert a 0-dim tensor to a Python number\n",
      "  test_loss += F.nll_loss(output, target, size_average=False).data[0] # sum up batch loss\n"
     ]
    },
    {
     "name": "stdout",
     "output_type": "stream",
     "text": [
      "Test set: Final Accuracy: 0.000%\n",
      "Le programme a mis 184.31247520446777 secondes à s'exécuter.\n"
     ]
    }
   ],
   "source": [
    "%run mnist.py --log-interval 0 --dimension 50"
   ]
  },
  {
   "cell_type": "code",
   "execution_count": 3,
   "metadata": {
    "ExecuteTime": {
     "end_time": "2018-05-24T14:19:28.087735Z",
     "start_time": "2018-05-24T14:16:23.404005Z"
    },
    "scrolled": true
   },
   "outputs": [
    {
     "name": "stdout",
     "output_type": "stream",
     "text": [
      "cuda? False\n"
     ]
    },
    {
     "name": "stderr",
     "output_type": "stream",
     "text": [
      "/Users/laurentperrinet/research/Shared/2018-03-19_StageL3/CatchTheEye/mnist.py:107: UserWarning: volatile was removed and now has no effect. Use `with torch.no_grad():` instead.\n",
      "  data, target = Variable(data, volatile=True), Variable(target)\n",
      "/Users/laurentperrinet/research/Shared/2018-03-19_StageL3/CatchTheEye/mnist.py:109: UserWarning: invalid index of a 0-dim tensor. This will be an error in PyTorch 0.5. Use tensor.item() to convert a 0-dim tensor to a Python number\n",
      "  test_loss += F.nll_loss(output, target, size_average=False).data[0] # sum up batch loss\n"
     ]
    },
    {
     "name": "stdout",
     "output_type": "stream",
     "text": [
      "Test set: Final Accuracy: 0.000%\n",
      "Le programme a mis 184.6513569355011 secondes à s'exécuter.\n"
     ]
    }
   ],
   "source": [
    "%run mnist.py --log-interval 0 --dimension 100"
   ]
  },
  {
   "cell_type": "code",
   "execution_count": 4,
   "metadata": {
    "ExecuteTime": {
     "end_time": "2018-05-24T14:22:30.586762Z",
     "start_time": "2018-05-24T14:19:28.089708Z"
    },
    "scrolled": false
   },
   "outputs": [
    {
     "name": "stdout",
     "output_type": "stream",
     "text": [
      "cuda? False\n"
     ]
    },
    {
     "name": "stderr",
     "output_type": "stream",
     "text": [
      "/Users/laurentperrinet/research/Shared/2018-03-19_StageL3/CatchTheEye/mnist.py:107: UserWarning: volatile was removed and now has no effect. Use `with torch.no_grad():` instead.\n",
      "  data, target = Variable(data, volatile=True), Variable(target)\n",
      "/Users/laurentperrinet/research/Shared/2018-03-19_StageL3/CatchTheEye/mnist.py:109: UserWarning: invalid index of a 0-dim tensor. This will be an error in PyTorch 0.5. Use tensor.item() to convert a 0-dim tensor to a Python number\n",
      "  test_loss += F.nll_loss(output, target, size_average=False).data[0] # sum up batch loss\n"
     ]
    },
    {
     "name": "stdout",
     "output_type": "stream",
     "text": [
      "Test set: Final Accuracy: 0.000%\n",
      "Le programme a mis 182.4623122215271 secondes à s'exécuter.\n"
     ]
    }
   ],
   "source": [
    "%run mnist.py --log-interval 0 --dimension 200"
   ]
  },
  {
   "cell_type": "code",
   "execution_count": 5,
   "metadata": {
    "ExecuteTime": {
     "end_time": "2018-05-24T14:25:44.091354Z",
     "start_time": "2018-05-24T14:22:30.588664Z"
    },
    "scrolled": false
   },
   "outputs": [
    {
     "name": "stdout",
     "output_type": "stream",
     "text": [
      "cuda? False\n"
     ]
    },
    {
     "name": "stderr",
     "output_type": "stream",
     "text": [
      "/Users/laurentperrinet/research/Shared/2018-03-19_StageL3/CatchTheEye/mnist.py:107: UserWarning: volatile was removed and now has no effect. Use `with torch.no_grad():` instead.\n",
      "  data, target = Variable(data, volatile=True), Variable(target)\n",
      "/Users/laurentperrinet/research/Shared/2018-03-19_StageL3/CatchTheEye/mnist.py:109: UserWarning: invalid index of a 0-dim tensor. This will be an error in PyTorch 0.5. Use tensor.item() to convert a 0-dim tensor to a Python number\n",
      "  test_loss += F.nll_loss(output, target, size_average=False).data[0] # sum up batch loss\n"
     ]
    },
    {
     "name": "stdout",
     "output_type": "stream",
     "text": [
      "Test set: Final Accuracy: 0.000%\n",
      "Le programme a mis 193.46603393554688 secondes à s'exécuter.\n"
     ]
    }
   ],
   "source": [
    "%run mnist.py --log-interval 0 --dimension 500"
   ]
  },
  {
   "cell_type": "markdown",
   "metadata": {},
   "source": [
    "# En utilisant une boucle"
   ]
  },
  {
   "cell_type": "code",
   "execution_count": 6,
   "metadata": {
    "ExecuteTime": {
     "end_time": "2018-05-24T14:25:44.101748Z",
     "start_time": "2018-05-24T14:25:44.093336Z"
    }
   },
   "outputs": [
    {
     "data": {
      "text/plain": [
       "[4, 10, 21, 46, 100, 215, 464]"
      ]
     },
     "execution_count": 6,
     "metadata": {},
     "output_type": "execute_result"
    }
   ],
   "source": [
    "import numpy as np \n",
    "rho = 10**(1/3.)\n",
    "[int(k) for k in rho**np.arange(2, 9)]"
   ]
  },
  {
   "cell_type": "code",
   "execution_count": null,
   "metadata": {},
   "outputs": [],
   "source": [
    "        rho = 10**(1/3)\n",
    "        for i in [int (k) for k in rho**np.arange(2,9)]:\n",
    "            args.dimension=i\n",
    "            ml = ML(args)\n",
    "            print ('La deuxième couche de neurone comporte', i, 'neurones')\n",
    "            ml.main()"
   ]
  },
  {
   "cell_type": "code",
   "execution_count": 7,
   "metadata": {
    "ExecuteTime": {
     "end_time": "2018-05-24T14:46:30.263512Z",
     "start_time": "2018-05-24T14:25:44.103624Z"
    },
    "scrolled": true
   },
   "outputs": [
    {
     "name": "stdout",
     "output_type": "stream",
     "text": [
      "cuda? False\n",
      "La deuxième couche de neurone comporte 4 neurones\n"
     ]
    },
    {
     "name": "stderr",
     "output_type": "stream",
     "text": [
      "/Users/laurentperrinet/research/Shared/2018-03-19_StageL3/CatchTheEye/mnist.py:107: UserWarning: volatile was removed and now has no effect. Use `with torch.no_grad():` instead.\n",
      "  data, target = Variable(data, volatile=True), Variable(target)\n",
      "/Users/laurentperrinet/research/Shared/2018-03-19_StageL3/CatchTheEye/mnist.py:109: UserWarning: invalid index of a 0-dim tensor. This will be an error in PyTorch 0.5. Use tensor.item() to convert a 0-dim tensor to a Python number\n",
      "  test_loss += F.nll_loss(output, target, size_average=False).data[0] # sum up batch loss\n"
     ]
    },
    {
     "name": "stdout",
     "output_type": "stream",
     "text": [
      "Test set: Final Accuracy: 0.000%\n",
      "La deuxième couche de neurone comporte 10 neurones\n",
      "Test set: Final Accuracy: 0.000%\n",
      "La deuxième couche de neurone comporte 21 neurones\n",
      "Test set: Final Accuracy: 0.000%\n",
      "La deuxième couche de neurone comporte 46 neurones\n",
      "Test set: Final Accuracy: 0.000%\n",
      "La deuxième couche de neurone comporte 100 neurones\n",
      "Test set: Final Accuracy: 0.000%\n",
      "La deuxième couche de neurone comporte 215 neurones\n",
      "Test set: Final Accuracy: 0.000%\n",
      "La deuxième couche de neurone comporte 464 neurones\n",
      "Test set: Final Accuracy: 0.000%\n"
     ]
    }
   ],
   "source": [
    "%run mnist.py --log-interval 0 --epochs 10 --boucle 1"
   ]
  }
 ],
 "metadata": {
  "kernelspec": {
   "display_name": "Python 3",
   "language": "python",
   "name": "python3"
  },
  "language_info": {
   "codemirror_mode": {
    "name": "ipython",
    "version": 3
   },
   "file_extension": ".py",
   "mimetype": "text/x-python",
   "name": "python",
   "nbconvert_exporter": "python",
   "pygments_lexer": "ipython3",
   "version": "3.6.5"
  },
  "toc": {
   "base_numbering": 1,
   "nav_menu": {},
   "number_sections": true,
   "sideBar": true,
   "skip_h1_title": false,
   "title_cell": "Table of Contents",
   "title_sidebar": "Contents",
   "toc_cell": false,
   "toc_position": {},
   "toc_section_display": true,
   "toc_window_display": false
  }
 },
 "nbformat": 4,
 "nbformat_minor": 2
}
